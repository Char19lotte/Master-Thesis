{
 "cells": [
  {
   "cell_type": "markdown",
   "metadata": {},
   "source": [
    "### *Data Collection - European Parliament*\n",
    "## Preparing Raw Data\n",
    "---\n",
    "**Sample Text 15**\n",
    "Title:  Promoting gender equality in science, technology, engineering and mathematics (STEM) education and careers <br>\n",
    "Date: June 09, 2021 - Brussels"
   ]
  },
  {
   "cell_type": "code",
   "execution_count": 1,
   "metadata": {},
   "outputs": [],
   "source": [
    "# import necessary libraries\n",
    "import requests\n",
    "from requests_html import HTMLSession\n",
    "import urllib.request\n",
    "import time\n",
    "from bs4 import BeautifulSoup\n",
    "import urllib\n",
    "from urllib import request\n",
    "from __future__ import division\n",
    "import nltk, re, pprint\n",
    "from nltk import word_tokenize\n",
    "from nltk import FreqDist\n",
    "import os.path \n",
    "import pandas as pd"
   ]
  },
  {
   "cell_type": "markdown",
   "metadata": {},
   "source": [
    "---\n",
    "### Process: Trimming debate by inserting the original English or translated English files and tokenizing them.\n",
    "*Note*: Due to time constraint, the process has been optimized.\n",
    "\n",
    "- English parts of the debate will be added manually as a string and then tokenized. \n",
    "\n",
    "- A consistent method of translating and then adding will be applied to all EU Parliament debates:  Non-English parts are copied from the original web pages, inserted in the consistent choice of translation tool, Google Translate (https://translate.google.com/?hl=de&tab=TT), translated to English and pasted in as a string. \n",
    "\n",
    "- Afterwards, the same steps are applied as per usual (tokenizing, standardizing).\n",
    "\n",
    "Because of the changed process, the URL and step of webscraping are technically no longer necessary, will however be included for the purpose of completeness. "
   ]
  },
  {
   "cell_type": "code",
   "execution_count": 2,
   "metadata": {},
   "outputs": [],
   "source": [
    "# url = \"https://www.europarl.europa.eu/doceo/document/CRE-9-2021-06-09-ITM-022_EN.html\"\n",
    "# html = requests.get(url)\n",
    "# raw = BeautifulSoup(html.content, 'html.parser').get_text()"
   ]
  },
  {
   "cell_type": "code",
   "execution_count": 3,
   "metadata": {},
   "outputs": [
    {
     "name": "stdout",
     "output_type": "stream",
     "text": [
      "Susana Solís Pérez , rapporteur . – Mr President , I am very excited to present this report here in the European Parliament . Thirty years ago I decided to study engineering , as well as mechanics , and of course , we were a minority . I started working in the automotive sector and there were also very few women , because at that time , in the technology sector , women were underrepresented . But I always said that it was a matter of time and that , as women advanced more in equality , these figures would change drastically . But it has not been that way . And I am concerned that now that science and technology are transforming our society in unimaginable ways , women remain underrepresented in these fields . Today , only 36 % of science , engineering , mathematics or technology graduates , the so-called STEM , are women . But if we go to areas such as digital or artificial intelligence , the figures drop to 12 % and these percentages vary from country to country , but the trend is the same , and what is worse , it moves very little , hardly move . That is the problem . And in these days when many young people decide their future after taking university entrance exams , I think it is important that we make visible the social impact of STEM careers , moreover , at these times that are crucial for Europe , at a time when that Europe defines its future , how it will come out of the crisis , the recovery plans ⸻a recovery that we all know will be based on science and technology⸻ . That is why I believe that this report is now more important than ever . And that is why today we ask the Commission and the countries of the European Union to focus on this challenge to turn the numbers around . Because it is not only a question of justice and the fight for equality . We also talk about the social and economic consequences of this imbalance . For example , it is estimated that jobs in the digital and scientific fields will grow by up to 20 % in the coming years . If we women do not occupy these jobs , which are also better paid , and we do not increase our digital skills , the wage gap and the pension gap will only increase . But , in addition , if we women are absent from the technologies that are going to shape the future of our society and our world , biases in design will be perpetuated and discrimination by algorithms will increase . Therefore , we need to act and for this we have to tackle the problems at the root , from early education . And I like to say that it is not about imposing anything on anyone , but about being able to choose freely and eliminating the barriers , prejudices and stereotypes that still exist . Because boys and girls show the same predisposition and the same qualifications in STEM at very early ages . It is later when the girls leave . That is why we need to promote more female references to be inspired by , because what is not known is not chosen . We need more women in textbooks . The girls have to see that their work is going to have a social impact , that it is going to be recognized , that it is going to be supported . And as the report says , the role of the media and the role of teachers are going to be key to breaking down stereotypes . But , in addition , it is not only necessary that women arrive , but also that they do not abandon and that they can move up in the professional career ; and without conciliation and more inclusive conditions , many are going to fall by the wayside . It is undeniable that women have children in the most prolific years of our careers . That is why the first thing is to advance in maternity and paternity leave . And if we do not include men , we will never achieve real equality . The second thing is that , to this day , the salary gap is still a reality and that the European Union can not afford to block the Directive on salary transparency , especially if we see how opaque the big technology companies are . And the third thing is that , if we want to create more inclusive work environments , in which there are more women in management leadership and in which there is more security , we need to continue working . Lastly , I also wanted to highlight the low representation of women in start-ups and the difficulties faced by women entrepreneurs in accessing financing . One piece of information is enough : according to the latest EIB report , teams made up of women only receive only 2 % of European funding . For this reason , we ask the Commission to encourage mixed teams , support specific mentoring programs and increase the number of women on boards of directors . I would like to thank all the colleagues who have participated in the drafting and negotiation of this report . I am sure that it will open the doors to educational and employment policies that will improve the situation of women in STEM . If we have learned anything from the COVID-19 crisis , it is the importance of science and research to overcome global problems . Without science , we will not find the answers , and without women , the future will again be designed by men and for men . All together we will turn the numbers around . "
     ]
    }
   ],
   "source": [
    "raw1_1 = 'Susana Solís Pérez, rapporteur. – Mr President, I am very excited to present this report here in the European Parliament. Thirty years ago I decided to study engineering, as well as mechanics, and of course, we were a minority. I started working in the automotive sector and there were also very few women, because at that time, in the technology sector, women were underrepresented. But I always said that it was a matter of time and that, as women advanced more in equality, these figures would change drastically. But it has not been that way. And I am concerned that now that science and technology are transforming our society in unimaginable ways, women remain underrepresented in these fields. Today, only 36% of science, engineering, mathematics or technology graduates, the so-called STEM, are women. But if we go to areas such as digital or artificial intelligence, the figures drop to 12% and these percentages vary from country to country, but the trend is the same, and what is worse, it moves very little, hardly move. That is the problem. And in these days when many young people decide their future after taking university entrance exams, I think it is important that we make visible the social impact of STEM careers, moreover, at these times that are crucial for Europe, at a time when that Europe defines its future, how it will come out of the crisis, the recovery plans ⸻a recovery that we all know will be based on science and technology⸻. That is why I believe that this report is now more important than ever. And that is why today we ask the Commission and the countries of the European Union to focus on this challenge to turn the numbers around. Because it is not only a question of justice and the fight for equality. We also talk about the social and economic consequences of this imbalance. For example, it is estimated that jobs in the digital and scientific fields will grow by up to 20% in the coming years. If we women do not occupy these jobs, which are also better paid, and we do not increase our digital skills, the wage gap and the pension gap will only increase. But, in addition, if we women are absent from the technologies that are going to shape the future of our society and our world, biases in design will be perpetuated and discrimination by algorithms will increase. Therefore, we need to act and for this we have to tackle the problems at the root, from early education. And I like to say that it is not about imposing anything on anyone, but about being able to choose freely and eliminating the barriers, prejudices and stereotypes that still exist. Because boys and girls show the same predisposition and the same qualifications in STEM at very early ages. It is later when the girls leave. That is why we need to promote more female references to be inspired by, because what is not known is not chosen. We need more women in textbooks. The girls have to see that their work is going to have a social impact, that it is going to be recognized, that it is going to be supported. And as the report says, the role of the media and the role of teachers are going to be key to breaking down stereotypes. But, in addition, it is not only necessary that women arrive, but also that they do not abandon and that they can move up in the professional career; and without conciliation and more inclusive conditions, many are going to fall by the wayside. It is undeniable that women have children in the most prolific years of our careers. That is why the first thing is to advance in maternity and paternity leave. And if we do not include men, we will never achieve real equality. The second thing is that, to this day, the salary gap is still a reality and that the European Union cannot afford to block the Directive on salary transparency, especially if we see how opaque the big technology companies are. And the third thing is that, if we want to create more inclusive work environments, in which there are more women in management leadership and in which there is more security, we need to continue working. Lastly, I also wanted to highlight the low representation of women in start-ups and the difficulties faced by women entrepreneurs in accessing financing. One piece of information is enough: according to the latest EIB report, teams made up of women only receive only 2% of European funding. For this reason, we ask the Commission to encourage mixed teams, support specific mentoring programs and increase the number of women on boards of directors. I would like to thank all the colleagues who have participated in the drafting and negotiation of this report. I am sure that it will open the doors to educational and employment policies that will improve the situation of women in STEM. If we have learned anything from the COVID-19 crisis, it is the importance of science and research to overcome global problems. Without science, we will not find the answers, and without women, the future will again be designed by men and for men. All together we will turn the numbers around.'\n",
    "tokens1_1 = word_tokenize(raw1_1)\n",
    "for word in tokens1_1:\n",
    "    print(word, end=' ')"
   ]
  },
  {
   "cell_type": "code",
   "execution_count": 4,
   "metadata": {},
   "outputs": [
    {
     "name": "stdout",
     "output_type": "stream",
     "text": [
      "Helena Dalli , Member of the Commission . – Mr President , I thank the rapporteur , Ms Susana Solís Pérez , the shadow rapporteur and the entire Committee on Women ’ s Rights and Gender Equality ( FEMM ) for this excellent report . The European Parliament and the European Commission fully recognise equality between women and men as a strategic priority . The report welcomes the digital education action plan , which sets out a strategic approach to digital transformation in education and training , including the fight against the under—representation of girls and women in science , technology , engineering and maths ( STEM ) . In the digital sector , men still represent more than 80 % of the workforce , and only one in three science , engineering and mathematics graduates are women . Given the need to stimulate diversity , one of the actions of the new digital education action plan responds to the need to increase the participation of women in STEM fields . The teaching of scientific and technical subjects is also a priority for cooperation projects in higher education under the Erasmus+ 2021 work programme . Ongoing work within the framework of the EU Coalition in the field of science , technology , engineering and mathematics will be exploited in conjunction with the results of already—funded Erasmus+ projects . The aim is to support the sharing of the best practices available in the framework of European university alliances and the establishment of national platforms in the field of science , technology , engineering and mathematics . This action will contribute to the development of new higher education programmes for engineering , information and communication technologies based on the science , technology , engineering , the arts and mathematics ( STEAM ) approach . STEAM constitutes a multidisciplinary set of educational approaches , breaking down traditional divisions between subjects and disciplines in order to link the teaching of STEM and information and communication technologies to that of the arts , human sciences and social sciences . The COVID—19 crisis has strengthened the stereotypical roles of women and men , and thus we need to foster the full talent pool and promote women ’ s role and participation in all fields and all levels , such as in management . The digital education action plan also addresses the ethical implications of artificial intelligence , including gender bias , by developing ethical guidelines on AI and data in education and training . The Commission ’ s expert group responsible for developing the guidelines was recruited recently , and will launch guidelines in September 2022 as part of the back to school campaign , accompanied by awareness—raising activities . Education plays an important role in combating the under—representation of women in the field of development of new technologies and research . The PISA survey shows no difference in the skills of boys and girls in science , but gender differences widen when young people enter university and choose specific subjects and careers . To help Member States promote equality in education and training , a planned working group on equality and values in education and training will provide guidance for the use of gender—disaggregated data for the purposes of assessing policy reforms by the end of 2022 . Gender equality is in fact one of the priorities of the new European Research Area , and the Horizon Europe programme makes it one of its transversal principles . Your report recognises the efforts made by the Commission to encourage the participation of women in STEM , in particular within the framework of the European Institute of Innovation and Technology , while regretting the persistence of inequalities between women and men in terms of equal access to positions and funding within the European Union . Current efforts , with the support of the European Institute of Innovation and Technology , and its knowledge and innovation communities , have helped to organise training activities for girls in primary , secondary and higher education in order to stimulate digital skills . The action is expected to reach 40 000 young female students . By introducing several new provisions in Horizon Europe , such as a new eligibility criteria , we want to bring change . From 2022 , higher education and research institutions must put an action plan for gender equality in place to participate in the programme . Among other initiatives , the Women TechEU programme , within the European Innovation Council , aims to foster the creation of tech startups by women and support women ’ s entrepreneurship . Within the framework of the new European Research Area , we will develop , together with the Member States , a talent platform which will go beyond the current EURAXESS platform and will pay particular attention to equality between women and men . The Commission is also pleased with the Marie Skłodowska—Curie Actions , a programme for doctoral education and post—doctoral training , which encourages women to apply . Women researchers represent more than 41 % of the number of researchers in the programme . This percentage is even higher among doctoral candidates , at nearly 45 % , and postdoctoral researchers , at nearly 42 % , who are funded by the programme . So the gender dimension is an important selection criterion in the evaluation process . The programme also supports equal opportunities through the principle of equal pay for all beneficiaries , providing family allowances , maternity and parental leave and the possibility of part—time work for family or personal reasons for everyone . In addition , the Commission has introduced new measures through the new Framework Programme in order to make this financial support fairer , more gender—friendly and more inclusive than it currently is . The Commission remains committed to continue working with Parliament in recognising equality between women and men as a strategic priority in science , technology , engineering and mathematics . "
     ]
    }
   ],
   "source": [
    "raw1_2 = 'Helena Dalli, Member of the Commission. – Mr President, I thank the rapporteur, Ms Susana Solís Pérez, the shadow rapporteur and the entire Committee on Women’s Rights and Gender Equality (FEMM) for this excellent report. The European Parliament and the European Commission fully recognise equality between women and men as a strategic priority. The report welcomes the digital education action plan, which sets out a strategic approach to digital transformation in education and training, including the fight against the under—representation of girls and women in science, technology, engineering and maths (STEM). In the digital sector, men still represent more than 80% of the workforce, and only one in three science, engineering and mathematics graduates are women. Given the need to stimulate diversity, one of the actions of the new digital education action plan responds to the need to increase the participation of women in STEM fields. The teaching of scientific and technical subjects is also a priority for cooperation projects in higher education under the Erasmus+ 2021 work programme. Ongoing work within the framework of the EU Coalition in the field of science, technology, engineering and mathematics will be exploited in conjunction with the results of already—funded Erasmus+ projects. The aim is to support the sharing of the best practices available in the framework of European university alliances and the establishment of national platforms in the field of science, technology, engineering and mathematics. This action will contribute to the development of new higher education programmes for engineering, information and communication technologies based on the science, technology, engineering, the arts and mathematics (STEAM) approach. STEAM constitutes a multidisciplinary set of educational approaches, breaking down traditional divisions between subjects and disciplines in order to link the teaching of STEM and information and communication technologies to that of the arts, human sciences and social sciences. The COVID—19 crisis has strengthened the stereotypical roles of women and men, and thus we need to foster the full talent pool and promote women’s role and participation in all fields and all levels, such as in management. The digital education action plan also addresses the ethical implications of artificial intelligence, including gender bias, by developing ethical guidelines on AI and data in education and training. The Commission’s expert group responsible for developing the guidelines was recruited recently, and will launch guidelines in September 2022 as part of the back to school campaign, accompanied by awareness—raising activities. Education plays an important role in combating the under—representation of women in the field of development of new technologies and research. The PISA survey shows no difference in the skills of boys and girls in science, but gender differences widen when young people enter university and choose specific subjects and careers. To help Member States promote equality in education and training, a planned working group on equality and values in education and training will provide guidance for the use of gender—disaggregated data for the purposes of assessing policy reforms by the end of 2022. Gender equality is in fact one of the priorities of the new European Research Area, and the Horizon Europe programme makes it one of its transversal principles. Your report recognises the efforts made by the Commission to encourage the participation of women in STEM, in particular within the framework of the European Institute of Innovation and Technology, while regretting the persistence of inequalities between women and men in terms of equal access to positions and funding within the European Union. Current efforts, with the support of the European Institute of Innovation and Technology, and its knowledge and innovation communities, have helped to organise training activities for girls in primary, secondary and higher education in order to stimulate digital skills. The action is expected to reach 40 000 young female students. By introducing several new provisions in Horizon Europe, such as a new eligibility criteria, we want to bring change. From 2022, higher education and research institutions must put an action plan for gender equality in place to participate in the programme. Among other initiatives, the Women TechEU programme, within the European Innovation Council, aims to foster the creation of tech startups by women and support women’s entrepreneurship. Within the framework of the new European Research Area, we will develop, together with the Member States, a talent platform which will go beyond the current EURAXESS platform and will pay particular attention to equality between women and men. The Commission is also pleased with the Marie Skłodowska—Curie Actions, a programme for doctoral education and post—doctoral training, which encourages women to apply. Women researchers represent more than 41% of the number of researchers in the programme. This percentage is even higher among doctoral candidates, at nearly 45%, and postdoctoral researchers, at nearly 42%, who are funded by the programme. So the gender dimension is an important selection criterion in the evaluation process. The programme also supports equal opportunities through the principle of equal pay for all beneficiaries, providing family allowances, maternity and parental leave and the possibility of part—time work for family or personal reasons for everyone. In addition, the Commission has introduced new measures through the new Framework Programme in order to make this financial support fairer, more gender—friendly and more inclusive than it currently is. The Commission remains committed to continue working with Parliament in recognising equality between women and men as a strategic priority in science, technology, engineering and mathematics.'\n",
    "tokens1_2 = word_tokenize(raw1_2)\n",
    "for word in tokens1_2:\n",
    "    print(word, end=' ')"
   ]
  },
  {
   "cell_type": "code",
   "execution_count": 5,
   "metadata": {},
   "outputs": [
    {
     "name": "stdout",
     "output_type": "stream",
     "text": [
      "Christine Schneider , on behalf of the PPE Group . – Mr President , Commissioner ! We have to get girls and women excited about STEM courses and jobs . Almost all areas of our lives are permeated by technology . Let us just take a look at the developments in IT over the last few months , which have enabled us to work as a parliament even during the pandemic , the research in the natural sciences , which , with the development of vaccines , has given us the key to fighting the corona virus -pandemic , the connected car , the connected patient , smart homes . These are all achievements through MINT professions , and the need for specialists in MINT areas , but also in the growing digital sector is constantly increasing , and companies are desperately looking for qualified employees . Anyone who has been trained in a MINT profession is one of the skilled workers of tomorrow , with many doors open to them and excellent career prospects . Girls and women need to jump on this train . We have to ensure that they have the framework conditions that enable them to develop their talent accordingly . The early and gifted support for young women in STEM fields must be expanded . Girls have to go through internships and projects at school – and why not already in kindergarten ? – be introduced to MINT . And we must ensure that women can successfully combine work and family life . This also means that fathers and men are more involved in this area . As a trained carpenter , I know exactly what it feels like to have to prove yourself in a male domain . And role models and mentors are needed to encourage young women and girls to pursue their path in the MINT field and to end the outdated understanding of gender roles . I therefore hope that the Commission and the Member States will take up and address our suggestions and demands . Thank you to the rapporteur , Susana Solís Pérez , and to everyone who supported us with our report . "
     ]
    }
   ],
   "source": [
    "raw1_3 = 'Christine Schneider, on behalf of the PPE Group. – Mr President, Commissioner! We have to get girls and women excited about STEM courses and jobs. Almost all areas of our lives are permeated by technology. Let us just take a look at the developments in IT over the last few months, which have enabled us to work as a parliament even during the pandemic, the research in the natural sciences, which, with the development of vaccines, has given us the key to fighting the corona virus -pandemic, the connected car, the connected patient, smart homes. These are all achievements through MINT professions, and the need for specialists in MINT areas, but also in the growing digital sector is constantly increasing, and companies are desperately looking for qualified employees. Anyone who has been trained in a MINT profession is one of the skilled workers of tomorrow, with many doors open to them and excellent career prospects. Girls and women need to jump on this train. We have to ensure that they have the framework conditions that enable them to develop their talent accordingly. The early and gifted support for young women in STEM fields must be expanded. Girls have to go through internships and projects at school – and why not already in kindergarten? – be introduced to MINT. And we must ensure that women can successfully combine work and family life. This also means that fathers and men are more involved in this area. As a trained carpenter, I know exactly what it feels like to have to prove yourself in a male domain. And role models and mentors are needed to encourage young women and girls to pursue their path in the MINT field and to end the outdated understanding of gender roles. I therefore hope that the Commission and the Member States will take up and address our suggestions and demands. Thank you to the rapporteur, Susana Solís Pérez, and to everyone who supported us with our report.'\n",
    "tokens1_3 = word_tokenize(raw1_3)\n",
    "for word in tokens1_3:\n",
    "    print(word, end=' ')"
   ]
  },
  {
   "cell_type": "code",
   "execution_count": 6,
   "metadata": {},
   "outputs": [
    {
     "name": "stdout",
     "output_type": "stream",
     "text": [
      "Lina Gálvez Muñoz , on behalf of the S & D Group . – Mr President , Commissioner , I would like to thank the rapporteur , Susana Solís . We have a lot of data and evidence about the presence of women in STEM . For example , only 3 % of women in higher education choose to study information and communication technology studies . Or , in the professional field , for example : we know that there are three times more men than women in these fields and that they are also underrepresented in innovation and entrepreneurship . And yet , the digital revolution is here to stay and has also accelerated with the pandemic . And possibly it will continue to accelerate in this new normality . That is why the best jobs will be created in this area and our future , that of all people , including that of women , will also be designed . And that is why we have to be in these fields . And we must promote gender equality in education , in university courses , in the professions and in the financing of innovation and entrepreneurship in these fields . We need to remove bias and discrimination in these environments that end up being very hostile to women . In this report there are initiatives to combat them and from the European Parliament we are going to demand that they be fulfilled and to evaluate their fulfillment . We need the talents of women and that is why we support the renewal of educational programs that overcome gender stereotypes and shake a deeply sexist socialization . The same , by the way , that distances children from the environment of care . We have to advance in digital literacy so that , also from other studies —also from humanities and social sciences— , they participate in this digital society . We are changing roles for a new and fairer social model . And we socialists have very clear social priorities and also the just and egalitarian society that we want . And the role that technology must play and in which women must also participate , in this future of Europe , which we are building among all people , including women . "
     ]
    }
   ],
   "source": [
    "raw1_4 = 'Lina Gálvez Muñoz, on behalf of the S&D Group. – Mr President, Commissioner, I would like to thank the rapporteur, Susana Solís. We have a lot of data and evidence about the presence of women in STEM. For example, only 3% of women in higher education choose to study information and communication technology studies. Or, in the professional field, for example: we know that there are three times more men than women in these fields and that they are also underrepresented in innovation and entrepreneurship. And yet, the digital revolution is here to stay and has also accelerated with the pandemic. And possibly it will continue to accelerate in this new normality. That is why the best jobs will be created in this area and our future, that of all people, including that of women, will also be designed. And that is why we have to be in these fields. And we must promote gender equality in education, in university courses, in the professions and in the financing of innovation and entrepreneurship in these fields. We need to remove bias and discrimination in these environments that end up being very hostile to women. In this report there are initiatives to combat them and from the European Parliament we are going to demand that they be fulfilled and to evaluate their fulfillment. We need the talents of women and that is why we support the renewal of educational programs that overcome gender stereotypes and shake a deeply sexist socialization. The same, by the way, that distances children from the environment of care. We have to advance in digital literacy so that, also from other studies —also from humanities and social sciences—, they participate in this digital society. We are changing roles for a new and fairer social model. And we socialists have very clear social priorities and also the just and egalitarian society that we want. And the role that technology must play and in which women must also participate, in this future of Europe, which we are building among all people, including women.'\n",
    "tokens1_4 = word_tokenize(raw1_4)\n",
    "for word in tokens1_4:\n",
    "    print(word, end=' ')"
   ]
  },
  {
   "cell_type": "code",
   "execution_count": 7,
   "metadata": {},
   "outputs": [
    {
     "name": "stdout",
     "output_type": "stream",
     "text": [
      "Karen Melchior , on behalf of the Renew Group . – Mr President , many high school graduates and university students face a difficult choice : should they choose a subject they love but perhaps be the only woman in their class ? This must be changed to allow women to follow their interests regardless of societal pressures . It must change if we want to achieve our 2030 goal of 20 million ICT specialists employed in Europe and an acceptable woman to man ratio . If we truly want her to follow her interests we need to start much earlier , already when kids are beginning their education in primary school – definitely much earlier than high school or college . Despite the fact that both boys and girls understand technology , there is a difference in the actual interest in technology that they allow themselves to show , because we raise girls and boys differently . Because it is not our gender , but our culture and society which determines what we find acceptable to show an interest in . We must allow our young girls to be interested in tech , just like we – from the cradle – promote cars , tools and tech to boys . In Denmark , in order to promote gender equality in STEM ( Science , Technology , Engineering and Mathematics ) , Danish municipalities have created an ‘ understanding technology ’ class , as an elective course in elementary schools . However , in spite of the good intentions , on average these classes have only one girl – one girl – and usually because she likes the teacher , not because she is allowed to show an interest in technology . So we need to start early to allow girls all the way from kindergarten to university to take an interest in an education in tech . We must put a stop to stereotypical gender roles and toxic masculinity . Let boys cry and girls play with cars . "
     ]
    }
   ],
   "source": [
    "raw1_5 = 'Karen Melchior, on behalf of the Renew Group. – Mr President, many high school graduates and university students face a difficult choice: should they choose a subject they love but perhaps be the only woman in their class? This must be changed to allow women to follow their interests regardless of societal pressures. It must change if we want to achieve our 2030 goal of 20 million ICT specialists employed in Europe and an acceptable woman to man ratio. If we truly want her to follow her interests we need to start much earlier, already when kids are beginning their education in primary school – definitely much earlier than high school or college. Despite the fact that both boys and girls understand technology, there is a difference in the actual interest in technology that they allow themselves to show, because we raise girls and boys differently. Because it is not our gender, but our culture and society which determines what we find acceptable to show an interest in. We must allow our young girls to be interested in tech, just like we – from the cradle – promote cars, tools and tech to boys. In Denmark, in order to promote gender equality in STEM (Science, Technology, Engineering and Mathematics), Danish municipalities have created an ‘understanding technology’ class, as an elective course in elementary schools. However, in spite of the good intentions, on average these classes have only one girl – one girl – and usually because she likes the teacher, not because she is allowed to show an interest in technology. So we need to start early to allow girls all the way from kindergarten to university to take an interest in an education in tech. We must put a stop to stereotypical gender roles and toxic masculinity. Let boys cry and girls play with cars.'\n",
    "tokens1_5 = word_tokenize(raw1_5)\n",
    "for word in tokens1_5:\n",
    "    print(word, end=' ')"
   ]
  },
  {
   "cell_type": "code",
   "execution_count": 8,
   "metadata": {},
   "outputs": [
    {
     "name": "stdout",
     "output_type": "stream",
     "text": [
      "Diana Riba i Giner , on behalf of the Verts/ALE Group . – Mr President , in 119 years of Nobel Prizes in Physics , Chemistry or Medicine , only twenty-two women have been awarded . According to a 2019 UNESCO report , only 28 % of all researchers in the world are women . The reality for women is that they continue to be undervalued in all sectors of science and technology . This report is a good opportunity to focus on the structural barriers that hinder the development of potential talent . Gender stereotypes and hostile work and educational environments , where high levels of sexual harassment are reported , prevent girls and women from entering a field that remains overwhelmingly male . Added to this is the intersectoral discrimination suffered by women in situations of socioeconomic disadvantage , with disabilities , those who live in rural areas , migrant women , those of the LGTBI group , or racialized women . That is why we encourage the Commission , the Member States and educational institutions to take preventive and concrete measures . Because this absence of girls and women not only conditions the development of these individual potentialities , but also society as a whole . The way we , for example , tackle climate change , improve health care or deal with digital transformation must also have the voice of a woman . Without women in science , there is neither a sustainable nor inclusive future . "
     ]
    }
   ],
   "source": [
    "raw1_6 = 'Diana Riba i Giner, on behalf of the Verts/ALE Group. – Mr President, in 119 years of Nobel Prizes in Physics, Chemistry or Medicine, only twenty-two women have been awarded. According to a 2019 UNESCO report, only 28% of all researchers in the world are women. The reality for women is that they continue to be undervalued in all sectors of science and technology. This report is a good opportunity to focus on the structural barriers that hinder the development of potential talent. Gender stereotypes and hostile work and educational environments, where high levels of sexual harassment are reported, prevent girls and women from entering a field that remains overwhelmingly male. Added to this is the intersectoral discrimination suffered by women in situations of socioeconomic disadvantage, with disabilities, those who live in rural areas, migrant women, those of the LGTBI group, or racialized women. That is why we encourage the Commission, the Member States and educational institutions to take preventive and concrete measures. Because this absence of girls and women not only conditions the development of these individual potentialities, but also society as a whole. The way we, for example, tackle climate change, improve health care or deal with digital transformation must also have the voice of a woman. Without women in science, there is neither a sustainable nor inclusive future.'\n",
    "tokens1_6 = word_tokenize(raw1_6)\n",
    "for word in tokens1_6:\n",
    "    print(word, end=' ')"
   ]
  },
  {
   "cell_type": "code",
   "execution_count": 9,
   "metadata": {},
   "outputs": [
    {
     "name": "stdout",
     "output_type": "stream",
     "text": [
      "Christine Anderson , on behalf of the ID Group . - Mister President ! Encouraging girls and women to decide on a career in the MINT profession is the right thing to do , and of course it is also helpful to look to female role models . The report contains some correct approaches , but also problematic ones . Prejudices , the gender gap , the underrepresentation of women and stereotypes are repeatedly mentioned as the obstacles that need to be removed . The report emphasizes the need to engage in dialogue with relevant interest groups and stakeholders to address the grievance of fewer women in STEM professions . Interestingly , the report lists all the actors and stakeholders here - all but the one it should be addressing : the women themselves . All of these reasons are based solely on external factors over which women have absolutely no control . That is why politicians must now take resolute action , thereby underscoring the fatal image of women conveyed by this report as a weak , helpless victim . A 20-page report in which women are attested to their helpless situation does not fight stereotypes , but celebrates and manifests them . The fact that the women are not even asked shows very clearly that it is not about them at all . No , the chief ideologues are really concerned with the construction of a beautiful , new , colorful , CO2-neutral , gender-fair Tralala world in which people , just as they are , are just a nuisance . Please stop trying to shape people according to their delusional ideological ideas ! Let us just be humans again ! "
     ]
    }
   ],
   "source": [
    "raw1_7 = 'Christine Anderson, on behalf of the ID Group. - Mister President! Encouraging girls and women to decide on a career in the MINT profession is the right thing to do, and of course it is also helpful to look to female role models. The report contains some correct approaches, but also problematic ones. Prejudices, the gender gap, the underrepresentation of women and stereotypes are repeatedly mentioned as the obstacles that need to be removed. The report emphasizes the need to engage in dialogue with relevant interest groups and stakeholders to address the grievance of fewer women in STEM professions. Interestingly, the report lists all the actors and stakeholders here - all but the one it should be addressing: the women themselves. All of these reasons are based solely on external factors over which women have absolutely no control. That is why politicians must now take resolute action, thereby underscoring the fatal image of women conveyed by this report as a weak, helpless victim. A 20-page report in which women are attested to their helpless situation does not fight stereotypes, but celebrates and manifests them. The fact that the women are not even asked shows very clearly that it is not about them at all. No, the chief ideologues are really concerned with the construction of a beautiful, new, colorful, CO2-neutral, gender-fair Tralala world in which people, just as they are, are just a nuisance. Please stop trying to shape people according to their delusional ideological ideas! Let us just be humans again!'\n",
    "tokens1_7 = word_tokenize(raw1_7)\n",
    "for word in tokens1_7:\n",
    "    print(word, end=' ')"
   ]
  },
  {
   "cell_type": "code",
   "execution_count": 10,
   "metadata": {},
   "outputs": [
    {
     "name": "stdout",
     "output_type": "stream",
     "text": [
      "Vincenzo Sofo , on behalf of the ECR Group . - ( IT ) Mr President , ladies and gentlemen , this report calls for the basic imposition of pink quotas especially for Roma and LGBT migrants in universities , companies and decision-making bodies . I will avoid talking about the obvious exploitation of a serious issue such as the involvement of women in the STEM professions to hustle feminist , immigrationist and LGBT lobbies . One thing , however , you must clarify : if you say that we need pink quotas to favor women over men , you admit that there are women and men , but at the same time , if you sponsor the gender LGBT thesis , you affirm that being a man woman is only our choice . . So , applying your theories , if I tell you tomorrow that I feel like a woman , I automatically get the right to re-enter a pink quota . Right that I lose if I then go back to feeling like a man but that I get back if I feel like a woman again and so on . Not to mention transgender , all gender , pangender and a thousand other invented identities . Will you propose an ad hoc fee for each of them ? Because in this way , I warn you , it turns out that you will create more quotas than jobs and at the end of this grotesque short circuit in which you have slipped in , it will be women who lose out . "
     ]
    }
   ],
   "source": [
    "raw1_8 = 'Vincenzo Sofo, on behalf of the ECR Group. - (IT) Mr President, ladies and gentlemen, this report calls for the basic imposition of pink quotas especially for Roma and LGBT migrants in universities, companies and decision-making bodies. I will avoid talking about the obvious exploitation of a serious issue such as the involvement of women in the STEM professions to hustle feminist, immigrationist and LGBT lobbies. One thing, however, you must clarify: if you say that we need pink quotas to favor women over men, you admit that there are women and men, but at the same time, if you sponsor the gender LGBT thesis, you affirm that being a man woman is only our choice. . So, applying your theories, if I tell you tomorrow that I feel like a woman, I automatically get the right to re-enter a pink quota. Right that I lose if I then go back to feeling like a man but that I get back if I feel like a woman again and so on. Not to mention transgender, all gender, pangender and a thousand other invented identities. Will you propose an ad hoc fee for each of them? Because in this way, I warn you, it turns out that you will create more quotas than jobs and at the end of this grotesque short circuit in which you have slipped in, it will be women who lose out.'\n",
    "tokens1_8 = word_tokenize(raw1_8)\n",
    "for word in tokens1_8:\n",
    "    print(word, end=' ')"
   ]
  },
  {
   "cell_type": "code",
   "execution_count": 11,
   "metadata": {},
   "outputs": [
    {
     "name": "stdout",
     "output_type": "stream",
     "text": [
      "Anne-Sophie Pelletier , on behalf of the group The Left . – Mr President , 257 : according to the Davos Forum , which is not a den of leftists , this is the number of years it would take to achieve the elimination of gender inequalities at work . 257 years so that women , representing 52 % of the European population , can finally obtain the place that has always been their due . And my dear colleagues , today , in this hemicycle , it is a shame in 2021 to repeat this number . So why is gender equality still so invisible on the horizon ? The weight of stereotypes , which weigh on women from birth . It is enough to turn on the TV or to walk in any toy store to realize the place reserved for girls in society . And I regret that for planes , constructions , machines , we have to go to the shelves of little boys , whereas we are very competent on these themes . We are part of a system that disadvantages women at all levels . If we want to close the female deficit in STEM professions , we must break the glass ceiling . Gender equality in STEM professions must go through an in-depth overhaul of our societal rules . It is time to raise awareness in the educational community by creating scholarships to develop the access women have to STEM studies . It is time to tap into the media to promote gender equality and highlight inspiring female role models . It is time to empower the workplace to establish a culture of non-discrimination and non-harassment . And for there to be no ordinary sexism , you have to be intransigent . For there to be parity in STEM , you have to really want it . "
     ]
    }
   ],
   "source": [
    "raw1_9 = 'Anne-Sophie Pelletier, on behalf of the group The Left. – Mr President, 257: according to the Davos Forum, which is not a den of leftists, this is the number of years it would take to achieve the elimination of gender inequalities at work. 257 years so that women, representing 52% of the European population, can finally obtain the place that has always been their due. And my dear colleagues, today, in this hemicycle, it is a shame in 2021 to repeat this number. So why is gender equality still so invisible on the horizon? The weight of stereotypes, which weigh on women from birth. It is enough to turn on the TV or to walk in any toy store to realize the place reserved for girls in society. And I regret that for planes, constructions, machines, we have to go to the shelves of little boys, whereas we are very competent on these themes. We are part of a system that disadvantages women at all levels. If we want to close the female deficit in STEM professions, we must break the glass ceiling. Gender equality in STEM professions must go through an in-depth overhaul of our societal rules. It is time to raise awareness in the educational community by creating scholarships to develop the access women have to STEM studies. It is time to tap into the media to promote gender equality and highlight inspiring female role models. It is time to empower the workplace to establish a culture of non-discrimination and non-harassment. And for there to be no ordinary sexism, you have to be intransigent. For there to be parity in STEM, you have to really want it.'\n",
    "tokens1_9 = word_tokenize(raw1_9)\n",
    "for word in tokens1_9:\n",
    "    print(word, end=' ')"
   ]
  },
  {
   "cell_type": "code",
   "execution_count": 12,
   "metadata": {},
   "outputs": [
    {
     "name": "stdout",
     "output_type": "stream",
     "text": [
      "Lefteris Nikolaou-Alavanos ( NI ) . - Mr President , the report treats women as an untapped pool of cheap labor to fill gaps in the labor market of the European Union . It focuses on the competitiveness of business groups and not on the modern rights of working women . Moreover , the needs of women , the right to motherhood , to a stable job , are further eroded by the abortion bill that implements the common goals of the European Union and big business for the abolition of eight-hour work , the abolition of fixed daily work , work on Sundays and holidays and unpaid overtime . Modern technological advances in science create enormous potential for improving the lives of workers . However , capitalist exploitation , the policy of the European Union and the bourgeois parties turn them into bonds for men and women , a tool to increase the intensification of labor and the expansion of work-rubber based on the reactionary direction of reconciliation of professional and personal life , strengthening the degree of exploitation of employees . It is necessary today for women and men to enter the struggle en masse to overthrow the anti-labor bill of the New Democracy government , the previous anti-labor laws of PASOK and Syriza , to strengthen the demand for a stable daily working time of 7 hours , five days and 35 hours . "
     ]
    }
   ],
   "source": [
    "raw1_10 = 'Lefteris Nikolaou-Alavanos (NI). - Mr President, the report treats women as an untapped pool of cheap labor to fill gaps in the labor market of the European Union. It focuses on the competitiveness of business groups and not on the modern rights of working women. Moreover, the needs of women, the right to motherhood, to a stable job, are further eroded by the abortion bill that implements the common goals of the European Union and big business for the abolition of eight-hour work, the abolition of fixed daily work, work on Sundays and holidays and unpaid overtime. Modern technological advances in science create enormous potential for improving the lives of workers. However, capitalist exploitation, the policy of the European Union and the bourgeois parties turn them into bonds for men and women, a tool to increase the intensification of labor and the expansion of work-rubber based on the reactionary direction of reconciliation of professional and personal life, strengthening the degree of exploitation of employees. It is necessary today for women and men to enter the struggle en masse to overthrow the anti-labor bill of the New Democracy government, the previous anti-labor laws of PASOK and Syriza, to strengthen the demand for a stable daily working time of 7 hours, five days and 35 hours .'\n",
    "tokens1_10 = word_tokenize(raw1_10)\n",
    "for word in tokens1_10:\n",
    "    print(word, end=' ')"
   ]
  },
  {
   "cell_type": "code",
   "execution_count": 13,
   "metadata": {},
   "outputs": [
    {
     "name": "stdout",
     "output_type": "stream",
     "text": [
      "Maria da Graça Carvalho ( PPE ) . – Mr President , Commissioner , ladies and gentlemen , the underrepresentation of women in management is not just a question of gender equality . Existing asymmetries have a significant economic impact . On the one hand , many women are prevented from entering sectors with strong growth and attractive salaries , on the other hand , Europe is wasting a huge pool of talent , talent it needs to achieve its goals . I would like to congratulate Mrs Susana Solís Pérez on the report and the proposals made . My country , Portugal , has achieved excellent results in attracting women to management areas , where they already represent more than 50 % of new graduates . This is the result of a long commitment to publicizing these areas to new generations of both genders . However , not everything is done , in Portugal women continue to be a minority in information and communication technologies and , above all , in leadership positions . It is urgent to promote and finance programs that attract more women to study and work in management , presenting success stories in the media and in society in general . "
     ]
    }
   ],
   "source": [
    "raw1_11 = 'Maria da Graça Carvalho (PPE). – Mr President, Commissioner, ladies and gentlemen, the underrepresentation of women in management is not just a question of gender equality. Existing asymmetries have a significant economic impact. On the one hand, many women are prevented from entering sectors with strong growth and attractive salaries, on the other hand, Europe is wasting a huge pool of talent, talent it needs to achieve its goals. I would like to congratulate Mrs Susana Solís Pérez on the report and the proposals made. My country, Portugal, has achieved excellent results in attracting women to management areas, where they already represent more than 50% of new graduates. This is the result of a long commitment to publicizing these areas to new generations of both genders. However, not everything is done, in Portugal women continue to be a minority in information and communication technologies and, above all, in leadership positions. It is urgent to promote and finance programs that attract more women to study and work in management, presenting success stories in the media and in society in general.'\n",
    "tokens1_11 = word_tokenize(raw1_11)\n",
    "for word in tokens1_11:\n",
    "    print(word, end=' ')"
   ]
  },
  {
   "cell_type": "code",
   "execution_count": 14,
   "metadata": {},
   "outputs": [
    {
     "name": "stdout",
     "output_type": "stream",
     "text": [
      "Maria-Manuel Leitão-Marques ( S & D ) . – Mr President , Commissioner , Caroline Credo-Perez , in the book “ Invisible Women ” , shows us how the world is largely built by and for men . Airbags , for example , were not developed with the bodies of women in mind , and therefore , at the beginning , they did not adequately protect them from accidents . This is partly because there is a lack of women in technology areas or because the data do not reflect the characteristics of the entire relevant population . The digital transition and advances in data science and artificial intelligence make this problem even more relevant . It is therefore essential that we take measures to ensure diversity in teams working in the digital sector and , in particular , in artificial intelligence where only 22 % are women . Only then will the online world reflect the world we live in , where 50 % of people are women . "
     ]
    }
   ],
   "source": [
    "raw1_12 = 'Maria-Manuel Leitão-Marques (S&D). – Mr President, Commissioner, Caroline Credo-Perez, in the book “Invisible Women”, shows us how the world is largely built by and for men. Airbags, for example, were not developed with the  bodies of women in mind, and therefore, at the beginning, they did not adequately protect them from accidents. This is partly because there is a lack of women in technology areas or because the data do not reflect the characteristics of the entire relevant population. The digital transition and advances in data science and artificial intelligence make this problem even more relevant. It is therefore essential that we take measures to ensure diversity in teams working in the digital sector and, in particular, in artificial intelligence where only 22% are women. Only then will the online world reflect the world we live in, where 50% of people are women.'\n",
    "tokens1_12 = word_tokenize(raw1_12)\n",
    "for word in tokens1_12:\n",
    "    print(word, end=' ')"
   ]
  },
  {
   "cell_type": "code",
   "execution_count": 15,
   "metadata": {},
   "outputs": [
    {
     "name": "stdout",
     "output_type": "stream",
     "text": [
      "Sylvie Brunet ( Renew ) . – Mr President , Commissioner , ladies and gentlemen , I would first like to thank Mrs Solís Pérez for this excellent report . The subject of gender equality in training and employment in the field of science , technology , engineering and mathematics is essential , as the European Union faces an unprecedented shortage in this domain . Only one in six information and communications technology specialists is a woman in the European Union . We must reverse this trend . I call on the European Commission and Member States to do more and adopt accompanying measures and targeted actions to break down the barriers that stand in the way of girls and women from an early age . The report outlines avenues to be undertaken , for example the fight against gender stereotypes and the need for mentors and female figures to identify with . I would like to emphasize the importance of digital skills for the future of work . All the studies show this , especially those of the ILO . I am for this purpose , to illustrate it , in the process of developing an initiative in Marseille , at home , where I will encourage young girls from disadvantaged backgrounds to train in coding , in digital skills , to open up opportunities for them . careers . They will themselves be ambassadors for other young girls . I think that we must multiply these initiatives with the help of European funding and encourage women who wish to pursue scientific and technical careers . "
     ]
    }
   ],
   "source": [
    "raw1_13 = 'Sylvie Brunet (Renew). – Mr President, Commissioner, ladies and gentlemen, I would first like to thank Mrs Solís Pérez for this excellent report. The subject of gender equality in training and employment in the field of science, technology, engineering and mathematics is essential, as the European Union faces an unprecedented shortage in this domain. Only one in six information and communications technology specialists is a woman in the European Union. We must reverse this trend. I call on the European Commission and Member States to do more and adopt accompanying measures and targeted actions to break down the barriers that stand in the way of girls and women from an early age. The report outlines avenues to be undertaken, for example the fight against gender stereotypes and the need for mentors and female figures to identify with. I would like to emphasize the importance of digital skills for the future of work. All the studies show this, especially those of the ILO. I am for this purpose, to illustrate it, in the process of developing an initiative in Marseille, at home, where I will encourage young girls from disadvantaged backgrounds to train in coding, in digital skills, to open up opportunities for them. careers. They will themselves be ambassadors for other young girls. I think that we must multiply these initiatives with the help of European funding and encourage women who wish to pursue scientific and technical careers.'\n",
    "tokens1_13 = word_tokenize(raw1_13)\n",
    "for word in tokens1_13:\n",
    "    print(word, end=' ')"
   ]
  },
  {
   "cell_type": "code",
   "execution_count": 16,
   "metadata": {},
   "outputs": [
    {
     "name": "stdout",
     "output_type": "stream",
     "text": [
      "Isabella Tovaglieri ( ID ) . - ( IT ) Mr President , ladies and gentlemen , Commissioner , Europe is under the illusion of solving the problem of gender inequality with the anachronistic principle of female quotas or with sterile nominalisms as an engineer , lawyer , minister . Around us , on the other hand , emerging countries are running towards the future and face international competition in a pragmatic way , massively incorporating female talent into technical-scientific professions . In neighboring Central Asia , STEM graduates are half of the total , 75 % in Burma alone . But China invests 200 billion in scientific research every year and soon the number of Chinese scientists will explode . In Europe , however , we remain stuck at 36 % , a figure that drops dramatically to 16 % in Italy . If we do not want to fall behind not only in equality but also in technical-scientific progress , and therefore in the economic and geopolitical challenge , we must intervene where the training courses begin , removing gender stereotypes and directing women towards the professions of the future from the very beginning . Primary School . Community studies say that we will be able to achieve equal pay in 2050 , with a simultaneous 10 % increase in the per capita GDP of the European Union . But all this on one condition : that Europe puts in place concrete measures and abandons old ideological approaches that have no future at all . "
     ]
    }
   ],
   "source": [
    "raw1_14 = 'Isabella Tovaglieri (ID). - (IT) Mr President, ladies and gentlemen, Commissioner, Europe is under the illusion of solving the problem of gender inequality with the anachronistic principle of female quotas or with sterile nominalisms as an engineer, lawyer, minister. Around us, on the other hand, emerging countries are running towards the future and face international competition in a pragmatic way, massively incorporating female talent into technical-scientific professions. In neighboring Central Asia, STEM graduates are half of the total, 75% in Burma alone. But China invests 200 billion in scientific research every year and soon the number of Chinese scientists will explode. In Europe, however, we remain stuck at 36%, a figure that drops dramatically to 16% in Italy. If we do not want to fall behind not only in equality but also in technical-scientific progress, and therefore in the economic and geopolitical challenge, we must intervene where the training courses begin, removing gender stereotypes and directing women towards the professions of the future from the very beginning. Primary School. Community studies say that we will be able to achieve equal pay in 2050, with a simultaneous 10% increase in the per capita GDP of the European Union. But all this on one condition: that Europe puts in place concrete measures and abandons old ideological approaches that have no future at all.'\n",
    "tokens1_14 = word_tokenize(raw1_14)\n",
    "for word in tokens1_14:\n",
    "    print(word, end=' ')"
   ]
  },
  {
   "cell_type": "code",
   "execution_count": 17,
   "metadata": {},
   "outputs": [
    {
     "name": "stdout",
     "output_type": "stream",
     "text": [
      "Pernille Weiss ( PPE ) . - Sir . Chairman ! We need to get more women into the STEM subjects . We must , because the EU seeks competitiveness , and the chance of survival for the Europe we know and want to pass on to the next generation depends on whether we manage to get something more innovative out of our workforce , which in these years will be both smaller and older . The smartest industries already know this , and fortunately the most adaptable companies are also well on their way to making themselves more attractive to women . Now the whole EU must get up to speed . Otherwise , we lose to our global competitors . China has long seen the light of day in having women in the STEM subjects . Not because they are particularly gender-oriented , but because the hands and heads of women are indispensable if the technological challenges of the future are to be addressed . China has calculated that it is not enough for men to develop the technology that women need , or vice versa for that matter . So when China can , so must the EU . More women in the STEM subjects is also important for creating a better interaction and more respect between the public and private sectors . Over the past corona year , we have somewhat forgotten that money for well-being and health does not grow on the trees with permanently low interest rates . More women in the STEM subjects will therefore also contribute to maintenance training respect for the important mechanism under EU competitiveness . "
     ]
    }
   ],
   "source": [
    "raw1_15 = 'Pernille Weiss (PPE). - Sir. Chairman! We need to get more women into the STEM subjects. We must, because the EU seeks competitiveness, and the chance of survival for the Europe we know and want to pass on to the next generation depends on whether we manage to get something more innovative out of our workforce, which in these years will be both smaller and older. The smartest industries already know this, and fortunately the most adaptable companies are also well on their way to making themselves more attractive to women. Now the whole EU must get up to speed. Otherwise, we lose to our global competitors. China has long seen the light of day in having women in the STEM subjects. Not because they are particularly gender-oriented, but because the hands and heads of women are indispensable if the technological challenges of the future are to be addressed. China has calculated that it is not enough for men to develop the technology that women need, or vice versa for that matter. So when China can, so must the EU. More women in the STEM subjects is also important for creating a better interaction and more respect between the public and private sectors. Over the past corona year, we have somewhat forgotten that money for well-being and health does not grow on the trees with permanently low interest rates. More women in the STEM subjects will therefore also contribute to maintenance training respect for the important mechanism under EU competitiveness.'\n",
    "tokens1_15 = word_tokenize(raw1_15)\n",
    "for word in tokens1_15:\n",
    "    print(word, end=' ')"
   ]
  },
  {
   "cell_type": "code",
   "execution_count": 18,
   "metadata": {},
   "outputs": [
    {
     "name": "stdout",
     "output_type": "stream",
     "text": [
      "Marcos Ros Sempere ( S & D ) . – Mr President , Commissioner , if we want women to lead the future in equality , they have to be in the professions of the future . Science , technology , engineering , math are careers that lead to jobs of the future . Some do not currently exist . Every day there are more girls attending school and going to university , but prejudice , the environment and social pressure condition them not to choose these careers . In my experience as a teacher at a polytechnic university I have seen it up close . The students and teachers are a minority . We have to break the glass ceiling and empower girls to take up these careers . The future European Education Area must serve us to fight against stereotypes that undermine the capacities of women in these sectors , promote gender equality through specific measures and create inclusive digital learning . Only in this way will the European Union be able to improve the lives of Europeans and manage to close once and for all the gender gap in scientific and technological careers . "
     ]
    }
   ],
   "source": [
    "raw1_16 = 'Marcos Ros Sempere (S&D). – Mr President, Commissioner, if we want women to lead the future in equality, they have to be in the professions of the future. Science, technology, engineering, math are careers that lead to jobs of the future. Some do not currently exist. Every day there are more girls attending school and going to university, but prejudice, the environment and social pressure condition them not to choose these careers. In my experience as a teacher at a polytechnic university I have seen it up close. The students and teachers are a minority. We have to break the glass ceiling and empower girls to take up these careers. The future European Education Area must serve us to fight against stereotypes that undermine the capacities of women in these sectors, promote gender equality through specific measures and create inclusive digital learning. Only in this way will the European Union be able to improve the lives of Europeans and manage to close once and for all the gender gap in scientific and technological careers.'\n",
    "tokens1_16 = word_tokenize(raw1_16)\n",
    "for word in tokens1_16:\n",
    "    print(word, end=' ')"
   ]
  },
  {
   "cell_type": "code",
   "execution_count": 19,
   "metadata": {},
   "outputs": [
    {
     "name": "stdout",
     "output_type": "stream",
     "text": [
      "Lefteris Christoforou ( PPE ) . - Mr President , I believe that it is the duty of all of us to be here and to fight in every issue concerning gender equality , the equal representation of women , because that is an element of our culture , an element that should be in a modern society is self-evident , it is something that should concern both men and women every day . But the fact that we are here today and discussing another report , that in 2021 - while the conditions provide for gender equality , and over time many reports of the European Parliament , if only partially implemented - this equality will What has not been achieved so far demonstrates , and we must acknowledge , the failure of the European Commission and the European Council to implement the obvious : gender equality at all levels . I feel a proud European , I am a Europeanist , but it is an insult to the European Union that it has not achieved gender equality , equal representation . We are talking about equal representation in the digital world , in the sciences , where only 17 % of women are involved in start-ups . This in itself is a coup , a slap in the face for everyone and for the European Union . The European Union was to be the Defender , the defender of the rights of women across the length and breadth of humanity . Here we see a country , Turkey , withdrawing from the Istanbul Convention and , from this step , the European Commission and the European Council tell us that Turkey is a strategic partner , at a time when it is grossly violating the rights of women and millions of women . they are , in fact , under the regime and the boot of Turkey where their rights are being violated - and we continue to fund and support them . Finally , the European Union must take practical action , both against countries that violate the rights of women and for those who actually withdraw from the Istanbul Convention . "
     ]
    }
   ],
   "source": [
    "raw1_17 = 'Lefteris Christoforou (PPE). - Mr President, I believe that it is the duty of all of us to be here and to fight in every issue concerning gender equality, the equal representation of women, because that is an element of our culture, an element that should be in a modern society is self-evident, it is something that should concern both men and women every day. But the fact that we are here today and discussing another report, that in 2021 - while the conditions provide for gender equality, and over time many reports of the European Parliament, if only partially implemented - this equality will What has not been achieved so far demonstrates, and we must acknowledge, the failure of the European Commission and the European Council to implement the obvious: gender equality at all levels. I feel a proud European, I am a Europeanist, but it is an insult to the European Union that it has not achieved gender equality, equal representation. We are talking about equal representation in the digital world, in the sciences, where only 17% of women are involved in start-ups. This in itself is a coup, a slap in the face for everyone and for the European Union. The European Union was to be the Defender, the defender of the rights of women across the length and breadth of humanity. Here we see a country, Turkey, withdrawing from the Istanbul Convention and, from this step, the European Commission and the European Council tell us that Turkey is a strategic partner, at a time when it is grossly violating the rights of women and millions of women. they are, in fact, under the regime and the boot of Turkey where their rights are being violated - and we continue to fund and support them. Finally, the European Union must take practical action, both against countries that violate the rights of women and for those who actually withdraw from the Istanbul Convention.'\n",
    "tokens1_17 = word_tokenize(raw1_17)\n",
    "for word in tokens1_17:\n",
    "    print(word, end=' ')"
   ]
  },
  {
   "cell_type": "code",
   "execution_count": 20,
   "metadata": {},
   "outputs": [
    {
     "name": "stdout",
     "output_type": "stream",
     "text": [
      "Helena Dalli , Member of the Commission . – Mr President , honourable Members , thank you for this very interesting exchange . Gender equality is one of the fundamental values of the European Union and the European pillar of social rights makes it one of its key principles . The report highlights that if more women choose STEM-related studies and careers , the EU ’ s productivity and competitiveness will increase . We can not achieve a dual green and digital transition in Europe without the participation of women in research and innovation . Innovative solutions and scientific excellence depend on diversity . We need diversity within our research teams in order to solve complex societal challenges , such as those – for instance – related to the COVID-19 pandemic . Thanks to the gender-mainstreaming approach across all EU policies , we are achieving positive results . So the monitoring tools developed will help us keep track of this , be it the regional gender equality monitoring tool , including on data on women in STEM by the Joint Research Centre , or the monitoring tool for the implementation of the European strategy for gender equality by the Commission , I welcome that the European Parliament increasingly addresses the under-representation of women in STEM . The Commission is your ally and will continue to work with you to achieve the ambitious goals of this report . "
     ]
    }
   ],
   "source": [
    "raw1_18 = 'Helena Dalli, Member of the Commission. – Mr President, honourable Members, thank you for this very interesting exchange. Gender equality is one of the fundamental values of the European Union and the European pillar of social rights makes it one of its key principles. The report highlights that if more women choose STEM-related studies and careers, the EU’s productivity and competitiveness will increase. We cannot achieve a dual green and digital transition in Europe without the participation of women in research and innovation. Innovative solutions and scientific excellence depend on diversity. We need diversity within our research teams in order to solve complex societal challenges, such as those – for instance – related to the COVID-19 pandemic. Thanks to the gender-mainstreaming approach across all EU policies, we are achieving positive results. So the monitoring tools developed will help us keep track of this, be it the regional gender equality monitoring tool, including on data on women in STEM by the Joint Research Centre, or the monitoring tool for the implementation of the European strategy for gender equality by the Commission, I welcome that the European Parliament increasingly addresses the under-representation of women in STEM. The Commission is your ally and will continue to work with you to achieve the ambitious goals of this report.'\n",
    "tokens1_18 = word_tokenize(raw1_18)\n",
    "for word in tokens1_18:\n",
    "    print(word, end=' ')"
   ]
  },
  {
   "cell_type": "markdown",
   "metadata": {},
   "source": [
    "---\n",
    "### Combine all parts"
   ]
  },
  {
   "cell_type": "code",
   "execution_count": 21,
   "metadata": {},
   "outputs": [],
   "source": [
    "tokens = tokens1_1 + tokens1_2 + tokens1_3 + tokens1_4 + tokens1_5 + tokens1_6 + tokens1_7 + tokens1_8 + tokens1_9 + tokens1_10 + tokens1_11 + tokens1_12 + tokens1_13 + tokens1_14 + tokens1_15 + tokens1_16 + tokens1_17 + tokens1_18 "
   ]
  },
  {
   "cell_type": "markdown",
   "metadata": {},
   "source": [
    "---\n",
    "### Normalize the words "
   ]
  },
  {
   "cell_type": "code",
   "execution_count": 22,
   "metadata": {},
   "outputs": [],
   "source": [
    "type(tokens)\n",
    "eutext15 = [w.lower() for w in tokens]"
   ]
  },
  {
   "cell_type": "markdown",
   "metadata": {},
   "source": [
    "---\n",
    "**Save Output**"
   ]
  },
  {
   "cell_type": "code",
   "execution_count": 23,
   "metadata": {},
   "outputs": [],
   "source": [
    "save_path = '/Users/charlottekaiser/Documents/uni/Hertie/master_thesis/00_data/20_intermediate_files'\n",
    "file_name = \"EU15_ Promoting gender equality in science, technology, engineering and mathematics - STEM - education and careers.txt\"\n",
    "completeName = os.path.join(save_path, file_name)\n",
    "output = open(completeName, 'w')\n",
    "print(eutext15, file=output)"
   ]
  }
 ],
 "metadata": {
  "interpreter": {
   "hash": "a9869976cf380d12cb70e759e57434a8e82bae01a9f74e734956416b40621c64"
  },
  "kernelspec": {
   "display_name": "Python 3.9.7 ('base')",
   "language": "python",
   "name": "python3"
  },
  "language_info": {
   "codemirror_mode": {
    "name": "ipython",
    "version": 3
   },
   "file_extension": ".py",
   "mimetype": "text/x-python",
   "name": "python",
   "nbconvert_exporter": "python",
   "pygments_lexer": "ipython3",
   "version": "3.9.7"
  },
  "orig_nbformat": 4
 },
 "nbformat": 4,
 "nbformat_minor": 2
}
