{
 "cells": [
  {
   "cell_type": "markdown",
   "metadata": {},
   "source": [
    "### *Data Collection - European Parliament*\n",
    "## Preparing Raw Data\n",
    "---\n",
    "**Sample Text 4**\n",
    "Title: Preparation of the European Council meeting of 25 and 26 March 2021 – Digital Green Certificate <br>\n",
    "Date: March 24, 2021 - Brussels"
   ]
  },
  {
   "cell_type": "code",
   "execution_count": 131,
   "metadata": {},
   "outputs": [],
   "source": [
    "# import necessary libraries\n",
    "import requests\n",
    "from requests_html import HTMLSession\n",
    "import urllib.request\n",
    "import time\n",
    "from bs4 import BeautifulSoup\n",
    "import urllib\n",
    "from urllib import request\n",
    "from __future__ import division\n",
    "import nltk, re, pprint\n",
    "from nltk import word_tokenize\n",
    "from nltk import FreqDist\n",
    "import os.path \n",
    "import pandas as pd"
   ]
  },
  {
   "cell_type": "markdown",
   "metadata": {},
   "source": [
    "---\n",
    "### Process: Trimming debate by inserting the original English or translated English files and tokenizing them.\n",
    "*Note*: Due to time constraint, the process has been optimized.\n",
    "\n",
    "- English parts of the debate will be added manually as a string and then tokenized. \n",
    "\n",
    "- A consistent method of translating and then adding will be applied to all EU Parliament debates:  Non-English parts are copied from the original web pages, inserted in the consistent choice of translation tool, Google Translate (https://translate.google.com/?hl=de&tab=TT), translated to English and pasted in as a string. \n",
    "\n",
    "- Afterwards, the same steps are applied as per usual (tokenizing, standardizing).\n",
    "\n",
    "Because of the changed process, the URL and step of webscraping are technically no longer necessary, will however be included for the purpose of completeness. "
   ]
  },
  {
   "cell_type": "code",
   "execution_count": 132,
   "metadata": {},
   "outputs": [],
   "source": [
    "# url = \"https://www.europarl.europa.eu/doceo/document/CRE-9-2021-03-24-ITM-017_EN.html\"\n",
    "# html = requests.get(url)\n",
    "# raw = BeautifulSoup(html.content, 'html.parser').get_text()"
   ]
  },
  {
   "cell_type": "code",
   "execution_count": 133,
   "metadata": {},
   "outputs": [
    {
     "name": "stdout",
     "output_type": "stream",
     "text": [
      "Ana Paula Zacarias , President-in-Office of the Council . – Mr President , while it was initially planned as a physical meeting , President Charles Michel has decided to turn the European Council summit into a video conference in light of the worsening of the COVID situation in several Member States . All points will remain on the agenda , but the item on Russia will be transformed into an information point . In addition , President Michel invited President Biden for an informal exchange of views on our future cooperation with the United States . One year after the outbreak of the pandemic , COVID-19 continues to dominate the agenda and we face serious challenges following the emergence of new spreads of new variants of the virus . Only vaccines can offer us a way out of the crisis . We need to do our utmost to help boost vaccine production and ensure more transparency , predictability and the supply of vaccines , so that we can speed up the vaccination campaigns across the EU . To this end , it is fundamental that companies respect their contractual delivery deadlines , and we support the efforts of the European Commission in this endeavour . The current epidemiological situation is still of great concern , but when the time comes to start a gradual return to normal life , we should make sure that we act in a coordinated way . Looking ahead , we want to make sure that we have solutions that work across Member States , and this is fundamental for our citizens , for our societies and for the recovery of our economies . This way , we welcome the legislation proposed by the European Commission on the Digital Green Certificate . It is also a key element for the European Parliament , and I am glad for this opportunity to discuss this further with you . The Council is ready to move fast in these proposals , so we have the certificate and the system functioning – hopefully – before the summer . This means that these proposals have to be dealt with in a very short framework . We do not have a lot of time , and we have to do this in our two institutions and between our two institutions in a spirit of transparency , cooperation and compromise . We should aim to reach a political agreement with the European Parliament by May . Work has already started at the Council preparatory bodies , and the Presidency aims to have a negotiating mandate by mid-April . On the content of the proposals , the Presidency believes that the European binding approach was necessary to guarantee common rules on the issuance and acceptance of the certificates and also their interoperability , without making vaccination a precondition to travel within the EU . In fact , a number of our citizens feared being discriminated against under this instrument , as not everyone could be vaccinated or wished to be vaccinated . In this regard , we believe that the Commission took the right approach when it included in this Digital Green Certificate the question of tests and also recovery certificates . I would like to reiterate the importance of ensuring inclusiveness and of paying attention not to exclude some categories of persons , such as elderly people and those with less access to digital technologies . On data protection , we consider that the principle of data minimisation and the fact that no data will be stored at European level are important guarantees that have been already included in the proposals . Furthermore , national personal data regulations will apply . Another important aspect to which Member States are attached is the need to ensure this interoperability with the work of the World Health Organization ( WHO ) , and to continue to work in close collaboration with other international bodies . The implementation of an EU framework and national systems will require significant efforts from Member States , as there are many technological challenges . And for this reason , it will be important for them to receive expert technical and financial support from the Commission . Finally , during the legislative process , we should not underestimate the importance of communicating in the right way on this initiative . The expectations of citizens on reopening Europe for travel will only rise as we approach the adoption of these instruments . I would like to raise , very briefly , a couple of other points concerning the EU leaders ’ video teleconference ( VTC ) . First , the EU economic response to COVID-19 has been steadfast and unprecedented . The regulation establishing the recovery and resilience facility has entered into force . We now need to implement it swiftly to support an EU-wide recovery in accordance with the new European Semester guidelines and , of course , the leaders will address this issue . Secondly , they will discuss key elements of our economic base , namely the full functioning of the single market , the resilience and competitiveness of our industry and Europe ’ s open strategic autonomy . They will also address the question of the digital future , and here it is important to maintain an ambitio "
     ]
    }
   ],
   "source": [
    "raw1_1 = 'Ana Paula Zacarias, President-in-Office of the Council. – Mr President, while it was initially planned as a physical meeting, President Charles Michel has decided to turn the European Council summit into a video conference in light of the worsening of the COVID situation in several Member States. All points will remain on the agenda, but the item on Russia will be transformed into an information point. In addition, President Michel invited President Biden for an informal exchange of views on our future cooperation with the United States. One year after the outbreak of the pandemic, COVID-19 continues to dominate the agenda and we face serious challenges following the emergence of new spreads of new variants of the virus. Only vaccines can offer us a way out of the crisis. We need to do our utmost to help boost vaccine production and ensure more transparency, predictability and the supply of vaccines, so that we can speed up the vaccination campaigns across the EU. To this end, it is fundamental that companies respect their contractual delivery deadlines, and we support the efforts of the European Commission in this endeavour. The current epidemiological situation is still of great concern, but when the time comes to start a gradual return to normal life, we should make sure that we act in a coordinated way. Looking ahead, we want to make sure that we have solutions that work across Member States, and this is fundamental for our citizens, for our societies and for the recovery of our economies. This way, we welcome the legislation proposed by the European Commission on the Digital Green Certificate. It is also a key element for the European Parliament, and I am glad for this opportunity to discuss this further with you. The Council is ready to move fast in these proposals, so we have the certificate and the system functioning – hopefully – before the summer. This means that these proposals have to be dealt with in a very short framework. We do not have a lot of time, and we have to do this in our two institutions and between our two institutions in a spirit of transparency, cooperation and compromise. We should aim to reach a political agreement with the European Parliament by May. Work has already started at the Council preparatory bodies, and the Presidency aims to have a negotiating mandate by mid-April. On the content of the proposals, the Presidency believes that the European binding approach was necessary to guarantee common rules on the issuance and acceptance of the certificates and also their interoperability, without making vaccination a precondition to travel within the EU. In fact, a number of our citizens feared being discriminated against under this instrument, as not everyone could be vaccinated or wished to be vaccinated. In this regard, we believe that the Commission took the right approach when it included in this Digital Green Certificate the question of tests and also recovery certificates. I would like to reiterate the importance of ensuring inclusiveness and of paying attention not to exclude some categories of persons, such as elderly people and those with less access to digital technologies. On data protection, we consider that the principle of data minimisation and the fact that no data will be stored at European level are important guarantees that have been already included in the proposals. Furthermore, national personal data regulations will apply. Another important aspect to which Member States are attached is the need to ensure this interoperability with the work of the World Health Organization (WHO), and to continue to work in close collaboration with other international bodies. The implementation of an EU framework and national systems will require significant efforts from Member States, as there are many technological challenges. And for this reason, it will be important for them to receive expert technical and financial support from the Commission. Finally, during the legislative process, we should not underestimate the importance of communicating in the right way on this initiative. The expectations of citizens on reopening Europe for travel will only rise as we approach the adoption of these instruments. I would like to raise, very briefly, a couple of other points concerning the EU leaders’ video teleconference (VTC). First, the EU economic response to COVID-19 has been steadfast and unprecedented. The regulation establishing the recovery and resilience facility has entered into force. We now need to implement it swiftly to support an EU-wide recovery in accordance with the new European Semester guidelines and, of course, the leaders will address this issue. Secondly, they will discuss key elements of our economic base, namely the full functioning of the single market, the resilience and competitiveness of our industry and Europe’s open strategic autonomy. They will also address the question of the digital future, and here it is important to maintain an ambitio'\n",
    "tokens1_1 = word_tokenize(raw1_1)\n",
    "for word in tokens1_1:\n",
    "    print(word, end=' ')"
   ]
  },
  {
   "cell_type": "code",
   "execution_count": 134,
   "metadata": {},
   "outputs": [
    {
     "name": "stdout",
     "output_type": "stream",
     "text": [
      "Maroš Šefčovič , Vice-President of the Commission . – It has now been over a year since Europe went into lockdown and overnight our lives were turned upside down as we put all our energies into fighting this terrible virus , which is causing so much suffering in Europe and around the world . A year of being limited in what we can do , where we can go , whom we can see , with whom we can meet and this all has understandably led to some pandemic fatigue . But now is not the time to take our eye off the ball . Despite some problems with the vaccine procurement and AstraZeneca in particular , which continues to under-deliver , we have good reason to hope that the situation will improve in the second quarter . We expect to receive 200 million doses of the Pfizer vaccine , 55 million doses of the single jab Johnson & Johnson vaccine and 35 million doses of the Moderna vaccine by the end of the second quarter . This is in addition to the 70 million doses of AstraZeneca currently foreseen , albeit far less than the contractually committed 180 million doses . If these estimates prove accurate , we should achieve our target of having 70 % of Europe ’ s adult population fully vaccinated by the end of the summer . This is all the more important when we see the worrying developments with the new variants , now representing close to 80 % of infections in some countries and to the spectre of the third wave approaching . So , as underlined by President von der Leyen last week , we will use the EU ’ s export authorisation scheme to bolster transparency and ensure reciprocity and proportionality in our vaccine-related dealings with third countries , especially those which manufacture vaccines themselves . I would like to be clear . The mechanism is not an export ban . In fact , so far 380 out of 381 requests for an export authorisation have been approved and with 43 million doses exported to 33 countries since the end of January , the EU is the world ’ s biggest exporter of vaccines . We will continue to act fairly and responsibly and fulfil our global leadership role . That is also why exports to low and middle-income countries , supplies through COVAX and exports to the EU overseas countries and territories remain unconditionally exempted . But we need to see fairness and the right balance when assessing the impact of planned exports . This is what the two adjustments to the existing mechanisms adopted today are about – to help us ensure timely access to vaccines for our EU citizens . As the president emphasised , this is an invitation to be open , because open roads run in both directions . We also need to forge an effective and lasting path towards reopening and recovery , one which fully upholds our fundamental principles of non-discrimination and data protection . To this end , last week , the Commission put forward a proposal to create a Digital Green Certificate to facilitate safe , free movement inside the EU during the COVID-19 pandemic . It will be available free of charge , in digital or paper format and QR codes will help ensure its security and authenticity . The Digital Green Certificate will work in three ways : first , it will offer proof that a person has either being vaccinated , received a recent negative test result or recovered from COVID-19 and thus has antibodies . Second , it will make sure that this proof is recognised in every Member State and third , the certificate will help Member States to establish full freedom of movement in a safe , responsible and trusted manner . The Commission will build a gateway to ensure all certificates can be verified across the European Union and will support Member States in the technical implementation of certificates . The aim is to have the system in place by June and for this reason we have to ask Parliament to treat this file under the urgent procedure . We are counting on you . This is also an opportunity to influence global standards and lead by example based on our European values . The certificate is only part of our efforts towards a gradual safe and lasting reopening . Last week we also adopted the communication laying out what is needed to achieve this , including a common framework for response measures and measures covering testing treatments and vaccine sharing . The communication also covered support for the tourism and cultural sectors and continued support for global efforts to combat the pandemic and announce the future EU strategy on COVID-19 therapeutics . Also , last week , we adopted the recommendation on the use of waste water monitoring to track COVID-19 and its variants . Waste water monitoring has proven to be an effective , reliable and relatively cheap way to identify the presence of the virus , allowing for its earlier detection . And finally , we will issue a ‘ Lessons learned ’ communication in June as requested by the European Council . Moving on from COVID-19 matters , the Commission , together with the High Representative prepared a report on the state of play on political , economic and trade rela "
     ]
    }
   ],
   "source": [
    "raw1_2 = 'Maroš Šefčovič, Vice-President of the Commission. – It has now been over a year since Europe went into lockdown and overnight our lives were turned upside down as we put all our energies into fighting this terrible virus, which is causing so much suffering in Europe and around the world. A year of being limited in what we can do, where we can go, whom we can see, with whom we can meet and this all has understandably led to some pandemic fatigue. But now is not the time to take our eye off the ball. Despite some problems with the vaccine procurement and AstraZeneca in particular, which continues to under-deliver, we have good reason to hope that the situation will improve in the second quarter. We expect to receive 200 million doses of the Pfizer vaccine, 55 million doses of the single jab Johnson & Johnson vaccine and 35 million doses of the Moderna vaccine by the end of the second quarter. This is in addition to the 70 million doses of AstraZeneca currently foreseen, albeit far less than the contractually committed 180 million doses. If these estimates prove accurate, we should achieve our target of having 70% of Europe’s adult population fully vaccinated by the end of the summer. This is all the more important when we see the worrying developments with the new variants, now representing close to 80% of infections in some countries and to the spectre of the third wave approaching. So, as underlined by President von der Leyen last week, we will use the EU’s export authorisation scheme to bolster transparency and ensure reciprocity and proportionality in our vaccine-related dealings with third countries, especially those which manufacture vaccines themselves. I would like to be clear. The mechanism is not an export ban. In fact, so far 380 out of 381 requests for an export authorisation have been approved and with 43 million doses exported to 33 countries since the end of January, the EU is the world’s biggest exporter of vaccines. We will continue to act fairly and responsibly and fulfil our global leadership role. That is also why exports to low and middle-income countries, supplies through COVAX and exports to the EU overseas countries and territories remain unconditionally exempted. But we need to see fairness and the right balance when assessing the impact of planned exports. This is what the two adjustments to the existing mechanisms adopted today are about – to help us ensure timely access to vaccines for our EU citizens. As the president emphasised, this is an invitation to be open, because open roads run in both directions. We also need to forge an effective and lasting path towards reopening and recovery, one which fully upholds our fundamental principles of non-discrimination and data protection. To this end, last week, the Commission put forward a proposal to create a Digital Green Certificate to facilitate safe, free movement inside the EU during the COVID-19 pandemic. It will be available free of charge, in digital or paper format and QR codes will help ensure its security and authenticity. The Digital Green Certificate will work in three ways: first, it will offer proof that a person has either being vaccinated, received a recent negative test result or recovered from COVID-19 and thus has antibodies. Second, it will make sure that this proof is recognised in every Member State and third, the certificate will help Member States to establish full freedom of movement in a safe, responsible and trusted manner. The Commission will build a gateway to ensure all certificates can be verified across the European Union and will support Member States in the technical implementation of certificates. The aim is to have the system in place by June and for this reason we have to ask Parliament to treat this file under the urgent procedure. We are counting on you. This is also an opportunity to influence global standards and lead by example based on our European values. The certificate is only part of our efforts towards a gradual safe and lasting reopening. Last week we also adopted the communication laying out what is needed to achieve this, including a common framework for response measures and measures covering testing treatments and vaccine sharing. The communication also covered support for the tourism and cultural sectors and continued support for global efforts to combat the pandemic and announce the future EU strategy on COVID-19 therapeutics. Also, last week, we adopted the recommendation on the use of waste water monitoring to track COVID-19 and its variants. Waste water monitoring has proven to be an effective, reliable and relatively cheap way to identify the presence of the virus, allowing for its earlier detection. And finally, we will issue a ‘Lessons learned’ communication in June as requested by the European Council. Moving on from COVID-19 matters, the Commission, together with the High Representative prepared a report on the state of play on political, economic and trade rela'\n",
    "tokens1_2 = word_tokenize(raw1_2)\n",
    "for word in tokens1_2:\n",
    "    print(word, end=' ')"
   ]
  },
  {
   "cell_type": "code",
   "execution_count": 135,
   "metadata": {},
   "outputs": [
    {
     "name": "stdout",
     "output_type": "stream",
     "text": [
      "Manfred Weber , on behalf of the PPE Group . – We are in the middle of the third wave , and Europeans are dying every day . There are a lot of concerns outside , a lot of people are afraid , even scared . We have new lockdown measures all over Europe and a severe economic crisis , probably the biggest since the Second World War . That ’ s why our main message to the Council is : please stick together , please act together – we need unity in this critical moment of European history . Stop playing games , and we together have to do whatever we can do to vaccinate as many Europeans as soon as possible . That ’ s why the increase of production capacities is key . We really appreciate the work of Thierry Bretton in this regard . The certificate is a good step . I from PPE Group point of view can already clarify that we are in favour of a fast-track procedure , we want to bring this certificate as quick as possible alive . But allow me to also express that the idea of a certificate is not a new idea . We already discussed it in autumn last year . Kyriakos Mitsotakis already presented this in Council in January this year , and now we are in March , and the Commission is coming forward with a proposal . I like the proposal , but it is too late . And now you ’ re coming with a fast-track procedure . Normally , we all should really speed up in this process . The most important thing is that we have to keep our summer promise to offer every European a vaccination . The credibility of the European Union is already under pressure . We know this , and that ’ s why this promise is about trust ; we have to deliver whatever it takes . I ’ m also proud , like a lot of colleagues - I think , about the reality , and the situation that we share the vaccines with the rest of the world . But we have to see the reality – the rest of the world is not doing the same . The rest of the world is egoistic . The rest of the world is cold . And that ’ s why we Europeans should not be naive . That ’ s why I , on behalf of the PPE Group , welcome the revision of the export authorisation mechanism ; reciprocity and proportionality are key criteria for the future . We ’ ve sent 9 million vaccines to the UK , and they ’ ve delivered zero . We ’ ve sent more vaccines in the last three months to the UK than we have given to Spain . Dear colleagues , that is a reality , and that ’ s why we need to be loud and clear – the priority must be the European Union , the priority for the next month must be the Europeans . We can not not endanger the lives and health of our fellow citizens anymore . The implementation is now key . We see now the news from AstraZeneca . 29 million doses stockpiled in in Italy . I don ’ t know about the background but we need immediate clarification on this . If this is true , Vice-President , then I think the Commission must immediately prepare a breach of contract procedure as regards AstraZeneca . I would also say that it is unthinkable that we from now on export any kind of doses from AstraZeneca to the rest of the world until the company is ready to fulfil the contract , which they have with the European Union . The export has another element which I want to mention , and that is about the question of who gets then the doses . We ’ ve sent to Saudi Arabia more doses in the last three months than to the Baltic countries combined . Northern Macedonia has the highest death rate per capita in the world , and they get zero doses from Europe . Zero currently . Today the decision who gets the exported vaccines is a business question . It is decided at international level by headquarters of big companies , of pharmaceutical companies , but it is not decided by the question where is the biggest need , and by geopolitical questions like the region of Northern Macedonia . That is not a criteria currently , and that ’ s why we have to go further . We spend money for COVAX , but we have no vaccines for COVAX . That is the reality today , and that ’ s why we need a general revision of this procedure of the European Union . We are not in normal times . I want to also focus on external affairs . I want to thank our President David Sassoli and all colleagues who contributed now to the China developments . From a Chinese point of view , some colleagues see now sanctions . I say , they ’ re our heroes in the fight for human rights , and I applaud them , they have so full support of the whole Chamber and we are proud of them that they are doing such a great job . The same guiding principle that we fight for the European way of life , for human rights , freedom , democracy , rule of law , equal treatment of men and women in regard to Turkey . That ’ s why we welcome also the statement of the Commission towards Turkey . That is a step in the right direction . And on Russia , let me underline that there is a need , obviously again , to discuss Nord Stream 2 when Joe Biden is there . This House was always clear in the last years that is not in the interests of the European Union . Nord Stream 2 harms our neighbours like the Ukraine , like our Ukrainian friends , and gas is financing the Putin system , which is not in the interest of the European Union . That ’ s why Nord Stream 2 is not a business case at all . We need a political discussion on this . That is at stake when it is about the decision of the European Council , and if you allow me finally , Mr President , I know that we have tomorrow a discussion about Malta . I only want to express , having in mind that Daphne Caruana Galizia was murdered years ago , because she simply did her job in the fight against corruption , and her weapon was her pen . Having this in mind that now of one murders said publicly that two ministers were involved in Malta in this process , I think that is an issue which we all have to be aware of and have to be concerned about . I say today because I wish that , for once , the European Council would also have the strength to discuss these rule of law questions also in the format of the Council , and not just leave it to the Commission . "
     ]
    }
   ],
   "source": [
    "raw1_3 = 'Manfred Weber, on behalf of the PPE Group. – We are in the middle of the third wave, and Europeans are dying every day. There are a lot of concerns outside, a lot of people are afraid, even scared. We have new lockdown measures all over Europe and a severe economic crisis, probably the biggest since the Second World War. That’s why our main message to the Council is: please stick together, please act together – we need unity in this critical moment of European history. Stop playing games, and we together have to do whatever we can do to vaccinate as many Europeans as soon as possible. That’s why the increase of production capacities is key. We really appreciate the work of Thierry Bretton in this regard. The certificate is a good step. I from PPE Group point of view can already clarify that we are in favour of a fast-track procedure, we want to bring this certificate as quick as possible alive. But allow me to also express that the idea of a certificate is not a new idea. We already discussed it in autumn last year. Kyriakos Mitsotakis already presented this in Council in January this year, and now we are in March, and the Commission is coming forward with a proposal. I like the proposal, but it is too late. And now you’re coming with a fast-track procedure. Normally, we all should really speed up in this process. The most important thing is that we have to keep our summer promise to offer every European a vaccination. The credibility of the European Union is already under pressure. We know this, and that’s why this promise is about trust; we have to deliver whatever it takes. I’m also proud, like a lot of colleagues - I think, about the reality, and the situation that we share the vaccines with the rest of the world. But we have to see the reality – the rest of the world is not doing the same. The rest of the world is egoistic. The rest of the world is cold. And that’s why we Europeans should not be naive. That’s why I, on behalf of the PPE Group, welcome the revision of the export authorisation mechanism; reciprocity and proportionality are key criteria for the future. We’ve sent 9 million vaccines to the UK, and they’ve delivered zero. We’ve sent more vaccines in the last three months to the UK than we have given to Spain. Dear colleagues, that is a reality, and that’s why we need to be loud and clear – the priority must be the European Union, the priority for the next month must be the Europeans. We cannot not endanger the lives and health of our fellow citizens anymore. The implementation is now key. We see now the news from AstraZeneca. 29 million doses stockpiled in in Italy. I don’t know about the background but we need immediate clarification on this. If this is true, Vice-President, then I think the Commission must immediately prepare a breach of contract procedure as regards AstraZeneca. I would also say that it is unthinkable that we from now on export any kind of doses from AstraZeneca to the rest of the world until the company is ready to fulfil the contract, which they have with the European Union. The export has another element which I want to mention, and that is about the question of who gets then the doses. We’ve sent to Saudi Arabia more doses in the last three months than to the Baltic countries combined. Northern Macedonia has the highest death rate per capita in the world, and they get zero doses from Europe. Zero currently. Today the decision who gets the exported vaccines is a business question. It is decided at international level by headquarters of big companies, of pharmaceutical companies, but it is not decided by the question where is the biggest need, and by geopolitical questions like the region of Northern Macedonia. That is not a criteria currently, and that’s why we have to go further. We spend money for COVAX, but we have no vaccines for COVAX. That is the reality today, and that’s why we need a general revision of this procedure of the European Union. We are not in normal times. I want to also focus on external affairs. I want to thank our President David Sassoli and all colleagues who contributed now to the China developments. From a Chinese point of view, some colleagues see now sanctions. I say, they’re our heroes in the fight for human rights, and I applaud them, they have so full support of the whole Chamber and we are proud of them that they are doing such a great job. The same guiding principle that we fight for the European way of life, for human rights, freedom, democracy, rule of law, equal treatment of men and women in regard to Turkey. That’s why we welcome also the statement of the Commission towards Turkey. That is a step in the right direction. And on Russia, let me underline that there is a need, obviously again, to discuss Nord Stream 2 when Joe Biden is there. This House was always clear in the last years that is not in the interests of the European Union. Nord Stream 2 harms our neighbours like the Ukraine, like our Ukrainian friends, and gas is financing the Putin system, which is not in the interest of the European Union. That’s why Nord Stream 2 is not a business case at all. We need a political discussion on this. That is at stake when it is about the decision of the European Council, and if you allow me finally, Mr President, I know that we have tomorrow a discussion about Malta. I only want to express, having in mind that Daphne Caruana Galizia was murdered years ago, because she simply did her job in the fight against corruption, and her weapon was her pen. Having this in mind that now of one murders said publicly that two ministers were involved in Malta in this process, I think that is an issue which we all have to be aware of and have to be concerned about. I say today because I wish that, for once, the European Council would also have the strength to discuss these rule of law questions also in the format of the Council, and not just leave it to the Commission.'\n",
    "tokens1_3 = word_tokenize(raw1_3)\n",
    "for word in tokens1_3:\n",
    "    print(word, end=' ')"
   ]
  },
  {
   "cell_type": "code",
   "execution_count": 136,
   "metadata": {},
   "outputs": [
    {
     "name": "stdout",
     "output_type": "stream",
     "text": [
      "Iratxe García Pérez , on behalf of the S & D Group . – Mr President , the delay in vaccination and the arrival of the fourth wave threaten to delay the objective of the European Union of returning to normality before the summer . We face a bleak horizon . If we trusted in the distribution of 160 million doses during the first quarter , reality reminds us that 70 million have been distributed . And , furthermore , today we have breakfast with the news – known to all – that 30 million doses of AstraZeneca vaccines have been found hidden somewhere in Italy . And let me tell you that this is already the straw that breaks the camels back . Because we are not talking about breaching the contracts and commitments they had assumed ; is that they are laughing in our face and we can not allow it as Europeans . This is no longer the time to sit down and talk , to discuss , to see how it can be solved , no ! It is time to firmly present actions against a pharmaceutical company that is destroying the prestige of the rest of the companies that are fulfilling their commitments or that , at least , are trying to do so . So I ask the Commission to get down to work to act in the face of this flagrant attack on the commitments they had made . I agree that the ban on exports is not and can not be the solution , because , moreover , it is very unintelligent and we would endanger the supply chain . But I also say that the review announced today of the export control mechanism is late , because it is unacceptable that the United Kingdom has received 10 million doses manufactured in the territory of the European Union , while the government of Boris Johnson has not sent even one single vaccine to our internal market . Therefore , here we are talking about something very important , which is to meet the objectives and also not to destroy the prestige , not of the European Commission ⸻here we are not talking about the prestige of the European Commission⸻ , but of the European Union . We have all supported the European vaccination strategy , but we have to do things right , otherwise people will stop trusting Europe . We can not resign ourselves to a second black spring sweeping Europe . The next quarter will be key : if the distribution of doses does not accelerate , we will face an explosive scenario , with an increase in infections and an increasingly distressed population , which we have to understand . The latest measures presented by the European Commission are a positive step : the digital green certificate and the voluntary health seal for tourism and hospitality are appropriate initiatives to coordinate the reopening and guarantee safe travel . But the return of free circulation will only be a triumph if the most pressing objective , which is to speed up vaccines , is first met . With a slow response to the pandemic , not only lives are lost : the dream of a rapid economic recovery fades and we risk living in societies gripped by anxiety , panic , depression . We have been in this situation for a year and we have asked people to make many sacrifices . We all have brothers who have had to close a business ; friends who have lost their father and mother in less than a fortnight ; adolescent children or nephews whom we have led to have their social life confined to the four walls of their room . We need to be aware of how much we are playing for . And alongside vaccination , we also have the enormous task of ensuring that the €750 billion Recovery Fund is implemented quickly . Seven Member States have not yet submitted their recovery plans to the Commission and fourteen have not ratified own resources . I want to remind you that they rushed this Parliament to us , that we had to act and unblock the situation , and now months have passed and we still have to start this ratification of own resources . So we ask the member states to do so quickly . A late recovery will also compromise the role of the European Union in an increasingly multipolar world with less multilateralism . Faced with governments that , like that of Turkey , prioritize confrontation over cooperation , we must act firmly and with dialogue at the same time . Firmly when they violate human rights on Turkish and European Union soil ; and with dialogue when the interests of our citizens are at stake . The attempt of Erdogan to outlaw the Peoples Democratic Party and his decision to withdraw Turkey from the Istanbul Convention can not go unpunished . After a year of the pandemic , it has become clear that if we want to overcome this crisis , we must dedicate all our energy to the vaccination campaign and the implementation of the Recovery Plan . instead of waste "
     ]
    }
   ],
   "source": [
    "raw1_4 = 'Iratxe García Pérez, on behalf of the S&D Group. – Mr President, the delay in vaccination and the arrival of the fourth wave threaten to delay the objective of the European Union of returning to normality before the summer. We face a bleak horizon. If we trusted in the distribution of 160 million doses during the first quarter, reality reminds us that 70 million have been distributed. And, furthermore, today we have breakfast with the news – known to all – that 30 million doses of AstraZeneca vaccines have been found hidden somewhere in Italy. And let me tell you that this is already the straw that breaks the camels back. Because we are not talking about breaching the contracts and commitments they had assumed; is that they are laughing in our face and we cannot allow it as Europeans. This is no longer the time to sit down and talk, to discuss, to see how it can be solved, no! It is time to firmly present actions against a pharmaceutical company that is destroying the prestige of the rest of the companies that are fulfilling their commitments or that, at least, are trying to do so. So I ask the Commission to get down to work to act in the face of this flagrant attack on the commitments they had made. I agree that the ban on exports is not and cannot be the solution, because, moreover, it is very unintelligent and we would endanger the supply chain. But I also say that the review announced today of the export control mechanism is late, because it is unacceptable that the United Kingdom has received 10 million doses manufactured in the territory of the European Union, while the government of Boris Johnson has not sent even one single vaccine to our internal market. Therefore, here we are talking about something very important, which is to meet the objectives and also not to destroy the prestige, not of the European Commission ⸻here we are not talking about the prestige of the European Commission⸻, but of the European Union. We have all supported the European vaccination strategy, but we have to do things right, otherwise people will stop trusting Europe. We cannot resign ourselves to a second black spring sweeping Europe. The next quarter will be key: if the distribution of doses does not accelerate, we will face an explosive scenario, with an increase in infections and an increasingly distressed population, which we have to understand. The latest measures presented by the European Commission are a positive step: the digital green certificate and the voluntary health seal for tourism and hospitality are appropriate initiatives to coordinate the reopening and guarantee safe travel. But the return of free circulation will only be a triumph if the most pressing objective, which is to speed up vaccines, is first met. With a slow response to the pandemic, not only lives are lost: the dream of a rapid economic recovery fades and we risk living in societies gripped by anxiety, panic, depression. We have been in this situation for a year and we have asked people to make many sacrifices. We all have brothers who have had to close a business; friends who have lost their father and mother in less than a fortnight; adolescent children or nephews whom we have led to have their social life confined to the four walls of their room. We need to be aware of how much we are playing for. And alongside vaccination, we also have the enormous task of ensuring that the €750 billion Recovery Fund is implemented quickly. Seven Member States have not yet submitted their recovery plans to the Commission and fourteen have not ratified own resources. I want to remind you that they rushed this Parliament to us, that we had to act and unblock the situation, and now months have passed and we still have to start this ratification of own resources. So we ask the member states to do so quickly. A late recovery will also compromise the role of the European Union in an increasingly multipolar world with less multilateralism. Faced with governments that, like that of Turkey, prioritize confrontation over cooperation, we must act firmly and with dialogue at the same time. Firmly when they violate human rights on Turkish and European Union soil; and with dialogue when the interests of our citizens are at stake. The attempt of Erdogan to outlaw the Peoples Democratic Party and his decision to withdraw Turkey from the Istanbul Convention cannot go unpunished. After a year of the pandemic, it has become clear that if we want to overcome this crisis, we must dedicate all our energy to the vaccination campaign and the implementation of the Recovery Plan. instead of waste'\n",
    "tokens1_4 = word_tokenize(raw1_4)\n",
    "for word in tokens1_4:\n",
    "    print(word, end=' ')"
   ]
  },
  {
   "cell_type": "code",
   "execution_count": 137,
   "metadata": {},
   "outputs": [
    {
     "name": "stdout",
     "output_type": "stream",
     "text": [
      "Katalin Cseh , on behalf of the Renew Group . – Mr President , right now we are at a make-or-break moment in our pandemic response . Just think back to the early days of the pandemic – to where we were a year ago . We had 27 Member States with 27 different strategies . We saw people piled up at borders . We saw a shortage of medicines , a shortage of food . These are sights that were unimaginable to witness in Europe in the 21st century . And let ’ s acknowledge that we ’ ve come very far from there and we chose the right path , the path to pursue a joint European response , because this is the only way we can get out of the crisis together . But let ’ s also learn from what went wrong . Right now we have a chance with the Digital Green Certificate to do that and also to hear the voice of our citizens , because many millions of Europeans are eager to get their lives back and also their livelihood . That very often depends on tourism , on transport , on cross-border trade . But there are also other voices who are afraid about how their data is being used or if they are being discriminated against . So we also have to hear that voice as well . So this is why this Parliament will continue to be the voice of those 450 million citizens . We are elected by them and we will do everything in our power to help them in this crucial situation . And we have to understand what ’ s at stake here , because in the problems witnessed around vaccine procurement , the European Union risks becoming the number one scapegoat . We risk becoming the prey of Euroscepticism , of those powers who work against the stability of our Union and who prey on this crucial moment where many people in Europe are living their darkest hours . Right now a lot of citizens , frontline workers , really suffer from the COVID response . They are struggling and they need us . We need to speed up vaccination . This is the only light at the end of the tunnel . So this is why I am so glad to see the efforts of Thierry Breton , who really does an amazing job , offering us some good news and some clarity as well , and we need to continue further with this plan . We need to increase the production capacities , to set up more ambitious targets for deliveries , to work together with manufacturers and also to ramp up production . These are the crucial steps we have to follow . And in the wake of these troubles , just as another leader said before me , I was also so shocked to learn about the 29 million AstraZeneca vaccine doses that are stockpiled . How can they even justify that ? We are racing against time . This debate was never about the United Kingdom , for me it ’ s about a specific company not honouring its contractual commitments and the Commission really needs to make sure whatever it takes to enforce these commitments in the name of our citizens . Lastly , let me briefly talk about another issue that ’ s not on the Council agenda and that I ’ m very sorry for . We just heard about it from the President of the Parliament . And we all know that only three days before the Council meeting China slapped sanctions on elected European officials and public bodies , academics , representatives , our very own Subcommittee on Human Rights – even a Council committee is on China ’ s list – only for speaking up for human rights . We have to respond , and it has to come from the 27 national leaders who say with one voice that we will never be bullied . We need to be clear . Our comprehensive investment deal has to be off the table as long as we see no meaningful progress in the treatment of Uyghurs and Hong Kong ’ s pro—democracy movement . And no product will enter a market that is tainted by the suffering of people who are held in prison camps . Colleagues , we are the European Union . Our entire history , our entire purpose rests on the promotion of peace and human rights and we will never stay silent in the face of such brutality . So this is my message also to the Chinese Communist Party , and this is the message I also expect to hear from the Council tomorrow . "
     ]
    }
   ],
   "source": [
    "raw1_5 = 'Katalin Cseh, on behalf of the Renew Group. – Mr President, right now we are at a make-or-break moment in our pandemic response. Just think back to the early days of the pandemic – to where we were a year ago. We had 27 Member States with 27 different strategies. We saw people piled up at borders. We saw a shortage of medicines, a shortage of food. These are sights that were unimaginable to witness in Europe in the 21st century. And let’s acknowledge that we’ve come very far from there and we chose the right path, the path to pursue a joint European response, because this is the only way we can get out of the crisis together. But let’s also learn from what went wrong. Right now we have a chance with the Digital Green Certificate to do that and also to hear the voice of our citizens, because many millions of Europeans are eager to get their lives back and also their livelihood. That very often depends on tourism, on transport, on cross-border trade. But there are also other voices who are afraid about how their data is being used or if they are being discriminated against. So we also have to hear that voice as well. So this is why this Parliament will continue to be the voice of those 450 million citizens. We are elected by them and we will do everything in our power to help them in this crucial situation. And we have to understand what’s at stake here, because in the problems witnessed around vaccine procurement, the European Union risks becoming the number one scapegoat. We risk becoming the prey of Euroscepticism, of those powers who work against the stability of our Union and who prey on this crucial moment where many people in Europe are living their darkest hours. Right now a lot of citizens, frontline workers, really suffer from the COVID response. They are struggling and they need us. We need to speed up vaccination. This is the only light at the end of the tunnel. So this is why I am so glad to see the efforts of Thierry Breton, who really does an amazing job, offering us some good news and some clarity as well, and we need to continue further with this plan. We need to increase the production capacities, to set up more ambitious targets for deliveries, to work together with manufacturers and also to ramp up production. These are the crucial steps we have to follow. And in the wake of these troubles, just as another leader said before me, I was also so shocked to learn about the 29 million AstraZeneca vaccine doses that are stockpiled. How can they even justify that? We are racing against time. This debate was never about the United Kingdom, for me it’s about a specific company not honouring its contractual commitments and the Commission really needs to make sure whatever it takes to enforce these commitments in the name of our citizens. Lastly, let me briefly talk about another issue that’s not on the Council agenda and that I’m very sorry for. We just heard about it from the President of the Parliament. And we all know that only three days before the Council meeting China slapped sanctions on elected European officials and public bodies, academics, representatives, our very own Subcommittee on Human Rights – even a Council committee is on China’s list – only for speaking up for human rights. We have to respond, and it has to come from the 27 national leaders who say with one voice that we will never be bullied. We need to be clear. Our comprehensive investment deal has to be off the table as long as we see no meaningful progress in the treatment of Uyghurs and Hong Kong’s pro—democracy movement. And no product will enter a market that is tainted by the suffering of people who are held in prison camps. Colleagues, we are the European Union. Our entire history, our entire purpose rests on the promotion of peace and human rights and we will never stay silent in the face of such brutality. So this is my message also to the Chinese Communist Party, and this is the message I also expect to hear from the Council tomorrow.'\n",
    "tokens1_5 = word_tokenize(raw1_5)\n",
    "for word in tokens1_5:\n",
    "    print(word, end=' ')"
   ]
  },
  {
   "cell_type": "code",
   "execution_count": 138,
   "metadata": {},
   "outputs": [
    {
     "name": "stdout",
     "output_type": "stream",
     "text": [
      "Nicolas Bay , on behalf of the ID group . – Mr President , the next Council meeting will deal in particular with the relations the European Union has with the United States , then with Russia , with however a slight difference in treatment since the American President , Joe Biden , will be present . by videoconference to discuss directly with European Heads of State and Government . We would have liked the same eagerness four years ago to dialogue with Donald Trump , but it is true , and it is heartbreaking , that the election of Biden was a relief for the European institutions , so happy to be able to place themselves again in the wake of – and even , one might say , under the tutelage – of Washington . It is of course legitimate to maintain good relations with the United States , a friendly country , an ally and a leading partner . But they are also our competitors . They are our rivals on the economic and commercial field , in particular , and sometimes their interests or their choices are directly opposed to ours – as we see with their unholy alliance with Turkey or their position on the Iranian nuclear issue . But it is a safe bet that the exchanges with Joe Biden will mainly focus - once again , by the way - on Russia . Undoubtedly new sanctions will be evoked in the name of a right-of-humanism gone mad which is also brandished in a quasi-religious way to attack certain countries of Central Europe . Yet Russia is a natural partner for Europe , as the Nord Stream 2 gas pipeline issue recently illustrated . It is understandable that recent history remains traumatic for some Eastern European countries , but Russia of today is not the USSR of yesterday . It is not a question of throwing oneself into the arms of Moscow to pass from one guardianship to another , but of finding a balance between West and East . Europe can and must exist by itself and for itself . Whether it is the economy , industry , digital , health or terrorism , we must respond with cooperation and protection without losing ourselves in a pseudo multilateralism that often rhymes with powerlessness . We are left , Mr Šefčovič , stunned to hear you say yesterday , and I quote : We have been open and generous . Now we invite our partners to be as open and transparent as we are. ” But what confusing naivety of the Commission ! To which is added , moreover , the incompetence on the fiasco of the vaccines which was the last demonstration of it . Clearly , the political guidelines and the current mode of operation of the European Union are not up to the great challenges that we must meet collectively . "
     ]
    }
   ],
   "source": [
    "raw1_6 = 'Nicolas Bay, on behalf of the ID group. – Mr President, the next Council meeting will deal in particular with the relations the European Union has with the United States, then with Russia, with however a slight difference in treatment since the American President, Joe Biden, will be present. by videoconference to discuss directly with European Heads of State and Government. We would have liked the same eagerness four years ago to dialogue with Donald Trump, but it is true, and it is heartbreaking, that the election of Biden was a relief for the European institutions, so happy to be able to place themselves again in the wake of – and even, one might say, under the tutelage – of Washington. It is of course legitimate to maintain good relations with the United States, a friendly country, an ally and a leading partner. But they are also our competitors. They are our rivals on the economic and commercial field, in particular, and sometimes their interests or their choices are directly opposed to ours – as we see with their unholy alliance with Turkey or their position on the Iranian nuclear issue. But it is a safe bet that the exchanges with Joe Biden will mainly focus - once again, by the way - on Russia. Undoubtedly new sanctions will be evoked in the name of a right-of-humanism gone mad which is also brandished in a quasi-religious way to attack certain countries of Central Europe. Yet Russia is a natural partner for Europe, as the Nord Stream 2 gas pipeline issue recently illustrated. It is understandable that recent history remains traumatic for some Eastern European countries, but Russia of today is not the USSR of yesterday. It is not a question of throwing oneself into the arms of Moscow to pass from one guardianship to another, but of finding a balance between West and East. Europe can and must exist by itself and for itself. Whether it is the economy, industry, digital, health or terrorism, we must respond with cooperation and protection without losing ourselves in a pseudo multilateralism that often rhymes with powerlessness. We are left, Mr Šefčovič, stunned to hear you say yesterday, and I quote: We have been open and generous. Now we invite our partners to be as open and transparent as we are.” But what confusing naivety of the Commission! To which is added, moreover, the incompetence on the fiasco of the vaccines which was the last demonstration of it. Clearly, the political guidelines and the current mode of operation of the European Union are not up to the great challenges that we must meet collectively.'\n",
    "tokens1_6 = word_tokenize(raw1_6)\n",
    "for word in tokens1_6:\n",
    "    print(word, end=' ')"
   ]
  },
  {
   "cell_type": "code",
   "execution_count": 139,
   "metadata": {},
   "outputs": [
    {
     "name": "stdout",
     "output_type": "stream",
     "text": [
      "Philippe Lamberts , on behalf of the Verts/ALE Group . – Mr President , ladies and gentlemen , I would first like to address my predecessor , Mr Bay . I don not think , Mr Bay , that if the French government had separately signed a contract with AstraZeneca , it would have been in better shape today . In other words , pointing the finger at the European Commission because a private supplier – I insist on this – is unable , confused or does not want to meet its contractual obligations , I find that just a bit easy . I would like to tell you , dear colleagues , that we all want – and not only our fellow citizens – to regain all our freedoms as quickly as possible . The European Union is a continent of freedoms , a union of freedoms , and it is true that these freedoms have been seriously handicapped because of COVID . We also need to bring some order , because it is clear that when listening to colleagues who have to travel – I am less so , but many of you here have to travel – different certificates are required going from one country to another , it is still a bit of a mess . We have to put all this in order . Last important element : it is often said that the countries of the South need the tourist season . No : it is the European Union that needs us not to miss this tourist season ; in other words , there is obviously the possibility for Europeans to relax , but economically , the impact on the southern countries of missing the tourist season is colossal , and would have the effect of enormously increasing the divergences within the zone euro . In other words , it is in all of our interests that this tourist season be saved . So , is this famous green certificate a solution to this ? Maybe , subject to a number of conditions . First of all , we would have to have a scientific basis : if we are not even sure that a vaccinated person is no longer contagious , then I do not really see what we are talking about , because giving the certificate in not knowing if the person can transmit the virus is somehow giving oneself a false sense of security . The second element , which Katalin Cseh mentioned , is that of discrimination . Quite rightly , the Commission tells us about a certificate that covers vaccination as well as having recovered from the infection and having tested negative . This is fine , but there is no guarantee in the text that Member States will not discriminate based on the situation in which the person finds themselves . We can not , through the back door , make a vaccine that everyone here says must be free a de facto requirement for our citizens to have the right to a normal life . Third element and third condition is respect for privacy . As much as I fully understand that the public authority should be able to verify the authenticity of a certificate , I do not understand that States can be given the possibility , for example , of collecting data on who has used a certificate , when and where . There is no reason for states to know and be able to track us . We have already entered the era of surveillance capitalism , I would like that in any case , we were not inspired by China to arrive at the era of the generalized surveillance state . Last element , if we set up this certificate , it must be limited both in time and in space . In other words , there is no question of extending it to uses for which it is not intended . I would therefore like to say , ladies and gentlemen , Mr President , and I conclude on this , that whenever it is a question of arbitrating between security – in this case , health security – and freedom , these are issues that need to be the subject of full democratic debate and public deliberation . In other words , engaging in an emergency procedure , which de facto drastically limits the possibilities for this Parliament to exercise its responsibilities of democratic deliberation , is a colossal mistake . The democratic mistrust of our citizens towards our institutions , and not only the European institutions , has only grown . Let us not feed this . "
     ]
    }
   ],
   "source": [
    "raw1_7 = 'Philippe Lamberts, on behalf of the Verts/ALE Group. – Mr President, ladies and gentlemen, I would first like to address my predecessor, Mr Bay. I don not think, Mr Bay, that if the French government had separately signed a contract with AstraZeneca, it would have been in better shape today. In other words, pointing the finger at the European Commission because a private supplier – I insist on this – is unable, confused or does not want to meet its contractual obligations, I find that just a bit easy. I would like to tell you, dear colleagues, that we all want – and not only our fellow citizens – to regain all our freedoms as quickly as possible. The European Union is a continent of freedoms, a union of freedoms, and it is true that these freedoms have been seriously handicapped because of COVID. We also need to bring some order, because it is clear that when listening to colleagues who have to travel – I am less so, but many of you here have to travel – different certificates are required going from one country to another, it is still a bit of a mess. We have to put all this in order. Last important element: it is often said that the countries of the South need the tourist season. No: it is the European Union that needs us not to miss this tourist season; in other words, there is obviously the possibility for Europeans to relax, but economically, the impact on the southern countries of missing the tourist season is colossal, and would have the effect of enormously increasing the divergences within the zone euro. In other words, it is in all of our interests that this tourist season be saved. So, is this famous green certificate a solution to this? Maybe, subject to a number of conditions. First of all, we would have to have a scientific basis: if we are not even sure that a vaccinated person is no longer contagious, then I do not really see what we are talking about, because giving the certificate in not knowing if the person can transmit the virus is somehow giving oneself a false sense of security. The second element, which Katalin Cseh mentioned, is that of discrimination. Quite rightly, the Commission tells us about a certificate that covers vaccination as well as having recovered from the infection and having tested negative. This is fine, but there is no guarantee in the text that Member States will not discriminate based on the situation in which the person finds themselves. We cannot, through the back door, make a vaccine that everyone here says must be free a de facto requirement for our citizens to have the right to a normal life. Third element and third condition is respect for privacy. As much as I fully understand that the public authority should be able to verify the authenticity of a certificate, I do not understand that States can be given the possibility, for example, of collecting data on who has used a certificate, when and where. There is no reason for states to know and be able to track us. We have already entered the era of surveillance capitalism, I would like that in any case, we were not inspired by China to arrive at the era of the generalized surveillance state. Last element, if we set up this certificate, it must be limited both in time and in space. In other words, there is no question of extending it to uses for which it is not intended. I would therefore like to say, ladies and gentlemen, Mr President, and I conclude on this, that whenever it is a question of arbitrating between security – in this case, health security – and freedom , these are issues that need to be the subject of full democratic debate and public deliberation. In other words, engaging in an emergency procedure, which de facto drastically limits the possibilities for this Parliament to exercise its responsibilities of democratic deliberation, is a colossal mistake. The democratic mistrust of our citizens towards our institutions, and not only the European institutions, has only grown. Let us not feed this.'\n",
    "tokens1_7 = word_tokenize(raw1_7)\n",
    "for word in tokens1_7:\n",
    "    print(word, end=' ')"
   ]
  },
  {
   "cell_type": "code",
   "execution_count": 140,
   "metadata": {},
   "outputs": [
    {
     "name": "stdout",
     "output_type": "stream",
     "text": [
      "Raffaele Fitto , on behalf of the ECR Group . - ( IT ) Mr President , ladies and gentlemen , a year ago the pandemic hit our continent for the first time , putting a strain on our health systems , causing millions of bereaved , changing our way of life and imposing restrictions on citizens and businesses . We are now in the midst of a third wave : the epidemiological situation is worsening considerably , with a sharp increase in the number of infections and hospitalizations and the prevalence of the new British variant . Several Member States have announced or are in the process of announcing new partial or full lockdowns . The EU response seems slow and ineffective . The vaccination campaign is struggling to take off ; the goal of vaccinating the vast majority of the European population before the summer seems to be far off ; the feeling of mistrust grows in our citizens ; entire sectors do not yet know when they will be able to resume their activity . It is time for a real change of pace , for concrete responses on compliance with contracts , on procurement , on improving production and logistical capacity , as well as reciprocity and proportionality in the exchange of vaccines with third countries . Vaccines are the only weapons we have to contain and defeat the virus , recover our daily lives and allow a true and lasting recovery of the European economy . A recovery that must have businesses , in particular small and medium-sized enterprises , at the center , and to do this , first of all , the rules of economic governance must be reviewed : less austerity , more investments , preserving and relaunching the single market with less bureaucracy and a regulatory environment able to guarantee the development and competitiveness of our economies , avoiding imbalances and asymmetries . In this regard , the digital green certificate , proposed by the Commission to fully restore the free movement of people and especially to restart the tourism sector , is positive . But on condition that it is promptly approved before the summer and structured and implemented effectively to prevent unequal treatment within the European Union and sensitive data are protected , but above all to allow the tourism sector and all activities to it connected with planning the summer season and promoting economic and employment recovery . This crisis has shown that too often choices have been made in the past that have made us dependent on others : we need to work for strategic autonomy , for all the fundamental technologies of the value chains and the most sensitive industrial systems . The digital transition can be an important tool for relaunching our economies and creating and transforming new jobs . But at the same time it is necessary that no one is left behind and that our values ​​and above all our safety are guaranteed . To do this , a credible , and not subordinate , European Union on the international stage is needed . In the Eastern Mediterranean there is a need for a change with respect to the policy of the recent past towards Turkey : yes to dialogue , but it is enough to be subjected to the blackmail of Erdogan and prevaricating actions . His hegemonic attempt in the Mediterranean must be stopped clearly and decisively . At the same time , the European Union and the Member States need to develop a new strategy for relations with Russia , based on promoting democratic values , the rule of law , fundamental freedoms and human rights . Disastrous diplomatic missions , such as the one recently carried out by High Representative Borrell in Moscow , must be avoided , just as the Nord Stream 2 project must be clearly and definitively discussed in this Parliament . These are the salient points that we , as a group of Conservatives , bring to the attention of the Council and we hope that we will be given clear answers on this . "
     ]
    }
   ],
   "source": [
    "raw1_8 = 'Raffaele Fitto, on behalf of the ECR Group. - (IT) Mr President, ladies and gentlemen, a year ago the pandemic hit our continent for the first time, putting a strain on our health systems, causing millions of bereaved, changing our way of life and imposing restrictions on citizens and businesses. We are now in the midst of a third wave: the epidemiological situation is worsening considerably, with a sharp increase in the number of infections and hospitalizations and the prevalence of the new British variant. Several Member States have announced or are in the process of announcing new partial or full lockdowns. The EU response seems slow and ineffective. The vaccination campaign is struggling to take off; the goal of vaccinating the vast majority of the European population before the summer seems to be far off; the feeling of mistrust grows in our citizens; entire sectors do not yet know when they will be able to resume their activity. It is time for a real change of pace, for concrete responses on compliance with contracts, on procurement, on improving production and logistical capacity, as well as reciprocity and proportionality in the exchange of vaccines with third countries. Vaccines are the only weapons we have to contain and defeat the virus, recover our daily lives and allow a true and lasting recovery of the European economy. A recovery that must have businesses, in particular small and medium-sized enterprises, at the center, and to do this, first of all, the rules of economic governance must be reviewed: less austerity, more investments, preserving and relaunching the single market with less bureaucracy and a regulatory environment able to guarantee the development and competitiveness of our economies, avoiding imbalances and asymmetries. In this regard, the digital green certificate, proposed by the Commission to fully restore the free movement of people and especially to restart the tourism sector, is positive. But on condition that it is promptly approved before the summer and structured and implemented effectively to prevent unequal treatment within the European Union and sensitive data are protected, but above all to allow the tourism sector and all activities to it connected with planning the summer season and promoting economic and employment recovery. This crisis has shown that too often choices have been made in the past that have made us dependent on others: we need to work for strategic autonomy, for all the fundamental technologies of the value chains and the most sensitive industrial systems. The digital transition can be an important tool for relaunching our economies and creating and transforming new jobs. But at the same time it is necessary that no one is left behind and that our values ​​and above all our safety are guaranteed. To do this, a credible, and not subordinate, European Union on the international stage is needed. In the Eastern Mediterranean there is a need for a change with respect to the policy of the recent past towards Turkey: yes to dialogue, but it is enough to be subjected to the blackmail of Erdogan and prevaricating actions. His hegemonic attempt in the Mediterranean must be stopped clearly and decisively. At the same time, the European Union and the Member States need to develop a new strategy for relations with Russia, based on promoting democratic values, the rule of law, fundamental freedoms and human rights. Disastrous diplomatic missions, such as the one recently carried out by High Representative Borrell in Moscow, must be avoided, just as the Nord Stream 2 project must be clearly and definitively discussed in this Parliament. These are the salient points that we, as a group of Conservatives, bring to the attention of the Council and we hope that we will be given clear answers on this.'\n",
    "tokens1_8 = word_tokenize(raw1_8)\n",
    "for word in tokens1_8:\n",
    "    print(word, end=' ')"
   ]
  },
  {
   "cell_type": "code",
   "execution_count": 141,
   "metadata": {},
   "outputs": [
    {
     "name": "stdout",
     "output_type": "stream",
     "text": [
      "Martin Schirdewan , on behalf of The Left Group . - Mister President ! While the EU is vaccinating at a the pace of a snail , the third wave of the pandemic is rushing towards us unabated . More than 500,000 EU citizens have now died from Corona , and many hundreds are added every day . The existence of millions of Europeans is threatened , the economy in the EU collapsed by up to 8 % in the last year . We are in a historic crisis that demands political responsibility - but that is lacking . There is growing uneasiness among the population with the feeling that the EU is reeling through this pandemic without leadership or responsibility . The Commission has admitted mistakes . But why , Mr. Šefčovič , are these not corrected ? Publish all contracts with the pharmaceutical companies . If you finally release the patents , then the vaccines can be manufactured with all globally available production capacities . Develop a common European strategy on how to tackle the virus , how to coordinate health protection and how to limit the social and economic consequences for the population . They have become dependent on the Big Pharma and trust the market . But the case of AstraZeneca , where 29 million cans were hoarded in Italy and were accidentally found today , proves that the market does not regulate anything at all . And you prove it yourself by not wanting to deliver any vaccines to the Global South for the time being , and at the same time you are talking about a vaccine export ban . But you also realize that stopping exports can also result in retaliation – which in turn means that vaccine production in the EU itself can be harmed by it , and the result is that everyone ends up worse off and no one is helped . If you , the Commission , were to be given a school grade , it would be : European Commission – five minus , you got stuck . So now the European vaccination card . As long as not all Europeans have had the chance to be vaccinated , this certification must not lead to the exercise of fundamental rights being dependent on vaccination status . The protection of sensitive health data must be guaranteed and dependence on big data must be avoided . Ladies and gentlemen , for all of the reasons I have mentioned , I would like to appeal to you here : join my group in calling for a parliamentary committee of inquiry into the vaccination strategy . We do not need an export ban on vaccines , but we do need – and I am now turning my gaze to Turkey – an immediate ban on arms exports to the Erdoğan regime . It is unbearable how this autocrat is being pampered . At the same time , the Sultan Erdoğan continues to provoke in the eastern Mediterranean , pursues the democratic opposition , wants to ban the HDP and is withdrawing from the protection of women agreement - the Istanbul Convention . We say : end the EU-Turkey deal and yes to a humane , solidarity-based migration policy . Joe Biden will take part in the council meeting , and of course , after Trump , you can think about a common policy again . But this must not lead to the world being driven into a new bloc confrontation with a new cold war . European sovereignty also means developing an independent policy towards Russia and China , but also towards the USA itself . "
     ]
    }
   ],
   "source": [
    "raw1_9 = 'Martin Schirdewan, on behalf of The Left Group. - Mister President! While the EU is vaccinating at a the pace of a snail, the third wave of the pandemic is rushing towards us unabated. More than 500,000 EU citizens have now died from Corona, and many hundreds are added every day. The existence of millions of Europeans is threatened, the economy in the EU collapsed by up to 8% in the last year. We are in a historic crisis that demands political responsibility - but that is lacking. There is growing uneasiness among the population with the feeling that the EU is reeling through this pandemic without leadership or responsibility. The Commission has admitted mistakes. But why, Mr. Šefčovič, are these not corrected? Publish all contracts with the pharmaceutical companies. If you finally release the patents, then the vaccines can be manufactured with all globally available production capacities. Develop a common European strategy on how to tackle the virus, how to coordinate health protection and how to limit the social and economic consequences for the population. They have become dependent on the Big Pharma and trust the market. But the case of AstraZeneca, where 29 million cans were hoarded in Italy and were accidentally found today, proves that the market does not regulate anything at all. And you prove it yourself by not wanting to deliver any vaccines to the Global South for the time being, and at the same time you are talking about a vaccine export ban. But you also realize that stopping exports can also result in retaliation – which in turn means that vaccine production in the EU itself can be harmed by it, and the result is that everyone ends up worse off and no one is helped. If you, the Commission, were to be given a school grade, it would be: European Commission – five minus, you got stuck. So now the European vaccination card. As long as not all Europeans have had the chance to be vaccinated, this certification must not lead to the exercise of fundamental rights being dependent on vaccination status. The protection of sensitive health data must be guaranteed and dependence on big data must be avoided. Ladies and gentlemen, for all of the reasons I have mentioned, I would like to appeal to you here: join my group in calling for a parliamentary committee of inquiry into the vaccination strategy. We do not need an export ban on vaccines, but we do need – and I am now turning my gaze to Turkey – an immediate ban on arms exports to the Erdoğan regime. It is unbearable how this autocrat is being pampered. At the same time, the Sultan Erdoğan continues to provoke in the eastern Mediterranean, pursues the democratic opposition, wants to ban the HDP and is withdrawing from the protection of women agreement - the Istanbul Convention. We say: end the EU-Turkey deal and yes to a humane, solidarity-based migration policy. Joe Biden will take part in the council meeting, and of course, after Trump, you can think about a common policy again. But this must not lead to the world being driven into a new bloc confrontation with a new cold war. European sovereignty also means developing an independent policy towards Russia and China, but also towards the USA itself.'\n",
    "tokens1_9 = word_tokenize(raw1_9)\n",
    "for word in tokens1_9:\n",
    "    print(word, end=' ')"
   ]
  },
  {
   "cell_type": "code",
   "execution_count": 142,
   "metadata": {},
   "outputs": [
    {
     "name": "stdout",
     "output_type": "stream",
     "text": [
      "Edina Tóth ( NI ) . - Dear Mr. PRESIDENT ! 56 % , 45 % , 25 % , 9 % . If we weren ’ t right in the middle of the third wave of the coronavirus epidemic , those numbers would mean nothing . Now , however , there are human lives behind every single number . The numbers are stubborn things , so even in this case , they show that Israel , Britain , the US and the EU are fighting the coronavirus . Seeing the sad results in the EU , I believe that the EU should focus on the most pressing problem at the moment , namely obtaining the vaccine . It is important for the Union to obtain as many vaccines as possible as soon as possible , as high vaccination is the only way out of the coronavirus pandemic . However , the Brussels institutions are still embarking on ideological legislation on vaccine passports . I would like to emphasize that our citizens now need a vaccine , not a discriminatory vaccine passport ! "
     ]
    }
   ],
   "source": [
    "raw1_10 = 'Edina Tóth (NI). - Dear Mr. PRESIDENT! 56%, 45%, 25%, 9%. If we weren’t right in the middle of the third wave of the coronavirus epidemic, those numbers would mean nothing. Now, however, there are human lives behind every single number. The numbers are stubborn things, so even in this case, they show that Israel, Britain, the US and the EU are fighting the coronavirus. Seeing the sad results in the EU, I believe that the EU should focus on the most pressing problem at the moment, namely obtaining the vaccine. It is important for the Union to obtain as many vaccines as possible as soon as possible, as high vaccination is the only way out of the coronavirus pandemic. However, the Brussels institutions are still embarking on ideological legislation on vaccine passports. I would like to emphasize that our citizens now need a vaccine, not a discriminatory vaccine passport!'\n",
    "tokens1_10 = word_tokenize(raw1_10)\n",
    "for word in tokens1_10:\n",
    "    print(word, end=' ')"
   ]
  },
  {
   "cell_type": "code",
   "execution_count": 143,
   "metadata": {},
   "outputs": [
    {
     "name": "stdout",
     "output_type": "stream",
     "text": [
      "Esther de Lange ( PPE ) . – Madam President , one and a half minutes , of course , is not enough to really give you a picture of what ’ s going on in our Member States , in our homes , in our hospitals . But one thing I know for sure , if I were to say to my sister , who is currently preparing in our hospital for the third wave of this pandemic , that there are 29 million doses of AstraZeneca standing around in Italy , she would tell me , please , do whatever it takes to get these vaccines into arms , in order not to have this rhythm of another wave followed by another etc . Our hospital personnel are tired . We are tired and do whatever it takes . So this is why we , as the EPP Group and I , support the proposed strengthened exports authorisation mechanism . This is what we need at the moment and "
     ]
    }
   ],
   "source": [
    "raw1_11 = 'Esther de Lange (PPE). – Madam President, one and a half minutes, of course, is not enough to really give you a picture of what’s going on in our Member States, in our homes, in our hospitals. But one thing I know for sure, if I were to say to my sister, who is currently preparing in our hospital for the third wave of this pandemic, that there are 29 million doses of AstraZeneca standing around in Italy, she would tell me, please, do whatever it takes to get these vaccines into arms, in order not to have this rhythm of another wave followed by another etc. Our hospital personnel are tired. We are tired and do whatever it takes. So this is why we, as the EPP Group and I, support the proposed strengthened exports authorisation mechanism. This is what we need at the moment and'\n",
    "tokens1_11 = word_tokenize(raw1_11)\n",
    "for word in tokens1_11:\n",
    "    print(word, end=' ')"
   ]
  },
  {
   "cell_type": "code",
   "execution_count": 144,
   "metadata": {},
   "outputs": [
    {
     "name": "stdout",
     "output_type": "stream",
     "text": [
      "Helene Fritzon ( S & D ) . - Madam President , the Council and the Commission ! More than a year has passed since the covid-19 pandemic hit the world , and millions of people have died . Through special efforts and international cooperation , several vaccines have been developed in a very short time . So far , so good . However , several Member States are now facing a third wave of pandemics , and vaccine deliveries are delayed or even absent . It is clear that the Commission needs to do more to pressure pharmaceutical companies to comply with the agreements . Vaccine deliveries must be secured , and vaccine production must increase . We are not going to have a trade war , but our promise to EU citizens about vaccines this summer must be fulfilled . Then time is of the essence . Time is our most important factor . EU cooperation must continue and coordination must be improved . Only cooperation and solidarity are the way out of the crisis . I welcome the proposal for a common vaccine certificate within the EU . Families have split across borders . Workers have not been able to get to their jobs across borders . Free movement within the EU must be restored as soon as possible . It is about the jobs . It is about tourism . It is about the recovery of our Europe . "
     ]
    }
   ],
   "source": [
    "raw1_12 = 'Helene Fritzon (S&D). - Madam President, the Council and the Commission! More than a year has passed since the covid-19 pandemic hit the world, and millions of people have died. Through special efforts and international cooperation, several vaccines have been developed in a very short time. So far, so good. However, several Member States are now facing a third wave of pandemics, and vaccine deliveries are delayed or even absent. It is clear that the Commission needs to do more to pressure pharmaceutical companies to comply with the agreements. Vaccine deliveries must be secured, and vaccine production must increase. We are not going to have a trade war, but our promise to EU citizens about vaccines this summer must be fulfilled. Then time is of the essence. Time is our most important factor. EU cooperation must continue and coordination must be improved. Only cooperation and solidarity are the way out of the crisis. I welcome the proposal for a common vaccine certificate within the EU. Families have split across borders. Workers have not been able to get to their jobs across borders. Free movement within the EU must be restored as soon as possible. It is about the jobs. It is about tourism. It is about the recovery of our Europe.'\n",
    "tokens1_12 = word_tokenize(raw1_12)\n",
    "for word in tokens1_12:\n",
    "    print(word, end=' ')"
   ]
  },
  {
   "cell_type": "code",
   "execution_count": 145,
   "metadata": {},
   "outputs": [
    {
     "name": "stdout",
     "output_type": "stream",
     "text": [
      "Dita Charanz ( Renew ) . - Madam President , Commissioner , we have been living with COVID-19 for a year . Twelve months , when a lot of good work , great things , but also a lot of mistakes were done . We have a vaccine . Even thanks to the support of the European Union , unusually fast . And we have orders for a number of vaccines that would provide vaccinations for two Europeans . But so far only on paper . It will not protect anyone there . Objectively , we have a few more difficult months ahead of us . And if we do not increase vaccine production , there will be more such months . It is difficult for people to explain to us that we have exported more than 40 million vaccines from Europe when we have nothing to vaccinate ourselves . It is difficult for me to explain why some parts of the European Union have more vaccines than others . Commissioner , you write in the vaccination strategy : Distribution will take place on a per capita basis to ensure fair access . But that is not happening today . And it needs to be addressed urgently . Ensure fair access , equal access to vaccines in all European Union countries . It is difficult for me to explain how it is possible that , for example , in Israel , life has returned to normal . And so I ask : how is it possible that so many mistakes have been made in Europe and that the situation in our country is completely different from that in many countries of the world ? We now have a green certificate project on the table . Yes , they can safely open the borders of the European Union , they can be a ticket to normal life . Within the European Union , but also within each Member State . So please bring this project to life . Let us not allow each Member State to look for its own solution again . "
     ]
    }
   ],
   "source": [
    "raw1_13 = 'Dita Charanz (Renew). - Madam President, Commissioner, we have been living with COVID-19 for a year. Twelve months, when a lot of good work, great things, but also a lot of mistakes were done. We have a vaccine. Even thanks to the support of the European Union, unusually fast. And we have orders for a number of vaccines that would provide vaccinations for two Europeans. But so far only on paper. It will not protect anyone there. Objectively, we have a few more difficult months ahead of us. And if we do not increase vaccine production, there will be more such months. It is difficult for people to explain to us that we have exported more than 40 million vaccines from Europe when we have nothing to vaccinate ourselves. It is difficult for me to explain why some parts of the European Union have more vaccines than others. Commissioner, you write in the vaccination strategy: Distribution will take place on a per capita basis to ensure fair access. But that is not happening today. And it needs to be addressed urgently. Ensure fair access, equal access to vaccines in all European Union countries. It is difficult for me to explain how it is possible that, for example, in Israel, life has returned to normal. And so I ask: how is it possible that so many mistakes have been made in Europe and that the situation in our country is completely different from that in many countries of the world? We now have a green certificate project on the table. Yes, they can safely open the borders of the European Union, they can be a ticket to normal life. Within the European Union, but also within each Member State. So please bring this project to life. Let us not allow each Member State to look for its own solution again.'\n",
    "tokens1_13 = word_tokenize(raw1_13)\n",
    "for word in tokens1_13:\n",
    "    print(word, end=' ')"
   ]
  },
  {
   "cell_type": "code",
   "execution_count": 146,
   "metadata": {},
   "outputs": [
    {
     "name": "stdout",
     "output_type": "stream",
     "text": [
      "Marco Campomenosi ( ID ) . - Madam President , ladies and gentlemen , Commissioner , Madam Minister , I am witnessing in my country a debate that is serious , important and dramatic but also a little surreal . On the mistakes made by the European Commission , they tell me , `` well , he has few skills , we need more Europe '' . On the mistakes made - because they have committed them - by the regions of my country , where my party is also in government , they say `` no , they have too many competences , you have to take them away '' . Here , I believe that we must all have a little more balance and that whoever makes a mistake must pay . I inform you , and I believe you know it , that those who made a mistake in my country are paying , both technically and politically . I would also like to see someone in the European Commission pay or resign , because if we are complaining about these contracts towards which all of us together have asked for greater transparency from the beginning and with difficulty we have been able to see them , well someone has to give us some answers . Very well to attack the big pharma and all the producers , very well , I absolutely agree , but we are looking for a solution because out here the people , who are worried , do not want to see if I am from the majority or the opposition : they want answers from everyone us together , possibly with the style of the current Italian government , which speaks less and tries to do a little more . "
     ]
    }
   ],
   "source": [
    "raw1_14 = 'Marco Campomenosi (ID). - Madam President, ladies and gentlemen, Commissioner, Madam Minister, I am witnessing in my country a debate that is serious, important and dramatic but also a little surreal. On the mistakes made by the European Commission, they tell me, \"well, he has few skills, we need more Europe\". On the mistakes made - because they have committed them - by the regions of my country, where my party is also in government, they say \"no, they have too many competences, you have to take them away\". Here, I believe that we must all have a little more balance and that whoever makes a mistake must pay. I inform you, and I believe you know it, that those who made a mistake in my country are paying, both technically and politically. I would also like to see someone in the European Commission pay or resign, because if we are complaining about these contracts towards which all of us together have asked for greater transparency from the beginning and with difficulty we have been able to see them, well someone has to give us some answers. Very well to attack the big pharma and all the producers, very well, I absolutely agree, but we are looking for a solution because out here the people, who are worried, do not want to see if I am from the majority or the opposition: they want answers from everyone us together, possibly with the style of the current Italian government, which speaks less and tries to do a little more.'\n",
    "tokens1_14 = word_tokenize(raw1_14)\n",
    "for word in tokens1_14:\n",
    "    print(word, end=' ')"
   ]
  },
  {
   "cell_type": "code",
   "execution_count": 147,
   "metadata": {},
   "outputs": [
    {
     "name": "stdout",
     "output_type": "stream",
     "text": [
      "Jordi Solé ( Verts/ALE ) . – Madam President , I welcome the proposal for a Digital Green Certificate . We need one common EU instrument to facilitate safe mobility for travel and not 27 different approaches and instruments , and I ’ m sure that everyone is aware of the need to safely resume travel and promote tourism , a sector terribly affected by this pandemic . Let me just give you a figure : the GDP of the Balearic Islands fell by nearly 24 % last year . So our economies , especially those more reliant on tourism and the service sector , are very much looking forward to this instrument , and for good reasons . We need to make sure that the certificate has the highest guarantees in terms of data protection , non—discrimination and time limits . But we also need to deliver in time for the summer holidays . We can not allow ourselves to make further mistakes when dealing with the COVID—19 pandemic at EU level . "
     ]
    }
   ],
   "source": [
    "raw1_15 = 'Jordi Solé (Verts/ALE). – Madam President, I welcome the proposal for a Digital Green Certificate. We need one common EU instrument to facilitate safe mobility for travel and not 27 different approaches and instruments, and I’m sure that everyone is aware of the need to safely resume travel and promote tourism, a sector terribly affected by this pandemic. Let me just give you a figure: the GDP of the Balearic Islands fell by nearly 24% last year. So our economies, especially those more reliant on tourism and the service sector, are very much looking forward to this instrument, and for good reasons. We need to make sure that the certificate has the highest guarantees in terms of data protection, non—discrimination and time limits. But we also need to deliver in time for the summer holidays. We cannot allow ourselves to make further mistakes when dealing with the COVID—19 pandemic at EU level.'\n",
    "tokens1_15 = word_tokenize(raw1_15)\n",
    "for word in tokens1_15:\n",
    "    print(word, end=' ')"
   ]
  },
  {
   "cell_type": "code",
   "execution_count": 148,
   "metadata": {},
   "outputs": [
    {
     "name": "stdout",
     "output_type": "stream",
     "text": [
      "Robert Zile ( ECR ) . - Mr President , Commissioner , Minister . The Green Certificate is a tool that will ensure a better exit from the pandemic and will be particularly important for the tourism and transport sectors , but not now and not in its content and form . Firstly , vaccination in the European Union is so low that at the beginning of the summer tourist season , in June , we can plan - well , if 30 % of what we are trying to achieve - 70 % at the end of the seasons , that is , in the early autumn . Secondly , comparing tests to other types of vaccine or post-disease antibodies is not in line with the result , as it does not prevent the virus from transmitting to the tourist destination or returning home , which means that different types of virus will be transmitted . burden on Member States , especially on the health systems of weak Member States , and also on the prolongation of pandemic restrictions . Commissioner , we are trying to gain time and economic recovery , but if we hurry , the opposite will happen , with longer and more severe consequences for both health systems and the economy as a whole in the European Union . "
     ]
    }
   ],
   "source": [
    "raw1_16 = 'Robert Zile (ECR). - Mr President, Commissioner, Minister. The Green Certificate is a tool that will ensure a better exit from the pandemic and will be particularly important for the tourism and transport sectors, but not now and not in its content and form. Firstly, vaccination in the European Union is so low that at the beginning of the summer tourist season, in June, we can plan - well, if 30% of what we are trying to achieve - 70% at the end of the seasons, that is, in the early autumn. Secondly, comparing tests to other types of vaccine or post-disease antibodies is not in line with the result, as it does not prevent the virus from transmitting to the tourist destination or returning home, which means that different types of virus will be transmitted. burden on Member States, especially on the health systems of weak Member States, and also on the prolongation of pandemic restrictions. Commissioner, we are trying to gain time and economic recovery, but if we hurry, the opposite will happen, with longer and more severe consequences for both health systems and the economy as a whole in the European Union.'\n",
    "tokens1_16 = word_tokenize(raw1_16)\n",
    "for word in tokens1_16:\n",
    "    print(word, end=' ')"
   ]
  },
  {
   "cell_type": "code",
   "execution_count": 149,
   "metadata": {},
   "outputs": [
    {
     "name": "stdout",
     "output_type": "stream",
     "text": [
      "Özlem Demirel ( The Left ) . – Madam President ! I honestly have to admit that the attitude of the EU and the Biden administration towards Mr. Erdoğan is incomprehensible . Just yesterday during a televised debate with the HDP MP , the HDP MP told me he was concerned about the statements of the EU . Yes , not about Turkey , but about what is happening in the EU right now ! For while the Erdoğan regime is intensifying its stance and repression towards those who think differently , the EU is showing its confidence , moving away from planned sanctions , negotiating visa facilitation and intensifying economic cooperation . Sanctions for China and kid gloves for Erdoğan – that is the motto of the heads of state . And so they not only gamble away their own credibility . They encourage the autocrat from Ankara to take even more martial action against the opposition . So it is not surprising that the “ We are confident ! ” came at the same time as the HDP ban or other measures . Let me be clear : many Members in this House do not agree that geopolitics should take precedence over human rights and democracy . "
     ]
    }
   ],
   "source": [
    "raw1_17 = 'Özlem Demirel (The Left). – Madam President! I honestly have to admit that the attitude of the EU and the Biden administration towards Mr. Erdoğan is incomprehensible. Just yesterday during a televised debate with the HDP MP, the HDP MP told me he was concerned about the statements of the EU. Yes, not about Turkey, but about what is happening in the EU right now! For while the Erdoğan regime is intensifying its stance and repression towards those who think differently, the EU is showing its confidence, moving away from planned sanctions, negotiating visa facilitation and intensifying economic cooperation. Sanctions for China and kid gloves for Erdoğan – that is the motto of the heads of state. And so they not only gamble away their own credibility. They encourage the autocrat from Ankara to take even more martial action against the opposition. So it is not surprising that the “We are confident!” came at the same time as the HDP ban or other measures. Let me be clear: many Members in this House do not agree that geopolitics should take precedence over human rights and democracy.'\n",
    "tokens1_17 = word_tokenize(raw1_17)\n",
    "for word in tokens1_17:\n",
    "    print(word, end=' ')"
   ]
  },
  {
   "cell_type": "code",
   "execution_count": 150,
   "metadata": {},
   "outputs": [
    {
     "name": "stdout",
     "output_type": "stream",
     "text": [
      "Tiziana Beghin ( NI ) . - Madam President , ladies and gentlemen , we all share the efforts of the Commission but we must be honest with the citizens : to get back to normal , vaccines and treatments are needed , not certified ! Less than 14 % of the European population has received a vaccine so far and we are only talking about the first dose ; at this rate very few citizens will be vaccinated before the summer and the certificates , as they are , risk becoming a boomerang for those who fail to obtain the vaccine . We will work in Parliament to improve this proposal , guarantee the rights of our citizens and prevent any discrimination . The challenges are many : the certificate , if implemented correctly , could be a first signal but the real solution is and remains to increase the availability of vaccines . This is why we need to suspend patents and start large-scale production in Europe , as we have already asked with a question also supported by many colleagues . Only in this way will we get out of this crisis . "
     ]
    }
   ],
   "source": [
    "raw1_18 = 'Tiziana Beghin (NI). - Madam President, ladies and gentlemen, we all share the efforts of the Commission but we must be honest with the citizens: to get back to normal, vaccines and treatments are needed, not certified! Less than 14% of the European population has received a vaccine so far and we are only talking about the first dose; at this rate very few citizens will be vaccinated before the summer and the certificates, as they are, risk becoming a boomerang for those who fail to obtain the vaccine. We will work in Parliament to improve this proposal, guarantee the rights of our citizens and prevent any discrimination. The challenges are many: the certificate, if implemented correctly, could be a first signal but the real solution is and remains to increase the availability of vaccines. This is why we need to suspend patents and start large-scale production in Europe, as we have already asked with a question also supported by many colleagues. Only in this way will we get out of this crisis.'\n",
    "tokens1_18 = word_tokenize(raw1_18)\n",
    "for word in tokens1_18:\n",
    "    print(word, end=' ')"
   ]
  },
  {
   "cell_type": "code",
   "execution_count": 151,
   "metadata": {},
   "outputs": [
    {
     "name": "stdout",
     "output_type": "stream",
     "text": [
      "Siegfried Mureşan ( PPE ) . – Madam President , tackling the upcoming wave of the coronavirus crisis is without any doubt the most urgent task we have ahead of us . For this , we have to make sure that we accelerate the pace of vaccinations . We have to use all tools at our disposal to make sure that producers deliver vaccines to the citizens of the European Union . But as important as this is the post-corona world that we are building . This shall be a world in which people have access to good public services , a world in which our economy is clean , green , digital and modern , and all of this is based on European values . This is why I say it is very good that tonight in the European Council , the President of the United States will address the 27 heads of state and government . The big topics of our time require cooperation between the European Union and the United States . More than anything else , the European Union and the United States need to stay united in defending human rights , in defending the rule of law and the values of the free world . We saw Turkey withdrawing from the Istanbul Convention on violence against women . We need to say very clearly , this is wrong . Turkey has to return to the Istanbul Convention . In Russia , we see arrested citizens and journalists with no reason . We see restricted freedom of speech , no right of democratic opposition , and politicisation of the judiciary . This is why I believe we need to adopt as soon as possible further restrictive measures against this country . We can not say that the behaviour of authoritarian regimes is unacceptable and then just accept it and go on with business as usual . "
     ]
    }
   ],
   "source": [
    "raw1_19 = 'Siegfried Mureşan (PPE). – Madam President, tackling the upcoming wave of the coronavirus crisis is without any doubt the most urgent task we have ahead of us. For this, we have to make sure that we accelerate the pace of vaccinations. We have to use all tools at our disposal to make sure that producers deliver vaccines to the citizens of the European Union. But as important as this is the post-corona world that we are building. This shall be a world in which people have access to good public services, a world in which our economy is clean, green, digital and modern, and all of this is based on European values. This is why I say it is very good that tonight in the European Council, the President of the United States will address the 27 heads of state and government. The big topics of our time require cooperation between the European Union and the United States. More than anything else, the European Union and the United States need to stay united in defending human rights, in defending the rule of law and the values of the free world. We saw Turkey withdrawing from the Istanbul Convention on violence against women. We need to say very clearly, this is wrong. Turkey has to return to the Istanbul Convention. In Russia, we see arrested citizens and journalists with no reason. We see restricted freedom of speech, no right of democratic opposition, and politicisation of the judiciary. This is why I believe we need to adopt as soon as possible further restrictive measures against this country. We cannot say that the behaviour of authoritarian regimes is unacceptable and then just accept it and go on with business as usual.'\n",
    "tokens1_19 = word_tokenize(raw1_19)\n",
    "for word in tokens1_19:\n",
    "    print(word, end=' ')"
   ]
  },
  {
   "cell_type": "code",
   "execution_count": 152,
   "metadata": {},
   "outputs": [
    {
     "name": "stdout",
     "output_type": "stream",
     "text": [
      "Carlos Zorrinho ( S & D ) . – Madam President , since the signing of the Treaty of Rome , interdependence , cooperation and solidarity have been the instruments that have allowed us to experience more than 60 years of peace , development and prosperity . It was also these principles that informed the health , economic and social responses the European Union presented to the pandemic crisis . I emphasize , in relation to the European vaccination strategy , its joint and solidary elaboration , the technical and certification robustness , the safety guarantees and the protection of the vaccinated . I also emphasize the international cooperation promoted by the Union through TIN Europa and COVAX . But the facts show that the production and distribution contracts , signed in a context of great uncertainty , revealed weaknesses , exposing shortcomings that have to be overcome . No piecemeal response , exacerbating nationalism or selfishness , can succeed . The European Commission must be supported to get back on the right path . The Portuguese Presidency of the Council has not held back in this effort . The Council of this week will be clear on its position . The confidence Europeans have in the vaccination process can only be defended if Member States remain united and in solidarity and formulate joint responses . The implementation of a Digital Green Certificate is an opportunity to restore trust . We know it is not an easy process , but for some reason the European Union is a leader in digitization with privacy and data protection . Economic and social recovery will benefit from the health security certificate and mobility as well . It is necessary to move quickly and solidly on this path . I will end , Madam President , by welcoming the presence at the European Council of the President of the United States of America , Joe Biden . It is a sign of the deepening of transatlantic and multilateral relations , a positive sign for the world in general and for the relations of the European Union and the United States in particular . "
     ]
    }
   ],
   "source": [
    "raw1_20 = 'Carlos Zorrinho (S&D). – Madam President, since the signing of the Treaty of Rome, interdependence, cooperation and solidarity have been the instruments that have allowed us to experience more than 60 years of peace, development and prosperity. It was also these principles that informed the health, economic and social responses the European Union presented to the pandemic crisis. I emphasize, in relation to the European vaccination strategy, its joint and solidary elaboration, the technical and certification robustness, the safety guarantees and the protection of the vaccinated. I also emphasize the international cooperation promoted by the Union through TIN Europa and COVAX. But the facts show that the production and distribution contracts, signed in a context of great uncertainty, revealed weaknesses, exposing shortcomings that have to be overcome. No piecemeal response, exacerbating nationalism or selfishness, can succeed. The European Commission must be supported to get back on the right path. The Portuguese Presidency of the Council has not held back in this effort. The Council of this week will be clear on its position. The confidence Europeans have in the vaccination process can only be defended if Member States remain united and in solidarity and formulate joint responses. The implementation of a Digital Green Certificate is an opportunity to restore trust. We know it is not an easy process, but for some reason the European Union is a leader in digitization with privacy and data protection. Economic and social recovery will benefit from the health security certificate and mobility as well. It is necessary to move quickly and solidly on this path. I will end, Madam President, by welcoming the presence at the European Council of the President of the United States of America, Joe Biden. It is a sign of the deepening of transatlantic and multilateral relations, a positive sign for the world in general and for the relations of the European Union and the United States in particular.'\n",
    "tokens1_20 = word_tokenize(raw1_20)\n",
    "for word in tokens1_20:\n",
    "    print(word, end=' ')"
   ]
  },
  {
   "cell_type": "code",
   "execution_count": 153,
   "metadata": {},
   "outputs": [
    {
     "name": "stdout",
     "output_type": "stream",
     "text": [
      "Luis Garicano ( Renew ) . – Madam President , three months after the start of the vaccination campaign , the rate at which the European Union is vaccinating is still very slow . This situation is unsustainable and unacceptable . The easy thing is to look for culprits outside . Many point to the UK as the culprit . It is true that we should have required pharmaceutical companies not to export to other third countries until they had fulfilled their commitments to European countries . So did the United Kingdom and the United States . But we did not , and now , at this point , preventing exports to the UK has many costs and few benefits . The reality is that between these months we have exported just over 10 million vaccines to the United Kingdom , which for 450 million Europeans would not have made a very significant difference . The cost , on the other hand , may be a trade war that jeopardizes the vaccination strategy itself , because many of the raw materials come from the United Kingdom and other similar countries . Here , really , what we are dealing with is the pirate behavior of a pharmaceutical company , which is AstraZeneca . AstraZeneca promised to deliver 100 million doses in the first quarter and told us that it could only deliver 30 – of which it has delivered 17 – because it did not have production capacity . Today we discovered that he has another 30 million doses in storage . This is not fulfilling the `` best efforts '' that you had committed to in the contract . He is clearly not fulfilling his contract . And so , while it is true that we must not close the borders of the European Union in any meaningful way to any other country , it is true that we must use the full legal force of the European Union to demand that AstraZeneca fulfill its obligations . Only in this way can we make the vaccination process take its course . "
     ]
    }
   ],
   "source": [
    "raw1_21 = 'Luis Garicano (Renew). – Madam President, three months after the start of the vaccination campaign, the rate at which the European Union is vaccinating is still very slow. This situation is unsustainable and unacceptable. The easy thing is to look for culprits outside. Many point to the UK as the culprit. It is true that we should have required pharmaceutical companies not to export to other third countries until they had fulfilled their commitments to European countries. So did the United Kingdom and the United States. But we did not, and now, at this point, preventing exports to the UK has many costs and few benefits. The reality is that between these months we have exported just over 10 million vaccines to the United Kingdom, which for 450 million Europeans would not have made a very significant difference. The cost, on the other hand, may be a trade war that jeopardizes the vaccination strategy itself, because many of the raw materials come from the United Kingdom and other similar countries. Here, really, what we are dealing with is the pirate behavior of a pharmaceutical company, which is AstraZeneca. AstraZeneca promised to deliver 100 million doses in the first quarter and told us that it could only deliver 30 – of which it has delivered 17 – because it did not have production capacity. Today we discovered that he has another 30 million doses in storage. This is not fulfilling the \"best efforts\" that you had committed to in the contract. He is clearly not fulfilling his contract. And so, while it is true that we must not close the borders of the European Union in any meaningful way to any other country, it is true that we must use the full legal force of the European Union to demand that AstraZeneca fulfill its obligations . Only in this way can we make the vaccination process take its course.'\n",
    "tokens1_21 = word_tokenize(raw1_21)\n",
    "for word in tokens1_21:\n",
    "    print(word, end=' ')"
   ]
  },
  {
   "cell_type": "code",
   "execution_count": 154,
   "metadata": {},
   "outputs": [
    {
     "name": "stdout",
     "output_type": "stream",
     "text": [
      "Gunnar Beck ( ID ) . – Frau Präsidentin ! COVID—19 ist eine mittelschwere Viruswelle . Doch die EU hat dabei versagt . Ostasien , Herd des Virus , hat zwanzig— bis fünftausendmal weniger Tote als wir . Unsere Wirtschaft hier in der EU kollabiert . China indes schreibt Rekordexporte , und Indien dämmt das Virus mit Prophylaktika und ohne Lockdown ein . Die EU—Impfstoffbeschaffung ist stümperhaft . Israel hat sechs- , England hat fünf- und die USA und viele haben dreimal so viele Menschen geimpft wie die EU . Reisen und normal leben sollen fortan kraft EU—Impfpass nur noch Geimpfte . Siebzig Prozent Geimpfte und immunisierte Erkrankte reichen für Herdenimmunität . Doch der EU fehlt weiterhin der Impfstoff . Beenden Sie endlich diese ruinösen Lockdowns , und achten Sie unsere Grundrechte ! There ’ s more to life than avoiding death . Europe may well need a great reset , not for the citizens , but for a failing EU . "
     ]
    }
   ],
   "source": [
    "raw1_22 = 'Gunnar Beck (ID). – Frau Präsidentin! COVID—19 ist eine mittelschwere Viruswelle. Doch die EU hat dabei versagt. Ostasien, Herd des Virus, hat zwanzig— bis fünftausendmal weniger Tote als wir. Unsere Wirtschaft hier in der EU kollabiert. China indes schreibt Rekordexporte, und Indien dämmt das Virus mit Prophylaktika und ohne Lockdown ein. Die EU—Impfstoffbeschaffung ist stümperhaft. Israel hat sechs-, England hat fünf- und die USA und viele haben dreimal so viele Menschen geimpft wie die EU. Reisen und normal leben sollen fortan kraft EU—Impfpass nur noch Geimpfte. Siebzig Prozent Geimpfte und immunisierte Erkrankte reichen für Herdenimmunität. Doch der EU fehlt weiterhin der Impfstoff. Beenden Sie endlich diese ruinösen Lockdowns, und achten Sie unsere Grundrechte! There’s more to life than avoiding death. Europe may well need a great reset, not for the citizens, but for a failing EU.'\n",
    "tokens1_22 = word_tokenize(raw1_22)\n",
    "for word in tokens1_22:\n",
    "    print(word, end=' ')"
   ]
  },
  {
   "cell_type": "code",
   "execution_count": 155,
   "metadata": {},
   "outputs": [
    {
     "name": "stdout",
     "output_type": "stream",
     "text": [
      "Reinhard Bütikofer ( Verts/ALE ) . – Madam President ! It was a good idea that President Michel invited President Biden to the European Summit . The growing aggressiveness of various authoritarian regimes worldwide makes it urgently necessary for the transatlantic partners to reestablish and strengthen their cooperation . This applies in particular to China . Europe is the vassal of nobody . But it is wrong when some European politicians say that the EU should refuse to join an international political camp . Of course , the EU belongs in a camp , in the camp of democracy . To this end , we are seeking cooperation with the United States and with many other partners around the world . As the new US trade representative , Katherine Tai , has said , we need a united front of allies . It would be right for the United States to understand that this united front of allies with the democracies , at its core , needs a partnership in leadership in order to work . Incidentally , my dear colleagues , I believe that Nord Stream 2 must be stopped . "
     ]
    }
   ],
   "source": [
    "raw1_23 = 'Reinhard Bütikofer (Verts/ALE). – Madam President! It was a good idea that President Michel invited President Biden to the European Summit. The growing aggressiveness of various authoritarian regimes worldwide makes it urgently necessary for the transatlantic partners to reestablish and strengthen their cooperation. This applies in particular to China. Europe is the vassal of nobody. But it is wrong when some European politicians say that the EU should refuse to join an international political camp. Of course, the EU belongs in a camp, in the camp of democracy. To this end, we are seeking cooperation with the United States and with many other partners around the world. As the new US trade representative, Katherine Tai, has said, we need a united front of allies. It would be right for the United States to understand that this united front of allies with the democracies, at its core, needs a partnership in leadership in order to work. Incidentally, my dear colleagues, I believe that Nord Stream 2 must be stopped.'\n",
    "tokens1_23 = word_tokenize(raw1_23)\n",
    "for word in tokens1_23:\n",
    "    print(word, end=' ')"
   ]
  },
  {
   "cell_type": "code",
   "execution_count": 156,
   "metadata": {},
   "outputs": [
    {
     "name": "stdout",
     "output_type": "stream",
     "text": [
      "Peter Lundgren ( ECR ) . - Madam President ! Coronapass will be introduced in all EU Member States through legislation . Vaccination is a solution , but it should not be mandatory . What will this mean then ? Can someone be prevented from going to the cinema or theater if you have not been vaccinated ? Vaccination should always be voluntary , even in the case of corona , especially now that there is uncertainty about side effects . A vaccination certificate should therefore never be a privilege to live as usual . Before the summer , this session should be ready . It will contain three documents : vaccination evidence , new negative test or evidence that you have antibodies and have recently recovered from covid-19 . You will be required to fulfill one of these three things in order to travel freely to all EU countries . This will mean that those who have been vaccinated will have a greater freedom than those who have not yet been able to get vaccinated or have had the chance to get vaccinated , and they must instead show a negative test result or that they have recovered from covid -19 . I and my party are against both direct and indirect coercion . A vaccination certificate should never be a privilege to live as usual . We want people in Europe to be guaranteed that we will never force anyone to get vaccinated . "
     ]
    }
   ],
   "source": [
    "raw1_24 = 'Peter Lundgren (ECR). - Madam President! Coronapass will be introduced in all EU Member States through legislation. Vaccination is a solution, but it should not be mandatory. What will this mean then? Can someone be prevented from going to the cinema or theater if you have not been vaccinated? Vaccination should always be voluntary, even in the case of corona, especially now that there is uncertainty about side effects. A vaccination certificate should therefore never be a privilege to live as usual. Before the summer, this session should be ready. It will contain three documents: vaccination evidence, new negative test or evidence that you have antibodies and have recently recovered from covid-19. You will be required to fulfill one of these three things in order to travel freely to all EU countries. This will mean that those who have been vaccinated will have a greater freedom than those who have not yet been able to get vaccinated or have had the chance to get vaccinated, and they must instead show a negative test result or that they have recovered from covid -19. I and my party are against both direct and indirect coercion. A vaccination certificate should never be a privilege to live as usual. We want people in Europe to be guaranteed that we will never force anyone to get vaccinated.'\n",
    "tokens1_24 = word_tokenize(raw1_24)\n",
    "for word in tokens1_24:\n",
    "    print(word, end=' ')"
   ]
  },
  {
   "cell_type": "code",
   "execution_count": 157,
   "metadata": {},
   "outputs": [
    {
     "name": "stdout",
     "output_type": "stream",
     "text": [
      "Isabella Adinolfi ( NI ) . - Madam President , ladies and gentlemen , vaccines are a common good and not a business for a few . To return to normal life , to restart our economy , we need vaccines . Pharmaceutical companies have obligations to the community even more than to their shareholders . We have been waiting for months to receive our dose that will allow us to return to normal life : yet , even today , we discover that AstraZeneca would hide as many as 29 million doses ready to be sold to the highest bidder . Let European leaders demonstrate with facts that a stronger , fairer and more supportive Europe is being born out of this pandemic , given that while we are speaking in this House millions of citizens have lost their jobs and loved ones . I wonder , what are we waiting for to suspend the licenses and start an autonomous and punctual European production , so that we can guarantee vaccines for all ? We can not bow to pharmaceutical companies : the health of millions of citizens , whom we represent here , must be our only concern . "
     ]
    }
   ],
   "source": [
    "raw1_25 = 'Isabella Adinolfi (NI). - Madam President, ladies and gentlemen, vaccines are a common good and not a business for a few. To return to normal life, to restart our economy, we need vaccines. Pharmaceutical companies have obligations to the community even more than to their shareholders. We have been waiting for months to receive our dose that will allow us to return to normal life: yet, even today, we discover that AstraZeneca would hide as many as 29 million doses ready to be sold to the highest bidder. Let European leaders demonstrate with facts that a stronger, fairer and more supportive Europe is being born out of this pandemic, given that while we are speaking in this House millions of citizens have lost their jobs and loved ones. I wonder, what are we waiting for to suspend the licenses and start an autonomous and punctual European production, so that we can guarantee vaccines for all? We cannot bow to pharmaceutical companies: the health of millions of citizens, whom we represent here, must be our only concern.'\n",
    "tokens1_25 = word_tokenize(raw1_25)\n",
    "for word in tokens1_25:\n",
    "    print(word, end=' ')"
   ]
  },
  {
   "cell_type": "code",
   "execution_count": 158,
   "metadata": {},
   "outputs": [
    {
     "name": "stdout",
     "output_type": "stream",
     "text": [
      "Dolors Montserrat ( PPE ) . – Madam President , COVID-19 is unfortunately here to stay for a long time : we will probably not only get vaccinated this year , but the next . Are we prepared for the coming years ? It is about prepare or fail . If Europe and the Member States do not prepare today , we will fail tomorrow in the fight against the virus . We have to speed up mass production and vaccination and deal with future variants ; we have to research and develop new treatments against COVID-19 to lower the number of hospitalized and save more lives . We must implement the digital vaccination certificate now to allow Europeans freedom of movement without discrimination . We have to facilitate periodic access to tests for everyone , to reactivate the economy and employment . The export restriction mechanism must guarantee that the vaccines produced in Europe serve to ensure that pharmaceutical companies fulfill their contracts . And export , yes , but we must always ensure the principle of reciprocity . It is unacceptable that AstraZeneca plays with the reputation of Europe and credibility by hiding 29 million doses , in breach of its contract . The Commission and the Council can not sit idly by in the face of this serious breach . We must require the Member States to put in place national vaccination plans . Only in this way will we achieve the goal of vaccinating 70 % . Europe must prepare for the pandemics that are born from it : loneliness , mental health , care for chronic patients . Europe already needs a European plan to support mental health and loneliness . Let us not fail now , the stakes are high . "
     ]
    }
   ],
   "source": [
    "raw1_26 = 'Dolors Montserrat (PPE). – Madam President, COVID-19 is unfortunately here to stay for a long time: we will probably not only get vaccinated this year, but the next. Are we prepared for the coming years? It is about prepare or fail. If Europe and the Member States do not prepare today, we will fail tomorrow in the fight against the virus. We have to speed up mass production and vaccination and deal with future variants; we have to research and develop new treatments against COVID-19 to lower the number of hospitalized and save more lives. We must implement the digital vaccination certificate now to allow Europeans freedom of movement without discrimination. We have to facilitate periodic access to tests for everyone, to reactivate the economy and employment. The export restriction mechanism must guarantee that the vaccines produced in Europe serve to ensure that pharmaceutical companies fulfill their contracts. And export, yes, but we must always ensure the principle of reciprocity. It is unacceptable that AstraZeneca plays with the reputation of Europe and credibility by hiding 29 million doses, in breach of its contract. The Commission and the Council cannot sit idly by in the face of this serious breach. We must require the Member States to put in place national vaccination plans. Only in this way will we achieve the goal of vaccinating 70%. Europe must prepare for the pandemics that are born from it: loneliness, mental health, care for chronic patients. Europe already needs a European plan to support mental health and loneliness. Let us not fail now, the stakes are high.'\n",
    "tokens1_26 = word_tokenize(raw1_26)\n",
    "for word in tokens1_26:\n",
    "    print(word, end=' ')"
   ]
  },
  {
   "cell_type": "code",
   "execution_count": 159,
   "metadata": {},
   "outputs": [
    {
     "name": "stdout",
     "output_type": "stream",
     "text": [
      "Javier Moreno Sánchez ( S & D ) . – Madam President , with the European vaccination campaign progressing in our countries , we can begin to resume mobility and , therefore , one of the fundamental pillars of the Union : the free movement of people . That is why we welcome the proposal for a single European instrument to facilitate movement between Member States . Not only so that citizens can see their loved ones again , but also so that they can enjoy a few days of rest or leisure in complete safety . Because let us not forget : tourism is as important for economies as it is for tourists . Tomorrow we must approve the urgent procedure proposed by the Commission , yes or yes . Ladies and gentlemen , the public will not understand that this Parliament is delaying the process and that we finally end up with 27 national documents in total confusion . For this reason , the Spanish Socialist delegation will support tomorrow the urgent procedure proposed by the Commission . Obviously , we defend that the green certificate , in its digital or paper version , be valid throughout the Union . And that , in addition , it must be free , accessible , safe and reliable and , above all , non-discriminatory . Therefore , the certificate can only collect the necessary data related to the three possible options : vaccination , negative PCR or proof of immunity due to having passed COVID , and guarantee that it can not be used for other purposes . Ladies and gentlemen , let us vote yes tomorrow and give our citizens a little hope , a little European hope . "
     ]
    }
   ],
   "source": [
    "raw1_27 = 'Javier Moreno Sánchez (S&D). – Madam President, with the European vaccination campaign progressing in our countries, we can begin to resume mobility and, therefore, one of the fundamental pillars of the Union: the free movement of people. That is why we welcome the proposal for a single European instrument to facilitate movement between Member States. Not only so that citizens can see their loved ones again, but also so that they can enjoy a few days of rest or leisure in complete safety. Because let us not forget: tourism is as important for economies as it is for tourists. Tomorrow we must approve the urgent procedure proposed by the Commission, yes or yes. Ladies and gentlemen, the public will not understand that this Parliament is delaying the process and that we finally end up with 27 national documents in total confusion. For this reason, the Spanish Socialist delegation will support tomorrow the urgent procedure proposed by the Commission. Obviously, we defend that the green certificate, in its digital or paper version, be valid throughout the Union. And that, in addition, it must be free, accessible, safe and reliable and, above all, non-discriminatory. Therefore, the certificate can only collect the necessary data related to the three possible options: vaccination, negative PCR or proof of immunity due to having passed COVID, and guarantee that it cannot be used for other purposes. Ladies and gentlemen, let us vote yes tomorrow and give our citizens a little hope, a little European hope.'\n",
    "tokens1_27 = word_tokenize(raw1_27)\n",
    "for word in tokens1_27:\n",
    "    print(word, end=' ')"
   ]
  },
  {
   "cell_type": "code",
   "execution_count": 160,
   "metadata": {},
   "outputs": [
    {
     "name": "stdout",
     "output_type": "stream",
     "text": [
      "Sophia in ‘ t Veld ( Renew ) .– Madam President , people are desperate to regain their freedom . Today we see decisions for more lockdowns . So we do need to adopt these certificates quickly before the summer break and this Parliament will work fast and deliver . But the certificates are not enough . We need three more things and that ’ s vaccination , vaccination , vaccination ! Ms von der Leyen ’ s V-Day is now three months ago and where do we stand ? It ’ s simply not possible to explain to people why we have still not advanced with vaccination . And if we ask people to make an almost inhuman sacrifice in their freedom , the national governments have to make a superhuman effort to make sure that vaccines are available . Now on the certificate , it must be temporary , absolutely non-discriminatory and there must be a guarantee that no data will be stored . In this respect , I have a question to the Commission because the Americans do collect the data of EU citizens and they store them for two years . I know the Commission is in talks with the US . I would like to get a bit more transparency on that . "
     ]
    }
   ],
   "source": [
    "raw1_28 = 'Sophia in ‘t Veld (Renew).– Madam President, people are desperate to regain their freedom. Today we see decisions for more lockdowns. So we do need to adopt these certificates quickly before the summer break and this Parliament will work fast and deliver. But the certificates are not enough. We need three more things and that’s vaccination, vaccination, vaccination! Ms von der Leyen’s V-Day is now three months ago and where do we stand? It’s simply not possible to explain to people why we have still not advanced with vaccination. And if we ask people to make an almost inhuman sacrifice in their freedom, the national governments have to make a superhuman effort to make sure that vaccines are available. Now on the certificate, it must be temporary, absolutely non-discriminatory and there must be a guarantee that no data will be stored. In this respect, I have a question to the Commission because the Americans do collect the data of EU citizens and they store them for two years. I know the Commission is in talks with the US. I would like to get a bit more transparency on that.'\n",
    "tokens1_28 = word_tokenize(raw1_28)\n",
    "for word in tokens1_28:\n",
    "    print(word, end=' ')"
   ]
  },
  {
   "cell_type": "code",
   "execution_count": 161,
   "metadata": {},
   "outputs": [
    {
     "name": "stdout",
     "output_type": "stream",
     "text": [
      "Jaak Madison ( ID ) .– Madam President , first of all I would like to focus on this green passport for the China virus vaccine . I would like to just ask , have you ever wondered in the Commission the fact that we already have a passport for vaccines , the yellow one ? Most of us should really well know it and even I have it , like I think it ’ s here and I got my vaccine against the China virus about three weeks ago . It ’ s already written there that I got my vaccine , but it doesn ’ t really give any good habit for me because I still have to walk with a mask outside , alone in the park . I have to wear a mask here also , it doesn ’ t really give a benefit . So the question is , do you have any plan about what it really gives you when you are vaccinated ? Which kind of freedoms will you get ? And what ’ s the problem with the yellow passports that we already have internationally ? All the countries are recognising that and we don ’ t have to build a bicycle from zero . The second topic I would really like to mention is how are you going to protect against discrimination ? Because already this morning I read the news that even in Estonia , in my own country , one of the biggest private companies will fire people if they will not accept the vaccination . It ’ s a really serious question because it has to be on free will . I ’ m very supportive of technology , the vaccines , I really believe that they will help , but at same time I ’ m just protecting very strongly the freedom of the vaccinations . You have to have a freedom to choose , do we want it or not , and we know very well that most of the people they still want it , but we can ’ t make it mandatory that you have to get vaccination and it ’ s a really important topic . "
     ]
    }
   ],
   "source": [
    "raw1_29 = 'Jaak Madison (ID).– Madam President, first of all I would like to focus on this green passport for the China virus vaccine. I would like to just ask, have you ever wondered in the Commission the fact that we already have a passport for vaccines, the yellow one? Most of us should really well know it and even I have it, like I think it’s here and I got my vaccine against the China virus about three weeks ago. It’s already written there that I got my vaccine, but it doesn’t really give any good habit for me because I still have to walk with a mask outside, alone in the park. I have to wear a mask here also, it doesn’t really give a benefit. So the question is, do you have any plan about what it really gives you when you are vaccinated? Which kind of freedoms will you get? And what’s the problem with the yellow passports that we already have internationally? All the countries are recognising that and we don’t have to build a bicycle from zero. The second topic I would really like to mention is how are you going to protect against discrimination? Because already this morning I read the news that even in Estonia, in my own country, one of the biggest private companies will fire people if they will not accept the vaccination. It’s a really serious question because it has to be on free will. I’m very supportive of technology, the vaccines, I really believe that they will help, but at same time I’m just protecting very strongly the freedom of the vaccinations. You have to have a freedom to choose, do we want it or not, and we know very well that most of the people they still want it, but we can’t make it mandatory that you have to get vaccination and it’s a really important topic.'\n",
    "tokens1_29 = word_tokenize(raw1_29)\n",
    "for word in tokens1_29:\n",
    "    print(word, end=' ')"
   ]
  },
  {
   "cell_type": "code",
   "execution_count": 162,
   "metadata": {},
   "outputs": [
    {
     "name": "stdout",
     "output_type": "stream",
     "text": [
      "Tineke Strik ( Verts/ALE ) .– Madam President , vaccinations first , of course . Our societies are tired of the lockdowns . Companies need to restart their businesses . People long for more freedoms . But if we do not restore our free movement in a harmonised , gradual and also responsible way , we will face health risks , chaos , insecurity and discrimination . We therefore welcome the Commission proposal for a Digital Green Certificate if it guarantees non-discrimination , the highest standards of data protection and if it only applies when strictly necessary . As a parliament , we should be able to improve these safeguards , in line with the prerogatives of the different committees . We must be ready for the summer holidays and adopt the regulation in the June session , but we can do that in a normal but accelerated procedure , and this is why the urgent procedure , stripping us of our parliamentary scrutiny , is not necessary . On the contrary , the far-reaching decision we are about to take needs democratic control and legitimacy . "
     ]
    }
   ],
   "source": [
    "raw1_30 = 'Tineke Strik (Verts/ALE).– Madam President, vaccinations first, of course. Our societies are tired of the lockdowns. Companies need to restart their businesses. People long for more freedoms. But if we do not restore our free movement in a harmonised, gradual and also responsible way, we will face health risks, chaos, insecurity and discrimination. We therefore welcome the Commission proposal for a Digital Green Certificate if it guarantees non-discrimination, the highest standards of data protection and if it only applies when strictly necessary. As a parliament, we should be able to improve these safeguards, in line with the prerogatives of the different committees. We must be ready for the summer holidays and adopt the regulation in the June session, but we can do that in a normal but accelerated procedure, and this is why the urgent procedure, stripping us of our parliamentary scrutiny, is not necessary. On the contrary, the far-reaching decision we are about to take needs democratic control and legitimacy.'\n",
    "tokens1_30 = word_tokenize(raw1_30)\n",
    "for word in tokens1_30:\n",
    "    print(word, end=' ')"
   ]
  },
  {
   "cell_type": "code",
   "execution_count": 163,
   "metadata": {},
   "outputs": [
    {
     "name": "stdout",
     "output_type": "stream",
     "text": [
      "Anna Fotyga ( ECR ) .– Madam President , I welcome the transatlantic dialogue aimed at enhancing cooperation . I deeply regret the Council failing to provide safe conditions to discuss Russia . That is extremely timely . On the euro , EU leaders should prevent Russia and China misusing the common European currency , weaponising it against the US by undermining the role of the dollar as a trade-clearing currency or even as the world ’ s reserve currency . "
     ]
    }
   ],
   "source": [
    "raw1_31 = 'Anna Fotyga (ECR).– Madam President, I welcome the transatlantic dialogue aimed at enhancing cooperation. I deeply regret the Council failing to provide safe conditions to discuss Russia. That is extremely timely. On the euro, EU leaders should prevent Russia and China misusing the common European currency, weaponising it against the US by undermining the role of the dollar as a trade-clearing currency or even as the world’s reserve currency.'\n",
    "tokens1_31 = word_tokenize(raw1_31)\n",
    "for word in tokens1_31:\n",
    "    print(word, end=' ')"
   ]
  },
  {
   "cell_type": "code",
   "execution_count": 164,
   "metadata": {},
   "outputs": [
    {
     "name": "stdout",
     "output_type": "stream",
     "text": [
      "Carles Puigdemont i Casamajó ( NI ) .– Madam President , at the beginning of the pandemic , some governments fell into the war narrative as if the virus had to retreat , impressed by the force of war-like language , military uniforms at press conferences and the control of society at levels never seen in peacetime . That has failed . Two countries leading the full vaccination , Israel and Chile , generally have a population of about 29 million – less than five EU countries : Germany , France , Italy , Spain , Poland . The EU is too far behind them . I know that some of the strategies these countries apply are not applicable here , but there is a widespread perception that the EU delays are a failure and are probably costing lives . Europe ’ s vaccination strategy has been deficient and weakens the internal credibility of a project that already has external credibility issues . "
     ]
    }
   ],
   "source": [
    "raw1_32 = 'Carles Puigdemont i Casamajó (NI).– Madam President, at the beginning of the pandemic, some governments fell into the war narrative as if the virus had to retreat, impressed by the force of war-like language, military uniforms at press conferences and the control of society at levels never seen in peacetime. That has failed. Two countries leading the full vaccination, Israel and Chile, generally have a population of about 29 million – less than five EU countries: Germany, France, Italy, Spain, Poland. The EU is too far behind them. I know that some of the strategies these countries apply are not applicable here, but there is a widespread perception that the EU delays are a failure and are probably costing lives. Europe’s vaccination strategy has been deficient and weakens the internal credibility of a project that already has external credibility issues.'\n",
    "tokens1_32 = word_tokenize(raw1_32)\n",
    "for word in tokens1_32:\n",
    "    print(word, end=' ')"
   ]
  },
  {
   "cell_type": "code",
   "execution_count": 165,
   "metadata": {},
   "outputs": [
    {
     "name": "stdout",
     "output_type": "stream",
     "text": [
      "Bernd Lange ( S & D ) .– Madam President , Commissioner , ladies and gentlemen ! The way of the export ban - I think - is a dangerous way , because we hold companies liable that show themselves to be faithful to the contract with us . Pfizer-BioNTech delivers to us in the European Union what has been contractually agreed . And if we now place them under an export ban - and indeed it was Pfizer-BioNTech that delivered to Great Britain - that means : We are demanding that Pfizer-BioNTech breach its contract . What kind of backlash could this trigger ? Pfizer gets ingredients from the UK . Does that mean we have to expect the UK to ban ingredient supply as a backlash ? Then we will be rid of our reliable vaccine within a few days . We have to hold AstraZeneca accountable . Why do not we make legislation that puts AstraZeneca in focus and forces it to deliver and not hide the vaccine doses ? "
     ]
    }
   ],
   "source": [
    "raw1_33 = 'Bernd Lange (S&D).– Madam President, Commissioner, ladies and gentlemen! The way of the export ban - I think - is a dangerous way, because we hold companies liable that show themselves to be faithful to the contract with us. Pfizer-BioNTech delivers to us in the European Union what has been contractually agreed. And if we now place them under an export ban - and indeed it was Pfizer-BioNTech that delivered to Great Britain - that means: We are demanding that Pfizer-BioNTech breach its contract. What kind of backlash could this trigger? Pfizer gets ingredients from the UK. Does that mean we have to expect the UK to ban ingredient supply as a backlash? Then we will be rid of our reliable vaccine within a few days. We have to hold AstraZeneca accountable. Why do not we make legislation that puts AstraZeneca in focus and forces it to deliver and not hide the vaccine doses?'\n",
    "tokens1_33 = word_tokenize(raw1_33)\n",
    "for word in tokens1_33:\n",
    "    print(word, end=' ')"
   ]
  },
  {
   "cell_type": "code",
   "execution_count": 166,
   "metadata": {},
   "outputs": [
    {
     "name": "stdout",
     "output_type": "stream",
     "text": [
      "Ana Paula Zacarias , President-in-Office of the Council . – Madam President , Honorable Members , Commissioner , I would like to thank you for your remarks and comments and apologize for having to leave early , because we are going to start the meeting , soon , of the Executive Committee of the Conference for the Future of Europe , a meeting that everyone , I am sure everyone , believes to be important . I therefore apologize and make my remarks , even before the end of this session , and I say again that I am grateful for your remarks and comments , which I will try to pass on to the President of the Council and the President of the European Council . I agree that we are undoubtedly at a crucial moment in the European Union , when we need to regain the trust of European citizens , when we need to stick together in order to overcome this unprecedented crisis that we are currently experiencing and that it requires unity , unity between the Member States and the ability to work together between the European Commission , the Council and this Parliament . Therefore , it is very important that , in this videoconference , which our leaders will have , they can face the great challenges that lie ahead . It is necessary to face the health impact of COVID-19 , it is necessary to face the economic impact of COVID-19 so that we can return , at least , to what is a new normality and , for that , we need to use all available instruments . We need the work done by Commissioner Thierry Breton in the search for better forms of cooperation between Member States , regions , companies , to improve our production capacity , our logistics capacity , the capacities of production chains to be more articulated , to ensure the autonomy of the Union . We need a balanced , effective export authorization mechanism that respects reciprocity , that respects proportionality and also the complexity , as has been said here , of the vaccine production chains and their raw materials . We also need to clearly ensure compliance with the Treaties and agreements concluded with pharmaceutical companies . We also need to improve the system for sharing vaccines with our neighbours , with the countries most in need through the COVAX mechanism , through complementary bilateral mechanisms and , certainly , we need to advance the Digital Green Certificate and it is not just for tourism , although tourism is very important , as has been said here , it is important so that we can also ensure the return of mobility for our citizens as a whole : work trips , business trips , family gatherings . It is essential for us to achieve the economic recovery of the European Union . I would therefore like to thank the honorable Members who have expressed their support for this proposal for digital green certificates and also thank those who have expressed their willingness to work on its implementation with the utmost urgency . As the Presidency , we will spare no effort to reach a position in the Council as soon as possible , and we look forward to cooperating with Parliament so that both co-legislators assess all the technical aspects , which are many and difficult , and also assess the political implications of this proposal . , as requested here , but that we will be able to reach an agreement next May . Finally , regarding the foreign policy aspects that have been addressed here , I believe that this moment is extremely important for this conversation between the 27 leaders of the European Union with the President of the European Council and President Biden . It will be important to underline the relevance of our transatlantic relations and to build the necessary synergies in these difficult moments that we are going through . I would also like to thank Parliament for the opportunity to be here in this room tomorrow , debating with you the question of Turkey , namely its withdrawal from the Istanbul Convention . The Council has repeatedly expressed its concern about the continuing decline of the rule of law and the shortcomings in respect for fundamental rights in Turkey and I am sure that the leaders will not fail to address this situation , underlining the importance of Turkey respecting its fundamental democratic obligations . I thank you , once again , for this opportunity to discuss with you the preparation of the informal meeting of leaders that will take place tomorrow and the day after and I will , of course , also be at your disposal for future exchanges of opinion on what will result from it . "
     ]
    }
   ],
   "source": [
    "raw1_34 = 'Ana Paula Zacarias, President-in-Office of the Council. – Madam President, Honorable Members, Commissioner, I would like to thank you for your remarks and comments and apologize for having to leave early, because we are going to start the meeting, soon, of the Executive Committee of the Conference for the Future of Europe, a meeting that everyone, I am sure everyone, believes to be important. I therefore apologize and make my remarks, even before the end of this session, and I say again that I am grateful for your remarks and comments, which I will try to pass on to the President of the Council and the President of the European Council. I agree that we are undoubtedly at a crucial moment in the European Union, when we need to regain the trust of European citizens, when we need to stick together in order to overcome this unprecedented crisis that we are currently experiencing and that it requires unity, unity between the Member States and the ability to work together between the European Commission, the Council and this Parliament. Therefore, it is very important that, in this videoconference, which our leaders will have, they can face the great challenges that lie ahead. It is necessary to face the health impact of COVID-19, it is necessary to face the economic impact of COVID-19 so that we can return, at least, to what is a new normality and, for that, we need to use all available instruments. We need the work done by Commissioner Thierry Breton in the search for better forms of cooperation between Member States, regions, companies, to improve our production capacity, our logistics capacity, the capacities of production chains to be more articulated , to ensure the autonomy of the Union. We need a balanced, effective export authorization mechanism that respects reciprocity, that respects proportionality and also the complexity, as has been said here, of the vaccine production chains and their raw materials. We also need to clearly ensure compliance with the Treaties and agreements concluded with pharmaceutical companies. We also need to improve the system for sharing vaccines with our neighbours, with the countries most in need through the COVAX mechanism, through complementary bilateral mechanisms and, certainly, we need to advance the Digital Green Certificate and it is not just for tourism, although tourism is very important, as has been said here, it is important so that we can also ensure the return of mobility for our citizens as a whole: work trips, business trips, family gatherings. It is essential for us to achieve the economic recovery of the European Union. I would therefore like to thank the honorable Members who have expressed their support for this proposal for digital green certificates and also thank those who have expressed their willingness to work on its implementation with the utmost urgency. As the Presidency, we will spare no effort to reach a position in the Council as soon as possible, and we look forward to cooperating with Parliament so that both co-legislators assess all the technical aspects, which are many and difficult, and also assess the political implications of this proposal. , as requested here, but that we will be able to reach an agreement next May. Finally, regarding the foreign policy aspects that have been addressed here, I believe that this moment is extremely important for this conversation between the 27 leaders of the European Union with the President of the European Council and President Biden. It will be important to underline the relevance of our transatlantic relations and to build the necessary synergies in these difficult moments that we are going through. I would also like to thank Parliament for the opportunity to be here in this room tomorrow, debating with you the question of Turkey, namely its withdrawal from the Istanbul Convention. The Council has repeatedly expressed its concern about the continuing decline of the rule of law and the shortcomings in respect for fundamental rights in Turkey and I am sure that the leaders will not fail to address this situation, underlining the importance of Turkey respecting its fundamental democratic obligations. I thank you, once again, for this opportunity to discuss with you the preparation of the informal meeting of leaders that will take place tomorrow and the day after and I will, of course, also be at your disposal for future exchanges of opinion on what will result from it.'\n",
    "tokens1_34 = word_tokenize(raw1_34)\n",
    "for word in tokens1_34:\n",
    "    print(word, end=' ')"
   ]
  },
  {
   "cell_type": "code",
   "execution_count": 167,
   "metadata": {},
   "outputs": [
    {
     "name": "stdout",
     "output_type": "stream",
     "text": [
      "José Ramón Bauzá Díaz ( Renew ) . – Madam President , this year has been a real nightmare for all of us ; It has been for all those who have suffered the coronavirus disease in their flesh ; for people who have been affected because they have lost relatives , friends or compatriots ; for the millions of health workers who have been and continue to be on the front lines of the battle against the pandemic ; ultimately , for all of us . And it has been and is an absolutely terrible situation , not only because on certain occasions the light is not seen at the end of the tunnel , but because we continue with one wave after another in some countries , as is the case with mine , in Spain . But , precisely for this reason , we also have and still have a tool that we did not have until now to recover that efficiency and , above all , trust , which is the vaccination certificate . That not only does it allow us mobility —very important for all of us— , but also , the most important thing is that it allows our companies , our freelancers , our workers linked to the field of transport and tourism to see how those prospects for an economic recovery . In short , ladies and gentlemen , we in this House have the moral obligation to issue this vaccination certificate as quickly as possible , but also with the maximum guarantees . "
     ]
    }
   ],
   "source": [
    "raw1_35 = 'José Ramón Bauzá Díaz (Renew). – Madam President, this year has been a real nightmare for all of us; It has been for all those who have suffered the coronavirus disease in their flesh; for people who have been affected because they have lost relatives, friends or compatriots; for the millions of health workers who have been and continue to be on the front lines of the battle against the pandemic; ultimately, for all of us. And it has been and is an absolutely terrible situation, not only because on certain occasions the light is not seen at the end of the tunnel, but because we continue with one wave after another in some countries, as is the case with mine, in Spain. But, precisely for this reason, we also have and still have a tool that we did not have until now to recover that efficiency and, above all, trust, which is the vaccination certificate. That not only does it allow us mobility —very important for all of us—, but also, the most important thing is that it allows our companies, our freelancers, our workers linked to the field of transport and tourism to see how those prospects for an economic recovery. In short, ladies and gentlemen, we in this House have the moral obligation to issue this vaccination certificate as quickly as possible, but also with the maximum guarantees.'\n",
    "tokens1_35 = word_tokenize(raw1_35)\n",
    "for word in tokens1_35:\n",
    "    print(word, end=' ')"
   ]
  },
  {
   "cell_type": "code",
   "execution_count": 168,
   "metadata": {},
   "outputs": [
    {
     "name": "stdout",
     "output_type": "stream",
     "text": [
      "Annalisa Tardino ( ID ) . - Madam President , ladies and gentlemen , this Commission , which today asks us to vote on the urgent procedure for the eventual adoption of the digital green certificate , has stood out for its failed vaccination strategy . One mistake after another , deaf to our requests for a change of pace . Today you tell us that there is a hurry and we know it . We remembered with emotion , just a few days ago , the victims of COVID , evoking , among many others , the image of the bodies of Bergamo on military vehicles . A year later , and despite everything , we believe it is our duty to look to the future with hope . It is our duty to plan the gradual reopenings in the various countries , as well as to identify tools to ensure the free movement of citizens of the European Union without discrimination between countries of origin . Guaranteeing the economic recovery of our states , including through tourism , is the only thing that will truly set European citizens free . Trust , hope , security and happiness are essential elements to return to life and on which we must insist . We will not go into the merits of the provision today , but I already announce that the direction that can convince us will be that of the provisional nature of the measures and the protection of human rights , avoiding discrimination or impositions . And we hope that you have truly understood that there is a hurry , especially to leave ! "
     ]
    }
   ],
   "source": [
    "raw1_36 = 'Annalisa Tardino (ID). - Madam President, ladies and gentlemen, this Commission, which today asks us to vote on the urgent procedure for the eventual adoption of the digital green certificate, has stood out for its failed vaccination strategy. One mistake after another, deaf to our requests for a change of pace. Today you tell us that there is a hurry and we know it. We remembered with emotion, just a few days ago, the victims of COVID, evoking, among many others, the image of the bodies of Bergamo on military vehicles. A year later, and despite everything, we believe it is our duty to look to the future with hope. It is our duty to plan the gradual reopenings in the various countries, as well as to identify tools to ensure the free movement of citizens of the European Union without discrimination between countries of origin. Guaranteeing the economic recovery of our states, including through tourism, is the only thing that will truly set European citizens free. Trust, hope, security and happiness are essential elements to return to life and on which we must insist. We will not go into the merits of the provision today, but I already announce that the direction that can convince us will be that of the provisional nature of the measures and the protection of human rights, avoiding discrimination or impositions. And we hope that you have truly understood that there is a hurry, especially to leave!'\n",
    "tokens1_36 = word_tokenize(raw1_36)\n",
    "for word in tokens1_36:\n",
    "    print(word, end=' ')"
   ]
  },
  {
   "cell_type": "code",
   "execution_count": 169,
   "metadata": {},
   "outputs": [
    {
     "name": "stdout",
     "output_type": "stream",
     "text": [
      "Tilly Metz ( Verts/ALE ) . – Madam President , I have three questions . The first concerns the health implications . Even if I support the idea of ​​coordination at European level to guarantee free movement , I think that this certificate gives a false impression that everything is settled . Indeed , we still do not know if the authorized vaccines allow vaccinated people to no longer transmit the virus , nor the duration of protection of these vaccines . The WHO has raised these concerns in particular . So why not take into account these important medical considerations ? Secondly , you mention the possibility for Member States not to recognize the certificate in the same way . Do not you think that more coordination would be necessary before setting up a system which risks leading to discrimination ? Thirdly , with regard to personal data , considering the medical content of the information , why not have opted for a system that simply mentions whether a test , a vaccine or a cure has indeed taken place in order to avoid the possible tracking of citizen health data ? "
     ]
    }
   ],
   "source": [
    "raw1_37 = 'Tilly Metz (Verts/ALE). – Madam President, I have three questions. The first concerns the health implications. Even if I support the idea of ​​coordination at European level to guarantee free movement, I think that this certificate gives a false impression that everything is settled. Indeed, we still do not know if the authorized vaccines allow vaccinated people to no longer transmit the virus, nor the duration of protection of these vaccines. The WHO has raised these concerns in particular. So why not take into account these important medical considerations? Secondly, you mention the possibility for Member States not to recognize the certificate in the same way. Do not you think that more coordination would be necessary before setting up a system which risks leading to discrimination? Thirdly, with regard to personal data, considering the medical content of the information, why not have opted for a system that simply mentions whether a test, a vaccine or a cure has indeed taken place in order to avoid the possible tracking of citizen health data?'\n",
    "tokens1_37 = word_tokenize(raw1_37)\n",
    "for word in tokens1_37:\n",
    "    print(word, end=' ')"
   ]
  },
  {
   "cell_type": "code",
   "execution_count": 170,
   "metadata": {},
   "outputs": [
    {
     "name": "stdout",
     "output_type": "stream",
     "text": [
      "Nicola Procaccini ( ECR ) . - Madam President , ladies and gentlemen , we are facing a health emergency but also an economic emergency . Being able to move from one state to another is not just a personal pleasure : it is also the necessary condition for the resumption of tourism throughout Europe . Entrepreneurs and workers , along with their families , need to resume their business safely and quickly . For millions of men and women , the digital green certificate will not be the panacea for all evils , but it is certainly a fundamental starting point for securing the summer , making entry procedures into the European Union countries homogeneous and avoiding a mandatory vaccination passport , which would be really discriminating for many reasons . Summer is already upon us . I hope that the usual European bureaucracy or the usual ideological paranoia of the left do not hinder the fastest possible path of the certificate in this Parliament : it would be a further , unjust violence against Italian and European citizens . "
     ]
    }
   ],
   "source": [
    "raw1_38 = 'Nicola Procaccini (ECR). - Madam President, ladies and gentlemen, we are facing a health emergency but also an economic emergency. Being able to move from one state to another is not just a personal pleasure: it is also the necessary condition for the resumption of tourism throughout Europe. Entrepreneurs and workers, along with their families, need to resume their business safely and quickly. For millions of men and women, the digital green certificate will not be the panacea for all evils, but it is certainly a fundamental starting point for securing the summer, making entry procedures into the European Union countries homogeneous and avoiding a mandatory vaccination passport, which would be really discriminating for many reasons. Summer is already upon us. I hope that the usual European bureaucracy or the usual ideological paranoia of the left do not hinder the fastest possible path of the certificate in this Parliament: it would be a further, unjust violence against Italian and European citizens.'\n",
    "tokens1_38 = word_tokenize(raw1_38)\n",
    "for word in tokens1_38:\n",
    "    print(word, end=' ')"
   ]
  },
  {
   "cell_type": "code",
   "execution_count": 171,
   "metadata": {},
   "outputs": [
    {
     "name": "stdout",
     "output_type": "stream",
     "text": [
      "rançois-Xavier Bellamy ( PPE ) . - Madam President , ladies and gentlemen , we are facing a health emergency but also an economic emergency . Being able to move from one state to another is not just a personal pleasure : it is also the necessary condition for the resumption of tourism throughout Europe . Entrepreneurs and workers , along with their families , need to resume their business safely and quickly . For millions of men and women , the digital green certificate will not be the panacea for all evils , but it is certainly a fundamental starting point for securing the summer , making entry procedures into the European Union countries homogeneous and avoiding a mandatory vaccination passport , which would be really discriminating for many reasons . Summer is already upon us . I hope that the usual European bureaucracy or the usual ideological paranoia of the left do not hinder the fastest possible path of the certificate in this Parliament : it would be a further , unjust violence against Italian and European citizens . "
     ]
    }
   ],
   "source": [
    "raw1_39 = 'rançois-Xavier Bellamy (PPE). - Madam President, ladies and gentlemen, we are facing a health emergency but also an economic emergency. Being able to move from one state to another is not just a personal pleasure: it is also the necessary condition for the resumption of tourism throughout Europe. Entrepreneurs and workers, along with their families, need to resume their business safely and quickly. For millions of men and women, the digital green certificate will not be the panacea for all evils, but it is certainly a fundamental starting point for securing the summer, making entry procedures into the European Union countries homogeneous and avoiding a mandatory vaccination passport, which would be really discriminating for many reasons. Summer is already upon us. I hope that the usual European bureaucracy or the usual ideological paranoia of the left do not hinder the fastest possible path of the certificate in this Parliament: it would be a further, unjust violence against Italian and European citizens.'\n",
    "tokens1_39 = word_tokenize(raw1_39)\n",
    "for word in tokens1_39:\n",
    "    print(word, end=' ')"
   ]
  },
  {
   "cell_type": "code",
   "execution_count": 172,
   "metadata": {},
   "outputs": [
    {
     "name": "stdout",
     "output_type": "stream",
     "text": [
      "Birgit Sippel ( S & D ) . – Madam President ! Last week Commissioner Reynders presented us with the green certificates to simplify COVID border controls and stressed that he did not care about the specific procedure as long as the final text was ready by June , and of course we can do that . But now the turnaround : a request from Commission President von der Leyen for an emergency procedure . Is this now a distraction from the vaccination disaster ? Because Parliament can start Rule 49 of the Rules of Procedure immediately , we will finish that on time and the role of the committees would be respected . In my opinion , that would be the better solution . But beyond the specific procedure , there are open questions - also in the Council : Will conditions for free travel in the Schengen area be introduced ? What about data protection and non-discrimination ? Who pays for the tests , for example , for employees crossing the border every day ? Or : Will the certificates become a bonus for a few ? We must and will examine all of this . "
     ]
    }
   ],
   "source": [
    "raw1_40 = ' Birgit Sippel (S&D). – Madam President! Last week Commissioner Reynders presented us with the green certificates to simplify COVID border controls and stressed that he did not care about the specific procedure as long as the final text was ready by June, and of course we can do that. But now the turnaround: a request from Commission President von der Leyen for an emergency procedure. Is this now a distraction from the vaccination disaster? Because Parliament can start Rule 49 of the Rules of Procedure immediately, we will finish that on time and the role of the committees would be respected. In my opinion, that would be the better solution. But beyond the specific procedure, there are open questions - also in the Council: Will conditions for free travel in the Schengen area be introduced? What about data protection and non-discrimination? Who pays for the tests, for example, for employees crossing the border every day? Or: Will the certificates become a bonus for a few? We must and will examine all of this.'\n",
    "tokens1_40 = word_tokenize(raw1_40)\n",
    "for word in tokens1_40:\n",
    "    print(word, end=' ')"
   ]
  },
  {
   "cell_type": "code",
   "execution_count": 173,
   "metadata": {},
   "outputs": [
    {
     "name": "stdout",
     "output_type": "stream",
     "text": [
      "María Soraya Rodríguez Ramos ( Renew ) . – Madam President , Commissioner , it has been said here that the European Union has failed . It is not true , we have not failed . We are fighting . And , in view of pirate behavior by pharmaceutical companies such as AstraZeneca , or of the real problem we have to face , which is the production of vaccines in Europe with all guarantees - I thank Thierry Breton for all his efforts - we are doing it the best way possible . Together we have to provide a European solution to the management of the pandemic . And , in this sense , the European certificate is a European solution . We do not want twenty-seven health certificates . We want a European certificate . A certificate that is non-discriminatory . It will not be a condition to travel , but it can exempt other conditions to travel , for example , PCR , confinements . It will give the same rights to all citizens , regardless of their nationality . And it will be , ladies and gentlemen , a health instrument , because it will give us very valuable information on the vaccination and immunological status of European citizens . "
     ]
    }
   ],
   "source": [
    "raw1_41 = 'María Soraya Rodríguez Ramos (Renew). – Madam President, Commissioner, it has been said here that the European Union has failed. It is not true, we have not failed. We are fighting. And, in view of pirate behavior by pharmaceutical companies such as AstraZeneca, or of the real problem we have to face, which is the production of vaccines in Europe with all guarantees - I thank Thierry Breton for all his efforts - we are doing it the best way possible. Together we have to provide a European solution to the management of the pandemic. And, in this sense, the European certificate is a European solution. We do not want twenty-seven health certificates. We want a European certificate. A certificate that is non-discriminatory. It will not be a condition to travel, but it can exempt other conditions to travel, for example, PCR, confinements. It will give the same rights to all citizens, regardless of their nationality. And it will be, ladies and gentlemen, a health instrument, because it will give us very valuable information on the vaccination and immunological status of European citizens.'\n",
    "tokens1_41 = word_tokenize(raw1_41)\n",
    "for word in tokens1_41:\n",
    "    print(word, end=' ')"
   ]
  },
  {
   "cell_type": "code",
   "execution_count": 174,
   "metadata": {},
   "outputs": [
    {
     "name": "stdout",
     "output_type": "stream",
     "text": [
      "Ernest Urtasun ( Verts/ALE ) .– Madam President , we must start by saying that the vaccination campaign in Europe is approaching disaster . And do not look for scapegoats . The problem is that they do not dare to touch the interests of the large pharmaceutical industries : they have outsourced all the production of vaccines to private actors and , as a result , of the 160 million doses that were due to arrive this quarter , only 70 have arrived . ; now with this latest episode of the 30 million vaccines that have been found by chance in Italy . This can not go on like this . You now want to establish border controls . Sounds good to me , but the problem is that vaccine nationalism is not going to get us out of this situation either . What we have to do is produce more , improve our production capacities , and for this we have to force pharmaceutical companies to make technology transfers because many of these vaccines have been achieved with public money . And , secondly , support , in the World Trade Organization , the lifting of certain intellectual property rights , as the WHO is asking , because if the vaccine does not reach everyone , we will not solve the problem of the pandemic . Please , act and for once stop hiding behind the interests of pharmaceutical companies and force them to do their job and let us increase production in Europe by lifting these rights . "
     ]
    }
   ],
   "source": [
    "raw1_42 = 'Ernest Urtasun (Verts/ALE).– Madam President, we must start by saying that the vaccination campaign in Europe is approaching disaster. And do not look for scapegoats. The problem is that they do not dare to touch the interests of the large pharmaceutical industries: they have outsourced all the production of vaccines to private actors and, as a result, of the 160 million doses that were due to arrive this quarter, only 70 have arrived. ; now with this latest episode of the 30 million vaccines that have been found by chance in Italy. This can not go on like this. You now want to establish border controls. Sounds good to me, but the problem is that vaccine nationalism is not going to get us out of this situation either. What we have to do is produce more, improve our production capacities, and for this we have to force pharmaceutical companies to make technology transfers because many of these vaccines have been achieved with public money. And, secondly, support, in the World Trade Organization, the lifting of certain intellectual property rights, as the WHO is asking, because if the vaccine does not reach everyone, we will not solve the problem of the pandemic. Please, act and for once stop hiding behind the interests of pharmaceutical companies and force them to do their job and let us increase production in Europe by lifting these rights.'\n",
    "tokens1_42 = word_tokenize(raw1_42)\n",
    "for word in tokens1_42:\n",
    "    print(word, end=' ')"
   ]
  },
  {
   "cell_type": "code",
   "execution_count": 175,
   "metadata": {},
   "outputs": [
    {
     "name": "stdout",
     "output_type": "stream",
     "text": [
      "Jorge Buxadé Villalba ( ECR ) .Madam President , unemployment in Spain has exceeded four million people . To this figure must be added 900,000 workers in employment regulation files . Thousands of freelancers and small and medium-sized businesses are about to close . You have to open everything now . We must put an end to the blackmail of the pharmaceutical companies and take all the necessary measures to reactivate economic activity . In the case of Spain , one of the most affected sectors , without a doubt , has been tourism . In a single year it has gone from being 12.5 % ​​of national production to 4 % . And there are nearly three million jobs at stake . The model of subsidizing unemployment at the cost of indebting Europe and becoming guilty of creditors has to end now . We have to fundamentally reactivate tourism . For this reason , we are not going to oppose this European health certificate , provided that it meets a series of conditions : that it does not imply restrictions on the freedom of movement of nationals , that it does not benefit illegal immigrants and , of course , that it guarantees everyone has the right to be vaccinated or not . For this reason , we must put an end to the restrictions and end the restrictions , not when Pedro says so or when the World Health Organization says so , because that is leaving the future of Europe in the hands of communist China . "
     ]
    }
   ],
   "source": [
    "raw1_43 = 'Jorge Buxadé Villalba (ECR).Madam President, unemployment in Spain has exceeded four million people. To this figure must be added 900,000 workers in employment regulation files. Thousands of freelancers and small and medium-sized businesses are about to close. You have to open everything now. We must put an end to the blackmail of the pharmaceutical companies and take all the necessary measures to reactivate economic activity. In the case of Spain, one of the most affected sectors, without a doubt, has been tourism. In a single year it has gone from being 12.5% ​​of national production to 4%. And there are nearly three million jobs at stake. The model of subsidizing unemployment at the cost of indebting Europe and becoming guilty of creditors has to end now. We have to fundamentally reactivate tourism. For this reason, we are not going to oppose this European health certificate, provided that it meets a series of conditions: that it does not imply restrictions on the freedom of movement of nationals, that it does not benefit illegal immigrants and, of course, that it guarantees everyone has the right to be vaccinated or not. For this reason, we must put an end to the restrictions and end the restrictions, not when Pedro says so or when the World Health Organization says so, because that is leaving the future of Europe in the hands of communist China.'\n",
    "tokens1_43 = word_tokenize(raw1_43)\n",
    "for word in tokens1_43:\n",
    "    print(word, end=' ')"
   ]
  },
  {
   "cell_type": "code",
   "execution_count": 176,
   "metadata": {},
   "outputs": [
    {
     "name": "stdout",
     "output_type": "stream",
     "text": [
      "Paulo Rangel ( PPE ) . The Digital Green Certificate must move quickly and must allow the removal of obstacles to privacy and discrimination , but it is fundamental not only for tourism , as is said here , but to restore the Schengen area that was largely affected by the pandemic . I have already said it here , the vaccination strategy of the European Union is good , but the implementation is being bad . The problem is not just a fault here or there on the part of the Commission , which exists , the problem is also the divisions between the countries , each one for itself , Hungary and Slovakia with Sputnik , Denmark and Austria going to Israel , the German Minister of Health who says he is able to order Sputnik vaccines , the suspension of AstraZeneca made in dominoes without listening to the European Medicines Authority . All this creates cacophony , creates divergence , makes the work of the Commission immensely difficult , which is making a huge effort to ensure that we can get to July with group immunity . And what does the Presidency of the Council of Mr Michel do ? What does the Portuguese Presidency do to ensure that the Governments of the Member States , instead of dealing with their own public opinion , are committed to having a concerted action , a combined action , so that the Commission can develop your work and the interest of Europeans to be vaccinated comes first . "
     ]
    }
   ],
   "source": [
    "raw1_44 = 'Paulo Rangel (PPE). The Digital Green Certificate must move quickly and must allow the removal of obstacles to privacy and discrimination, but it is fundamental not only for tourism, as is said here, but to restore the Schengen area that was largely affected by the pandemic. I have already said it here, the vaccination strategy of the European Union is good, but the implementation is being bad. The problem is not just a fault here or there on the part of the Commission, which exists, the problem is also the divisions between the countries, each one for itself, Hungary and Slovakia with Sputnik, Denmark and Austria going to Israel, the German Minister of Health who says he is able to order Sputnik vaccines, the suspension of AstraZeneca made in dominoes without listening to the European Medicines Authority. All this creates cacophony, creates divergence, makes the work of the Commission immensely difficult, which is making a huge effort to ensure that we can get to July with group immunity. And what does the Presidency of the Council of Mr Michel do? What does the Portuguese Presidency do to ensure that the Governments of the Member States, instead of dealing with their own public opinion, are committed to having a concerted action, a combined action, so that the Commission can develop your work and the interest of Europeans to be vaccinated comes first.'\n",
    "tokens1_44 = word_tokenize(raw1_44)\n",
    "for word in tokens1_44:\n",
    "    print(word, end=' ')"
   ]
  },
  {
   "cell_type": "code",
   "execution_count": 177,
   "metadata": {},
   "outputs": [
    {
     "name": "stdout",
     "output_type": "stream",
     "text": [
      "Juan Fernando López Aguilar ( S & D ) . – Madam President , 450 million European men and women demand that this Parliament , which represents them , do everything in its power to speed up the vaccination process and restore free movement , which is by far the asset they hold dearest . And the Commission proposes a health and immunological green certificate that gives homogeneity and coordination where there is now fragmentation and , therefore , also discrimination . The legal basis is free movement , and therefore the responsible committee will be the Committee on Civil Liberties , Justice and Home Affairs , which welcomes this instrument . And a majority of committee coordinators suggest that there would be an alternative to the accelerated procedure that would ensure the achievement of the result in June , but the Commission proposes a vote on the urgent procedure . And if the urgent procedure comes out yes , it is important to ensure that a period for amendments and a negotiation mandate are also opened so that the result of that negotiation is voted on in the Committee on Civil Liberties , Justice and Home Affairs and , subsequently , in plenary in June ; but , above all , fundamental rights , the temporality of the instrument , the prohibition of discrimination and , of course , the privacy and data protection of Europeans and Europeans are ensured . "
     ]
    }
   ],
   "source": [
    "raw1_45 = 'Juan Fernando López Aguilar (S&D). – Madam President, 450 million European men and women demand that this Parliament, which represents them, do everything in its power to speed up the vaccination process and restore free movement, which is by far the asset they hold dearest. And the Commission proposes a health and immunological green certificate that gives homogeneity and coordination where there is now fragmentation and, therefore, also discrimination. The legal basis is free movement, and therefore the responsible committee will be the Committee on Civil Liberties, Justice and Home Affairs, which welcomes this instrument. And a majority of committee coordinators suggest that there would be an alternative to the accelerated procedure that would ensure the achievement of the result in June, but the Commission proposes a vote on the urgent procedure. And if the urgent procedure comes out yes, it is important to ensure that a period for amendments and a negotiation mandate are also opened so that the result of that negotiation is voted on in the Committee on Civil Liberties, Justice and Home Affairs and, subsequently, in plenary in June; but, above all, fundamental rights, the temporality of the instrument, the prohibition of discrimination and, of course, the privacy and data protection of Europeans and Europeans are ensured.'\n",
    "tokens1_45 = word_tokenize(raw1_45)\n",
    "for word in tokens1_45:\n",
    "    print(word, end=' ')"
   ]
  },
  {
   "cell_type": "code",
   "execution_count": 178,
   "metadata": {},
   "outputs": [
    {
     "name": "stdout",
     "output_type": "stream",
     "text": [
      "Jeroen Lenaers ( PPE ) . – Madam President , during the first wave of the pandemic , we saw barriers to free movement appearing all over the European Union . In my own village close to the Dutch-Belgian border we saw sea containers , fences and piles of sand blocking the way for those looking to cross the border as they have been crossing borders for many years already , for love , for work , for whatever reason . Now the fences have disappeared but restrictions remain in place and of course in a situation as grave as a pandemic it has to be the Member States that have the ultimate say as to who enters their country and under what conditions . That is their responsibility and their duty , but it is our duty at European level to make sure that our citizens have a quick and easy way to show that they fulfil those conditions , that their national certificates for their vaccinations , for their negative tests or for their immunity are recognised and accepted in the whole European Union . We need to avoid having 27 separate national systems creating one big European chaos . And we need to do this fast . Our citizens expect the European Union to be part of the solution and not the problem . And I welcome the request by Commission President von der Leyen to use the urgent procedure that our Rules of Procedure in this House allow for in extraordinary circumstances , to do this fast . We will show that this Parliament can work swiftly and efficiently without compromising on the quality of the work . We need to deliver to make sure that our citizens can exercise their rights to the fullest and without delay . "
     ]
    }
   ],
   "source": [
    "raw1_46 = 'Jeroen Lenaers (PPE). – Madam President, during the first wave of the pandemic, we saw barriers to free movement appearing all over the European Union. In my own village close to the Dutch-Belgian border we saw sea containers, fences and piles of sand blocking the way for those looking to cross the border as they have been crossing borders for many years already, for love, for work, for whatever reason. Now the fences have disappeared but restrictions remain in place and of course in a situation as grave as a pandemic it has to be the Member States that have the ultimate say as to who enters their country and under what conditions. That is their responsibility and their duty, but it is our duty at European level to make sure that our citizens have a quick and easy way to show that they fulfil those conditions, that their national certificates for their vaccinations, for their negative tests or for their immunity are recognised and accepted in the whole European Union. We need to avoid having 27 separate national systems creating one big European chaos. And we need to do this fast. Our citizens expect the European Union to be part of the solution and not the problem. And I welcome the request by Commission President von der Leyen to use the urgent procedure that our Rules of Procedure in this House allow for in extraordinary circumstances, to do this fast. We will show that this Parliament can work swiftly and efficiently without compromising on the quality of the work. We need to deliver to make sure that our citizens can exercise their rights to the fullest and without delay.'\n",
    "tokens1_46 = word_tokenize(raw1_46)\n",
    "for word in tokens1_46:\n",
    "    print(word, end=' ')"
   ]
  },
  {
   "cell_type": "code",
   "execution_count": 179,
   "metadata": {},
   "outputs": [
    {
     "name": "stdout",
     "output_type": "stream",
     "text": [
      "István Ujhelyi ( S & D ) .- Madam President , Ladies and gentlemen . As a Hungarian member of the European Parliament for vaccination , I am convinced that there is a need to speed up vaccination , the arrival of vaccines , large-scale testing and a vaccine passport at the same time . 25 million workers in the European Union transport and tourism sector are waiting to have some chance of survival in terms of their existence . Meanwhile , students , drivers , commuters are also waiting and asking how they will be able to travel . But as a Hungarian MEP , I have to tell you that we can only make a decision that does not disadvantage the many hundreds of thousands of Hungarian citizens who have been vaccinated with a vaccine that is not yet authorized in the European Union . The solution may be that if all such manufacturers , be they Russian or Chinese or Indian , apply for an EU license and initiate this procedure . This could be the solution for the future . "
     ]
    }
   ],
   "source": [
    "raw1_47 = 'István Ujhelyi (S&D).- Madam President, Ladies and gentlemen. As a Hungarian member of the European Parliament for vaccination, I am convinced that there is a need to speed up vaccination, the arrival of vaccines, large-scale testing and a vaccine passport at the same time. 25 million workers in the European Union transport and tourism sector are waiting to have some chance of survival in terms of their existence. Meanwhile, students, drivers, commuters are also waiting and asking how they will be able to travel. But as a Hungarian MEP, I have to tell you that we can only make a decision that does not disadvantage the many hundreds of thousands of Hungarian citizens who have been vaccinated with a vaccine that is not yet authorized in the European Union. The solution may be that if all such manufacturers, be they Russian or Chinese or Indian, apply for an EU license and initiate this procedure. This could be the solution for the future.'\n",
    "tokens1_47 = word_tokenize(raw1_47)\n",
    "for word in tokens1_47:\n",
    "    print(word, end=' ')"
   ]
  },
  {
   "cell_type": "code",
   "execution_count": 180,
   "metadata": {},
   "outputs": [
    {
     "name": "stdout",
     "output_type": "stream",
     "text": [
      "Stelios Kimbouropoulos ( PPE ) .- Madam President , Commissioner , ladies and gentlemen , I would like to express my particular satisfaction that the European Council will discuss the proposal for a digital green certificate , an initiative launched by the Prime Minister of my country , Mr Mitsotakis . We need a functional , accessible and secure certificate for all European citizens , without discrimination and with respect for their rights , so that European citizens can use it as soon as possible ; but also give a significant boost to tourism and the industry . who have been irreparably affected by a coordinated , common approach without exception , with clear information in the event that a Member State still requires digital green certificate holders to be quarantined or tested . However , the timing is critical and the proposal needs to be adopted quickly before the summer , in order to give businesses the time they need to plan and prepare . Because only in this way will we be able to show in practice to our fellow citizens that , through a common European approach , our Union can act quickly and provide solutions for the benefit of its citizens . "
     ]
    }
   ],
   "source": [
    "raw1_48 = 'Stelios Kimbouropoulos (PPE).- Madam President, Commissioner, ladies and gentlemen, I would like to express my particular satisfaction that the European Council will discuss the proposal for a digital green certificate, an initiative launched by the Prime Minister of my country, Mr Mitsotakis. We need a functional, accessible and secure certificate for all European citizens, without discrimination and with respect for their rights, so that European citizens can use it as soon as possible; but also give a significant boost to tourism and the industry. who have been irreparably affected by a coordinated, common approach without exception, with clear information in the event that a Member State still requires digital green certificate holders to be quarantined or tested. However, the timing is critical and the proposal needs to be adopted quickly before the summer, in order to give businesses the time they need to plan and prepare. Because only in this way will we be able to show in practice to our fellow citizens that, through a common European approach, our Union can act quickly and provide solutions for the benefit of its citizens.'\n",
    "tokens1_48 = word_tokenize(raw1_48)\n",
    "for word in tokens1_48:\n",
    "    print(word, end=' ')"
   ]
  },
  {
   "cell_type": "code",
   "execution_count": 181,
   "metadata": {},
   "outputs": [
    {
     "name": "stdout",
     "output_type": "stream",
     "text": [
      "Paul Tang ( S & D ) .– Madam President , the big tech companies see their profits skyrocket because of the pandemic , and then compare that to the small-business owner who is struggling to survive because of the pandemic . When he or she finds out that the big techs hardly pay any taxes , what do you think the reaction will be ? So the Council doesn ’ t just need to discuss how to deal with a pandemic but also how to recover from it . As Chair of the Subcommittee on Tax Matters ( FISC ) , I am proud that yesterday the first own-initiative FISC report on digital taxation was adopted in the Committee on Economic and Monetary Affairs with an overwhelming majority and with a very clear message to the Council . A European digital levy should contribute to the OECD solution , preferably fall on profits and raise substantial revenue – also to pay for the expenditure of the Recovery Fund . It ’ s up to the Council to let digitalised multinationals pay their fair share and contribute to the recovery after the pandemic , so that not just small-business owners and the other taxpayers will pay the price of the pandemic . "
     ]
    }
   ],
   "source": [
    "raw1_49 = 'Paul Tang (S&D).– Madam President, the big tech companies see their profits skyrocket because of the pandemic, and then compare that to the small-business owner who is struggling to survive because of the pandemic. When he or she finds out that the big techs hardly pay any taxes, what do you think the reaction will be? So the Council doesn’t just need to discuss how to deal with a pandemic but also how to recover from it. As Chair of the Subcommittee on Tax Matters (FISC), I am proud that yesterday the first own-initiative FISC report on digital taxation was adopted in the Committee on Economic and Monetary Affairs with an overwhelming majority and with a very clear message to the Council. A European digital levy should contribute to the OECD solution, preferably fall on profits and raise substantial revenue – also to pay for the expenditure of the Recovery Fund. It’s up to the Council to let digitalised multinationals pay their fair share and contribute to the recovery after the pandemic, so that not just small-business owners and the other taxpayers will pay the price of the pandemic.'\n",
    "tokens1_49 = word_tokenize(raw1_49)\n",
    "for word in tokens1_49:\n",
    "    print(word, end=' ')"
   ]
  },
  {
   "cell_type": "code",
   "execution_count": 182,
   "metadata": {},
   "outputs": [
    {
     "name": "stdout",
     "output_type": "stream",
     "text": [
      "Maria Spyraki ( PPE ) . - Madam President , Commissioner Hahn , while our fellow citizens are being lost and others are being treated in intensive care units , as the European economy winters today , here in the European Parliament , with the urgency process , we are taking a first step towards green digital certificate by the end of May . We have the honor to have the green digital certificate with the Greek stamp , the Greek signature from the proposal of the Prime Minister Kyriakos Mitsotakis , and it comes to create a fast traffic line , not only for those who are vaccinated or will be vaccinated but also for those who have a negative test and for those who have antibodies . Obstacles are being reduced ; the Schengen area is returning ; we are taking back the freedom of movement of our citizens . It is now our responsibility , as the European Union , to exhaust all means so that vaccine companies can fulfill their commitments and be able to build the immunity of 70 % of the citizens by the end of the summer . With Easter , let us also resurrect hope . With Easter , to bring back our life , the European way of life , to revive our economy . "
     ]
    }
   ],
   "source": [
    "raw1_50 = 'Maria Spyraki (PPE). - Madam President, Commissioner Hahn, while our fellow citizens are being lost and others are being treated in intensive care units, as the European economy winters today, here in the European Parliament, with the urgency process, we are taking a first step towards green digital certificate by the end of May. We have the honor to have the green digital certificate with the Greek stamp, the Greek signature from the proposal of the Prime Minister Kyriakos Mitsotakis, and it comes to create a fast traffic line, not only for those who are vaccinated or will be vaccinated but also for those who have a negative test and for those who have antibodies. Obstacles are being reduced; the Schengen area is returning; we are taking back the freedom of movement of our citizens. It is now our responsibility, as the European Union, to exhaust all means so that vaccine companies can fulfill their commitments and be able to build the immunity of 70% of the citizens by the end of the summer. With Easter, let us also resurrect hope. With Easter, to bring back our life, the European way of life, to revive our economy.'\n",
    "tokens1_50 = word_tokenize(raw1_50)\n",
    "for word in tokens1_50:\n",
    "    print(word, end=' ')"
   ]
  },
  {
   "cell_type": "code",
   "execution_count": 183,
   "metadata": {},
   "outputs": [
    {
     "name": "stdout",
     "output_type": "stream",
     "text": [
      "Nikos Androulakis ( S & D ) . - Madam President , the Borrell report on Euro-Turkish relations is reminiscent of an ostrich . While Erdogan had already started the persecution for the dissolution of the HDP , you announced an official visit and a few hours later we learn about the withdrawal of Turkey from the Istanbul Convention on Womens Rights . What is the credibility of the Union when economic interests take precedence over the protection of European values ​​and the rule of law ? The Council conclusions must make explicit reference not only to incentives but also to sanctions , should Turkey continue to face human rights abuses and provocations in the wider region . The European Parliament has also asked you to include sanctions in the arms embargo . It is not possible for the Americans to stop arms sales to Turkey , and for you to continue to equip the geopolitical turmoil . Finally , I would like to thank President Sassoli for his warm words on the 200th anniversary of the Greek Revolution and wish the Greeks and philhellenes around the world happy birthday . "
     ]
    }
   ],
   "source": [
    "raw1_51 = 'Nikos Androulakis (S&D). - Madam President, the Borrell report on Euro-Turkish relations is reminiscent of an ostrich. While Erdogan had already started the persecution for the dissolution of the HDP, you announced an official visit and a few hours later we learn about the withdrawal of Turkey from the Istanbul Convention on Womens Rights. What is the credibility of the Union when economic interests take precedence over the protection of European values ​​and the rule of law? The Council conclusions must make explicit reference not only to incentives but also to sanctions, should Turkey continue to face human rights abuses and provocations in the wider region. The European Parliament has also asked you to include sanctions in the arms embargo. It is not possible for the Americans to stop arms sales to Turkey, and for you to continue to equip the geopolitical turmoil. Finally, I would like to thank President Sassoli for his warm words on the 200th anniversary of the Greek Revolution and wish the Greeks and philhellenes around the world happy birthday.'\n",
    "tokens1_51 = word_tokenize(raw1_51)\n",
    "for word in tokens1_51:\n",
    "    print(word, end=' ')"
   ]
  },
  {
   "cell_type": "code",
   "execution_count": 184,
   "metadata": {},
   "outputs": [
    {
     "name": "stdout",
     "output_type": "stream",
     "text": [
      "Johannes Hahn , Member of the Commission . – Madam President , the Commission tabled this legislative proposal as swiftly as possible after the meeting of the members of the European Council . Our ambition now is to have the regulation in place by no later than June this year , in order to ensure that the free movement of our citizens can take place under safe health conditions . This is a very important element of a gradual return to normal , which is expected from citizens and businesses alike , with impatience all across the Union . It ’ s therefore important that interinstitutional negotiations can start as soon as possible . Work on the details of the technical solution will need to take place in parallel in order to ensure that it can be operational as swiftly as possible after the adoption of the legal framework . We have heard some MEPs ’ concerns on the possible lack of democratic oversight linked to using the urgent procedure . Strictly speaking , I understand with this procedure there will not be a formal vote on the committee report . However , the urgent procedure allows for Parliament as a whole to fully scrutinise the proposal and to adopt its position within a month of the adoption of the proposal by the Commission . Parliament , as the voice of European citizens , will therefore have a clear say in the setup of the Digital Green Certificate . These are exceptional times and I hope you will agree with me on the importance of delivering for our citizens . How will we explain to our citizens that we can not manage to move swiftly on important issues ? What would be the message we send ? Time is of the essence : every day counts . Moving forward , the Commission stands ready to provide all the support you might need and we will act as honest brokers during interinstitutional negotiations , while continuing to support Member States in developing the necessary infrastructure . But let me also answer your question about the doses found in Italy today . We have repeatedly stressed the importance of full transparency on the number of doses that are being produced at AstraZeneca ’ s European production sites . We trust that AstraZeneca will do its utmost to ensure that all available batches are dispatched as soon as the quality-control process is completed . We don ’ t want to speculate on whether or not these doses have been designed for the European Union . If the company wants to export these doses out of the Union , it will have to submit an export authorisation request to the Italian authorities . We observe a lack of transparency by AstraZeneca on how many doses they have produced , where and for whom . Given that they are not meeting their commitments under the European advance-purchase agreements , we consider it of the utmost importance to ensure full transparency . The precise amount of doses needs to be confirmed by the Italian authorities . "
     ]
    }
   ],
   "source": [
    "raw1_52 = 'Johannes Hahn, Member of the Commission. – Madam President, the Commission tabled this legislative proposal as swiftly as possible after the meeting of the members of the European Council. Our ambition now is to have the regulation in place by no later than June this year, in order to ensure that the free movement of our citizens can take place under safe health conditions. This is a very important element of a gradual return to normal, which is expected from citizens and businesses alike, with impatience all across the Union. It’s therefore important that interinstitutional negotiations can start as soon as possible. Work on the details of the technical solution will need to take place in parallel in order to ensure that it can be operational as swiftly as possible after the adoption of the legal framework. We have heard some MEPs’ concerns on the possible lack of democratic oversight linked to using the urgent procedure. Strictly speaking, I understand with this procedure there will not be a formal vote on the committee report. However, the urgent procedure allows for Parliament as a whole to fully scrutinise the proposal and to adopt its position within a month of the adoption of the proposal by the Commission. Parliament, as the voice of European citizens, will therefore have a clear say in the setup of the Digital Green Certificate. These are exceptional times and I hope you will agree with me on the importance of delivering for our citizens. How will we explain to our citizens that we cannot manage to move swiftly on important issues? What would be the message we send? Time is of the essence: every day counts. Moving forward, the Commission stands ready to provide all the support you might need and we will act as honest brokers during interinstitutional negotiations, while continuing to support Member States in developing the necessary infrastructure. But let me also answer your question about the doses found in Italy today. We have repeatedly stressed the importance of full transparency on the number of doses that are being produced at AstraZeneca’s European production sites. We trust that AstraZeneca will do its utmost to ensure that all available batches are dispatched as soon as the quality-control process is completed. We don’t want to speculate on whether or not these doses have been designed for the European Union. If the company wants to export these doses out of the Union, it will have to submit an export authorisation request to the Italian authorities. We observe a lack of transparency by AstraZeneca on how many doses they have produced, where and for whom. Given that they are not meeting their commitments under the European advance-purchase agreements, we consider it of the utmost importance to ensure full transparency. The precise amount of doses needs to be confirmed by the Italian authorities.'\n",
    "tokens1_52 = word_tokenize(raw1_52)\n",
    "for word in tokens1_52:\n",
    "    print(word, end=' ')"
   ]
  },
  {
   "cell_type": "markdown",
   "metadata": {},
   "source": [
    "---\n",
    "### Combine all parts"
   ]
  },
  {
   "cell_type": "code",
   "execution_count": 185,
   "metadata": {},
   "outputs": [],
   "source": [
    "tokens = tokens1_1 + tokens1_2 + tokens1_3 + tokens1_4 + tokens1_5 + tokens1_6 + tokens1_7 + tokens1_8 + tokens1_9 + tokens1_10 + tokens1_11 + tokens1_12 + tokens1_13 + tokens1_14 + tokens1_15 + tokens1_16 + tokens1_17 + tokens1_18 + tokens1_19 + tokens1_20 + tokens1_21 + tokens1_22 + tokens1_23 + tokens1_24 + tokens1_25 + tokens1_26 + tokens1_27 + tokens1_28 + tokens1_29 + tokens1_30 + tokens1_31 + tokens1_32 + tokens1_33 + tokens1_34 + tokens1_35 + tokens1_36 + tokens1_37 + tokens1_38 + tokens1_39 + tokens1_40 + tokens1_41 + tokens1_42 + tokens1_43 + tokens1_44 + tokens1_45 + tokens1_46 + tokens1_47 + tokens1_48 + tokens1_49 + tokens1_50 + tokens1_51 + tokens1_52 "
   ]
  },
  {
   "cell_type": "markdown",
   "metadata": {},
   "source": [
    "---\n",
    "### Normalize the words "
   ]
  },
  {
   "cell_type": "code",
   "execution_count": 186,
   "metadata": {},
   "outputs": [],
   "source": [
    "type(tokens)\n",
    "eutext04 = [w.lower() for w in tokens]"
   ]
  },
  {
   "cell_type": "markdown",
   "metadata": {},
   "source": [
    "---\n",
    "**Save Output**"
   ]
  },
  {
   "cell_type": "code",
   "execution_count": 187,
   "metadata": {},
   "outputs": [],
   "source": [
    "save_path = '/Users/charlottekaiser/Documents/uni/Hertie/master_thesis/00_data/20_intermediate_files'\n",
    "file_name = \"EU04_Preparation of the European Council meeting of 25 and 26 March 2021 – Digital Green Certificate.txt\"\n",
    "completeName = os.path.join(save_path, file_name)\n",
    "output = open(completeName, 'w')\n",
    "print(eutext04, file=output)"
   ]
  }
 ],
 "metadata": {
  "interpreter": {
   "hash": "a9869976cf380d12cb70e759e57434a8e82bae01a9f74e734956416b40621c64"
  },
  "kernelspec": {
   "display_name": "Python 3.9.7 ('base')",
   "language": "python",
   "name": "python3"
  },
  "language_info": {
   "codemirror_mode": {
    "name": "ipython",
    "version": 3
   },
   "file_extension": ".py",
   "mimetype": "text/x-python",
   "name": "python",
   "nbconvert_exporter": "python",
   "pygments_lexer": "ipython3",
   "version": "3.9.7"
  },
  "orig_nbformat": 4
 },
 "nbformat": 4,
 "nbformat_minor": 2
}
