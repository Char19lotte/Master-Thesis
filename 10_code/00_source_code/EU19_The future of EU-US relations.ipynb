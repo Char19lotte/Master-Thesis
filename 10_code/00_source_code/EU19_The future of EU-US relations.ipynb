{
 "cells": [
  {
   "cell_type": "markdown",
   "metadata": {},
   "source": [
    "### *Data Collection - European Parliament*\n",
    "## Preparing Raw Data\n",
    "---\n",
    "**Sample Text 19**\n",
    "Title: The future of EU-US relations <br>\n",
    "Date: October 5, 2021 - Brussels"
   ]
  },
  {
   "cell_type": "code",
   "execution_count": 121,
   "metadata": {},
   "outputs": [],
   "source": [
    "# import necessary libraries\n",
    "import requests\n",
    "from requests_html import HTMLSession\n",
    "import urllib.request\n",
    "import time\n",
    "from bs4 import BeautifulSoup\n",
    "import urllib\n",
    "from urllib import request\n",
    "from __future__ import division\n",
    "import nltk, re, pprint\n",
    "from nltk import word_tokenize\n",
    "from nltk import FreqDist\n",
    "import os.path \n",
    "import pandas as pd"
   ]
  },
  {
   "cell_type": "markdown",
   "metadata": {},
   "source": [
    "---\n",
    "### Process: Trimming debate by inserting the original English or translated English files and tokenizing them.\n",
    "*Note*: Due to time constraint, the process has been optimized.\n",
    "\n",
    "- English parts of the debate will be added manually as a string and then tokenized. \n",
    "\n",
    "- A consistent method of translating and then adding will be applied to all EU Parliament debates:  Non-English parts are copied from the original web pages, inserted in the consistent choice of translation tool, Google Translate (https://translate.google.com/?hl=de&tab=TT), translated to English and pasted in as a string. \n",
    "\n",
    "- Afterwards, the same steps are applied as per usual (tokenizing, standardizing).\n",
    "\n",
    "Because of the changed process, the URL and step of webscraping are technically no longer necessary, will however be included for the purpose of completeness. "
   ]
  },
  {
   "cell_type": "code",
   "execution_count": 122,
   "metadata": {},
   "outputs": [],
   "source": [
    "# url = \"https://www.europarl.europa.eu/doceo/document/CRE-9-2021-10-05-ITM-002_EN.html\"\n",
    "# html = requests.get(url)\n",
    "# raw = BeautifulSoup(html.content, 'html.parser').get_text()"
   ]
  },
  {
   "cell_type": "code",
   "execution_count": 123,
   "metadata": {},
   "outputs": [
    {
     "name": "stdout",
     "output_type": "stream",
     "text": [
      "Tonino Picula , rapporteur . – Mr President , this debate could not be timelier . Last November , President Biden ’ s election provided much relief and optimism in the European Union . I firmly believe , then as well as today , that we need a renewed and strengthened transatlantic partnership to tackle common challenges . Some of them have been well known for decades , but some are part of the newer dynamics of the world . I appreciate the word ‛relations ’ . It covers all manners of virtues and sins , doesn ’ t it ? My impression is that this has become a more self—aware relationship , with a lot of space for cooperation , and diverging challenges that remain – in trade , data protection and attitudes towards China for example . It is a relationship based on the US primarily doing what fits their national agenda , and sometimes not fully taking into account all those things that matter to the European Union . Take the long overdue lifting of the travel ban , for example . We may be a newer Union , but we are also proud of our national histories and identities . Our diversity unites us . Our democratic , social and human rights standards are the most developed ones . And we should be proud of our lead to fight climate change . It goes without saying that we should not lose the sentiment about the assistance from the United States to Europe ’ s development , prosperity and successful integration , nor all of the multilateral achievements . During the past 75 years , the transatlantic partnership has stood for freedom , democracy , human rights , the rule of law , trade , economic cooperation and security . The European Union and the US have the largest bilateral trade and investment relationship and enjoy the most integrated economic relationship in the world . We should also praise positive developments like the Trade and Technology Council that took place last week . But we must stress in parallel that the European Union ’ s strategic autonomy should be pursued , with improved implementation of European Union foreign and defence policy priorities and principles . Also , with the European Union ’ s ability to act autonomously , when needed , in pursuing its legitimate interests . Moreover , we need to explore areas of convergence and seek to enhance cooperation , better coordination and consultation between the US and the European Union to avoid transatlantic tensions such as those that followed the adoption of the trilateral AUKUS deal or the uncoordinated withdrawal from Afghanistan . These events should remind us that the EU needs to catch up with the new reality and redefine our relationship with the US on a more equal footing . This means standing up for our interests whenever needed , but also taking greater responsibility . We must reinforce both : the European Union ’ s autonomy of decision and its autonomy of action , from soft power to smart power . In concrete terms , together with the US , we should work to promote multilateral cooperation for a more equitable and healthier world , fight against inequalities , cooperate better in research and technology development , and promote ecological transformation and the peaceful resolution of conflicts . We have to enhance our parliamentary cooperation , rule-based connectivity strategies , protect and promote democracy and human rights , share best practice examples and better include our citizens in decision making . Having said that , without any doubt , the US remains the European Union ’ s closest and most important strategic partner , and I believe that a strategical autonomous Union would be the best partner for the United States ! "
     ]
    }
   ],
   "source": [
    "raw1_1 = ' Tonino Picula, rapporteur. – Mr President, this debate could not be timelier. Last November, President Biden’s election provided much relief and optimism in the European Union. I firmly believe, then as well as today, that we need a renewed and strengthened transatlantic partnership to tackle common challenges. Some of them have been well known for decades, but some are part of the newer dynamics of the world. I appreciate the word ‛relations’. It covers all manners of virtues and sins, doesn’t it? My impression is that this has become a more self—aware relationship, with a lot of space for cooperation, and diverging challenges that remain – in trade, data protection and attitudes towards China for example. It is a relationship based on the US primarily doing what fits their national agenda, and sometimes not fully taking into account all those things that matter to the European Union. Take the long overdue lifting of the travel ban, for example. We may be a newer Union, but we are also proud of our national histories and identities. Our diversity unites us. Our democratic, social and human rights standards are the most developed ones. And we should be proud of our lead to fight climate change. It goes without saying that we should not lose the sentiment about the assistance from the United States to Europe’s development, prosperity and successful integration, nor all of the multilateral achievements. During the past 75 years, the transatlantic partnership has stood for freedom, democracy, human rights, the rule of law, trade, economic cooperation and security. The European Union and the US have the largest bilateral trade and investment relationship and enjoy the most integrated economic relationship in the world. We should also praise positive developments like the Trade and Technology Council that took place last week. But we must stress in parallel that the European Union’s strategic autonomy should be pursued, with improved implementation of European Union foreign and defence policy priorities and principles. Also, with the European Union’s ability to act autonomously, when needed, in pursuing its legitimate interests. Moreover, we need to explore areas of convergence and seek to enhance cooperation, better coordination and consultation between the US and the European Union to avoid transatlantic tensions such as those that followed the adoption of the trilateral AUKUS deal or the uncoordinated withdrawal from Afghanistan. These events should remind us that the EU needs to catch up with the new reality and redefine our relationship with the US on a more equal footing. This means standing up for our interests whenever needed, but also taking greater responsibility. We must reinforce both: the European Union’s autonomy of decision and its autonomy of action, from soft power to smart power. In concrete terms, together with the US, we should work to promote multilateral cooperation for a more equitable and healthier world, fight against inequalities, cooperate better in research and technology development, and promote ecological transformation and the peaceful resolution of conflicts. We have to enhance our parliamentary cooperation, rule-based connectivity strategies, protect and promote democracy and human rights, share best practice examples and better include our citizens in decision making. Having said that, without any doubt, the US remains the European Union’s closest and most important strategic partner, and I believe that a strategical autonomous Union would be the best partner for the United States!'\n",
    "tokens1_1 = word_tokenize(raw1_1)\n",
    "for word in tokens1_1:\n",
    "    print(word, end=' ')"
   ]
  },
  {
   "cell_type": "code",
   "execution_count": 124,
   "metadata": {},
   "outputs": [
    {
     "name": "stdout",
     "output_type": "stream",
     "text": [
      "Bernd Lange , rapporteur of the opinion of the Committee on International Trade . – Mr President , Commissioner , my dear colleagues ! I believe that we have found common ground with the United States , with the government of President Biden - especially in trade policy . When the trade representative of the President says , `` We put labor rights at the heart of trade policy , '' that is our vision . We want to make sure that trade policy serves the local people , not a few . In that sense there is a common ground . And we also founded the Trade and Technology Council on September 29th , a platform where we can exchange views on such issues , where trade policy really benefits people , and where we can also ensure that there is a common approach : on Example in the question of investment controls , in the question of foreign subsidies , in the question of products that are manufactured through forced labor . These are all things we can work on together . But we all know that in a good relationship , the honeymoon does not always happen . Sometimes things get serious when you are in a relationship : What color is the sofa ? Where does the sofa go ? And of course we are in this phase . We also have disagreements with the United States . The issue of illegal tariffs on steel products from the European Union is still on the agenda . And if we do not find a solution , we will double our countermeasures at the end of November . That is why I can only ask the American side : Let us find a compromise here , similar to what happened with Airbus and Boeing . There are other things too - the arguments over the submarine deal certainly did not help to make the relationship more stable either . In that respect we have to work on it . But we also have to make it clear that we , as Europeans , have specific interests . And you can make that clear in a good relationship . "
     ]
    }
   ],
   "source": [
    "raw1_2 = 'Bernd Lange, rapporteur of the opinion of the Committee on International Trade. – Mr President, Commissioner, my dear colleagues! I believe that we have found common ground with the United States, with the government of President Biden - especially in trade policy. When the trade representative of the President says, \"We put labor rights at the heart of trade policy,\" that is our vision. We want to make sure that trade policy serves the local people, not a few. In that sense there is a common ground. And we also founded the Trade and Technology Council on September 29th, a platform where we can exchange views on such issues, where trade policy really benefits people, and where we can also ensure that there is a common approach: on Example in the question of investment controls, in the question of foreign subsidies, in the question of products that are manufactured through forced labor. These are all things we can work on together. But we all know that in a good relationship, the honeymoon does not always happen. Sometimes things get serious when you are in a relationship: What color is the sofa? Where does the sofa go? And of course we are in this phase. We also have disagreements with the United States. The issue of illegal tariffs on steel products from the European Union is still on the agenda. And if we do not find a solution, we will double our countermeasures at the end of November. That is why I can only ask the American side: Let us find a compromise here, similar to what happened with Airbus and Boeing. There are other things too - the arguments over the submarine deal certainly did not help to make the relationship more stable either. In that respect we have to work on it. But we also have to make it clear that we, as Europeans, have specific interests. And you can make that clear in a good relationship.'\n",
    "tokens1_2 = word_tokenize(raw1_2)\n",
    "for word in tokens1_2:\n",
    "    print(word, end=' ')"
   ]
  },
  {
   "cell_type": "code",
   "execution_count": 125,
   "metadata": {},
   "outputs": [
    {
     "name": "stdout",
     "output_type": "stream",
     "text": [
      "Josep Borrell Fontelles , Vice-President of the Commission / High Representative of the Union for Foreign Affairs and Security Policy . – Mr President , honourable Members of the European Parliament , we certainly all agree that the US remains the European Union ’ s closest and most important strategic partner . It is like this and it has to continue being like this . There should be no doubt about that . This year you launch the renewed Joint Transatlantic Agenda , after a very successful European Union summit with the US , and there have been strong partnerships and engagement with the US administration , certainly much more , in a better way , than in the previous one . Transatlantic partnership is vital and irreplaceable , but we need to place it on a stronger footing . August has been a wake—up call and there are changes in American society that have been in the making for many years that will certainly affect the role of the US in the world . After Afghanistan , the US has been sending a clear message about how they want to reorder their priorities , mainly facing China , and we should be ready to adapt to this new situation and shoulder our part of the burden to keep peace and security in the world . I had regular discussions with Secretary Blinken during the UN General Assembly ( UNGA ) week , and I will travel to Washington next week to meet him again . He is in Paris today and I will be in Washington next week , so our links will be increasingly important and hopefully will deliver . These meetings are important for our ongoing discussions on issues related to the transatlantic agenda that have to be put in the frame of the developments in the world because we have to think about how the 21st century will be . Will the 21st century be born on Tiananmen or will it be born on the fall of the Berlin Wall ? These two events – so different – mark the different paths of the future , how the future will be . We will be depending on our capacity to strengthen the trans-Atlantic relationship in order to defend democracies in the world . I take note of the references in your report to the need to foster greater self—reliance in matters of defence . On this point of view , I ’ m going to jump to French . We must recognize the strategic importance of the engagement that President Biden made with President Macron during a conversation that was perhaps short , but undoubtedly very important about the Indo-Pacific region , including in the strategic framework that the European Union has just published on this region of the world . As part of the fight against terrorism , the United States has pledged to strengthen its support for counterterrorism operations in the Sahel led by European states . In this communication , the United States also recognized the importance of a stronger and more efficient European defense , which contributes positively to transatlantic security , in complementarity with NATO . Yes , the Euro-Atlantic area is at the heart of NATO . NATO is the fundamental tool of our collective defence . But the management of crises in the European neighborhood must concern us , the Europeans , in the first place . This communication opens the door to future developments , which the Heads of State or Government will discuss this evening in Slovenia and which will be followed by the presentation of the strategic compass in November . These steps will strengthen our collective commitment to the US crisis management and enhance , as the report points out , our instruments and mechanisms . We are working on a new joint EU—NATO statement by the end of the year to renew those of 2016 and 2018 , but our dialogue with the US is not only in the framework of NATO because not all European Member States are members of NATO and there are many NATO members who are not European Union Member States . So we have to have a direct and complementary relationship and a US—EU strategic dialogue . We discussed with Secretary Blinken in the UN General Assembly about how this dialogue and cooperation can be strengthened . We agreed on the need to put in place a system to avoid issues like the one around the AUKUS pact between Australia , the UK and the USA in the future and , as your report recommends , we must also launch a dedicated dialogue on security and defence . Certainly , we also call for a closer transatlantic foreign policy coordination and you can rest assured that we will continue to cooperate and partner with the US in key foreign and security policy areas , mainly in front of the development of China , both from the economic , political and military point of view . But , as President Biden also said in his United Nations speech , we are not willing to restart a new cold war with China . Also in the Western Balkans , I have to say that our cooperation with the US is much better . The recent crisis between Kosovo and Serbia has been solved thanks to the good work of our special envoy , Miroslav Lajčák . I have to say that our cooperation with the US envoy has been very positive . We also report on the significance of the transatlantic economic relationship . We had a successful inauguration of the Trade and Technology Council in Pittsburgh and it is clear that we now have a framework with the potential to make joint progress on global economic and technological challenges . I think that it is very important to seize this opportunity because the world of tomorrow will be shaped around technological developments . Who masters technology will master power , and at that moment we Europeans will need to develop our technological capacities much more quickly . This can be better done together with the US , but not without also talking about the issues on which we can disagree . There are some difficult issues : to secure the change of supply in the field of semiconductors , to be sure that we are not going to create in the future an overcapacity , to talk about tariffs , data protection , and artificial intelligence . These are an incredibly broad set of issues that will shape the future and on which we have to engage more with the US . A last word about COP26 . We look forward to continuing our close coordination with the US to get every country to do more to fight climate change . Yesterday , I was in Saudi Arabia talking about it . It was sometimes a difficult discussion because we Europeans only have eight per cent of global emissions . Even if we cancel them tomorrow – zero emissions – the problem would be the same . The remaining 92 % would still be there . So we have to work together with the US , especially on the recently announced Global Methane Pledge , because we talk about CO2 but there are other gases which also have a strong capacity to destroy the atmosphere , and methane is one of these . This Global Methane Pledge will be another occasion for us to cooperate with the US on climate change . In September , our Executive Vice—President Timmermans and US Special Presidential Envoy for Climate Kerry co-chaired the second meeting of the High—Level Climate Action Group , which is one of the key deliverables of our EU—US summit . Finally – and it really is finally – let me underline that the recent announcement on the lifting of travel restrictions , Croatia ’ s access to the visa waiver programme and the launch of the joint COVID-19 Manufacturing and Supply Chain Taskforce , thanks to the good work of Commissioner Breton , are also positive developments linked to our joint agenda that will benefit the whole world . Because if we , the US and the EU , work together , the world will be vaccinated more quickly . In conclusion , the recommendations that you make in your report are very timely . It is a long report that has a lot of issues in it . Our relationship with the US is certainly the stronger pillar , our freedom and prosperity . We have to continue building on it but , at the same time , we have to continue building our autonomy because our interests will not always exactly coincide . This report is very timely . I thank the rapporteurs for that . I thank the Members in this debate for their contribution to what they can do on this very important issue . "
     ]
    }
   ],
   "source": [
    "raw1_3 = 'Josep Borrell Fontelles, Vice-President of the Commission / High Representative of the Union for Foreign Affairs and Security Policy. – Mr President, honourable Members of the European Parliament, we certainly all agree that the US remains the European Union’s closest and most important strategic partner. It is like this and it has to continue being like this. There should be no doubt about that. This year you launch the renewed Joint Transatlantic Agenda, after a very successful European Union summit with the US, and there have been strong partnerships and engagement with the US administration, certainly much more, in a better way, than in the previous one. Transatlantic partnership is vital and irreplaceable, but we need to place it on a stronger footing. August has been a wake—up call and there are changes in American society that have been in the making for many years that will certainly affect the role of the US in the world. After Afghanistan, the US has been sending a clear message about how they want to reorder their priorities, mainly facing China, and we should be ready to adapt to this new situation and shoulder our part of the burden to keep peace and security in the world. I had regular discussions with Secretary Blinken during the UN General Assembly (UNGA) week, and I will travel to Washington next week to meet him again. He is in Paris today and I will be in Washington next week, so our links will be increasingly important and hopefully will deliver. These meetings are important for our ongoing discussions on issues related to the transatlantic agenda that have to be put in the frame of the developments in the world because we have to think about how the 21st century will be. Will the 21st century be born on Tiananmen or will it be born on the fall of the Berlin Wall? These two events – so different – mark the different paths of the future, how the future will be. We will be depending on our capacity to strengthen the trans-Atlantic relationship in order to defend democracies in the world. I take note of the references in your report to the need to foster greater self—reliance in matters of defence. On this point of view, I’m going to jump to French. We must recognize the strategic importance of the engagement that President Biden made with President Macron during a conversation that was perhaps short, but undoubtedly very important about the Indo-Pacific region, including in the strategic framework that the European Union has just published on this region of the world. As part of the fight against terrorism, the United States has pledged to strengthen its support for counterterrorism operations in the Sahel led by European states. In this communication, the United States also recognized the importance of a stronger and more efficient European defense, which contributes positively to transatlantic security, in complementarity with NATO. Yes, the Euro-Atlantic area is at the heart of NATO. NATO is the fundamental tool of our collective defence. But the management of crises in the European neighborhood must concern us, the Europeans, in the first place. This communication opens the door to future developments, which the Heads of State or Government will discuss this evening in Slovenia and which will be followed by the presentation of the strategic compass in November. These steps will strengthen our collective commitment to the US crisis management and enhance, as the report points out, our instruments and mechanisms. We are working on a new joint EU—NATO statement by the end of the year to renew those of 2016 and 2018, but our dialogue with the US is not only in the framework of NATO because not all European Member States are members of NATO and there are many NATO members who are not European Union Member States. So we have to have a direct and complementary relationship and a US—EU strategic dialogue. We discussed with Secretary Blinken in the UN General Assembly about how this dialogue and cooperation can be strengthened. We agreed on the need to put in place a system to avoid issues like the one around the AUKUS pact between Australia, the UK and the USA in the future and, as your report recommends, we must also launch a dedicated dialogue on security and defence. Certainly, we also call for a closer transatlantic foreign policy coordination and you can rest assured that we will continue to cooperate and partner with the US in key foreign and security policy areas, mainly in front of the development of China, both from the economic, political and military point of view. But, as President Biden also said in his United Nations speech, we are not willing to restart a new cold war with China. Also in the Western Balkans, I have to say that our cooperation with the US is much better. The recent crisis between Kosovo and Serbia has been solved thanks to the good work of our special envoy, Miroslav Lajčák. I have to say that our cooperation with the US envoy has been very positive. We also report on the significance of the transatlantic economic relationship. We had a successful inauguration of the Trade and Technology Council in Pittsburgh and it is clear that we now have a framework with the potential to make joint progress on global economic and technological challenges. I think that it is very important to seize this opportunity because the world of tomorrow will be shaped around technological developments. Who masters technology will master power, and at that moment we Europeans will need to develop our technological capacities much more quickly. This can be better done together with the US, but not without also talking about the issues on which we can disagree. There are some difficult issues: to secure the change of supply in the field of semiconductors, to be sure that we are not going to create in the future an overcapacity, to talk about tariffs, data protection, and artificial intelligence. These are an incredibly broad set of issues that will shape the future and on which we have to engage more with the US. A last word about COP26. We look forward to continuing our close coordination with the US to get every country to do more to fight climate change. Yesterday, I was in Saudi Arabia talking about it. It was sometimes a difficult discussion because we Europeans only have eight per cent of global emissions. Even if we cancel them tomorrow – zero emissions – the problem would be the same. The remaining 92% would still be there. So we have to work together with the US, especially on the recently announced Global Methane Pledge, because we talk about CO2 but there are other gases which also have a strong capacity to destroy the atmosphere, and methane is one of these. This Global Methane Pledge will be another occasion for us to cooperate with the US on climate change. In September, our Executive Vice—President Timmermans and US Special Presidential Envoy for Climate Kerry co-chaired the second meeting of the High—Level Climate Action Group, which is one of the key deliverables of our EU—US summit. Finally – and it really is finally – let me underline that the recent announcement on the lifting of travel restrictions, Croatia’s access to the visa waiver programme and the launch of the joint COVID-19 Manufacturing and Supply Chain Taskforce, thanks to the good work of Commissioner Breton, are also positive developments linked to our joint agenda that will benefit the whole world. Because if we, the US and the EU, work together, the world will be vaccinated more quickly. In conclusion, the recommendations that you make in your report are very timely. It is a long report that has a lot of issues in it. Our relationship with the US is certainly the stronger pillar, our freedom and prosperity. We have to continue building on it but, at the same time, we have to continue building our autonomy because our interests will not always exactly coincide. This report is very timely. I thank the rapporteurs for that. I thank the Members in this debate for their contribution to what they can do on this very important issue.'\n",
    "tokens1_3 = word_tokenize(raw1_3)\n",
    "for word in tokens1_3:\n",
    "    print(word, end=' ')"
   ]
  },
  {
   "cell_type": "code",
   "execution_count": 126,
   "metadata": {},
   "outputs": [
    {
     "name": "stdout",
     "output_type": "stream",
     "text": [
      "Željana Zovko , on behalf of the PPE Group . – Mr President , the European Union and the United States share a unique bond based on common values , principles and interests . At the EU—US summit in June this year , the leadership of the two blocks called for a strong transatlantic partnership – a message that we welcome and support in our report that we will vote on this week . However , over the last weeks , we have seen some reality checks that have tested our relations in matters of foreign affairs , security and trade . The European People ’ s Party has proposed to create the Transatlantic Political Council as a platform to improve our communications channels and to avoid unnecessary tensions . I strongly call on Members to support this . With the EU—US joint COVID response , we commit ourselves as technological leaders and pursue the facilitation of global vaccination platforms . I personally see this approach as the only way to fight vaccine nationalism and inequality . But one thing is clear : the transatlantic partnership would not be complete if there is no clear cooperation on foreign and security affairs . The transatlantic alliance remains fundamental for the security and the stability of the European continent , and NATO is the foundation of our collective defence . In the search of a middle way between European strategic autonomy and total reliance on our transatlantic partners , we need to grow together into new relations that we will be more beneficial for our mutual peace and security missions based on our experiences in the Western Balkans and the Sahel . On a personal note : invest in the Balkans ! They have played a really great role , they still are , and will in the future . To conclude , I would like to highlight the crucial role that parliamentary diplomacy can play in building bridges with our close and important transatlantic ally . Let this relationship grow based on our good communication and coordination as the anchors of stability in this volatile world . Finally , I would like to say thank you for the granting of the visa waiver for Croatia . All those families that helped build America are going to appreciate it as well ! "
     ]
    }
   ],
   "source": [
    "raw1_4 = ' Željana Zovko, on behalf of the PPE Group. – Mr President, the European Union and the United States share a unique bond based on common values, principles and interests. At the EU—US summit in June this year, the leadership of the two blocks called for a strong transatlantic partnership – a message that we welcome and support in our report that we will vote on this week. However, over the last weeks, we have seen some reality checks that have tested our relations in matters of foreign affairs, security and trade. The European People’s Party has proposed to create the Transatlantic Political Council as a platform to improve our communications channels and to avoid unnecessary tensions. I strongly call on Members to support this. With the EU—US joint COVID response, we commit ourselves as technological leaders and pursue the facilitation of global vaccination platforms. I personally see this approach as the only way to fight vaccine nationalism and inequality. But one thing is clear: the transatlantic partnership would not be complete if there is no clear cooperation on foreign and security affairs. The transatlantic alliance remains fundamental for the security and the stability of the European continent, and NATO is the foundation of our collective defence. In the search of a middle way between European strategic autonomy and total reliance on our transatlantic partners, we need to grow together into new relations that we will be more beneficial for our mutual peace and security missions based on our experiences in the Western Balkans and the Sahel. On a personal note: invest in the Balkans! They have played a really great role, they still are, and will in the future. To conclude, I would like to highlight the crucial role that parliamentary diplomacy can play in building bridges with our close and important transatlantic ally. Let this relationship grow based on our good communication and coordination as the anchors of stability in this volatile world. Finally, I would like to say thank you for the granting of the visa waiver for Croatia. All those families that helped build America are going to appreciate it as well!'\n",
    "tokens1_4 = word_tokenize(raw1_4)\n",
    "for word in tokens1_4:\n",
    "    print(word, end=' ')"
   ]
  },
  {
   "cell_type": "code",
   "execution_count": 127,
   "metadata": {},
   "outputs": [
    {
     "name": "stdout",
     "output_type": "stream",
     "text": [
      "Christel Schaldemose , on behalf of the S & D Group . - Sir . Chairman ! The world needs all democratic forces to stand together , and the EU must therefore keep everyone who shares our values ​​close to it . It is not now that we have to push anyone away from us . The EU and the US share history and values , and there is no doubt that we also share the future . That is why the United States is and must be the closest trading partner of the EU , partner and security policy ally . But the United States is not and should not be the only ally of the EU . As Chairman of the Japan Delegation , I must emphasize the importance of the European Union also strengthening its ties with all our democratic allies around the world , including in the Pacific region . We must maintain close contact with all who share our struggle for democracy , fundamental human rights and multilateral cooperation . With increased European strategic autonomy , we can ensure that the EU becomes a strong and equal partner with everyone , including the United States . The two things go hand in hand , they are not opposites of each other . "
     ]
    }
   ],
   "source": [
    "raw1_5 = 'Christel Schaldemose, on behalf of the S&D Group. - Sir. Chairman! The world needs all democratic forces to stand together, and the EU must therefore keep everyone who shares our values ​​close to it. It is not now that we have to push anyone away from us. The EU and the US share history and values, and there is no doubt that we also share the future. That is why the United States is and must be the closest trading partner of the EU, partner and security policy ally. But the United States is not and should not be the only ally of the EU. As Chairman of the Japan Delegation, I must emphasize the importance of the European Union also strengthening its ties with all our democratic allies around the world, including in the Pacific region. We must maintain close contact with all who share our struggle for democracy, fundamental human rights and multilateral cooperation. With increased European strategic autonomy, we can ensure that the EU becomes a strong and equal partner with everyone, including the United States. The two things go hand in hand, they are not opposites of each other.'\n",
    "tokens1_5 = word_tokenize(raw1_5)\n",
    "for word in tokens1_5:\n",
    "    print(word, end=' ')"
   ]
  },
  {
   "cell_type": "code",
   "execution_count": 128,
   "metadata": {},
   "outputs": [
    {
     "name": "stdout",
     "output_type": "stream",
     "text": [
      "Dragoş Tudorache , on behalf of the Renew Group . – Mr President , this very comprehensive report speaks to Europeans and American friends alike about our privileged relationship and about the benefits of building a world shaped by the values that unite us . As shadow rapporteur , I fully share its optimism and its level of ambition . I am a firm believer that a technological partnership between the EU and the US based on shared democratic values is a very solid foundation on which to consolidate our transatlantic future , and our report welcomes the start of the Trade and Technology Council ( TTC ) , its first meeting in Pittsburgh and the commitments outlined in the inaugural joint statement , highlighting the key areas of potential tech cooperation : regulatory convergence , joint work on standards , security of supply chains – this is the direction that we need to take . But beyond the many areas of cooperation highlighted in the report , I also wish to acknowledge the elephant in the room , because friends and allies are honest with one another . First , and in the light of recent events , our American friends need to understand that trusted partners and allies consult one another before making strategic decisions . The world is no longer unipolar or bipolar , and acting alone is no longer a recipe for success . Our American friends should also understand that in their contest with China , Europe can be a powerful ally . But Europe does not seem to take sides out of inertia or reflex . Europe has its strategic priorities , and they need to be factored into our transatlantic dialogue as well . They need to nurture our relationship and alliance . Equally important , our American friends need to understand that our objective of strategic autonomy signifies a Europe that is strong and capable , equipped politically and technologically to defend itself , and able to look out for its priorities in its own backyard and worldwide . This is in our common interest on both sides of the Atlantic . But the elephant , of course , has two sides . We in Europe also need to understand a few things and , most importantly , on these we can actually do something . We Europeans need to understand that we are very slow to act , if we do act at all , and we speak with 27 different voices on the world scene . We need qualified—majority voting in our foreign policy and we need to reform the way we make strategic decisions . We need to deliver a united European voice if we want to be consulted . We also need to acknowledge that there is no European strategic autonomy until this autonomy has a positive impact for all 500 million of our citizens in all of our 27 Member States . We need one another and we both need to do our part . "
     ]
    }
   ],
   "source": [
    "raw1_6 = 'Dragoş Tudorache, on behalf of the Renew Group. – Mr President, this very comprehensive report speaks to Europeans and American friends alike about our privileged relationship and about the benefits of building a world shaped by the values that unite us. As shadow rapporteur, I fully share its optimism and its level of ambition. I am a firm believer that a technological partnership between the EU and the US based on shared democratic values is a very solid foundation on which to consolidate our transatlantic future, and our report welcomes the start of the Trade and Technology Council (TTC), its first meeting in Pittsburgh and the commitments outlined in the inaugural joint statement, highlighting the key areas of potential tech cooperation: regulatory convergence, joint work on standards, security of supply chains – this is the direction that we need to take. But beyond the many areas of cooperation highlighted in the report, I also wish to acknowledge the elephant in the room, because friends and allies are honest with one another. First, and in the light of recent events, our American friends need to understand that trusted partners and allies consult one another before making strategic decisions. The world is no longer unipolar or bipolar, and acting alone is no longer a recipe for success. Our American friends should also understand that in their contest with China, Europe can be a powerful ally. But Europe does not seem to take sides out of inertia or reflex. Europe has its strategic priorities, and they need to be factored into our transatlantic dialogue as well. They need to nurture our relationship and alliance. Equally important, our American friends need to understand that our objective of strategic autonomy signifies a Europe that is strong and capable, equipped politically and technologically to defend itself, and able to look out for its priorities in its own backyard and worldwide. This is in our common interest on both sides of the Atlantic. But the elephant, of course, has two sides. We in Europe also need to understand a few things and, most importantly, on these we can actually do something. We Europeans need to understand that we are very slow to act, if we do act at all, and we speak with 27 different voices on the world scene. We need qualified—majority voting in our foreign policy and we need to reform the way we make strategic decisions. We need to deliver a united European voice if we want to be consulted. We also need to acknowledge that there is no European strategic autonomy until this autonomy has a positive impact for all 500 million of our citizens in all of our 27 Member States. We need one another and we both need to do our part.'\n",
    "tokens1_6 = word_tokenize(raw1_6)\n",
    "for word in tokens1_6:\n",
    "    print(word, end=' ')"
   ]
  },
  {
   "cell_type": "code",
   "execution_count": 129,
   "metadata": {},
   "outputs": [
    {
     "name": "stdout",
     "output_type": "stream",
     "text": [
      "Reinhard Bütikofer , on behalf of the Verts/ALE Group . – Mr President , let me first thank Mr Picula for the report that he drafted and for the great cooperation that he offered . Certainly , when he started his work , the high—flying hopes that we had in the renovation , the resurgence , the reinvigorating of the transatlantic relationship were not tainted with some of the more recent disappointments . But on the other hand we should not forget – and the report says so – that also the European side made mistakes , for instance by rushing the CAI just before the end of the year and just before Biden came into office . Today we know that the new development , the renewing of the transatlantic relationship , needs realism and laborious efforts . It ’ s not going to be a sprint , rather a long and arduous cross—country run with up—and—down . The rhetoric sometimes sounds better than its implementation turns out to be . Like Mr Lange , I liked the rhetoric about trade that helps the working class . But if this is just a nice phrase to cover economic nationalism , that is not all that good , and I would second you by demanding that the US move substantially , according to the Airbus—Boeing model , also with regard to steel and aluminium . The report says we want ‘ partnership in leadership ’ with the US . That leadership claim also , of course , implies more responsibility . We can not live up to that responsibility by transatlantic navel—gazing , forgetting about the rest of the world . Even though , in the conflict between democracy and authoritarianism , we know which camp we belong to , we can not build that relationship either just as a reaction to what China does and to China ’ s hegemonic plans . We have to offer a vision to the world of a better future , including climate responsibility , infrastructure development , health , solidarity , fair and open trade and peace instead of arms races . I believe in that regard – and this is my last sentence President – that the Global Gateway initiative that President von der Leyen put on the table will have to play a major role . I hope that we can cooperate on that with the US too . "
     ]
    }
   ],
   "source": [
    "raw1_7 = 'Reinhard Bütikofer, on behalf of the Verts/ALE Group. – Mr President, let me first thank Mr Picula for the report that he drafted and for the great cooperation that he offered. Certainly, when he started his work, the high—flying hopes that we had in the renovation, the resurgence, the reinvigorating of the transatlantic relationship were not tainted with some of the more recent disappointments. But on the other hand we should not forget – and the report says so – that also the European side made mistakes, for instance by rushing the CAI just before the end of the year and just before Biden came into office. Today we know that the new development, the renewing of the transatlantic relationship, needs realism and laborious efforts. It’s not going to be a sprint, rather a long and arduous cross—country run with up—and—down. The rhetoric sometimes sounds better than its implementation turns out to be. Like Mr Lange, I liked the rhetoric about trade that helps the working class. But if this is just a nice phrase to cover economic nationalism, that is not all that good, and I would second you by demanding that the US move substantially, according to the Airbus—Boeing model, also with regard to steel and aluminium. The report says we want ‘partnership in leadership’ with the US. That leadership claim also, of course, implies more responsibility. We cannot live up to that responsibility by transatlantic navel—gazing, forgetting about the rest of the world. Even though, in the conflict between democracy and authoritarianism, we know which camp we belong to, we cannot build that relationship either just as a reaction to what China does and to China’s hegemonic plans. We have to offer a vision to the world of a better future, including climate responsibility, infrastructure development, health, solidarity, fair and open trade and peace instead of arms races. I believe in that regard – and this is my last sentence President – that the Global Gateway initiative that President von der Leyen put on the table will have to play a major role. I hope that we can cooperate on that with the US too.'\n",
    "tokens1_7 = word_tokenize(raw1_7)\n",
    "for word in tokens1_7:\n",
    "    print(word, end=' ')"
   ]
  },
  {
   "cell_type": "code",
   "execution_count": 130,
   "metadata": {},
   "outputs": [
    {
     "name": "stdout",
     "output_type": "stream",
     "text": [
      "Marco Zanni , on behalf of the ID Group . - ( IT ) Mr President , ladies and gentlemen , Mr Vice-President Borrell , cooperation between the Union and the United States is , has always been , must be and must also be in the future the fundamental pillar guaranteeing a democratic balance in the world . Unfortunately , even today I see a chronic inability on the part of the Union leadership to understand US political dynamics . Sometimes a simplification and an approach that do not allow to fully exploit the benefits of a close collaboration between these two great powers . Trump was not the problem and was not an enemy before , as the Biden administration can not be and is not the problem today . Unfortunately we must understand that for Americans , whatever their political affiliation , there are red lines , that the national interest comes first , and therefore we must be aware of this , without drawing our policies on supporters towards an administration or another . What happened in Afghanistan is certainly a wake-up call , but it only sheds light on problems that we have seen for some time , errors that we have seen for some time . On the subject of defense , I have already said that our European defense is called and can only be called NATO . However , to do this , to make our defense functional and efficient and also the autonomy of our interests , we do not need much , we need money , we need investments , which unfortunately the majority of European countries have not done today . Nobody stopped us from sending 50,000 or 100,000 troops to Afghanistan . Member States had this capability . The fact of not having sent them was a political choice , it was a choice dictated by the fact that this was not our war . So starting from this mistake for a wrong analysis , saying that what happened in Afghanistan demonstrates that a European defense is needed or that , if we had had a European defense in Afghanistan , the management of the withdrawal would have been different , it is a mistake , it is equivalent not to tell the truth . Having said that , I believe the next steps are important . As my colleague Bütikofer recalled , it is good to focus on what is the geopolitical challenge of the future , that is , the threat to the democratic equilibrium represented by the Chinese communist regime . In this we must strengthen cooperation , without jealousy and without conflict , not only with the United States , but also looking at the valuable initiatives that this great country is doing in the Indo-Pacific area and be credible to have a role at that table . That is the challenge we have to play , but before we can claim a seat at that table we have to show that we are reliable partners . "
     ]
    }
   ],
   "source": [
    "raw1_8 = 'Marco Zanni, on behalf of the ID Group. - (IT) Mr President, ladies and gentlemen, Mr Vice-President Borrell, cooperation between the Union and the United States is, has always been, must be and must also be in the future the fundamental pillar guaranteeing a democratic balance in the world. Unfortunately, even today I see a chronic inability on the part of the Union leadership to understand US political dynamics. Sometimes a simplification and an approach that do not allow to fully exploit the benefits of a close collaboration between these two great powers. Trump was not the problem and was not an enemy before, as the Biden administration cannot be and is not the problem today. Unfortunately we must understand that for Americans, whatever their political affiliation, there are red lines, that the national interest comes first, and therefore we must be aware of this, without drawing our policies on supporters towards an administration or another. What happened in Afghanistan is certainly a wake-up call, but it only sheds light on problems that we have seen for some time, errors that we have seen for some time. On the subject of defense, I have already said that our European defense is called and can only be called NATO. However, to do this, to make our defense functional and efficient and also the autonomy of our interests, we do not need much, we need money, we need investments, which unfortunately the majority of European countries have not done today. Nobody stopped us from sending 50,000 or 100,000 troops to Afghanistan. Member States had this capability. The fact of not having sent them was a political choice, it was a choice dictated by the fact that this was not our war. So starting from this mistake for a wrong analysis, saying that what happened in Afghanistan demonstrates that a European defense is needed or that, if we had had a European defense in Afghanistan, the management of the withdrawal would have been different, it is a mistake, it is equivalent not to tell the truth. Having said that, I believe the next steps are important. As my colleague Bütikofer recalled, it is good to focus on what is the geopolitical challenge of the future, that is, the threat to the democratic equilibrium represented by the Chinese communist regime. In this we must strengthen cooperation, without jealousy and without conflict, not only with the United States, but also looking at the valuable initiatives that this great country is doing in the Indo-Pacific area and be credible to have a role at that table. That is the challenge we have to play, but before we can claim a seat at that table we have to show that we are reliable partners.'\n",
    "tokens1_8 = word_tokenize(raw1_8)\n",
    "for word in tokens1_8:\n",
    "    print(word, end=' ')"
   ]
  },
  {
   "cell_type": "code",
   "execution_count": 131,
   "metadata": {},
   "outputs": [
    {
     "name": "stdout",
     "output_type": "stream",
     "text": [
      "Assita Kanko , on behalf of the ECR Group . – Mr President , ‘ the United States are back ’ , said President Biden after his election . I dream of the day when the EU can say , ‘ the EU is back ’ . I am still dreaming . Some thought that the EU would fall back romantically into America ’ s arms after Trump ’ s defeat , but they were so wrong . I would rather describe it as a terrible , terrible one-night stand . The times of multilateralism , the Obama era , seem totally over . It remains ‘ America first ’ . Of course . We should quickly get used to this and act accordingly . Why does the EU not pick its own side right now ? How can the EU become a relevant partner on the world stage but also a strong advocate of multilateralism ? These questions should be a priority for every European leader . No more embarrassment because of an Australia–United Kingdom–United States ( AUKUS ) affair or a chaotic withdrawal from Afghanistan . We must defend our principles and stand up for the European people . To make that possible , the EU has to look at how to build up our strategic autonomy and regain diplomatic respect and dignity . Only then will we be able to earn a seat at any table . It ’ s high time to go up on the global stage . So tonight in Slovenia , the 27 Member States must deliver , and not just have dinner . "
     ]
    }
   ],
   "source": [
    "raw1_9 = 'Assita Kanko, on behalf of the ECR Group. – Mr President, ‘the United States are back’, said President Biden after his election. I dream of the day when the EU can say, ‘the EU is back’. I am still dreaming. Some thought that the EU would fall back romantically into America’s arms after Trump’s defeat, but they were so wrong. I would rather describe it as a terrible, terrible one-night stand. The times of multilateralism, the Obama era, seem totally over. It remains ‘America first’. Of course. We should quickly get used to this and act accordingly. Why does the EU not pick its own side right now? How can the EU become a relevant partner on the world stage but also a strong advocate of multilateralism? These questions should be a priority for every European leader. No more embarrassment because of an Australia–United Kingdom–United States (AUKUS) affair or a chaotic withdrawal from Afghanistan. We must defend our principles and stand up for the European people. To make that possible, the EU has to look at how to build up our strategic autonomy and regain diplomatic respect and dignity. Only then will we be able to earn a seat at any table. It’s high time to go up on the global stage. So tonight in Slovenia, the 27 Member States must deliver, and not just have dinner.'\n",
    "tokens1_9 = word_tokenize(raw1_9)\n",
    "for word in tokens1_9:\n",
    "    print(word, end=' ')"
   ]
  },
  {
   "cell_type": "code",
   "execution_count": 132,
   "metadata": {},
   "outputs": [
    {
     "name": "stdout",
     "output_type": "stream",
     "text": [
      "Marisa Matias , on behalf of The Left Group . – Mr President , Mr High Representative , the election of the Biden/Harris administration has given us an opportunity to improve relations between the European Union and the United States . Relations that must be based on democratic dialogue and based on cooperation fundamental issues for the most urgent problems we face today , such as the fight against inequalities , the fight for gender equality , the fight against racism , human rights or climate change . The future relations of the United States and the European Union must be based on equality , and therefore the European Union must be able to ensure its autonomy and to have its own strategic resources within the scope of these relations . Our trade policies should be based on the issues of the digital transition , the green transition and also the equality and rights of those who work . This is what should be the basis of our cooperation , and not cooperation aimed at fighting competitors , to be based only on military cooperation , or to play a decisive role in aggravating tensions , and not in combating community tensions . International . The success of our agreement , the success of our cooperative relationships , should be the success of achieving objectives such as the objectives of sustainable development , for example . And that is not what is present in this report , unfortunately . I believe that we can be partners , yes , in the future , but not on the basis of being an ally , an arm of the United States , and not an equal partner . "
     ]
    }
   ],
   "source": [
    "raw1_10 = 'Marisa Matias, on behalf of The Left Group. – Mr President, Mr High Representative, the election of the Biden/Harris administration has given us an opportunity to improve relations between the European Union and the United States. Relations that must be based on democratic dialogue and based on cooperation fundamental issues for the most urgent problems we face today, such as the fight against inequalities, the fight for gender equality, the fight against racism, human rights or climate change. The future relations of the United States and the European Union must be based on equality, and therefore the European Union must be able to ensure its autonomy and to have its own strategic resources within the scope of these relations. Our trade policies should be based on the issues of the digital transition, the green transition and also the equality and rights of those who work. This is what should be the basis of our cooperation, and not cooperation aimed at fighting competitors, to be based only on military cooperation, or to play a decisive role in aggravating tensions, and not in combating community tensions. International. The success of our agreement, the success of our cooperative relationships, should be the success of achieving objectives such as the objectives of sustainable development, for example. And that is not what is present in this report, unfortunately. I believe that we can be partners, yes, in the future, but not on the basis of being an ally, an arm of the United States, and not an equal partner.'\n",
    "tokens1_10 = word_tokenize(raw1_10)\n",
    "for word in tokens1_10:\n",
    "    print(word, end=' ')"
   ]
  },
  {
   "cell_type": "code",
   "execution_count": 133,
   "metadata": {},
   "outputs": [
    {
     "name": "stdout",
     "output_type": "stream",
     "text": [
      "Tiziana Beghin ( NI ) . - ( IT ) Mr President , ladies and gentlemen , the recent tensions and tariff wars between Europe and the United States have hit our companies hard , causing huge losses not only to large industry but also to small and medium-sized enterprises and retailers . Maintaining good transatlantic relations is therefore essential , but it must take place on a different basis than what has been done so far . Over the past twenty-five years , most attempts at trade coordination with the United States have failed . The last was the TTIP and everyone here remembers the doubts and fears it generated in European civil society . This is why we of the 5 Star Movement ask to continue and strengthen the dialogue with the United States , but we want more equitable and transparent relations . We demand a definitive end to the tariff wars and a case-by-case resolution of obstacles to trade , which is respectful of the precautionary principle . Europe and the United States have a centuries-old friendship and together account for 40 % of the GDP of the world , but our relations must be up to the needs of citizens . "
     ]
    }
   ],
   "source": [
    "raw1_11 = 'Tiziana Beghin (NI). - (IT) Mr President, ladies and gentlemen, the recent tensions and tariff wars between Europe and the United States have hit our companies hard, causing huge losses not only to large industry but also to small and medium-sized enterprises and retailers. Maintaining good transatlantic relations is therefore essential, but it must take place on a different basis than what has been done so far. Over the past twenty-five years, most attempts at trade coordination with the United States have failed. The last was the TTIP and everyone here remembers the doubts and fears it generated in European civil society. This is why we of the 5 Star Movement ask to continue and strengthen the dialogue with the United States, but we want more equitable and transparent relations. We demand a definitive end to the tariff wars and a case-by-case resolution of obstacles to trade, which is respectful of the precautionary principle. Europe and the United States have a centuries-old friendship and together account for 40% of the GDP of the world, but our relations must be up to the needs of citizens.'\n",
    "tokens1_11 = word_tokenize(raw1_11)\n",
    "for word in tokens1_11:\n",
    "    print(word, end=' ')"
   ]
  },
  {
   "cell_type": "code",
   "execution_count": 134,
   "metadata": {},
   "outputs": [
    {
     "name": "stdout",
     "output_type": "stream",
     "text": [
      "Radosław Sikorski ( PPE ) . – Mr President , as chairman of the delegation for relations between the EU and the United States , I welcome the report and I endorse every word spoken by our High Representative in his introduction . With my opposite number from the United States , Jim Costa of California , we ’ ve issued a statement welcoming the launch of the Trade and Technology Council . It ’ s in that forum – trade , technology , investments – that we are equal , because we ’ re equal-sized economies . I also have to tell you I was in Washington in July , and the Americans are , for good reason , obsessed with their rivalry with China . That ’ s the only thing that Republicans and Democrats agree on . As the High Representative has mentioned , tensions in the Far East are rising . We ’ ve just seen some overflights . China , as you know , has pledged to retake Taiwan by force , if need be . If it came to something kinetic out there , I have to tell you , I worry that our ally may not be able to continue to protect us . As a former defence minister , I have to tell you defence systems take decades to develop . Therefore , I beg you , colleagues , we need to get serious about European defence right now . "
     ]
    }
   ],
   "source": [
    "raw1_12 = 'Radosław Sikorski (PPE). – Mr President, as chairman of the delegation for relations between the EU and the United States, I welcome the report and I endorse every word spoken by our High Representative in his introduction. With my opposite number from the United States, Jim Costa of California, we’ve issued a statement welcoming the launch of the Trade and Technology Council. It’s in that forum – trade, technology, investments – that we are equal, because we’re equal-sized economies. I also have to tell you I was in Washington in July, and the Americans are, for good reason, obsessed with their rivalry with China. That’s the only thing that Republicans and Democrats agree on. As the High Representative has mentioned, tensions in the Far East are rising. We’ve just seen some overflights. China, as you know, has pledged to retake Taiwan by force, if need be. If it came to something kinetic out there, I have to tell you, I worry that our ally may not be able to continue to protect us. As a former defence minister, I have to tell you defence systems take decades to develop. Therefore, I beg you, colleagues, we need to get serious about European defence right now.'\n",
    "tokens1_12 = word_tokenize(raw1_12)\n",
    "for word in tokens1_12:\n",
    "    print(word, end=' ')"
   ]
  },
  {
   "cell_type": "code",
   "execution_count": 135,
   "metadata": {},
   "outputs": [
    {
     "name": "stdout",
     "output_type": "stream",
     "text": [
      "Marek Belka ( S & D ) . – Mr President , America is back . After the four dark years of Trump , this should make us relieved and focused in co—shaping the world . More , the new partnership relations with the EU also serve President Biden in implementing his global , regional and national goals . At the same time , we should not see EU—US relations through pink glasses . While we share common values , our interests may not necessarily go in the same direction . For example take China , which by the US is perceived as a military , economic and political enemy . Our approach is not identical , even if we share many of America ’ s concerns . Therefore , especially in times of many uncertainties , we need to treat European strategic autonomy seriously and strive for the goals that are crucial for Europe and Europeans from an economic , political and military point of view . This is also connected to trade issues . In a world ever more fragmented , it is the role of the US and the EU to defend and reinvigorate international institutions and a rules—based international order . Only by example can we lead others to follow in our footsteps . The first meeting of the Trade and Technology Council symbolises a right path to take . However , we still have to work on eliminating irritants which weaken our mutual relations . Finding a joint solution to steel and aluminium excess capacity from third countries and resolving the Boeing—Airbus dispute are just a few examples to name . "
     ]
    }
   ],
   "source": [
    "raw1_13 = 'Marek Belka (S&D). – Mr President, America is back. After the four dark years of Trump, this should make us relieved and focused in co—shaping the world. More, the new partnership relations with the EU also serve President Biden in implementing his global, regional and national goals. At the same time, we should not see EU—US relations through pink glasses. While we share common values, our interests may not necessarily go in the same direction. For example take China, which by the US is perceived as a military, economic and political enemy. Our approach is not identical, even if we share many of America’s concerns. Therefore, especially in times of many uncertainties, we need to treat European strategic autonomy seriously and strive for the goals that are crucial for Europe and Europeans from an economic, political and military point of view. This is also connected to trade issues. In a world ever more fragmented, it is the role of the US and the EU to defend and reinvigorate international institutions and a rules—based international order. Only by example can we lead others to follow in our footsteps. The first meeting of the Trade and Technology Council symbolises a right path to take. However, we still have to work on eliminating irritants which weaken our mutual relations. Finding a joint solution to steel and aluminium excess capacity from third countries and resolving the Boeing—Airbus dispute are just a few examples to name.'\n",
    "tokens1_13 = word_tokenize(raw1_13)\n",
    "for word in tokens1_13:\n",
    "    print(word, end=' ')"
   ]
  },
  {
   "cell_type": "code",
   "execution_count": 136,
   "metadata": {},
   "outputs": [
    {
     "name": "stdout",
     "output_type": "stream",
     "text": [
      "Hilde Vautmans ( Renew ) . – Mr President , Mr Borrell , dear colleagues , I have to tell you very honestly that I am disappointed by President Biden . He claims America is back ; fair enough , but does that mean – in his perception , in his mind and in his strategic approach – that Europe is also back ? No . On the contrary , he did not consult us when he withdrew from Afghanistan . He completely side—lined us in the AUKUS pact between Australia , the UK and the US . He did not even take the step to abolish American tariffs on our European steel . Moreover , Biden arrived in Europe a few months ago at the NATO Summit – North Atlantic Treaty Organization – and he talked about what , colleagues , about what ? About China . Seems to me more South Pacific than the North Atlantic . So it ’ s time to get our act together . The US will not keep on paying the lion ’ s share in NATO . We must do our part and launch our own European defence community , our own European army , not to weaken NATO , as Stoltenberg wrongly suggested , but on the contrary , to strengthen it . With a hopefully – and I talk to the French now – re—elected French President and a new German Government , it ’ s time to think about our own interests , our own shared European sovereignty , and start acting , Mr Borrell , as a geopolitical Commission . We have had enough wake—up calls , Mr Borrell . "
     ]
    }
   ],
   "source": [
    "raw1_14 = 'Hilde Vautmans (Renew). – Mr President, Mr Borrell, dear colleagues, I have to tell you very honestly that I am disappointed by President Biden. He claims America is back; fair enough, but does that mean – in his perception, in his mind and in his strategic approach – that Europe is also back? No. On the contrary, he did not consult us when he withdrew from Afghanistan. He completely side—lined us in the AUKUS pact between Australia, the UK and the US. He did not even take the step to abolish American tariffs on our European steel. Moreover, Biden arrived in Europe a few months ago at the NATO Summit – North Atlantic Treaty Organization – and he talked about what, colleagues, about what? About China. Seems to me more South Pacific than the North Atlantic. So it’s time to get our act together. The US will not keep on paying the lion’s share in NATO. We must do our part and launch our own European defence community, our own European army, not to weaken NATO, as Stoltenberg wrongly suggested, but on the contrary, to strengthen it. With a hopefully – and I talk to the French now – re—elected French President and a new German Government, it’s time to think about our own interests, our own shared European sovereignty, and start acting, Mr Borrell, as a geopolitical Commission. We have had enough wake—up calls, Mr Borrell.'\n",
    "tokens1_14 = word_tokenize(raw1_14)\n",
    "for word in tokens1_14:\n",
    "    print(word, end=' ')"
   ]
  },
  {
   "cell_type": "code",
   "execution_count": 137,
   "metadata": {},
   "outputs": [
    {
     "name": "stdout",
     "output_type": "stream",
     "text": [
      "Heidi Hautala ( Verts/ALE ) . – Mr President , after the first euphoric reactions to the new opportunities , some realistic opportunities do arise . I ’ d like to touch on one of them , and that is the worthy fight against modern slavery and forced labour in global value chains . Modern slavery is a part of the lives of 30 to 47 million people in the world today . The United States has had a ban on the importation of forced labour slavery products since 1930 . The newest version puts an obligation on companies to prove that there is no forced labour included in the value chains of their imports . If they can not do so , the imports will be stopped . As the President of the Commission has recently announced , the Commission is planning a similar type of instrument in the EU , and I believe this is a distinct trade and customs policy instrument . The question of Uyghur forced labour , is of course behind a lot of these discussions , and that is a very worthy cause . I talked recently to the Customs and Border Protection authorities of the United States , and it ’ s now clear that the EU risks becoming a safe haven for products produced with the help of forced labour . According to their statistics , imports of Uyghur—produced cotton to the United States have decreased , while they have recently increased to the European Union . It is the same with palm oil , which is not only connected to deforestation , but also to forced labour . We have to act now . "
     ]
    }
   ],
   "source": [
    "raw1_15 = 'Heidi Hautala (Verts/ALE). – Mr President, after the first euphoric reactions to the new opportunities, some realistic opportunities do arise. I’d like to touch on one of them, and that is the worthy fight against modern slavery and forced labour in global value chains. Modern slavery is a part of the lives of 30 to 47 million people in the world today. The United States has had a ban on the importation of forced labour slavery products since 1930. The newest version puts an obligation on companies to prove that there is no forced labour included in the value chains of their imports. If they cannot do so, the imports will be stopped. As the President of the Commission has recently announced, the Commission is planning a similar type of instrument in the EU, and I believe this is a distinct trade and customs policy instrument. The question of Uyghur forced labour, is of course behind a lot of these discussions, and that is a very worthy cause. I talked recently to the Customs and Border Protection authorities of the United States, and it’s now clear that the EU risks becoming a safe haven for products produced with the help of forced labour. According to their statistics, imports of Uyghur—produced cotton to the United States have decreased, while they have recently increased to the European Union. It is the same with palm oil, which is not only connected to deforestation, but also to forced labour. We have to act now.'\n",
    "tokens1_15 = word_tokenize(raw1_15)\n",
    "for word in tokens1_15:\n",
    "    print(word, end=' ')"
   ]
  },
  {
   "cell_type": "code",
   "execution_count": 138,
   "metadata": {},
   "outputs": [
    {
     "name": "stdout",
     "output_type": "stream",
     "text": [
      "Mara Bizzotto ( ID ) . - ( IT ) Mr President , ladies and gentlemen , defend our freedom , our democracy and the Western world at all costs : this must be our mission in the face of the global threats that come to us every day from dictatorships and regimes such as Communist China or the Iran of Islamic pasdarans . To overcome these challenges , today more than ever it is necessary to strongly relaunch the alliance and relations between Europe and the United States of America , which will always be a beacon of freedom for the whole world . It is time to reform and strengthen the US-led Atlantic Alliance . It is time to build a strong and lasting alliance with Israel . It is time to forge a special relationship with post-Brexit Britain and all the countries of the anglosphere , which are key allies for common security and defense . Australia , the USA and the United Kingdom have done very well to sign a military pact against the Chinese danger and the wigs of Brussels have done very badly , shouting scandal . Europe must recite a great mea culpa for its guilty inaction . How can Americans , Brits and Australians trust such an ambiguous and double-dealing Europe ? A Europe that makes blood-soaked trade agreements with Communist China , which is hesitant with the Communist dictatorships of Cuba and Venezuela , which shows itself to be cowardly with the fundamentalists of Iran . Dear European bureaucrats , the time has come to decide which side to take , either here or there , there are no longer half measures or third ways . On the one hand there is the free world of Western democracies , on the other hand the world of violence embodied by communist and Islamist dictatorships . We of the League have no doubts : we are and will always be on the side of our American allies and the Atlantic alliance , ready to fight for freedom to win over dictatorship and for good to triumph over evil . "
     ]
    }
   ],
   "source": [
    "raw1_16 = 'Mara Bizzotto (ID). - (IT) Mr President, ladies and gentlemen, defend our freedom, our democracy and the Western world at all costs: this must be our mission in the face of the global threats that come to us every day from dictatorships and regimes such as Communist China or the Iran of Islamic pasdarans. To overcome these challenges, today more than ever it is necessary to strongly relaunch the alliance and relations between Europe and the United States of America, which will always be a beacon of freedom for the whole world. It is time to reform and strengthen the US-led Atlantic Alliance. It is time to build a strong and lasting alliance with Israel. It is time to forge a special relationship with post-Brexit Britain and all the countries of the anglosphere, which are key allies for common security and defense. Australia, the USA and the United Kingdom have done very well to sign a military pact against the Chinese danger and the wigs of Brussels have done very badly, shouting scandal. Europe must recite a great mea culpa for its guilty inaction. How can Americans, Brits and Australians trust such an ambiguous and double-dealing Europe? A Europe that makes blood-soaked trade agreements with Communist China, which is hesitant with the Communist dictatorships of Cuba and Venezuela, which shows itself to be cowardly with the fundamentalists of Iran. Dear European bureaucrats, the time has come to decide which side to take, either here or there, there are no longer half measures or third ways. On the one hand there is the free world of Western democracies, on the other hand the world of violence embodied by communist and Islamist dictatorships. We of the League have no doubts: we are and will always be on the side of our American allies and the Atlantic alliance, ready to fight for freedom to win over dictatorship and for good to triumph over evil.'\n",
    "tokens1_16 = word_tokenize(raw1_16)\n",
    "for word in tokens1_16:\n",
    "    print(word, end=' ')"
   ]
  },
  {
   "cell_type": "code",
   "execution_count": 139,
   "metadata": {},
   "outputs": [
    {
     "name": "stdout",
     "output_type": "stream",
     "text": [
      "Jorge Buxadé Villalba ( ECR ) . – Mr President , I thought I had come here to discuss trade relations between the European Union and the United States , but then I read the report and I see that you are still with your usual blah blah blah on climate change , resilience , gender ideology and the fight against the extreme right —curious that you never talk about the extreme left— . Even in an agreement on commercial relations they talk about abortion , using that pompous euphemism of sexual and reproductive rights . I have been here for a little over two years and it never ceases to amaze me the ability of their propaganda machinery to stick their noses in all the sauces . The truth is that then they tell us other anti-Europeanists when the ones who are leaving the European Union and Europe at the height of bitumen are you . China laughs at us . Turkey and Morocco laugh at us . Illegal immigration mafias laugh at us . The big globalist censorship corporations laugh at us . Even the United States of his beloved Biden has laughed at us in Afghanistan after collaborating with them for more than twenty years , to finally give the country to China . These are the real problems that occupy Europeans . To fight against all this , count on us ; to fight against their ideological ghosts , do not count . "
     ]
    }
   ],
   "source": [
    "raw1_17 = 'Jorge Buxadé Villalba (ECR). – Mr President, I thought I had come here to discuss trade relations between the European Union and the United States, but then I read the report and I see that you are still with your usual blah blah blah on climate change, resilience , gender ideology and the fight against the extreme right —curious that you never talk about the extreme left—. Even in an agreement on commercial relations they talk about abortion, using that pompous euphemism of sexual and reproductive rights. I have been here for a little over two years and it never ceases to amaze me the ability of their propaganda machinery to stick their noses in all the sauces. The truth is that then they tell us other anti-Europeanists when the ones who are leaving the European Union and Europe at the height of bitumen are you. China laughs at us. Turkey and Morocco laugh at us. Illegal immigration mafias laugh at us. The big globalist censorship corporations laugh at us. Even the United States of his beloved Biden has laughed at us in Afghanistan after collaborating with them for more than twenty years, to finally give the country to China. These are the real problems that occupy Europeans. To fight against all this, count on us; to fight against their ideological ghosts, do not count.'\n",
    "tokens1_17 = word_tokenize(raw1_17)\n",
    "for word in tokens1_17:\n",
    "    print(word, end=' ')"
   ]
  },
  {
   "cell_type": "code",
   "execution_count": 140,
   "metadata": {},
   "outputs": [
    {
     "name": "stdout",
     "output_type": "stream",
     "text": [
      "Emmanuel Maurel ( The Left ) . – Mr President , European strategic autonomy are just words ; to take action , one must be able to emancipate oneself from the tutelage of the United States . We are far from it , as this text testifies , because , despite the events that follow one another , whether under the Trump or Biden presidencies , we are not able to get out of a kind of voluntary subordination , to the point that in this report , we are silent or we minimize our disputes , our disagreements and our problems vis-a-vis the United States which defends its interests , while us , opposite , we do not sufficiently defend ours . This is true in commercial matters and it is also true for digital . A summit is announced in Pittsburgh , but the United States is going against European interests on these issues . This text does not question the strategy of the NATO and its failures in Libya or Afghanistan . He does not question the American strategy which humiliated the French and the Europeans on the affair of the Australian submarines . Since the election of Biden , we have been like rabbits caught in the headlights : We do not see that there may have been a change of driver , but there has not been a change of direction . So , if we really want to be strategically autonomous , Commissioner , we have to draw the conclusions : wake up and be able to emancipate ourselves . We are far from it . "
     ]
    }
   ],
   "source": [
    "raw1_18 = 'Emmanuel Maurel (The Left). – Mr President, European strategic autonomy are just words; to take action, one must be able to emancipate oneself from the tutelage of the United States. We are far from it, as this text testifies, because, despite the events that follow one another, whether under the Trump or Biden presidencies, we are not able to get out of a kind of voluntary subordination, to the point that in this report, we are silent or we minimize our disputes, our disagreements and our problems vis-a-vis the United States which defends its interests, while us, opposite, we do not sufficiently defend ours. This is true in commercial matters and it is also true for digital. A summit is announced in Pittsburgh, but the United States is going against European interests on these issues. This text does not question the strategy of the NATO and its failures in Libya or Afghanistan. He does not question the American strategy which humiliated the French and the Europeans on the affair of the Australian submarines. Since the election of Biden, we have been like rabbits caught in the headlights: We do not see that there may have been a change of driver, but there has not been a change of direction. So, if we really want to be strategically autonomous, Commissioner, we have to draw the conclusions: wake up and be able to emancipate ourselves. We are far from it.'\n",
    "tokens1_18 = word_tokenize(raw1_18)\n",
    "for word in tokens1_18:\n",
    "    print(word, end=' ')"
   ]
  },
  {
   "cell_type": "code",
   "execution_count": 141,
   "metadata": {},
   "outputs": [
    {
     "name": "stdout",
     "output_type": "stream",
     "text": [
      "Lefteris Nikolaou-Alavanos ( NI ) . - Mr President , the report captures the fierce struggle between the United States and China for capitalist supremacy , with the European Union seeking cooperation but also limiting Chinese influence , encircling Russia . Underlines the EU-US competition for a larger share of the pie with a focus on green and digital growth , where the European Union aims to further boost the profitability of European groups . It promotes the aggressive autonomy of the European Union , the alliance with NATO with giant military exercises , bases , new arms race . It is linked to the Greece-US and Greece-France military agreements , which are dangerous to the people , which appear to be guarantees of security and stability . The New Democracy government , with the support of the bourgeois parties , is turning our country into an imperialist stronghold . It targets the people , sends Patriot missiles , an army to Saudi Arabia , prepares for Mali . Therefore , the defense of territorial integrity acquires real meaning for the people , when it goes along with the struggle against imperialist plans , to close foreign bases , to abolish these dangerous agreements , to liberate Greece from the European Union and NATO , with the people . in power and owner of the wealth he produces . "
     ]
    }
   ],
   "source": [
    "raw1_19 = 'Lefteris Nikolaou-Alavanos (NI). - Mr President, the report captures the fierce struggle between the United States and China for capitalist supremacy, with the European Union seeking cooperation but also limiting Chinese influence, encircling Russia. Underlines the EU-US competition for a larger share of the pie with a focus on green and digital growth, where the European Union aims to further boost the profitability of European groups. It promotes the aggressive autonomy of the European Union, the alliance with NATO with giant military exercises, bases, new arms race. It is linked to the Greece-US and Greece-France military agreements, which are dangerous to the people, which appear to be guarantees of security and stability. The New Democracy government, with the support of the bourgeois parties, is turning our country into an imperialist stronghold. It targets the people, sends Patriot missiles, an army to Saudi Arabia, prepares for Mali. Therefore, the defense of territorial integrity acquires real meaning for the people, when it goes along with the struggle against imperialist plans, to close foreign bases, to abolish these dangerous agreements, to liberate Greece from the European Union and NATO, with the people. in power and owner of the wealth he produces.'\n",
    "tokens1_19 = word_tokenize(raw1_19)\n",
    "for word in tokens1_19:\n",
    "    print(word, end=' ')"
   ]
  },
  {
   "cell_type": "code",
   "execution_count": 142,
   "metadata": {},
   "outputs": [
    {
     "name": "stdout",
     "output_type": "stream",
     "text": [
      "Michael Gahler ( EPP ) . – Mr President , ladies and gentlemen ! If you look at a world map and mark the liberal democracies with whom we share common values , if we then add the existing trade flows and as a third element the security arrangements , then the close ties between the EU and the US become particularly clear . We have to do our homework so that they remain our most important strategic partner in the long term . In the area of ​​global security , we must collectively evaluate who threatens our way of living in freedom and democracy . In doing so , we must become more attractive as a partner for the USA , an ally capable of acting autonomously in certain parts of the world and in certain situations , who can also assume its share of responsibility when the USA is not there . At the moment we seem more like an ally in need of help . We can no longer afford to remain so . In the trade area , we have to exploit the full potential by first ending mutual sanctions , then looking at areas in which mutual tariffs are abolished , standards are mutually recognized or harmonized in the future . The Trade and Technology Council is certainly a suitable body for this . However , I would indeed like to see a free trade agreement with the USA in the not too distant future . Based on increased bilateral cooperation in the areas of security and trade , we can then , in perspective , establish global trade and security cooperation with like-minded partners . Only an alliance of democracies can permanently meet the challenge of a totalitarian China and , in Europe , also an aggressive Russia . "
     ]
    }
   ],
   "source": [
    "raw1_20 = 'Michael Gahler (EPP). – Mr President, ladies and gentlemen! If you look at a world map and mark the liberal democracies with whom we share common values, if we then add the existing trade flows and as a third element the security arrangements, then the close ties between the EU and the US become particularly clear. We have to do our homework so that they remain our most important strategic partner in the long term. In the area of ​​global security, we must collectively evaluate who threatens our way of living in freedom and democracy. In doing so, we must become more attractive as a partner for the USA, an ally capable of acting autonomously in certain parts of the world and in certain situations, who can also assume its share of responsibility when the USA is not there. At the moment we seem more like an ally in need of help. We can no longer afford to remain so. In the trade area, we have to exploit the full potential by first ending mutual sanctions, then looking at areas in which mutual tariffs are abolished, standards are mutually recognized or harmonized in the future. The Trade and Technology Council is certainly a suitable body for this. However, I would indeed like to see a free trade agreement with the USA in the not too distant future. Based on increased bilateral cooperation in the areas of security and trade, we can then, in perspective, establish global trade and security cooperation with like-minded partners. Only an alliance of democracies can permanently meet the challenge of a totalitarian China and, in Europe, also an aggressive Russia.'\n",
    "tokens1_20 = word_tokenize(raw1_20)\n",
    "for word in tokens1_20:\n",
    "    print(word, end=' ')"
   ]
  },
  {
   "cell_type": "code",
   "execution_count": 143,
   "metadata": {},
   "outputs": [
    {
     "name": "stdout",
     "output_type": "stream",
     "text": [
      "Katarina Barley ( S & D ) . – Mr President and High Representative , when Joe Biden took over , he sent a clear message to the world : America is back . And in many ways it is true that the US is indeed back . It reaffirmed its support for NATO , it rejoined the World Health Organization , the Paris Agreement , and will re-engage with the UN Human Rights Council . This is not only about trade and about defence . I would like to focus on something more general : on human rights , shared democratic values , combating the rise of authoritarianism and fighting racism , hate speech and discrimination – topics which are covered in our report in paragraphs 24 to 231 . Because yes , the US is back . It has returned to multilateralism , but it is also pursuing its own interests beyond the Transatlantic Alliance . Therefore , the way to take is not back to the supposedly good old pre-Trump days . We have to define concrete pathways of mutual interest , and first and foremost , this common and shared interest lies in a rules-based international order . We saw President Biden take a clear position on the attempts when the UK wanted to violate the binding Northern Ireland Protocol ; we saw him take a clear stance on the recent crackdown on independent media in Poland . This shows that we do have a common ground . We as Europeans should use this momentum and offer the US a global alliance for democracy and the rule of law . With whom else should we do this ? With China , with Russia ? What we need is to work together as Americans and Europeans for making the law rule . "
     ]
    }
   ],
   "source": [
    "raw1_21 = 'Katarina Barley (S&D). – Mr President and High Representative, when Joe Biden took over, he sent a clear message to the world: America is back. And in many ways it is true that the US is indeed back. It reaffirmed its support for NATO, it rejoined the World Health Organization, the Paris Agreement, and will re-engage with the UN Human Rights Council. This is not only about trade and about defence. I would like to focus on something more general: on human rights, shared democratic values, combating the rise of authoritarianism and fighting racism, hate speech and discrimination – topics which are covered in our report in paragraphs 24 to 231. Because yes, the US is back. It has returned to multilateralism, but it is also pursuing its own interests beyond the Transatlantic Alliance. Therefore, the way to take is not back to the supposedly good old pre-Trump days. We have to define concrete pathways of mutual interest, and first and foremost, this common and shared interest lies in a rules-based international order. We saw President Biden take a clear position on the attempts when the UK wanted to violate the binding Northern Ireland Protocol; we saw him take a clear stance on the recent crackdown on independent media in Poland. This shows that we do have a common ground. We as Europeans should use this momentum and offer the US a global alliance for democracy and the rule of law. With whom else should we do this? With China, with Russia? What we need is to work together as Americans and Europeans for making the law rule.'\n",
    "tokens1_21 = word_tokenize(raw1_21)\n",
    "for word in tokens1_21:\n",
    "    print(word, end=' ')"
   ]
  },
  {
   "cell_type": "code",
   "execution_count": 144,
   "metadata": {},
   "outputs": [
    {
     "name": "stdout",
     "output_type": "stream",
     "text": [
      "Liesje Schreinemacher ( Renew ) . – Mr President , one year ago today we were in high anticipation of the approaching US elections and all hoping for a new wind to blow through Washington , DC , hoping to reconnect with our old partner and ally and hoping for new opportunities to work together . Some of these hopes have yet to come true . Now , one year later , this new opportunity presented itself – the new Trade and Tech Council . A timely and necessary forum for cooperation on tackling today ’ s and tomorrow ’ s challenges . In a world where illiberal forces are expanding , we simply need each other to do this . This is also an opportunity to solve our outstanding issues once and for all , such as steel and aluminium tariffs , to name an important one . EU companies do not pose a threat to the national security of the United States . Please stop with this ridiculous argument . I hope that the TTC will serve as a step in the right direction , because only by showing leadership and working together can we make the most positive change for our citizens and businesses on both sides of the Atlantic . "
     ]
    }
   ],
   "source": [
    "raw1_22 = 'Liesje Schreinemacher (Renew). – Mr President, one year ago today we were in high anticipation of the approaching US elections and all hoping for a new wind to blow through Washington, DC, hoping to reconnect with our old partner and ally and hoping for new opportunities to work together. Some of these hopes have yet to come true. Now, one year later, this new opportunity presented itself – the new Trade and Tech Council. A timely and necessary forum for cooperation on tackling today’s and tomorrow’s challenges. In a world where illiberal forces are expanding, we simply need each other to do this. This is also an opportunity to solve our outstanding issues once and for all, such as steel and aluminium tariffs, to name an important one. EU companies do not pose a threat to the national security of the United States. Please stop with this ridiculous argument. I hope that the TTC will serve as a step in the right direction, because only by showing leadership and working together can we make the most positive change for our citizens and businesses on both sides of the Atlantic.'\n",
    "tokens1_22 = word_tokenize(raw1_22)\n",
    "for word in tokens1_22:\n",
    "    print(word, end=' ')"
   ]
  },
  {
   "cell_type": "code",
   "execution_count": 145,
   "metadata": {},
   "outputs": [
    {
     "name": "stdout",
     "output_type": "stream",
     "text": [
      "Mounir Satouri ( Greens/EFA ) . – Mr President , Europe and the United States must work together to meet major challenges . The first challenge , the biggest and most urgent , is the fight against global warming and the decline of biodiversity . It is therefore imperative that the American and European objectives are ambitious and achieved . We must act together to live better on this planet . This requires fair international corporate taxation and a major revision of the OECD rules on the exchange of information in tax matters . Faced with the Pandora Papers , faced with the profits of multinationals , what are we waiting for to put an end together to the hoarding of wealth , to help each other in the ecological transition and to move forward together towards a fairer and more sustainable world ? Because we share democratic and humanist ideals , the United States and Europe must do their utmost to support rights around the world . Let us stand up against the crimes committed against the Uyghurs and against the detentions of political prisoners in Egypt . However , we must not be blind to the violations of our own political regimes . In the interest of our common ideals , it is healthy that this Parliament is this week urging Texas to reverse the abortion law . It is also healthy not to look the other way when the US administration is considering a migrant center at Guantánamo . Finally , if the United States of Trump as of Biden do not always support European interests , they nevertheless owe respect to their allies . The submarine affair is unacceptable . The chaotic evacuation from Afghanistan is a tragic reminder of this . Let us draw pragmatic lessons so that transatlantic relations are more balanced and let us finally build a united and emancipated European foreign and security policy . "
     ]
    }
   ],
   "source": [
    "raw1_23 = 'Mounir Satouri (Greens/EFA). – Mr President, Europe and the United States must work together to meet major challenges. The first challenge, the biggest and most urgent, is the fight against global warming and the decline of biodiversity. It is therefore imperative that the American and European objectives are ambitious and achieved. We must act together to live better on this planet. This requires fair international corporate taxation and a major revision of the OECD rules on the exchange of information in tax matters. Faced with the Pandora Papers, faced with the profits of multinationals, what are we waiting for to put an end together to the hoarding of wealth, to help each other in the ecological transition and to move forward together towards a fairer and more sustainable world? Because we share democratic and humanist ideals, the United States and Europe must do their utmost to support rights around the world. Let us stand up against the crimes committed against the Uyghurs and against the detentions of political prisoners in Egypt. However, we must not be blind to the violations of our own political regimes. In the interest of our common ideals, it is healthy that this Parliament is this week urging Texas to reverse the abortion law. It is also healthy not to look the other way when the US administration is considering a migrant center at Guantánamo. Finally, if the United States of Trump as of Biden do not always support European interests, they nevertheless owe respect to their allies. The submarine affair is unacceptable. The chaotic evacuation from Afghanistan is a tragic reminder of this. Let us draw pragmatic lessons so that transatlantic relations are more balanced and let us finally build a united and emancipated European foreign and security policy.'\n",
    "tokens1_23 = word_tokenize(raw1_23)\n",
    "for word in tokens1_23:\n",
    "    print(word, end=' ')"
   ]
  },
  {
   "cell_type": "code",
   "execution_count": 146,
   "metadata": {},
   "outputs": [
    {
     "name": "stdout",
     "output_type": "stream",
     "text": [
      "Virginie Joron ( ID ) . – Mr President , ladies and gentlemen , before talking about the future of relations between the European Union and the United States , I would firstly like to thank the United States . Indeed , thanks to the United States , the French have been able to see the lack of loyalty of Brussels and our European partners . The BNP bank was ransomed for 9 billion dollars by the United States , without reaction from Brussels . Alstom Energy , a pillar of our strategic independence , was stolen from us by the Americans , with no reaction from Brussels . According to the revelations of Edward Snowden , 70 million of our private conversations have been listened to by Americans . Presidents Hollande , Sarkozy and Chirac were spied on , with no reaction from Brussels . Thanks to the United States , the contract of 56 billion euros with Australia for the construction of submarines by the French is taken away from us , without reaction from Brussels . In the animal world , especially in the hen , we take our place according to the pecks given and received . However , the France of powerless presidents , the France of Macron , takes a lot of pecks . Even Malian or Algerian leaders , between two coups , allow themselves to criticize us . The France of De Gaulle did not take as many blows and it returned some , but it did not pay for the health advice of the McKinsey cabinet either . But let us come to this report . Of course , and I am sorry , you are not talking about Australian submarines . On the other hand , you call for the creation of a “ transatlantic parliament ” , one more “ thing ” , as the General would say , which would take care , for example , of “ universal health coverage ” . While our healthcare system poorly funds dental coverage for the French , you want the French to pay for the whole world . Finally , you commend our cooperation – 31 times in this COVID-19 report – and declare that global vaccination is the only way to end the pandemic : the only way ! Do not forget to congratulate the European Medicines Agency , which has just validated the third dose of Pfizer , and especially Pfizer , which has doubled its sales this year and will pocket 34 billion dollars in profits , in particular thanks to the Brussels contracts . "
     ]
    }
   ],
   "source": [
    "raw1_24 = 'Virginie Joron (ID). – Mr President, ladies and gentlemen, before talking about the future of relations between the European Union and the United States, I would firstly like to thank the United States. Indeed, thanks to the United States, the French have been able to see the lack of loyalty of Brussels and our European partners. The BNP bank was ransomed for 9 billion dollars by the United States, without reaction from Brussels. Alstom Energy, a pillar of our strategic independence, was stolen from us by the Americans, with no reaction from Brussels. According to the revelations of Edward Snowden, 70 million of our private conversations have been listened to by Americans. Presidents Hollande, Sarkozy and Chirac were spied on, with no reaction from Brussels. Thanks to the United States, the contract of 56 billion euros with Australia for the construction of submarines by the French is taken away from us, without reaction from Brussels. In the animal world, especially in the hen, we take our place according to the pecks given and received. However, the France of powerless presidents, the France of Macron, takes a lot of pecks. Even Malian or Algerian leaders, between two coups, allow themselves to criticize us. The France of De Gaulle did not take as many blows and it returned some, but it did not pay for the health advice of the McKinsey cabinet either. But let us come to this report. Of course, and I am sorry, you are not talking about Australian submarines. On the other hand, you call for the creation of a “transatlantic parliament”, one more “thing”, as the General would say, which would take care, for example, of “universal health coverage”. While our healthcare system poorly funds dental coverage for the French, you want the French to pay for the whole world. Finally, you commend our cooperation – 31 times in this COVID-19 report – and declare that global vaccination is the only way to end the pandemic: the only way! Do not forget to congratulate the European Medicines Agency, which has just validated the third dose of Pfizer, and especially Pfizer, which has doubled its sales this year and will pocket 34 billion dollars in profits, in particular thanks to the Brussels contracts .'\n",
    "tokens1_24 = word_tokenize(raw1_24)\n",
    "for word in tokens1_24:\n",
    "    print(word, end=' ')"
   ]
  },
  {
   "cell_type": "code",
   "execution_count": 147,
   "metadata": {},
   "outputs": [
    {
     "name": "stdout",
     "output_type": "stream",
     "text": [
      "Robert Zile ( ECR ) . - Mr President , Our countries in the European Union - we have different historical experiences and geopolitical views , and there are countries that have regained much of their freedom to tear down - to a large extent the desire of Washington to tear down - the Soviet Union , and there are also countries in the European Union that have other geopolitical vision and other history . NATO is what works , and any move to erode it weakens the European Union geopolitically as well , as strategic autonomy can emerge at best decades from now . And when it comes to new possible Cold Wars with China or failures in the Pacific , at the same time , Russia is testing , testing hybrid weapons here in the European Union , and we , as the European Union , are responding inadequately to this step . That is why we have no other partner with historical roots , historical values ​​like the United States , and we need to remove all the barriers we have to trade , to the technological development , that we have in our relations with the United States . Thank you very much ! "
     ]
    }
   ],
   "source": [
    "raw1_25 = 'Robert Zile (ECR). - Mr President, Our countries in the European Union - we have different historical experiences and geopolitical views, and there are countries that have regained much of their freedom to tear down - to a large extent the desire of Washington to tear down - the Soviet Union, and there are also countries in the European Union that have other geopolitical vision and other history. NATO is what works, and any move to erode it weakens the European Union geopolitically as well, as strategic autonomy can emerge at best decades from now. And when it comes to new possible Cold Wars with China or failures in the Pacific, at the same time, Russia is testing, testing hybrid weapons here in the European Union, and we, as the European Union, are responding inadequately to this step. That is why we have no other partner with historical roots, historical values ​​like the United States, and we need to remove all the barriers we have to trade, to the technological development, that we have in our relations with the United States. Thank you very much!'\n",
    "tokens1_25 = word_tokenize(raw1_25)\n",
    "for word in tokens1_25:\n",
    "    print(word, end=' ')"
   ]
  },
  {
   "cell_type": "code",
   "execution_count": 148,
   "metadata": {},
   "outputs": [
    {
     "name": "stdout",
     "output_type": "stream",
     "text": [
      "Özlem Demirel ( The Left ) . - Mr. President , ladies and gentlemen ! EU-US relations are contradictory : on the one hand driven by brutal competition for economic dominance and on the other hand driven by an unbelievable pragmatism to assert your own interests - if necessary jointly and militarily . And that is exactly what we see in the NATO , US and EU Indo-Pacific strategy . The internal contradictions between the US and the EU have not been resolved , nor have the trade wars . But there is agreement that one wants to push back Chinese economic dominance and secure your own supremacy . Finally , ladies and gentlemen , allow me to say a word about Mr Assange . It is unbelievable for me to state and it is unacceptable to see that you keep talking about human rights but remain silent about the Assange case . The Assange case makes it clear that you and the USA do indeed have an instrumental relationship to human rights . "
     ]
    }
   ],
   "source": [
    "raw1_26 = 'Özlem Demirel (The Left). - Mr. President, ladies and gentlemen! EU-US relations are contradictory: on the one hand driven by brutal competition for economic dominance and on the other hand driven by an unbelievable pragmatism to assert your own interests - if necessary jointly and militarily. And that is exactly what we see in the NATO, US and EU Indo-Pacific strategy. The internal contradictions between the US and the EU have not been resolved, nor have the trade wars. But there is agreement that one wants to push back Chinese economic dominance and secure your own supremacy. Finally, ladies and gentlemen, allow me to say a word about Mr Assange. It is unbelievable for me to state and it is unacceptable to see that you keep talking about human rights but remain silent about the Assange case. The Assange case makes it clear that you and the USA do indeed have an instrumental relationship to human rights.'\n",
    "tokens1_26 = word_tokenize(raw1_26)\n",
    "for word in tokens1_26:\n",
    "    print(word, end=' ')"
   ]
  },
  {
   "cell_type": "code",
   "execution_count": 149,
   "metadata": {},
   "outputs": [
    {
     "name": "stdout",
     "output_type": "stream",
     "text": [
      "Dorien Rookmaker ( NI ) . – Mr President , the US is without any doubt one of the closest allies of the EU , and we don ’ t want to jeopardise this relationship . France tried to sell submarines to Australia , but it didn ’ t work out . I feel sorry for the French , but that doesn ’ t mean that we should all get upset . Australia needs allies to cope with the Chinese . That is understandable and completely acceptable . There is no need for an EU defence force . We still depend on NATO , and that ’ s a good thing . The EU should not be used for political appetites and power play . The EU was created on the premise of bringing about peace in the continent . History shows that militarisation of Europe on its own leads to conflict and bloodshed . We don ’ t want to go that way . "
     ]
    }
   ],
   "source": [
    "raw1_27 = 'Dorien Rookmaker (NI). – Mr President, the US is without any doubt one of the closest allies of the EU, and we don’t want to jeopardise this relationship. France tried to sell submarines to Australia, but it didn’t work out. I feel sorry for the French, but that doesn’t mean that we should all get upset. Australia needs allies to cope with the Chinese. That is understandable and completely acceptable. There is no need for an EU defence force. We still depend on NATO, and that’s a good thing. The EU should not be used for political appetites and power play. The EU was created on the premise of bringing about peace in the continent. History shows that militarisation of Europe on its own leads to conflict and bloodshed. We don’t want to go that way.'\n",
    "tokens1_27 = word_tokenize(raw1_27)\n",
    "for word in tokens1_27:\n",
    "    print(word, end=' ')"
   ]
  },
  {
   "cell_type": "code",
   "execution_count": 150,
   "metadata": {},
   "outputs": [
    {
     "name": "stdout",
     "output_type": "stream",
     "text": [
      "Francisco José Millán Mon ( EPP ) . – Mr President , I thank the rapporteur , Mr Picula , for his report . The relationship with the United States constitutes the most important strategic association for the European Union , and we are at a very opportune moment to strengthen it after the departure of President Trump . We now have in Washington an Administration that is less nationalistic and more willing to collaborate with Europe . The United States continues to be the indispensable power , at least for the European Union , although since Obama a certain withdrawal in its foreign action and its prioritization of Asia have been perceptible . I welcome the recent launch of the Trade and Technology Council , but I also believe that a transatlantic political council is essential to strengthen coordination in matters of foreign and security policy . Recent events , such as Afghanistan and the AUKUS agreement , testify to the need for better dialogue and consultation . We have tabled an amendment to this effect , number 9 , which I hope the House will support , as it reflects its traditional position . We need new institutional mechanisms that allow us to avoid unilateralism and coordination failures . I think that coordinated action by the European Union with the United States in defense of democracy , respect for human rights and the rule of law in countries like Venezuela and Nicaragua is especially necessary . "
     ]
    }
   ],
   "source": [
    "raw1_28 = 'Francisco José Millán Mon (EPP). – Mr President, I thank the rapporteur, Mr Picula, for his report. The relationship with the United States constitutes the most important strategic association for the European Union, and we are at a very opportune moment to strengthen it after the departure of President Trump. We now have in Washington an Administration that is less nationalistic and more willing to collaborate with Europe. The United States continues to be the indispensable power, at least for the European Union, although since Obama a certain withdrawal in its foreign action and its prioritization of Asia have been perceptible. I welcome the recent launch of the Trade and Technology Council, but I also believe that a transatlantic political council is essential to strengthen coordination in matters of foreign and security policy. Recent events, such as Afghanistan and the AUKUS agreement, testify to the need for better dialogue and consultation. We have tabled an amendment to this effect, number 9, which I hope the House will support, as it reflects its traditional position. We need new institutional mechanisms that allow us to avoid unilateralism and coordination failures. I think that coordinated action by the European Union with the United States in defense of democracy, respect for human rights and the rule of law in countries like Venezuela and Nicaragua is especially necessary.'\n",
    "tokens1_28 = word_tokenize(raw1_28)\n",
    "for word in tokens1_28:\n",
    "    print(word, end=' ')"
   ]
  },
  {
   "cell_type": "code",
   "execution_count": 151,
   "metadata": {},
   "outputs": [
    {
     "name": "stdout",
     "output_type": "stream",
     "text": [
      "Miapetra Kumpula-Natri ( S & D ) . – Mr President , with the challenges of today , it is so crucial that we work together with other democracies . It gives us more strength to defend our values and our safety . Climate change , technological transformation and international trade tensions are just few of the policy areas where we can not afford to have disputes , but seek full cooperation across the Atlantic . After some rough years , the Trade and Technology Council ( TTC ) , held last week in Pittsburgh , is an extremely promising step towards deepening trans-Atlantic resolve on these important issues . If the TTC succeeds in finding a way to fight together for human—centric AI , like emerging disruptive technologies , to find good common standards , to set and speed up markets for green technology to cut emissions and to solve the climate crisis , we will not only have the Brussels effect , but we can have , even better , a trans-Atlantic effect for climate , for democracy , for human rights and for decent work . I also welcome Mr Biden ’ s decisions to take the USA back to international organisations . That is very much needed . As the vice-chair for the Transatlantic Legislative Dialogue ( TLD ) , I welcome here what is written in the report : to call for the establishment of a subcommittee on tech and trade within the TLD to complement the executive part of the TTC and to exercise democratic oversight in the European Parliament . We are ready to do that . "
     ]
    }
   ],
   "source": [
    "raw1_29 = 'Miapetra Kumpula-Natri (S&D). – Mr President, with the challenges of today, it is so crucial that we work together with other democracies. It gives us more strength to defend our values and our safety. Climate change, technological transformation and international trade tensions are just few of the policy areas where we cannot afford to have disputes, but seek full cooperation across the Atlantic. After some rough years, the Trade and Technology Council (TTC), held last week in Pittsburgh, is an extremely promising step towards deepening trans-Atlantic resolve on these important issues. If the TTC succeeds in finding a way to fight together for human—centric AI, like emerging disruptive technologies, to find good common standards, to set and speed up markets for green technology to cut emissions and to solve the climate crisis, we will not only have the Brussels effect, but we can have, even better, a trans-Atlantic effect for climate, for democracy, for human rights and for decent work. I also welcome Mr Biden’s decisions to take the USA back to international organisations. That is very much needed. As the vice-chair for the Transatlantic Legislative Dialogue (TLD), I welcome here what is written in the report: to call for the establishment of a subcommittee on tech and trade within the TLD to complement the executive part of the TTC and to exercise democratic oversight in the European Parliament. We are ready to do that.'\n",
    "tokens1_29 = word_tokenize(raw1_29)\n",
    "for word in tokens1_29:\n",
    "    print(word, end=' ')"
   ]
  },
  {
   "cell_type": "code",
   "execution_count": 152,
   "metadata": {},
   "outputs": [
    {
     "name": "stdout",
     "output_type": "stream",
     "text": [
      "Nicolae Ştefănuță ( Renew ) . – Mr President , colleagues , I condemn the US-bashing coming from some parts of this House on this floor . The United States has no better friend in the world than the European Union . We have built a relationship based on history , on values and on interests , but now it ’ s time for the big game . We can no longer think regionally . NATO is the foundation for our collective defence , but America also needs a strong Europe that has strong military interoperability and mobility . A tank can not take a month to travel from Constanța to Riga , and then we call that mobility . That is a lame duck for me , and that is not what America needs or what Europe needs . I support what Radosław Sikorski said , namely that we make a useful ally when we are a strong ally . Only together can we respond to Russia ’ s threats in our region , in Ukraine , in Georgia and in Moldova . In the event of a massive global outage like the one we saw yesterday affecting social media , how do we fight fake news if not together ? We might not be America ’ s nearest partner , but we are for sure their closest . "
     ]
    }
   ],
   "source": [
    "raw1_30 = 'Nicolae Ştefănuță (Renew). – Mr President, colleagues, I condemn the US-bashing coming from some parts of this House on this floor. The United States has no better friend in the world than the European Union. We have built a relationship based on history, on values and on interests, but now it’s time for the big game. We can no longer think regionally. NATO is the foundation for our collective defence, but America also needs a strong Europe that has strong military interoperability and mobility. A tank cannot take a month to travel from Constanța to Riga, and then we call that mobility. That is a lame duck for me, and that is not what America needs or what Europe needs. I support what Radosław Sikorski said, namely that we make a useful ally when we are a strong ally. Only together can we respond to Russia’s threats in our region, in Ukraine, in Georgia and in Moldova. In the event of a massive global outage like the one we saw yesterday affecting social media, how do we fight fake news if not together? We might not be America’s nearest partner, but we are for sure their closest.'\n",
    "tokens1_30 = word_tokenize(raw1_30)\n",
    "for word in tokens1_30:\n",
    "    print(word, end=' ')"
   ]
  },
  {
   "cell_type": "code",
   "execution_count": 153,
   "metadata": {},
   "outputs": [
    {
     "name": "stdout",
     "output_type": "stream",
     "text": [
      "Henrike Hahn ( Verts/ALE ) . – Mr President , the United States is one of the EU ’ s closest partners and our transatlantic partnership is founded on shared values , such as democracy , human rights and the rule of law , and now we share the fight against climate change . We have to cut emissions , we have to decarbonise and reach climate neutrality by 2050 at the latest . We have to green our industries to achieve that . In the EU , we have the Just Transition Mechanism and , in the US , the Build Back Better plan . Let ’ s create a transatlantic alliance for climate neutrality . Let ’ s build a transatlantic trading zone for climate neutrality . We also need an EU—US strategic partnership on raw materials that could expand the green approaches on alternatives to mining and allow both sides to exchange know-how and best practices on green technologies in creating resistant secondary raw materials markets . That is key to achieving the transition to climate-neutral and digitalised economies . Let ’ s create a transatlantic parliamentary working group to implement the Green Deal . There are so many options to save the planet together , and let ’ s do that . "
     ]
    }
   ],
   "source": [
    "raw1_31 = ' Henrike Hahn (Verts/ALE). – Mr President, the United States is one of the EU’s closest partners and our transatlantic partnership is founded on shared values, such as democracy, human rights and the rule of law, and now we share the fight against climate change. We have to cut emissions, we have to decarbonise and reach climate neutrality by 2050 at the latest. We have to green our industries to achieve that. In the EU, we have the Just Transition Mechanism and, in the US, the Build Back Better plan. Let’s create a transatlantic alliance for climate neutrality. Let’s build a transatlantic trading zone for climate neutrality. We also need an EU—US strategic partnership on raw materials that could expand the green approaches on alternatives to mining and allow both sides to exchange know-how and best practices on green technologies in creating resistant secondary raw materials markets. That is key to achieving the transition to climate-neutral and digitalised economies. Let’s create a transatlantic parliamentary working group to implement the Green Deal. There are so many options to save the planet together, and let’s do that.'\n",
    "tokens1_31 = word_tokenize(raw1_31)\n",
    "for word in tokens1_31:\n",
    "    print(word, end=' ')"
   ]
  },
  {
   "cell_type": "code",
   "execution_count": 154,
   "metadata": {},
   "outputs": [
    {
     "name": "stdout",
     "output_type": "stream",
     "text": [
      "Maximilian Krah ( ID ) . – Mr President , ladies and gentlemen ! This report establishes – or calls for – a world order based on the United States , with the EU in tow , building a world order based on fighting racism , standing up for LGBTQ rights , and with climate protection as the primary goal . This is a left-liberal , Western agenda that we , as those sitting to the right of the President , will of course not share . But it is also an astounding degree of denial of reality . The world that we are now growing into and that we want to shape is no longer shaped solely by the western world , but is shaped by a large number of actors with their very own traditions and agendas . And it is our job to ensure a diplomatic balance here instead of waging a kind of culture war just to secure the power of the West . The fact that the political right of all people is interested in making sure that we also have peace with regions of the world that have different traditions is a joke . The point is that we learn that our values ​​are not universal , but that we must listen and that we find the best way for this earth by balancing , by negotiating and by not believing , the sole owner of the truth to be . That is why I find this report terrible , because it is loaded with ideology . He even wants to ideologize trade policy , and he wants to combine it with abortion and gender issues . But it does not belong there . For this reason , I would like us to base our relations with the USA , which are very important , on real interests and , above all , on the interests of independence , sovereignty and identity . Unfortunately , we have a purely ideological report here that wants to ideologize foreign policy and foreign trade relations instead of making them fit for a world in which there are several poles that are not western - which we should recognize . "
     ]
    }
   ],
   "source": [
    "raw1_32 = 'Maximilian Krah (ID). – Mr President, ladies and gentlemen! This report establishes – or calls for – a world order based on the United States, with the EU in tow, building a world order based on fighting racism, standing up for LGBTQ rights, and with climate protection as the primary goal. This is a left-liberal, Western agenda that we, as those sitting to the right of the President, will of course not share. But it is also an astounding degree of denial of reality. The world that we are now growing into and that we want to shape is no longer shaped solely by the western world, but is shaped by a large number of actors with their very own traditions and agendas. And it is our job to ensure a diplomatic balance here instead of waging a kind of culture war just to secure the power of the West. The fact that the political right of all people is interested in making sure that we also have peace with regions of the world that have different traditions is a joke. The point is that we learn that our values ​​are not universal, but that we must listen and that we find the best way for this earth by balancing, by negotiating and by not believing, the sole owner of the truth to be. That is why I find this report terrible, because it is loaded with ideology. He even wants to ideologize trade policy, and he wants to combine it with abortion and gender issues. But it does not belong there. For this reason, I would like us to base our relations with the USA, which are very important, on real interests and, above all, on the interests of independence, sovereignty and identity. Unfortunately, we have a purely ideological report here that wants to ideologize foreign policy and foreign trade relations instead of making them fit for a world in which there are several poles that are not western - which we should recognize.'\n",
    "tokens1_32 = word_tokenize(raw1_32)\n",
    "for word in tokens1_32:\n",
    "    print(word, end=' ')"
   ]
  },
  {
   "cell_type": "code",
   "execution_count": 155,
   "metadata": {},
   "outputs": [
    {
     "name": "stdout",
     "output_type": "stream",
     "text": [
      "Geert Bourgeois ( ECR ) . – ( NL ) Mr President , we welcome the first agreements in principle from the summit of the Trade and Technology Council . It is good that it could take place in not so obvious circumstances . The United States remains our most important partner . First , however , the frictions need to be eliminated , such as tariffs on aluminum and steel and the lack of access of our companies to the US market and government procurement . We also need to work towards an agreement on a carbon border tax . The United States must now also make clear whether it wants to work with us and with other partners to rescue and modernize the World Trade Organization . Finally , we really hope that an agreement will be reached on the new economy with common standards for artificial intelligence . "
     ]
    }
   ],
   "source": [
    "raw1_33 = 'Geert Bourgeois (ECR). – (NL) Mr President, we welcome the first agreements in principle from the summit of the Trade and Technology Council. It is good that it could take place in not so obvious circumstances. The United States remains our most important partner. First, however, the frictions need to be eliminated, such as tariffs on aluminum and steel and the lack of access of our companies to the US market and government procurement. We also need to work towards an agreement on a carbon border tax. The United States must now also make clear whether it wants to work with us and with other partners to rescue and modernize the World Trade Organization. Finally, we really hope that an agreement will be reached on the new economy with common standards for artificial intelligence.'\n",
    "tokens1_33 = word_tokenize(raw1_33)\n",
    "for word in tokens1_33:\n",
    "    print(word, end=' ')"
   ]
  },
  {
   "cell_type": "code",
   "execution_count": 156,
   "metadata": {},
   "outputs": [
    {
     "name": "stdout",
     "output_type": "stream",
     "text": [
      "Helmut Scholz ( The Left ) . – Mr President , ladies and gentlemen ! In Washington , the relationship with the European Union is measured by whether the EU is actively involved in the containment strategy against its main rival , China – especially in the economic sector . Katherine Tai detailed the tactics yesterday . They do not want to terminate the phase 1 trade agreement , but ask China to pay . They claim that China has not delivered any opening reforms and are threatening new punitive tariffs to protect American jobs . I think it is good to put the workers at the center of trade policy , but not just your own , please . Because this line of argument applies to all parties involved , including the steel industry in Germany , the EU and beyond , which must necessarily be converted to green energies . We should not think about such cockfights . The global challenges are much more fundamental . There is little time to stop global warming caused by climate change . There are only nine years left to achieve the sustainability goals agreed at the UN for all countries on earth . Poverty reduction , environmental protection , access to health services and education for all , disarmament and peace should be the common goals of our partnership with the USA . But even the EU and the USA together can not achieve these goals without gaining additional partners . Cooperation is necessary , also with China . This is where the new narrative begins : instead of confrontation , cooperation , instead of we reestablish synergies and trust together and set rules - also actively in the WTO . "
     ]
    }
   ],
   "source": [
    "raw1_34 = 'Helmut Scholz (The Left). – Mr President, ladies and gentlemen! In Washington, the relationship with the European Union is measured by whether the EU is actively involved in the containment strategy against its main rival, China – especially in the economic sector. Katherine Tai detailed the tactics yesterday. They do not want to terminate the phase 1 trade agreement, but ask China to pay. They claim that China has not delivered any opening reforms and are threatening new punitive tariffs to protect American jobs. I think it is good to put the workers at the center of trade policy, but not just your own, please. Because this line of argument applies to all parties involved, including the steel industry in Germany, the EU and beyond, which must necessarily be converted to green energies. We should not think about such cockfights. The global challenges are much more fundamental. There is little time to stop global warming caused by climate change. There are only nine years left to achieve the sustainability goals agreed at the UN for all countries on earth. Poverty reduction, environmental protection, access to health services and education for all, disarmament and peace should be the common goals of our partnership with the USA. But even the EU and the USA together cannot achieve these goals without gaining additional partners. Cooperation is necessary, also with China. This is where the new narrative begins: instead of confrontation, cooperation, instead of we reestablish synergies and trust together and set rules - also actively in the WTO.'\n",
    "tokens1_34 = word_tokenize(raw1_34)\n",
    "for word in tokens1_34:\n",
    "    print(word, end=' ')"
   ]
  },
  {
   "cell_type": "code",
   "execution_count": 157,
   "metadata": {},
   "outputs": [
    {
     "name": "stdout",
     "output_type": "stream",
     "text": [
      "Enikő Győri ( NI ) . - President ! Slowly a year ago , Joe Biden was president of the United States . I hope that those who thought that everything would be nice and good with the drive of Trump , that America would look for Europe , would wake up slowly . Afghanistan , remaining tariffs , the AUKUS affair : let us realize that “ America first ” is always the guideline overseas . Therefore , I would not even blame them . However , we should act on a `` Europa first '' basis and work with our most important ally along it . America is a master at selling its own interest as a global good . A prime example is the forced tax agreement in the OECD . The digital tax has been leached out by the U.S. , so several tech companies will get away with it . And a global minimum corporate tax is needed by America to raise taxes at home and drag the world with it without putting it at a disadvantage . In addition , due to EU law , we should have a stricter corporate tax policy on the continent than the global one . This is not in the interest of Europe . The leaders of the Union must wake up , let fair tax competition prevail , and companies that actually produce must not be overburdened . This would help the competitiveness of the Union . "
     ]
    }
   ],
   "source": [
    "raw1_35 = 'Enikő Győri (NI). - President! Slowly a year ago, Joe Biden was president of the United States. I hope that those who thought that everything would be nice and good with the drive of Trump, that America would look for Europe, would wake up slowly. Afghanistan, remaining tariffs, the AUKUS affair: let us realize that “America first” is always the guideline overseas. Therefore, I would not even blame them. However, we should act on a \"Europa first\" basis and work with our most important ally along it. America is a master at selling its own interest as a global good. A prime example is the forced tax agreement in the OECD. The digital tax has been leached out by the U.S., so several tech companies will get away with it. And a global minimum corporate tax is needed by America to raise taxes at home and drag the world with it without putting it at a disadvantage. In addition, due to EU law, we should have a stricter corporate tax policy on the continent than the global one. This is not in the interest of Europe. The leaders of the Union must wake up, let fair tax competition prevail, and companies that actually produce must not be overburdened. This would help the competitiveness of the Union.'\n",
    "tokens1_35 = word_tokenize(raw1_35)\n",
    "for word in tokens1_35:\n",
    "    print(word, end=' ')"
   ]
  },
  {
   "cell_type": "code",
   "execution_count": 158,
   "metadata": {},
   "outputs": [
    {
     "name": "stdout",
     "output_type": "stream",
     "text": [
      "Traian Basescu ( EPP ) . - Mr President , Mr High Representative , the report and resolution we will adopt create the conditions for a true 21st century strategic partnership between the Union and the United States , leading to a strong integration of economies on both sides of the Atlantic . Within this partnership , the European Union has an obligation to increase its contribution to the defense capability of the NATO . The Union is partnering with the United States , which has a strong energy dependence on the Russian Federation , which carries economic , social and political risks . To reduce these risks , we need to develop alternative energy supply systems , such as : investments in the development of the southern Caspian and Middle East gas supply corridor , the recognition of nuclear energy as clean energy , massive investments in production of electricity from renewable sources and , last but not least , the massive import of liquefied gas . "
     ]
    }
   ],
   "source": [
    "raw1_36 = 'Traian Basescu (EPP). - Mr President, Mr High Representative, the report and resolution we will adopt create the conditions for a true 21st century strategic partnership between the Union and the United States, leading to a strong integration of economies on both sides of the Atlantic. Within this partnership, the European Union has an obligation to increase its contribution to the defense capability of the NATO. The Union is partnering with the United States, which has a strong energy dependence on the Russian Federation, which carries economic, social and political risks. To reduce these risks, we need to develop alternative energy supply systems, such as: investments in the development of the southern Caspian and Middle East gas supply corridor, the recognition of nuclear energy as clean energy, massive investments in production of electricity from renewable sources and, last but not least, the massive import of liquefied gas.'\n",
    "tokens1_36 = word_tokenize(raw1_36)\n",
    "for word in tokens1_36:\n",
    "    print(word, end=' ')"
   ]
  },
  {
   "cell_type": "code",
   "execution_count": 159,
   "metadata": {},
   "outputs": [
    {
     "name": "stdout",
     "output_type": "stream",
     "text": [
      "Juan Fernando López Aguilar ( S & D ) . – Mr President , Mr High Representative Borrell , we discussed and voted in this plenary session of the European Parliament on nothing less than a very extensive Resolution on relations between the European Union and the United States . I will focus - given that they are not what they were , let us not fool ourselves , and , in the global disorder from which we are coming , it is unlikely that they will be again soon - on those issues that matter most to the Committee on Civil Liberties , Justice and Home Affairs that I preside : in pending problems . One , a new data transfer agreement —after the setbacks of the Court of Justice rulings in the Schrems case— , urgently . Another , the need to complete visa reciprocity between the United States and the European Union . Because , after Poland and , soon , Croatia have joined , the situations of Romania , Bulgaria and Cyprus are still pending . But , on the positive side , we certainly have an intense collaboration on human rights . And there we have a lot to do in the fight against evils that we must confront together : racism and cybercrime ; even with the differences we have on the issue of the International Criminal Court . But there is also , without a doubt , a challenge when dealing with hybrid threats and foreign interference in democratic processes : China and Russia ; in addition to , of course , the common effort , within the framework of the European Union and the Organization for Security and Cooperation in Europe , to fight for the defense of human rights and democracy . "
     ]
    }
   ],
   "source": [
    "raw1_37 = 'Juan Fernando López Aguilar (S&D). – Mr President, Mr High Representative Borrell, we discussed and voted in this plenary session of the European Parliament on nothing less than a very extensive Resolution on relations between the European Union and the United States. I will focus - given that they are not what they were, let us not fool ourselves, and, in the global disorder from which we are coming, it is unlikely that they will be again soon - on those issues that matter most to the Committee on Civil Liberties, Justice and Home Affairs that I preside: in pending problems. One, a new data transfer agreement —after the setbacks of the Court of Justice rulings in the Schrems case—, urgently. Another, the need to complete visa reciprocity between the United States and the European Union. Because, after Poland and, soon, Croatia have joined, the situations of Romania, Bulgaria and Cyprus are still pending. But, on the positive side, we certainly have an intense collaboration on human rights. And there we have a lot to do in the fight against evils that we must confront together: racism and cybercrime; even with the differences we have on the issue of the International Criminal Court. But there is also, without a doubt, a challenge when dealing with hybrid threats and foreign interference in democratic processes: China and Russia; in addition to, of course, the common effort, within the framework of the European Union and the Organization for Security and Cooperation in Europe, to fight for the defense of human rights and democracy.'\n",
    "tokens1_37 = word_tokenize(raw1_37)\n",
    "for word in tokens1_37:\n",
    "    print(word, end=' ')"
   ]
  },
  {
   "cell_type": "code",
   "execution_count": 160,
   "metadata": {},
   "outputs": [
    {
     "name": "stdout",
     "output_type": "stream",
     "text": [
      "Dita Charanzová ( Renew ) . – Mr President , I say the High Representative : I would like to take this occasion to welcome the Technology and Trade Council of last week . The United States and Europe must work together if we want an open and free digital future . The digital world rests on the EU and US creating common digital policies . This is about our security , our competitiveness and , most importantly , it is about protecting basic fundamental freedoms online . I don ’ t want a digital Europe to be a walled garden . If digital sovereignty or strategic autonomy means a closed and isolated Europe , we will be harming our citizens , not helping them . For all the latest disagreements , the best ally that we have in digital freedom is the United States . If we turn away from this alliance , I ask us , who are we turning to ? "
     ]
    }
   ],
   "source": [
    "raw1_38 = 'Dita Charanzová (Renew). – Mr President, I say the High Representative: I would like to take this occasion to welcome the Technology and Trade Council of last week. The United States and Europe must work together if we want an open and free digital future. The digital world rests on the EU and US creating common digital policies. This is about our security, our competitiveness and, most importantly, it is about protecting basic fundamental freedoms online. I don’t want a digital Europe to be a walled garden. If digital sovereignty or strategic autonomy means a closed and isolated Europe, we will be harming our citizens, not helping them. For all the latest disagreements, the best ally that we have in digital freedom is the United States. If we turn away from this alliance, I ask us, who are we turning to?'\n",
    "tokens1_38 = word_tokenize(raw1_38)\n",
    "for word in tokens1_38:\n",
    "    print(word, end=' ')"
   ]
  },
  {
   "cell_type": "code",
   "execution_count": 161,
   "metadata": {},
   "outputs": [
    {
     "name": "stdout",
     "output_type": "stream",
     "text": [
      "Saskia Bricmont ( Greens/EFA ) . – Mr President , ladies and gentlemen , to restore trust and restore meaning to globalisation , transatlantic collaboration must also take place on the human rights front . This is what the Picula report proposes through the development of a common toolbox . In this context , there is an urgent need to tackle the eradication of child labour . For the first time in 20 years , child labor has increased worldwide . 160 million children worked in 2020 , i.e . one child in ten . Eight million more children could work by the end of next year due to the pandemic . The United States has a long-standing arsenal of measures to sanction companies guilty of employing children . The European Union , which imports 50 billion euros worth of products resulting from child labor , will adopt legislation on corporate social responsibilities next year . While together they represent 30 % of global imports , trade sanctions and aid to countries where endemic poverty is the cause of child labor are urgently needed . The Commission must use all the levers at its disposal , including the next Trade and Technology Council , to give substance to the zero tolerance announced more than two years ago by President von der Leyen . "
     ]
    }
   ],
   "source": [
    "raw1_39 = 'Saskia Bricmont (Greens/EFA). – Mr President, ladies and gentlemen, to restore trust and restore meaning to globalisation, transatlantic collaboration must also take place on the human rights front. This is what the Picula report proposes through the development of a common toolbox. In this context, there is an urgent need to tackle the eradication of child labour. For the first time in 20 years, child labor has increased worldwide. 160 million children worked in 2020, i.e. one child in ten. Eight million more children could work by the end of next year due to the pandemic. The United States has a long-standing arsenal of measures to sanction companies guilty of employing children. The European Union, which imports 50 billion euros worth of products resulting from child labor, will adopt legislation on corporate social responsibilities next year. While together they represent 30% of global imports, trade sanctions and aid to countries where endemic poverty is the cause of child labor are urgently needed. The Commission must use all the levers at its disposal, including the next Trade and Technology Council, to give substance to the zero tolerance announced more than two years ago by President von der Leyen.'\n",
    "tokens1_39 = word_tokenize(raw1_39)\n",
    "for word in tokens1_39:\n",
    "    print(word, end=' ')"
   ]
  },
  {
   "cell_type": "code",
   "execution_count": 162,
   "metadata": {},
   "outputs": [
    {
     "name": "stdout",
     "output_type": "stream",
     "text": [
      "Peter Kofod ( ID ) . - Sir . Chairman ! I would like to start by saying that I am very grateful for the great contribution that the United States has made to the world and , in particular , to Europe . Where would Europe have been without the very , very large American contribution during World War I , during World War II or during the Cold War ? We have infinitely much to thank the Americans for . They are our most important and important partners in the world , and beyond that they are our good friends . We are connected historically , culturally , etc . That is why I also noticed when one of my colleagues in Parliament was up here earlier and said that our relationship - that is , the European relationship - with the United States will not be as important as before . It is a huge shame if it should turn out to be true , because we need each other . Europe needs the United States , and the United States needs Europe in the sense that we are the same civilization . We can easily discuss this agreement , everything about plastic and abortion and criminal law and taxes and internet giants and everything else . But that aside , the political content aside , then there is one thing that is crucial , and that is what civilization should shape the world in the coming decades . If it is to be the West , then we must stick together . Or are we willing to pass on that leadership to China or all sorts of others who might have the courage to do so ? So we need the United States more than ever before , but I also hope that the Americans need us after all . "
     ]
    }
   ],
   "source": [
    "raw1_40 = 'Peter Kofod (ID). - Sir. Chairman! I would like to start by saying that I am very grateful for the great contribution that the United States has made to the world and, in particular, to Europe. Where would Europe have been without the very, very large American contribution during World War I, during World War II or during the Cold War? We have infinitely much to thank the Americans for. They are our most important and important partners in the world, and beyond that they are our good friends. We are connected historically, culturally, etc. That is why I also noticed when one of my colleagues in Parliament was up here earlier and said that our relationship - that is, the European relationship - with the United States will not be as important as before. It is a huge shame if it should turn out to be true, because we need each other. Europe needs the United States, and the United States needs Europe in the sense that we are the same civilization. We can easily discuss this agreement, everything about plastic and abortion and criminal law and taxes and internet giants and everything else. But that aside, the political content aside, then there is one thing that is crucial, and that is what civilization should shape the world in the coming decades. If it is to be the West, then we must stick together. Or are we willing to pass on that leadership to China or all sorts of others who might have the courage to do so? So we need the United States more than ever before, but I also hope that the Americans need us after all.'\n",
    "tokens1_40 = word_tokenize(raw1_40)\n",
    "for word in tokens1_40:\n",
    "    print(word, end=' ')"
   ]
  },
  {
   "cell_type": "code",
   "execution_count": 163,
   "metadata": {},
   "outputs": [
    {
     "name": "stdout",
     "output_type": "stream",
     "text": [
      "Michiel Hoogeveen ( ECR ) . – Mr President , the relations between the United States and the countries of Europe are under threat , and this is because we have an EU that no longer knows its place in the geopolitical arena . We have a European Commission seeking what it calls ‘ strategic autonomy ’ . We have a Commission President who recently proclaimed her empire , stating European military forces would be part of the solution , undermining our NATO alliance and the transatlantic partnership . We have a Commission that speaks on behalf of France when they , not us , they lose a submarine deal , compromising the relations of all EU Member States . And we have a European Parliament that believes , according to this report , should have an opinion on internal US affairs such as gun control , the US border wall , police violence , etc . When will the EU recognise it as part of the problem , not the solution ? "
     ]
    }
   ],
   "source": [
    "raw1_41 = 'Michiel Hoogeveen (ECR). – Mr President, the relations between the United States and the countries of Europe are under threat, and this is because we have an EU that no longer knows its place in the geopolitical arena. We have a European Commission seeking what it calls ‘strategic autonomy’. We have a Commission President who recently proclaimed her empire, stating European military forces would be part of the solution, undermining our NATO alliance and the transatlantic partnership. We have a Commission that speaks on behalf of France when they, not us, they lose a submarine deal, compromising the relations of all EU Member States. And we have a European Parliament that believes, according to this report, should have an opinion on internal US affairs such as gun control, the US border wall, police violence, etc. When will the EU recognise it as part of the problem, not the solution?'\n",
    "tokens1_41 = word_tokenize(raw1_41)\n",
    "for word in tokens1_41:\n",
    "    print(word, end=' ')"
   ]
  },
  {
   "cell_type": "code",
   "execution_count": 164,
   "metadata": {},
   "outputs": [
    {
     "name": "stdout",
     "output_type": "stream",
     "text": [
      "Clare Daly ( The Left ) . – Mr President , when we talk about US shared values and common bonds , let ’ s remember that this is a country which is ruthlessly pursuing an espionage case against Julian Assange for publishing information about US war crimes in Afghanistan and Iraq , including attempts to kidnap and kill him . A country that plots regime change and imposes illegal sanctions that kill in every corner of the globe . But of course the narrative here is that the only choices are that we either keep sucking up to US power , as it faces off against China and Russia , or we cut the apron strings , dump billions of euros into military budgets and go it alone with an EU army . Of course , both of these choices are nonsense . The century of American and European supremacy is over . We live in a different multipolar world that ’ s more interconnected and interdependent than ever before . The main challenge is climate change . Getting through it will require cooperation , not competition . Europe will either extract itself from reducing US influence and develop an independent , peaceful role or face further irrelevance . "
     ]
    }
   ],
   "source": [
    "raw1_42 = 'Clare Daly (The Left). – Mr President, when we talk about US shared values and common bonds, let’s remember that this is a country which is ruthlessly pursuing an espionage case against Julian Assange for publishing information about US war crimes in Afghanistan and Iraq, including attempts to kidnap and kill him. A country that plots regime change and imposes illegal sanctions that kill in every corner of the globe. But of course the narrative here is that the only choices are that we either keep sucking up to US power, as it faces off against China and Russia, or we cut the apron strings, dump billions of euros into military budgets and go it alone with an EU army. Of course, both of these choices are nonsense. The century of American and European supremacy is over. We live in a different multipolar world that’s more interconnected and interdependent than ever before. The main challenge is climate change. Getting through it will require cooperation, not competition. Europe will either extract itself from reducing US influence and develop an independent, peaceful role or face further irrelevance.'\n",
    "tokens1_42 = word_tokenize(raw1_42)\n",
    "for word in tokens1_42:\n",
    "    print(word, end=' ')"
   ]
  },
  {
   "cell_type": "code",
   "execution_count": 165,
   "metadata": {},
   "outputs": [
    {
     "name": "stdout",
     "output_type": "stream",
     "text": [
      "Paulo Rangel ( PPE ) . – Mr President , Mr High Representative , as a Portuguese and as a European I have to say : the United States is , and must continue to be , our priority partner . Liberal democratic values , respect for human rights , but also the market economy and prosperity , are Western values ​​common to Europe and the United States . We can not fall into the temptation that Europe , which has to defend its interests , and which must assert itself in the Indo-Pacific , does so without being in articulation and coordination with the United States . I know the temptation is great to make Europe into a kind of new Non-Aligned movement , a third way , halfway across the bridge between the United States and China and Russia . But let there be no doubt whatsoever : if Europe ceases to be a preferred ally of the United States , it is the values ​​of human rights and the market economy and prosperity that will be at stake . We must do everything to have a trade agreement and we must do everything to have a military and strategic partnership with the United States . "
     ]
    }
   ],
   "source": [
    "raw1_43 = 'Paulo Rangel (PPE). – Mr President, Mr High Representative, as a Portuguese and as a European I have to say: the United States is, and must continue to be, our priority partner. Liberal democratic values, respect for human rights, but also the market economy and prosperity, are Western values ​​common to Europe and the United States. We cannot fall into the temptation that Europe, which has to defend its interests, and which must assert itself in the Indo-Pacific, does so without being in articulation and coordination with the United States. I know the temptation is great to make Europe into a kind of new Non-Aligned movement, a third way, halfway across the bridge between the United States and China and Russia. But let there be no doubt whatsoever: if Europe ceases to be a preferred ally of the United States, it is the values ​​of human rights and the market economy and prosperity that will be at stake. We must do everything to have a trade agreement and we must do everything to have a military and strategic partnership with the United States.'\n",
    "tokens1_43 = word_tokenize(raw1_43)\n",
    "for word in tokens1_43:\n",
    "    print(word, end=' ')"
   ]
  },
  {
   "cell_type": "code",
   "execution_count": 166,
   "metadata": {},
   "outputs": [
    {
     "name": "stdout",
     "output_type": "stream",
     "text": [
      "Paolo De Castro ( S & D ) . - ( IT ) Mr President , ladies and gentlemen , High Representative , our relations with the United States are at a turning point . In fact , if it is true that , since taking office , the Biden administration has often shown a willingness to collaborate among allies , now we need a change of pace to establish a partnership capable of facing the challenges that await us . The positive signs , starting from the solution of the Boeing-Airbus affair , which so unjustly weighed on our agri-food producers , up to the first meeting of the Trade and Technology Council , must now be followed up with concrete actions on issues that can no longer be postponed , such as the achievement of lasting solutions for the aluminum and steel sector . Actions that will have to consolidate commercial relations by strengthening the coordination of our priorities , such as the promotion of the rights of workers , climate action , the management of technological transformation . We therefore need a renewed momentum in transatlantic relations , so that common challenges can truly turn into opportunities for our citizens and for our businesses . "
     ]
    }
   ],
   "source": [
    "raw1_44 = 'Paolo De Castro (S&D). - (IT) Mr President, ladies and gentlemen, High Representative, our relations with the United States are at a turning point. In fact, if it is true that, since taking office, the Biden administration has often shown a willingness to collaborate among allies, now we need a change of pace to establish a partnership capable of facing the challenges that await us. The positive signs, starting from the solution of the Boeing-Airbus affair, which so unjustly weighed on our agri-food producers, up to the first meeting of the Trade and Technology Council, must now be followed up with concrete actions on issues that can no longer be postponed, such as the achievement of lasting solutions for the aluminum and steel sector. Actions that will have to consolidate commercial relations by strengthening the coordination of our priorities, such as the promotion of the rights of workers, climate action, the management of technological transformation. We therefore need a renewed momentum in transatlantic relations, so that common challenges can truly turn into opportunities for our citizens and for our businesses.'\n",
    "tokens1_44 = word_tokenize(raw1_44)\n",
    "for word in tokens1_44:\n",
    "    print(word, end=' ')"
   ]
  },
  {
   "cell_type": "code",
   "execution_count": 167,
   "metadata": {},
   "outputs": [
    {
     "name": "stdout",
     "output_type": "stream",
     "text": [
      "Nathalie Loiseau ( Renew ) . – Mr President , Mr High Representative , in its report to the United States , the Europe of 27 too often resembles the three little monkeys of the Chinese tradition . Above all , hear nothing when three American presidents in a row , Barack Obama , Donald Trump and Joe Biden , talk to us about a pivot to Asia . Above all , see nothing when the United States leaves Afghanistan because it is tired of being the policeman of the world . Above all , say nothing when Washington bullies its European allies , lest it bully them even more or , worse , lose interest . However , in recent weeks , Europe has made its voice heard . After Kabul , in order to learn the lessons and move towards European defence , as the President of the Commission has proposed here , but also after the bad way done by Australia and the United States , not only to France , but also to Europe as a whole . What we need today is to strengthen the European pillar of NATO and build a credible European defence . The United States is now in favor of it . It is up to us to stop closing our eyes and blocking our ears . "
     ]
    }
   ],
   "source": [
    "raw1_45 = 'Nathalie Loiseau (Renew). – Mr President, Mr High Representative, in its report to the United States, the Europe of 27 too often resembles the three little monkeys of the Chinese tradition. Above all, hear nothing when three American presidents in a row, Barack Obama, Donald Trump and Joe Biden, talk to us about a pivot to Asia. Above all, see nothing when the United States leaves Afghanistan because it is tired of being the policeman of the world. Above all, say nothing when Washington bullies its European allies, lest it bully them even more or, worse, lose interest. However, in recent weeks, Europe has made its voice heard. After Kabul, in order to learn the lessons and move towards European defence, as the President of the Commission has proposed here, but also after the bad way done by Australia and the United States, not only to France , but also to Europe as a whole. What we need today is to strengthen the European pillar of NATO and build a credible European defence. The United States is now in favor of it. It is up to us to stop closing our eyes and blocking our ears.'\n",
    "tokens1_45 = word_tokenize(raw1_45)\n",
    "for word in tokens1_45:\n",
    "    print(word, end=' ')"
   ]
  },
  {
   "cell_type": "code",
   "execution_count": 168,
   "metadata": {},
   "outputs": [
    {
     "name": "stdout",
     "output_type": "stream",
     "text": [
      "Rasmus Andresen ( Verts/ALE ) . – Mr President , big tech companies have grown into such powerful giants that they are increasingly threatening our entire democracy . Yesterday , with Facebook , Instagram and WhatsApp down , we experienced how dependent our online communication is on Mark Zuckerberg . Tech monopolies are detrimental to fair competition . Platforms like Amazon and Google are exploiting data from competitors to sell their own products at unfair prices . This is not a conflict of the EU against the US , it ’ s about a small , rich tech élite who wants to control our economies and societies . Structural problems require structural solutions . We have to break up Big Tech . Both in the US and in the EU , civil society and Members of Parliament are raising their voices . I call on our US colleagues to join this fight alongside the European Parliament . "
     ]
    }
   ],
   "source": [
    "raw1_46 = 'Rasmus Andresen (Verts/ALE). – Mr President, big tech companies have grown into such powerful giants that they are increasingly threatening our entire democracy. Yesterday, with Facebook, Instagram and WhatsApp down, we experienced how dependent our online communication is on Mark Zuckerberg. Tech monopolies are detrimental to fair competition. Platforms like Amazon and Google are exploiting data from competitors to sell their own products at unfair prices. This is not a conflict of the EU against the US, it’s about a small, rich tech élite who wants to control our economies and societies. Structural problems require structural solutions. We have to break up Big Tech. Both in the US and in the EU, civil society and Members of Parliament are raising their voices. I call on our US colleagues to join this fight alongside the European Parliament.'\n",
    "tokens1_46 = word_tokenize(raw1_46)\n",
    "for word in tokens1_46:\n",
    "    print(word, end=' ')"
   ]
  },
  {
   "cell_type": "code",
   "execution_count": 169,
   "metadata": {},
   "outputs": [
    {
     "name": "stdout",
     "output_type": "stream",
     "text": [
      "Ladislav Ilčić ( ECR ) . - Honorable President , colleagues , strengthening transatlantic ties is important for Europe and for the United States , and that is why I support this report . However , optimism and the rapporteur for the arrival of the new Biden administration reminds me of the arrival of Barack Obama on the reckless and undeserved award of the Nobel Prize and unfulfilled expectations , and I remind you that TTIP failed at the time of Barack Obama . President Biden has made some very good decisions for the part of Europe I come from , but his overall foreign policy has not been very successful so far . The biggest problem with this policy , as well as the policy of European globalists , is that they want to impose their worldview on other nations , and that is undemocratic , and in the end it is always unsuccessful . In any case , the European Union should not favor any American administration . It is not up to us to assess the will of American citizens , but to adapt to it and find a common language with every American administration . "
     ]
    }
   ],
   "source": [
    "raw1_47 = 'Ladislav Ilčić (ECR). - Honorable President, colleagues, strengthening transatlantic ties is important for Europe and for the United States, and that is why I support this report. However, optimism and the rapporteur for the arrival of the new Biden administration reminds me of the arrival of Barack Obama on the reckless and undeserved award of the Nobel Prize and unfulfilled expectations, and I remind you that TTIP failed at the time of Barack Obama. President Biden has made some very good decisions for the part of Europe I come from, but his overall foreign policy has not been very successful so far. The biggest problem with this policy, as well as the policy of European globalists, is that they want to impose their worldview on other nations, and that is undemocratic, and in the end it is always unsuccessful. In any case, the European Union should not favor any American administration. It is not up to us to assess the will of American citizens, but to adapt to it and find a common language with every American administration.'\n",
    "tokens1_47 = word_tokenize(raw1_47)\n",
    "for word in tokens1_47:\n",
    "    print(word, end=' ')"
   ]
  },
  {
   "cell_type": "code",
   "execution_count": 170,
   "metadata": {},
   "outputs": [
    {
     "name": "stdout",
     "output_type": "stream",
     "text": [
      "Christian Ehler ( PPE ) . – Mr President , ladies and gentlemen , what you can count on if you talk about the European-American lessons in this House is the hypocrisy of the populists in this House . The Left is protecting the European defence industry in the Australian issue and fighting any defence budget , any defence industries in Europe . The Right is giving up any kind of solidarity when French companies and France are losing a contract to which they have a right . It is hypocrisy and anti-Americanism , and it serves just two purposes . Let ’ s turn now a little bit to the substance . Especially in regard to the newly established cooperation , the Trade and Technology Council , we see an opportunity that could yield massive benefits for both the EU as well as the US , and we will remove barriers from trade and investment . However , the positive aspects of TTC affect not only our bilateral relations , the TTC will also allow us to set joint standards . It ’ s important to understand that , if we don ’ t join forces with the Americans , Chinese standards will rule . We won ’ t see a war , but we will see the domination and the will of the Chinese to establish a rule on that , so we should work together . We have the potential to work together , and that ’ s an ambition we should all share . "
     ]
    }
   ],
   "source": [
    "raw1_48 = 'Christian Ehler (PPE). – Mr President, ladies and gentlemen, what you can count on if you talk about the European-American lessons in this House is the hypocrisy of the populists in this House. The Left is protecting the European defence industry in the Australian issue and fighting any defence budget, any defence industries in Europe. The Right is giving up any kind of solidarity when French companies and France are losing a contract to which they have a right. It is hypocrisy and anti-Americanism, and it serves just two purposes. Let’s turn now a little bit to the substance. Especially in regard to the newly established cooperation, the Trade and Technology Council, we see an opportunity that could yield massive benefits for both the EU as well as the US, and we will remove barriers from trade and investment. However, the positive aspects of TTC affect not only our bilateral relations, the TTC will also allow us to set joint standards. It’s important to understand that, if we don’t join forces with the Americans, Chinese standards will rule. We won’t see a war, but we will see the domination and the will of the Chinese to establish a rule on that, so we should work together. We have the potential to work together, and that’s an ambition we should all share.'\n",
    "tokens1_48 = word_tokenize(raw1_48)\n",
    "for word in tokens1_48:\n",
    "    print(word, end=' ')"
   ]
  },
  {
   "cell_type": "code",
   "execution_count": 171,
   "metadata": {},
   "outputs": [
    {
     "name": "stdout",
     "output_type": "stream",
     "text": [
      "Jytte Guteland ( S & D ) . - Mr President ! The EU and the US have gone ahead of the rest of the world with goals of climate neutrality by 2050 . President Biden has rejoined the US to the Paris Agreement . Together , the EU and the US make up a fifth of emissions and a third of the world economy . We have a historical responsibility for emissions , and together we can and must make a difference for the climate . At the same time , the United States has a long way to go . The infrastructure package of Biden contains many climate initiatives , but the legislation is still not enough . It is time for the United States to start pricing emissions , especially in industry . It should be the next project in the US green deal , Green deal . Our biggest security policy threat is the climate crisis , which we are experiencing right now . It incites war , terror and conflict . That is why we must climate-climate foreign policy together with our transatlantic friends . "
     ]
    }
   ],
   "source": [
    "raw1_49 = 'Jytte Guteland (S&D). - Mr President! The EU and the US have gone ahead of the rest of the world with goals of climate neutrality by 2050. President Biden has rejoined the US to the Paris Agreement. Together, the EU and the US make up a fifth of emissions and a third of the world economy. We have a historical responsibility for emissions, and together we can and must make a difference for the climate. At the same time, the United States has a long way to go. The infrastructure package of Biden contains many climate initiatives, but the legislation is still not enough. It is time for the United States to start pricing emissions, especially in industry. It should be the next project in the US green deal, Green deal. Our biggest security policy threat is the climate crisis, which we are experiencing right now. It incites war, terror and conflict. That is why we must climate-climate foreign policy together with our transatlantic friends.'\n",
    "tokens1_49 = word_tokenize(raw1_49)\n",
    "for word in tokens1_49:\n",
    "    print(word, end=' ')"
   ]
  },
  {
   "cell_type": "code",
   "execution_count": 172,
   "metadata": {},
   "outputs": [
    {
     "name": "stdout",
     "output_type": "stream",
     "text": [
      "Karin Karlsbro ( Renew ) . - Mr President , ladies and gentlemen , High Representative ! Free rule-based trade is a prerequisite for growth , prosperity , development and innovation , but is also a tool for securing peace and security . When we look at the world map of trade policy , it becomes clear that countries that share democratic values ​​and the view of freedom must cooperate , not oppose each other . It is in the common interest of the EU and the US to work together for a functioning WTO , a more sustainable trade that integrates carbon pricing , and to shape standards and consensus on technology development and data transmission . We must , together , strengthen human rights in trade policy and reach out to other democracies , such as Taiwan . `` Trade needs democracy , '' said the US Secretary of Commerce when she visited us this summer . So true , but I would also like to say that democracy needs trade . Now we expect the United States to live up to our and the high expectations of the outside world . Europe , the EU , is ready . "
     ]
    }
   ],
   "source": [
    "raw1_50 = 'Karin Karlsbro (Renew). - Mr President, ladies and gentlemen, High Representative! Free rule-based trade is a prerequisite for growth, prosperity, development and innovation, but is also a tool for securing peace and security. When we look at the world map of trade policy, it becomes clear that countries that share democratic values ​​and the view of freedom must cooperate, not oppose each other. It is in the common interest of the EU and the US to work together for a functioning WTO, a more sustainable trade that integrates carbon pricing, and to shape standards and consensus on technology development and data transmission. We must, together, strengthen human rights in trade policy and reach out to other democracies, such as Taiwan. \"Trade needs democracy,\" said the US Secretary of Commerce when she visited us this summer. So true, but I would also like to say that democracy needs trade. Now we expect the United States to live up to our and the high expectations of the outside world. Europe, the EU, is ready.'\n",
    "tokens1_50 = word_tokenize(raw1_50)\n",
    "for word in tokens1_50:\n",
    "    print(word, end=' ')"
   ]
  },
  {
   "cell_type": "code",
   "execution_count": 173,
   "metadata": {},
   "outputs": [
    {
     "name": "stdout",
     "output_type": "stream",
     "text": [
      "Elżbieta Rafalska ( ECR ) . - Mr Chairman ! The European Union and NATO are the pillars of transatlantic cooperation . The involvement of the United States had a positive impact on the enlargement of the Union and NATO , increasing the security and prosperity of Europe . The European Union and the United States continue to tackle international challenges together , such as stopping Russian aggression in Ukraine or supporting Moldova and the Western Balkans . The June European Union-United States summit brought tangible benefits . It was evidence of a certain openness and willingness to cooperate between the new administration and the European Union . On September 20 , the US borders were finally opened to vaccinated EU citizens . We are committed to maintaining good relations with the United States to avert the COVID-19 pandemic , protect the environment , strengthen trade , investment , and technological cooperation . Let us remember , however , that actions such as the hasty and ineffective withdrawal of troops from Afghanistan , maintaining customs duties on steel and aluminum exports from the European Union puts into question the equality of the Euro-Atlantic partnership . "
     ]
    }
   ],
   "source": [
    "raw1_51 = 'Elżbieta Rafalska (ECR). - Mr Chairman! The European Union and NATO are the pillars of transatlantic cooperation. The involvement of the United States had a positive impact on the enlargement of the Union and NATO, increasing the security and prosperity of Europe. The European Union and the United States continue to tackle international challenges together, such as stopping Russian aggression in Ukraine or supporting Moldova and the Western Balkans. The June European Union-United States summit brought tangible benefits. It was evidence of a certain openness and willingness to cooperate between the new administration and the European Union. On September 20, the US borders were finally opened to vaccinated EU citizens. We are committed to maintaining good relations with the United States to avert the COVID-19 pandemic, protect the environment, strengthen trade, investment, and technological cooperation. Let us remember, however, that actions such as the hasty and ineffective withdrawal of troops from Afghanistan, maintaining customs duties on steel and aluminum exports from the European Union puts into question the equality of the Euro-Atlantic partnership.'\n",
    "tokens1_51 = word_tokenize(raw1_51)\n",
    "for word in tokens1_51:\n",
    "    print(word, end=' ')"
   ]
  },
  {
   "cell_type": "code",
   "execution_count": 174,
   "metadata": {},
   "outputs": [
    {
     "name": "stdout",
     "output_type": "stream",
     "text": [
      "Danuta Maria Hübner ( PPE ) . – Mr President , I would like to comment on the responsibilities of the European Union and the US that we share at the global regulatory space . In the ongoing international technological race , it is our joint duty , with like-minded partners , to fly the flag of our democratic values and ethics while shaping common regulatory spaces . The World Trade Organization ( WTO ) rulebook not only needs to reflect the world that we currently live in , but it also needs to adjust to the future challenges that await us . That is why finding a way to cooperate on reforming the WTO should be amongst our most urgent priorities . Integrating more open and inclusive plurilateral agreements into the multilateral architecture to ensure progress in areas not mature enough for full membership is a way to go . I agree with Executive Vice-President Dombrovskis that a world without a functioning WTO , with a fragmented trading system , would be a worrisome world . We stand in a rare window of opportunity where the European Union and the US can set the foundations of the rules for tomorrow ’ s challenges . Let ’ s seize it . "
     ]
    }
   ],
   "source": [
    "raw1_52 = 'Danuta Maria Hübner (PPE). – Mr President, I would like to comment on the responsibilities of the European Union and the US that we share at the global regulatory space. In the ongoing international technological race, it is our joint duty, with like-minded partners, to fly the flag of our democratic values and ethics while shaping common regulatory spaces. The World Trade Organization (WTO) rulebook not only needs to reflect the world that we currently live in, but it also needs to adjust to the future challenges that await us. That is why finding a way to cooperate on reforming the WTO should be amongst our most urgent priorities. Integrating more open and inclusive plurilateral agreements into the multilateral architecture to ensure progress in areas not mature enough for full membership is a way to go. I agree with Executive Vice-President Dombrovskis that a world without a functioning WTO, with a fragmented trading system, would be a worrisome world. We stand in a rare window of opportunity where the European Union and the US can set the foundations of the rules for tomorrow’s challenges. Let’s seize it.'\n",
    "tokens1_52 = word_tokenize(raw1_52)\n",
    "for word in tokens1_52:\n",
    "    print(word, end=' ')"
   ]
  },
  {
   "cell_type": "code",
   "execution_count": 175,
   "metadata": {},
   "outputs": [
    {
     "name": "stdout",
     "output_type": "stream",
     "text": [
      "Thijs Reuten ( S & D ) . – Mr President , the EU—US Transatlantic Partnership – the renewed reinforced partnership – is opening a new chapter of closer bilateral relations following the election of Joe Biden . The EU and the US are the bedrock of the rules—based international order and champions of multilateralism , democracy and human rights . But we should also acknowledge the differences between the EU and the US , and that is only healthy in a long—standing friendship . A clear , self-confident strategic vision is then necessary . In that sense , the drafting of the EU Strategic Compass is an important step forward , and it should be accompanied with a more united , decisive foreign policy decision—making . An effective transatlantic relationship should focus on what we can do together – what we can do together as two strong partners sharing so much more than what divides us . "
     ]
    }
   ],
   "source": [
    "raw1_53 = 'Thijs Reuten (S&D). – Mr President, the EU—US Transatlantic Partnership – the renewed reinforced partnership – is opening a new chapter of closer bilateral relations following the election of Joe Biden. The EU and the US are the bedrock of the rules—based international order and champions of multilateralism, democracy and human rights. But we should also acknowledge the differences between the EU and the US, and that is only healthy in a long—standing friendship. A clear, self-confident strategic vision is then necessary. In that sense, the drafting of the EU Strategic Compass is an important step forward, and it should be accompanied with a more united, decisive foreign policy decision—making. An effective transatlantic relationship should focus on what we can do together – what we can do together as two strong partners sharing so much more than what divides us.'\n",
    "tokens1_53 = word_tokenize(raw1_53)\n",
    "for word in tokens1_53:\n",
    "    print(word, end=' ')"
   ]
  },
  {
   "cell_type": "code",
   "execution_count": 176,
   "metadata": {},
   "outputs": [
    {
     "name": "stdout",
     "output_type": "stream",
     "text": [
      "Jose Ramon Bauza Diaz ( Renew ) . – Mr President , Mr Borrell , in international politics there are few certainties , but this is one of them : the world is a more prosperous and freer place the stronger the alliance between the United States and Europe . When the United States , the United Kingdom and Australia sealed one of the most important alliances in recent decades , they did so behind the back of the European Union . Staying out of the alliances that are being formed in the 21st century is the price to pay precisely for being more autonomous . Some in Europe believe that politics can be separated from business with China , and that is simply impossible , precisely because others have tried before us . This is the case of the Australians , and their solutions and their rapprochement with the United States show that equidistance with China is simply impossible . Mr Borrell , we should learn from experience and results and examples , instead of questioning the decisions of our partners . The Euro-Atlantic alliance has upheld the cause of freedom in the world for seventy years and its duty is precisely to reinforce that pillar , not weaken it , not weaken what we have already built together — I repeat — for almost seventy years . "
     ]
    }
   ],
   "source": [
    "raw1_54 = 'Jose Ramon Bauza Diaz (Renew). – Mr President, Mr Borrell, in international politics there are few certainties, but this is one of them: the world is a more prosperous and freer place the stronger the alliance between the United States and Europe. When the United States, the United Kingdom and Australia sealed one of the most important alliances in recent decades, they did so behind the back of the European Union. Staying out of the alliances that are being formed in the 21st century is the price to pay precisely for being more autonomous. Some in Europe believe that politics can be separated from business with China, and that is simply impossible, precisely because others have tried before us. This is the case of the Australians, and their solutions and their rapprochement with the United States show that equidistance with China is simply impossible. Mr Borrell, we should learn from experience and results and examples, instead of questioning the decisions of our partners. The Euro-Atlantic alliance has upheld the cause of freedom in the world for seventy years and its duty is precisely to reinforce that pillar, not weaken it, not weaken what we have already built together — I repeat — for almost seventy years.'\n",
    "tokens1_54 = word_tokenize(raw1_54)\n",
    "for word in tokens1_54:\n",
    "    print(word, end=' ')"
   ]
  },
  {
   "cell_type": "code",
   "execution_count": 177,
   "metadata": {},
   "outputs": [
    {
     "name": "stdout",
     "output_type": "stream",
     "text": [
      "Vangelis Meimarakis ( PPE ) . - Mr President , there is no doubt that the change of presidency in the United States of America marked a new , much more positive beginning in Euro-Atlantic relations . After a period of systematic withdrawal of America from emblematic international organizations and agreements , the election of President Biden gave a new impetus to US foreign policy , which was also evident during his visit to Brussels . However , the recent report of the European Parliament on EU-US relations has highlighted two key issues that concern the European Union : the withdrawal of US troops from Afghanistan and the Taliban seizure of power . on the other hand , the sudden US-Australia-UK agreement , which recalled something we have repeatedly discussed in this Chamber , the need for a truly unified and coordinated European foreign policy , as well as the need to develop European autonomous defense expansion . . So as legislators we have to learn from History , otherwise we are doomed to repeat it negatively . And this situation , ladies and gentlemen , is truly historic , as is our responsibility to move from words to deeds . "
     ]
    }
   ],
   "source": [
    "raw1_55 = 'Vangelis Meimarakis (PPE). - Mr President, there is no doubt that the change of presidency in the United States of America marked a new, much more positive beginning in Euro-Atlantic relations. After a period of systematic withdrawal of America from emblematic international organizations and agreements, the election of President Biden gave a new impetus to US foreign policy, which was also evident during his visit to Brussels. However, the recent report of the European Parliament on EU-US relations has highlighted two key issues that concern the European Union: the withdrawal of US troops from Afghanistan and the Taliban seizure of power. on the other hand, the sudden US-Australia-UK agreement, which recalled something we have repeatedly discussed in this Chamber, the need for a truly unified and coordinated European foreign policy, as well as the need to develop European autonomous defense expansion. . So as legislators we have to learn from History, otherwise we are doomed to repeat it negatively. And this situation, ladies and gentlemen, is truly historic, as is our responsibility to move from words to deeds.'\n",
    "tokens1_55 = word_tokenize(raw1_55)\n",
    "for word in tokens1_55:\n",
    "    print(word, end=' ')"
   ]
  },
  {
   "cell_type": "code",
   "execution_count": 178,
   "metadata": {},
   "outputs": [
    {
     "name": "stdout",
     "output_type": "stream",
     "text": [
      "Pedro Marques ( S & D ) . – Mr President , let me first state that I fully concur with the High Representative : there can be no doubt that the US remains the closest and most important strategic partner of the EU . We see several of President Biden ’ s steps as very positive : from the commitment to multilateralism to the rejoining of the Paris Agreement and the World Health Organization , to the global agreement on corporate tax under the OECD . However , as much as we point to the positive , we must not take a blind eye to other actions , from the unilateral and non—coordinated withdrawal from Afghanistan , to the Australia–United Kingdom–United States ( AUKUS ) agreement in the South Pacific . The US acted alone on this , and these are matters of regional and international security that affect us directly . This trend builds from previous presidencies and was at its peak with Mr Trump . What the US shows us is not that they are not interested in the long alliance with the EU ; it is just that they do not depend on the EU . They have their own strategic autonomy . The EU must also have its own . We need to stand prepared to defend our own positions . Our shared values with the US do not always converge or translate into common interests . The EU must stand united , speak in one voice and be able to stand for its values and interests in the global arena . "
     ]
    }
   ],
   "source": [
    "raw1_56 = 'Pedro Marques (S&D). – Mr President, let me first state that I fully concur with the High Representative: there can be no doubt that the US remains the closest and most important strategic partner of the EU. We see several of President Biden’s steps as very positive: from the commitment to multilateralism to the rejoining of the Paris Agreement and the World Health Organization, to the global agreement on corporate tax under the OECD. However, as much as we point to the positive, we must not take a blind eye to other actions, from the unilateral and non—coordinated withdrawal from Afghanistan, to the Australia–United Kingdom–United States (AUKUS) agreement in the South Pacific. The US acted alone on this, and these are matters of regional and international security that affect us directly. This trend builds from previous presidencies and was at its peak with Mr Trump. What the US shows us is not that they are not interested in the long alliance with the EU; it is just that they do not depend on the EU. They have their own strategic autonomy. The EU must also have its own. We need to stand prepared to defend our own positions. Our shared values with the US do not always converge or translate into common interests. The EU must stand united, speak in one voice and be able to stand for its values and interests in the global arena.'\n",
    "tokens1_56 = word_tokenize(raw1_56)\n",
    "for word in tokens1_56:\n",
    "    print(word, end=' ')"
   ]
  },
  {
   "cell_type": "code",
   "execution_count": 179,
   "metadata": {},
   "outputs": [
    {
     "name": "stdout",
     "output_type": "stream",
     "text": [
      "Marie-Pierre Vedrenne ( Renew ) . – Mr President , Commissioner , provisional agreement on the Airbus-Boeing dispute , return to the negotiating table at the WTO , meeting of the Trade and Technology Council : this would correspond to the American return to cooperation . Certainly , the arrival of Joe Biden remains good news for the climate , for the social , for global challenges ; but the transatlantic dialogue requires creating and maintaining trust for an ambitious and long-term partnership . However , let us not be fooled , the United States remains the United States . Let us take a very clear example , extraterritorial laws . The effect of US sanctions against our companies dates back to the 1990s , long before Donald Trump , and the Democratic administration may not change that . So our objective for us Europeans must be to equip ourselves with a powerful commercial legislative arsenal in order to defend our interests , particularly by countering the unilateral illegal measures of our partners . Let us be clear : our strategic autonomy does not mean confrontation , but cooperation as equals with the same weapons in the service of our interests . "
     ]
    }
   ],
   "source": [
    "raw1_57 = 'Marie-Pierre Vedrenne (Renew). – Mr President, Commissioner, provisional agreement on the Airbus-Boeing dispute, return to the negotiating table at the WTO, meeting of the Trade and Technology Council: this would correspond to the American return to cooperation. Certainly, the arrival of Joe Biden remains good news for the climate, for the social, for global challenges; but the transatlantic dialogue requires creating and maintaining trust for an ambitious and long-term partnership. However, let us not be fooled, the United States remains the United States. Let us take a very clear example, extraterritorial laws. The effect of US sanctions against our companies dates back to the 1990s, long before Donald Trump, and the Democratic administration may not change that. So our objective for us Europeans must be to equip ourselves with a powerful commercial legislative arsenal in order to defend our interests, particularly by countering the unilateral illegal measures of our partners. Let us be clear: our strategic autonomy does not mean confrontation, but cooperation as equals with the same weapons in the service of our interests.'\n",
    "tokens1_57 = word_tokenize(raw1_57)\n",
    "for word in tokens1_57:\n",
    "    print(word, end=' ')"
   ]
  },
  {
   "cell_type": "code",
   "execution_count": 180,
   "metadata": {},
   "outputs": [
    {
     "name": "stdout",
     "output_type": "stream",
     "text": [
      "Angelika Niebler ( EPP ) . – Mr President , Madam Vice-President , dear colleagues ! After the election of Joe Biden , there were high expectations that the transatlantic relationship would improve quickly and efficiently . But unfortunately these expectations have not been fulfilled so far : AUKUS , uncoordinated withdrawal from Afghanistan , no progress in reducing tariffs . It is true that the USA is our most important strategic partner . But partnership requires trust . And I think that both we in the European Union and the USA have a role to play here . We have common interests and we should concentrate on these , especially with regard to cooperation in the newly created Technology and Trade Council . For example in semiconductor production : We have gaps in the supply chains . I think it is very , very important to work together here to close the gaps in the supply chain and ramp up production . Example of digitization : creating new rules together - for AI , for the platform economy and the like . And of course our relationship with China : I think we have to work much more closely together strategically there too . Last but not least – Mr Sikorski mentioned it – I think now is the time , the hour , to work on a common European defense union . "
     ]
    }
   ],
   "source": [
    "raw1_58 = 'Angelika Niebler (EPP). – Mr President, Madam Vice-President, dear colleagues! After the election of Joe Biden, there were high expectations that the transatlantic relationship would improve quickly and efficiently. But unfortunately these expectations have not been fulfilled so far: AUKUS, uncoordinated withdrawal from Afghanistan, no progress in reducing tariffs. It is true that the USA is our most important strategic partner. But partnership requires trust. And I think that both we in the European Union and the USA have a role to play here. We have common interests and we should concentrate on these, especially with regard to cooperation in the newly created Technology and Trade Council. For example in semiconductor production: We have gaps in the supply chains. I think it is very, very important to work together here to close the gaps in the supply chain and ramp up production. Example of digitization: creating new rules together - for AI, for the platform economy and the like. And of course our relationship with China: I think we have to work much more closely together strategically there too. Last but not least – Mr Sikorski mentioned it – I think now is the time, the hour, to work on a common European defense union.'\n",
    "tokens1_58 = word_tokenize(raw1_58)\n",
    "for word in tokens1_58:\n",
    "    print(word, end=' ')"
   ]
  },
  {
   "cell_type": "code",
   "execution_count": 181,
   "metadata": {},
   "outputs": [
    {
     "name": "stdout",
     "output_type": "stream",
     "text": [
      "Brando Benifei ( S & D ) . - ( IT ) Mr President , ladies and gentlemen , with the election of Biden the United States has turned the page , abandoning unilateralism and bringing the discussion back to the multilateral level , albeit with an uneven attitude , let us think , for example , of the Afghan affair , which relaunches the need of a European strategic and defense autonomy . However , there are many issues to work on together . I am thinking of climate neutrality by 2050 , a fundamental point on which to re-establish our transatlantic relationship . Then I think of the issue of rights , the recent law against abortion passed in the state of Texas , which represents a step backwards for the freedom of women , an issue on which in Europe too we are carrying out work and a battle . Then I think of the digital issue , the regulation of artificial intelligence and the transatlantic flow of data , a truly crucial and complex issue . Here , we have a lot , a lot to do and I hope that the European Parliament and the American Congress can work together to design a more sustainable and fairer future for our planet . "
     ]
    }
   ],
   "source": [
    "raw1_59 = 'Brando Benifei (S&D). - (IT) Mr President, ladies and gentlemen, with the election of Biden the United States has turned the page, abandoning unilateralism and bringing the discussion back to the multilateral level, albeit with an uneven attitude, let us think, for example, of the Afghan affair, which relaunches the need of a European strategic and defense autonomy. However, there are many issues to work on together. I am thinking of climate neutrality by 2050, a fundamental point on which to re-establish our transatlantic relationship. Then I think of the issue of rights, the recent law against abortion passed in the state of Texas, which represents a step backwards for the freedom of women, an issue on which in Europe too we are carrying out work and a battle. Then I think of the digital issue, the regulation of artificial intelligence and the transatlantic flow of data, a truly crucial and complex issue. Here, we have a lot, a lot to do and I hope that the European Parliament and the American Congress can work together to design a more sustainable and fairer future for our planet.'\n",
    "tokens1_59 = word_tokenize(raw1_59)\n",
    "for word in tokens1_59:\n",
    "    print(word, end=' ')"
   ]
  },
  {
   "cell_type": "code",
   "execution_count": 182,
   "metadata": {},
   "outputs": [
    {
     "name": "stdout",
     "output_type": "stream",
     "text": [
      "Bernard Guetta ( Renew ) . – ( FR ) Mr President , ladies and gentlemen , until very recently , under the previous term of office , the two words `` European defence '' were taboos . Until very recently , the words “ strategic autonomy ” were simply unknown to this assembly . Today we are adopting a report in which it is said that `` the European Union must pursue strategic autonomy in the area of ​​defense and economic relations '' and that `` the Atlantic Alliance must become an alliance of equal partners '' . So let us measure how far we have come . Let us realize that there is a real epistemological break in the history of the European Union and that we are experiencing it . After the speech by the President of the Commission , this report marks the opening of year I of European defence , which is absolutely necessary and which is the first stage in the affirmation of a European player on the international scene . . "
     ]
    }
   ],
   "source": [
    "raw1_60 = 'Bernard Guetta (Renew). – (FR) Mr President, ladies and gentlemen, until very recently, under the previous term of office, the two words \"European defence\" were taboos. Until very recently, the words “strategic autonomy” were simply unknown to this assembly. Today we are adopting a report in which it is said that \"the European Union must pursue strategic autonomy in the area of ​​defense and economic relations\" and that \"the Atlantic Alliance must become an alliance of equal partners\" . So let us measure how far we have come. Let us realize that there is a real epistemological break in the history of the European Union and that we are experiencing it. After the speech by the President of the Commission, this report marks the opening of year I of European defence, which is absolutely necessary and which is the first stage in the affirmation of a European player on the international scene. .'\n",
    "tokens1_60 = word_tokenize(raw1_60)\n",
    "for word in tokens1_60:\n",
    "    print(word, end=' ')"
   ]
  },
  {
   "cell_type": "code",
   "execution_count": 183,
   "metadata": {},
   "outputs": [
    {
     "name": "stdout",
     "output_type": "stream",
     "text": [
      "Alexander Alexandrov Yordanov ( PPE ) . - Mr President , today is a good day for Europe , because we are discussing a strategy for our relations with the United States . The future of the free world does not presuppose the existence of strategic autonomies in it . We and the United States must continue to be strategically dependent on each other and to expand and deepen that dependence . This worries our opponents the most . The strategic unity between the European Union and the United States is for the good of human civilization . We need to increase the role of the NATO as the basis of our collective defense . Only with a common strategy and coordinated policy can we defend global democracy and fight against authoritarian and dictatorial regimes . "
     ]
    }
   ],
   "source": [
    "raw1_61 = 'Alexander Alexandrov Yordanov (PPE). - Mr President, today is a good day for Europe, because we are discussing a strategy for our relations with the United States. The future of the free world does not presuppose the existence of strategic autonomies in it. We and the United States must continue to be strategically dependent on each other and to expand and deepen that dependence. This worries our opponents the most. The strategic unity between the European Union and the United States is for the good of human civilization. We need to increase the role of the NATO as the basis of our collective defense. Only with a common strategy and coordinated policy can we defend global democracy and fight against authoritarian and dictatorial regimes.'\n",
    "tokens1_61 = word_tokenize(raw1_61)\n",
    "for word in tokens1_61:\n",
    "    print(word, end=' ')"
   ]
  },
  {
   "cell_type": "code",
   "execution_count": 184,
   "metadata": {},
   "outputs": [
    {
     "name": "stdout",
     "output_type": "stream",
     "text": [
      "Javi Lopez ( S & D ) . – Mr President , Mr Vice President , Madam Commissioner , our relations with the United States are a central pillar for our security , for the defense of democracies in the world , for articulating multilateral spaces and for regulating trade and technology . And any relationship , for it to work , must be based on mutual respect , autonomy and trust , mutual trust . And also any relationship , for it to work , has to be based on the recognition of reality . And the reality is that the United States is making a strategic decision to withdraw from Central Asia and the Middle East ; that , at the same time , they are articulating a network of alliances in matters of security beyond NATO : the Five Eyes , the AUKUS , the Quad , to focus on what is their main interest : the containment of China . And that they are making these important decisions without us . All this should lead us to strengthen the relationship we have , without a doubt , with the United States , but also push us , of course , to have our own capabilities , our own alliances and , obviously , our own positions in the world to defend our interests and our values . "
     ]
    }
   ],
   "source": [
    "raw1_62 = 'Javi Lopez (S&D). – Mr President, Mr Vice President, Madam Commissioner, our relations with the United States are a central pillar for our security, for the defense of democracies in the world, for articulating multilateral spaces and for regulating trade and technology. And any relationship, for it to work, must be based on mutual respect, autonomy and trust, mutual trust. And also any relationship, for it to work, has to be based on the recognition of reality. And the reality is that the United States is making a strategic decision to withdraw from Central Asia and the Middle East; that, at the same time, they are articulating a network of alliances in matters of security beyond NATO: the Five Eyes, the AUKUS, the Quad, to focus on what is their main interest: the containment of China. And that they are making these important decisions without us. All this should lead us to strengthen the relationship we have, without a doubt, with the United States, but also push us, of course, to have our own capabilities, our own alliances and, obviously, our own positions in the world to defend our interests and our values.'\n",
    "tokens1_62 = word_tokenize(raw1_62)\n",
    "for word in tokens1_62:\n",
    "    print(word, end=' ')"
   ]
  },
  {
   "cell_type": "code",
   "execution_count": 185,
   "metadata": {},
   "outputs": [
    {
     "name": "stdout",
     "output_type": "stream",
     "text": [
      "Svenja Hahn ( Renew ) . - Mister President ! I am a transatlantic and believe in the power of free trade . But since the failure of TTIP , our trade policy relationship has been difficult . The solution of Airbus-Boeing punitive tariffs is a start . But that the protectionist US tariffs on steel and aluminum are still in place is absurd . The EU is not a national security risk for the USA , and that has to be said quite clearly ! It is so good to finally see cooperation again like with the Trade and Technology Council . A look at the autocracies of this world shows how important it is that democracies set the framework for our digital future . Because trade is increasingly becoming a foreign policy . We must not forget that trade should above all enable people worldwide to advance , prosper and participate . For this to happen , the transatlantic friendship must become a trade friendship again . We can no longer be satisfied with patchwork . Our goal must again be a free trade agreement . "
     ]
    }
   ],
   "source": [
    "raw1_63 = 'Svenja Hahn (Renew). - Mister President! I am a transatlantic and believe in the power of free trade. But since the failure of TTIP, our trade policy relationship has been difficult. The solution of Airbus-Boeing punitive tariffs is a start. But that the protectionist US tariffs on steel and aluminum are still in place is absurd. The EU is not a national security risk for the USA, and that has to be said quite clearly! It is so good to finally see cooperation again like with the Trade and Technology Council. A look at the autocracies of this world shows how important it is that democracies set the framework for our digital future. Because trade is increasingly becoming a foreign policy. We must not forget that trade should above all enable people worldwide to advance, prosper and participate. For this to happen, the transatlantic friendship must become a trade friendship again. We can no longer be satisfied with patchwork. Our goal must again be a free trade agreement.'\n",
    "tokens1_63 = word_tokenize(raw1_63)\n",
    "for word in tokens1_63:\n",
    "    print(word, end=' ')"
   ]
  },
  {
   "cell_type": "code",
   "execution_count": 186,
   "metadata": {},
   "outputs": [
    {
     "name": "stdout",
     "output_type": "stream",
     "text": [
      "Massimiliano Salini ( PPE ) . - ( IT ) Mr President , ladies and gentlemen , we have two points of observation to analyze what is happening in relations between Europe and the United States . The first is commercial . Eurostat tells us that , for the first time in 2020 , relations with China are superior to relations with the United States , but with one difference : Europe exports much more to the United States than it exports to China . So it has more advantage in the relationship with the United States . The second point is the defense , mentioned several times . In Afghanistan we have had evidence of a shared error , so much so that the reaction of the United States has been to question the relationship with us through the Aukus agreement with the United Kingdom and Australia . But let us not delude ourselves : our autonomy will not derive from a further separation from the United States . Our autonomy , especially in foreign and defense policy , consists of a mature membership of NATO , not of a division . We trust in the traditional family that binds the European Union and the United States of America : this is the West . "
     ]
    }
   ],
   "source": [
    "raw1_64 = 'Massimiliano Salini (PPE). - (IT) Mr President, ladies and gentlemen, we have two points of observation to analyze what is happening in relations between Europe and the United States. The first is commercial. Eurostat tells us that, for the first time in 2020, relations with China are superior to relations with the United States, but with one difference: Europe exports much more to the United States than it exports to China. So it has more advantage in the relationship with the United States. The second point is the defense, mentioned several times. In Afghanistan we have had evidence of a shared error, so much so that the reaction of the United States has been to question the relationship with us through the Aukus agreement with the United Kingdom and Australia. But let us not delude ourselves: our autonomy will not derive from a further separation from the United States. Our autonomy, especially in foreign and defense policy, consists of a mature membership of NATO, not of a division. We trust in the traditional family that binds the European Union and the United States of America: this is the West.'\n",
    "tokens1_64 = word_tokenize(raw1_64)\n",
    "for word in tokens1_64:\n",
    "    print(word, end=' ')"
   ]
  },
  {
   "cell_type": "code",
   "execution_count": 187,
   "metadata": {},
   "outputs": [
    {
     "name": "stdout",
     "output_type": "stream",
     "text": [
      "Alfred Sant ( S & D ) . – Mr President , ( inaudible ) important report . The EU—US relationship follows from a historic alliance between the US and the European nations . It has contributed to peace and prosperity on both sides and in the world at large . Now it needs to be rewired . The US and the EU have a different institutional political profile and different competences . Their relationship is not like a marriage , and it can not be symmetrical , nor purely reciprocal . But problems of trust and reliability are becoming paramount . To resolve them , we need to decide on the method and on what compass the renewal of the EU—US partnership should be based . On shared values , on converging interests or on both ? But is on both sensible ? If I understand the resolution correctly , for instance , would it not lead the EU to blindly side with the US in some race with China , and could it hustle the EU into some premature defence union ? Given the present nature and competences of the EU , would it not be better to focus first on the many converging interests that exist between the EU and the US to renew the relationship between the two ? "
     ]
    }
   ],
   "source": [
    "raw1_65 = 'Alfred Sant (S&D). – Mr President, (inaudible) important report. The EU—US relationship follows from a historic alliance between the US and the European nations. It has contributed to peace and prosperity on both sides and in the world at large. Now it needs to be rewired. The US and the EU have a different institutional political profile and different competences. Their relationship is not like a marriage, and it cannot be symmetrical, nor purely reciprocal. But problems of trust and reliability are becoming paramount. To resolve them, we need to decide on the method and on what compass the renewal of the EU—US partnership should be based. On shared values, on converging interests or on both? But is on both sensible? If I understand the resolution correctly, for instance, would it not lead the EU to blindly side with the US in some race with China, and could it hustle the EU into some premature defence union? Given the present nature and competences of the EU, would it not be better to focus first on the many converging interests that exist between the EU and the US to renew the relationship between the two?'\n",
    "tokens1_65 = word_tokenize(raw1_65)\n",
    "for word in tokens1_65:\n",
    "    print(word, end=' ')"
   ]
  },
  {
   "cell_type": "code",
   "execution_count": 188,
   "metadata": {},
   "outputs": [
    {
     "name": "stdout",
     "output_type": "stream",
     "text": [
      "Billy Kelleher ( Renew ) . – Mr President , I welcome the opportunity to speak on this particular issue and I point out that there are strong historical bonds between many European nations and the United States of America , so the transatlantic alliance is significant and very important for many reasons . Of course , we should also be mindful of the fact that we do not always agree . Ireland is a small nation , it doesn ’ t always agree with the foreign policy of the United States of America , and it might also not agree with foreign policy of Member States within the European Union . The areas on which we can agree collectively would be the whole area of climate change and the need to address that with the resources of the European Union and the United States of America , ensuring that other large players , like China , Russia , India and other trading blocs come together to ensure that the climate change agenda is kept very much to the fore , and ensuring that there is real and significant action on it to ensure that citizens globally can benefit from a healthy environment in the time ahead . To be very clear : the transatlantic alliance is important , but it must be refocused not on areas of defence , but on areas of climate change and humanitarian aid to poorer regions of the world as well . "
     ]
    }
   ],
   "source": [
    "raw1_66 = 'Billy Kelleher (Renew). – Mr President, I welcome the opportunity to speak on this particular issue and I point out that there are strong historical bonds between many European nations and the United States of America, so the transatlantic alliance is significant and very important for many reasons. Of course, we should also be mindful of the fact that we do not always agree. Ireland is a small nation, it doesn’t always agree with the foreign policy of the United States of America, and it might also not agree with foreign policy of Member States within the European Union. The areas on which we can agree collectively would be the whole area of climate change and the need to address that with the resources of the European Union and the United States of America, ensuring that other large players, like China, Russia, India and other trading blocs come together to ensure that the climate change agenda is kept very much to the fore, and ensuring that there is real and significant action on it to ensure that citizens globally can benefit from a healthy environment in the time ahead. To be very clear: the transatlantic alliance is important, but it must be refocused not on areas of defence, but on areas of climate change and humanitarian aid to poorer regions of the world as well.'\n",
    "tokens1_66 = word_tokenize(raw1_66)\n",
    "for word in tokens1_66:\n",
    "    print(word, end=' ')"
   ]
  },
  {
   "cell_type": "code",
   "execution_count": 189,
   "metadata": {},
   "outputs": [
    {
     "name": "stdout",
     "output_type": "stream",
     "text": [
      "Benoît Lutgen ( EPP ) . – Mr President , ladies and gentlemen , who can believe that we could succeed in the climate challenge without a strong agreement with the United States ? Who can believe that we could face an encroaching China without a strong connection to the Americans ? Who can believe – I heard it this morning – that China or Russia would have values ​​closer to ours than our American friends – values ​​of democracy and freedom ? However , who can believe that we will be respected by the United States until we have a strong defense and security strategy and that we do not have our own destiny and our own future in this respect hand ? Yes , the United States has flaws – sometimes an ally can trip up ; we saw it in the submarine file – but nevertheless we also have some : sometimes a lack of solidarity , a lack of unity . It is up to us to remedy this through this European strategy , in particular for defense and security . "
     ]
    }
   ],
   "source": [
    "raw1_67 = 'Benoît Lutgen (EPP). – Mr President, ladies and gentlemen, who can believe that we could succeed in the climate challenge without a strong agreement with the United States? Who can believe that we could face an encroaching China without a strong connection to the Americans? Who can believe – I heard it this morning – that China or Russia would have values ​​closer to ours than our American friends – values ​​of democracy and freedom? However, who can believe that we will be respected by the United States until we have a strong defense and security strategy and that we do not have our own destiny and our own future in this respect hand? Yes, the United States has flaws – sometimes an ally can trip up; we saw it in the submarine file – but nevertheless we also have some: sometimes a lack of solidarity, a lack of unity. It is up to us to remedy this through this European strategy, in particular for defense and security.'\n",
    "tokens1_67 = word_tokenize(raw1_67)\n",
    "for word in tokens1_67:\n",
    "    print(word, end=' ')"
   ]
  },
  {
   "cell_type": "code",
   "execution_count": 190,
   "metadata": {},
   "outputs": [
    {
     "name": "stdout",
     "output_type": "stream",
     "text": [
      "Pedro Silva Pereira ( S & D ) . – Mr President , after the dark years of Trump in the White House , the new Democratic administration of Joe Biden represents new hope for multilateralism and for the relaunch of the transatlantic relationship . It is true that some have come here to say that nothing essential has changed , but for that it is necessary to ignore the positive signs : the summit between the European Union and the United States , during the Portuguese Presidency , with the clear reaffirmation of the Transatlantic Partnership and the commitments with NATO , which is not – for them or for us – incompatible with the valorization of the Indo-Pacific , the return of the United States to the Paris Agreement and the suspension of the trade war over the Boeing and Airbus disputes , It is not little . But it is true that there were also mixed signals : the lack of coordination with the allies in the withdrawal from Afghanistan and this strange selective agreement with the UK and Australia for Indo-Pacific security and arms deals . The important thing now is to take concrete steps to reinforce the lost trust . Put an end to tariffs on steel and aluminum once and for all . Building on the recent initiative of a transatlantic cooperation forum for trade and technology to jointly lead the challenges of the digital transition , and work together to combat forced labor and child labor in trade agreements , and lead the way to relaunch negotiations on a major trade agreement between the European Union and the United States . This must be the ambition of our agenda with the United States of America . "
     ]
    }
   ],
   "source": [
    "raw1_68 = 'Pedro Silva Pereira (S&D). – Mr President, after the dark years of Trump in the White House, the new Democratic administration of Joe Biden represents new hope for multilateralism and for the relaunch of the transatlantic relationship. It is true that some have come here to say that nothing essential has changed, but for that it is necessary to ignore the positive signs: the summit between the European Union and the United States, during the Portuguese Presidency, with the clear reaffirmation of the Transatlantic Partnership and the commitments with NATO, which is not – for them or for us – incompatible with the valorization of the Indo-Pacific, the return of the United States to the Paris Agreement and the suspension of the trade war over the Boeing and Airbus disputes, It is not little. But it is true that there were also mixed signals: the lack of coordination with the allies in the withdrawal from Afghanistan and this strange selective agreement with the UK and Australia for Indo-Pacific security and arms deals. The important thing now is to take concrete steps to reinforce the lost trust. Put an end to tariffs on steel and aluminum once and for all. Building on the recent initiative of a transatlantic cooperation forum for trade and technology to jointly lead the challenges of the digital transition, and work together to combat forced labor and child labor in trade agreements, and lead the way to relaunch negotiations on a major trade agreement between the European Union and the United States. This must be the ambition of our agenda with the United States of America.'\n",
    "tokens1_68 = word_tokenize(raw1_68)\n",
    "for word in tokens1_68:\n",
    "    print(word, end=' ')"
   ]
  },
  {
   "cell_type": "code",
   "execution_count": 191,
   "metadata": {},
   "outputs": [
    {
     "name": "stdout",
     "output_type": "stream",
     "text": [
      "Geoffroy Didier ( EPP ) . – Mr President , the way in which the French authorities allowed themselves to be deceived in the affair of the submarine contract says a lot about the naivety of France and Europe with regard to the United States . After teaching America many lessons during the admittedly turbulent presidency of Donald Trump , we believed that Joe Biden would break with the America first of his predecessor and once again become the policeman of the world and our friend in all circumstances . Yes , the United States are our allies and will remain so . But an American president thinks above all of his people , of his soldiers on the front lines , of his families who want to see them return home , and of his business and financial interests . Who can blame him ? I invite the European Union to wake up and abandon its wait-and-see attitude and candor . We no longer have any choice but to design and implement true strategic independence , whether militarily , commercially or diplomatically . Europe first , Europe first , here is what should be obvious , but which has unfortunately become a fight again , in addition to being an emergency . "
     ]
    }
   ],
   "source": [
    "raw1_69 = 'Geoffroy Didier (EPP). – Mr President, the way in which the French authorities allowed themselves to be deceived in the affair of the submarine contract says a lot about the naivety of France and Europe with regard to the United States. After teaching America many lessons during the admittedly turbulent presidency of Donald Trump, we believed that Joe Biden would break with the America first of his predecessor and once again become the policeman of the world and our friend in all circumstances. Yes, the United States are our allies and will remain so. But an American president thinks above all of his people, of his soldiers on the front lines, of his families who want to see them return home, and of his business and financial interests. Who can blame him? I invite the European Union to wake up and abandon its wait-and-see attitude and candor. We no longer have any choice but to design and implement true strategic independence, whether militarily, commercially or diplomatically. Europe first, Europe first, here is what should be obvious, but which has unfortunately become a fight again, in addition to being an emergency.'\n",
    "tokens1_69 = word_tokenize(raw1_69)\n",
    "for word in tokens1_69:\n",
    "    print(word, end=' ')"
   ]
  },
  {
   "cell_type": "code",
   "execution_count": 192,
   "metadata": {},
   "outputs": [
    {
     "name": "stdout",
     "output_type": "stream",
     "text": [
      "Isabel Santos ( S & D ) . – Mr President , let us get down to business : the Euro-Atlantic alliance continues to prove to be irreplaceable in defending the rules-based world order and defending the values ​​of democracy and human rights , in the face of the rise and increase in assertiveness of powers and liberals . On the other hand , the withdrawal of the United States from Afghanistan without proper coordination with the European Union , and the AUKUS agreement without the involvement of the old partners , can not pass without any adaptation in the face of change and serious reflection on our part . It is better not to be naive and to be quite assertive and pragmatic . Only a European security and defense policy and greater decision-making capacity in foreign policy will allow us to have effective strategic autonomy and greater effectiveness in action , capable of making us assert ourselves as a partner with influence on a global scale . The stronger and more assertive Europe is , the more relevant it will be to its partners . The diagnosis is made , dear Colleagues . We need decisions . "
     ]
    }
   ],
   "source": [
    "raw1_70 = 'Isabel Santos (S&D). – Mr President, let us get down to business: the Euro-Atlantic alliance continues to prove to be irreplaceable in defending the rules-based world order and defending the values ​​of democracy and human rights, in the face of the rise and increase in assertiveness of powers and liberals. On the other hand, the withdrawal of the United States from Afghanistan without proper coordination with the European Union, and the AUKUS agreement without the involvement of the old partners, cannot pass without any adaptation in the face of change and serious reflection on our part. It is better not to be naive and to be quite assertive and pragmatic. Only a European security and defense policy and greater decision-making capacity in foreign policy will allow us to have effective strategic autonomy and greater effectiveness in action, capable of making us assert ourselves as a partner with influence on a global scale. The stronger and more assertive Europe is, the more relevant it will be to its partners. The diagnosis is made, dear Colleagues. We need decisions.'\n",
    "tokens1_70 = word_tokenize(raw1_70)\n",
    "for word in tokens1_70:\n",
    "    print(word, end=' ')"
   ]
  },
  {
   "cell_type": "code",
   "execution_count": 193,
   "metadata": {},
   "outputs": [
    {
     "name": "stdout",
     "output_type": "stream",
     "text": [
      "Sven Simon ( EPP ) . – Mr President , ladies and gentlemen ! This debate makes you a bit desperate at times . We discuss the relationship of the European Union with the United States of America against the backdrop of rising powers like China that want to influence our norms and value system . A systemic rivalry has emerged here . The US is back on the world stage , the Europeans are not . The debate of today shows that very clearly . We are not an attractive partner . With this resolution , too , I ask myself a bit of the question : what should one actually take from it as a partner ? It is a hodgepodge of everything . We set the bar high , we want to see exactly the same standards that we Europeans have in climate protection and in socio-political issues from others , especially from the USA . But I wonder : Why is the clear message not going out today : We want a trade and defense agreement and a trade agreement and the defense agreement renewed with the Americans ! Why do we not say that so clearly ? I do not understand it either . The left and the green side of this house sets the bar so high that I sometimes ask myself the question : the Chinese are a billion , we are not even half . Do you seriously believe that we alone as Europe can maintain our liberal democracy , our values ? We need a trade deal with the Americans . Why do you not make a commitment to that today ? "
     ]
    }
   ],
   "source": [
    "raw1_71 = 'Sven Simon (EPP). – Mr President, ladies and gentlemen! This debate makes you a bit desperate at times. We discuss the relationship of the European Union with the United States of America against the backdrop of rising powers like China that want to influence our norms and value system. A systemic rivalry has emerged here. The US is back on the world stage, the Europeans are not. The debate of today shows that very clearly. We are not an attractive partner. With this resolution, too, I ask myself a bit of the question: what should one actually take from it as a partner? It is a hodgepodge of everything. We set the bar high, we want to see exactly the same standards that we Europeans have in climate protection and in socio-political issues from others, especially from the USA. But I wonder: Why is the clear message not going out today: We want a trade and defense agreement and a trade agreement and the defense agreement renewed with the Americans! Why do we not say that so clearly? I do not understand it either. The left and the green side of this house sets the bar so high that I sometimes ask myself the question: the Chinese are a billion, we are not even half. Do you seriously believe that we alone as Europe can maintain our liberal democracy, our values? We need a trade deal with the Americans. Why do you not make a commitment to that today?'\n",
    "tokens1_71 = word_tokenize(raw1_71)\n",
    "for word in tokens1_71:\n",
    "    print(word, end=' ')"
   ]
  },
  {
   "cell_type": "code",
   "execution_count": 194,
   "metadata": {},
   "outputs": [
    {
     "name": "stdout",
     "output_type": "stream",
     "text": [
      "Costas Mavridis ( S & D ) . - Mr President , congratulations to my colleague Tonino Picula on his report on the future of EU-US relations , such an important and topical issue . Important , because close trade-to-security cooperation was based on common values , common priorities and common interests , and so it must continue and expand on issues covered in the report , such as climate change , human rights , digital transition , terrorism and more . However , as the US adapts to its own priorities , our priority is to address the threats that exist from the Caucasus to the Eastern Mediterranean . Strategic autonomy and the European Defense Union , of which some in the forefront have spoken proactively , are now a necessity , because the events in Afghanistan and the Pacific have overtaken us . Finally , a few days ago we had the France-Greece defense agreement , which can be a step in this great path for a Europe with a common defense and common security and a geopolitical role in the world . "
     ]
    }
   ],
   "source": [
    "raw1_72 = 'Costas Mavridis (S&D). - Mr President, congratulations to my colleague Tonino Picula on his report on the future of EU-US relations, such an important and topical issue. Important, because close trade-to-security cooperation was based on common values, common priorities and common interests, and so it must continue and expand on issues covered in the report, such as climate change, human rights, digital transition, terrorism and more. However, as the US adapts to its own priorities, our priority is to address the threats that exist from the Caucasus to the Eastern Mediterranean. Strategic autonomy and the European Defense Union, of which some in the forefront have spoken proactively, are now a necessity, because the events in Afghanistan and the Pacific have overtaken us. Finally, a few days ago we had the France-Greece defense agreement, which can be a step in this great path for a Europe with a common defense and common security and a geopolitical role in the world.'\n",
    "tokens1_72 = word_tokenize(raw1_72)\n",
    "for word in tokens1_72:\n",
    "    print(word, end=' ')"
   ]
  },
  {
   "cell_type": "code",
   "execution_count": 195,
   "metadata": {},
   "outputs": [
    {
     "name": "stdout",
     "output_type": "stream",
     "text": [
      "Loránt Vincze ( PPE ) . – Mr President , the United States has always been the European Union ’ s closest and most important strategic partner , and so it should remain . However , looking to the developments on the global stage in the last decade , it is clear that the EU is lagging behind in policy areas that represent a priority for the US . The Australia–United Kingdom–United States ( AUKUS ) deal and the abrupt US withdrawal from Afghanistan must be a wake-up call for the EU to place this partnership on a new footing . We must be aware that America will always place its own interests at the forefront . The US security pledge makes us dependent on Washington to act . The rhetoric may have changed with the new administration , yet its intensifying focus on its rivalry with China has not . As strange as it sounds , the EU needs to become more egoistic . The US will accept us as a partner on the global stage if we are able to defend our own economic and trade interests , if we are able to develop a robust EU defence policy . Filling up this partnership with content depends today more on us than on our transatlantic partners . "
     ]
    }
   ],
   "source": [
    "raw1_73 = 'Loránt Vincze (PPE). – Mr President, the United States has always been the European Union’s closest and most important strategic partner, and so it should remain. However, looking to the developments on the global stage in the last decade, it is clear that the EU is lagging behind in policy areas that represent a priority for the US. The Australia–United Kingdom–United States (AUKUS) deal and the abrupt US withdrawal from Afghanistan must be a wake-up call for the EU to place this partnership on a new footing. We must be aware that America will always place its own interests at the forefront. The US security pledge makes us dependent on Washington to act. The rhetoric may have changed with the new administration, yet its intensifying focus on its rivalry with China has not. As strange as it sounds, the EU needs to become more egoistic. The US will accept us as a partner on the global stage if we are able to defend our own economic and trade interests, if we are able to develop a robust EU defence policy. Filling up this partnership with content depends today more on us than on our transatlantic partners.'\n",
    "tokens1_73 = word_tokenize(raw1_73)\n",
    "for word in tokens1_73:\n",
    "    print(word, end=' ')"
   ]
  },
  {
   "cell_type": "code",
   "execution_count": 196,
   "metadata": {},
   "outputs": [
    {
     "name": "stdout",
     "output_type": "stream",
     "text": [
      "Clara Aguilera ( S & D ) . – Mr President , ladies and gentlemen , the relationship of the European Union with the United States is undoubtedly very important to us . But , ladies and gentlemen , we are of legal age and we have to bet on ourselves and have our own foreign policy . The main objectives of the European Union must be our international priorities . We need a clear strategy . President Biden , for some of us — I think for most of us — was an initial euphoria , but after a few months we are seeing that it is a great disappointment . The `` America First '' continues . Therefore , the European Union can not be expectant , but we must seize the opportunity and chart our own course in foreign policy , and also in trade and defense policy . Also , ladies and gentlemen , the departure of the United Kingdom is having an impact on these relations . In short , we must have our own interests in Europe and a clear strategy in international politics and , also , in transatlantic politics . "
     ]
    }
   ],
   "source": [
    "raw1_74 = 'Clara Aguilera (S&D). – Mr President, ladies and gentlemen, the relationship of the European Union with the United States is undoubtedly very important to us. But, ladies and gentlemen, we are of legal age and we have to bet on ourselves and have our own foreign policy. The main objectives of the European Union must be our international priorities. We need a clear strategy. President Biden, for some of us — I think for most of us — was an initial euphoria, but after a few months we are seeing that it is a great disappointment. The \"America First\" continues. Therefore, the European Union cannot be expectant, but we must seize the opportunity and chart our own course in foreign policy, and also in trade and defense policy. Also, ladies and gentlemen, the departure of the United Kingdom is having an impact on these relations. In short, we must have our own interests in Europe and a clear strategy in international politics and, also, in transatlantic politics.'\n",
    "tokens1_74 = word_tokenize(raw1_74)\n",
    "for word in tokens1_74:\n",
    "    print(word, end=' ')"
   ]
  },
  {
   "cell_type": "code",
   "execution_count": 197,
   "metadata": {},
   "outputs": [
    {
     "name": "stdout",
     "output_type": "stream",
     "text": [
      "Sunčana Glavak ( PPE ) . - Distinguished Chairman , Distinguished Commissioners , Colleagues , Colleague Picula , thank you for the report . The Transatlantic Partnership is key to building an international order based on the common values ​​of freedom , democracy , respect for human rights and the rule of law , but also new challenges for a green transition where we must work together . Today , the global situation has changed , we all see it , and the transatlantic connection has weakened . We have seen this in the examples of the previous US administration , but also in the recent actions of the Biden administration , which will surely have an impact on our relations in the future . The European Union , I agree , needs to strengthen its own capabilities in order to maintain strategic relevance in the international sphere . But we will not be able to do it alone . I would like to take this opportunity to highlight the recent abolition of the visa regime between the United States and the Republic of Croatia as a positive example of the development of transatlantic relations , expecting to establish full visa regime and reciprocity with other EU member states . Our partnership is strongest when we face great challenges together , and our common past is a guarantee of close cooperation and a future . "
     ]
    }
   ],
   "source": [
    "raw1_75 = 'Sunčana Glavak (PPE). - Distinguished Chairman, Distinguished Commissioners, Colleagues, Colleague Picula, thank you for the report. The Transatlantic Partnership is key to building an international order based on the common values ​​of freedom, democracy, respect for human rights and the rule of law, but also new challenges for a green transition where we must work together. Today, the global situation has changed, we all see it, and the transatlantic connection has weakened. We have seen this in the examples of the previous US administration, but also in the recent actions of the Biden administration, which will surely have an impact on our relations in the future. The European Union, I agree, needs to strengthen its own capabilities in order to maintain strategic relevance in the international sphere. But we will not be able to do it alone. I would like to take this opportunity to highlight the recent abolition of the visa regime between the United States and the Republic of Croatia as a positive example of the development of transatlantic relations, expecting to establish full visa regime and reciprocity with other EU member states. Our partnership is strongest when we face great challenges together, and our common past is a guarantee of close cooperation and a future.'\n",
    "tokens1_75 = word_tokenize(raw1_75)\n",
    "for word in tokens1_75:\n",
    "    print(word, end=' ')"
   ]
  },
  {
   "cell_type": "code",
   "execution_count": 198,
   "metadata": {},
   "outputs": [
    {
     "name": "stdout",
     "output_type": "stream",
     "text": [
      "Victor Negrescu ( S & D ) . - Mr President , ladies and gentlemen , the partnership with the United States is extremely important for the future of Europe and for ensuring a climate of global peace and stability . The United States is not just a partner , but a strategic ally , with whom we share common democratic values , with whom we must find solutions to security challenges , those posed by the pandemic , or new developments in the digital or environmental field . To that end , cooperation with the United States , and in particular with the new US administration , needs to be expanded by identifying new ways of working together . But for this development of cooperation to be successful , it is central that all Member States enjoy the same rights . That is why I ask again in the European Parliament that Romanians can travel to the United States without visas . This depends on the political will of decision-makers on both sides of the Atlantic and is a right to full reciprocity , guaranteed in fact by European mechanisms . I am confident that the current international political context can allow this and that the partnership with the United States will enter a new period of development . "
     ]
    }
   ],
   "source": [
    "raw1_76 = 'Victor Negrescu (S&D). - Mr President, ladies and gentlemen, the partnership with the United States is extremely important for the future of Europe and for ensuring a climate of global peace and stability. The United States is not just a partner, but a strategic ally, with whom we share common democratic values, with whom we must find solutions to security challenges, those posed by the pandemic, or new developments in the digital or environmental field. To that end, cooperation with the United States, and in particular with the new US administration, needs to be expanded by identifying new ways of working together. But for this development of cooperation to be successful, it is central that all Member States enjoy the same rights. That is why I ask again in the European Parliament that Romanians can travel to the United States without visas. This depends on the political will of decision-makers on both sides of the Atlantic and is a right to full reciprocity, guaranteed in fact by European mechanisms. I am confident that the current international political context can allow this and that the partnership with the United States will enter a new period of development.'\n",
    "tokens1_76 = word_tokenize(raw1_76)\n",
    "for word in tokens1_76:\n",
    "    print(word, end=' ')"
   ]
  },
  {
   "cell_type": "code",
   "execution_count": 199,
   "metadata": {},
   "outputs": [
    {
     "name": "stdout",
     "output_type": "stream",
     "text": [
      "Miriam Lexmann ( PPE ) . – Mr President , the transatlantic bond remains the bedrock of the free world . Today , new totalitarian and authoritarian regimes are threatening our freedom , notably the Chinese Communist Party ( CCP ) . The CCP is oppressing its people and it is challenging our freedom and democracy around the world through hybrid threats . Despite the naïve beliefs of some , there is no third way between standing with our allies and extending trade cooperation with a totalitarian regime . Only by working together can we address the malign influence , protect freedom and democracy , and ensure our future prosperity . This is why I welcome the EU—US Dialogue on China . We must also not forget about those whose freedom and dignity is denied every day . For this , an ambitious transatlantic democracy support agenda is absolutely vital . Europe must do its part , and we must work together with our closest ally . Only then can we address the greatest challenges we face today globally . "
     ]
    }
   ],
   "source": [
    "raw1_77 = 'Miriam Lexmann (PPE). – Mr President, the transatlantic bond remains the bedrock of the free world. Today, new totalitarian and authoritarian regimes are threatening our freedom, notably the Chinese Communist Party (CCP). The CCP is oppressing its people and it is challenging our freedom and democracy around the world through hybrid threats. Despite the naïve beliefs of some, there is no third way between standing with our allies and extending trade cooperation with a totalitarian regime. Only by working together can we address the malign influence, protect freedom and democracy, and ensure our future prosperity. This is why I welcome the EU—US Dialogue on China. We must also not forget about those whose freedom and dignity is denied every day. For this, an ambitious transatlantic democracy support agenda is absolutely vital. Europe must do its part, and we must work together with our closest ally. Only then can we address the greatest challenges we face today globally.'\n",
    "tokens1_77 = word_tokenize(raw1_77)\n",
    "for word in tokens1_77:\n",
    "    print(word, end=' ')"
   ]
  },
  {
   "cell_type": "code",
   "execution_count": 200,
   "metadata": {},
   "outputs": [
    {
     "name": "stdout",
     "output_type": "stream",
     "text": [
      "Raphael Glucksmann ( S & D ) . – Mr President , ladies and gentlemen , you have spoken a great deal about marriage , but what is the secret of a happy marriage if not equality between the spouses ? However , it is not the case . From the unilateral and chaotic withdrawal from Kabul to the abduction of the contract of the century to the detriment of France , the American administration does not consult us , it does not consider us . Donald Trump was not just an accident and America first was not just a fleeting slogan : it is the heart of American politics . The United States pursues its strategic interests and it is time for us Europeans to do the same , to become adults , to dare autonomy and power . Invest in our own defense capabilities . Let us pursue a commercial policy in the service of our principles and our interests . Let us show Americans that they need allies , not vassals . Let us cooperate where our interests converge . Let us fight together against climate change , international terrorism or the growing aggressiveness of the Chinese regime . Let ’ s ban together the products of Uighur slavery . Let us fight global tax evasion together . But let ’ s give ourselves , to us Europeans , the means to defend our strategic interests alone if necessary . Dear colleagues , let us finally be respectable and we will be respected . "
     ]
    }
   ],
   "source": [
    "raw1_78 = 'Raphael Glucksmann (S&D). – Mr President, ladies and gentlemen, you have spoken a great deal about marriage, but what is the secret of a happy marriage if not equality between the spouses? However, it is not the case. From the unilateral and chaotic withdrawal from Kabul to the abduction of the contract of the century to the detriment of France, the American administration does not consult us, it does not consider us. Donald Trump was not just an accident and America first was not just a fleeting slogan: it is the heart of American politics. The United States pursues its strategic interests and it is time for us Europeans to do the same, to become adults, to dare autonomy and power. Invest in our own defense capabilities. Let us pursue a commercial policy in the service of our principles and our interests. Let us show Americans that they need allies, not vassals. Let us cooperate where our interests converge. Let us fight together against climate change, international terrorism or the growing aggressiveness of the Chinese regime. Let’s ban together the products of Uighur slavery. Let us fight global tax evasion together. But let’s give ourselves, to us Europeans, the means to defend our strategic interests alone if necessary. Dear colleagues, let us finally be respectable and we will be respected.'\n",
    "tokens1_78 = word_tokenize(raw1_78)\n",
    "for word in tokens1_78:\n",
    "    print(word, end=' ')"
   ]
  },
  {
   "cell_type": "code",
   "execution_count": 201,
   "metadata": {},
   "outputs": [
    {
     "name": "stdout",
     "output_type": "stream",
     "text": [
      "Peter van Dalen ( PPE ) . – ( NL ) Mr President , the cornerstone of American policy is still the speech of Abraham Lincoln at Gettysburg on November 19 , 1863 . And in it he said , “ In America all people are equal ” and “ Government must be for the people , of the people and by the people. ” And we share that cornerstone with the United States . That is why they are one of our most important allies , despite the differences we also have . Not only do we share these fundamental freedoms with the United States , but we also share NATO . The United States pays 70 % of the budget of the NATO , or about 4 % of its gross domestic product . Almost all European countries do not achieve this . They do not even pay the 2 % standard . I therefore find it rather strange to argue in favor of a European defence , while now , with the United States involved , many countries are not meeting their financial obligations . I am therefore in favor of a strong European pillar in NATO , especially now that we see the aggression from China and Russia . "
     ]
    }
   ],
   "source": [
    "raw1_79 = 'Peter van Dalen (PPE). – (NL) Mr President, the cornerstone of American policy is still the speech of Abraham Lincoln at Gettysburg on November 19, 1863. And in it he said, “In America all people are equal” and “Government must be for the people, of the people and by the people.” And we share that cornerstone with the United States. That is why they are one of our most important allies, despite the differences we also have. Not only do we share these fundamental freedoms with the United States, but we also share NATO. The United States pays 70% of the budget of the NATO, or about 4% of its gross domestic product. Almost all European countries do not achieve this. They do not even pay the 2% standard. I therefore find it rather strange to argue in favor of a European defence, while now, with the United States involved, many countries are not meeting their financial obligations. I am therefore in favor of a strong European pillar in NATO, especially now that we see the aggression from China and Russia.'\n",
    "tokens1_79 = word_tokenize(raw1_79)\n",
    "for word in tokens1_79:\n",
    "    print(word, end=' ')"
   ]
  },
  {
   "cell_type": "code",
   "execution_count": 202,
   "metadata": {},
   "outputs": [
    {
     "name": "stdout",
     "output_type": "stream",
     "text": [
      "Seán Kelly ( PPE ) . – Mr President , Europe and the United States have always been allies , but it is no secret that , under Donald Trump , with the US acting more unilaterally , this friendship became much more difficult manage . With President Biden , a man who believes in multilateral solutions , there is a renewed sense of hope for improved relations . The US is in the process of redefining itself on the international stage , and the EU must take this new approach into consideration as we move forward , working together on areas of common interest , not just about deepening trade , but also on defending democratic principles , human rights , cooperation on cybersecurity and , of course , the planet ’ s greatest challenge : climate change . I agree with increased interparliamentary cooperation in particular in this regard , but we must also stand firm on matters of importance to Europeans . Lastly , we are now entering a crucial phase with the Northern Ireland Protocol and we heard yesterday the brash words at the Tory Party conference . However , it has heartened me to hear the strong words from President Biden on the protocol . An Irishman never forgets his roots , and Joe Biden is very proud of his Irish roots . Well done , Joe . "
     ]
    }
   ],
   "source": [
    "raw1_80 = 'Seán Kelly (PPE). – Mr President, Europe and the United States have always been allies, but it is no secret that, under Donald Trump, with the US acting more unilaterally, this friendship became much more difficult manage. With President Biden, a man who believes in multilateral solutions, there is a renewed sense of hope for improved relations. The US is in the process of redefining itself on the international stage, and the EU must take this new approach into consideration as we move forward, working together on areas of common interest, not just about deepening trade, but also on defending democratic principles, human rights, cooperation on cybersecurity and, of course, the planet’s greatest challenge: climate change. I agree with increased interparliamentary cooperation in particular in this regard, but we must also stand firm on matters of importance to Europeans. Lastly, we are now entering a crucial phase with the Northern Ireland Protocol and we heard yesterday the brash words at the Tory Party conference. However, it has heartened me to hear the strong words from President Biden on the protocol. An Irishman never forgets his roots, and Joe Biden is very proud of his Irish roots. Well done, Joe. '\n",
    "tokens1_80 = word_tokenize(raw1_80)\n",
    "for word in tokens1_80:\n",
    "    print(word, end=' ')"
   ]
  },
  {
   "cell_type": "code",
   "execution_count": 203,
   "metadata": {},
   "outputs": [
    {
     "name": "stdout",
     "output_type": "stream",
     "text": [
      "Christophe Hansen ( PPE ) . – Mr President , this summer ’ s withdrawal from Afghanistan , followed by the formation of the AUKUS pact between Australia , the UK and the US , without due consultation between allies , we all agree were nothing short of an affront . The lesson to be drawn from this is that as long as we lack credible political will to back our own security commitments , or as long as we can not speak as one on foreign policy , the EU is only strong when embedded in alliances . Our open strategic autonomy is fundamentally linked to our capacity to take up leading roles in standard setting with like—minded partners . Therefore , I am glad that last week ’ s first meeting of the Trade and Technology Council produced hopeful results , against all odds . I urge the EU to seize this window of opportunity for deepened bilateral collaboration , for example , to combat distortive trade practices , including in the framework of the World Trade Organization ( WTO ) . When the EU and the US are fighting each other , Beijing and the Kremlin rejoice . And only when the EU and the US work together on setting standards for the 21st century , the world pays attention . "
     ]
    }
   ],
   "source": [
    "raw1_81 = 'Christophe Hansen (PPE). – Mr President, this summer’s withdrawal from Afghanistan, followed by the formation of the AUKUS pact between Australia, the UK and the US, without due consultation between allies, we all agree were nothing short of an affront. The lesson to be drawn from this is that as long as we lack credible political will to back our own security commitments, or as long as we cannot speak as one on foreign policy, the EU is only strong when embedded in alliances. Our open strategic autonomy is fundamentally linked to our capacity to take up leading roles in standard setting with like—minded partners. Therefore, I am glad that last week’s first meeting of the Trade and Technology Council produced hopeful results, against all odds. I urge the EU to seize this window of opportunity for deepened bilateral collaboration, for example, to combat distortive trade practices, including in the framework of the World Trade Organization (WTO). When the EU and the US are fighting each other, Beijing and the Kremlin rejoice. And only when the EU and the US work together on setting standards for the 21st century, the world pays attention.'\n",
    "tokens1_81 = word_tokenize(raw1_81)\n",
    "for word in tokens1_81:\n",
    "    print(word, end=' ')"
   ]
  },
  {
   "cell_type": "code",
   "execution_count": 204,
   "metadata": {},
   "outputs": [
    {
     "name": "stdout",
     "output_type": "stream",
     "text": [
      "Ylva Johansson , Member of the Commission , on behalf of the Vice-President of the Commission / High Representative of the Union for Foreign Affairs and Security Policy . – Mr President , HR/VP Borrell had to leave to speak to the Parliament ’ s Conference of Committee Chairs so I will close this debate on his behalf . Your report and the debate today bear testimony to your continued interest and engagement on the future of the transatlantic relationship . The challenges facing the world at this time are significant . You mentioned a number of them , for instance on China . The EU and US are facing similar challenges related to China ’ s growing assertiveness . This is why HR/VP Borrell and US State Secretary Blinken launched the EU–US dialogue on China in March this year . On trade and technology . The recent Pittsburgh meeting was an opportunity for a strategic discussion on the future of TTC , defining programmes for 10 working groups and announcing deliverables in five areas : export control , AI , semiconductors , investment screening and global trade challenges . Stability and prosperity on both sides of the Atlantic , and beyond , will be enhanced by our ability to work together , which is part of the EU ’ s strategic autonomy . Having the capacity to act autonomously when and where necessary , and with partners including the US , wherever possible . Therefore , together , we have the opportunity and a responsibility to collaborate on the key challenges of our day . Safeguarding the health and well-being of our people , like the recent Croatia visa waiver shows , and our planet , supporting and encouraging democratic values and promoting international peace , security and economic prosperity for all . Thank you for your important contribution and your support for our work . "
     ]
    }
   ],
   "source": [
    "raw1_82 = 'Ylva Johansson, Member of the Commission, on behalf of the Vice-President of the Commission / High Representative of the Union for Foreign Affairs and Security Policy. – Mr President, HR/VP Borrell had to leave to speak to the Parliament’s Conference of Committee Chairs so I will close this debate on his behalf. Your report and the debate today bear testimony to your continued interest and engagement on the future of the transatlantic relationship. The challenges facing the world at this time are significant. You mentioned a number of them, for instance on China. The EU and US are facing similar challenges related to China’s growing assertiveness. This is why HR/VP Borrell and US State Secretary Blinken launched the EU–US dialogue on China in March this year. On trade and technology. The recent Pittsburgh meeting was an opportunity for a strategic discussion on the future of TTC, defining programmes for 10 working groups and announcing deliverables in five areas: export control, AI, semiconductors, investment screening and global trade challenges. Stability and prosperity on both sides of the Atlantic, and beyond, will be enhanced by our ability to work together, which is part of the EU’s strategic autonomy. Having the capacity to act autonomously when and where necessary, and with partners including the US, wherever possible. Therefore, together, we have the opportunity and a responsibility to collaborate on the key challenges of our day. Safeguarding the health and well-being of our people, like the recent Croatia visa waiver shows, and our planet, supporting and encouraging democratic values and promoting international peace, security and economic prosperity for all. Thank you for your important contribution and your support for our work.'\n",
    "tokens1_82 = word_tokenize(raw1_82)\n",
    "for word in tokens1_82:\n",
    "    print(word, end=' ')"
   ]
  },
  {
   "cell_type": "code",
   "execution_count": 205,
   "metadata": {},
   "outputs": [
    {
     "name": "stdout",
     "output_type": "stream",
     "text": [
      "Tonino Picula , rapporteur . – Mr President , first of all , I would like to say that I am grateful to the shadow rapporteurs for their truly constructive cooperation . I also want to thank the Committee on International Trade ( INTA ) for their opinion work that complemented this report very much . I have just returned from a fact—finding mission to the United States , where I gathered the last information to prepare a report for the final vote tomorrow . The main finding from the visit is that the transatlantic relationship , as known for most of the post-Second World War period , needs reinvention . A combination of Building Back Better at home , a shift towards more foreign policy restraint , US unpredictability due to domestic polarisation , and reorientation to China and Asia confirm that the transatlantic relationship can no longer be taken for granted . We need to redefine and rebalance a relationship that still can , and should , contribute to shaping the world , along with a full—fledged democratic alliance . I have heard many concrete suggestions during the debate today . It ’ s clear that the US remains our most important strategic partner , but the time for nostalgia is shrinking . The sooner we accept the new reality , the better the chances are to reinvent this critical relationship on a more equal footing . We have to go beyond defence and trade cooperation and work together to reinforce the multilateral system , cooperate on climate change , the global response to the health crisis and the protection of democratic standards and fundamental rights . The European Union is a union of states , whereas the United States is the United States . My main take from today is that the internal cohesion of the European Union is of crucial importance for our position and perception in the multipolar world . Finally , throughout this mandate , we listen to the ambitions of this Commission to be a geopolitical Commission . The relationship with the US is perhaps the best test of that ambition , and we have no time to lose in fulfilling it . "
     ]
    }
   ],
   "source": [
    "raw1_83 = 'Tonino Picula, rapporteur. – Mr President, first of all, I would like to say that I am grateful to the shadow rapporteurs for their truly constructive cooperation. I also want to thank the Committee on International Trade (INTA) for their opinion work that complemented this report very much. I have just returned from a fact—finding mission to the United States, where I gathered the last information to prepare a report for the final vote tomorrow. The main finding from the visit is that the transatlantic relationship, as known for most of the post-Second World War period, needs reinvention. A combination of Building Back Better at home, a shift towards more foreign policy restraint, US unpredictability due to domestic polarisation, and reorientation to China and Asia confirm that the transatlantic relationship can no longer be taken for granted. We need to redefine and rebalance a relationship that still can, and should, contribute to shaping the world, along with a full—fledged democratic alliance. I have heard many concrete suggestions during the debate today. It’s clear that the US remains our most important strategic partner, but the time for nostalgia is shrinking. The sooner we accept the new reality, the better the chances are to reinvent this critical relationship on a more equal footing. We have to go beyond defence and trade cooperation and work together to reinforce the multilateral system, cooperate on climate change, the global response to the health crisis and the protection of democratic standards and fundamental rights. The European Union is a union of states, whereas the United States is the United States. My main take from today is that the internal cohesion of the European Union is of crucial importance for our position and perception in the multipolar world. Finally, throughout this mandate, we listen to the ambitions of this Commission to be a geopolitical Commission. The relationship with the US is perhaps the best test of that ambition, and we have no time to lose in fulfilling it.'\n",
    "tokens1_83 = word_tokenize(raw1_83)\n",
    "for word in tokens1_83:\n",
    "    print(word, end=' ')"
   ]
  },
  {
   "cell_type": "markdown",
   "metadata": {},
   "source": [
    "---\n",
    "### Combine all parts"
   ]
  },
  {
   "cell_type": "code",
   "execution_count": 206,
   "metadata": {},
   "outputs": [],
   "source": [
    "tokens = tokens1_1 + tokens1_2 + tokens1_3 + tokens1_4 + tokens1_5 + tokens1_6 + tokens1_7 + tokens1_8 + tokens1_9 + tokens1_10 + tokens1_11 + tokens1_12 + tokens1_13 + tokens1_14 + tokens1_15 + tokens1_16 + tokens1_17 + tokens1_18 + tokens1_19 + tokens1_20 + tokens1_21 + tokens1_22 + tokens1_23 + tokens1_24 + tokens1_25 + tokens1_26 + tokens1_27 + tokens1_28 + tokens1_29 + tokens1_30 + tokens1_31 + tokens1_32 + tokens1_33 + tokens1_34 + tokens1_35 + tokens1_36 + tokens1_37 + tokens1_38 + tokens1_39 + tokens1_40 + tokens1_41 + tokens1_42 + tokens1_43 + tokens1_44 + tokens1_45 + tokens1_46 + tokens1_47 + tokens1_48 + tokens1_49 + tokens1_50 + tokens1_51 + tokens1_52 + tokens1_53 + tokens1_54 + tokens1_55 + tokens1_56 + tokens1_57 + tokens1_58 + tokens1_59 + tokens1_60 + tokens1_61 + tokens1_62 + tokens1_63 + tokens1_64 + tokens1_65 + tokens1_66 + tokens1_67 + tokens1_68 + tokens1_69 + tokens1_70 + tokens1_71 + tokens1_72 + tokens1_73 + tokens1_74 + tokens1_75 + tokens1_76 + tokens1_77 + tokens1_78 + tokens1_79 + tokens1_80 + tokens1_81 + tokens1_82 + tokens1_83 "
   ]
  },
  {
   "cell_type": "markdown",
   "metadata": {},
   "source": [
    "---\n",
    "### Normalize the words "
   ]
  },
  {
   "cell_type": "code",
   "execution_count": 207,
   "metadata": {},
   "outputs": [],
   "source": [
    "type(tokens)\n",
    "eutext19 = [w.lower() for w in tokens]"
   ]
  },
  {
   "cell_type": "markdown",
   "metadata": {},
   "source": [
    "---\n",
    "**Save Output**"
   ]
  },
  {
   "cell_type": "code",
   "execution_count": 208,
   "metadata": {},
   "outputs": [],
   "source": [
    "save_path = '/Users/charlottekaiser/Documents/uni/Hertie/master_thesis/00_data/20_intermediate_files'\n",
    "file_name = \"EU19_The future of EU-US relations.txt\"\n",
    "completeName = os.path.join(save_path, file_name)\n",
    "output = open(completeName, 'w')\n",
    "print(eutext19, file=output)"
   ]
  }
 ],
 "metadata": {
  "interpreter": {
   "hash": "a9869976cf380d12cb70e759e57434a8e82bae01a9f74e734956416b40621c64"
  },
  "kernelspec": {
   "display_name": "Python 3.9.7 ('base')",
   "language": "python",
   "name": "python3"
  },
  "language_info": {
   "codemirror_mode": {
    "name": "ipython",
    "version": 3
   },
   "file_extension": ".py",
   "mimetype": "text/x-python",
   "name": "python",
   "nbconvert_exporter": "python",
   "pygments_lexer": "ipython3",
   "version": "3.9.7"
  },
  "orig_nbformat": 4
 },
 "nbformat": 4,
 "nbformat_minor": 2
}
