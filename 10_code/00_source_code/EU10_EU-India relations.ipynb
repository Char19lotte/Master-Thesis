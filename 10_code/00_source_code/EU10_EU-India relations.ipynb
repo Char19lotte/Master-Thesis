{
 "cells": [
  {
   "cell_type": "markdown",
   "metadata": {},
   "source": [
    "### *Data Collection - European Parliament*\n",
    "## Preparing Raw Data\n",
    "---\n",
    "**Sample Text 10**\n",
    "Title:  EU-India relations <br>\n",
    "Date: April 28, 2021 - Brussels"
   ]
  },
  {
   "cell_type": "code",
   "execution_count": 6,
   "metadata": {},
   "outputs": [],
   "source": [
    "# import necessary libraries\n",
    "import requests\n",
    "from requests_html import HTMLSession\n",
    "import urllib.request\n",
    "import time\n",
    "from bs4 import BeautifulSoup\n",
    "import urllib\n",
    "from urllib import request\n",
    "from __future__ import division\n",
    "import nltk, re, pprint\n",
    "from nltk import word_tokenize\n",
    "from nltk import FreqDist\n",
    "import os.path \n",
    "import pandas as pd"
   ]
  },
  {
   "cell_type": "markdown",
   "metadata": {},
   "source": [
    "---\n",
    "### Process: Trimming debate by inserting the original English or translated English files and tokenizing them.\n",
    "*Note*: Due to time constraint, the process has been optimized.\n",
    "\n",
    "- English parts of the debate will be added manually as a string and then tokenized. \n",
    "\n",
    "- A consistent method of translating and then adding will be applied to all EU Parliament debates:  Non-English parts are copied from the original web pages, inserted in the consistent choice of translation tool, Google Translate (https://translate.google.com/?hl=de&tab=TT), translated to English and pasted in as a string. \n",
    "\n",
    "- Afterwards, the same steps are applied as per usual (tokenizing, standardizing).\n",
    "\n",
    "Because of the changed process, the URL and step of webscraping are technically no longer necessary, will however be included for the purpose of completeness. "
   ]
  },
  {
   "cell_type": "code",
   "execution_count": 7,
   "metadata": {},
   "outputs": [],
   "source": [
    "# url = \"https://www.europarl.europa.eu/doceo/document/CRE-9-2021-04-28-ITM-015_EN.html\"\n",
    "# html = requests.get(url)\n",
    "# raw = BeautifulSoup(html.content, 'html.parser').get_text()"
   ]
  },
  {
   "cell_type": "code",
   "execution_count": 8,
   "metadata": {},
   "outputs": [
    {
     "name": "stdout",
     "output_type": "stream",
     "text": [
      "Alviina Alametsä , rapporteur . – Mr President , India and the EU need to work together to combat the climate crisis and promote human rights and peace . These are some of the things emphasised in the recommendation to the EU-India leaders ’ meeting on 8 May . We must build a strong and enduring partnership with India but , first and foremost , we need to be there to help our partner today . Currently , the alarming situation of the COVID-19 pandemic in India requires our immediate attention . At the beginning of the year , it seemed as if India had already won the battle against the virus ; but , as we know , things change rapidly with this pandemic . Currently , India is facing an unprecedented COVID-19 crisis , witnessing a record number of infections and mortalities . That is why we should extend as much help as possible to the Indian people . I fully welcome the Commission ’ s announcement to provide support to India following the request they made to the EU . Portugal , Belgium , Romania , Luxembourg and Sweden have so far offered their assistance through the EU Civil Protection Mechanism , and it would be very important for many more of our Member States to contribute as soon as possible . The first shipment of assistance from Britain arrived in India yesterday , and with the situation in which the Indian Health Services are in – lacking oxygen , ventilators , other medications and also vaccinations – the speed of assistance from the EU is of the essence . India showed solidarity with many countries earlier on in the pandemic by contributing to the COVAX system and donating free vaccines to low-income countries . Now that the tables have turned , we must show India at least the same kind of solidarity . This is a moral imperative , but it ’ s also a precondition for us all to one day surmount this daunting health crisis . We truly are all in this together . This call for cooperation is exactly what I hope to also convey with our recommendations for the EU—India leaders ’ summit . We need to strengthen our partnership , and while EU-India cooperation already extends to many sectors , there is plenty more to build on . Our countries have a lot in common . Both the EU and India have a strong motivation to tackle climate change and what we need now is mutual action . As the world ’ s largest democracies , we have all the possibilities to build climate diplomacy and promote cutting emissions globally . However , the EU—27 and India are still the third and fourth largest emitters of CO2 emissions worldwide respectively , even though India is currently on track to achieve and go beyond its nationally determined contributions . The EU and India must both , therefore , do more to tackle climate change with ambitious targets and also by collaborating in technological innovations . We need to commit to climate neutrality and the Paris Agreement . We have the tools and skills to do this , so let ’ s rise to the challenge together . The EU-India high-level meeting will convene in virtual format on 8 May and will take stock of the implementation of our partnership and the roadmap 2025 that was agreed upon last July . Now I hope that the positive progress made in many areas will give us the confidence to effectively address human rights questions . We have to place human rights and our values at the heart of the EU ’ s engagement with India , thereby enabling a results-oriented and constructive dialogue . This applies for both the EU and India . We need concrete goals and progress in basic rights , freedom of speech and assembly , minority rights and democracy . And I have to say that the EU is also far from reaching all of its goals in terms of human rights and democracy . So there is a lot to work on . EU-India local human rights dialogue took place recently , but this is far from enough to address the human rights concerns that should be brought to the discussion with the leaders at the highest level . The EU is currently discussing the emerging Indo-Pacific strategy and I welcome the coordination between EU and India policies in the region . We need shared commitment and cooperation for sustainable peace and security , and we also need joint efforts to integrate women and young people in decision-making , and also strategies on peace and security . I see many possibilities for future cooperation , but now health is the priority , and we must help India . My wish is that the EU will prove our partnership with India in practice with solidarity . "
     ]
    }
   ],
   "source": [
    "raw1_1 = 'Alviina Alametsä, rapporteur. – Mr President, India and the EU need to work together to combat the climate crisis and promote human rights and peace. These are some of the things emphasised in the recommendation to the EU-India leaders’ meeting on 8 May. We must build a strong and enduring partnership with India but, first and foremost, we need to be there to help our partner today. Currently, the alarming situation of the COVID-19 pandemic in India requires our immediate attention. At the beginning of the year, it seemed as if India had already won the battle against the virus; but, as we know, things change rapidly with this pandemic. Currently, India is facing an unprecedented COVID-19 crisis, witnessing a record number of infections and mortalities. That is why we should extend as much help as possible to the Indian people. I fully welcome the Commission’s announcement to provide support to India following the request they made to the EU. Portugal, Belgium, Romania, Luxembourg and Sweden have so far offered their assistance through the EU Civil Protection Mechanism, and it would be very important for many more of our Member States to contribute as soon as possible. The first shipment of assistance from Britain arrived in India yesterday, and with the situation in which the Indian Health Services are in – lacking oxygen, ventilators, other medications and also vaccinations – the speed of assistance from the EU is of the essence. India showed solidarity with many countries earlier on in the pandemic by contributing to the COVAX system and donating free vaccines to low-income countries. Now that the tables have turned, we must show India at least the same kind of solidarity. This is a moral imperative, but it’s also a precondition for us all to one day surmount this daunting health crisis. We truly are all in this together. This call for cooperation is exactly what I hope to also convey with our recommendations for the EU—India leaders’ summit. We need to strengthen our partnership, and while EU-India cooperation already extends to many sectors, there is plenty more to build on. Our countries have a lot in common. Both the EU and India have a strong motivation to tackle climate change and what we need now is mutual action. As the world’s largest democracies, we have all the possibilities to build climate diplomacy and promote cutting emissions globally. However, the EU—27 and India are still the third and fourth largest emitters of CO2 emissions worldwide respectively, even though India is currently on track to achieve and go beyond its nationally determined contributions. The EU and India must both, therefore, do more to tackle climate change with ambitious targets and also by collaborating in technological innovations. We need to commit to climate neutrality and the Paris Agreement. We have the tools and skills to do this, so let’s rise to the challenge together. The EU-India high-level meeting will convene in virtual format on 8 May and will take stock of the implementation of our partnership and the roadmap 2025 that was agreed upon last July. Now I hope that the positive progress made in many areas will give us the confidence to effectively address human rights questions. We have to place human rights and our values at the heart of the EU’s engagement with India, thereby enabling a results-oriented and constructive dialogue. This applies for both the EU and India. We need concrete goals and progress in basic rights, freedom of speech and assembly, minority rights and democracy. And I have to say that the EU is also far from reaching all of its goals in terms of human rights and democracy. So there is a lot to work on. EU-India local human rights dialogue took place recently, but this is far from enough to address the human rights concerns that should be brought to the discussion with the leaders at the highest level. The EU is currently discussing the emerging Indo-Pacific strategy and I welcome the coordination between EU and India policies in the region. We need shared commitment and cooperation for sustainable peace and security, and we also need joint efforts to integrate women and young people in decision-making, and also strategies on peace and security. I see many possibilities for future cooperation, but now health is the priority, and we must help India. My wish is that the EU will prove our partnership with India in practice with solidarity.'\n",
    "tokens1_1 = word_tokenize(raw1_1)\n",
    "for word in tokens1_1:\n",
    "    print(word, end=' ')"
   ]
  },
  {
   "cell_type": "code",
   "execution_count": 9,
   "metadata": {},
   "outputs": [
    {
     "name": "stdout",
     "output_type": "stream",
     "text": [
      "Ylva Johansson , Member of the Commission , on behalf of the Vice—President of the Commission / High Representative of the Union for Foreign Affairs and Security Policy . – Mr President , honourable Members of the European Parliament , I ’ m pleased to participate in this exchange with you on behalf of the VP/HR Borrell , on the important matter of EU—India relations . First I would like to thank the rapporteur Alviina Alametsä and colleague MEPs who have worked to prepare the report you are presenting here today . It could not be more timely and comprehensive . In January last year , the first visit outside the EU of Mr Borrell as VP/HR was to India . This is a clear sign of the importance the EU attaches to our relations . The EU—India strategic partnership still has a lot of untapped potential , and since last July ’ s summit we have observed a step change in the intensity of our exchange . We are at a crucial juncture in the consolidation of the EU—India strategic partnership . Only ten months after the July 2020 summit , we are preparing a virtual EU—India leaders meeting next week , with all EU—27 heads of state and government attending , together with Prime Minister Modi and the Presidents of the European Council and the European Commission . The response to the COVID—19 pandemic and the aim to jointly build global health preparedness and resilience is at the heart of the upcoming meeting . India is particularly hard hit , and the EU has offered its concrete support . We have now activated the EU civil protection mechanism upon request from India and we are doing our utmost to mobilise assistance rapidly by coordinating EU Member States that are ready to provide support . So far 15 Member States have offered concrete support in the form of liquid oxygen , ventilators and medicine . Another shared challenge is climate change . At the leaders meeting we also hope to confirm ambitious commitments ahead of the COP26 . India ’ s contribution to the Paris goals is essential for attaining the ultimate target of carbon neutrality . As we speak , the EU—India climate change dialogue is taking place . We aim to cooperate more closely with India on all aspects of the digital transformation , and we are preparing the first meeting of the Joint Task Force on Artificial Intelligence . Trade and investment relations is also an area in which our cooperation can grow . We also strive to deepen cooperation with India on foreign affairs and security for a safer , prosperous and more democratic world , from Afghanistan to Myanmar to eastern Africa . There is big potential for working together now that India is a non—permanent member of the UN Security Council , sits on the UN Human Rights Council and will hold the G20 Presidency in 2023 . India has a pivotal role in the defence of a free , open , inclusive and rules—based Indo—Pacific space . The most recent Council conclusions on the EU strategy for cooperation in the Indo—Pacific will enable the EU to engage much more with India on this . We also plan to launch an EU—India connectivity partnership which should cover the areas of digital energy , transport and human connectivity , through bilateral cooperation , but also by converging our efforts to better connectivity with third countries and regions . Human rights and democratic values are also at the heart of our engagement with India . Your report highlights a number of concerns . Let me assure you that the EU raises these matters with India through different channels . Earlier this month , in the Ninth EU—India human rights dialogue , the EU expressed the need for greater engagement on several human rights issues and we underlined the important role that civil society actors and journalists play in a vibrant democracy . Further , we agreed to enhance our cooperation in international fora , particularly at the UN General Assembly and UN Human Rights Council . Finally , let me stress that the Commission attached great importance to the parliamentary dimension of the EU—India strategic partnership and we welcome the recent understanding reached between this Parliament and the Lok Sabha to intensify interparliamentary exchange . "
     ]
    }
   ],
   "source": [
    "raw1_2 = 'Ylva Johansson, Member of the Commission, on behalf of the Vice—President of the Commission / High Representative of the Union for Foreign Affairs and Security Policy. – Mr President, honourable Members of the European Parliament, I’m pleased to participate in this exchange with you on behalf of the VP/HR Borrell, on the important matter of EU—India relations. First I would like to thank the rapporteur Alviina Alametsä and colleague MEPs who have worked to prepare the report you are presenting here today. It could not be more timely and comprehensive. In January last year, the first visit outside the EU of Mr Borrell as VP/HR was to India. This is a clear sign of the importance the EU attaches to our relations. The EU—India strategic partnership still has a lot of untapped potential, and since last July’s summit we have observed a step change in the intensity of our exchange. We are at a crucial juncture in the consolidation of the EU—India strategic partnership. Only ten months after the July 2020 summit, we are preparing a virtual EU—India leaders meeting next week, with all EU—27 heads of state and government attending, together with Prime Minister Modi and the Presidents of the European Council and the European Commission. The response to the COVID—19 pandemic and the aim to jointly build global health preparedness and resilience is at the heart of the upcoming meeting. India is particularly hard hit, and the EU has offered its concrete support. We have now activated the EU civil protection mechanism upon request from India and we are doing our utmost to mobilise assistance rapidly by coordinating EU Member States that are ready to provide support. So far 15 Member States have offered concrete support in the form of liquid oxygen, ventilators and medicine. Another shared challenge is climate change. At the leaders meeting we also hope to confirm ambitious commitments ahead of the COP26. India’s contribution to the Paris goals is essential for attaining the ultimate target of carbon neutrality. As we speak, the EU—India climate change dialogue is taking place. We aim to cooperate more closely with India on all aspects of the digital transformation, and we are preparing the first meeting of the Joint Task Force on Artificial Intelligence. Trade and investment relations is also an area in which our cooperation can grow. We also strive to deepen cooperation with India on foreign affairs and security for a safer, prosperous and more democratic world, from Afghanistan to Myanmar to eastern Africa. There is big potential for working together now that India is a non—permanent member of the UN Security Council, sits on the UN Human Rights Council and will hold the G20 Presidency in 2023. India has a pivotal role in the defence of a free, open, inclusive and rules—based Indo—Pacific space. The most recent Council conclusions on the EU strategy for cooperation in the Indo—Pacific will enable the EU to engage much more with India on this. We also plan to launch an EU—India connectivity partnership which should cover the areas of digital energy, transport and human connectivity, through bilateral cooperation, but also by converging our efforts to better connectivity with third countries and regions. Human rights and democratic values are also at the heart of our engagement with India. Your report highlights a number of concerns. Let me assure you that the EU raises these matters with India through different channels. Earlier this month, in the Ninth EU—India human rights dialogue, the EU expressed the need for greater engagement on several human rights issues and we underlined the important role that civil society actors and journalists play in a vibrant democracy. Further, we agreed to enhance our cooperation in international fora, particularly at the UN General Assembly and UN Human Rights Council. Finally, let me stress that the Commission attached great importance to the parliamentary dimension of the EU—India strategic partnership and we welcome the recent understanding reached between this Parliament and the Lok Sabha to intensify interparliamentary exchange.'\n",
    "tokens1_2 = word_tokenize(raw1_2)\n",
    "for word in tokens1_2:\n",
    "    print(word, end=' ')"
   ]
  },
  {
   "cell_type": "markdown",
   "metadata": {},
   "source": [
    "---\n",
    "### Combine all parts"
   ]
  },
  {
   "cell_type": "code",
   "execution_count": 10,
   "metadata": {},
   "outputs": [],
   "source": [
    "tokens = tokens1_1 + tokens1_2 "
   ]
  },
  {
   "cell_type": "markdown",
   "metadata": {},
   "source": [
    "---\n",
    "### Normalize the words "
   ]
  },
  {
   "cell_type": "code",
   "execution_count": 11,
   "metadata": {},
   "outputs": [],
   "source": [
    "type(tokens)\n",
    "eutext10 = [w.lower() for w in tokens]"
   ]
  },
  {
   "cell_type": "markdown",
   "metadata": {},
   "source": [
    "---\n",
    "**Save Output**"
   ]
  },
  {
   "cell_type": "code",
   "execution_count": 12,
   "metadata": {},
   "outputs": [],
   "source": [
    "save_path = '/Users/charlottekaiser/Documents/uni/Hertie/master_thesis/00_data/20_intermediate_files'\n",
    "file_name = \"EU10_EU-India relations.txt\"\n",
    "completeName = os.path.join(save_path, file_name)\n",
    "output = open(completeName, 'w')\n",
    "print(eutext10, file=output)"
   ]
  }
 ],
 "metadata": {
  "interpreter": {
   "hash": "a9869976cf380d12cb70e759e57434a8e82bae01a9f74e734956416b40621c64"
  },
  "kernelspec": {
   "display_name": "Python 3.9.7 ('base')",
   "language": "python",
   "name": "python3"
  },
  "language_info": {
   "codemirror_mode": {
    "name": "ipython",
    "version": 3
   },
   "file_extension": ".py",
   "mimetype": "text/x-python",
   "name": "python",
   "nbconvert_exporter": "python",
   "pygments_lexer": "ipython3",
   "version": "3.9.7"
  },
  "orig_nbformat": 4
 },
 "nbformat": 4,
 "nbformat_minor": 2
}
