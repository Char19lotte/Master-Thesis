{
 "cells": [
  {
   "cell_type": "markdown",
   "metadata": {},
   "source": [
    "### *Data Collection - European Parliament*\n",
    "## Preparing Raw Data\n",
    "---\n",
    "**Sample Text 5**\n",
    "Title: Shaping digital education policy (short presentation) <br>\n",
    "Date: March 24, 2021 - Brussels"
   ]
  },
  {
   "cell_type": "code",
   "execution_count": 1,
   "metadata": {},
   "outputs": [],
   "source": [
    "# import necessary libraries\n",
    "import requests\n",
    "from requests_html import HTMLSession\n",
    "import urllib.request\n",
    "import time\n",
    "from bs4 import BeautifulSoup\n",
    "import urllib\n",
    "from urllib import request\n",
    "from __future__ import division\n",
    "import nltk, re, pprint\n",
    "from nltk import word_tokenize\n",
    "from nltk import FreqDist\n",
    "import os.path \n",
    "import pandas as pd"
   ]
  },
  {
   "cell_type": "markdown",
   "metadata": {},
   "source": [
    "---\n",
    "### Process: Trimming debate by inserting the original English or translated English files and tokenizing them.\n",
    "*Note*: Due to time constraint, the process has been optimized.\n",
    "\n",
    "- English parts of the debate will be added manually as a string and then tokenized. \n",
    "\n",
    "- A consistent method of translating and then adding will be applied to all EU Parliament debates:  Non-English parts are copied from the original web pages, inserted in the consistent choice of translation tool, Google Translate (https://translate.google.com/?hl=de&tab=TT), translated to English and pasted in as a string. \n",
    "\n",
    "- Afterwards, the same steps are applied as per usual (tokenizing, standardizing).\n",
    "\n",
    "Because of the changed process, the URL and step of webscraping are technically no longer necessary, will however be included for the purpose of completeness. "
   ]
  },
  {
   "cell_type": "code",
   "execution_count": 2,
   "metadata": {},
   "outputs": [],
   "source": [
    "# url = \"https://www.europarl.europa.eu/doceo/document/CRE-9-2021-03-24-ITM-026_EN.html\"\n",
    "# html = requests.get(url)\n",
    "# raw = BeautifulSoup(html.content, 'html.parser').get_text()"
   ]
  },
  {
   "cell_type": "code",
   "execution_count": 3,
   "metadata": {},
   "outputs": [
    {
     "name": "stdout",
     "output_type": "stream",
     "text": [
      "Victor Negrescu , rapporteur . - Madam President , Commissioner , dear colleagues , access to education , including through digital means , is a right . Unfortunately , the pandemic has caused millions of students around the world to switch to an online form of education almost instantly , without being prepared for it . In some European countries , as is the case in my country , Romania , almost one million children have not had access to education and unfortunately more than a year after the start of the pandemic , the authorities still have no solution . Digital education does not mean giving a student a tablet , it means appropriate tools , methods and resources , platforms adapted to the educational process and investments in teacher training and continuing education . Online education does not replace teachers , but digital tools , used correctly , can help them in the teaching process . Adapted measures are needed to take into account the profile of the student and the educational act , so we need measures for technical education and others for special education , some for continuing education and specific measures for preschool education . In the last year we have developed solutions for making digital education accessible , we have talked to teachers , parents and students , we have interacted with local authorities , social partners and NGOs from all over Europe and I can tell you that the situation is very serious . For the success of the digitalization of education , it is necessary for all these actors to become co-creators of the transformation of education . As soon as a child is unable to connect , he or she becomes a safe victim of dropping out of school . A young man dropped out of school has no choice . The reality is that , unfortunately , we are not prepared for a new wave of pandemics that could completely shut down schools . As Members of the European Parliament , we call for a European answer to the crisis faced by education . We need European policies in the field of digital education . Building a European education area by 2025 and fully implementing the European digital education action plan represent key steps . We appreciate the involvement of the European Commission team in charge of digital education and we call upon Member States to deliver the European targets by providing adequate resources and funding . We need to narrow the gap now , and the key is education in all policies . Unfortunately , some European governments prefer ignoring European documents . This is why , in the draft working document of August last year , we started calling for a minimum allocation of 10 % for education in the recovery and resilience plan . At the same time , it is important to respect the 20 % earmark for the digital transformation . Therefore , we believe education should be better highlighted in the European Semester framework while at the same time adding an extended evaluation on digital education . I continue with a few suggestions . There is a call for better synergy between programs and policies at European level , with better coordination and direct involvement of the European Parliament in digital education applications . The European exchange platform is being called for to be finalized and the Commission has been called upon to develop a European online university . Investment must be made in the technical infrastructure of formal and non-formal educational institutions . That ’ s why we talk about the internet as a universal good . The European Initiative for Robotics and Artificial Intelligence Education is launched . The idea of ​​a European Certificate in Digital Skills is supported , and Member States are being asked to invest more in teacher training . There is talk of the risks associated with the Internet and the continued use of technology , while emphasizing the importance of early digital skills and media education . I will finish in Romanian . Our report provides solutions and shows what we can do together at European level . No strategy for digitizing education can be done without people . So my invitation is to involve everyone who wants to build a European policy on digital education . "
     ]
    }
   ],
   "source": [
    "raw1_1 = 'Victor Negrescu, rapporteur. - Madam President, Commissioner, dear colleagues, access to education, including through digital means, is a right. Unfortunately, the pandemic has caused millions of students around the world to switch to an online form of education almost instantly, without being prepared for it. In some European countries, as is the case in my country, Romania, almost one million children have not had access to education and unfortunately more than a year after the start of the pandemic, the authorities still have no solution. Digital education does not mean giving a student a tablet, it means appropriate tools, methods and resources, platforms adapted to the educational process and investments in teacher training and continuing education. Online education does not replace teachers, but digital tools, used correctly, can help them in the teaching process. Adapted measures are needed to take into account the profile of the student and the educational act, so we need measures for technical education and others for special education, some for continuing education and specific measures for preschool education. In the last year we have developed solutions for making digital education accessible, we have talked to teachers, parents and students, we have interacted with local authorities, social partners and NGOs from all over Europe and I can tell you that the situation is very serious. For the success of the digitalization of education, it is necessary for all these actors to become co-creators of the transformation of education. As soon as a child is unable to connect, he or she becomes a safe victim of dropping out of school. A young man dropped out of school has no choice. The reality is that, unfortunately, we are not prepared for a new wave of pandemics that could completely shut down schools. As Members of the European Parliament, we call for a European answer to the crisis faced by education. We need European policies in the field of digital education. Building a European education area by 2025 and fully implementing the European digital education action plan represent key steps. We appreciate the involvement of the European Commission team in charge of digital education and we call upon Member States to deliver the European targets by providing adequate resources and funding. We need to narrow the gap now, and the key is education in all policies. Unfortunately, some European governments prefer ignoring European documents. This is why, in the draft working document of August last year, we started calling for a minimum allocation of 10% for education in the recovery and resilience plan. At the same time, it is important to respect the 20% earmark for the digital transformation. Therefore, we believe education should be better highlighted in the European Semester framework while at the same time adding an extended evaluation on digital education. I continue with a few suggestions. There is a call for better synergy between programs and policies at European level, with better coordination and direct involvement of the European Parliament in digital education applications. The European exchange platform is being called for to be finalized and the Commission has been called upon to develop a European online university. Investment must be made in the technical infrastructure of formal and non-formal educational institutions. That’s why we talk about the internet as a universal good. The European Initiative for Robotics and Artificial Intelligence Education is launched. The idea of ​​a European Certificate in Digital Skills is supported, and Member States are being asked to invest more in teacher training. There is talk of the risks associated with the Internet and the continued use of technology, while emphasizing the importance of early digital skills and media education. I will finish in Romanian. Our report provides solutions and shows what we can do together at European level. No strategy for digitizing education can be done without people. So my invitation is to involve everyone who wants to build a European policy on digital education.'\n",
    "tokens1_1 = word_tokenize(raw1_1)\n",
    "for word in tokens1_1:\n",
    "    print(word, end=' ')"
   ]
  },
  {
   "cell_type": "code",
   "execution_count": 4,
   "metadata": {},
   "outputs": [
    {
     "name": "stdout",
     "output_type": "stream",
     "text": [
      "Virginijus Sinkevičius , Member of the Commission . – Madam President , let me thank the rapporteur – the Vice—Chair of the Committee on Culture and Education – Victor Negrescu , the shadow rapporteurs and the entire Culture Committee for this excellent report . The European Parliament and the European Commission are closely aligned in their ambition to achieve high-quality , inclusive digital education across the Union . Therefore , the Commission warmly welcomes the support of the European Parliament for the digital education action plan 2021—2027 . We had a challenging year , and the crisis is not over yet . Despite years of continuous work on digital education , education and training was one of the sectors most affected by the COVID-19 crisis . When it comes to distance learning , Member States showed different levels of preparedness and it is estimated that at least 100 million learners in Europe were affected by the crisis , especially young pupils . The crisis was also the first distance-teaching experience of most teachers and educators . Parents also found it difficult to find a balance between supporting their children and working from home . The lessons are clear . Firstly , there is a pressing need for more comprehensive , ambitious and long—term digital policies to ensure that all necessary conditions for digital education are in place – infrastructure , equipment , strategies , online learning content and adequate teacher training and pedagogies – and that people of all ages and backgrounds have the necessary digital skills and competences to live and thrive in the digital age . Secondly , there is a need to focus on implementing these policies . With the recovery ahead of us , all citizens need to be ready to take an active part in the growing digital economy and society . This is the approach the Commission took when adopting the digital education action plan which is built around two priorities : the development of a high-performing digital education ecosystem and the enhancement of digital skills and competences for the digital transition . The action plan contributes to the objectives of the European education area , the skills agenda , the recently adopted European Pillar of Social Rights action plan and the new digital decade communication . Through the digital education action plan , the Commission demonstrates its commitment to promoting digital education in an inclusive and lifelong-learning manner , fostering the development of digital skills and competences , including digital literacy and computer science . This extends to individuals who may already have left the formal education and training system and who may need help during the precarious school—to—work and job—to—job transition . That is also where our youth employment support comes into play , and in particular its strengthened Youth Guarantee , with a strong focus on helping unemployed or inactive young people reach a minimum level of digital skills . The recently adopted Council recommendation on vocational education and training also puts a strong emphasis on the importance of digital provision of education and training . It foresees that vocational education and training institutions should have access to state-of-the-art infrastructure and have digitalisation strategies in place . As a first deliverable of the digital education action plan in 2021 , the Commission will propose a Council recommendation on distance and online learning . It will outline ways in which Member States could adapt their school systems to be more flexible and inclusive of a broad range of learner needs , changing circumstances and pedagogical approaches . The strategic dialogue with Member States on the enabling factors for successful digital education that will be launched this year will contribute to the discussion on how to address gaps in digital education . In response to other important challenges , such as the use of artificial intelligence and data in education and the infodemic that accompanied the COVID-19 pandemic , the Commission has started work on ethical guidelines for teachers on artificial intelligence and data in education and training , as well as common guidelines on digital literacy and addressing disinformation . With the digital education action plan , we have clearly outlined the strategic and long—term importance of digital education for the digital transformation in Europe and the need to act now . The strategic importance of digital education is further reflected in the recently adopted digital decade communication . In this communication , the Commission identified a digitally skilled population , widespread high-speed connectivity and the need for an effective digital education ecosystem as part of the long-term vision for the third decade of the 21st century . The communication has digital skills as one of its four pillars and also refers to the principle of universal digital education and skills for people to take an active part in society and in democratic processes . The digital education action plan and the digital decade communication are a clear sign of the synergies and complementarity that must be ensured across digital policies . To achieve our objective , however , we need to ensure that high-quality , inclusive digital education is a shared responsibility for our whole society . This calls for targeted efforts , including investments at European , national and regional level , and the active engagement of all stakeholders , policymakers , the education and training community , civil society and of course the private sector . We also need stronger cooperation at EU level . One way to achieve this is through the digital education hub . The hub will be the interface for digital education at European level . Investing in digital education is at the core of long-term , effective digital education policies . At European level , Erasmus+ , Horizon Europe , the Connecting Europe facility , Digital Europe and the Cohesion Fund support the creation of the digital education ecosystem and boost digital skills and competences . However , the key instrument in the short term is without any doubt the Recovery and Resilience Facility , which is at Member States ’ disposal to directly address the areas where more support is needed . Twenty per cent of the budget of the Recovery and Resilience Facility is dedicated to the Digital Transition . It ’ s already encouraging that digital education and skills are supported widely in the draft recovery and resilience plans submitted by Member States , and I ’ m delighted that Parliament is calling on Member States to invest even more . The Commission remains committed to continue working with the Parliament in the implementation of the digital education action plan and to ensure that European education and training in the digital age are built on quality and resilience , and work for all citizens . "
     ]
    }
   ],
   "source": [
    "raw1_2 = 'Virginijus Sinkevičius, Member of the Commission. – Madam President, let me thank the rapporteur – the Vice—Chair of the Committee on Culture and Education – Victor Negrescu, the shadow rapporteurs and the entire Culture Committee for this excellent report. The European Parliament and the European Commission are closely aligned in their ambition to achieve high-quality, inclusive digital education across the Union. Therefore, the Commission warmly welcomes the support of the European Parliament for the digital education action plan 2021—2027. We had a challenging year, and the crisis is not over yet. Despite years of continuous work on digital education, education and training was one of the sectors most affected by the COVID-19 crisis. When it comes to distance learning, Member States showed different levels of preparedness and it is estimated that at least 100 million learners in Europe were affected by the crisis, especially young pupils. The crisis was also the first distance-teaching experience of most teachers and educators. Parents also found it difficult to find a balance between supporting their children and working from home. The lessons are clear. Firstly, there is a pressing need for more comprehensive, ambitious and long—term digital policies to ensure that all necessary conditions for digital education are in place – infrastructure, equipment, strategies, online learning content and adequate teacher training and pedagogies – and that people of all ages and backgrounds have the necessary digital skills and competences to live and thrive in the digital age. Secondly, there is a need to focus on implementing these policies. With the recovery ahead of us, all citizens need to be ready to take an active part in the growing digital economy and society. This is the approach the Commission took when adopting the digital education action plan which is built around two priorities: the development of a high-performing digital education ecosystem and the enhancement of digital skills and competences for the digital transition. The action plan contributes to the objectives of the European education area, the skills agenda, the recently adopted European Pillar of Social Rights action plan and the new digital decade communication. Through the digital education action plan, the Commission demonstrates its commitment to promoting digital education in an inclusive and lifelong-learning manner, fostering the development of digital skills and competences, including digital literacy and computer science. This extends to individuals who may already have left the formal education and training system and who may need help during the precarious school—to—work and job—to—job transition. That is also where our youth employment support comes into play, and in particular its strengthened Youth Guarantee, with a strong focus on helping unemployed or inactive young people reach a minimum level of digital skills. The recently adopted Council recommendation on vocational education and training also puts a strong emphasis on the importance of digital provision of education and training. It foresees that vocational education and training institutions should have access to state-of-the-art infrastructure and have digitalisation strategies in place. As a first deliverable of the digital education action plan in 2021, the Commission will propose a Council recommendation on distance and online learning. It will outline ways in which Member States could adapt their school systems to be more flexible and inclusive of a broad range of learner needs, changing circumstances and pedagogical approaches. The strategic dialogue with Member States on the enabling factors for successful digital education that will be launched this year will contribute to the discussion on how to address gaps in digital education. In response to other important challenges, such as the use of artificial intelligence and data in education and the infodemic that accompanied the COVID-19 pandemic, the Commission has started work on ethical guidelines for teachers on artificial intelligence and data in education and training, as well as common guidelines on digital literacy and addressing disinformation. With the digital education action plan, we have clearly outlined the strategic and long—term importance of digital education for the digital transformation in Europe and the need to act now. The strategic importance of digital education is further reflected in the recently adopted digital decade communication. In this communication, the Commission identified a digitally skilled population, widespread high-speed connectivity and the need for an effective digital education ecosystem as part of the long-term vision for the third decade of the 21st century. The communication has digital skills as one of its four pillars and also refers to the principle of universal digital education and skills for people to take an active part in society and in democratic processes. The digital education action plan and the digital decade communication are a clear sign of the synergies and complementarity that must be ensured across digital policies. To achieve our objective, however, we need to ensure that high-quality, inclusive digital education is a shared responsibility for our whole society. This calls for targeted efforts, including investments at European, national and regional level, and the active engagement of all stakeholders, policymakers, the education and training community, civil society and of course the private sector. We also need stronger cooperation at EU level. One way to achieve this is through the digital education hub. The hub will be the interface for digital education at European level. Investing in digital education is at the core of long-term, effective digital education policies. At European level, Erasmus+, Horizon Europe, the Connecting Europe facility, Digital Europe and the Cohesion Fund support the creation of the digital education ecosystem and boost digital skills and competences. However, the key instrument in the short term is without any doubt the Recovery and Resilience Facility, which is at Member States’ disposal to directly address the areas where more support is needed. Twenty per cent of the budget of the Recovery and Resilience Facility is dedicated to the Digital Transition. It’s already encouraging that digital education and skills are supported widely in the draft recovery and resilience plans submitted by Member States, and I’m delighted that Parliament is calling on Member States to invest even more. The Commission remains committed to continue working with the Parliament in the implementation of the digital education action plan and to ensure that European education and training in the digital age are built on quality and resilience, and work for all citizens.'\n",
    "tokens1_2 = word_tokenize(raw1_2)\n",
    "for word in tokens1_2:\n",
    "    print(word, end=' ')"
   ]
  },
  {
   "cell_type": "markdown",
   "metadata": {},
   "source": [
    "---\n",
    "### Combine all parts"
   ]
  },
  {
   "cell_type": "code",
   "execution_count": 5,
   "metadata": {},
   "outputs": [],
   "source": [
    "tokens = tokens1_1 + tokens1_2 "
   ]
  },
  {
   "cell_type": "markdown",
   "metadata": {},
   "source": [
    "---\n",
    "### Normalize the words "
   ]
  },
  {
   "cell_type": "code",
   "execution_count": 6,
   "metadata": {},
   "outputs": [],
   "source": [
    "type(tokens)\n",
    "eutext05 = [w.lower() for w in tokens]"
   ]
  },
  {
   "cell_type": "markdown",
   "metadata": {},
   "source": [
    "---\n",
    "**Save Output**"
   ]
  },
  {
   "cell_type": "code",
   "execution_count": 7,
   "metadata": {},
   "outputs": [],
   "source": [
    "save_path = '/Users/charlottekaiser/Documents/uni/Hertie/master_thesis/00_data/20_intermediate_files'\n",
    "file_name = \"EU05_Shaping digital education policy - short presentation.txt\"\n",
    "completeName = os.path.join(save_path, file_name)\n",
    "output = open(completeName, 'w')\n",
    "print(eutext05, file=output)"
   ]
  }
 ],
 "metadata": {
  "interpreter": {
   "hash": "a9869976cf380d12cb70e759e57434a8e82bae01a9f74e734956416b40621c64"
  },
  "kernelspec": {
   "display_name": "Python 3.9.7 ('base')",
   "language": "python",
   "name": "python3"
  },
  "language_info": {
   "codemirror_mode": {
    "name": "ipython",
    "version": 3
   },
   "file_extension": ".py",
   "mimetype": "text/x-python",
   "name": "python",
   "nbconvert_exporter": "python",
   "pygments_lexer": "ipython3",
   "version": "3.9.7"
  },
  "orig_nbformat": 4
 },
 "nbformat": 4,
 "nbformat_minor": 2
}
