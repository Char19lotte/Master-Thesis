{
 "cells": [
  {
   "cell_type": "markdown",
   "metadata": {},
   "source": [
    "### *Data Collection - European Parliament*\n",
    "## Preparing Raw Data\n",
    "---\n",
    "**Sample Text 17**\n",
    "Title: European Maritime, Fisheries and Aquaculture Fund <br>\n",
    "Date: July 5, 2021 - Brussels"
   ]
  },
  {
   "cell_type": "code",
   "execution_count": 18,
   "metadata": {},
   "outputs": [],
   "source": [
    "# import necessary libraries\n",
    "import requests\n",
    "from requests_html import HTMLSession\n",
    "import urllib.request\n",
    "import time\n",
    "from bs4 import BeautifulSoup\n",
    "import urllib\n",
    "from urllib import request\n",
    "from __future__ import division\n",
    "import nltk, re, pprint\n",
    "from nltk import word_tokenize\n",
    "from nltk import FreqDist\n",
    "import os.path \n",
    "import pandas as pd"
   ]
  },
  {
   "cell_type": "markdown",
   "metadata": {},
   "source": [
    "---\n",
    "### Process: Trimming debate by inserting the original English or translated English files and tokenizing them.\n",
    "*Note*: Due to time constraint, the process has been optimized.\n",
    "\n",
    "- English parts of the debate will be added manually as a string and then tokenized. \n",
    "\n",
    "- A consistent method of translating and then adding will be applied to all EU Parliament debates:  Non-English parts are copied from the original web pages, inserted in the consistent choice of translation tool, Google Translate (https://translate.google.com/?hl=de&tab=TT), translated to English and pasted in as a string. \n",
    "\n",
    "- Afterwards, the same steps are applied as per usual (tokenizing, standardizing).\n",
    "\n",
    "Because of the changed process, the URL and step of webscraping are technically no longer necessary, will however be included for the purpose of completeness. "
   ]
  },
  {
   "cell_type": "code",
   "execution_count": 19,
   "metadata": {},
   "outputs": [],
   "source": [
    "# url = \"https://www.europarl.europa.eu/doceo/document/CRE-9-2021-07-05-ITM-018_EN.html\"\n",
    "# html = requests.get(url)\n",
    "# raw = BeautifulSoup(html.content, 'html.parser').get_text()"
   ]
  },
  {
   "cell_type": "code",
   "execution_count": 20,
   "metadata": {},
   "outputs": [
    {
     "name": "stdout",
     "output_type": "stream",
     "text": [
      "Gabriel Mato , rapporteur . – Madam President , my first words must necessarily be of thanks . First of all , the shadow rapporteurs , Pierre Karleskind , Manuel Pizarro , Rosanna Conte , Ruža Tomašić , Francisco Guerreiro and João Ferreira . Your work has been essential . On the other hand , and very especially , I would like to express my special thanks to my colleague Francisco Millán Mon for having led the negotiations during the period in which I was out of Parliament . It was not easy and he had to work hard to avoid reopening the entire agreement and renegotiating this dossier , as some intended . If it had not been for him , surely we would not be here today debating the new Fund . Thanks Paco ! Likewise , I would like to express my gratitude to the successive presidencies of the Council that have been involved and especially to the German Presidency , which concluded this long road . Last but not least , my deepest thanks to Commissioner Sinkevičius , who has been present at all of our trilogues . We have had very tough debates , I admit , in which each one of us has defended our position , but the most important thing is that we have been able to reach an agreement . Thank you very much , commissioner ! This agreement is the result of the work of three years of difficult negotiations with the political groups and with the Council and the Commission , and with all the nuances that may be made to it , today we can say that we have achieved a good agreement . An agreement that , although some – the fewest , it is true – want to discredit , strictly complies with what was my first red line when I took charge of this report as rapporteur : that our fishermen fish in better conditions , but never that they fish more . The new Fund , with an endowment of 6,108 million euros , will contribute to more sustainable fishing , aquaculture and transformation , to support a blue economy and coastal communities and to promote international governance of the oceans . Let us not lose sight of the fact that the Fund has been negotiated in an exceptionally difficult situation , such as the loss of fishing grounds as a result of Brexit , the paralysis of the seafood value chain due to COVID-19 , the difficulties to achieve a true generational change , the need to offer better conditions to fishing boats while continuing to fight against overcapacity , the need to simplify the bureaucracy to be able to access these Funds or the obligations derived from the CFP , such as the landing obligation and to achieve the maximum sustainable yield . The challenge was enormous and I sincerely believe that we have achieved it . The agreed Fund helps to meet these challenges mentioned and to achieve increasingly ambitious goals . The current bureaucracy is replaced by a simplified system that gives the necessary flexibility to Member States to program the needs of their sectors without compromising transparency and accountability . Therefore , the Future Fund is easy to use . In addition , it is respectful of the rules of the World Trade Organization . It contains no harmful subsidies , no aid for the construction or acquisition of new fishing vessels , no increase in engine power , no direct subsidies for the increase of the fishing capacity of vessels over 24 meters and only for vessels of up to 24 and exclusively for the purpose of improving safety , working conditions or energy efficiency . And , in addition , a financial ceiling of 15 % for the main measures of the fleet . It is environmentally friendly and contributes to achieving the objectives of the Green Deal . We agree that combating biodiversity loss and maintaining healthy ecosystems will require significant public and private investment at national and European level . In addition , the new FEMPA allows financing investments that improve the energy efficiency , safety and working conditions of the fishing vessels of the European Union , also guaranteeing the sustainability of the sector . It also promotes generational change by supporting the first acquisition of vessels by young fishermen . One of the successes of the European Parliament is that the new FEMPA will especially support small-scale coastal fishing . The Member States shall take into account in their program the specific needs of this fishery . The same preferential treatment is reserved for fishermen without boats and shellfish gatherers . It will also support European aquaculture , promoting investment aimed at strengthening the competitiveness of aquaculture production , and , in addition , it introduces a crisis management plan that will allow support in emergency situations such as those experienced with COVID-19 . I would also like to point out , coming from an ultraperipheral region like the Canary Islands , that the final text of this agreement takes into account the specific limitations of these regions and that the current budget is maintained for compensation of additional costs , which may be completed by Member States with state aid through a simplified procedure . In short , the new FEMPA will allow better fishing , not more fishing . It will not prevent the sector from investing in the safety and welfare of workers and in environmentally efficient engines and vessels , and will allow for generational renewal , while providing all necessary safeguards to avoid overcapacity and overfishing . Member States now have a simplified Fund at their disposal and can start prioritizing and planning funding . But , above all , we have managed to reach an agreement that obliges us to preserve and promote the fragile balance reached between environmental , social and economic considerations . "
     ]
    }
   ],
   "source": [
    "raw1_1 = 'Gabriel Mato, rapporteur. – Madam President, my first words must necessarily be of thanks. First of all, the shadow rapporteurs, Pierre Karleskind, Manuel Pizarro, Rosanna Conte, Ruža Tomašić, Francisco Guerreiro and João Ferreira. Your work has been essential. On the other hand, and very especially, I would like to express my special thanks to my colleague Francisco Millán Mon for having led the negotiations during the period in which I was out of Parliament. It was not easy and he had to work hard to avoid reopening the entire agreement and renegotiating this dossier, as some intended. If it had not been for him, surely we would not be here today debating the new Fund. Thanks Paco! Likewise, I would like to express my gratitude to the successive presidencies of the Council that have been involved and especially to the German Presidency, which concluded this long road. Last but not least, my deepest thanks to Commissioner Sinkevičius, who has been present at all of our trilogues. We have had very tough debates, I admit, in which each one of us has defended our position, but the most important thing is that we have been able to reach an agreement. Thank you very much, commissioner! This agreement is the result of the work of three years of difficult negotiations with the political groups and with the Council and the Commission, and with all the nuances that may be made to it, today we can say that we have achieved a good agreement. An agreement that, although some – the fewest, it is true – want to discredit, strictly complies with what was my first red line when I took charge of this report as rapporteur: that our fishermen fish in better conditions, but never that they fish more. The new Fund, with an endowment of 6,108 million euros, will contribute to more sustainable fishing, aquaculture and transformation, to support a blue economy and coastal communities and to promote international governance of the oceans. Let us not lose sight of the fact that the Fund has been negotiated in an exceptionally difficult situation, such as the loss of fishing grounds as a result of Brexit, the paralysis of the seafood value chain due to COVID-19, the difficulties to achieve a true generational change, the need to offer better conditions to fishing boats while continuing to fight against overcapacity, the need to simplify the bureaucracy to be able to access these Funds or the obligations derived from the CFP, such as the landing obligation and to achieve the maximum sustainable yield. The challenge was enormous and I sincerely believe that we have achieved it. The agreed Fund helps to meet these challenges mentioned and to achieve increasingly ambitious goals. The current bureaucracy is replaced by a simplified system that gives the necessary flexibility to Member States to program the needs of their sectors without compromising transparency and accountability. Therefore, the Future Fund is easy to use. In addition, it is respectful of the rules of the World Trade Organization. It contains no harmful subsidies, no aid for the construction or acquisition of new fishing vessels, no increase in engine power, no direct subsidies for the increase of the fishing capacity of vessels over 24 meters and only for vessels of up to 24 and exclusively for the purpose of improving safety, working conditions or energy efficiency. And, in addition, a financial ceiling of 15% for the main measures of the fleet. It is environmentally friendly and contributes to achieving the objectives of the Green Deal. We agree that combating biodiversity loss and maintaining healthy ecosystems will require significant public and private investment at national and European level. In addition, the new FEMPA allows financing investments that improve the energy efficiency, safety and working conditions of the fishing vessels of the European Union, also guaranteeing the sustainability of the sector. It also promotes generational change by supporting the first acquisition of vessels by young fishermen. One of the successes of the European Parliament is that the new FEMPA will especially support small-scale coastal fishing. The Member States shall take into account in their program the specific needs of this fishery. The same preferential treatment is reserved for fishermen without boats and shellfish gatherers. It will also support European aquaculture, promoting investment aimed at strengthening the competitiveness of aquaculture production, and, in addition, it introduces a crisis management plan that will allow support in emergency situations such as those experienced with COVID-19. I would also like to point out, coming from an ultraperipheral region like the Canary Islands, that the final text of this agreement takes into account the specific limitations of these regions and that the current budget is maintained for compensation of additional costs, which may be completed by Member States with state aid through a simplified procedure. In short, the new FEMPA will allow better fishing, not more fishing. It will not prevent the sector from investing in the safety and welfare of workers and in environmentally efficient engines and vessels, and will allow for generational renewal, while providing all necessary safeguards to avoid overcapacity and overfishing . Member States now have a simplified Fund at their disposal and can start prioritizing and planning funding. But, above all, we have managed to reach an agreement that obliges us to preserve and promote the fragile balance reached between environmental, social and economic considerations.'\n",
    "tokens1_1 = word_tokenize(raw1_1)\n",
    "for word in tokens1_1:\n",
    "    print(word, end=' ')"
   ]
  },
  {
   "cell_type": "code",
   "execution_count": 21,
   "metadata": {},
   "outputs": [
    {
     "name": "stdout",
     "output_type": "stream",
     "text": [
      "Virginijus Sinkevičius , Member of the Commission . – Madam President , honourable Members , first of all , let me thank the two rapporteurs , Mr Mato and Mr Millán Mon , as well as , of course , all shadow rapporteurs and the entire Fisheries Committee ( PECH ) for their good cooperation . Although not present today , my thanks also goes to the former German Presidency , which was instrumental in securing the final agreement last December . The negotiations on the European Maritime Fisheries and Aquaculture Fund , the so-called EMFAF , were long and intense . They involved three presidencies and they were not always easy . But in the end , the outcome was good and balanced , which reflected our joint determination to reach an agreement and avoid major delays . Of course , each of the institutions had to compromise . But as we know , compromise is the essence of democracy . I have always been frank that the text is not perfect . The Commission would definitely have preferred a lower financial cap for fleet measures to secure more funding for core priorities such as sustainable fishing , fisheries control , collection of scientific data , innovation or local development . And as several of you said today , we had clearly hoped for a specific binding target or financial ring-fencing for climate objectives or for the protection of biodiversity . But overall , the result was a satisfactory one . I want to explicitly underline the importance of this agreement . First , because in the next decade , with all the challenges it will bring , we will have a new fund to support our fisheries , aquaculture , coastal areas and the blue economy . The post-Brexit and COVID-19 context has put the resilience of our maritime sectors to the test , and the EMFAF will help in finding solutions . Second , because the EMFAF will deliver on the objectives of the European Green Deal as regards the protection of marine biodiversity , the full transition to sustainable and low impact fishing and aquaculture , and contribute to our decarbonisation goals . In this context , as the Commission committed in the statement that accompanies the agreed text , let me be very clear : we will actively encourage Member States to reach the overall ambition in terms of annual spending under the multiannual framework to tackle biodiversity loss . And we will monitor this both during the programming process and during implementation . Where this monitoring shows insufficient progress , we will engage with Member States to adopt remedial measures , including programme amendments . Last but not least , in the end , we have managed to avoid harmful fisheries subsidies . The EMFAF now only contains subsidies that contribute positively to the Common Fisheries Policy and to our Green Deal objectives . This was my commitment during my confirmation hearing before this House in 2019 and I am glad to see that together we managed to achieve this . Nothing in the EMFAF increases the overall fishing capacity of the fleet , contributes to overfishing or encourages illegal fishing . This would have been totally unacceptable for the Commission and for me personally . I therefore welcome the balance we found between investing in the needs of the fleet and including the necessary safeguards to avoid overcapacity and overfishing . I know that some question this interpretation , but I am truly convinced that the EU can negotiate on fisheries subsidies at the World Trade Organization with clean hands . The agreement you will endorse this week puts us in a very good position to eliminate harmful subsidies worldwide and ensure a global level playing field . This , above all , is in the interests of EU fisheries . The new EMFAF will be geared towards the conservation and sustainable use of marine resources in line with our commitment under Sustainable Development Goal 14 . It will help us make further progress towards sustainable fisheries . It will promote low impact and low carbon fishing techniques . It will support conservation , management and control measures , underpinned by scientific knowledge . The new EMFAF will also contribute to the sector ’ s economic and social sustainability . In this regard , the EMFAF will enable investments and innovation and support the development of the skills of our fishermen and women , as well as their safety , which are key enablers for profitability and resilience . The COVID-19 crisis has indeed shown how important it is to increase the resilience of our fishing sector . The EMFAF will also support the digital transition of the fisheries and aquaculture sectors . IT and artificial intelligence are not only relevant for new emerging sectors but also traditional ones . The EMFAF precisely aims to unlock their potential and create new business opportunities in the long term . Digital tools will also contribute to modern , efficient and user-friendly fisheries control and traceability systems and are key for ensuring a level playing field for fishers across the EU . I am also satisfied with the results we achieved on small-scale coastal fishing . Even if the initial Commission proposal of a dedicated action plan was not retained , the national programmes will have to address the specific needs of small-scale vessels and develop adequate actions . And I can only reassure you that the Commission will analyse these elements very carefully when assessing the programme prepared by Member States . A key novelty in this EMFAF , compared with the previous fund , is the strategic approach for the outermost regions . The fund will continue to compensate the additional costs stemming from the specific situation of these regions and , in addition , will put in place the conditions for a profitable and sustainable blue economy . The EMFAF will not only contribute to sustainability in the EU , but dedicated funds will also be available to finance EU action on international ocean governance . Last but not least , I want to highlight the significant simplification . Compared with the previous fund , the new framework will be much less prescriptive on eligibility rules and will focus on results . Member States will have more flexibility and with it more responsibility to develop the actions that best respond to their needs . Simplification and monitoring go hand-in-hand and , in this respect , I want to thank the European Parliament for having defended a robust monitoring and evaluation framework . To conclude , the new EMFAF is a key financial tool to ensure that our fisheries and aquaculture sectors will manage the transition towards a green and digital future in line with the objectives of the European Green Deal . We will now monitor and accompany the implementation of the fund very closely to ensure that its objectives are achieved . And I look forward to its final adoption by the European Parliament . Thank you very much for your cooperation and for your attention . "
     ]
    }
   ],
   "source": [
    "raw1_2 = 'Virginijus Sinkevičius, Member of the Commission. – Madam President, honourable Members, first of all, let me thank the two rapporteurs, Mr Mato and Mr Millán Mon, as well as, of course, all shadow rapporteurs and the entire Fisheries Committee (PECH) for their good cooperation. Although not present today, my thanks also goes to the former German Presidency, which was instrumental in securing the final agreement last December. The negotiations on the European Maritime Fisheries and Aquaculture Fund, the so-called EMFAF, were long and intense. They involved three presidencies and they were not always easy. But in the end, the outcome was good and balanced, which reflected our joint determination to reach an agreement and avoid major delays. Of course, each of the institutions had to compromise. But as we know, compromise is the essence of democracy. I have always been frank that the text is not perfect. The Commission would definitely have preferred a lower financial cap for fleet measures to secure more funding for core priorities such as sustainable fishing, fisheries control, collection of scientific data, innovation or local development. And as several of you said today, we had clearly hoped for a specific binding target or financial ring-fencing for climate objectives or for the protection of biodiversity. But overall, the result was a satisfactory one. I want to explicitly underline the importance of this agreement. First, because in the next decade, with all the challenges it will bring, we will have a new fund to support our fisheries, aquaculture, coastal areas and the blue economy. The post-Brexit and COVID-19 context has put the resilience of our maritime sectors to the test, and the EMFAF will help in finding solutions. Second, because the EMFAF will deliver on the objectives of the European Green Deal as regards the protection of marine biodiversity, the full transition to sustainable and low impact fishing and aquaculture, and contribute to our decarbonisation goals. In this context, as the Commission committed in the statement that accompanies the agreed text, let me be very clear: we will actively encourage Member States to reach the overall ambition in terms of annual spending under the multiannual framework to tackle biodiversity loss. And we will monitor this both during the programming process and during implementation. Where this monitoring shows insufficient progress, we will engage with Member States to adopt remedial measures, including programme amendments. Last but not least, in the end, we have managed to avoid harmful fisheries subsidies. The EMFAF now only contains subsidies that contribute positively to the Common Fisheries Policy and to our Green Deal objectives. This was my commitment during my confirmation hearing before this House in 2019 and I am glad to see that together we managed to achieve this. Nothing in the EMFAF increases the overall fishing capacity of the fleet, contributes to overfishing or encourages illegal fishing. This would have been totally unacceptable for the Commission and for me personally. I therefore welcome the balance we found between investing in the needs of the fleet and including the necessary safeguards to avoid overcapacity and overfishing. I know that some question this interpretation, but I am truly convinced that the EU can negotiate on fisheries subsidies at the World Trade Organization with clean hands. The agreement you will endorse this week puts us in a very good position to eliminate harmful subsidies worldwide and ensure a global level playing field. This, above all, is in the interests of EU fisheries. The new EMFAF will be geared towards the conservation and sustainable use of marine resources in line with our commitment under Sustainable Development Goal 14. It will help us make further progress towards sustainable fisheries. It will promote low impact and low carbon fishing techniques. It will support conservation, management and control measures, underpinned by scientific knowledge. The new EMFAF will also contribute to the sector’s economic and social sustainability. In this regard, the EMFAF will enable investments and innovation and support the development of the skills of our fishermen and women, as well as their safety, which are key enablers for profitability and resilience. The COVID-19 crisis has indeed shown how important it is to increase the resilience of our fishing sector. The EMFAF will also support the digital transition of the fisheries and aquaculture sectors. IT and artificial intelligence are not only relevant for new emerging sectors but also traditional ones. The EMFAF precisely aims to unlock their potential and create new business opportunities in the long term. Digital tools will also contribute to modern, efficient and user-friendly fisheries control and traceability systems and are key for ensuring a level playing field for fishers across the EU. I am also satisfied with the results we achieved on small-scale coastal fishing. Even if the initial Commission proposal of a dedicated action plan was not retained, the national programmes will have to address the specific needs of small-scale vessels and develop adequate actions. And I can only reassure you that the Commission will analyse these elements very carefully when assessing the programme prepared by Member States. A key novelty in this EMFAF, compared with the previous fund, is the strategic approach for the outermost regions. The fund will continue to compensate the additional costs stemming from the specific situation of these regions and, in addition, will put in place the conditions for a profitable and sustainable blue economy. The EMFAF will not only contribute to sustainability in the EU, but dedicated funds will also be available to finance EU action on international ocean governance. Last but not least, I want to highlight the significant simplification. Compared with the previous fund, the new framework will be much less prescriptive on eligibility rules and will focus on results. Member States will have more flexibility and with it more responsibility to develop the actions that best respond to their needs. Simplification and monitoring go hand-in-hand and, in this respect, I want to thank the European Parliament for having defended a robust monitoring and evaluation framework. To conclude, the new EMFAF is a key financial tool to ensure that our fisheries and aquaculture sectors will manage the transition towards a green and digital future in line with the objectives of the European Green Deal. We will now monitor and accompany the implementation of the fund very closely to ensure that its objectives are achieved. And I look forward to its final adoption by the European Parliament. Thank you very much for your cooperation and for your attention.'\n",
    "tokens1_2 = word_tokenize(raw1_2)\n",
    "for word in tokens1_2:\n",
    "    print(word, end=' ')"
   ]
  },
  {
   "cell_type": "code",
   "execution_count": 22,
   "metadata": {},
   "outputs": [
    {
     "name": "stdout",
     "output_type": "stream",
     "text": [
      "Cláudia Monteiro de Aguiar , on behalf of the PPE Group . – Madam President , the approval of the new FEAMPA is of prime importance for the fisheries and aquaculture sector . Especially in a period of pandemic and economic crisis when support is scarce . However , I can not help but regret the insensitivity and injustice in the position of both the Council and the Commission regarding support for the purchase of new vessels for the small-scale fishing fleet , support that has been claimed and approved by this Parliament . It is not about fishing more or increasing the fleet , it is about fishing better and sustainably , with better conditions , including working conditions . Only those who are not familiar with the European fleet , its state of aging , particularly in the outermost regions , can think that modernizing existing vessels only solves the problem . It does not solve . If there is no support for the purchase , the abandonment of the activity will be an inevitable and dramatic consequence for some coastal communities . In Portugal , sustainable fishing gear may soon disappear . We regret that this situation happens in regions such as Madeira and the Azores , for whom sustainable art , the art of fishing , is also a form of sustainability and economy . "
     ]
    }
   ],
   "source": [
    "raw1_3 = 'Cláudia Monteiro de Aguiar, on behalf of the PPE Group. – Madam President, the approval of the new FEAMPA is of prime importance for the fisheries and aquaculture sector. Especially in a period of pandemic and economic crisis when support is scarce. However, I cannot help but regret the insensitivity and injustice in the position of both the Council and the Commission regarding support for the purchase of new vessels for the small-scale fishing fleet, support that has been claimed and approved by this Parliament. It is not about fishing more or increasing the fleet, it is about fishing better and sustainably, with better conditions, including working conditions. Only those who are not familiar with the European fleet, its state of aging, particularly in the outermost regions, can think that modernizing existing vessels only solves the problem. It does not solve. If there is no support for the purchase, the abandonment of the activity will be an inevitable and dramatic consequence for some coastal communities. In Portugal, sustainable fishing gear may soon disappear. We regret that this situation happens in regions such as Madeira and the Azores, for whom sustainable art, the art of fishing, is also a form of sustainability and economy.'\n",
    "tokens1_3 = word_tokenize(raw1_3)\n",
    "for word in tokens1_3:\n",
    "    print(word, end=' ')"
   ]
  },
  {
   "cell_type": "code",
   "execution_count": 23,
   "metadata": {},
   "outputs": [
    {
     "name": "stdout",
     "output_type": "stream",
     "text": [
      "Manuel Pizarro , on behalf of the S & D Group . – Madam President , Commissioner , I welcome the commitment of everyone to this long and difficult negotiation , which we managed to bring to a successful conclusion . The fisheries sector , hit hard by the effects of the pandemic and Brexit , urgently needs our support . I consider the result to be positive . I would like to highlight the financial support to improve safety , working and accommodation conditions on board the vessels , as well as the support for young fishermen to purchase a vessel . These are important measures to help the generational renewal so necessary for the sector . The FEAMPA will make an important contribution to the environmental , economic and social sustainability of the blue economy and , in particular , fisheries and aquaculture . It is now urgent for the Member States to establish operational plans and for the funds to reach the ground . We worked to reduce bureaucracy and simplify the fund . The Commission will now have to move in the same direction and ensure that Member States make this a reality . This is what European fisheries expect . "
     ]
    }
   ],
   "source": [
    "raw1_4 = 'Manuel Pizarro, on behalf of the S&D Group. – Madam President, Commissioner, I welcome the commitment of everyone to this long and difficult negotiation, which we managed to bring to a successful conclusion. The fisheries sector, hit hard by the effects of the pandemic and Brexit, urgently needs our support. I consider the result to be positive. I would like to highlight the financial support to improve safety, working and accommodation conditions on board the vessels, as well as the support for young fishermen to purchase a vessel. These are important measures to help the generational renewal so necessary for the sector. The FEAMPA will make an important contribution to the environmental, economic and social sustainability of the blue economy and, in particular, fisheries and aquaculture. It is now urgent for the Member States to establish operational plans and for the funds to reach the ground. We worked to reduce bureaucracy and simplify the fund. The Commission will now have to move in the same direction and ensure that Member States make this a reality. This is what European fisheries expect.'\n",
    "tokens1_4 = word_tokenize(raw1_4)\n",
    "for word in tokens1_4:\n",
    "    print(word, end=' ')"
   ]
  },
  {
   "cell_type": "code",
   "execution_count": 24,
   "metadata": {},
   "outputs": [
    {
     "name": "stdout",
     "output_type": "stream",
     "text": [
      "Izaskun Bilbao Barandica , on behalf of the Renew Group . – Madam President , I want to celebrate this interinstitutional agreement because it improves the Fund we had , makes it a more flexible and simpler tool and incorporates lessons associated with the pandemic , climate goals and new problems , such as those related to Brexit . I regret the 5 % cut , but I hope that by increasing the participation of the sector , acknowledging its diversity and getting closer to needs , without losing sight of the basic objectives of the CFP , we will put an end to the rigidities and complexity that have penalized the access to the Fund that we renew with this Regulation . The goal is that with less we are able to do much more . This agreement has great achievements . We share the special programs for the outermost zones , to which I would add the insular ones . We agree on the measures adopted to promote generational change . We applaud the fact that the decarbonisation of the fleet has finally been committed , with more imagination and openness in the modernization of engines , and we underline the boost offered to improve living conditions and safety on ships , which could have been completed with a less closed formula on scrapping . We like the improvements in support measures for temporary or permanent cessation of activity . To complete them , we claim proximity and imagination for income diversification programs for coastal communities in general , and in particular for those most affected by the new restrictions , such as those that are being imposed on trawling . Listening to these professionals , taking advantage of the knowledge they accumulate is incorporating assets into the value chain of the sector . And this is the message that must remain with the States . "
     ]
    }
   ],
   "source": [
    "raw1_5 = 'Izaskun Bilbao Barandica, on behalf of the Renew Group. – Madam President, I want to celebrate this interinstitutional agreement because it improves the Fund we had, makes it a more flexible and simpler tool and incorporates lessons associated with the pandemic, climate goals and new problems, such as those related to Brexit. I regret the 5% cut, but I hope that by increasing the participation of the sector, acknowledging its diversity and getting closer to needs, without losing sight of the basic objectives of the CFP, we will put an end to the rigidities and complexity that have penalized the access to the Fund that we renew with this Regulation. The goal is that with less we are able to do much more. This agreement has great achievements. We share the special programs for the outermost zones, to which I would add the insular ones. We agree on the measures adopted to promote generational change. We applaud the fact that the decarbonisation of the fleet has finally been committed, with more imagination and openness in the modernization of engines, and we underline the boost offered to improve living conditions and safety on ships, which could have been completed with a less closed formula on scrapping. We like the improvements in support measures for temporary or permanent cessation of activity. To complete them, we claim proximity and imagination for income diversification programs for coastal communities in general, and in particular for those most affected by the new restrictions, such as those that are being imposed on trawling. Listening to these professionals, taking advantage of the knowledge they accumulate is incorporating assets into the value chain of the sector. And this is the message that must remain with the States.'\n",
    "tokens1_5 = word_tokenize(raw1_5)\n",
    "for word in tokens1_5:\n",
    "    print(word, end=' ')"
   ]
  },
  {
   "cell_type": "code",
   "execution_count": 25,
   "metadata": {},
   "outputs": [
    {
     "name": "stdout",
     "output_type": "stream",
     "text": [
      "Francisco Guerreiro , on behalf of the Verts/ALE Group . – Madam President , we have been destroying the oceans for many decades , and with this European Maritime , Fisheries and Aquaculture Fund , we believe we will continue to do so because , in a time of climate emergency , we should not be aiming for the lowest common denominator . On the contrary : the EU should be listening to science and ensuring real leadership in ocean governance . But this is not the case , and we will continue to destroy what keeps us alive , the oceans . How ? By continuing to finance with public money a very profitable , large—scale fisheries sector . And we are obviously not talking about small—scale fisheries , but vessels that are above 24 metres and eligible for public support . On top of that , certain areas of support , like first acquisition , modernisation and replacement of engines , can also be considered as harmful subsidies and will lead , in our analysis , to more overfishing . Yes , we recognise the efforts of the Commission throughout the negotiations , but unfortunately , once again , the Council and most political groups did everything they could to undermine this agreement . As usual , they continue to live in the past and we need policies that protect our future . To conclude , the lack of ambition and concrete commitments concerning climate goals and biodiversity protection dictates that we , the Greens , can not support this final agreement . "
     ]
    }
   ],
   "source": [
    "raw1_6 = 'Francisco Guerreiro, on behalf of the Verts/ALE Group. – Madam President, we have been destroying the oceans for many decades, and with this European Maritime, Fisheries and Aquaculture Fund, we believe we will continue to do so because, in a time of climate emergency, we should not be aiming for the lowest common denominator. On the contrary: the EU should be listening to science and ensuring real leadership in ocean governance. But this is not the case, and we will continue to destroy what keeps us alive, the oceans. How? By continuing to finance with public money a very profitable, large—scale fisheries sector. And we are obviously not talking about small—scale fisheries, but vessels that are above 24 metres and eligible for public support. On top of that, certain areas of support, like first acquisition, modernisation and replacement of engines, can also be considered as harmful subsidies and will lead, in our analysis, to more overfishing. Yes, we recognise the efforts of the Commission throughout the negotiations, but unfortunately, once again, the Council and most political groups did everything they could to undermine this agreement. As usual, they continue to live in the past and we need policies that protect our future. To conclude, the lack of ambition and concrete commitments concerning climate goals and biodiversity protection dictates that we, the Greens, cannot support this final agreement.'\n",
    "tokens1_6 = word_tokenize(raw1_6)\n",
    "for word in tokens1_6:\n",
    "    print(word, end=' ')"
   ]
  },
  {
   "cell_type": "code",
   "execution_count": 26,
   "metadata": {},
   "outputs": [
    {
     "name": "stdout",
     "output_type": "stream",
     "text": [
      "Rosanna Conte , on behalf of the ID Group . - Madam President , Commissioner , ladies and gentlemen , we have done it . After years of negotiations , we can finally deliver a new European Fund for Maritime Affairs , Fisheries and Aquaculture to our fishermen and aquaculture . The new 2021-2027 programming will be able to count on measures that go towards sustainability in all its three pillars . It was not easy , but also thanks to the constructive action of my group , we have achieved a certain balance between environmental concerns and social and economic ones , above all of small operators and small and medium-sized enterprises . I am referring , for example , to the doubling of support for temporary arrest up to 12 months ; to support for young people ; targeted support for aquaculture ; facilitated access to credit and insurance instruments in the event of exceptional events which , alas , are becoming more and more frequent . The possibility of modernizing fishing vessels and increasing gross tonnage to improve safety and living conditions on board and the possibility of financing the construction of ports to facilitate small-scale fishing are also good . Unfortunately , the budget has been reduced , but overall this new FEAMPA represents a first step towards a new paradigm of European policy to truly protect our fisheries and aquaculture , all while safeguarding our coastal communities , marine biodiversity and safety . food . So thanks to the rapporteur Mato , to my colleague Millán Mon and to all the shadow rapporteurs for their work together . Now the ball goes to the Member States and the regions . "
     ]
    }
   ],
   "source": [
    "raw1_7 = 'Rosanna Conte, on behalf of the ID Group. - Madam President, Commissioner, ladies and gentlemen, we have done it. After years of negotiations, we can finally deliver a new European Fund for Maritime Affairs, Fisheries and Aquaculture to our fishermen and aquaculture. The new 2021-2027 programming will be able to count on measures that go towards sustainability in all its three pillars. It was not easy, but also thanks to the constructive action of my group, we have achieved a certain balance between environmental concerns and social and economic ones, above all of small operators and small and medium-sized enterprises. I am referring, for example, to the doubling of support for temporary arrest up to 12 months; to support for young people; targeted support for aquaculture; facilitated access to credit and insurance instruments in the event of exceptional events which, alas, are becoming more and more frequent. The possibility of modernizing fishing vessels and increasing gross tonnage to improve safety and living conditions on board and the possibility of financing the construction of ports to facilitate small-scale fishing are also good. Unfortunately, the budget has been reduced, but overall this new FEAMPA represents a first step towards a new paradigm of European policy to truly protect our fisheries and aquaculture, all while safeguarding our coastal communities, marine biodiversity and safety. food. So thanks to the rapporteur Mato, to my colleague Millán Mon and to all the shadow rapporteurs for their work together. Now the ball goes to the Member States and the regions.'\n",
    "tokens1_7 = word_tokenize(raw1_7)\n",
    "for word in tokens1_7:\n",
    "    print(word, end=' ')"
   ]
  },
  {
   "cell_type": "code",
   "execution_count": 27,
   "metadata": {},
   "outputs": [
    {
     "name": "stdout",
     "output_type": "stream",
     "text": [
      "Ladislav Ilčić , on behalf of the ECR Club . - Honorable Chair , in the coastal areas , fishing is not only one of the main economic branches , but fishing is the preservation of the lives of fishermen who feed their families with this work and is the preservation of Mediterranean culture . That is why it is very important to find a good balance between preserving fish stocks and the interests of fishermen . To succeed in this , we need to take into account the specifics of each area and the maritime tradition of each region . This report does that and that is why I thank the rapporteur . The Commission proposed that during this six-year programming period , fishermen could be paid a temporary suspension fee for a maximum of six months , and through this report we managed to double the increase , to a maximum of 12 months in total , and that is a great victory . and can not hunt because of the different spawning periods of the fish they catch . "
     ]
    }
   ],
   "source": [
    "raw1_8 = 'Ladislav Ilčić, on behalf of the ECR Club. - Honorable Chair, in the coastal areas, fishing is not only one of the main economic branches, but fishing is the preservation of the lives of fishermen who feed their families with this work and is the preservation of Mediterranean culture. That is why it is very important to find a good balance between preserving fish stocks and the interests of fishermen. To succeed in this, we need to take into account the specifics of each area and the maritime tradition of each region. This report does that and that is why I thank the rapporteur. The Commission proposed that during this six-year programming period, fishermen could be paid a temporary suspension fee for a maximum of six months, and through this report we managed to double the increase, to a maximum of 12 months in total, and that is a great victory. and cannot hunt because of the different spawning periods of the fish they catch.'\n",
    "tokens1_8 = word_tokenize(raw1_8)\n",
    "for word in tokens1_8:\n",
    "    print(word, end=' ')"
   ]
  },
  {
   "cell_type": "code",
   "execution_count": 28,
   "metadata": {},
   "outputs": [
    {
     "name": "stdout",
     "output_type": "stream",
     "text": [
      "Chris MacManus , on behalf of the The Left Group . – Madam President , two weeks ago in our capital city , Dublin , a flotilla of fishing vessels sailed up the River Liffey to protest against the continuously bad deals they have received from the EU and successive Irish governments . The message was clear : the common fisheries policy ( CFP ) is destroying the Irish fishing industry . Brexit , quota cuts , prioritising money for bureaucracy and enforcement instead of our coastal and fishing communities are just a few examples of what is causing this hardship . But there ’ s an obvious solution : radical reform of the CFP . As an Irish Republican I firmly believe that the natural resources of Ireland belong to the people of Ireland , and I for one am tired of our fisheries being used as a bargaining chip . "
     ]
    }
   ],
   "source": [
    "raw1_9 = 'Chris MacManus, on behalf of the The Left Group. – Madam President, two weeks ago in our capital city, Dublin, a flotilla of fishing vessels sailed up the River Liffey to protest against the continuously bad deals they have received from the EU and successive Irish governments. The message was clear: the common fisheries policy (CFP) is destroying the Irish fishing industry. Brexit, quota cuts, prioritising money for bureaucracy and enforcement instead of our coastal and fishing communities are just a few examples of what is causing this hardship. But there’s an obvious solution: radical reform of the CFP. As an Irish Republican I firmly believe that the natural resources of Ireland belong to the people of Ireland, and I for one am tired of our fisheries being used as a bargaining chip.'\n",
    "tokens1_9 = word_tokenize(raw1_9)\n",
    "for word in tokens1_9:\n",
    "    print(word, end=' ')"
   ]
  },
  {
   "cell_type": "code",
   "execution_count": 29,
   "metadata": {},
   "outputs": [
    {
     "name": "stdout",
     "output_type": "stream",
     "text": [
      "Dino Giarrusso ( NI ) . - Madam President , ladies and gentlemen , the European Fisheries Fund must go to the operators to which it was originally addressed , but if we go to grant funds also for boats that reach 24 meters , we help those who need it least . The small marineries have been protecting the sea for centuries as they live its natural rhythms , preserving its life . In areas where fishing is disappearing , why is access also given to young people who own only 33 % of the boat ? Aid must instead be aimed precisely at those companies or marineries that encourage genuine participation and a generational turnover of 100 % . We have always thought that , precisely as a common policy , that of fisheries must be very attentive to the real conditions of the sector in order to ensure the conservation of the resource , aid to the small ones and the generational turnover , therefore not helping the domination of large industries that do not they have no care of the physiological needs of a very sensitive environment such as the marine one . Not limiting the great exploiters risks killing the sea and the sailors . Europe , on the other hand , must change course without delay of any kind and support small-scale fishing companies , avoiding subsidies to those who see only a business in the sea , a mine to be exploited , stripped to the point of exhaustion . "
     ]
    }
   ],
   "source": [
    "raw1_10 = 'Dino Giarrusso (NI). - Madam President, ladies and gentlemen, the European Fisheries Fund must go to the operators to which it was originally addressed, but if we go to grant funds also for boats that reach 24 meters, we help those who need it least. The small marineries have been protecting the sea for centuries as they live its natural rhythms, preserving its life. In areas where fishing is disappearing, why is access also given to young people who own only 33% of the boat? Aid must instead be aimed precisely at those companies or marineries that encourage genuine participation and a generational turnover of 100%. We have always thought that, precisely as a common policy, that of fisheries must be very attentive to the real conditions of the sector in order to ensure the conservation of the resource, aid to the small ones and the generational turnover, therefore not helping the domination of large industries that do not they have no care of the physiological needs of a very sensitive environment such as the marine one. Not limiting the great exploiters risks killing the sea and the sailors. Europe, on the other hand, must change course without delay of any kind and support small-scale fishing companies, avoiding subsidies to those who see only a business in the sea, a mine to be exploited, stripped to the point of exhaustion.'\n",
    "tokens1_10 = word_tokenize(raw1_10)\n",
    "for word in tokens1_10:\n",
    "    print(word, end=' ')"
   ]
  },
  {
   "cell_type": "code",
   "execution_count": 30,
   "metadata": {},
   "outputs": [
    {
     "name": "stdout",
     "output_type": "stream",
     "text": [
      "Francisco José Millán Mon ( EPP ) . – Madam President , the new Fund includes many claims from the sea-industry chain in my region —Galicia— , to fish better and promote aquaculture and processing . I must congratulate the rapporteur , Gabriel Mato , on this very satisfactory result , and also thank Commissioner Sinkevičius . I am especially pleased that the new FEMPA is born in order to put an end to the bureaucracy , which has traditionally weighed down its execution so much . From now on , all operations that are not expressly prohibited will be allowed and may receive European funds . FEMPA will contribute to improving living and working conditions on board , a key issue to guarantee generational change . In addition , for those vessels less than 24 meters in length —the majority in Spain and , of course , in Galicia— , the new Fund will be able to finance the acquisition of a vessel by young fishermen . It is also great news that , for the first time , shellfishing is included in the definition of the artisanal coastal fleet , in order to have a privileged treatment to access European funding . And finally , I welcome the fact that small and medium-sized enterprises in the aquaculture and processing sector can receive direct subsidies . "
     ]
    }
   ],
   "source": [
    "raw1_11 = 'Francisco José Millán Mon (EPP). – Madam President, the new Fund includes many claims from the sea-industry chain in my region —Galicia—, to fish better and promote aquaculture and processing. I must congratulate the rapporteur, Gabriel Mato, on this very satisfactory result, and also thank Commissioner Sinkevičius. I am especially pleased that the new FEMPA is born in order to put an end to the bureaucracy, which has traditionally weighed down its execution so much. From now on, all operations that are not expressly prohibited will be allowed and may receive European funds. FEMPA will contribute to improving living and working conditions on board, a key issue to guarantee generational change. In addition, for those vessels less than 24 meters in length —the majority in Spain and, of course, in Galicia—, the new Fund will be able to finance the acquisition of a vessel by young fishermen. It is also great news that, for the first time, shellfishing is included in the definition of the artisanal coastal fleet, in order to have a privileged treatment to access European funding. And finally, I welcome the fact that small and medium-sized enterprises in the aquaculture and processing sector can receive direct subsidies.'\n",
    "tokens1_11 = word_tokenize(raw1_11)\n",
    "for word in tokens1_11:\n",
    "    print(word, end=' ')"
   ]
  },
  {
   "cell_type": "code",
   "execution_count": 31,
   "metadata": {},
   "outputs": [
    {
     "name": "stdout",
     "output_type": "stream",
     "text": [
      "Clara Aguilera ( S & D ) . – Madam President , Commissioner , I would like first of all to congratulate the negotiating team , the rapporteur , Mr Mato , and very especially , among all the shadow rapporteurs , Manuel Pizarro , our shadow rapporteur , who has done a great job with all the negotiating team . Finally , the approval of this Fund , the smallest of the European Structural and Investment Funds , is put to a vote , which we hope will be , of course , more useful during this period and better meet the demands of the fishing , aquaculture and the blue economy . I say better because the Fund that has just ended has been downright disastrous . And I have to say it how I feel , because I think there was an excess of bureaucratization that has not helped at all . Simplifying this I think will help . I am also happy about the compensation for the ORs , for the Canary Islands , in my country —in Spain— . And I understand that this new FEMPA will contribute to improving the working and living conditions of all fishermen . And for that—if only for that—it is worth it . "
     ]
    }
   ],
   "source": [
    "raw1_12 = 'Clara Aguilera (S&D). – Madam President, Commissioner, I would like first of all to congratulate the negotiating team, the rapporteur, Mr Mato, and very especially, among all the shadow rapporteurs, Manuel Pizarro, our shadow rapporteur, who has done a great job with all the negotiating team. Finally, the approval of this Fund, the smallest of the European Structural and Investment Funds, is put to a vote, which we hope will be, of course, more useful during this period and better meet the demands of the fishing, aquaculture and the blue economy. I say better because the Fund that has just ended has been downright disastrous. And I have to say it how I feel, because I think there was an excess of bureaucratization that has not helped at all. Simplifying this I think will help. I am also happy about the compensation for the ORs, for the Canary Islands, in my country —in Spain—. And I understand that this new FEMPA will contribute to improving the working and living conditions of all fishermen. And for that—if only for that—it is worth it.'\n",
    "tokens1_12 = word_tokenize(raw1_12)\n",
    "for word in tokens1_12:\n",
    "    print(word, end=' ')"
   ]
  },
  {
   "cell_type": "code",
   "execution_count": 32,
   "metadata": {},
   "outputs": [
    {
     "name": "stdout",
     "output_type": "stream",
     "text": [
      "Caroline Roose ( Greens/EFA ) . – Madam President , ladies and gentlemen , I feel like a waste of money with this new fund for maritime affairs , fisheries and aquaculture . We are facing a collapse in marine biodiversity . Small-scale fishermen face competition from ever more aggressive industrial fishing . We could have tried to live up to it . Instead , you abdicate . You are reintroducing harmful subsidies . For example , subsidies that were limited to vessels under 12 meters will be accessible up to vessels of 24 meters . This means less money for small-scale coastal fishing , but also an increased risk of overfishing , especially in the Mediterranean . Harmful subsidies are contrary to the UN Sustainable Development Goals . Our predecessors removed them several years ago . Reintroducing them goes against the current negotiations at the WTO which aim to ban them on a global scale . Finally , no budget has been specifically allocated to the protection of biodiversity and marine ecosystems . I can not condone this . This is why our group has filed a request for rejection of this agreement and why I will vote for this request for rejection against this new EMFF . "
     ]
    }
   ],
   "source": [
    "raw1_13 = 'Caroline Roose (Greens/EFA). – Madam President, ladies and gentlemen, I feel like a waste of money with this new fund for maritime affairs, fisheries and aquaculture. We are facing a collapse in marine biodiversity. Small-scale fishermen face competition from ever more aggressive industrial fishing. We could have tried to live up to it. Instead, you abdicate. You are reintroducing harmful subsidies. For example, subsidies that were limited to vessels under 12 meters will be accessible up to vessels of 24 meters. This means less money for small-scale coastal fishing, but also an increased risk of overfishing, especially in the Mediterranean. Harmful subsidies are contrary to the UN Sustainable Development Goals. Our predecessors removed them several years ago. Reintroducing them goes against the current negotiations at the WTO which aim to ban them on a global scale. Finally, no budget has been specifically allocated to the protection of biodiversity and marine ecosystems. I cannot condone this. This is why our group has filed a request for rejection of this agreement and why I will vote for this request for rejection against this new EMFF.'\n",
    "tokens1_13 = word_tokenize(raw1_13)\n",
    "for word in tokens1_13:\n",
    "    print(word, end=' ')"
   ]
  },
  {
   "cell_type": "code",
   "execution_count": 33,
   "metadata": {},
   "outputs": [
    {
     "name": "stdout",
     "output_type": "stream",
     "text": [
      "Rosa DAmato ( Verts / ALE ) . - Madam President , ladies and gentlemen , funding for small fishing vessels up to 12 meters in length , the drawing up of a plan for the development of small-scale coastal fishing and 25 % of the funds for the protection of biodiversity : these were some of the main requests that Parliament had approved with the aim of using European public funds to help those who really need it - the segment of small-scale coastal fishing - and thus promote the protection and restoration of biodiversity in European seas . Unfortunately , we are faced with a text , once again , watered down by the Council which , as usual in a non-transparent way , is in the interests of the large fleet to the detriment of small fishermen and marine biodiversity . Public money can not be used to support profitable businesses that risk contributing further to the emptying of our seas and must instead be made available to small-scale fishermen , the driving force behind the sustainable management of marine resources . I therefore appeal to my colleagues to vote against this text : Parliament must send a clear signal of commitment to the defense of small-scale coastal fishing and the protection of biodiversity . "
     ]
    }
   ],
   "source": [
    "raw1_14 = 'Rosa DAmato (Verts / ALE). - Madam President, ladies and gentlemen, funding for small fishing vessels up to 12 meters in length, the drawing up of a plan for the development of small-scale coastal fishing and 25% of the funds for the protection of biodiversity: these were some of the main requests that Parliament had approved with the aim of using European public funds to help those who really need it - the segment of small-scale coastal fishing - and thus promote the protection and restoration of biodiversity in European seas. Unfortunately, we are faced with a text, once again, watered down by the Council which, as usual in a non-transparent way, is in the interests of the large fleet to the detriment of small fishermen and marine biodiversity. Public money cannot be used to support profitable businesses that risk contributing further to the emptying of our seas and must instead be made available to small-scale fishermen, the driving force behind the sustainable management of marine resources. I therefore appeal to my colleagues to vote against this text: Parliament must send a clear signal of commitment to the defense of small-scale coastal fishing and the protection of biodiversity.'\n",
    "tokens1_14 = word_tokenize(raw1_14)\n",
    "for word in tokens1_14:\n",
    "    print(word, end=' ')"
   ]
  },
  {
   "cell_type": "code",
   "execution_count": 34,
   "metadata": {},
   "outputs": [
    {
     "name": "stdout",
     "output_type": "stream",
     "text": [
      "Virginijus Sinkevičius , Member of the Commission . – Madam President , honourable Members , thank you very much for this rich debate , which has shown support for our new fund . To conclude , let me underline the following two key principles . First , in the same way as all the other sectoral funds under the multiannual framework for 2021-2027 , the EMFAF will contribute to the European Green Deal . It will support the protection of biodiversity and the full transition to low-impact and sustainable fishing and aquaculture in line with our biodiversity strategy and the common fisheries policy . And second , public support through the EMFAF should deliver maximum collective added value . It should support market failures and suboptimal investment situations , but not duplicate or replace private financing . Instead , EMFAF should facilitate and complement private investment , especially where the private sector is profitable , like the maritime economy in general is . In this context , I see a clear need to use financial instruments in addition to traditional direct grants . Indeed , loans and guarantees can maximise private investments with minimum public support , in particular for energy-efficiency technologies , selective fishing gear and production facilities in the aquaculture and processing sectors . I am looking forward to the final and formal adoption of our fund by the co-legislators . Our attention will then shift to the timely adoption of the national programmes which Member States are currently preparing . As I said before , it is of the utmost importance that these national programmes deliver maximum added value , in particular as regards their contribution to the green and digital transitions and to stronger resilience of the fisheries and aquaculture sectors . The action supported in this respect must address strategic needs and deliver clear results . With a fund as small as the EMFAF , it is particularly important that every euro invested generates much more in terms of collective benefits and common good . Let ’ s make the best use of it to address our key challenges and make it a success . "
     ]
    }
   ],
   "source": [
    "raw1_15 = 'Virginijus Sinkevičius, Member of the Commission. – Madam President, honourable Members, thank you very much for this rich debate, which has shown support for our new fund. To conclude, let me underline the following two key principles. First, in the same way as all the other sectoral funds under the multiannual framework for 2021-2027, the EMFAF will contribute to the European Green Deal. It will support the protection of biodiversity and the full transition to low-impact and sustainable fishing and aquaculture in line with our biodiversity strategy and the common fisheries policy. And second, public support through the EMFAF should deliver maximum collective added value. It should support market failures and suboptimal investment situations, but not duplicate or replace private financing. Instead, EMFAF should facilitate and complement private investment, especially where the private sector is profitable, like the maritime economy in general is. In this context, I see a clear need to use financial instruments in addition to traditional direct grants. Indeed, loans and guarantees can maximise private investments with minimum public support, in particular for energy-efficiency technologies, selective fishing gear and production facilities in the aquaculture and processing sectors. I am looking forward to the final and formal adoption of our fund by the co-legislators. Our attention will then shift to the timely adoption of the national programmes which Member States are currently preparing. As I said before, it is of the utmost importance that these national programmes deliver maximum added value, in particular as regards their contribution to the green and digital transitions and to stronger resilience of the fisheries and aquaculture sectors. The action supported in this respect must address strategic needs and deliver clear results. With a fund as small as the EMFAF, it is particularly important that every euro invested generates much more in terms of collective benefits and common good. Let’s make the best use of it to address our key challenges and make it a success.'\n",
    "tokens1_15 = word_tokenize(raw1_15)\n",
    "for word in tokens1_15:\n",
    "    print(word, end=' ')"
   ]
  },
  {
   "cell_type": "markdown",
   "metadata": {},
   "source": [
    "---\n",
    "### Combine all parts"
   ]
  },
  {
   "cell_type": "code",
   "execution_count": 35,
   "metadata": {},
   "outputs": [],
   "source": [
    "tokens = tokens1_1 + tokens1_2 + tokens1_3 + tokens1_4 + tokens1_5 + tokens1_6 + tokens1_7 + tokens1_8 + tokens1_9 + tokens1_10 + tokens1_11 + tokens1_12 + tokens1_13 + tokens1_14 + tokens1_15 "
   ]
  },
  {
   "cell_type": "markdown",
   "metadata": {},
   "source": [
    "---\n",
    "### Normalize the words "
   ]
  },
  {
   "cell_type": "code",
   "execution_count": 36,
   "metadata": {},
   "outputs": [],
   "source": [
    "type(tokens)\n",
    "eutext17 = [w.lower() for w in tokens]"
   ]
  },
  {
   "cell_type": "markdown",
   "metadata": {},
   "source": [
    "---\n",
    "**Save Output**"
   ]
  },
  {
   "cell_type": "code",
   "execution_count": 37,
   "metadata": {},
   "outputs": [],
   "source": [
    "save_path = '/Users/charlottekaiser/Documents/uni/Hertie/master_thesis/00_data/20_intermediate_files'\n",
    "file_name = \"EU17_European Maritime, Fisheries and Aquaculture Fund.txt\"\n",
    "completeName = os.path.join(save_path, file_name)\n",
    "output = open(completeName, 'w')\n",
    "print(eutext17, file=output)"
   ]
  }
 ],
 "metadata": {
  "interpreter": {
   "hash": "a9869976cf380d12cb70e759e57434a8e82bae01a9f74e734956416b40621c64"
  },
  "kernelspec": {
   "display_name": "Python 3.9.7 ('base')",
   "language": "python",
   "name": "python3"
  },
  "language_info": {
   "codemirror_mode": {
    "name": "ipython",
    "version": 3
   },
   "file_extension": ".py",
   "mimetype": "text/x-python",
   "name": "python",
   "nbconvert_exporter": "python",
   "pygments_lexer": "ipython3",
   "version": "3.9.7"
  },
  "orig_nbformat": 4
 },
 "nbformat": 4,
 "nbformat_minor": 2
}
