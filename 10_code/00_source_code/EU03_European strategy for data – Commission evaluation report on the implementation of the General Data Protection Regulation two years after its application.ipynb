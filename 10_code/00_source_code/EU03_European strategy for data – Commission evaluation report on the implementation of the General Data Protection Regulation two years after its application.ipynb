{
 "cells": [
  {
   "cell_type": "markdown",
   "metadata": {},
   "source": [
    "### *Data Collection - European Parliament*\n",
    "## Preparing Raw Data\n",
    "---\n",
    "**Sample Text 3**\n",
    "Title: European strategy for data – Commission evaluation report on the implementation of the General Data Protection Regulation two years after its application (continuation of debate) <br>\n",
    "Date: March 25, 2021 - Brussels"
   ]
  },
  {
   "cell_type": "code",
   "execution_count": 18,
   "metadata": {},
   "outputs": [],
   "source": [
    "# import necessary libraries\n",
    "import requests\n",
    "from requests_html import HTMLSession\n",
    "import urllib.request\n",
    "import time\n",
    "from bs4 import BeautifulSoup\n",
    "import urllib\n",
    "from urllib import request\n",
    "from __future__ import division\n",
    "import nltk, re, pprint\n",
    "from nltk import word_tokenize\n",
    "from nltk import FreqDist\n",
    "import os.path \n",
    "import pandas as pd"
   ]
  },
  {
   "cell_type": "markdown",
   "metadata": {},
   "source": [
    "---\n",
    "### Process: Trimming debate by inserting the original English or translated English files and tokenizing them.\n",
    "*Note*: Due to time constraint, the process has been optimized.\n",
    "\n",
    "- English parts of the debate will be added manually as a string and then tokenized. \n",
    "\n",
    "- A consistent method of translating and then adding will be applied to all EU Parliament debates:  Non-English parts are copied from the original web pages, inserted in the consistent choice of translation tool, Google Translate (https://translate.google.com/?hl=de&tab=TT), translated to English and pasted in as a string. \n",
    "\n",
    "- Afterwards, the same steps are applied as per usual (tokenizing, standardizing).\n",
    "\n",
    "Because of the changed process, the URL and step of webscraping are technically no longer necessary, will however be included for the purpose of completeness. "
   ]
  },
  {
   "cell_type": "code",
   "execution_count": 19,
   "metadata": {},
   "outputs": [],
   "source": [
    "# url = \"https://www.europarl.europa.eu/doceo/document/CRE-9-2021-03-25-ITM-007_EN.html\"\n",
    "# html = requests.get(url)\n",
    "# raw = BeautifulSoup(html.content, 'html.parser').get_text()"
   ]
  },
  {
   "cell_type": "code",
   "execution_count": 20,
   "metadata": {},
   "outputs": [
    {
     "name": "stdout",
     "output_type": "stream",
     "text": [
      "Henna Virkkunen ( PPE ) . - Mr President , indeed , the past pandemic year has accelerated digitalisation across Europe , making this report on the data economy even more important and timely . I would like to thank all the rapporteurs and colleagues for their good work on this important report . In the EPP Group , we have wanted to emphasize in particular the importance and contribution of SMEs , micro-enterprises and startups in this report , because it is important that they , too , have better access to the potential of the data economy . It is also important for us that investment in the digitalisation of companies , both private and public , is stepped up throughout Europe and that we direct funding to education and research in this area so that we can really take advantage of all the opportunities that the data economy will bring . Highlighting the potential of SMEs in particular is now important in the next steps , as SMEs are a huge part of our economy and provide an increasing share of jobs . So we have to look for solutions , not just what the report now focuses on . Streamlining data flows is certainly important , but better ways must also be found for SMEs to make better use of the data they already own and produce , and to create new services and innovations . We also need to assess whether our own legislation at European level is up-to-date in this sense , so that it really encourages data sharing . In particular , we also need to look at the data protection regulation here , because we often know that industrial data and personal data relating to individuals are linked . If there is even a small amount of personal data involved , then it is treated as personal data , and much of that opportunity may go untapped . "
     ]
    }
   ],
   "source": [
    "raw1_1 = 'Henna Virkkunen (PPE). - Mr President, indeed, the past pandemic year has accelerated digitalisation across Europe, making this report on the data economy even more important and timely. I would like to thank all the rapporteurs and colleagues for their good work on this important report. In the EPP Group, we have wanted to emphasize in particular the importance and contribution of SMEs, micro-enterprises and startups in this report, because it is important that they, too, have better access to the potential of the data economy. It is also important for us that investment in the digitalisation of companies, both private and public, is stepped up throughout Europe and that we direct funding to education and research in this area so that we can really take advantage of all the opportunities that the data economy will bring. Highlighting the potential of SMEs in particular is now important in the next steps, as SMEs are a huge part of our economy and provide an increasing share of jobs. So we have to look for solutions, not just what the report now focuses on. Streamlining data flows is certainly important, but better ways must also be found for SMEs to make better use of the data they already own and produce, and to create new services and innovations. We also need to assess whether our own legislation at European level is up-to-date in this sense, so that it really encourages data sharing. In particular, we also need to look at the data protection regulation here, because we often know that industrial data and personal data relating to individuals are linked. If there is even a small amount of personal data involved, then it is treated as personal data, and much of that opportunity may go untapped.'\n",
    "tokens1_1 = word_tokenize(raw1_1)\n",
    "for word in tokens1_1:\n",
    "    print(word, end=' ')"
   ]
  },
  {
   "cell_type": "code",
   "execution_count": 21,
   "metadata": {},
   "outputs": [
    {
     "name": "stdout",
     "output_type": "stream",
     "text": [
      "Ivo Hristov ( S & D ) . - Madam President , I would like to thank Miapetra Kumpula-Natri for her overall work on the European Data Strategy . I welcome the call for a transparent economy , which , however , respects the right to privacy and does not set additional preconditions for increasing social inequalities . The accelerated and ubiquitous introduction of artificial intelligence technologies , along with the creation of European data spaces , will drastically change the very concepts of work , the workplace and working time . It is therefore necessary to build a European regulatory framework to guarantee the social rights of workers . The crisis with Kovid-19 is indicative of the need to build a pan-European health data space . At the same time , I am convinced that we must not allow the state of emergency to be used as a reason to reduce the control citizens have over personal health data . In the digital world , the abundance of data is growing , and with it our opportunities , but the information arrays pose risks to democracy and individual rights that we must consider before we get drunk on opportunities , because democracy and freedom are what unite us . "
     ]
    }
   ],
   "source": [
    "raw1_2 = 'Ivo Hristov (S&D). - Madam President, I would like to thank Miapetra Kumpula-Natri for her overall work on the European Data Strategy. I welcome the call for a transparent economy, which, however, respects the right to privacy and does not set additional preconditions for increasing social inequalities. The accelerated and ubiquitous introduction of artificial intelligence technologies, along with the creation of European data spaces, will drastically change the very concepts of work, the workplace and working time. It is therefore necessary to build a European regulatory framework to guarantee the social rights of workers. The crisis with Kovid-19 is indicative of the need to build a pan-European health data space. At the same time, I am convinced that we must not allow the state of emergency to be used as a reason to reduce the control citizens have over personal health data. In the digital world, the abundance of data is growing, and with it our opportunities, but the information arrays pose risks to democracy and individual rights that we must consider before we get drunk on opportunities, because democracy and freedom are what unite us.'\n",
    "tokens1_2 = word_tokenize(raw1_2)\n",
    "for word in tokens1_2:\n",
    "    print(word, end=' ')"
   ]
  },
  {
   "cell_type": "code",
   "execution_count": 22,
   "metadata": {},
   "outputs": [
    {
     "name": "stdout",
     "output_type": "stream",
     "text": [
      "Dragoş Tudorache ( Renew ) . – Madam President , dear Commissioner , I welcome the work on the digital future of Europe , of which the strategy for data is an important piece , but not the only one . The Digital Markets Act ( DMA ) and Digital Services Act ( DSA ) , the digital decade , the Data Governance Act , the upcoming AI legislation are all ambitious and ground—breaking proposals . It is in this context of setting up our digital future that we need to remember that everything we do should be for the benefit of all citizens . And in light of this , I have three points to make . First , our citizens need to benefit from the personal data that they generate . We need to go beyond the GDPR and data protection , we need to find ways to make personal data generate value , not just for a few global tech platforms but also directly for all citizens . So looking forward to the Data Act , I encourage the Commission to reflect on such ways . Second , our citizens and our businesses need a single market , they need data economies of scale in order to take advantage of all that the digital age has to offer . This is one area where we can not afford fragmentation . We need to do more at the European level , including in the way we write laws and we need to make sure that our data strategy leads to more convergence and better data flows in Europe . And third , in order to thrive , our citizens need additional protection against novel threats specific to the data economy . Fake news and disinformation , which threaten the foundations of our democracies , and other forms of data—fuelled hybrid threats can only be countered if we leverage our geopolitical weight and our strategic partnerships to set the global rules on how data can and can not be used . "
     ]
    }
   ],
   "source": [
    "raw1_3 = 'Dragoş Tudorache (Renew). – Madam President, dear Commissioner, I welcome the work on the digital future of Europe, of which the strategy for data is an important piece, but not the only one. The Digital Markets Act (DMA) and Digital Services Act (DSA), the digital decade, the Data Governance Act, the upcoming AI legislation are all ambitious and ground—breaking proposals. It is in this context of setting up our digital future that we need to remember that everything we do should be for the benefit of all citizens. And in light of this, I have three points to make. First, our citizens need to benefit from the personal data that they generate. We need to go beyond the GDPR and data protection, we need to find ways to make personal data generate value, not just for a few global tech platforms but also directly for all citizens. So looking forward to the Data Act, I encourage the Commission to reflect on such ways. Second, our citizens and our businesses need a single market, they need data economies of scale in order to take advantage of all that the digital age has to offer. This is one area where we cannot afford fragmentation. We need to do more at the European level, including in the way we write laws and we need to make sure that our data strategy leads to more convergence and better data flows in Europe. And third, in order to thrive, our citizens need additional protection against novel threats specific to the data economy. Fake news and disinformation, which threaten the foundations of our democracies, and other forms of data—fuelled hybrid threats can only be countered if we leverage our geopolitical weight and our strategic partnerships to set the global rules on how data can and cannot be used.'\n",
    "tokens1_3 = word_tokenize(raw1_3)\n",
    "for word in tokens1_3:\n",
    "    print(word, end=' ')"
   ]
  },
  {
   "cell_type": "code",
   "execution_count": 23,
   "metadata": {},
   "outputs": [
    {
     "name": "stdout",
     "output_type": "stream",
     "text": [
      "Alexandra Geese ( Verts/ALE ) . – Madam President , data is not the new oil , data is the new soil , because data uses knowledge and we can harvest it over and over again . And that is an excellent reason to farm that soil with great care . First of all , we should have the expertise to do it ourselves because every good farmer knows how to farm her crop . But today European companies don ’ t have the top-notch expertise to process big data and therefore we need huge investment in European talent , rather than outsourcing that task permanently to global hyperscalers that don ’ t respect our fundamental rights , like data protection . Secondly , we need to focus on innovation to minimise electricity consumption and greenhouse gas emissions and waste , because the data economy must mitigate and not precipitate the climate crisis . And thirdly , we urgently need to close the gender-data gap in order to obtain high-quality data and create a digital economy in which all population groups are equally represented . Let ’ s respect privacy , focus on open source and decentralised systems , ensure intra-operability and above all , make sure that the produce of our new soil goes to the many and not the few . "
     ]
    }
   ],
   "source": [
    "raw1_4 = 'Alexandra Geese (Verts/ALE). – Madam President, data is not the new oil, data is the new soil, because data uses knowledge and we can harvest it over and over again. And that is an excellent reason to farm that soil with great care. First of all, we should have the expertise to do it ourselves because every good farmer knows how to farm her crop. But today European companies don’t have the top-notch expertise to process big data and therefore we need huge investment in European talent, rather than outsourcing that task permanently to global hyperscalers that don’t respect our fundamental rights, like data protection. Secondly, we need to focus on innovation to minimise electricity consumption and greenhouse gas emissions and waste, because the data economy must mitigate and not precipitate the climate crisis. And thirdly, we urgently need to close the gender-data gap in order to obtain high-quality data and create a digital economy in which all population groups are equally represented. Let’s respect privacy, focus on open source and decentralised systems, ensure intra-operability and above all, make sure that the produce of our new soil goes to the many and not the few.'\n",
    "tokens1_4 = word_tokenize(raw1_4)\n",
    "for word in tokens1_4:\n",
    "    print(word, end=' ')"
   ]
  },
  {
   "cell_type": "code",
   "execution_count": 24,
   "metadata": {},
   "outputs": [
    {
     "name": "stdout",
     "output_type": "stream",
     "text": [
      "Jadwiga Wiśniewska ( ECR ) . - Madam President ! Data is the foundation of digital transformation and innovation . They are the basis for the creation of new products and services and the development of artificial intelligence . Their availability and open and safe international exchange can be a fundamental added value and a breakthrough in building an autonomous European digital economy and contribute to the improvement of health , living and the environment . However , we should remember that ensuring better access to data and data exchange should take place while ensuring high standards of personal data protection and cybersecurity . I would like to pay particular attention to the aspect related to cybersecurity , because it is a serious challenge that we will have to face . "
     ]
    }
   ],
   "source": [
    "raw1_5 = 'Jadwiga Wiśniewska (ECR). - Madam President! Data is the foundation of digital transformation and innovation. They are the basis for the creation of new products and services and the development of artificial intelligence. Their availability and open and safe international exchange can be a fundamental added value and a breakthrough in building an autonomous European digital economy and contribute to the improvement of health, living and the environment. However, we should remember that ensuring better access to data and data exchange should take place while ensuring high standards of personal data protection and cybersecurity. I would like to pay particular attention to the aspect related to cybersecurity, because it is a serious challenge that we will have to face.'\n",
    "tokens1_5 = word_tokenize(raw1_5)\n",
    "for word in tokens1_5:\n",
    "    print(word, end=' ')"
   ]
  },
  {
   "cell_type": "code",
   "execution_count": 25,
   "metadata": {},
   "outputs": [
    {
     "name": "stdout",
     "output_type": "stream",
     "text": [
      "Tom Vandenkdelaere ( PPE ) . – ( NL ) Mr President , the GDPR has now been in force for more than two years and we can not ignore it : the regulation is proving its worth . It ensures better protection of personal data and wider awareness among the population and sets the standards worldwide . Thousands of companies have done their utmost to be fully GDPR compliant . They have also made the necessary investments to achieve this . I would like to make three comments today about our data policy . Firstly , we must not be blind to the shortcomings and problems that have become apparent in recent years . We must recognize that the GDPR is time-consuming and expensive for SMEs and everyday associations . In addition , the application and enforcement are not the same in every Member State . This disrupts the proper functioning of the internal market . Secondly , we must not hinder the exchange of data with third countries . Indeed , adequacy decisions with third countries are crucial to enable companies to exchange data with each other in a smooth and GDPR-compliant manner . Third and last , there are the new technologies , which are often based on artificial intelligence and require large amounts of data to work properly . The GDPR should not hinder the European Union in the global race for innovative strategic technologies . That is why I , together with my group , call on the Commission in the coming months and years to fully assess the effects of the GDPR on those new technologies and to devise a plan so that they can continue to thrive and develop in the future . "
     ]
    }
   ],
   "source": [
    "raw1_6 = 'Tom Vandenkdelaere (PPE). – (NL) Mr President, the GDPR has now been in force for more than two years and we cannot ignore it: the regulation is proving its worth. It ensures better protection of personal data and wider awareness among the population and sets the standards worldwide. Thousands of companies have done their utmost to be fully GDPR compliant. They have also made the necessary investments to achieve this. I would like to make three comments today about our data policy. Firstly, we must not be blind to the shortcomings and problems that have become apparent in recent years. We must recognize that the GDPR is time-consuming and expensive for SMEs and everyday associations. In addition, the application and enforcement are not the same in every Member State. This disrupts the proper functioning of the internal market. Secondly, we must not hinder the exchange of data with third countries. Indeed, adequacy decisions with third countries are crucial to enable companies to exchange data with each other in a smooth and GDPR-compliant manner. Third and last, there are the new technologies, which are often based on artificial intelligence and require large amounts of data to work properly. The GDPR should not hinder the European Union in the global race for innovative strategic technologies. That is why I, together with my group, call on the Commission in the coming months and years to fully assess the effects of the GDPR on those new technologies and to devise a plan so that they can continue to thrive and develop in the future.'\n",
    "tokens1_6 = word_tokenize(raw1_6)\n",
    "for word in tokens1_6:\n",
    "    print(word, end=' ')"
   ]
  },
  {
   "cell_type": "code",
   "execution_count": 26,
   "metadata": {},
   "outputs": [
    {
     "name": "stdout",
     "output_type": "stream",
     "text": [
      "Svenja Hahn ( Renew ) . – Madam President ! Thank you , Commissioner Reynders , for debating with us today . Data protection and cyber security are prerequisites for the secure , strategic handling of data . However , it is the quality , access and handling of them that will determine the success of data-driven technologies such as artificial intelligence . The data strategy must distinguish between personal , non-personal and anonymized data . Health data , for example , can be used anonymously very well and sensibly in research - but please not individually to calculate health insurance contributions . Incidentally , an algorithm can only ever be as good as the data it was fed with . Data records must be free of discrimination so that the application software , which has not yet heard from the woman in the management position , does not sort out the women . It also needs access to public data and clear rules about what companies have to share and what not , so that tomorrow it is not just those who already have a big data advantage today who are big . Because innovation and progress need data , and the future of artificial intelligence needs a smart European data strategy . After all , our goal is to lead the European Union to the top of the world in terms of innovation . And a data strategy is the cornerstone of that . "
     ]
    }
   ],
   "source": [
    "raw1_7 = 'Svenja Hahn (Renew). – Madam President! Thank you, Commissioner Reynders, for debating with us today. Data protection and cyber security are prerequisites for the secure, strategic handling of data. However, it is the quality, access and handling of them that will determine the success of data-driven technologies such as artificial intelligence. The data strategy must distinguish between personal, non-personal and anonymized data. Health data, for example, can be used anonymously very well and sensibly in research - but please not individually to calculate health insurance contributions. Incidentally, an algorithm can only ever be as good as the data it was fed with. Data records must be free of discrimination so that the application software, which has not yet heard from the woman in the management position, does not sort out the women. It also needs access to public data and clear rules about what companies have to share and what not, so that tomorrow it is not just those who already have a big data advantage today who are big. Because innovation and progress need data, and the future of artificial intelligence needs a smart European data strategy. After all, our goal is to lead the European Union to the top of the world in terms of innovation. And a data strategy is the cornerstone of that.'\n",
    "tokens1_7 = word_tokenize(raw1_7)\n",
    "for word in tokens1_7:\n",
    "    print(word, end=' ')"
   ]
  },
  {
   "cell_type": "code",
   "execution_count": 27,
   "metadata": {},
   "outputs": [
    {
     "name": "stdout",
     "output_type": "stream",
     "text": [
      "Joachim Stanisław Brudziński ( ECR ) . - Madam President ! Commissioner ! Each of us has more and more devices that communicate with the Internet , sending there data about our functioning . The legal void that has existed so far as regards the processing of such data has led to abuses and raised legitimate concerns among the citizens of our countries . It is the regulations on anonymization and the safety of users of digital devices that make us satisfied . We want data to be processed in order to find solutions that improve the quality of life and drive the economy . At the same time , we see the risk of data sharing processes being dominated by the largest technology companies of the world , which otherwise own the largest systemically important internet platforms . In our opinion , the draft does not provide sufficient guarantees to eliminate the risk of such domination . I would also like to emphasize that we want the data collected by governments and made available to business to contribute to the construction of a modern digital economy increasing the quality of life of citizens . However , we do not want them to be used to build the competitive advantage of private companies over state-owned ones . In this direction , an even greater effort is needed , both on the part of EU institutions and national states . "
     ]
    }
   ],
   "source": [
    "raw1_8 = 'Joachim Stanisław Brudziński (ECR). - Madam President! Commissioner! Each of us has more and more devices that communicate with the Internet, sending there data about our functioning. The legal void that has existed so far as regards the processing of such data has led to abuses and raised legitimate concerns among the citizens of our countries. It is the regulations on anonymization and the safety of users of digital devices that make us satisfied. We want data to be processed in order to find solutions that improve the quality of life and drive the economy. At the same time, we see the risk of data sharing processes being dominated by the largest technology companies of the world, which otherwise own the largest systemically important internet platforms. In our opinion, the draft does not provide sufficient guarantees to eliminate the risk of such domination. I would also like to emphasize that we want the data collected by governments and made available to business to contribute to the construction of a modern digital economy increasing the quality of life of citizens. However, we do not want them to be used to build the competitive advantage of private companies over state-owned ones. In this direction, an even greater effort is needed, both on the part of EU institutions and national states.'\n",
    "tokens1_8 = word_tokenize(raw1_8)\n",
    "for word in tokens1_8:\n",
    "    print(word, end=' ')"
   ]
  },
  {
   "cell_type": "code",
   "execution_count": 28,
   "metadata": {},
   "outputs": [
    {
     "name": "stdout",
     "output_type": "stream",
     "text": [
      "Karen Melchior ( Renew ) . - Madam President ! Data is today our greatest source of knowledge , and that knowledge must benefit us all . With the European data strategy , we must ensure access to data across member states , between companies and into researchers . Why ? Because we are one of the regions that is most data-rich , but also most data-rich . We do not share data , although it will benefit us all . Access to data makes it possible to research health and develop the new green solutions that we need . Access to data enables not only new companies , startups , but also the old ones to develop new solutions . Therefore , an ambitious data strategy will ensure that Europe does not become the open-air museum of our world . We must create the basis for Europe to be at the forefront of new knowledge . With our own solutions and by keeping some of the data in the EU , we create increased security for your data . We must also ensure increased anonymisation of data and that Europe becomes a leader in research for synthetic data sets . In Europe , we put responsibility and people first , also when we develop technology . So let us create a foundation in the data strategy , where we create an EU based on knowledge and integrity . Data is knowledge , and Europe must be based on knowledge . "
     ]
    }
   ],
   "source": [
    "raw1_9 = 'Karen Melchior (Renew). - Madam President! Data is today our greatest source of knowledge, and that knowledge must benefit us all. With the European data strategy, we must ensure access to data across member states, between companies and into researchers. Why? Because we are one of the regions that is most data-rich, but also most data-rich. We do not share data, although it will benefit us all. Access to data makes it possible to research health and develop the new green solutions that we need. Access to data enables not only new companies, startups, but also the old ones to develop new solutions. Therefore, an ambitious data strategy will ensure that Europe does not become the open-air museum of our world. We must create the basis for Europe to be at the forefront of new knowledge. With our own solutions and by keeping some of the data in the EU, we create increased security for your data. We must also ensure increased anonymisation of data and that Europe becomes a leader in research for synthetic data sets. In Europe, we put responsibility and people first, also when we develop technology. So let us create a foundation in the data strategy, where we create an EU based on knowledge and integrity. Data is knowledge, and Europe must be based on knowledge.'\n",
    "tokens1_9 = word_tokenize(raw1_9)\n",
    "for word in tokens1_9:\n",
    "    print(word, end=' ')"
   ]
  },
  {
   "cell_type": "code",
   "execution_count": 29,
   "metadata": {},
   "outputs": [
    {
     "name": "stdout",
     "output_type": "stream",
     "text": [
      "Didier Reynders , Member of the Commission . – Madam President , ladies and gentlemen , once again I would like to thank Parliament for its support in this ambitious data agenda . We discussed the European strategy for data together and , as you know , the Commission is committed , both at the legislative level and through the program and the industrial alliance , so that Europe can benefit fully from the wave of industrial data that will define our ability to integrate the digital transformation of our industrial ecosystems . The Commission is counting on the support of your Parliament , particularly in the various legislative files already on the table , but also in those to come . Turning to the GDPR , I would like to thank you again for our interesting discussion . I am pleased to see that we share many ideas on how to continue the work for an effective implementation and enforcement of the GDPR . On SMEs , the Commission is ready to assist the development of consistent and practical national guidance and guidelines of the EDPB in order to help businesses , in particular SMEs , to comply with data provision rules . The Commission financially supports national data protection authorities in their efforts to reach out to SMEs and citizens . And we will continue this financial support in 2021 , including on projects aimed at developing templates and all the practical tools to help SMEs to comply with the rules . As announced in the Commission evaluation report , we will also explore whether , in the light of further experience and relevant case-law , proposing possible targeted amendments to certain provisions of the GDPR might be appropriate in the future , in particular regarding records of processing by SMEs that do not have the processing of personal data as their core business . While it is clear that there is still work ahead to improve the effectiveness of the implementation of the GDPR , I am convinced that our efforts will contribute to reaching our ambition of creating a common culture of data protection in the EU , and even beyond . I look forward to continuing of course our exchange on the GDPR and on data protection issues more generally . So thank you very much also again for your support . "
     ]
    }
   ],
   "source": [
    "raw1_10 = 'Didier Reynders, Member of the Commission. – Madam President, ladies and gentlemen, once again I would like to thank Parliament for its support in this ambitious data agenda. We discussed the European strategy for data together and, as you know, the Commission is committed, both at the legislative level and through the program and the industrial alliance, so that Europe can benefit fully from the wave of industrial data that will define our ability to integrate the digital transformation of our industrial ecosystems. The Commission is counting on the support of your Parliament, particularly in the various legislative files already on the table, but also in those to come. Turning to the GDPR, I would like to thank you again for our interesting discussion. I am pleased to see that we share many ideas on how to continue the work for an effective implementation and enforcement of the GDPR. On SMEs, the Commission is ready to assist the development of consistent and practical national guidance and guidelines of the EDPB in order to help businesses, in particular SMEs, to comply with data provision rules. The Commission financially supports national data protection authorities in their efforts to reach out to SMEs and citizens. And we will continue this financial support in 2021, including on projects aimed at developing templates and all the practical tools to help SMEs to comply with the rules. As announced in the Commission evaluation report, we will also explore whether, in the light of further experience and relevant case-law, proposing possible targeted amendments to certain provisions of the GDPR might be appropriate in the future, in particular regarding records of processing by SMEs that do not have the processing of personal data as their core business. While it is clear that there is still work ahead to improve the effectiveness of the implementation of the GDPR, I am convinced that our efforts will contribute to reaching our ambition of creating a common culture of data protection in the EU, and even beyond. I look forward to continuing of course our exchange on the GDPR and on data protection issues more generally. So thank you very much also again for your support.'\n",
    "tokens1_10 = word_tokenize(raw1_10)\n",
    "for word in tokens1_10:\n",
    "    print(word, end=' ')"
   ]
  },
  {
   "cell_type": "markdown",
   "metadata": {},
   "source": [
    "---\n",
    "### Combine all parts"
   ]
  },
  {
   "cell_type": "code",
   "execution_count": 30,
   "metadata": {},
   "outputs": [],
   "source": [
    "tokens = tokens1_1 + tokens1_2 + tokens1_3 + tokens1_4 + tokens1_5 + tokens1_6 + tokens1_7 + tokens1_8 + tokens1_9 + tokens1_10 "
   ]
  },
  {
   "cell_type": "markdown",
   "metadata": {},
   "source": [
    "---\n",
    "### Normalize the words "
   ]
  },
  {
   "cell_type": "code",
   "execution_count": 31,
   "metadata": {},
   "outputs": [],
   "source": [
    "type(tokens)\n",
    "eutext03 = [w.lower() for w in tokens]"
   ]
  },
  {
   "cell_type": "markdown",
   "metadata": {},
   "source": [
    "---\n",
    "**Save Output**"
   ]
  },
  {
   "cell_type": "code",
   "execution_count": 32,
   "metadata": {},
   "outputs": [],
   "source": [
    "save_path = '/Users/charlottekaiser/Documents/uni/Hertie/master_thesis/00_data/20_intermediate_files'\n",
    "file_name = \"EU03_European strategy for data - Commission evaluation report on the implementation of the General Data Protection Regulation two years after its application.txt\"\n",
    "completeName = os.path.join(save_path, file_name)\n",
    "output = open(completeName, 'w')\n",
    "print(eutext03, file=output)"
   ]
  }
 ],
 "metadata": {
  "interpreter": {
   "hash": "a9869976cf380d12cb70e759e57434a8e82bae01a9f74e734956416b40621c64"
  },
  "kernelspec": {
   "display_name": "Python 3.9.7 ('base')",
   "language": "python",
   "name": "python3"
  },
  "language_info": {
   "codemirror_mode": {
    "name": "ipython",
    "version": 3
   },
   "file_extension": ".py",
   "mimetype": "text/x-python",
   "name": "python",
   "nbconvert_exporter": "python",
   "pygments_lexer": "ipython3",
   "version": "3.9.7"
  },
  "orig_nbformat": 4
 },
 "nbformat": 4,
 "nbformat_minor": 2
}
