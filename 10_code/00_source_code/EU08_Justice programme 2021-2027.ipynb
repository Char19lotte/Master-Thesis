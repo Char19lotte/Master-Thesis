{
 "cells": [
  {
   "cell_type": "markdown",
   "metadata": {},
   "source": [
    "### *Data Collection - European Parliament*\n",
    "## Preparing Raw Data\n",
    "---\n",
    "**Sample Text 8**\n",
    "Title: Justice programme 2021-2027 <br>\n",
    "Date: April 27, 2021 - Brussels"
   ]
  },
  {
   "cell_type": "code",
   "execution_count": 10,
   "metadata": {},
   "outputs": [],
   "source": [
    "# import necessary libraries\n",
    "import requests\n",
    "from requests_html import HTMLSession\n",
    "import urllib.request\n",
    "import time\n",
    "from bs4 import BeautifulSoup\n",
    "import urllib\n",
    "from urllib import request\n",
    "from __future__ import division\n",
    "import nltk, re, pprint\n",
    "from nltk import word_tokenize\n",
    "from nltk import FreqDist\n",
    "import os.path \n",
    "import pandas as pd"
   ]
  },
  {
   "cell_type": "markdown",
   "metadata": {},
   "source": [
    "---\n",
    "### Process: Trimming debate by inserting the original English or translated English files and tokenizing them.\n",
    "*Note*: Due to time constraint, the process has been optimized.\n",
    "\n",
    "- English parts of the debate will be added manually as a string and then tokenized. \n",
    "\n",
    "- A consistent method of translating and then adding will be applied to all EU Parliament debates:  Non-English parts are copied from the original web pages, inserted in the consistent choice of translation tool, Google Translate (https://translate.google.com/?hl=de&tab=TT), translated to English and pasted in as a string. \n",
    "\n",
    "- Afterwards, the same steps are applied as per usual (tokenizing, standardizing).\n",
    "\n",
    "Because of the changed process, the URL and step of webscraping are technically no longer necessary, will however be included for the purpose of completeness. "
   ]
  },
  {
   "cell_type": "code",
   "execution_count": 11,
   "metadata": {},
   "outputs": [],
   "source": [
    "# url = \"https://www.europarl.europa.eu/doceo/document/CRE-9-2021-04-27-ITM-013_EN.html\"\n",
    "# html = requests.get(url)\n",
    "# raw = BeautifulSoup(html.content, 'html.parser').get_text()"
   ]
  },
  {
   "cell_type": "code",
   "execution_count": 12,
   "metadata": {},
   "outputs": [
    {
     "name": "stdout",
     "output_type": "stream",
     "text": [
      "Katarina Barley , rapporteur . – Mr President , Commissioner , ladies and gentlemen ! The democratic constitutional state is one of the greatest achievements of human civilization . He guarantees that nobody has to accept the law of the strongest . Compliance with the rule of law is one of the cornerstones of the European Union and is enshrined as one of the common values ​​in Article 2 of the EU treaties . More than 80 % of European citizens attach great importance to this value and are committed to improving the culture of the rule of law in Europe . This is shown by surveys by Eurobarometer . They have a feeling that the rule of law is not abstract , but can have a concrete impact on their lives at any time . The rule of law and democracy must never be taken for granted . In Europe we are seeing governments using parliamentary majorities to undermine the independence of the judiciary and undermine the rule of law . For example , we recently saw prosecutors who openly opposed the controversial judicial reform of the Polish government being transferred far from their homeland . They were only given 48 hours to comply with this request - with no opportunity to appeal . Dissent is punished , and that in turn is meant to act as a deterrent to everyone else . It is important to emphasize that the independence of the judiciary does not primarily serve the judges , the public prosecutors . It serves the entire population , which is the only way to rely on impartial court decisions . A good example of this is the protests against the virtual abolition of abortion rights in Poland . Tens of thousands of people took to the streets , and none of them hoped that the Polish Constitutional Court would give a fair verdict . Why not ? Because the court had already been brought into government line with numerous so-called reforms and new appointments . This is what colleagues on the extreme right love to mix up . It is not about creating a specific opinion , it is about creating the diversity , the plurality of opinions and their conflict . And in Poland it was very clear what happens when the law of the strongest applies and not the strength of the law . Member States are responsible for guaranteeing the rule of law in their country . If there are deficits in one Member State , this affects all other countries and the EU as a whole . Because EU citizens can live and work in any Member State , and companies can do business anywhere in Europe . However , a common internal market needs common rules of the game . European citizens must be able to rely on EU law being applied correctly and consistently everywhere . Cooperation in the field of justice – mutual extradition , for example – is based on trust . Cross-border cooperation and mutual recognition of judicial decisions can only work if there is trust in an independent judiciary that works efficiently in each Member State . The money of European taxpayers must not flow into countries where the use of the money is not subject to independent judicial control . A prime example of this is Hungary , where a large part of national and the money of European taxpayers goes into the pockets of Viktor Orbán and his clan . In order to combat such machinations better , we also decided on the instrument of rule of law conditionality . It is therefore a pan-European task to promote a culture of the rule of law , to prevent problems and to take effective countermeasures when the ax is laid on our values . Tomorrow we will vote on an important instrument to promote this culture and to take a step towards a common European area of ​​justice : the justice program as part of the multiannual financial framework 2021-2027 . The justice program will be endowed with more than EUR 300 million . Together with the Rights and Values ​​programme , which has just been discussed , it will form part of a Justice Rights and Values ​​fund , providing up to EUR 1.8 billion in support of the rule of law and fundamental European values . We use the money to support the activities of authorities , research institutes and civil society organizations . My co-rapporteur Heidi Hautala , whom I would like to thank warmly , and I were able to reach a very good compromise at the end of last year after intensive negotiations with the Member States and the Commission . Above all , we were able to achieve a clear earmarking for the goals of the program . First : promoting the rule of law and the independence of the judiciary . This strengthens mutual recognition , mutual trust and judicial cooperation in Europe . Second : support for judicial education and training in order to promote a common legal culture in Europe . Third : facilitating effective , non-discriminatory access to justice for everyone , including via digital channels . And fourth , support for the rights of crime victims and the procedural rights of suspects and accused persons . The Commission will report annually to Parliament on how the funds are being used . On this basis , we can make recommendations for an even more efficient use of the funding . A central point for us was that the measures to promote gender equality must be explicitly stated . And any change to the list of eligible actions must be approved by Parliament . I therefore ask you all to give the green light to the new justice program 2021-2027 through your vote tomorrow . It is one of the best investments we can make to strengthen European judiciary and take a step towards a genuine European area of ​​justice . "
     ]
    }
   ],
   "source": [
    "raw1_1 = 'Katarina Barley, rapporteur. – Mr President, Commissioner, ladies and gentlemen! The democratic constitutional state is one of the greatest achievements of human civilization. He guarantees that nobody has to accept the law of the strongest. Compliance with the rule of law is one of the cornerstones of the European Union and is enshrined as one of the common values ​​in Article 2 of the EU treaties. More than 80% of European citizens attach great importance to this value and are committed to improving the culture of the rule of law in Europe. This is shown by surveys by Eurobarometer. They have a feeling that the rule of law is not abstract, but can have a concrete impact on their lives at any time. The rule of law and democracy must never be taken for granted. In Europe we are seeing governments using parliamentary majorities to undermine the independence of the judiciary and undermine the rule of law. For example, we recently saw prosecutors who openly opposed the controversial judicial reform of the Polish government being transferred far from their homeland. They were only given 48 hours to comply with this request - with no opportunity to appeal. Dissent is punished, and that in turn is meant to act as a deterrent to everyone else. It is important to emphasize that the independence of the judiciary does not primarily serve the judges, the public prosecutors. It serves the entire population, which is the only way to rely on impartial court decisions. A good example of this is the protests against the virtual abolition of abortion rights in Poland. Tens of thousands of people took to the streets, and none of them hoped that the Polish Constitutional Court would give a fair verdict. Why not? Because the court had already been brought into government line with numerous so-called reforms and new appointments. This is what colleagues on the extreme right love to mix up. It is not about creating a specific opinion, it is about creating the diversity, the plurality of opinions and their conflict. And in Poland it was very clear what happens when the law of the strongest applies and not the strength of the law. Member States are responsible for guaranteeing the rule of law in their country. If there are deficits in one Member State, this affects all other countries and the EU as a whole. Because EU citizens can live and work in any Member State, and companies can do business anywhere in Europe. However, a common internal market needs common rules of the game. European citizens must be able to rely on EU law being applied correctly and consistently everywhere. Cooperation in the field of justice – mutual extradition, for example – is based on trust. Cross-border cooperation and mutual recognition of judicial decisions can only work if there is trust in an independent judiciary that works efficiently in each Member State. The money of European taxpayers must not flow into countries where the use of the money is not subject to independent judicial control. A prime example of this is Hungary, where a large part of national and the money of European taxpayers goes into the pockets of Viktor Orbán and his clan. In order to combat such machinations better, we also decided on the instrument of rule of law conditionality. It is therefore a pan-European task to promote a culture of the rule of law, to prevent problems and to take effective countermeasures when the ax is laid on our values. Tomorrow we will vote on an important instrument to promote this culture and to take a step towards a common European area of ​​justice: the justice program as part of the multiannual financial framework 2021-2027. The justice program will be endowed with more than EUR 300 million. Together with the Rights and Values ​​programme, which has just been discussed, it will form part of a Justice Rights and Values ​​fund, providing up to EUR 1.8 billion in support of the rule of law and fundamental European values. We use the money to support the activities of authorities, research institutes and civil society organizations. My co-rapporteur Heidi Hautala, whom I would like to thank warmly, and I were able to reach a very good compromise at the end of last year after intensive negotiations with the Member States and the Commission. Above all, we were able to achieve a clear earmarking for the goals of the program. First: promoting the rule of law and the independence of the judiciary. This strengthens mutual recognition, mutual trust and judicial cooperation in Europe. Second: support for judicial education and training in order to promote a common legal culture in Europe. Third: facilitating effective, non-discriminatory access to justice for everyone, including via digital channels. And fourth, support for the rights of crime victims and the procedural rights of suspects and accused persons. The Commission will report annually to Parliament on how the funds are being used. On this basis, we can make recommendations for an even more efficient use of the funding. A central point for us was that the measures to promote gender equality must be explicitly stated. And any change to the list of eligible actions must be approved by Parliament. I therefore ask you all to give the green light to the new justice program 2021-2027 through your vote tomorrow. It is one of the best investments we can make to strengthen European judiciary and take a step towards a genuine European area of ​​justice.'\n",
    "tokens1_1 = word_tokenize(raw1_1)\n",
    "for word in tokens1_1:\n",
    "    print(word, end=' ')"
   ]
  },
  {
   "cell_type": "code",
   "execution_count": 13,
   "metadata": {},
   "outputs": [
    {
     "name": "stdout",
     "output_type": "stream",
     "text": [
      "Heidi Hautala , rapporteur . – Mr President , on 30 May 2018 , three years ago , the European Commission submitted a proposal for a regulation of the European Parliament and of the Council to establish the Justice Programme . Now , a little less than three years later , we are in a position to adopt the final text . Here in the European Parliament , preparing this Justice Programme was a joint effort of the Committee on Legal Affairs ( JURI ) and the Committee on Civil Liberties , Justice and Home Affairs ( LIBE ) . I had the honour and pleasure to be the rapporteur on behalf of JURI . The cooperation with the LIBE rapporteur has always been excellent . I started with Mr Weidenholzer and I continued with Ms Barley . I also want to thank the Parliament services , especially the JURI and LIBE Committees , for their relentless work that , in my view , led to excellent results with the help of the Commission . The negotiations with the Council and the Commission were tough but fair . In the end , we reached an outcome that is not just technical , but mirrors the EU ’ s values and seeks solutions to concrete problems we are facing . The rule of law and fundamental rights in the EU can not be defended without a well-functioning , independent and impartial justice system . The programme focuses on persons and entities which contribute to make our common values – equality , rights and rich diversity – alive and vibrant . It is important that all relevant stakeholders , including civil society actors , are involved in the development of the legal system and can access funding . In this case , the Justice Programme has EUR 305 million in total under this programme . It ’ s just one fifth of the Citizens , Equality , Rights and Values Programme , but it is essential to guarantee a uniform European sphere of law . This programme has three main objectives : it facilitates and supports judicial cooperation in civil and criminal matters , promoting the rule of law , independence and impartiality of the judiciary ; it supports and promotes judicial training , with a view to fostering a common legal , judicial and rule of law culture ; and it facilitates effective and non-discriminatory access to justice for all , and an effective redress , including by electronic , e-Justice means . Special attention is given to mainstreaming . In the implementation of all of its actions , the programme shall seek to promote gender equality , the rights of the child and child-friendly justice , the protection of victims and the effective application of the principle of equal rights and non-discrimination . While judicial cooperation may not necessarily be in the forefront of the EU ’ s climate action , Parliament secured that this programme ought also to support activities that respect the climate and environmental standards and priorities of the Union and the ‘ do no harm ’ principle of the European Green Deal . The programme foresees different kinds of actions that are eligible for funding . The programme can be used , for example , for awareness-raising , mutual learning and the exchange of good practices among stakeholders to improve knowledge of Union policies and Union law . It can also be used for analytical and monitoring activities to improve knowledge and understanding of potential obstacles to the smooth functioning of a European area of justice . It can be used to train relevant stakeholders , and let me mention here that we have new emerging areas of law because our society is evolving in terms of technology and social systems and the like and we have newly emerging areas , for instance environmental justice , which the justice professionals have to understand better . The programme will also be used for developing and maintaining information and communication technology ( ICT ) as well as e-Justice tools , which will take into account privacy and data protection . This is a long list , but what makes me particularly happy is to see how the programme clearly acknowledges the role of civil society in this field too . The promotion of the rule of law will benefit from specific support and the Commission will report annually on the performance of the programme and the use of the funds for each specific objective , including actions linked to the promotion of gender equality . The interinstitutional negotiations were concluded on 18 December 2020 . In February 2021 , both COREPER , as well as the JURI and LIBE Committees in this Parliament , accepted the outcome of the negotiations . As a final step , the Council adopted its position on 19 April 2021 . I can confirm that its position fully reflects the agreement reached and that in the Council , all delegations , except for Hungary and Poland , voted in favour . As the co-rapporteur , I can not but hope that the regulation is swiftly adopted and enters into force as soon as possible . "
     ]
    }
   ],
   "source": [
    "raw1_2 = 'Heidi Hautala, rapporteur. – Mr President, on 30 May 2018, three years ago, the European Commission submitted a proposal for a regulation of the European Parliament and of the Council to establish the Justice Programme. Now, a little less than three years later, we are in a position to adopt the final text. Here in the European Parliament, preparing this Justice Programme was a joint effort of the Committee on Legal Affairs (JURI) and the Committee on Civil Liberties, Justice and Home Affairs (LIBE). I had the honour and pleasure to be the rapporteur on behalf of JURI. The cooperation with the LIBE rapporteur has always been excellent. I started with Mr Weidenholzer and I continued with Ms Barley. I also want to thank the Parliament services, especially the JURI and LIBE Committees, for their relentless work that, in my view, led to excellent results with the help of the Commission. The negotiations with the Council and the Commission were tough but fair. In the end, we reached an outcome that is not just technical, but mirrors the EU’s values and seeks solutions to concrete problems we are facing. The rule of law and fundamental rights in the EU cannot be defended without a well-functioning, independent and impartial justice system. The programme focuses on persons and entities which contribute to make our common values – equality, rights and rich diversity – alive and vibrant. It is important that all relevant stakeholders, including civil society actors, are involved in the development of the legal system and can access funding. In this case, the Justice Programme has EUR 305 million in total under this programme. It’s just one fifth of the Citizens, Equality, Rights and Values Programme, but it is essential to guarantee a uniform European sphere of law. This programme has three main objectives: it facilitates and supports judicial cooperation in civil and criminal matters, promoting the rule of law, independence and impartiality of the judiciary; it supports and promotes judicial training, with a view to fostering a common legal, judicial and rule of law culture; and it facilitates effective and non-discriminatory access to justice for all, and an effective redress, including by electronic, e-Justice means. Special attention is given to mainstreaming. In the implementation of all of its actions, the programme shall seek to promote gender equality, the rights of the child and child-friendly justice, the protection of victims and the effective application of the principle of equal rights and non-discrimination. While judicial cooperation may not necessarily be in the forefront of the EU’s climate action, Parliament secured that this programme ought also to support activities that respect the climate and environmental standards and priorities of the Union and the ‘do no harm’ principle of the European Green Deal. The programme foresees different kinds of actions that are eligible for funding. The programme can be used, for example, for awareness-raising, mutual learning and the exchange of good practices among stakeholders to improve knowledge of Union policies and Union law. It can also be used for analytical and monitoring activities to improve knowledge and understanding of potential obstacles to the smooth functioning of a European area of justice. It can be used to train relevant stakeholders, and let me mention here that we have new emerging areas of law because our society is evolving in terms of technology and social systems and the like and we have newly emerging areas, for instance environmental justice, which the justice professionals have to understand better. The programme will also be used for developing and maintaining information and communication technology (ICT) as well as e-Justice tools, which will take into account privacy and data protection. This is a long list, but what makes me particularly happy is to see how the programme clearly acknowledges the role of civil society in this field too. The promotion of the rule of law will benefit from specific support and the Commission will report annually on the performance of the programme and the use of the funds for each specific objective, including actions linked to the promotion of gender equality. The interinstitutional negotiations were concluded on 18 December 2020. In February 2021, both COREPER, as well as the JURI and LIBE Committees in this Parliament, accepted the outcome of the negotiations. As a final step, the Council adopted its position on 19 April 2021. I can confirm that its position fully reflects the agreement reached and that in the Council, all delegations, except for Hungary and Poland, voted in favour. As the co-rapporteur, I cannot but hope that the regulation is swiftly adopted and enters into force as soon as possible.'\n",
    "tokens1_2 = word_tokenize(raw1_2)\n",
    "for word in tokens1_2:\n",
    "    print(word, end=' ')"
   ]
  },
  {
   "cell_type": "code",
   "execution_count": 14,
   "metadata": {},
   "outputs": [
    {
     "name": "stdout",
     "output_type": "stream",
     "text": [
      "Didier Reynders , Member of the Commission . – Mr President , after the conclusion of a successful trilogue in December last year , I am pleased to talk to you again today about the Justice Programme . The Commission welcomes the agreement reached between the co-legislators on this important programme . This agreement shows that there is a strong determination by the EU institutions to support the further development of a European area of justice . Let me once again thank the European Parliament for its strong support concerning this file , and notably the rapporteurs , Ms Hautala and Ms Barley . The Justice Programme will support major political actions . To mention a few : the roadmap for a comprehensive European Rule of Law Report , with an EU-wide scope and objective annual reporting ; the new judicial training strategy aimed at equipping judges , prosecutors and other justice professionals for the challenges of the 21st century , such as artificial intelligence ; and the EU Strategy on victims ’ rights , focused on empowering victims to report crimes and get the support they need . The Justice program will also support the creation of more efficient justice systems and facilitate citizen access to justice by digital means , which is of particular importance in the context of the COVID-19 crisis . It has indeed become clear that citizens and businesses must have access to justice , also online . Thank you again for your continued support of this program and of course I look forward to hearing your comments . "
     ]
    }
   ],
   "source": [
    "raw1_3 = 'Didier Reynders, Member of the Commission. – Mr President, after the conclusion of a successful trilogue in December last year, I am pleased to talk to you again today about the Justice Programme. The Commission welcomes the agreement reached between the co-legislators on this important programme. This agreement shows that there is a strong determination by the EU institutions to support the further development of a European area of justice. Let me once again thank the European Parliament for its strong support concerning this file, and notably the rapporteurs, Ms Hautala and Ms Barley. The Justice Programme will support major political actions. To mention a few: the roadmap for a comprehensive European Rule of Law Report, with an EU-wide scope and objective annual reporting; the new judicial training strategy aimed at equipping judges, prosecutors and other justice professionals for the challenges of the 21st century, such as artificial intelligence; and the EU Strategy on victims’ rights, focused on empowering victims to report crimes and get the support they need. The Justice program will also support the creation of more efficient justice systems and facilitate citizen access to justice by digital means, which is of particular importance in the context of the COVID-19 crisis. It has indeed become clear that citizens and businesses must have access to justice, also online. Thank you again for your continued support of this program and of course I look forward to hearing your comments.'\n",
    "tokens1_3 = word_tokenize(raw1_3)\n",
    "for word in tokens1_3:\n",
    "    print(word, end=' ')"
   ]
  },
  {
   "cell_type": "code",
   "execution_count": 15,
   "metadata": {},
   "outputs": [
    {
     "name": "stdout",
     "output_type": "stream",
     "text": [
      "Emil Radev , on behalf of the PPE Group . - Mr President , colleagues , I would like to thank the rapporteurs and Commissioner Reinders for their constructive work on the dossier . Building the common space of justice , the European Union has achieved a great deal , but we live in a time of serious global challenges that unconditionally require all Member States to step up their efforts in the name of the rule of law , independent judiciary , mutual recognition and trust . That is why it is important to have a well-functioning European area of ​​justice , with maximum access to justice in cross-border legal situations and active judicial cooperation in civil and criminal matters . The adoption of the new Justice program is extremely important in this regard . With our support , we will reaffirm our commitment to make this important instrument for the protection of the justice , rights and values ​​of the European Union implemented as soon as possible . We know that good cooperation is based on mutual trust . In this direction is the provision of support for the training and exchange of magistrates , as well as for the development of independent , transparent and efficient national justice systems . The funds will be able to be used for activities that protect and strengthen fundamental values ​​such as human rights , the rule of law , freedom , democracy and equality . Today , in the context of the Justice program , it is increasingly important to promote the effective implementation of Union legal instruments and to develop e-Justice . In modern reality , the more active use of electronic means allows for more efficient court proceedings , for greater access of citizens and businesses to justice . "
     ]
    }
   ],
   "source": [
    "raw1_4 = 'Emil Radev, on behalf of the PPE Group. - Mr President, colleagues, I would like to thank the rapporteurs and Commissioner Reinders for their constructive work on the dossier. Building the common space of justice, the European Union has achieved a great deal, but we live in a time of serious global challenges that unconditionally require all Member States to step up their efforts in the name of the rule of law, independent judiciary, mutual recognition and trust. That is why it is important to have a well-functioning European area of ​​justice, with maximum access to justice in cross-border legal situations and active judicial cooperation in civil and criminal matters. The adoption of the new Justice program is extremely important in this regard. With our support, we will reaffirm our commitment to make this important instrument for the protection of the justice, rights and values ​​of the European Union implemented as soon as possible. We know that good cooperation is based on mutual trust. In this direction is the provision of support for the training and exchange of magistrates, as well as for the development of independent, transparent and efficient national justice systems. The funds will be able to be used for activities that protect and strengthen fundamental values ​​such as human rights, the rule of law, freedom, democracy and equality. Today, in the context of the Justice program, it is increasingly important to promote the effective implementation of Union legal instruments and to develop e-Justice. In modern reality, the more active use of electronic means allows for more efficient court proceedings, for greater access of citizens and businesses to justice.'\n",
    "tokens1_4 = word_tokenize(raw1_4)\n",
    "for word in tokens1_4:\n",
    "    print(word, end=' ')"
   ]
  },
  {
   "cell_type": "code",
   "execution_count": 16,
   "metadata": {},
   "outputs": [
    {
     "name": "stdout",
     "output_type": "stream",
     "text": [
      "Tiemo Wölken , on behalf of the S & D Group . – Mr President , ladies and gentlemen ! I would first like to thank the two rapporteurs for the European Parliament , Heidi Hautala and Katarina Barley , for their work on this very important programme . I believe that we , as parliamentarians , have reached a really good compromise with the Council , which ensures that we continue to live in an open , democratic , pluralistic and inclusive society . What is this Justice Program about ? It is at the core of European cooperation . European cooperation can only work if we trust each other , and that requires the core of the rule of law to work in all member countries . These are the legal systems , this is the good work of the judges . Where there are attacks on civil society , where judges and prosecutors are being intimidated , we must respond as a community . We must work together to ensure that our justice system is protected , and the Justice Program is a good answer to that . But is that all done ? No ! For example , there are strategic lawsuits against civil society organizations , against journalists - so-called SLAPPs - strategic lawsuits against public participation - and to be honest , this must not continue . That is why the Justice Program is just another building block in our fight for more justice and the rule of law in the European Union . "
     ]
    }
   ],
   "source": [
    "raw1_5 = 'Tiemo Wölken, on behalf of the S&D Group. – Mr President, ladies and gentlemen! I would first like to thank the two rapporteurs for the European Parliament, Heidi Hautala and Katarina Barley, for their work on this very important programme. I believe that we, as parliamentarians, have reached a really good compromise with the Council, which ensures that we continue to live in an open, democratic, pluralistic and inclusive society. What is this Justice Program about? It is at the core of European cooperation. European cooperation can only work if we trust each other, and that requires the core of the rule of law to work in all member countries. These are the legal systems, this is the good work of the judges. Where there are attacks on civil society, where judges and prosecutors are being intimidated, we must respond as a community. We must work together to ensure that our justice system is protected, and the Justice Program is a good answer to that. But is that all done? No! For example, there are strategic lawsuits against civil society organizations, against journalists - so-called SLAPPs - strategic lawsuits against public participation - and to be honest, this must not continue. That is why the Justice Program is just another building block in our fight for more justice and the rule of law in the European Union.'\n",
    "tokens1_5 = word_tokenize(raw1_5)\n",
    "for word in tokens1_5:\n",
    "    print(word, end=' ')"
   ]
  },
  {
   "cell_type": "code",
   "execution_count": 17,
   "metadata": {},
   "outputs": [
    {
     "name": "stdout",
     "output_type": "stream",
     "text": [
      "Stéphane Séjourné , on behalf of the Renew group . – Mr President , dear Commissioner , dear Didier , thank you also to the rapporteur for her work . Today , we endorse the `` Justice '' program for 2021-2027 . It is an essential program which aims to strengthen our judicial cooperation in civil and criminal matters , to increase our capacities for joint judicial training , to promote and guarantee the rights of victims and of the defense and to facilitate access to justice . , thanks also to the support of NGOs . Through this program , we are not only seeking to consolidate the achievements , but also to create a common judicial culture , and this is its importance . It is also a tool that must guarantee us respect for the rule of law , by providing additional financial means for our values , for our democracies . This program is also the realization of all the discourse on the rule of law that can be heard in this hemicycle , because justice is also the application of common and uniform rules , independence and the impartiality of the judicial system , which must be guaranteed by this money given by the European Union to develop our judicial institutions . This is all that this programme , dear colleagues , is funding , and this is why I am clearly calling on you to support it . "
     ]
    }
   ],
   "source": [
    "raw1_6 = 'Stéphane Séjourné, on behalf of the Renew group. – Mr President, dear Commissioner, dear Didier, thank you also to the rapporteur for her work. Today, we endorse the \"Justice\" program for 2021-2027. It is an essential program which aims to strengthen our judicial cooperation in civil and criminal matters, to increase our capacities for joint judicial training, to promote and guarantee the rights of victims and of the defense and to facilitate access to justice. , thanks also to the support of NGOs. Through this program, we are not only seeking to consolidate the achievements, but also to create a common judicial culture, and this is its importance. It is also a tool that must guarantee us respect for the rule of law, by providing additional financial means for our values, for our democracies. This program is also the realization of all the discourse on the rule of law that can be heard in this hemicycle, because justice is also the application of common and uniform rules, independence and the impartiality of the judicial system, which must be guaranteed by this money given by the European Union to develop our judicial institutions. This is all that this programme, dear colleagues, is funding, and this is why I am clearly calling on you to support it.'\n",
    "tokens1_6 = word_tokenize(raw1_6)\n",
    "for word in tokens1_6:\n",
    "    print(word, end=' ')"
   ]
  },
  {
   "cell_type": "markdown",
   "metadata": {},
   "source": [
    "---\n",
    "### Combine all parts"
   ]
  },
  {
   "cell_type": "code",
   "execution_count": 18,
   "metadata": {},
   "outputs": [],
   "source": [
    "tokens = tokens1_1 + tokens1_2 + tokens1_3 + tokens1_4 + tokens1_5 + tokens1_6 "
   ]
  },
  {
   "cell_type": "markdown",
   "metadata": {},
   "source": [
    "---\n",
    "### Normalize the words "
   ]
  },
  {
   "cell_type": "code",
   "execution_count": 19,
   "metadata": {},
   "outputs": [],
   "source": [
    "type(tokens)\n",
    "eutext08 = [w.lower() for w in tokens]"
   ]
  },
  {
   "cell_type": "markdown",
   "metadata": {},
   "source": [
    "---\n",
    "**Save Output**"
   ]
  },
  {
   "cell_type": "code",
   "execution_count": 20,
   "metadata": {},
   "outputs": [],
   "source": [
    "save_path = '/Users/charlottekaiser/Documents/uni/Hertie/master_thesis/00_data/20_intermediate_files'\n",
    "file_name = \"EU08_Justice programme 2021-2027.txt\"\n",
    "completeName = os.path.join(save_path, file_name)\n",
    "output = open(completeName, 'w')\n",
    "print(eutext08, file=output)"
   ]
  }
 ],
 "metadata": {
  "interpreter": {
   "hash": "a9869976cf380d12cb70e759e57434a8e82bae01a9f74e734956416b40621c64"
  },
  "kernelspec": {
   "display_name": "Python 3.9.7 ('base')",
   "language": "python",
   "name": "python3"
  },
  "language_info": {
   "codemirror_mode": {
    "name": "ipython",
    "version": 3
   },
   "file_extension": ".py",
   "mimetype": "text/x-python",
   "name": "python",
   "nbconvert_exporter": "python",
   "pygments_lexer": "ipython3",
   "version": "3.9.7"
  },
  "orig_nbformat": 4
 },
 "nbformat": 4,
 "nbformat_minor": 2
}
