{
 "cells": [
  {
   "cell_type": "markdown",
   "metadata": {},
   "source": [
    "### *Data Analysis*\n",
    "##  Plot Prevalence Score and prepare Multivariate Regression for the Speaker Corpus, EU\n",
    "---\n",
    "*conducted in May 2022*"
   ]
  },
  {
   "cell_type": "code",
   "execution_count": 12,
   "metadata": {},
   "outputs": [],
   "source": [
    "from nltk.probability import FreqDist\n",
    "import statistics\n",
    "from matplotlib import pyplot\n",
    "import pandas as pd\n",
    "from scipy.stats import fisher_exact\n",
    "import matplotlib.pyplot as plt\n",
    "import numpy as np\n",
    "from statsmodels.graphics.mosaicplot import mosaic\n",
    "import math\n",
    "import os\n",
    "from matplotlib import cm\n",
    "from colorspacious import cspace_converter\n",
    "import docx\n",
    "import altair as alt\n",
    "import statsmodels.api as sm\n",
    "import statsmodels.formula.api as smf\n",
    "import imblearn\n",
    "from imblearn.over_sampling import RandomOverSampler\n",
    "from sklearn.ensemble import RandomForestClassifier\n",
    "from sklearn.metrics import roc_auc_score\n",
    "from sklearn.metrics import accuracy_score"
   ]
  },
  {
   "cell_type": "markdown",
   "metadata": {},
   "source": [
    "---\n",
    "### 1. Prepare prevalence data for descriptives "
   ]
  },
  {
   "cell_type": "code",
   "execution_count": 13,
   "metadata": {},
   "outputs": [],
   "source": [
    "expost_eu = pd.read_csv(r\"/Users/charlottekaiser/Documents/uni/Hertie/master_thesis/00_data/50_analysis/LDA_mallet_eu.csv\")\n",
    "prevalences_eu = pd.read_excel(r\"/Users/charlottekaiser/Documents/uni/Hertie/master_thesis/20_results/10_analysis/LDA_speaking-points/prevalence_scores_eu_spss.xlsx\")"
   ]
  },
  {
   "cell_type": "code",
   "execution_count": 14,
   "metadata": {},
   "outputs": [],
   "source": [
    "expost_eu = expost_eu.drop(columns=['Unnamed: 0', 'level', 'text', 'Document_No', 'Keywords', 'Topic_Perc_Contrib', 'prevalenc_of_topics'])"
   ]
  },
  {
   "cell_type": "code",
   "execution_count": 15,
   "metadata": {},
   "outputs": [
    {
     "data": {
      "text/html": [
       "<div>\n",
       "<style scoped>\n",
       "    .dataframe tbody tr th:only-of-type {\n",
       "        vertical-align: middle;\n",
       "    }\n",
       "\n",
       "    .dataframe tbody tr th {\n",
       "        vertical-align: top;\n",
       "    }\n",
       "\n",
       "    .dataframe thead th {\n",
       "        text-align: right;\n",
       "    }\n",
       "</style>\n",
       "<table border=\"1\" class=\"dataframe\">\n",
       "  <thead>\n",
       "    <tr style=\"text-align: right;\">\n",
       "      <th></th>\n",
       "      <th>speaker</th>\n",
       "      <th>gender</th>\n",
       "      <th>member_state</th>\n",
       "      <th>EP</th>\n",
       "      <th>party_group</th>\n",
       "      <th>Dominant_Topic</th>\n",
       "    </tr>\n",
       "  </thead>\n",
       "  <tbody>\n",
       "    <tr>\n",
       "      <th>0</th>\n",
       "      <td>Magdalena Adamowicz</td>\n",
       "      <td>1</td>\n",
       "      <td>Poland</td>\n",
       "      <td>1.0</td>\n",
       "      <td>European People's Party</td>\n",
       "      <td>Democracy</td>\n",
       "    </tr>\n",
       "    <tr>\n",
       "      <th>1</th>\n",
       "      <td>Marina Kaljurand</td>\n",
       "      <td>1</td>\n",
       "      <td>Estonia</td>\n",
       "      <td>1.0</td>\n",
       "      <td>Progressive Alliance of Socialists and Democra...</td>\n",
       "      <td>Democracy</td>\n",
       "    </tr>\n",
       "    <tr>\n",
       "      <th>2</th>\n",
       "      <td>Annalisa Tardino</td>\n",
       "      <td>1</td>\n",
       "      <td>Italy</td>\n",
       "      <td>1.0</td>\n",
       "      <td>Identity and Democracy Group</td>\n",
       "      <td>Residual</td>\n",
       "    </tr>\n",
       "    <tr>\n",
       "      <th>3</th>\n",
       "      <td>Laura Ferrara</td>\n",
       "      <td>1</td>\n",
       "      <td>Italy</td>\n",
       "      <td>1.0</td>\n",
       "      <td>Non-attached Members</td>\n",
       "      <td>Democracy</td>\n",
       "    </tr>\n",
       "    <tr>\n",
       "      <th>4</th>\n",
       "      <td>Paulo Rangel</td>\n",
       "      <td>0</td>\n",
       "      <td>Portugal</td>\n",
       "      <td>1.0</td>\n",
       "      <td>European People's Party</td>\n",
       "      <td>Residual</td>\n",
       "    </tr>\n",
       "    <tr>\n",
       "      <th>...</th>\n",
       "      <td>...</td>\n",
       "      <td>...</td>\n",
       "      <td>...</td>\n",
       "      <td>...</td>\n",
       "      <td>...</td>\n",
       "      <td>...</td>\n",
       "    </tr>\n",
       "    <tr>\n",
       "      <th>168</th>\n",
       "      <td>Geert Bourgeois</td>\n",
       "      <td>0</td>\n",
       "      <td>Belgium</td>\n",
       "      <td>1.0</td>\n",
       "      <td>European Conservatives and Reformists Group</td>\n",
       "      <td>Global market</td>\n",
       "    </tr>\n",
       "    <tr>\n",
       "      <th>169</th>\n",
       "      <td>Liesje Schreinemacher</td>\n",
       "      <td>1</td>\n",
       "      <td>Netherlands</td>\n",
       "      <td>1.0</td>\n",
       "      <td>Renew Europe Group</td>\n",
       "      <td>Global market</td>\n",
       "    </tr>\n",
       "    <tr>\n",
       "      <th>170</th>\n",
       "      <td>Roman Haider</td>\n",
       "      <td>0</td>\n",
       "      <td>Austria</td>\n",
       "      <td>1.0</td>\n",
       "      <td>Identity and Democracy Group</td>\n",
       "      <td>Residual</td>\n",
       "    </tr>\n",
       "    <tr>\n",
       "      <th>171</th>\n",
       "      <td>Anna-Michelle Asimakopoulou</td>\n",
       "      <td>1</td>\n",
       "      <td>Greece</td>\n",
       "      <td>1.0</td>\n",
       "      <td>European People's Party</td>\n",
       "      <td>Global market</td>\n",
       "    </tr>\n",
       "    <tr>\n",
       "      <th>172</th>\n",
       "      <td>Maria-Manuel Leitão-Marques</td>\n",
       "      <td>1</td>\n",
       "      <td>Portugal</td>\n",
       "      <td>1.0</td>\n",
       "      <td>Progressive Alliance of Socialists and Democra...</td>\n",
       "      <td>Digital sovereignty</td>\n",
       "    </tr>\n",
       "  </tbody>\n",
       "</table>\n",
       "<p>173 rows × 6 columns</p>\n",
       "</div>"
      ],
      "text/plain": [
       "                          speaker  gender member_state   EP  \\\n",
       "0             Magdalena Adamowicz       1       Poland  1.0   \n",
       "1                Marina Kaljurand       1      Estonia  1.0   \n",
       "2                Annalisa Tardino       1        Italy  1.0   \n",
       "3                   Laura Ferrara       1        Italy  1.0   \n",
       "4                    Paulo Rangel       0     Portugal  1.0   \n",
       "..                            ...     ...          ...  ...   \n",
       "168               Geert Bourgeois       0      Belgium  1.0   \n",
       "169         Liesje Schreinemacher       1  Netherlands  1.0   \n",
       "170                  Roman Haider       0      Austria  1.0   \n",
       "171   Anna-Michelle Asimakopoulou       1       Greece  1.0   \n",
       "172  Maria-Manuel Leitão-Marques        1     Portugal  1.0   \n",
       "\n",
       "                                           party_group       Dominant_Topic  \n",
       "0                              European People's Party            Democracy  \n",
       "1    Progressive Alliance of Socialists and Democra...            Democracy  \n",
       "2                         Identity and Democracy Group             Residual  \n",
       "3                                 Non-attached Members            Democracy  \n",
       "4                              European People's Party             Residual  \n",
       "..                                                 ...                  ...  \n",
       "168        European Conservatives and Reformists Group        Global market  \n",
       "169                                 Renew Europe Group        Global market  \n",
       "170                       Identity and Democracy Group             Residual  \n",
       "171                            European People's Party        Global market  \n",
       "172  Progressive Alliance of Socialists and Democra...  Digital sovereignty  \n",
       "\n",
       "[173 rows x 6 columns]"
      ]
     },
     "execution_count": 15,
     "metadata": {},
     "output_type": "execute_result"
    }
   ],
   "source": [
    "# Add the prevalences for both topics to prepare for multivariate regression and drop old topics that create confusion\n",
    "expost_eu.loc[expost_eu['Dominant_Topic'] == 0, ['Dominant_Topic']] = 'AI education'\n",
    "expost_eu.loc[expost_eu['Dominant_Topic'] == 1, ['Dominant_Topic']] = 'Global market'\n",
    "expost_eu.loc[expost_eu['Dominant_Topic'] == 2, ['Dominant_Topic']] = 'Digital sovereignty'\n",
    "expost_eu.loc[expost_eu['Dominant_Topic'] == 3, ['Dominant_Topic']] = 'European technology capacity'\n",
    "expost_eu.loc[expost_eu['Dominant_Topic'] == 4, ['Dominant_Topic']] = 'Residual'\n",
    "expost_eu.loc[expost_eu['Dominant_Topic'] == 5, ['Dominant_Topic']] = 'Democracy'\n",
    "expost_eu.loc[expost_eu['Dominant_Topic'] == 6, ['Dominant_Topic']] = 'Human rights'\n",
    "expost_eu.loc[expost_eu['Dominant_Topic'] == 7, ['Dominant_Topic']] = 'Residual'\n",
    "expost_eu"
   ]
  },
  {
   "cell_type": "code",
   "execution_count": 16,
   "metadata": {},
   "outputs": [],
   "source": [
    "expost_eu[\"prev_ai_edu\"] = prevalences_eu[\"prev_ai-edu\"]\n",
    "expost_eu[\"AI_education\"] = prevalences_eu[\"AI education\"]\n",
    "expost_eu[\"prev_global_market\"] = prevalences_eu[\"prev_global-market\"]\n",
    "expost_eu[\"Global_market\"] = prevalences_eu[\"Global market\"]\n",
    "expost_eu[\"prev_digital_sov\"] = prevalences_eu[\"prev_digital_sov\"]\n",
    "expost_eu[\"Digital_sovereignty\"] = prevalences_eu[\"Digital sovereignty\"]\n",
    "expost_eu[\"prev_eu_tech\"] = prevalences_eu[\"prev_eu-tech-capacity\"]\n",
    "expost_eu[\"European_technology_capacity\"] = prevalences_eu[\"European technology capacity\"]\n",
    "expost_eu[\"prev_democracy\"] = prevalences_eu[\"prev_democracy\"]\n",
    "expost_eu[\"Democracy\"] = prevalences_eu[\"Democracy\"]\n",
    "expost_eu[\"prev_human_rights\"] = prevalences_eu[\"prev_human-rights\"]\n",
    "expost_eu[\"Human_rights\"] = prevalences_eu[\"Human rights\"]\n",
    "expost_eu[\"prev_residual\"] = prevalences_eu[\"prev_residual2\"] + prevalences_eu[\"prev_residual3\"]\n",
    "expost_eu[\"Residuals\"] = expost_eu[\"prev_residual\"]*100"
   ]
  },
  {
   "cell_type": "markdown",
   "metadata": {},
   "source": [
    "---\n",
    "#### 1.2 Calculate the mean prevalence scores"
   ]
  },
  {
   "cell_type": "code",
   "execution_count": 17,
   "metadata": {},
   "outputs": [],
   "source": [
    "# Calculating the mean prevalence scores for each topic\n",
    "mean_ai_edu = expost_eu[\"AI_education\"].mean()\n",
    "mean_global_market = expost_eu[\"Global_market\"].mean()\n",
    "mean_democracy = expost_eu[\"Democracy\"].mean()\n",
    "mean_digital_sov = expost_eu[\"Digital_sovereignty\"].mean()\n",
    "mean_human_rights = expost_eu[\"Human_rights\"].mean()\n",
    "mean_eu_tech_capacity = expost_eu[\"European_technology_capacity\"].mean()\n",
    "mean_residual = expost_eu[\"Residuals\"].mean()\n"
   ]
  },
  {
   "cell_type": "code",
   "execution_count": 18,
   "metadata": {},
   "outputs": [],
   "source": [
    "# initialize data of lists.\n",
    "means = {'topic':['AI_education', 'Global_market', 'Democracy', 'Digital_sovereignty', 'Human_rights', 'European_technology_capacity', 'Residuals'],\n",
    "        'mean':[mean_ai_edu, mean_global_market, mean_democracy, mean_digital_sov, mean_human_rights, mean_eu_tech_capacity, mean_residual]}\n",
    " \n",
    "# Create DataFrame\n",
    "means = pd.DataFrame(means)"
   ]
  },
  {
   "cell_type": "code",
   "execution_count": 19,
   "metadata": {},
   "outputs": [
    {
     "data": {
      "text/html": [
       "<div>\n",
       "<style scoped>\n",
       "    .dataframe tbody tr th:only-of-type {\n",
       "        vertical-align: middle;\n",
       "    }\n",
       "\n",
       "    .dataframe tbody tr th {\n",
       "        vertical-align: top;\n",
       "    }\n",
       "\n",
       "    .dataframe thead th {\n",
       "        text-align: right;\n",
       "    }\n",
       "</style>\n",
       "<table border=\"1\" class=\"dataframe\">\n",
       "  <thead>\n",
       "    <tr style=\"text-align: right;\">\n",
       "      <th></th>\n",
       "      <th>topic</th>\n",
       "      <th>mean</th>\n",
       "    </tr>\n",
       "  </thead>\n",
       "  <tbody>\n",
       "    <tr>\n",
       "      <th>0</th>\n",
       "      <td>AI_education</td>\n",
       "      <td>11.795995</td>\n",
       "    </tr>\n",
       "    <tr>\n",
       "      <th>1</th>\n",
       "      <td>Global_market</td>\n",
       "      <td>12.287625</td>\n",
       "    </tr>\n",
       "    <tr>\n",
       "      <th>2</th>\n",
       "      <td>Democracy</td>\n",
       "      <td>13.626775</td>\n",
       "    </tr>\n",
       "    <tr>\n",
       "      <th>3</th>\n",
       "      <td>Digital_sovereignty</td>\n",
       "      <td>12.433001</td>\n",
       "    </tr>\n",
       "    <tr>\n",
       "      <th>4</th>\n",
       "      <td>Human_rights</td>\n",
       "      <td>11.930461</td>\n",
       "    </tr>\n",
       "    <tr>\n",
       "      <th>5</th>\n",
       "      <td>European_technology_capacity</td>\n",
       "      <td>12.853451</td>\n",
       "    </tr>\n",
       "    <tr>\n",
       "      <th>6</th>\n",
       "      <td>Residuals</td>\n",
       "      <td>25.072691</td>\n",
       "    </tr>\n",
       "  </tbody>\n",
       "</table>\n",
       "</div>"
      ],
      "text/plain": [
       "                          topic       mean\n",
       "0                  AI_education  11.795995\n",
       "1                 Global_market  12.287625\n",
       "2                     Democracy  13.626775\n",
       "3           Digital_sovereignty  12.433001\n",
       "4                  Human_rights  11.930461\n",
       "5  European_technology_capacity  12.853451\n",
       "6                     Residuals  25.072691"
      ]
     },
     "execution_count": 19,
     "metadata": {},
     "output_type": "execute_result"
    }
   ],
   "source": [
    "means"
   ]
  },
  {
   "cell_type": "markdown",
   "metadata": {},
   "source": [
    "---\n",
    "### 2. Collect descriptives and visualise"
   ]
  },
  {
   "cell_type": "code",
   "execution_count": 20,
   "metadata": {},
   "outputs": [
    {
     "data": {
      "image/png": "[encoded data removed]",
      "text/plain": [
       "<Figure size 432x288 with 1 Axes>"
      ]
     },
     "metadata": {},
     "output_type": "display_data"
    }
   ],
   "source": [
    "# Pie chart to plot distribution\n",
    "labels = 'European technology capacity (12.9%)', 'Digital sovereignty (12.4%)', 'Democracy (13.6%)', 'AI education (11.8%)', 'Human rights (11.9%)', 'Global market (12.2%)', 'Residual topics (25.1%)' \n",
    "sizes = [12.853451, 12.433001, 13.626775,11.795995, 11.930461, 12.287625, 25.072691]\n",
    "explode = [0, 0, 0, 0, 0, 0, 0.05]\n",
    "colors = ['#FFAC72', '#052155', '#7FB3D5', '#C39BD3', '#CAB79E', 'green', 'red']\n",
    "patches, texts = plt.pie(sizes, colors=colors, shadow=True, startangle=90, explode=explode)\n",
    "plt.legend(patches, labels, loc='upper right', bbox_to_anchor=(0.2, 0.5))\n",
    "plt.axis('equal')\n",
    "plt.show()"
   ]
  },
  {
   "cell_type": "code",
   "execution_count": 21,
   "metadata": {},
   "outputs": [
    {
     "data": {
      "text/plain": [
       "Residual                        34\n",
       "Democracy                       33\n",
       "Global market                   25\n",
       "AI education                    24\n",
       "European technology capacity    22\n",
       "Human rights                    19\n",
       "Digital sovereignty             16\n",
       "Name: Dominant_Topic, dtype: int64"
      ]
     },
     "execution_count": 21,
     "metadata": {},
     "output_type": "execute_result"
    }
   ],
   "source": [
    "# Count dominance of topics\n",
    "expost_eu[\"Dominant_Topic\"].value_counts()"
   ]
  },
  {
   "cell_type": "code",
   "execution_count": 22,
   "metadata": {},
   "outputs": [
    {
     "data": {
      "image/png": "[encoded data removed]",
      "text/plain": [
       "<Figure size 432x288 with 1 Axes>"
      ]
     },
     "metadata": {},
     "output_type": "display_data"
    }
   ],
   "source": [
    "# Create pie chart\n",
    "labels = 'European technology capacity (22)', 'Digital sovereignty (16)', 'Democracy (33)', 'AI education (24)', 'Human rights (19)', 'Global market (25)', 'Residual topics (34)' \n",
    "sizes = [22, 16, 33, 24, 19, 25, 34]\n",
    "explode = [0, 0, 0.025, 0, 0, 0, 0.025]\n",
    "colors = ['#FFAC72', '#052155', '#7FB3D5', '#C39BD3', '#CAB79E', 'green', 'red']\n",
    "patches, texts = plt.pie(sizes, colors=colors, shadow=True, startangle=90, explode=explode)\n",
    "plt.legend(patches, labels, loc='upper right', bbox_to_anchor=(0.2, 0.5))\n",
    "plt.axis('equal')\n",
    "plt.show()"
   ]
  },
  {
   "cell_type": "code",
   "execution_count": 23,
   "metadata": {},
   "outputs": [],
   "source": [
    "# Save dataframe\n",
    "means.to_csv('/Users/charlottekaiser/Documents/uni/Hertie/master_thesis/00_data/50_analysis/prevalence_means-eu.csv')  "
   ]
  },
  {
   "cell_type": "markdown",
   "metadata": {},
   "source": [
    "---\n",
    "### 3. Prepare dataframe for multivariate regression in R"
   ]
  },
  {
   "cell_type": "code",
   "execution_count": 24,
   "metadata": {},
   "outputs": [
    {
     "data": {
      "text/plain": [
       "array(['Poland', 'Estonia', 'Italy', 'Portugal', 'Germany', 'Slovakia',\n",
       "       'Spain', 'Slovenia', 'Belgium', 'France', 'Cyprus', 'Hungary',\n",
       "       'Netherlands', 'Romania', 'Greece', 'Latvia', 'Luxembourg',\n",
       "       'Sweden', 'Denmark', 'Austria', 'Croatia', 'Ireland', 'Czechia',\n",
       "       'Malta', 'Bulgaria', 'Finland', 'Lithuania'], dtype=object)"
      ]
     },
     "execution_count": 24,
     "metadata": {},
     "output_type": "execute_result"
    }
   ],
   "source": [
    "# Investigate the states we have and clean up the variable - not necessary here\n",
    "expost_eu[\"member_state\"].unique()"
   ]
  },
  {
   "cell_type": "code",
   "execution_count": 25,
   "metadata": {},
   "outputs": [],
   "source": [
    "expost_eu.to_csv('/Users/charlottekaiser/Documents/uni/Hertie/master_thesis/00_data/50_analysis/multivariate-reg-data-eu.csv')  "
   ]
  }
 ],
 "metadata": {
  "interpreter": {
   "hash": "a9869976cf380d12cb70e759e57434a8e82bae01a9f74e734956416b40621c64"
  },
  "kernelspec": {
   "display_name": "Python 3.9.7 ('base')",
   "language": "python",
   "name": "python3"
  },
  "language_info": {
   "codemirror_mode": {
    "name": "ipython",
    "version": 3
   },
   "file_extension": ".py",
   "mimetype": "text/x-python",
   "name": "python",
   "nbconvert_exporter": "python",
   "pygments_lexer": "ipython3",
   "version": "3.9.7"
  },
  "orig_nbformat": 4
 },
 "nbformat": 4,
 "nbformat_minor": 2
}
