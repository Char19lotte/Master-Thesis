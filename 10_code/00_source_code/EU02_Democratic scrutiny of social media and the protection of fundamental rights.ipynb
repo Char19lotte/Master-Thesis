{
 "cells": [
  {
   "cell_type": "markdown",
   "metadata": {},
   "source": [
    "### *Data Collection - European Parliament*\n",
    "## Preparing Raw Data\n",
    "---\n",
    "**Sample Text 2**\n",
    "Title: Democratic scrutiny of social media and the protection of fundamental rights <br>\n",
    "Date: February 10, 2021 - Brussels"
   ]
  },
  {
   "cell_type": "code",
   "execution_count": 89,
   "metadata": {},
   "outputs": [],
   "source": [
    "# import necessary libraries\n",
    "import requests\n",
    "from requests_html import HTMLSession\n",
    "import urllib.request\n",
    "import time\n",
    "from bs4 import BeautifulSoup\n",
    "import urllib\n",
    "from urllib import request\n",
    "from __future__ import division\n",
    "import nltk, re, pprint\n",
    "from nltk import word_tokenize\n",
    "from nltk import FreqDist\n",
    "import os.path \n",
    "import pandas as pd"
   ]
  },
  {
   "cell_type": "markdown",
   "metadata": {},
   "source": [
    "---\n",
    "### Process: Trimming debate by inserting the original English or translated English files and tokenizing them.\n",
    "*Note*: Due to time constraint, the process has been optimized.\n",
    "\n",
    "- English parts of the debate will be added manually as a string and then tokenized. \n",
    "\n",
    "- A consistent method of translating and then adding will be applied to all EU Parliament debates:  Non-English parts are copied from the original web pages, inserted in the consistent choice of translation tool, Google Translate (https://translate.google.com/?hl=de&tab=TT), translated to English and pasted in as a string. \n",
    "\n",
    "- Afterwards, the same steps are applied as per usual (tokenizing, standardizing).\n",
    "\n",
    "Because of the changed process, the URL and step of webscraping are technically no longer necessary, will however be included for the purpose of completeness. "
   ]
  },
  {
   "cell_type": "code",
   "execution_count": 90,
   "metadata": {},
   "outputs": [],
   "source": [
    "# url = \"https://www.europarl.europa.eu/doceo/document/CRE-9-2021-03-25-ITM-007_EN.html\"\n",
    "# html = requests.get(url)\n",
    "# raw = BeautifulSoup(html.content, 'html.parser').get_text()"
   ]
  },
  {
   "cell_type": "code",
   "execution_count": 91,
   "metadata": {},
   "outputs": [],
   "source": [
    "raw1_1 = 'Ana Paula Zacarias, President-in-Office of the Council. – Madam President, recent weeks have shown that even the most robust democratic structures are not safe from damage. What happened on the other side of the Atlantic must inform our debate in Europe, as our democratic societies are not immune to the harmful influence of hate speech, disinformation, fake news and incitement to violence. These events have also shed light on the increased importance of online platforms and social media companies in shaping public debate. They have highlighted the growing interconnection that exists between digital transformation and democracy, which is one of the priorities of the Portuguese Presidency. It is unquestionable that social media companies have the status of public squares, which means they should have responsibilities when it comes to enhancing citizens’ participation and ensuring freedom of expression. Nevertheless, freedom of expression is not absolute. It should be balanced with the goal of combating illegal hate speech, incitement to violence and radicalisation, both online and offline. What is illegal? What is illegal offline must be illegal online. Online platforms have repeatedly been criticised for the lack of transparency in the use of algorithms, on content moderation and for targeting users on the basis of a vast amount of personal data generated from online activity. The digital space has also become a breeding ground for conspiracies and fake news. Disinformation spreads faster than any virus. Education, media and digital literacy are the best vaccines against that. We expect online platforms to play their part in this common fight, but it is up to the democratic institutions – our laws, our courts – to set the rules of the game, to define what is illegal and what is not, what must be removed and what should not be. Without democratic scrutiny and a level playing field, there is a risk to users’ rights, information flows and public participation. The protection of fundamental rights requires transparent and consistent rules for all of us, including social media outlets. The recently proposed European Democracy Action Plan, the Digital Services Act and the Digital Markets Act are important steps forward and will make the digital environment more transparent and actors like social media companies more accountable. The Council has already started the discussions on these important instruments. These initiatives must also be considered in conjunction with the upcoming Media and Audiovisual Action Plan, which will be the subject of the Council conclusions that we intend to adopt during our Presidency. In addition, we are expecting, for the third quarter of the year, a Commission legislative proposal to ensure greater transparency in the area of sponsored content in a public context, complementing the Digital Services Act. The Council is ready to cooperate with this Parliament to ensure adoption sufficiently ahead of the 2024 European elections. Moreover, the Presidency will host the Digital Assembly in Lisbon in June, where the concepts of digital democracy and digital rights will be discussed. The Presidency intends to consolidate the idea that Europe is a reference in the digital era and that our values and way of doing business are a competitive advantage. We want to place this idea at the heart of the European Digital Strategy for the next digital decade. The Presidency will also hold a high—level conference on the future of journalism and its interconnection with artificial intelligence, with a special focus on the robotisation of news production. The current times have brought into sharp relief the unavoidable reality that what is happening online shapes our lives, beliefs and choices. It deeply influences what we buy or who we vote for, who we listen to, and even our opinion on vaccines. In its recent conclusions, the Council stressed the need to foster a well—functioning digital public sphere, greater accountability and improved transparency in addressing disinformation. Countering this scourge is crucial to preserve open political debate and the effective participation of citizens. We need to prevent social media functioning as an echo chamber which suppresses different points of view, and we need to make sure our citizens are equipped to manage the flood of information they are exposed to every day. In times such as this, believing in unreliable information may be lethal. We welcome, therefore, the work on the Rapid Alert System and other monitoring instruments. We encourage support for media and digital literacy, media pluralism, media independence and fact checking. Let me reassure you that the Presidency is committed to working with the European Parliament, the Commission and the European External Action Service on these crucial issues in order to promote and protect our fundamental rights and our democracy.'"
   ]
  },
  {
   "cell_type": "code",
   "execution_count": 92,
   "metadata": {},
   "outputs": [
    {
     "data": {
      "text/plain": [
       "['Ana',\n",
       " 'Paula',\n",
       " 'Zacarias',\n",
       " ',',\n",
       " 'President-in-Office',\n",
       " 'of',\n",
       " 'the',\n",
       " 'Council',\n",
       " '.',\n",
       " '–',\n",
       " 'Madam',\n",
       " 'President',\n",
       " ',',\n",
       " 'recent',\n",
       " 'weeks',\n",
       " 'have',\n",
       " 'shown',\n",
       " 'that',\n",
       " 'even',\n",
       " 'the',\n",
       " 'most',\n",
       " 'robust',\n",
       " 'democratic',\n",
       " 'structures',\n",
       " 'are',\n",
       " 'not',\n",
       " 'safe',\n",
       " 'from',\n",
       " 'damage',\n",
       " '.',\n",
       " 'What',\n",
       " 'happened',\n",
       " 'on',\n",
       " 'the',\n",
       " 'other',\n",
       " 'side',\n",
       " 'of',\n",
       " 'the',\n",
       " 'Atlantic',\n",
       " 'must',\n",
       " 'inform',\n",
       " 'our',\n",
       " 'debate',\n",
       " 'in',\n",
       " 'Europe',\n",
       " ',',\n",
       " 'as',\n",
       " 'our',\n",
       " 'democratic',\n",
       " 'societies',\n",
       " 'are',\n",
       " 'not',\n",
       " 'immune',\n",
       " 'to',\n",
       " 'the',\n",
       " 'harmful',\n",
       " 'influence',\n",
       " 'of',\n",
       " 'hate',\n",
       " 'speech',\n",
       " ',',\n",
       " 'disinformation',\n",
       " ',',\n",
       " 'fake',\n",
       " 'news',\n",
       " 'and',\n",
       " 'incitement',\n",
       " 'to',\n",
       " 'violence',\n",
       " '.',\n",
       " 'These',\n",
       " 'events',\n",
       " 'have',\n",
       " 'also',\n",
       " 'shed',\n",
       " 'light',\n",
       " 'on',\n",
       " 'the',\n",
       " 'increased',\n",
       " 'importance',\n",
       " 'of',\n",
       " 'online',\n",
       " 'platforms',\n",
       " 'and',\n",
       " 'social',\n",
       " 'media',\n",
       " 'companies',\n",
       " 'in',\n",
       " 'shaping',\n",
       " 'public',\n",
       " 'debate',\n",
       " '.',\n",
       " 'They',\n",
       " 'have',\n",
       " 'highlighted',\n",
       " 'the',\n",
       " 'growing',\n",
       " 'interconnection',\n",
       " 'that',\n",
       " 'exists',\n",
       " 'between',\n",
       " 'digital',\n",
       " 'transformation',\n",
       " 'and',\n",
       " 'democracy',\n",
       " ',',\n",
       " 'which',\n",
       " 'is',\n",
       " 'one',\n",
       " 'of',\n",
       " 'the',\n",
       " 'priorities',\n",
       " 'of',\n",
       " 'the',\n",
       " 'Portuguese',\n",
       " 'Presidency',\n",
       " '.',\n",
       " 'It',\n",
       " 'is',\n",
       " 'unquestionable',\n",
       " 'that',\n",
       " 'social',\n",
       " 'media',\n",
       " 'companies',\n",
       " 'have',\n",
       " 'the',\n",
       " 'status',\n",
       " 'of',\n",
       " 'public',\n",
       " 'squares',\n",
       " ',',\n",
       " 'which',\n",
       " 'means',\n",
       " 'they',\n",
       " 'should',\n",
       " 'have',\n",
       " 'responsibilities',\n",
       " 'when',\n",
       " 'it',\n",
       " 'comes',\n",
       " 'to',\n",
       " 'enhancing',\n",
       " 'citizens',\n",
       " '’',\n",
       " 'participation',\n",
       " 'and',\n",
       " 'ensuring',\n",
       " 'freedom',\n",
       " 'of',\n",
       " 'expression',\n",
       " '.',\n",
       " 'Nevertheless',\n",
       " ',',\n",
       " 'freedom',\n",
       " 'of',\n",
       " 'expression',\n",
       " 'is',\n",
       " 'not',\n",
       " 'absolute',\n",
       " '.',\n",
       " 'It',\n",
       " 'should',\n",
       " 'be',\n",
       " 'balanced',\n",
       " 'with',\n",
       " 'the',\n",
       " 'goal',\n",
       " 'of',\n",
       " 'combating',\n",
       " 'illegal',\n",
       " 'hate',\n",
       " 'speech',\n",
       " ',',\n",
       " 'incitement',\n",
       " 'to',\n",
       " 'violence',\n",
       " 'and',\n",
       " 'radicalisation',\n",
       " ',',\n",
       " 'both',\n",
       " 'online',\n",
       " 'and',\n",
       " 'offline',\n",
       " '.',\n",
       " 'What',\n",
       " 'is',\n",
       " 'illegal',\n",
       " '?',\n",
       " 'What',\n",
       " 'is',\n",
       " 'illegal',\n",
       " 'offline',\n",
       " 'must',\n",
       " 'be',\n",
       " 'illegal',\n",
       " 'online',\n",
       " '.',\n",
       " 'Online',\n",
       " 'platforms',\n",
       " 'have',\n",
       " 'repeatedly',\n",
       " 'been',\n",
       " 'criticised',\n",
       " 'for',\n",
       " 'the',\n",
       " 'lack',\n",
       " 'of',\n",
       " 'transparency',\n",
       " 'in',\n",
       " 'the',\n",
       " 'use',\n",
       " 'of',\n",
       " 'algorithms',\n",
       " ',',\n",
       " 'on',\n",
       " 'content',\n",
       " 'moderation',\n",
       " 'and',\n",
       " 'for',\n",
       " 'targeting',\n",
       " 'users',\n",
       " 'on',\n",
       " 'the',\n",
       " 'basis',\n",
       " 'of',\n",
       " 'a',\n",
       " 'vast',\n",
       " 'amount',\n",
       " 'of',\n",
       " 'personal',\n",
       " 'data',\n",
       " 'generated',\n",
       " 'from',\n",
       " 'online',\n",
       " 'activity',\n",
       " '.',\n",
       " 'The',\n",
       " 'digital',\n",
       " 'space',\n",
       " 'has',\n",
       " 'also',\n",
       " 'become',\n",
       " 'a',\n",
       " 'breeding',\n",
       " 'ground',\n",
       " 'for',\n",
       " 'conspiracies',\n",
       " 'and',\n",
       " 'fake',\n",
       " 'news',\n",
       " '.',\n",
       " 'Disinformation',\n",
       " 'spreads',\n",
       " 'faster',\n",
       " 'than',\n",
       " 'any',\n",
       " 'virus',\n",
       " '.',\n",
       " 'Education',\n",
       " ',',\n",
       " 'media',\n",
       " 'and',\n",
       " 'digital',\n",
       " 'literacy',\n",
       " 'are',\n",
       " 'the',\n",
       " 'best',\n",
       " 'vaccines',\n",
       " 'against',\n",
       " 'that',\n",
       " '.',\n",
       " 'We',\n",
       " 'expect',\n",
       " 'online',\n",
       " 'platforms',\n",
       " 'to',\n",
       " 'play',\n",
       " 'their',\n",
       " 'part',\n",
       " 'in',\n",
       " 'this',\n",
       " 'common',\n",
       " 'fight',\n",
       " ',',\n",
       " 'but',\n",
       " 'it',\n",
       " 'is',\n",
       " 'up',\n",
       " 'to',\n",
       " 'the',\n",
       " 'democratic',\n",
       " 'institutions',\n",
       " '–',\n",
       " 'our',\n",
       " 'laws',\n",
       " ',',\n",
       " 'our',\n",
       " 'courts',\n",
       " '–',\n",
       " 'to',\n",
       " 'set',\n",
       " 'the',\n",
       " 'rules',\n",
       " 'of',\n",
       " 'the',\n",
       " 'game',\n",
       " ',',\n",
       " 'to',\n",
       " 'define',\n",
       " 'what',\n",
       " 'is',\n",
       " 'illegal',\n",
       " 'and',\n",
       " 'what',\n",
       " 'is',\n",
       " 'not',\n",
       " ',',\n",
       " 'what',\n",
       " 'must',\n",
       " 'be',\n",
       " 'removed',\n",
       " 'and',\n",
       " 'what',\n",
       " 'should',\n",
       " 'not',\n",
       " 'be',\n",
       " '.',\n",
       " 'Without',\n",
       " 'democratic',\n",
       " 'scrutiny',\n",
       " 'and',\n",
       " 'a',\n",
       " 'level',\n",
       " 'playing',\n",
       " 'field',\n",
       " ',',\n",
       " 'there',\n",
       " 'is',\n",
       " 'a',\n",
       " 'risk',\n",
       " 'to',\n",
       " 'users',\n",
       " '’',\n",
       " 'rights',\n",
       " ',',\n",
       " 'information',\n",
       " 'flows',\n",
       " 'and',\n",
       " 'public',\n",
       " 'participation',\n",
       " '.',\n",
       " 'The',\n",
       " 'protection',\n",
       " 'of',\n",
       " 'fundamental',\n",
       " 'rights',\n",
       " 'requires',\n",
       " 'transparent',\n",
       " 'and',\n",
       " 'consistent',\n",
       " 'rules',\n",
       " 'for',\n",
       " 'all',\n",
       " 'of',\n",
       " 'us',\n",
       " ',',\n",
       " 'including',\n",
       " 'social',\n",
       " 'media',\n",
       " 'outlets',\n",
       " '.',\n",
       " 'The',\n",
       " 'recently',\n",
       " 'proposed',\n",
       " 'European',\n",
       " 'Democracy',\n",
       " 'Action',\n",
       " 'Plan',\n",
       " ',',\n",
       " 'the',\n",
       " 'Digital',\n",
       " 'Services',\n",
       " 'Act',\n",
       " 'and',\n",
       " 'the',\n",
       " 'Digital',\n",
       " 'Markets',\n",
       " 'Act',\n",
       " 'are',\n",
       " 'important',\n",
       " 'steps',\n",
       " 'forward',\n",
       " 'and',\n",
       " 'will',\n",
       " 'make',\n",
       " 'the',\n",
       " 'digital',\n",
       " 'environment',\n",
       " 'more',\n",
       " 'transparent',\n",
       " 'and',\n",
       " 'actors',\n",
       " 'like',\n",
       " 'social',\n",
       " 'media',\n",
       " 'companies',\n",
       " 'more',\n",
       " 'accountable',\n",
       " '.',\n",
       " 'The',\n",
       " 'Council',\n",
       " 'has',\n",
       " 'already',\n",
       " 'started',\n",
       " 'the',\n",
       " 'discussions',\n",
       " 'on',\n",
       " 'these',\n",
       " 'important',\n",
       " 'instruments',\n",
       " '.',\n",
       " 'These',\n",
       " 'initiatives',\n",
       " 'must',\n",
       " 'also',\n",
       " 'be',\n",
       " 'considered',\n",
       " 'in',\n",
       " 'conjunction',\n",
       " 'with',\n",
       " 'the',\n",
       " 'upcoming',\n",
       " 'Media',\n",
       " 'and',\n",
       " 'Audiovisual',\n",
       " 'Action',\n",
       " 'Plan',\n",
       " ',',\n",
       " 'which',\n",
       " 'will',\n",
       " 'be',\n",
       " 'the',\n",
       " 'subject',\n",
       " 'of',\n",
       " 'the',\n",
       " 'Council',\n",
       " 'conclusions',\n",
       " 'that',\n",
       " 'we',\n",
       " 'intend',\n",
       " 'to',\n",
       " 'adopt',\n",
       " 'during',\n",
       " 'our',\n",
       " 'Presidency',\n",
       " '.',\n",
       " 'In',\n",
       " 'addition',\n",
       " ',',\n",
       " 'we',\n",
       " 'are',\n",
       " 'expecting',\n",
       " ',',\n",
       " 'for',\n",
       " 'the',\n",
       " 'third',\n",
       " 'quarter',\n",
       " 'of',\n",
       " 'the',\n",
       " 'year',\n",
       " ',',\n",
       " 'a',\n",
       " 'Commission',\n",
       " 'legislative',\n",
       " 'proposal',\n",
       " 'to',\n",
       " 'ensure',\n",
       " 'greater',\n",
       " 'transparency',\n",
       " 'in',\n",
       " 'the',\n",
       " 'area',\n",
       " 'of',\n",
       " 'sponsored',\n",
       " 'content',\n",
       " 'in',\n",
       " 'a',\n",
       " 'public',\n",
       " 'context',\n",
       " ',',\n",
       " 'complementing',\n",
       " 'the',\n",
       " 'Digital',\n",
       " 'Services',\n",
       " 'Act',\n",
       " '.',\n",
       " 'The',\n",
       " 'Council',\n",
       " 'is',\n",
       " 'ready',\n",
       " 'to',\n",
       " 'cooperate',\n",
       " 'with',\n",
       " 'this',\n",
       " 'Parliament',\n",
       " 'to',\n",
       " 'ensure',\n",
       " 'adoption',\n",
       " 'sufficiently',\n",
       " 'ahead',\n",
       " 'of',\n",
       " 'the',\n",
       " '2024',\n",
       " 'European',\n",
       " 'elections',\n",
       " '.',\n",
       " 'Moreover',\n",
       " ',',\n",
       " 'the',\n",
       " 'Presidency',\n",
       " 'will',\n",
       " 'host',\n",
       " 'the',\n",
       " 'Digital',\n",
       " 'Assembly',\n",
       " 'in',\n",
       " 'Lisbon',\n",
       " 'in',\n",
       " 'June',\n",
       " ',',\n",
       " 'where',\n",
       " 'the',\n",
       " 'concepts',\n",
       " 'of',\n",
       " 'digital',\n",
       " 'democracy',\n",
       " 'and',\n",
       " 'digital',\n",
       " 'rights',\n",
       " 'will',\n",
       " 'be',\n",
       " 'discussed',\n",
       " '.',\n",
       " 'The',\n",
       " 'Presidency',\n",
       " 'intends',\n",
       " 'to',\n",
       " 'consolidate',\n",
       " 'the',\n",
       " 'idea',\n",
       " 'that',\n",
       " 'Europe',\n",
       " 'is',\n",
       " 'a',\n",
       " 'reference',\n",
       " 'in',\n",
       " 'the',\n",
       " 'digital',\n",
       " 'era',\n",
       " 'and',\n",
       " 'that',\n",
       " 'our',\n",
       " 'values',\n",
       " 'and',\n",
       " 'way',\n",
       " 'of',\n",
       " 'doing',\n",
       " 'business',\n",
       " 'are',\n",
       " 'a',\n",
       " 'competitive',\n",
       " 'advantage',\n",
       " '.',\n",
       " 'We',\n",
       " 'want',\n",
       " 'to',\n",
       " 'place',\n",
       " 'this',\n",
       " 'idea',\n",
       " 'at',\n",
       " 'the',\n",
       " 'heart',\n",
       " 'of',\n",
       " 'the',\n",
       " 'European',\n",
       " 'Digital',\n",
       " 'Strategy',\n",
       " 'for',\n",
       " 'the',\n",
       " 'next',\n",
       " 'digital',\n",
       " 'decade',\n",
       " '.',\n",
       " 'The',\n",
       " 'Presidency',\n",
       " 'will',\n",
       " 'also',\n",
       " 'hold',\n",
       " 'a',\n",
       " 'high—level',\n",
       " 'conference',\n",
       " 'on',\n",
       " 'the',\n",
       " 'future',\n",
       " 'of',\n",
       " 'journalism',\n",
       " 'and',\n",
       " 'its',\n",
       " 'interconnection',\n",
       " 'with',\n",
       " 'artificial',\n",
       " 'intelligence',\n",
       " ',',\n",
       " 'with',\n",
       " 'a',\n",
       " 'special',\n",
       " 'focus',\n",
       " 'on',\n",
       " 'the',\n",
       " 'robotisation',\n",
       " 'of',\n",
       " 'news',\n",
       " 'production',\n",
       " '.',\n",
       " 'The',\n",
       " 'current',\n",
       " 'times',\n",
       " 'have',\n",
       " 'brought',\n",
       " 'into',\n",
       " 'sharp',\n",
       " 'relief',\n",
       " 'the',\n",
       " 'unavoidable',\n",
       " 'reality',\n",
       " 'that',\n",
       " 'what',\n",
       " 'is',\n",
       " 'happening',\n",
       " 'online',\n",
       " 'shapes',\n",
       " 'our',\n",
       " 'lives',\n",
       " ',',\n",
       " 'beliefs',\n",
       " 'and',\n",
       " 'choices',\n",
       " '.',\n",
       " 'It',\n",
       " 'deeply',\n",
       " 'influences',\n",
       " 'what',\n",
       " 'we',\n",
       " 'buy',\n",
       " 'or',\n",
       " 'who',\n",
       " 'we',\n",
       " 'vote',\n",
       " 'for',\n",
       " ',',\n",
       " 'who',\n",
       " 'we',\n",
       " 'listen',\n",
       " 'to',\n",
       " ',',\n",
       " 'and',\n",
       " 'even',\n",
       " 'our',\n",
       " 'opinion',\n",
       " 'on',\n",
       " 'vaccines',\n",
       " '.',\n",
       " 'In',\n",
       " 'its',\n",
       " 'recent',\n",
       " 'conclusions',\n",
       " ',',\n",
       " 'the',\n",
       " 'Council',\n",
       " 'stressed',\n",
       " 'the',\n",
       " 'need',\n",
       " 'to',\n",
       " 'foster',\n",
       " 'a',\n",
       " 'well—functioning',\n",
       " 'digital',\n",
       " 'public',\n",
       " 'sphere',\n",
       " ',',\n",
       " 'greater',\n",
       " 'accountability',\n",
       " 'and',\n",
       " 'improved',\n",
       " 'transparency',\n",
       " 'in',\n",
       " 'addressing',\n",
       " 'disinformation',\n",
       " '.',\n",
       " 'Countering',\n",
       " 'this',\n",
       " 'scourge',\n",
       " 'is',\n",
       " 'crucial',\n",
       " 'to',\n",
       " 'preserve',\n",
       " 'open',\n",
       " 'political',\n",
       " 'debate',\n",
       " 'and',\n",
       " 'the',\n",
       " 'effective',\n",
       " 'participation',\n",
       " 'of',\n",
       " 'citizens',\n",
       " '.',\n",
       " 'We',\n",
       " 'need',\n",
       " 'to',\n",
       " 'prevent',\n",
       " 'social',\n",
       " 'media',\n",
       " 'functioning',\n",
       " 'as',\n",
       " 'an',\n",
       " 'echo',\n",
       " 'chamber',\n",
       " 'which',\n",
       " 'suppresses',\n",
       " 'different',\n",
       " 'points',\n",
       " 'of',\n",
       " 'view',\n",
       " ',',\n",
       " 'and',\n",
       " 'we',\n",
       " 'need',\n",
       " 'to',\n",
       " 'make',\n",
       " 'sure',\n",
       " 'our',\n",
       " 'citizens',\n",
       " 'are',\n",
       " 'equipped',\n",
       " 'to',\n",
       " 'manage',\n",
       " 'the',\n",
       " 'flood',\n",
       " 'of',\n",
       " 'information',\n",
       " 'they',\n",
       " 'are',\n",
       " 'exposed',\n",
       " 'to',\n",
       " 'every',\n",
       " 'day',\n",
       " '.',\n",
       " 'In',\n",
       " 'times',\n",
       " 'such',\n",
       " 'as',\n",
       " 'this',\n",
       " ',',\n",
       " 'believing',\n",
       " 'in',\n",
       " 'unreliable',\n",
       " 'information',\n",
       " 'may',\n",
       " 'be',\n",
       " 'lethal',\n",
       " '.',\n",
       " 'We',\n",
       " 'welcome',\n",
       " ',',\n",
       " 'therefore',\n",
       " ',',\n",
       " 'the',\n",
       " 'work',\n",
       " 'on',\n",
       " 'the',\n",
       " 'Rapid',\n",
       " 'Alert',\n",
       " 'System',\n",
       " 'and',\n",
       " 'other',\n",
       " 'monitoring',\n",
       " 'instruments',\n",
       " '.',\n",
       " 'We',\n",
       " 'encourage',\n",
       " 'support',\n",
       " 'for',\n",
       " 'media',\n",
       " 'and',\n",
       " 'digital',\n",
       " 'literacy',\n",
       " ',',\n",
       " 'media',\n",
       " 'pluralism',\n",
       " ',',\n",
       " 'media',\n",
       " 'independence',\n",
       " 'and',\n",
       " 'fact',\n",
       " 'checking',\n",
       " '.',\n",
       " 'Let',\n",
       " 'me',\n",
       " 'reassure',\n",
       " 'you',\n",
       " 'that',\n",
       " 'the',\n",
       " 'Presidency',\n",
       " 'is',\n",
       " 'committed',\n",
       " 'to',\n",
       " 'working',\n",
       " 'with',\n",
       " 'the',\n",
       " 'European',\n",
       " 'Parliament',\n",
       " ',',\n",
       " 'the',\n",
       " 'Commission',\n",
       " 'and',\n",
       " 'the',\n",
       " 'European',\n",
       " 'External',\n",
       " 'Action',\n",
       " 'Service',\n",
       " 'on',\n",
       " 'these',\n",
       " 'crucial',\n",
       " 'issues',\n",
       " 'in',\n",
       " 'order',\n",
       " 'to',\n",
       " 'promote',\n",
       " 'and',\n",
       " 'protect',\n",
       " 'our',\n",
       " 'fundamental',\n",
       " 'rights',\n",
       " 'and',\n",
       " 'our',\n",
       " 'democracy',\n",
       " '.']"
      ]
     },
     "execution_count": 92,
     "metadata": {},
     "output_type": "execute_result"
    }
   ],
   "source": [
    "tokens1_1 = word_tokenize(raw1_1)\n",
    "tokens1_1"
   ]
  },
  {
   "cell_type": "code",
   "execution_count": 93,
   "metadata": {},
   "outputs": [
    {
     "name": "stdout",
     "output_type": "stream",
     "text": [
      "Ana Paula Zacarias , President-in-Office of the Council . – Madam President , recent weeks have shown that even the most robust democratic structures are not safe from damage . What happened on the other side of the Atlantic must inform our debate in Europe , as our democratic societies are not immune to the harmful influence of hate speech , disinformation , fake news and incitement to violence . These events have also shed light on the increased importance of online platforms and social media companies in shaping public debate . They have highlighted the growing interconnection that exists between digital transformation and democracy , which is one of the priorities of the Portuguese Presidency . It is unquestionable that social media companies have the status of public squares , which means they should have responsibilities when it comes to enhancing citizens ’ participation and ensuring freedom of expression . Nevertheless , freedom of expression is not absolute . It should be balanced with the goal of combating illegal hate speech , incitement to violence and radicalisation , both online and offline . What is illegal ? What is illegal offline must be illegal online . Online platforms have repeatedly been criticised for the lack of transparency in the use of algorithms , on content moderation and for targeting users on the basis of a vast amount of personal data generated from online activity . The digital space has also become a breeding ground for conspiracies and fake news . Disinformation spreads faster than any virus . Education , media and digital literacy are the best vaccines against that . We expect online platforms to play their part in this common fight , but it is up to the democratic institutions – our laws , our courts – to set the rules of the game , to define what is illegal and what is not , what must be removed and what should not be . Without democratic scrutiny and a level playing field , there is a risk to users ’ rights , information flows and public participation . The protection of fundamental rights requires transparent and consistent rules for all of us , including social media outlets . The recently proposed European Democracy Action Plan , the Digital Services Act and the Digital Markets Act are important steps forward and will make the digital environment more transparent and actors like social media companies more accountable . The Council has already started the discussions on these important instruments . These initiatives must also be considered in conjunction with the upcoming Media and Audiovisual Action Plan , which will be the subject of the Council conclusions that we intend to adopt during our Presidency . In addition , we are expecting , for the third quarter of the year , a Commission legislative proposal to ensure greater transparency in the area of sponsored content in a public context , complementing the Digital Services Act . The Council is ready to cooperate with this Parliament to ensure adoption sufficiently ahead of the 2024 European elections . Moreover , the Presidency will host the Digital Assembly in Lisbon in June , where the concepts of digital democracy and digital rights will be discussed . The Presidency intends to consolidate the idea that Europe is a reference in the digital era and that our values and way of doing business are a competitive advantage . We want to place this idea at the heart of the European Digital Strategy for the next digital decade . The Presidency will also hold a high—level conference on the future of journalism and its interconnection with artificial intelligence , with a special focus on the robotisation of news production . The current times have brought into sharp relief the unavoidable reality that what is happening online shapes our lives , beliefs and choices . It deeply influences what we buy or who we vote for , who we listen to , and even our opinion on vaccines . In its recent conclusions , the Council stressed the need to foster a well—functioning digital public sphere , greater accountability and improved transparency in addressing disinformation . Countering this scourge is crucial to preserve open political debate and the effective participation of citizens . We need to prevent social media functioning as an echo chamber which suppresses different points of view , and we need to make sure our citizens are equipped to manage the flood of information they are exposed to every day . In times such as this , believing in unreliable information may be lethal . We welcome , therefore , the work on the Rapid Alert System and other monitoring instruments . We encourage support for media and digital literacy , media pluralism , media independence and fact checking . Let me reassure you that the Presidency is committed to working with the European Parliament , the Commission and the European External Action Service on these crucial issues in order to promote and protect our fundamental rights and our democracy . "
     ]
    }
   ],
   "source": [
    "for word in tokens1_1:\n",
    "    print(word, end=' ')"
   ]
  },
  {
   "cell_type": "code",
   "execution_count": 94,
   "metadata": {},
   "outputs": [],
   "source": [
    "raw1_2 = 'Věra Jourová, Vice-President of the Commission. – Madam President, honourable Members, thank you for organising this debate. I know we don’t have much time, so I will try to be brief rather than exhaustive in my introductory remarks. Social media has transformed the way we communicate with each other, debate on political issues or do campaigning. There are a lot of new opportunities, but also a lot of problems. With the recent attack on the Capitol, we’ve got a tangible yet tragic proof that many people have simply lost trust in democratic institutions. Going online only exacerbated many of the existing problems and cleavages in our societies. The US events are the moment of reckoning, also because they reminded us of the power Twitter, Facebook and other technological corporations possess. The fact that they can permanently remove an account of a sitting president based on vague criteria and unclear oversight is really worrying. Even though, I believe President Trump’s irresponsible incitement to violence deserved action, it is high time to reign in the unchecked power of the digital corporations. Whatever we do, we must uphold the principle of freedom of speech. I do not want to create the ministry of or arbiter of truth. This is the main principle. So what can we do? First, we need tougher regulation, more enforceable obligations and to increase the responsibility of digital players. We have recently proposed the Digital Services Act, that will increase accountability of online platforms and clarify the rules for taking down illegal content, including hate speech and incitement to violence. This is a ground-breaking proposal, and will also give us the tools for stronger monitoring and enforcement of the obligations of online platforms. We need these rules urgently and we are ready to work together with you and the Member States to quickly adopt this law. What can we do already now, while waiting for the Digital Services Act to become law? We can equip ourselves already now with better tools to fight disinformation and harmful content. The European Democracy Action Plan is our map of what we should do next in this respect. We can already now strike a new pact against disinformation with better accountability of algorithms and no arbitrary decisions by big online platforms. We can and should have more transparency of their policies and access to relevant data. In the Digital Services Act we moved away from assessing harmful content and focused on the manipulative techniques of online distribution. We need to go more in detail on this – paid promotion and paid likes, reactions from fake accounts, bots can be particularly dangerous for democracy, notably during elections. This is why I will propose new regulation on online political advertising. And freedom of speech is not the same as freedom of reach. Regulation alone will not, and in my view should not, address all the details of digital life. When I talked to Mark Zuckerberg and other CEOs of the Big Tech, we discussed solutions that go beyond regulation because we must not sacrifice freedom of expression, which requires open space, be it online or offline. They cannot judge and evaluate every piece of content posted on them. This is why we need to reshape the thinking of tech companies and tech workers. Architects follow not only law but also ethical codes to ensure that the buildings they design are safe for people. Coders and IT experts should have a similar approach when designing their algorithms, something I rarely hear from the tech executives. And third, we cannot focus on social media platforms alone. We need to make our education fit for digital reality. We all have to become more digitally literate, understand the basics of what is happening online and why we are seeing certain content. This will allow us to navigate safely online. As a person coming, as many of you do, from an ex—totalitarian country, in my case communist Czechoslovakia, I have tasted life without democracy and freedom of speech. I believe we need to bring order to the digital expression of democracy and to end the digital Wild West. What is illegal offline must be illegal online, but we also have to work on restoring trust among citizens. Facts belong to everyone. Opinions belong to an individual. And this distinction has been damaged and can only be repaired if there is trust in science, in authorities and society. We all have a very important role to play in this as well.'"
   ]
  },
  {
   "cell_type": "code",
   "execution_count": 95,
   "metadata": {},
   "outputs": [
    {
     "data": {
      "text/plain": [
       "['Věra',\n",
       " 'Jourová',\n",
       " ',',\n",
       " 'Vice-President',\n",
       " 'of',\n",
       " 'the',\n",
       " 'Commission',\n",
       " '.',\n",
       " '–',\n",
       " 'Madam',\n",
       " 'President',\n",
       " ',',\n",
       " 'honourable',\n",
       " 'Members',\n",
       " ',',\n",
       " 'thank',\n",
       " 'you',\n",
       " 'for',\n",
       " 'organising',\n",
       " 'this',\n",
       " 'debate',\n",
       " '.',\n",
       " 'I',\n",
       " 'know',\n",
       " 'we',\n",
       " 'don',\n",
       " '’',\n",
       " 't',\n",
       " 'have',\n",
       " 'much',\n",
       " 'time',\n",
       " ',',\n",
       " 'so',\n",
       " 'I',\n",
       " 'will',\n",
       " 'try',\n",
       " 'to',\n",
       " 'be',\n",
       " 'brief',\n",
       " 'rather',\n",
       " 'than',\n",
       " 'exhaustive',\n",
       " 'in',\n",
       " 'my',\n",
       " 'introductory',\n",
       " 'remarks',\n",
       " '.',\n",
       " 'Social',\n",
       " 'media',\n",
       " 'has',\n",
       " 'transformed',\n",
       " 'the',\n",
       " 'way',\n",
       " 'we',\n",
       " 'communicate',\n",
       " 'with',\n",
       " 'each',\n",
       " 'other',\n",
       " ',',\n",
       " 'debate',\n",
       " 'on',\n",
       " 'political',\n",
       " 'issues',\n",
       " 'or',\n",
       " 'do',\n",
       " 'campaigning',\n",
       " '.',\n",
       " 'There',\n",
       " 'are',\n",
       " 'a',\n",
       " 'lot',\n",
       " 'of',\n",
       " 'new',\n",
       " 'opportunities',\n",
       " ',',\n",
       " 'but',\n",
       " 'also',\n",
       " 'a',\n",
       " 'lot',\n",
       " 'of',\n",
       " 'problems',\n",
       " '.',\n",
       " 'With',\n",
       " 'the',\n",
       " 'recent',\n",
       " 'attack',\n",
       " 'on',\n",
       " 'the',\n",
       " 'Capitol',\n",
       " ',',\n",
       " 'we',\n",
       " '’',\n",
       " 've',\n",
       " 'got',\n",
       " 'a',\n",
       " 'tangible',\n",
       " 'yet',\n",
       " 'tragic',\n",
       " 'proof',\n",
       " 'that',\n",
       " 'many',\n",
       " 'people',\n",
       " 'have',\n",
       " 'simply',\n",
       " 'lost',\n",
       " 'trust',\n",
       " 'in',\n",
       " 'democratic',\n",
       " 'institutions',\n",
       " '.',\n",
       " 'Going',\n",
       " 'online',\n",
       " 'only',\n",
       " 'exacerbated',\n",
       " 'many',\n",
       " 'of',\n",
       " 'the',\n",
       " 'existing',\n",
       " 'problems',\n",
       " 'and',\n",
       " 'cleavages',\n",
       " 'in',\n",
       " 'our',\n",
       " 'societies',\n",
       " '.',\n",
       " 'The',\n",
       " 'US',\n",
       " 'events',\n",
       " 'are',\n",
       " 'the',\n",
       " 'moment',\n",
       " 'of',\n",
       " 'reckoning',\n",
       " ',',\n",
       " 'also',\n",
       " 'because',\n",
       " 'they',\n",
       " 'reminded',\n",
       " 'us',\n",
       " 'of',\n",
       " 'the',\n",
       " 'power',\n",
       " 'Twitter',\n",
       " ',',\n",
       " 'Facebook',\n",
       " 'and',\n",
       " 'other',\n",
       " 'technological',\n",
       " 'corporations',\n",
       " 'possess',\n",
       " '.',\n",
       " 'The',\n",
       " 'fact',\n",
       " 'that',\n",
       " 'they',\n",
       " 'can',\n",
       " 'permanently',\n",
       " 'remove',\n",
       " 'an',\n",
       " 'account',\n",
       " 'of',\n",
       " 'a',\n",
       " 'sitting',\n",
       " 'president',\n",
       " 'based',\n",
       " 'on',\n",
       " 'vague',\n",
       " 'criteria',\n",
       " 'and',\n",
       " 'unclear',\n",
       " 'oversight',\n",
       " 'is',\n",
       " 'really',\n",
       " 'worrying',\n",
       " '.',\n",
       " 'Even',\n",
       " 'though',\n",
       " ',',\n",
       " 'I',\n",
       " 'believe',\n",
       " 'President',\n",
       " 'Trump',\n",
       " '’',\n",
       " 's',\n",
       " 'irresponsible',\n",
       " 'incitement',\n",
       " 'to',\n",
       " 'violence',\n",
       " 'deserved',\n",
       " 'action',\n",
       " ',',\n",
       " 'it',\n",
       " 'is',\n",
       " 'high',\n",
       " 'time',\n",
       " 'to',\n",
       " 'reign',\n",
       " 'in',\n",
       " 'the',\n",
       " 'unchecked',\n",
       " 'power',\n",
       " 'of',\n",
       " 'the',\n",
       " 'digital',\n",
       " 'corporations',\n",
       " '.',\n",
       " 'Whatever',\n",
       " 'we',\n",
       " 'do',\n",
       " ',',\n",
       " 'we',\n",
       " 'must',\n",
       " 'uphold',\n",
       " 'the',\n",
       " 'principle',\n",
       " 'of',\n",
       " 'freedom',\n",
       " 'of',\n",
       " 'speech',\n",
       " '.',\n",
       " 'I',\n",
       " 'do',\n",
       " 'not',\n",
       " 'want',\n",
       " 'to',\n",
       " 'create',\n",
       " 'the',\n",
       " 'ministry',\n",
       " 'of',\n",
       " 'or',\n",
       " 'arbiter',\n",
       " 'of',\n",
       " 'truth',\n",
       " '.',\n",
       " 'This',\n",
       " 'is',\n",
       " 'the',\n",
       " 'main',\n",
       " 'principle',\n",
       " '.',\n",
       " 'So',\n",
       " 'what',\n",
       " 'can',\n",
       " 'we',\n",
       " 'do',\n",
       " '?',\n",
       " 'First',\n",
       " ',',\n",
       " 'we',\n",
       " 'need',\n",
       " 'tougher',\n",
       " 'regulation',\n",
       " ',',\n",
       " 'more',\n",
       " 'enforceable',\n",
       " 'obligations',\n",
       " 'and',\n",
       " 'to',\n",
       " 'increase',\n",
       " 'the',\n",
       " 'responsibility',\n",
       " 'of',\n",
       " 'digital',\n",
       " 'players',\n",
       " '.',\n",
       " 'We',\n",
       " 'have',\n",
       " 'recently',\n",
       " 'proposed',\n",
       " 'the',\n",
       " 'Digital',\n",
       " 'Services',\n",
       " 'Act',\n",
       " ',',\n",
       " 'that',\n",
       " 'will',\n",
       " 'increase',\n",
       " 'accountability',\n",
       " 'of',\n",
       " 'online',\n",
       " 'platforms',\n",
       " 'and',\n",
       " 'clarify',\n",
       " 'the',\n",
       " 'rules',\n",
       " 'for',\n",
       " 'taking',\n",
       " 'down',\n",
       " 'illegal',\n",
       " 'content',\n",
       " ',',\n",
       " 'including',\n",
       " 'hate',\n",
       " 'speech',\n",
       " 'and',\n",
       " 'incitement',\n",
       " 'to',\n",
       " 'violence',\n",
       " '.',\n",
       " 'This',\n",
       " 'is',\n",
       " 'a',\n",
       " 'ground-breaking',\n",
       " 'proposal',\n",
       " ',',\n",
       " 'and',\n",
       " 'will',\n",
       " 'also',\n",
       " 'give',\n",
       " 'us',\n",
       " 'the',\n",
       " 'tools',\n",
       " 'for',\n",
       " 'stronger',\n",
       " 'monitoring',\n",
       " 'and',\n",
       " 'enforcement',\n",
       " 'of',\n",
       " 'the',\n",
       " 'obligations',\n",
       " 'of',\n",
       " 'online',\n",
       " 'platforms',\n",
       " '.',\n",
       " 'We',\n",
       " 'need',\n",
       " 'these',\n",
       " 'rules',\n",
       " 'urgently',\n",
       " 'and',\n",
       " 'we',\n",
       " 'are',\n",
       " 'ready',\n",
       " 'to',\n",
       " 'work',\n",
       " 'together',\n",
       " 'with',\n",
       " 'you',\n",
       " 'and',\n",
       " 'the',\n",
       " 'Member',\n",
       " 'States',\n",
       " 'to',\n",
       " 'quickly',\n",
       " 'adopt',\n",
       " 'this',\n",
       " 'law',\n",
       " '.',\n",
       " 'What',\n",
       " 'can',\n",
       " 'we',\n",
       " 'do',\n",
       " 'already',\n",
       " 'now',\n",
       " ',',\n",
       " 'while',\n",
       " 'waiting',\n",
       " 'for',\n",
       " 'the',\n",
       " 'Digital',\n",
       " 'Services',\n",
       " 'Act',\n",
       " 'to',\n",
       " 'become',\n",
       " 'law',\n",
       " '?',\n",
       " 'We',\n",
       " 'can',\n",
       " 'equip',\n",
       " 'ourselves',\n",
       " 'already',\n",
       " 'now',\n",
       " 'with',\n",
       " 'better',\n",
       " 'tools',\n",
       " 'to',\n",
       " 'fight',\n",
       " 'disinformation',\n",
       " 'and',\n",
       " 'harmful',\n",
       " 'content',\n",
       " '.',\n",
       " 'The',\n",
       " 'European',\n",
       " 'Democracy',\n",
       " 'Action',\n",
       " 'Plan',\n",
       " 'is',\n",
       " 'our',\n",
       " 'map',\n",
       " 'of',\n",
       " 'what',\n",
       " 'we',\n",
       " 'should',\n",
       " 'do',\n",
       " 'next',\n",
       " 'in',\n",
       " 'this',\n",
       " 'respect',\n",
       " '.',\n",
       " 'We',\n",
       " 'can',\n",
       " 'already',\n",
       " 'now',\n",
       " 'strike',\n",
       " 'a',\n",
       " 'new',\n",
       " 'pact',\n",
       " 'against',\n",
       " 'disinformation',\n",
       " 'with',\n",
       " 'better',\n",
       " 'accountability',\n",
       " 'of',\n",
       " 'algorithms',\n",
       " 'and',\n",
       " 'no',\n",
       " 'arbitrary',\n",
       " 'decisions',\n",
       " 'by',\n",
       " 'big',\n",
       " 'online',\n",
       " 'platforms',\n",
       " '.',\n",
       " 'We',\n",
       " 'can',\n",
       " 'and',\n",
       " 'should',\n",
       " 'have',\n",
       " 'more',\n",
       " 'transparency',\n",
       " 'of',\n",
       " 'their',\n",
       " 'policies',\n",
       " 'and',\n",
       " 'access',\n",
       " 'to',\n",
       " 'relevant',\n",
       " 'data',\n",
       " '.',\n",
       " 'In',\n",
       " 'the',\n",
       " 'Digital',\n",
       " 'Services',\n",
       " 'Act',\n",
       " 'we',\n",
       " 'moved',\n",
       " 'away',\n",
       " 'from',\n",
       " 'assessing',\n",
       " 'harmful',\n",
       " 'content',\n",
       " 'and',\n",
       " 'focused',\n",
       " 'on',\n",
       " 'the',\n",
       " 'manipulative',\n",
       " 'techniques',\n",
       " 'of',\n",
       " 'online',\n",
       " 'distribution',\n",
       " '.',\n",
       " 'We',\n",
       " 'need',\n",
       " 'to',\n",
       " 'go',\n",
       " 'more',\n",
       " 'in',\n",
       " 'detail',\n",
       " 'on',\n",
       " 'this',\n",
       " '–',\n",
       " 'paid',\n",
       " 'promotion',\n",
       " 'and',\n",
       " 'paid',\n",
       " 'likes',\n",
       " ',',\n",
       " 'reactions',\n",
       " 'from',\n",
       " 'fake',\n",
       " 'accounts',\n",
       " ',',\n",
       " 'bots',\n",
       " 'can',\n",
       " 'be',\n",
       " 'particularly',\n",
       " 'dangerous',\n",
       " 'for',\n",
       " 'democracy',\n",
       " ',',\n",
       " 'notably',\n",
       " 'during',\n",
       " 'elections',\n",
       " '.',\n",
       " 'This',\n",
       " 'is',\n",
       " 'why',\n",
       " 'I',\n",
       " 'will',\n",
       " 'propose',\n",
       " 'new',\n",
       " 'regulation',\n",
       " 'on',\n",
       " 'online',\n",
       " 'political',\n",
       " 'advertising',\n",
       " '.',\n",
       " 'And',\n",
       " 'freedom',\n",
       " 'of',\n",
       " 'speech',\n",
       " 'is',\n",
       " 'not',\n",
       " 'the',\n",
       " 'same',\n",
       " 'as',\n",
       " 'freedom',\n",
       " 'of',\n",
       " 'reach',\n",
       " '.',\n",
       " 'Regulation',\n",
       " 'alone',\n",
       " 'will',\n",
       " 'not',\n",
       " ',',\n",
       " 'and',\n",
       " 'in',\n",
       " 'my',\n",
       " 'view',\n",
       " 'should',\n",
       " 'not',\n",
       " ',',\n",
       " 'address',\n",
       " 'all',\n",
       " 'the',\n",
       " 'details',\n",
       " 'of',\n",
       " 'digital',\n",
       " 'life',\n",
       " '.',\n",
       " 'When',\n",
       " 'I',\n",
       " 'talked',\n",
       " 'to',\n",
       " 'Mark',\n",
       " 'Zuckerberg',\n",
       " 'and',\n",
       " 'other',\n",
       " 'CEOs',\n",
       " 'of',\n",
       " 'the',\n",
       " 'Big',\n",
       " 'Tech',\n",
       " ',',\n",
       " 'we',\n",
       " 'discussed',\n",
       " 'solutions',\n",
       " 'that',\n",
       " 'go',\n",
       " 'beyond',\n",
       " 'regulation',\n",
       " 'because',\n",
       " 'we',\n",
       " 'must',\n",
       " 'not',\n",
       " 'sacrifice',\n",
       " 'freedom',\n",
       " 'of',\n",
       " 'expression',\n",
       " ',',\n",
       " 'which',\n",
       " 'requires',\n",
       " 'open',\n",
       " 'space',\n",
       " ',',\n",
       " 'be',\n",
       " 'it',\n",
       " 'online',\n",
       " 'or',\n",
       " 'offline',\n",
       " '.',\n",
       " 'They',\n",
       " 'can',\n",
       " 'not',\n",
       " 'judge',\n",
       " 'and',\n",
       " 'evaluate',\n",
       " 'every',\n",
       " 'piece',\n",
       " 'of',\n",
       " 'content',\n",
       " 'posted',\n",
       " 'on',\n",
       " 'them',\n",
       " '.',\n",
       " 'This',\n",
       " 'is',\n",
       " 'why',\n",
       " 'we',\n",
       " 'need',\n",
       " 'to',\n",
       " 'reshape',\n",
       " 'the',\n",
       " 'thinking',\n",
       " 'of',\n",
       " 'tech',\n",
       " 'companies',\n",
       " 'and',\n",
       " 'tech',\n",
       " 'workers',\n",
       " '.',\n",
       " 'Architects',\n",
       " 'follow',\n",
       " 'not',\n",
       " 'only',\n",
       " 'law',\n",
       " 'but',\n",
       " 'also',\n",
       " 'ethical',\n",
       " 'codes',\n",
       " 'to',\n",
       " 'ensure',\n",
       " 'that',\n",
       " 'the',\n",
       " 'buildings',\n",
       " 'they',\n",
       " 'design',\n",
       " 'are',\n",
       " 'safe',\n",
       " 'for',\n",
       " 'people',\n",
       " '.',\n",
       " 'Coders',\n",
       " 'and',\n",
       " 'IT',\n",
       " 'experts',\n",
       " 'should',\n",
       " 'have',\n",
       " 'a',\n",
       " 'similar',\n",
       " 'approach',\n",
       " 'when',\n",
       " 'designing',\n",
       " 'their',\n",
       " 'algorithms',\n",
       " ',',\n",
       " 'something',\n",
       " 'I',\n",
       " 'rarely',\n",
       " 'hear',\n",
       " 'from',\n",
       " 'the',\n",
       " 'tech',\n",
       " 'executives',\n",
       " '.',\n",
       " 'And',\n",
       " 'third',\n",
       " ',',\n",
       " 'we',\n",
       " 'can',\n",
       " 'not',\n",
       " 'focus',\n",
       " 'on',\n",
       " 'social',\n",
       " 'media',\n",
       " 'platforms',\n",
       " 'alone',\n",
       " '.',\n",
       " 'We',\n",
       " 'need',\n",
       " 'to',\n",
       " 'make',\n",
       " 'our',\n",
       " 'education',\n",
       " 'fit',\n",
       " 'for',\n",
       " 'digital',\n",
       " 'reality',\n",
       " '.',\n",
       " 'We',\n",
       " 'all',\n",
       " 'have',\n",
       " 'to',\n",
       " 'become',\n",
       " 'more',\n",
       " 'digitally',\n",
       " 'literate',\n",
       " ',',\n",
       " 'understand',\n",
       " 'the',\n",
       " 'basics',\n",
       " 'of',\n",
       " 'what',\n",
       " 'is',\n",
       " 'happening',\n",
       " 'online',\n",
       " 'and',\n",
       " 'why',\n",
       " 'we',\n",
       " 'are',\n",
       " 'seeing',\n",
       " 'certain',\n",
       " 'content',\n",
       " '.',\n",
       " 'This',\n",
       " 'will',\n",
       " 'allow',\n",
       " 'us',\n",
       " 'to',\n",
       " 'navigate',\n",
       " 'safely',\n",
       " 'online',\n",
       " '.',\n",
       " 'As',\n",
       " 'a',\n",
       " 'person',\n",
       " 'coming',\n",
       " ',',\n",
       " 'as',\n",
       " 'many',\n",
       " 'of',\n",
       " 'you',\n",
       " 'do',\n",
       " ',',\n",
       " 'from',\n",
       " 'an',\n",
       " 'ex—totalitarian',\n",
       " 'country',\n",
       " ',',\n",
       " 'in',\n",
       " 'my',\n",
       " 'case',\n",
       " 'communist',\n",
       " 'Czechoslovakia',\n",
       " ',',\n",
       " 'I',\n",
       " 'have',\n",
       " 'tasted',\n",
       " 'life',\n",
       " 'without',\n",
       " 'democracy',\n",
       " 'and',\n",
       " 'freedom',\n",
       " 'of',\n",
       " 'speech',\n",
       " '.',\n",
       " 'I',\n",
       " 'believe',\n",
       " 'we',\n",
       " 'need',\n",
       " 'to',\n",
       " 'bring',\n",
       " 'order',\n",
       " 'to',\n",
       " 'the',\n",
       " 'digital',\n",
       " 'expression',\n",
       " 'of',\n",
       " 'democracy',\n",
       " 'and',\n",
       " 'to',\n",
       " 'end',\n",
       " 'the',\n",
       " 'digital',\n",
       " 'Wild',\n",
       " 'West',\n",
       " '.',\n",
       " 'What',\n",
       " 'is',\n",
       " 'illegal',\n",
       " 'offline',\n",
       " 'must',\n",
       " 'be',\n",
       " 'illegal',\n",
       " 'online',\n",
       " ',',\n",
       " 'but',\n",
       " 'we',\n",
       " 'also',\n",
       " 'have',\n",
       " 'to',\n",
       " 'work',\n",
       " 'on',\n",
       " 'restoring',\n",
       " 'trust',\n",
       " 'among',\n",
       " 'citizens',\n",
       " '.',\n",
       " 'Facts',\n",
       " 'belong',\n",
       " 'to',\n",
       " 'everyone',\n",
       " '.',\n",
       " 'Opinions',\n",
       " 'belong',\n",
       " 'to',\n",
       " 'an',\n",
       " 'individual',\n",
       " '.',\n",
       " 'And',\n",
       " 'this',\n",
       " 'distinction',\n",
       " 'has',\n",
       " 'been',\n",
       " 'damaged',\n",
       " 'and',\n",
       " 'can',\n",
       " 'only',\n",
       " 'be',\n",
       " 'repaired',\n",
       " 'if',\n",
       " 'there',\n",
       " 'is',\n",
       " 'trust',\n",
       " 'in',\n",
       " 'science',\n",
       " ',',\n",
       " 'in',\n",
       " 'authorities',\n",
       " 'and',\n",
       " 'society',\n",
       " '.',\n",
       " 'We',\n",
       " 'all',\n",
       " 'have',\n",
       " 'a',\n",
       " 'very',\n",
       " 'important',\n",
       " 'role',\n",
       " 'to',\n",
       " 'play',\n",
       " 'in',\n",
       " 'this',\n",
       " 'as',\n",
       " 'well',\n",
       " '.']"
      ]
     },
     "execution_count": 95,
     "metadata": {},
     "output_type": "execute_result"
    }
   ],
   "source": [
    "tokens1_2 = word_tokenize(raw1_2)\n",
    "tokens1_2"
   ]
  },
  {
   "cell_type": "code",
   "execution_count": 96,
   "metadata": {},
   "outputs": [
    {
     "name": "stdout",
     "output_type": "stream",
     "text": [
      "Věra Jourová , Vice-President of the Commission . – Madam President , honourable Members , thank you for organising this debate . I know we don ’ t have much time , so I will try to be brief rather than exhaustive in my introductory remarks . Social media has transformed the way we communicate with each other , debate on political issues or do campaigning . There are a lot of new opportunities , but also a lot of problems . With the recent attack on the Capitol , we ’ ve got a tangible yet tragic proof that many people have simply lost trust in democratic institutions . Going online only exacerbated many of the existing problems and cleavages in our societies . The US events are the moment of reckoning , also because they reminded us of the power Twitter , Facebook and other technological corporations possess . The fact that they can permanently remove an account of a sitting president based on vague criteria and unclear oversight is really worrying . Even though , I believe President Trump ’ s irresponsible incitement to violence deserved action , it is high time to reign in the unchecked power of the digital corporations . Whatever we do , we must uphold the principle of freedom of speech . I do not want to create the ministry of or arbiter of truth . This is the main principle . So what can we do ? First , we need tougher regulation , more enforceable obligations and to increase the responsibility of digital players . We have recently proposed the Digital Services Act , that will increase accountability of online platforms and clarify the rules for taking down illegal content , including hate speech and incitement to violence . This is a ground-breaking proposal , and will also give us the tools for stronger monitoring and enforcement of the obligations of online platforms . We need these rules urgently and we are ready to work together with you and the Member States to quickly adopt this law . What can we do already now , while waiting for the Digital Services Act to become law ? We can equip ourselves already now with better tools to fight disinformation and harmful content . The European Democracy Action Plan is our map of what we should do next in this respect . We can already now strike a new pact against disinformation with better accountability of algorithms and no arbitrary decisions by big online platforms . We can and should have more transparency of their policies and access to relevant data . In the Digital Services Act we moved away from assessing harmful content and focused on the manipulative techniques of online distribution . We need to go more in detail on this – paid promotion and paid likes , reactions from fake accounts , bots can be particularly dangerous for democracy , notably during elections . This is why I will propose new regulation on online political advertising . And freedom of speech is not the same as freedom of reach . Regulation alone will not , and in my view should not , address all the details of digital life . When I talked to Mark Zuckerberg and other CEOs of the Big Tech , we discussed solutions that go beyond regulation because we must not sacrifice freedom of expression , which requires open space , be it online or offline . They can not judge and evaluate every piece of content posted on them . This is why we need to reshape the thinking of tech companies and tech workers . Architects follow not only law but also ethical codes to ensure that the buildings they design are safe for people . Coders and IT experts should have a similar approach when designing their algorithms , something I rarely hear from the tech executives . And third , we can not focus on social media platforms alone . We need to make our education fit for digital reality . We all have to become more digitally literate , understand the basics of what is happening online and why we are seeing certain content . This will allow us to navigate safely online . As a person coming , as many of you do , from an ex—totalitarian country , in my case communist Czechoslovakia , I have tasted life without democracy and freedom of speech . I believe we need to bring order to the digital expression of democracy and to end the digital Wild West . What is illegal offline must be illegal online , but we also have to work on restoring trust among citizens . Facts belong to everyone . Opinions belong to an individual . And this distinction has been damaged and can only be repaired if there is trust in science , in authorities and society . We all have a very important role to play in this as well . "
     ]
    }
   ],
   "source": [
    "for word in tokens1_2:\n",
    "    print(word, end=' ')"
   ]
  },
  {
   "cell_type": "code",
   "execution_count": 97,
   "metadata": {},
   "outputs": [],
   "source": [
    "raw1_3 = 'Magdalena Adamowicz, on behalf of the PPE group. - Madam President! Commissioner! Ladies and gentlemen! The war for media freedom has been going on in Poland for several hours. The war on whether Polish citizens can know the truth or whether the authorities are to decide what this truth should be. While lying that it is about more taxes, the authorities are really about more obedience to their citizens. Because the authorities want to cultivate the obedience of citizens with the help of the media they subordinate to. Like in Hungary. As in Russia. What should we do when the authorities of a European Union member state deprive their citizens of the right to reliable information? Again, Parliament is to say: we do not have our Brussels approval for this? Just talking again? Stomp your foot and scream? There is a limit beyond which helplessness becomes a humiliation. A humiliation for those who stand alone for freedom and democracy. As the Roman maxim, \"Vim vi repellere licet\" says, you can resist force by force. Force adequate to the threat. That is why I call on the entire European Union to act accordingly. That is why I call on all free media in the world to show solidarity with Polish free media. Because if it happened to us, it can happen to you. I end here. What is left of my time I spend in silence. For the silence to be a warning. Because if we do not react now with action, this moment of silence may soon become a minute of silence, of silence over the coffin of Polish democracy. And if it is Polish, then European too.'"
   ]
  },
  {
   "cell_type": "code",
   "execution_count": 98,
   "metadata": {},
   "outputs": [
    {
     "data": {
      "text/plain": [
       "['Magdalena',\n",
       " 'Adamowicz',\n",
       " ',',\n",
       " 'on',\n",
       " 'behalf',\n",
       " 'of',\n",
       " 'the',\n",
       " 'PPE',\n",
       " 'group',\n",
       " '.',\n",
       " '-',\n",
       " 'Madam',\n",
       " 'President',\n",
       " '!',\n",
       " 'Commissioner',\n",
       " '!',\n",
       " 'Ladies',\n",
       " 'and',\n",
       " 'gentlemen',\n",
       " '!',\n",
       " 'The',\n",
       " 'war',\n",
       " 'for',\n",
       " 'media',\n",
       " 'freedom',\n",
       " 'has',\n",
       " 'been',\n",
       " 'going',\n",
       " 'on',\n",
       " 'in',\n",
       " 'Poland',\n",
       " 'for',\n",
       " 'several',\n",
       " 'hours',\n",
       " '.',\n",
       " 'The',\n",
       " 'war',\n",
       " 'on',\n",
       " 'whether',\n",
       " 'Polish',\n",
       " 'citizens',\n",
       " 'can',\n",
       " 'know',\n",
       " 'the',\n",
       " 'truth',\n",
       " 'or',\n",
       " 'whether',\n",
       " 'the',\n",
       " 'authorities',\n",
       " 'are',\n",
       " 'to',\n",
       " 'decide',\n",
       " 'what',\n",
       " 'this',\n",
       " 'truth',\n",
       " 'should',\n",
       " 'be',\n",
       " '.',\n",
       " 'While',\n",
       " 'lying',\n",
       " 'that',\n",
       " 'it',\n",
       " 'is',\n",
       " 'about',\n",
       " 'more',\n",
       " 'taxes',\n",
       " ',',\n",
       " 'the',\n",
       " 'authorities',\n",
       " 'are',\n",
       " 'really',\n",
       " 'about',\n",
       " 'more',\n",
       " 'obedience',\n",
       " 'to',\n",
       " 'their',\n",
       " 'citizens',\n",
       " '.',\n",
       " 'Because',\n",
       " 'the',\n",
       " 'authorities',\n",
       " 'want',\n",
       " 'to',\n",
       " 'cultivate',\n",
       " 'the',\n",
       " 'obedience',\n",
       " 'of',\n",
       " 'citizens',\n",
       " 'with',\n",
       " 'the',\n",
       " 'help',\n",
       " 'of',\n",
       " 'the',\n",
       " 'media',\n",
       " 'they',\n",
       " 'subordinate',\n",
       " 'to',\n",
       " '.',\n",
       " 'Like',\n",
       " 'in',\n",
       " 'Hungary',\n",
       " '.',\n",
       " 'As',\n",
       " 'in',\n",
       " 'Russia',\n",
       " '.',\n",
       " 'What',\n",
       " 'should',\n",
       " 'we',\n",
       " 'do',\n",
       " 'when',\n",
       " 'the',\n",
       " 'authorities',\n",
       " 'of',\n",
       " 'a',\n",
       " 'European',\n",
       " 'Union',\n",
       " 'member',\n",
       " 'state',\n",
       " 'deprive',\n",
       " 'their',\n",
       " 'citizens',\n",
       " 'of',\n",
       " 'the',\n",
       " 'right',\n",
       " 'to',\n",
       " 'reliable',\n",
       " 'information',\n",
       " '?',\n",
       " 'Again',\n",
       " ',',\n",
       " 'Parliament',\n",
       " 'is',\n",
       " 'to',\n",
       " 'say',\n",
       " ':',\n",
       " 'we',\n",
       " 'do',\n",
       " 'not',\n",
       " 'have',\n",
       " 'our',\n",
       " 'Brussels',\n",
       " 'approval',\n",
       " 'for',\n",
       " 'this',\n",
       " '?',\n",
       " 'Just',\n",
       " 'talking',\n",
       " 'again',\n",
       " '?',\n",
       " 'Stomp',\n",
       " 'your',\n",
       " 'foot',\n",
       " 'and',\n",
       " 'scream',\n",
       " '?',\n",
       " 'There',\n",
       " 'is',\n",
       " 'a',\n",
       " 'limit',\n",
       " 'beyond',\n",
       " 'which',\n",
       " 'helplessness',\n",
       " 'becomes',\n",
       " 'a',\n",
       " 'humiliation',\n",
       " '.',\n",
       " 'A',\n",
       " 'humiliation',\n",
       " 'for',\n",
       " 'those',\n",
       " 'who',\n",
       " 'stand',\n",
       " 'alone',\n",
       " 'for',\n",
       " 'freedom',\n",
       " 'and',\n",
       " 'democracy',\n",
       " '.',\n",
       " 'As',\n",
       " 'the',\n",
       " 'Roman',\n",
       " 'maxim',\n",
       " ',',\n",
       " '``',\n",
       " 'Vim',\n",
       " 'vi',\n",
       " 'repellere',\n",
       " 'licet',\n",
       " \"''\",\n",
       " 'says',\n",
       " ',',\n",
       " 'you',\n",
       " 'can',\n",
       " 'resist',\n",
       " 'force',\n",
       " 'by',\n",
       " 'force',\n",
       " '.',\n",
       " 'Force',\n",
       " 'adequate',\n",
       " 'to',\n",
       " 'the',\n",
       " 'threat',\n",
       " '.',\n",
       " 'That',\n",
       " 'is',\n",
       " 'why',\n",
       " 'I',\n",
       " 'call',\n",
       " 'on',\n",
       " 'the',\n",
       " 'entire',\n",
       " 'European',\n",
       " 'Union',\n",
       " 'to',\n",
       " 'act',\n",
       " 'accordingly',\n",
       " '.',\n",
       " 'That',\n",
       " 'is',\n",
       " 'why',\n",
       " 'I',\n",
       " 'call',\n",
       " 'on',\n",
       " 'all',\n",
       " 'free',\n",
       " 'media',\n",
       " 'in',\n",
       " 'the',\n",
       " 'world',\n",
       " 'to',\n",
       " 'show',\n",
       " 'solidarity',\n",
       " 'with',\n",
       " 'Polish',\n",
       " 'free',\n",
       " 'media',\n",
       " '.',\n",
       " 'Because',\n",
       " 'if',\n",
       " 'it',\n",
       " 'happened',\n",
       " 'to',\n",
       " 'us',\n",
       " ',',\n",
       " 'it',\n",
       " 'can',\n",
       " 'happen',\n",
       " 'to',\n",
       " 'you',\n",
       " '.',\n",
       " 'I',\n",
       " 'end',\n",
       " 'here',\n",
       " '.',\n",
       " 'What',\n",
       " 'is',\n",
       " 'left',\n",
       " 'of',\n",
       " 'my',\n",
       " 'time',\n",
       " 'I',\n",
       " 'spend',\n",
       " 'in',\n",
       " 'silence',\n",
       " '.',\n",
       " 'For',\n",
       " 'the',\n",
       " 'silence',\n",
       " 'to',\n",
       " 'be',\n",
       " 'a',\n",
       " 'warning',\n",
       " '.',\n",
       " 'Because',\n",
       " 'if',\n",
       " 'we',\n",
       " 'do',\n",
       " 'not',\n",
       " 'react',\n",
       " 'now',\n",
       " 'with',\n",
       " 'action',\n",
       " ',',\n",
       " 'this',\n",
       " 'moment',\n",
       " 'of',\n",
       " 'silence',\n",
       " 'may',\n",
       " 'soon',\n",
       " 'become',\n",
       " 'a',\n",
       " 'minute',\n",
       " 'of',\n",
       " 'silence',\n",
       " ',',\n",
       " 'of',\n",
       " 'silence',\n",
       " 'over',\n",
       " 'the',\n",
       " 'coffin',\n",
       " 'of',\n",
       " 'Polish',\n",
       " 'democracy',\n",
       " '.',\n",
       " 'And',\n",
       " 'if',\n",
       " 'it',\n",
       " 'is',\n",
       " 'Polish',\n",
       " ',',\n",
       " 'then',\n",
       " 'European',\n",
       " 'too',\n",
       " '.']"
      ]
     },
     "execution_count": 98,
     "metadata": {},
     "output_type": "execute_result"
    }
   ],
   "source": [
    "tokens1_3 = word_tokenize(raw1_3)\n",
    "tokens1_3"
   ]
  },
  {
   "cell_type": "code",
   "execution_count": 99,
   "metadata": {},
   "outputs": [
    {
     "name": "stdout",
     "output_type": "stream",
     "text": [
      "Magdalena Adamowicz , on behalf of the PPE group . - Madam President ! Commissioner ! Ladies and gentlemen ! The war for media freedom has been going on in Poland for several hours . The war on whether Polish citizens can know the truth or whether the authorities are to decide what this truth should be . While lying that it is about more taxes , the authorities are really about more obedience to their citizens . Because the authorities want to cultivate the obedience of citizens with the help of the media they subordinate to . Like in Hungary . As in Russia . What should we do when the authorities of a European Union member state deprive their citizens of the right to reliable information ? Again , Parliament is to say : we do not have our Brussels approval for this ? Just talking again ? Stomp your foot and scream ? There is a limit beyond which helplessness becomes a humiliation . A humiliation for those who stand alone for freedom and democracy . As the Roman maxim , `` Vim vi repellere licet '' says , you can resist force by force . Force adequate to the threat . That is why I call on the entire European Union to act accordingly . That is why I call on all free media in the world to show solidarity with Polish free media . Because if it happened to us , it can happen to you . I end here . What is left of my time I spend in silence . For the silence to be a warning . Because if we do not react now with action , this moment of silence may soon become a minute of silence , of silence over the coffin of Polish democracy . And if it is Polish , then European too . "
     ]
    }
   ],
   "source": [
    "for word in tokens1_3:\n",
    "    print(word, end=' ')"
   ]
  },
  {
   "cell_type": "code",
   "execution_count": 100,
   "metadata": {},
   "outputs": [],
   "source": [
    "raw1_4 = 'Marina Kaljurand, on behalf of the S&D Group. – Madam President, all this disinformation and hate speech is not a new issue; it has been developing for years. Although some measures have been introduced, such as the East StratCom Task Force, they have so far been insufficient to counter efficiently the assault on our democracies. After the riots in Capitol Hill, the ultimate price of allowing disinformation and hatred to spread unchecked online is clear for all of us. Finding a balance between limiting harmful content while maintaining freedom of speech might be a challenging task, but it is doable and it must be addressed now. I look forward to this debate, particularly as we now have a concrete opportunity to address these issues through new draft legislation, including the Digital Services Act, which will establish new rules, including on advertising, transparency, illegal content removal and data access. Continuing to improve the Commission’s code of conduct on disinformation is a necessary step. But we also need to extend our offline safeguards to the online world by limiting the use of targeted advertising and the profiling of users. I welcome the Commission’s initiative on online political advertising. We also need to explore ways to promote media literacy skills to increase users’ knowledge. With the GDPR, the EU led the way and set an example. Now we need to go further. The Digital Services Act can facilitate the development of our digital economy while protecting fundamental rights and providing increased security from online harms. This is our EU opportunity to lead the way, and I hope that we can do it together with our allies in the United States and beyond.'"
   ]
  },
  {
   "cell_type": "code",
   "execution_count": 101,
   "metadata": {},
   "outputs": [
    {
     "data": {
      "text/plain": [
       "['Marina',\n",
       " 'Kaljurand',\n",
       " ',',\n",
       " 'on',\n",
       " 'behalf',\n",
       " 'of',\n",
       " 'the',\n",
       " 'S',\n",
       " '&',\n",
       " 'D',\n",
       " 'Group',\n",
       " '.',\n",
       " '–',\n",
       " 'Madam',\n",
       " 'President',\n",
       " ',',\n",
       " 'all',\n",
       " 'this',\n",
       " 'disinformation',\n",
       " 'and',\n",
       " 'hate',\n",
       " 'speech',\n",
       " 'is',\n",
       " 'not',\n",
       " 'a',\n",
       " 'new',\n",
       " 'issue',\n",
       " ';',\n",
       " 'it',\n",
       " 'has',\n",
       " 'been',\n",
       " 'developing',\n",
       " 'for',\n",
       " 'years',\n",
       " '.',\n",
       " 'Although',\n",
       " 'some',\n",
       " 'measures',\n",
       " 'have',\n",
       " 'been',\n",
       " 'introduced',\n",
       " ',',\n",
       " 'such',\n",
       " 'as',\n",
       " 'the',\n",
       " 'East',\n",
       " 'StratCom',\n",
       " 'Task',\n",
       " 'Force',\n",
       " ',',\n",
       " 'they',\n",
       " 'have',\n",
       " 'so',\n",
       " 'far',\n",
       " 'been',\n",
       " 'insufficient',\n",
       " 'to',\n",
       " 'counter',\n",
       " 'efficiently',\n",
       " 'the',\n",
       " 'assault',\n",
       " 'on',\n",
       " 'our',\n",
       " 'democracies',\n",
       " '.',\n",
       " 'After',\n",
       " 'the',\n",
       " 'riots',\n",
       " 'in',\n",
       " 'Capitol',\n",
       " 'Hill',\n",
       " ',',\n",
       " 'the',\n",
       " 'ultimate',\n",
       " 'price',\n",
       " 'of',\n",
       " 'allowing',\n",
       " 'disinformation',\n",
       " 'and',\n",
       " 'hatred',\n",
       " 'to',\n",
       " 'spread',\n",
       " 'unchecked',\n",
       " 'online',\n",
       " 'is',\n",
       " 'clear',\n",
       " 'for',\n",
       " 'all',\n",
       " 'of',\n",
       " 'us',\n",
       " '.',\n",
       " 'Finding',\n",
       " 'a',\n",
       " 'balance',\n",
       " 'between',\n",
       " 'limiting',\n",
       " 'harmful',\n",
       " 'content',\n",
       " 'while',\n",
       " 'maintaining',\n",
       " 'freedom',\n",
       " 'of',\n",
       " 'speech',\n",
       " 'might',\n",
       " 'be',\n",
       " 'a',\n",
       " 'challenging',\n",
       " 'task',\n",
       " ',',\n",
       " 'but',\n",
       " 'it',\n",
       " 'is',\n",
       " 'doable',\n",
       " 'and',\n",
       " 'it',\n",
       " 'must',\n",
       " 'be',\n",
       " 'addressed',\n",
       " 'now',\n",
       " '.',\n",
       " 'I',\n",
       " 'look',\n",
       " 'forward',\n",
       " 'to',\n",
       " 'this',\n",
       " 'debate',\n",
       " ',',\n",
       " 'particularly',\n",
       " 'as',\n",
       " 'we',\n",
       " 'now',\n",
       " 'have',\n",
       " 'a',\n",
       " 'concrete',\n",
       " 'opportunity',\n",
       " 'to',\n",
       " 'address',\n",
       " 'these',\n",
       " 'issues',\n",
       " 'through',\n",
       " 'new',\n",
       " 'draft',\n",
       " 'legislation',\n",
       " ',',\n",
       " 'including',\n",
       " 'the',\n",
       " 'Digital',\n",
       " 'Services',\n",
       " 'Act',\n",
       " ',',\n",
       " 'which',\n",
       " 'will',\n",
       " 'establish',\n",
       " 'new',\n",
       " 'rules',\n",
       " ',',\n",
       " 'including',\n",
       " 'on',\n",
       " 'advertising',\n",
       " ',',\n",
       " 'transparency',\n",
       " ',',\n",
       " 'illegal',\n",
       " 'content',\n",
       " 'removal',\n",
       " 'and',\n",
       " 'data',\n",
       " 'access',\n",
       " '.',\n",
       " 'Continuing',\n",
       " 'to',\n",
       " 'improve',\n",
       " 'the',\n",
       " 'Commission',\n",
       " '’',\n",
       " 's',\n",
       " 'code',\n",
       " 'of',\n",
       " 'conduct',\n",
       " 'on',\n",
       " 'disinformation',\n",
       " 'is',\n",
       " 'a',\n",
       " 'necessary',\n",
       " 'step',\n",
       " '.',\n",
       " 'But',\n",
       " 'we',\n",
       " 'also',\n",
       " 'need',\n",
       " 'to',\n",
       " 'extend',\n",
       " 'our',\n",
       " 'offline',\n",
       " 'safeguards',\n",
       " 'to',\n",
       " 'the',\n",
       " 'online',\n",
       " 'world',\n",
       " 'by',\n",
       " 'limiting',\n",
       " 'the',\n",
       " 'use',\n",
       " 'of',\n",
       " 'targeted',\n",
       " 'advertising',\n",
       " 'and',\n",
       " 'the',\n",
       " 'profiling',\n",
       " 'of',\n",
       " 'users',\n",
       " '.',\n",
       " 'I',\n",
       " 'welcome',\n",
       " 'the',\n",
       " 'Commission',\n",
       " '’',\n",
       " 's',\n",
       " 'initiative',\n",
       " 'on',\n",
       " 'online',\n",
       " 'political',\n",
       " 'advertising',\n",
       " '.',\n",
       " 'We',\n",
       " 'also',\n",
       " 'need',\n",
       " 'to',\n",
       " 'explore',\n",
       " 'ways',\n",
       " 'to',\n",
       " 'promote',\n",
       " 'media',\n",
       " 'literacy',\n",
       " 'skills',\n",
       " 'to',\n",
       " 'increase',\n",
       " 'users',\n",
       " '’',\n",
       " 'knowledge',\n",
       " '.',\n",
       " 'With',\n",
       " 'the',\n",
       " 'GDPR',\n",
       " ',',\n",
       " 'the',\n",
       " 'EU',\n",
       " 'led',\n",
       " 'the',\n",
       " 'way',\n",
       " 'and',\n",
       " 'set',\n",
       " 'an',\n",
       " 'example',\n",
       " '.',\n",
       " 'Now',\n",
       " 'we',\n",
       " 'need',\n",
       " 'to',\n",
       " 'go',\n",
       " 'further',\n",
       " '.',\n",
       " 'The',\n",
       " 'Digital',\n",
       " 'Services',\n",
       " 'Act',\n",
       " 'can',\n",
       " 'facilitate',\n",
       " 'the',\n",
       " 'development',\n",
       " 'of',\n",
       " 'our',\n",
       " 'digital',\n",
       " 'economy',\n",
       " 'while',\n",
       " 'protecting',\n",
       " 'fundamental',\n",
       " 'rights',\n",
       " 'and',\n",
       " 'providing',\n",
       " 'increased',\n",
       " 'security',\n",
       " 'from',\n",
       " 'online',\n",
       " 'harms',\n",
       " '.',\n",
       " 'This',\n",
       " 'is',\n",
       " 'our',\n",
       " 'EU',\n",
       " 'opportunity',\n",
       " 'to',\n",
       " 'lead',\n",
       " 'the',\n",
       " 'way',\n",
       " ',',\n",
       " 'and',\n",
       " 'I',\n",
       " 'hope',\n",
       " 'that',\n",
       " 'we',\n",
       " 'can',\n",
       " 'do',\n",
       " 'it',\n",
       " 'together',\n",
       " 'with',\n",
       " 'our',\n",
       " 'allies',\n",
       " 'in',\n",
       " 'the',\n",
       " 'United',\n",
       " 'States',\n",
       " 'and',\n",
       " 'beyond',\n",
       " '.']"
      ]
     },
     "execution_count": 101,
     "metadata": {},
     "output_type": "execute_result"
    }
   ],
   "source": [
    "tokens1_4 = word_tokenize(raw1_4)\n",
    "tokens1_4"
   ]
  },
  {
   "cell_type": "code",
   "execution_count": 102,
   "metadata": {},
   "outputs": [
    {
     "name": "stdout",
     "output_type": "stream",
     "text": [
      "Marina Kaljurand , on behalf of the S & D Group . – Madam President , all this disinformation and hate speech is not a new issue ; it has been developing for years . Although some measures have been introduced , such as the East StratCom Task Force , they have so far been insufficient to counter efficiently the assault on our democracies . After the riots in Capitol Hill , the ultimate price of allowing disinformation and hatred to spread unchecked online is clear for all of us . Finding a balance between limiting harmful content while maintaining freedom of speech might be a challenging task , but it is doable and it must be addressed now . I look forward to this debate , particularly as we now have a concrete opportunity to address these issues through new draft legislation , including the Digital Services Act , which will establish new rules , including on advertising , transparency , illegal content removal and data access . Continuing to improve the Commission ’ s code of conduct on disinformation is a necessary step . But we also need to extend our offline safeguards to the online world by limiting the use of targeted advertising and the profiling of users . I welcome the Commission ’ s initiative on online political advertising . We also need to explore ways to promote media literacy skills to increase users ’ knowledge . With the GDPR , the EU led the way and set an example . Now we need to go further . The Digital Services Act can facilitate the development of our digital economy while protecting fundamental rights and providing increased security from online harms . This is our EU opportunity to lead the way , and I hope that we can do it together with our allies in the United States and beyond . "
     ]
    }
   ],
   "source": [
    "for word in tokens1_4:\n",
    "    print(word, end=' ')"
   ]
  },
  {
   "cell_type": "code",
   "execution_count": 103,
   "metadata": {},
   "outputs": [
    {
     "name": "stdout",
     "output_type": "stream",
     "text": [
      "Dragoş Tudorache , on behalf of the Renew Group . – Madam President , in a world where being connected has become as important as a fundamental right , the rise of social media has fundamentally transformed our society . The idols of our children are born on social media , we can be bullied or abused on social media , elections are lost or won on social media . Looking at the years ahead and the decisions facing us , I want to make three points . First , there is no online and offline world . There is only one world , one in which we must protect our citizens ’ rights and our democracies in equal measure , both online and offline . The Digital Services Act ( DSA ) is a good step in this direction , and I commend the Commission for the level of ambition in the proposal . Second , social media has become a political tool for some , a tactical battlefield for others . Politicians , informal communities , structured organisations , and even states themselves , all embrace social media as the weapon of choice . But social media platforms are private companies so they alone do not have the incentive , the means or the legitimacy to take on politicians or state actors . They require democratic oversight and assistance for that , just as we require from them cooperation and compliance . So we are not adversaries , us and the platforms . We need to find together a burden-sharing equilibrium that guarantees both the common good and technological progress . My third point is that social media is global and geopolitical , so we need to use our entire diplomatic arsenal to protect our citizens ’ rights and our way of life online . We need to work with the United States and other like-minded partners to define the rules of the future based on our shared values . And we need to use our dissuasion tools to address appropriately states such as Russia who use social media to sabotage our democracies and our common European project , or states such as China who work to build an alternative digital future without playing by the same rules or without relating to the same values . "
     ]
    }
   ],
   "source": [
    "raw1_5 = 'Dragoş Tudorache, on behalf of the Renew Group. – Madam President, in a world where being connected has become as important as a fundamental right, the rise of social media has fundamentally transformed our society. The idols of our children are born on social media, we can be bullied or abused on social media, elections are lost or won on social media. Looking at the years ahead and the decisions facing us, I want to make three points. First, there is no online and offline world. There is only one world, one in which we must protect our citizens’ rights and our democracies in equal measure, both online and offline. The Digital Services Act (DSA) is a good step in this direction, and I commend the Commission for the level of ambition in the proposal. Second, social media has become a political tool for some, a tactical battlefield for others. Politicians, informal communities, structured organisations, and even states themselves, all embrace social media as the weapon of choice. But social media platforms are private companies so they alone do not have the incentive, the means or the legitimacy to take on politicians or state actors. They require democratic oversight and assistance for that, just as we require from them cooperation and compliance. So we are not adversaries, us and the platforms. We need to find together a burden-sharing equilibrium that guarantees both the common good and technological progress. My third point is that social media is global and geopolitical, so we need to use our entire diplomatic arsenal to protect our citizens’ rights and our way of life online. We need to work with the United States and other like-minded partners to define the rules of the future based on our shared values. And we need to use our dissuasion tools to address appropriately states such as Russia who use social media to sabotage our democracies and our common European project, or states such as China who work to build an alternative digital future without playing by the same rules or without relating to the same values.'\n",
    "tokens1_5 = word_tokenize(raw1_5)\n",
    "for word in tokens1_5:\n",
    "    print(word, end=' ')"
   ]
  },
  {
   "cell_type": "code",
   "execution_count": 104,
   "metadata": {},
   "outputs": [
    {
     "name": "stdout",
     "output_type": "stream",
     "text": [
      "Annalisa Tardino , on behalf of the ID Group . - Madam President , ladies and gentlemen , large platforms and social media undoubtedly offer great opportunities , which are useful to society , especially in a society where physical distances have widened , but they must move within clear rules . The giants of the web for years have claimed to be neutral containers . Today , however , it is clear that their policies affect the real world , proclaiming themselves censors of which messages are acceptable and which are not . And this leads us to a big question , which has precise political and legal connotations : who should decide what can be published in the digital space ? You see , I do not think vested interests are at stake here . It is not a question of deciding whether to defend the ideas of a party or an individual elected , but to protect the values ​​of democracy and freedom of expression , even for the individual citizen . For this reason , as a League , we have asked for this debate . I believe that a possible darkening of the pages of Donald Trump or Ursula von der Leyen or a newspaper or anyone should be decided by laws that define clear parameters and procedures , and not thanks to homemade guidelines from private giants acting almost as judges of democracy . This is a role that belongs to the legislators , to which we can not and must not abdicate . The European Union must act without delay to safeguard the democratic and free debate on social media . "
     ]
    }
   ],
   "source": [
    "raw1_6 = 'Annalisa Tardino, on behalf of the ID Group. - Madam President, ladies and gentlemen, large platforms and social media undoubtedly offer great opportunities, which are useful to society, especially in a society where physical distances have widened, but they must move within clear rules. The giants of the web for years have claimed to be neutral containers. Today, however, it is clear that their policies affect the real world, proclaiming themselves censors of which messages are acceptable and which are not. And this leads us to a big question, which has precise political and legal connotations: who should decide what can be published in the digital space? You see, I do not think vested interests are at stake here. It is not a question of deciding whether to defend the ideas of a party or an individual elected, but to protect the values ​​of democracy and freedom of expression, even for the individual citizen. For this reason, as a League, we have asked for this debate. I believe that a possible darkening of the pages of Donald Trump or Ursula von der Leyen or a newspaper or anyone should be decided by laws that define clear parameters and procedures, and not thanks to homemade guidelines from private giants acting almost as judges of democracy. This is a role that belongs to the legislators, to which we cannot and must not abdicate. The European Union must act without delay to safeguard the democratic and free debate on social media.'\n",
    "tokens1_6 = word_tokenize(raw1_6)\n",
    "for word in tokens1_6:\n",
    "    print(word, end=' ')"
   ]
  },
  {
   "cell_type": "code",
   "execution_count": 105,
   "metadata": {},
   "outputs": [
    {
     "name": "stdout",
     "output_type": "stream",
     "text": [
      "Alexandra Geese , on behalf of the Verts/ALE Group . – Madam President , with so much information available and the possibility for billions of people to express their opinions freely in the Internet , democracy should flourish . Why is the opposite happening ? Why are we seeing disinformation and hate speech thriving , fuelling extremism and violence , as we have all seen on Capitol Hill ? The answer is easy . Because this information is circulating on giant private platforms whose only goal is maximising profit . And we are the raw material . Companies like Google and Facebook track every single step we take online and offline , and put micro-profiles and models that allow them to predict our behaviour . Those predictions are then sold to advertisers . This is where the revenue of those companies comes from : from us , from our behaviour . And the same micro-profiles allow the companies to keep us very effectively on their platforms , appealing to strong feelings like fear and hate and anger , which trigger us to interact longer , to share more , to generate more revenue . Hence the hate , hence the disinformation . And now some people think that we can solve the problem these companies have created by asking them to arbitrarily censor this harmful content themselves . That is not an option for democracy . But the good news is the remedy is easy . Let us ban the surveillance business model , starting with a ban on targeted advertising . This is something we can easily do in the Digital Services Act . Colleagues , let us do it . "
     ]
    }
   ],
   "source": [
    "raw1_7 = 'Alexandra Geese, on behalf of the Verts/ALE Group. – Madam President, with so much information available and the possibility for billions of people to express their opinions freely in the Internet, democracy should flourish. Why is the opposite happening? Why are we seeing disinformation and hate speech thriving, fuelling extremism and violence, as we have all seen on Capitol Hill? The answer is easy. Because this information is circulating on giant private platforms whose only goal is maximising profit. And we are the raw material. Companies like Google and Facebook track every single step we take online and offline, and put micro-profiles and models that allow them to predict our behaviour. Those predictions are then sold to advertisers. This is where the revenue of those companies comes from: from us, from our behaviour. And the same micro-profiles allow the companies to keep us very effectively on their platforms, appealing to strong feelings like fear and hate and anger, which trigger us to interact longer, to share more, to generate more revenue. Hence the hate, hence the disinformation. And now some people think that we can solve the problem these companies have created by asking them to arbitrarily censor this harmful content themselves. That is not an option for democracy. But the good news is the remedy is easy. Let us ban the surveillance business model, starting with a ban on targeted advertising. This is something we can easily do in the Digital Services Act. Colleagues, let us do it.'\n",
    "tokens1_7 = word_tokenize(raw1_7)\n",
    "for word in tokens1_7:\n",
    "    print(word, end=' ')"
   ]
  },
  {
   "cell_type": "code",
   "execution_count": 106,
   "metadata": {},
   "outputs": [
    {
     "name": "stdout",
     "output_type": "stream",
     "text": [
      "Geert Bourgeois , on behalf of the ECR Group . – ( NL ) Mr President , the Digital Services Act will stimulate the digital single market , which is crucial , among other things , for our SMEs . It is good that we want to limit the omnipotence of the platforms , but the notification and action system will lead to censorship due to the mechanism for notification , knowledge and accountability . The platforms will run every message through their algorithm resulting in hyperpolitically correct censorship , as was the case with Facebook . The EU should take freedom of expression as a starting point and impose a universal service obligation on these platforms . After all , the platforms are both the mail and letterboxes of the twenty-first century . The censorship should be limited to an exhaustive set of serious cases . The rest is up to the judge to decide , as it should be in a constitutional state . I come from one of the few countries where censorship is constitutionally prohibited . Let that also be the guiding principle for the European Union . "
     ]
    }
   ],
   "source": [
    "raw1_8 = 'Geert Bourgeois, on behalf of the ECR Group. – (NL) Mr President, the Digital Services Act will stimulate the digital single market, which is crucial, among other things, for our SMEs. It is good that we want to limit the omnipotence of the platforms, but the notification and action system will lead to censorship due to the mechanism for notification, knowledge and accountability. The platforms will run every message through their algorithm resulting in hyperpolitically correct censorship, as was the case with Facebook. The EU should take freedom of expression as a starting point and impose a universal service obligation on these platforms. After all, the platforms are both the mail and letterboxes of the twenty-first century. The censorship should be limited to an exhaustive set of serious cases. The rest is up to the judge to decide, as it should be in a constitutional state. I come from one of the few countries where censorship is constitutionally prohibited. Let that also be the guiding principle for the European Union.'\n",
    "tokens1_8 = word_tokenize(raw1_8)\n",
    "for word in tokens1_8:\n",
    "    print(word, end=' ')"
   ]
  },
  {
   "cell_type": "code",
   "execution_count": 107,
   "metadata": {},
   "outputs": [
    {
     "name": "stdout",
     "output_type": "stream",
     "text": [
      "Anne-Sophie Pelletier , on behalf of the group The Left . – Madam President , Commissioner , ladies and gentlemen , how do we get men to stop raping ? Hundreds of Twitter accounts have been suspended for asking this question . So I am using my freedom as a citizen and my position as an MEP to question you . Is anyone challenging my freedom to ask this question which many believe is legitimate ? Let us have the courage to say `` stop '' to the big platforms on the opaque censorship organized against freedom of expression and opinion . On the internet , the freedom of some must not stop where the big bosses of social media have decided . The Internet must be a space for individual and collective emancipation , without excessive centralization of regulatory powers in the hands of private actors . The preeminent place of platforms in moderating public political debate is a threat to our democratic models . Their monopoly , their algorithms , their conditions of use , the inability of public authorities to control moderation are issues that structure the democratic impasse in which we find ourselves . Censorship of political figures , censorship of words and deletion of content without a court decision , censorship of feminist accounts , censorship of campaigns to raise awareness of LGBT rights , highlighting of controversial content , are various illustrations of attacks on the freedoms of our citizens and the net neutrality . Censorship is never the solution . It is only through media pluralism and educational policies that develop critical thinking and tolerance that our societies will be able to fight against all forms of online hatred and the manipulation of information . Transparency , shared responsibility and the protection of fundamental rights of our citizens must be the guidelines of the next frameworks of digital services legislation and digital market legislation , because it is up to politicians to frame the influence of social networks on the debate . politics before they frame it for us . "
     ]
    }
   ],
   "source": [
    "raw1_9 = 'Anne-Sophie Pelletier, on behalf of the group The Left. – Madam President, Commissioner, ladies and gentlemen, how do we get men to stop raping? Hundreds of Twitter accounts have been suspended for asking this question. So I am using my freedom as a citizen and my position as an MEP to question you. Is anyone challenging my freedom to ask this question which many believe is legitimate? Let us have the courage to say \"stop\" to the big platforms on the opaque censorship organized against freedom of expression and opinion. On the internet, the freedom of some must not stop where the big bosses of social media have decided. The Internet must be a space for individual and collective emancipation, without excessive centralization of regulatory powers in the hands of private actors. The preeminent place of platforms in moderating public political debate is a threat to our democratic models. Their monopoly, their algorithms, their conditions of use, the inability of public authorities to control moderation are issues that structure the democratic impasse in which we find ourselves. Censorship of political figures, censorship of words and deletion of content without a court decision, censorship of feminist accounts, censorship of campaigns to raise awareness of LGBT rights, highlighting of controversial content, are various illustrations of attacks on the freedoms of our citizens and the net neutrality. Censorship is never the solution. It is only through media pluralism and educational policies that develop critical thinking and tolerance that our societies will be able to fight against all forms of online hatred and the manipulation of information. Transparency, shared responsibility and the protection of fundamental rights of our citizens must be the guidelines of the next frameworks of digital services legislation and digital market legislation, because it is up to politicians to frame the influence of social networks on the debate. politics before they frame it for us.'\n",
    "tokens1_9 = word_tokenize(raw1_9)\n",
    "for word in tokens1_9:\n",
    "    print(word, end=' ')"
   ]
  },
  {
   "cell_type": "code",
   "execution_count": 108,
   "metadata": {},
   "outputs": [
    {
     "name": "stdout",
     "output_type": "stream",
     "text": [
      "Laura Ferrara ( NI ) . - Madam President , ladies and gentlemen , Commissioner , social media has broadened the opportunities for participation in public life and political debate by facilitating access to information and freedom of expression . However , we are not yet adequately protected from the proliferation of fake news , discriminatory content , incitement to hatred and violence . In fact , we have experienced how disinformation campaigns and foreign interference can find fertile ground to influence public opinion , to polarize societies , to undermine democratic processes . With the action plan for democracy and the proposals regarding digital services and markets , we therefore expect significant interventions to regulate opaque microtargeting practices and to obtain greater transparency on the functioning of algorithms in the procedures for controlling and moderating online content . . At the same time , however , it is essential to mitigate the risk of conflict with the freedom of opinion deriving from decisions adopted on the basis of the discretionary powers of an oligarchy of private commercial entities , rather than on the basis of rules that give greater guarantees of freedom and impartiality . "
     ]
    }
   ],
   "source": [
    "raw1_10 ='Laura Ferrara (NI). - Madam President, ladies and gentlemen, Commissioner, social media has broadened the opportunities for participation in public life and political debate by facilitating access to information and freedom of expression. However, we are not yet adequately protected from the proliferation of fake news, discriminatory content, incitement to hatred and violence. In fact, we have experienced how disinformation campaigns and foreign interference can find fertile ground to influence public opinion, to polarize societies, to undermine democratic processes. With the action plan for democracy and the proposals regarding digital services and markets, we therefore expect significant interventions to regulate opaque microtargeting practices and to obtain greater transparency on the functioning of algorithms in the procedures for controlling and moderating online content. . At the same time, however, it is essential to mitigate the risk of conflict with the freedom of opinion deriving from decisions adopted on the basis of the discretionary powers of an oligarchy of private commercial entities, rather than on the basis of rules that give greater guarantees of freedom and impartiality.'\n",
    "tokens1_10 = word_tokenize(raw1_10)\n",
    "for word in tokens1_10:\n",
    "    print(word, end=' ')"
   ]
  },
  {
   "cell_type": "code",
   "execution_count": 109,
   "metadata": {},
   "outputs": [
    {
     "name": "stdout",
     "output_type": "stream",
     "text": [
      "Paulo Rangel ( PPE ) . – Madam President , Madam Secretary of State , Madam Commissioner , the public sphere and the sphere of communication have changed radically . From the world in which we had mediators and mediation ( in politics , parliaments , parties , institutions ; in the social sphere , the press , television , radio ) , we suddenly passed through social networks to the illusion of democracy . direct . Mediators have fallen and now , on social media , everyone thinks they can abolish social communication and traditional media . Everyone thinks that through direct participation they can even replace parliaments . There is no lack of countries in which the abolition of parliaments is decreed or defended . No more mediators . Only direct participation , through social networks , with a vote that even in laws and decisions could be daily through digital instruments . The problem is that , suddenly , we realize that , behind social networks and the companies that own them , there is a mediator , a hidden mediator , a secret mediator , who is the algorithm , who is the controller , who is the owner . of social networks and therefore freedom of expression is in danger . It is in danger due to external interference , it is in danger due to hidden mediation , it is in danger due to lack of democratic regulation And , therefore , we can not be in the hands of social networks . We have to put them in our hands . It is this challenge that is being debated here today . "
     ]
    }
   ],
   "source": [
    "raw1_11 = 'Paulo Rangel (PPE). – Madam President, Madam Secretary of State, Madam Commissioner, the public sphere and the sphere of communication have changed radically. From the world in which we had mediators and mediation (in politics, parliaments, parties, institutions; in the social sphere, the press, television, radio), we suddenly passed through social networks to the illusion of democracy. direct. Mediators have fallen and now, on social media, everyone thinks they can abolish social communication and traditional media. Everyone thinks that through direct participation they can even replace parliaments. There is no lack of countries in which the abolition of parliaments is decreed or defended. No more mediators. Only direct participation, through social networks, with a vote that even in laws and decisions could be daily through digital instruments. The problem is that, suddenly, we realize that, behind social networks and the companies that own them, there is a mediator, a hidden mediator, a secret mediator, who is the algorithm, who is the controller, who is the owner. of social networks and therefore freedom of expression is in danger. It is in danger due to external interference, it is in danger due to hidden mediation, it is in danger due to lack of democratic regulation And, therefore, we cannot be in the hands of social networks. We have to put them in our hands. It is this challenge that is being debated here today.'\n",
    "tokens1_11 = word_tokenize(raw1_11)\n",
    "for word in tokens1_11:\n",
    "    print(word, end=' ')"
   ]
  },
  {
   "cell_type": "code",
   "execution_count": 110,
   "metadata": {},
   "outputs": [
    {
     "name": "stdout",
     "output_type": "stream",
     "text": [
      "Ismail Ertug ( S & D ) . – Madam President , although we are now one year into the pandemic , Facebook only decided this week to take down posts claiming vaccines cause autism . It took them one year to act against fake news . And a study released this week reveals that 83 % of young people have already been confronted with fake news on social media and 25 % of them can not distinguish between fake news and real news . And this is , in my eyes , a threat . For years , and I think I am not exaggerating when I say social media platforms and Trump , for example , have benefited from each other . Only after Trump ’ s election defeat and him calling on his supporters to storm the Capitol did they decide to ban him . That means that Facebook , YouTube and Twitter took more than four years to ban him . And while I think it was right to ban Mr Trump from social media platforms , I would say that private companies should never act without reference to the law , and as the European Union this is the way we have to go . "
     ]
    }
   ],
   "source": [
    "raw1_12 ='Ismail Ertug (S&D). – Madam President, although we are now one year into the pandemic, Facebook only decided this week to take down posts claiming vaccines cause autism. It took them one year to act against fake news. And a study released this week reveals that 83% of young people have already been confronted with fake news on social media and 25% of them cannot distinguish between fake news and real news. And this is, in my eyes, a threat. For years, and I think I am not exaggerating when I say social media platforms and Trump, for example, have benefited from each other. Only after Trump’s election defeat and him calling on his supporters to storm the Capitol did they decide to ban him. That means that Facebook, YouTube and Twitter took more than four years to ban him. And while I think it was right to ban Mr Trump from social media platforms, I would say that private companies should never act without reference to the law, and as the European Union this is the way we have to go.'\n",
    "tokens1_12 = word_tokenize(raw1_12)\n",
    "for word in tokens1_12:\n",
    "    print(word, end=' ')"
   ]
  },
  {
   "cell_type": "code",
   "execution_count": 111,
   "metadata": {},
   "outputs": [
    {
     "name": "stdout",
     "output_type": "stream",
     "text": [
      "Michal Šimečka ( Renew ) . – Madam President , I think it ’ s now clear that most social media have wildly outgrown their founders ’ expectations and their impact on society is felt globally and , of course , in each individual country . With such great power must come greater responsibility , because today there is very little incentive for social media corporations to ensure that their products are not used as vehicles for the mass spread of hate or lies or disinformation . In Slovakia , last year , journalists tracked 56 death threats posted publicly on Facebook , and actually had to call Facebook ’ s PR department before the death threats were taken down . So it was because of the action of journalists that the threats actually disappeared . This is illustrative of a much bigger problem , which is that the social media corporations are unable or unwilling to ensure that their content not only meets ethical standards , but actually complies with the legislation and the laws of the country in which they operate . So , when we think about the future , the regulation must not be virtual , but real . "
     ]
    }
   ],
   "source": [
    "raw1_13 = 'Michal Šimečka (Renew). – Madam President, I think it’s now clear that most social media have wildly outgrown their founders’ expectations and their impact on society is felt globally and, of course, in each individual country. With such great power must come greater responsibility, because today there is very little incentive for social media corporations to ensure that their products are not used as vehicles for the mass spread of hate or lies or disinformation. In Slovakia, last year, journalists tracked 56 death threats posted publicly on Facebook, and actually had to call Facebook’s PR department before the death threats were taken down. So it was because of the action of journalists that the threats actually disappeared. This is illustrative of a much bigger problem, which is that the social media corporations are unable or unwilling to ensure that their content not only meets ethical standards, but actually complies with the legislation and the laws of the country in which they operate. So, when we think about the future, the regulation must not be virtual, but real.'\n",
    "tokens1_13 = word_tokenize(raw1_13)\n",
    "for word in tokens1_13:\n",
    "    print(word, end=' ')"
   ]
  },
  {
   "cell_type": "code",
   "execution_count": 112,
   "metadata": {},
   "outputs": [
    {
     "name": "stdout",
     "output_type": "stream",
     "text": [
      "Alessandra Basso ( ID ) . - Madam President , ladies and gentlemen , Commissioner , diversity and pluralism in the media should be linked by the same fundamental objective in a liberal democracy : to offer citizens a variety of content . We know that in the DSA especially the large platforms are in fact obliged to equip themselves with internal mechanisms to receive notifications from any person or entity of contents deemed illegal . In the same article it is established that the notices received give rise to actual knowledge or awareness , effectively obliging to remove the alleged illegal contents or disable access to them . Basically , any report made in supposed good faith requires removal . I believe that the subjective evaluation of individuals or entities can have a decisive influence on full respect for freedom of speech . Do we want to go in the opposite direction to the pluralism that should characterize a democracy ? I think a profound reflection is urgently needed . "
     ]
    }
   ],
   "source": [
    "raw1_14 ='Alessandra Basso (ID). - Madam President, ladies and gentlemen, Commissioner, diversity and pluralism in the media should be linked by the same fundamental objective in a liberal democracy: to offer citizens a variety of content. We know that in the DSA especially the large platforms are in fact obliged to equip themselves with internal mechanisms to receive notifications from any person or entity of contents deemed illegal. In the same article it is established that the notices received give rise to actual knowledge or awareness, effectively obliging to remove the alleged illegal contents or disable access to them. Basically, any report made in supposed good faith requires removal. I believe that the subjective evaluation of individuals or entities can have a decisive influence on full respect for freedom of speech. Do we want to go in the opposite direction to the pluralism that should characterize a democracy? I think a profound reflection is urgently needed.'\n",
    "tokens1_14 = word_tokenize(raw1_14)\n",
    "for word in tokens1_14:\n",
    "    print(word, end=' ')"
   ]
  },
  {
   "cell_type": "code",
   "execution_count": 113,
   "metadata": {},
   "outputs": [
    {
     "name": "stdout",
     "output_type": "stream",
     "text": [
      "Marcel Kolaja ( Verts/ALE ) . – Madam President , democratic scrutiny and protection of fundamental rights has to go hand-in-hand with addressing the issue of the dominant position of some tech platforms . Recent events in the United States demonstrated that large platforms , due to their size , have a systemic role in amplifying and shaping information flows and create parallel information bubbles . With the new Digital Markets Act , we need to enable an environment where people can not only scrutinise if they are being targeted by malicious actors via the platform , but also gain back effective control , where they have a choice to switch to an alternative , decentralised , open and privacy-friendly service . Only in this case can democratic scrutiny and the protection of fundamental rights have full effect . "
     ]
    }
   ],
   "source": [
    "raw1_15 ='Marcel Kolaja (Verts/ALE). – Madam President, democratic scrutiny and protection of fundamental rights has to go hand-in-hand with addressing the issue of the dominant position of some tech platforms. Recent events in the United States demonstrated that large platforms, due to their size, have a systemic role in amplifying and shaping information flows and create parallel information bubbles. With the new Digital Markets Act, we need to enable an environment where people can not only scrutinise if they are being targeted by malicious actors via the platform, but also gain back effective control, where they have a choice to switch to an alternative, decentralised, open and privacy-friendly service. Only in this case can democratic scrutiny and the protection of fundamental rights have full effect.'\n",
    "tokens1_15 = word_tokenize(raw1_15)\n",
    "for word in tokens1_15:\n",
    "    print(word, end=' ')"
   ]
  },
  {
   "cell_type": "code",
   "execution_count": 114,
   "metadata": {},
   "outputs": [
    {
     "name": "stdout",
     "output_type": "stream",
     "text": [
      "Elżbieta Kruk ( ECR ) . - Madam President ! Are the power over the world being taken over by large technology corporations that already control the public debate , influence the election results , do not reckon with anyone , are unpunished ? The early internet was free , it acted like Hyde Park online . The goal of the giants of the Silicon Valley in the beginning of their activity was to give people access to information for free , and their principle of `` do not do evil '' . But that is how it was yesterday , and today is `` 1984 '' again , Orwell and other science fiction writers predicted the future . This time , however , it is for real . You do not agree with Big Brother , it will silence you , even if you were the president of the United States . Conservative views on the web are always the victim . Several Big Tech billionaires , in the name of leftist ideology , declared a war on freedom of speech , and their actions can be compared to the actions of totalitarian states . We are witnessing an unprecedented threat to freedom . Censorship and account blocking on the one hand , and digital surveillance and manipulation on the other . The passivity of the European Commission in the face of these monopolistic practices is astonishing . It is high time to take action and introduce regulations to protect freedom of speech online . "
     ]
    }
   ],
   "source": [
    "raw1_16 ='Elżbieta Kruk (ECR). - Madam President! Are the power over the world being taken over by large technology corporations that already control the public debate, influence the election results, do not reckon with anyone, are unpunished? The early internet was free, it acted like Hyde Park online. The goal of the giants of the Silicon Valley in the beginning of their activity was to give people access to information for free, and their principle of \"do not do evil\". But that is how it was yesterday, and today is \"1984\" again, Orwell and other science fiction writers predicted the future. This time, however, it is for real. You do not agree with Big Brother, it will silence you, even if you were the president of the United States. Conservative views on the web are always the victim. Several Big Tech billionaires, in the name of leftist ideology, declared a war on freedom of speech, and their actions can be compared to the actions of totalitarian states. We are witnessing an unprecedented threat to freedom. Censorship and account blocking on the one hand, and digital surveillance and manipulation on the other. The passivity of the European Commission in the face of these monopolistic practices is astonishing. It is high time to take action and introduce regulations to protect freedom of speech online.'\n",
    "tokens1_16 = word_tokenize(raw1_16)\n",
    "for word in tokens1_16:\n",
    "    print(word, end=' ')"
   ]
  },
  {
   "cell_type": "code",
   "execution_count": 115,
   "metadata": {},
   "outputs": [
    {
     "name": "stdout",
     "output_type": "stream",
     "text": [
      "Sira Rego ( The Left ) . – Madam President , Abascal in Spain , Salvini in Italy , Le Pen in France , Orbán in Hungary , etcetera , etcetera . All of them with a common denominator : hate speech , racist hoaxes , LGTBIphobia , machismo , the exaltation of fascism . That is why , for me , the fundamental debate is that of impunity , that of the tolerance with which the narrative of the violation of human rights by the extreme right has been accepted and , from there , the use of social networks as a disseminator of hate speech . A danger . And , of course , it is normal for the question to arise : should it be a multinational that determines when and why the use of an account is limited or should it rather be a great anti-fascist consensus that gives rise to public regulation to do so ? Of course , we believe that you should bet on the latter . The only way to guarantee the fundamental right of access to truthful information , the only way to eradicate hate speech , is the intervention of public powers , the firm alliance to expel hate from any public space . "
     ]
    }
   ],
   "source": [
    "raw1_17 ='Sira Rego (The Left). – Madam President, Abascal in Spain, Salvini in Italy, Le Pen in France, Orbán in Hungary, etcetera, etcetera. All of them with a common denominator: hate speech, racist hoaxes, LGTBIphobia, machismo, the exaltation of fascism. That is why, for me, the fundamental debate is that of impunity, that of the tolerance with which the narrative of the violation of human rights by the extreme right has been accepted and, from there, the use of social networks as a disseminator of hate speech. A danger. And, of course, it is normal for the question to arise: should it be a multinational that determines when and why the use of an account is limited or should it rather be a great anti-fascist consensus that gives rise to public regulation to do so? Of course, we believe that you should bet on the latter. The only way to guarantee the fundamental right of access to truthful information, the only way to eradicate hate speech, is the intervention of public powers, the firm alliance to expel hate from any public space.'\n",
    "tokens1_17 = word_tokenize(raw1_17)\n",
    "for word in tokens1_17:\n",
    "    print(word, end=' ')"
   ]
  },
  {
   "cell_type": "code",
   "execution_count": 116,
   "metadata": {},
   "outputs": [
    {
     "name": "stdout",
     "output_type": "stream",
     "text": [
      "Mislav Kolakusic ( NI ) . - Dear Chairman , we are facing the emergence of a new , powerful and unscrupulous mafia that is more dangerous than all previous forms of organized crime . It is a mafia that uses the media instead of weapons , and media of all forms for the fear campaign to sell billions of its products . In the last year , almost all mainstream media across Europe and the world have been informing citizens and publishing untruths , completely untrue data can be found in all media that are published in the same way . It is quite clear that this is one and the same source of funding that wants to enable their financiers to sell several billion of their products every year through a fear campaign . Be aware the fear campaign will not stop because they earn tens of billions every year . "
     ]
    }
   ],
   "source": [
    "raw1_18 ='Mislav Kolakusic (NI). - Dear Chairman, we are facing the emergence of a new, powerful and unscrupulous mafia that is more dangerous than all previous forms of organized crime. It is a mafia that uses the media instead of weapons, and media of all forms for the fear campaign to sell billions of its products. In the last year, almost all mainstream media across Europe and the world have been informing citizens and publishing untruths, completely untrue data can be found in all media that are published in the same way. It is quite clear that this is one and the same source of funding that wants to enable their financiers to sell several billion of their products every year through a fear campaign. Be aware the fear campaign will not stop because they earn tens of billions every year.'\n",
    "tokens1_18 = word_tokenize(raw1_18)\n",
    "for word in tokens1_18:\n",
    "    print(word, end=' ')"
   ]
  },
  {
   "cell_type": "code",
   "execution_count": 117,
   "metadata": {},
   "outputs": [
    {
     "name": "stdout",
     "output_type": "stream",
     "text": [
      "Eva Maydell ( PPE ) . – Madam President , what we hear today is that we as a Chamber are sometimes somewhat inconsistent in our calls to platforms , and thus by this we risk becoming irrelevant . We urged the platforms to act during the Rohingya case in 2016 when thousands of people were killed , but in 2021 , when five people were killed in the Capitol attacks , we asked the platforms why did you act and silence Trump ? So the problem , I think sometimes , is that we often call for different things . I accept that platforms should not have the right to easily silence a president , of course , but what are the rules that would make this impossible in the future ? I believe our job is to create them , and we are indeed on the right track . But in order to create them , we need to make sure we have clear definitions and visions of how we actually treat platforms . Do we consider them to be media ? Are they a type of providers similar to cable TV operators ? Or are they simply an environment in a place where everything is possible and can happen ? I think we need a coherent definition of that , and only then could we perhaps be consistent in our calls and , most importantly , successful in our efforts to create a just and a good environment , good rules for platforms that most importantly safeguard our fundamental rights and values . "
     ]
    }
   ],
   "source": [
    "raw1_19 ='Eva Maydell (PPE). – Madam President, what we hear today is that we as a Chamber are sometimes somewhat inconsistent in our calls to platforms, and thus by this we risk becoming irrelevant. We urged the platforms to act during the Rohingya case in 2016 when thousands of people were killed, but in 2021, when five people were killed in the Capitol attacks, we asked the platforms why did you act and silence Trump? So the problem, I think sometimes, is that we often call for different things. I accept that platforms should not have the right to easily silence a president, of course, but what are the rules that would make this impossible in the future? I believe our job is to create them, and we are indeed on the right track. But in order to create them, we need to make sure we have clear definitions and visions of how we actually treat platforms. Do we consider them to be media? Are they a type of providers similar to cable TV operators? Or are they simply an environment in a place where everything is possible and can happen? I think we need a coherent definition of that, and only then could we perhaps be consistent in our calls and, most importantly, successful in our efforts to create a just and a good environment, good rules for platforms that most importantly safeguard our fundamental rights and values.'\n",
    "tokens1_19 = word_tokenize(raw1_19)\n",
    "for word in tokens1_19:\n",
    "    print(word, end=' ')"
   ]
  },
  {
   "cell_type": "code",
   "execution_count": 118,
   "metadata": {},
   "outputs": [
    {
     "name": "stdout",
     "output_type": "stream",
     "text": [
      "Tanja Fajon ( S & D ) . - Madam President , media freedom has been in the spotlight in recent years for a reason . Imagine that years ago , when there was no social media , newspapers and newscasts would be wasting false information on average . It may have been misleading advertisers , but not journalists , reporters , presenters . Today , however , there are a number of verified and unverified information channels available to the individual that serve him in creating the truth . I am very worried about how easy it is to publish complete lies and misinformation and not take any responsibility for it , saying that it is about freedom of speech and thus discredit the target of the attack . Such and similar announcements , attacks , insults are mostly used today by the populist right , which undermines democracy with its autocratic tendencies and strives for fundamental human rights . They even see the free media as their enemies and not as a fundamental aspect of a free society . One of the more effective tactics for spreading disinformation proved to be the party appropriation of the newly created media , which serve exclusively to promote party ideology . Unfortunately , such practices are used by more and more politicians who slander and spread untruths about their political opponents in Slovenia as well , the Slovenian Prime Minister . Different views and beliefs are , of course , something completely normal . When constructive dialogue is replaced by lies and offensive or even hostile rhetoric , our democracy is really in danger . That ’ s when things go so far that a coup happens , like it happened on the Capitol . We are at a crossroads between freedom and the rights of the individual to express themselves , and I very much welcome the action plan presented by the European Commission . "
     ]
    }
   ],
   "source": [
    "raw1_20 = 'Tanja Fajon (S&D). - Madam President, media freedom has been in the spotlight in recent years for a reason. Imagine that years ago, when there was no social media, newspapers and newscasts would be wasting false information on average. It may have been misleading advertisers, but not journalists, reporters, presenters. Today, however, there are a number of verified and unverified information channels available to the individual that serve him in creating the truth. I am very worried about how easy it is to publish complete lies and misinformation and not take any responsibility for it, saying that it is about freedom of speech and thus discredit the target of the attack. Such and similar announcements, attacks, insults are mostly used today by the populist right, which undermines democracy with its autocratic tendencies and strives for fundamental human rights. They even see the free media as their enemies and not as a fundamental aspect of a free society. One of the more effective tactics for spreading disinformation proved to be the party appropriation of the newly created media, which serve exclusively to promote party ideology. Unfortunately, such practices are used by more and more politicians who slander and spread untruths about their political opponents in Slovenia as well, the Slovenian Prime Minister. Different views and beliefs are, of course, something completely normal. When constructive dialogue is replaced by lies and offensive or even hostile rhetoric, our democracy is really in danger. That’s when things go so far that a coup happens, like it happened on the Capitol. We are at a crossroads between freedom and the rights of the individual to express themselves, and I very much welcome the action plan presented by the European Commission.'\n",
    "tokens1_20 = word_tokenize(raw1_20)\n",
    "for word in tokens1_20:\n",
    "    print(word, end=' ')"
   ]
  },
  {
   "cell_type": "code",
   "execution_count": 119,
   "metadata": {},
   "outputs": [
    {
     "name": "stdout",
     "output_type": "stream",
     "text": [
      "Karen Melchior ( Renew ) . – Madam President , we have no digital democracy . We have democracy . We have no digital human rights . We have human rights . Our freedom of expression must be protected equally online as we protect it offline . More and more of our communication and democracy is taking place online and , under COVID , it has quickly become much more , as we no longer make a distinction between the online and the offline but rather regard it as one and the same – our lives , our reality , our democracy . What that means is that the same principles of human rights must be respected online as well as offline . In the past decade , we ’ ve observed the platformisation of the internet . Openness and free spirit have been consolidated into the monopoly of a few platforms . Therefore , the regulation of digital platforms has become even more important . However , the laws of physics online are different from those in the offline world . Therefore , we can not simply apply regulation designed for the offline world online . Attempting to do so leads to a restriction of our human rights and has a chilling effect on our democracy . "
     ]
    }
   ],
   "source": [
    "raw1_21 ='Karen Melchior (Renew). – Madam President, we have no digital democracy. We have democracy. We have no digital human rights. We have human rights. Our freedom of expression must be protected equally online as we protect it offline. More and more of our communication and democracy is taking place online and, under COVID, it has quickly become much more, as we no longer make a distinction between the online and the offline but rather regard it as one and the same – our lives, our reality, our democracy. What that means is that the same principles of human rights must be respected online as well as offline. In the past decade, we’ve observed the platformisation of the internet. Openness and free spirit have been consolidated into the monopoly of a few platforms. Therefore, the regulation of digital platforms has become even more important. However, the laws of physics online are different from those in the offline world. Therefore, we cannot simply apply regulation designed for the offline world online. Attempting to do so leads to a restriction of our human rights and has a chilling effect on our democracy.'\n",
    "tokens1_21 = word_tokenize(raw1_21)\n",
    "for word in tokens1_21:\n",
    "    print(word, end=' ')"
   ]
  },
  {
   "cell_type": "code",
   "execution_count": 120,
   "metadata": {},
   "outputs": [
    {
     "name": "stdout",
     "output_type": "stream",
     "text": [
      "Tom Vandendriessche ( ID ) . – ( NL ) Mr President , social media is today what the printing press was in the Middle Ages : an instrument for citizens to express their point of view and defend their interests . However , as in the past , the ruling elite are responding with censorship and oppression to determine the truth under the guise of fighting so-called fake news . But a truth that must be protected by censorship is a lie . Under the guise of combating so-called hate speech , they want to criminalize resistance against unwanted migration and multicultural depopulation . But just as a mother cares for her children , this resistance is not out of hatred for what is foreign , but out of love for what is proper . Democracy can not exist without freedom of expression . It is not a matter of left or right , or of agreeing or disagreeing ; that is a fundamental right that saves us all from tyranny . Censorship on social media should therefore be punished . We must break up the Silicon Valley oligarchy to protect the fundamental rights and freedoms of our citizens and our democracy . "
     ]
    }
   ],
   "source": [
    "raw1_22 = 'Tom Vandendriessche (ID). – (NL) Mr President, social media is today what the printing press was in the Middle Ages: an instrument for citizens to express their point of view and defend their interests. However, as in the past, the ruling elite are responding with censorship and oppression to determine the truth under the guise of fighting so-called fake news. But a truth that must be protected by censorship is a lie. Under the guise of combating so-called hate speech, they want to criminalize resistance against unwanted migration and multicultural depopulation. But just as a mother cares for her children, this resistance is not out of hatred for what is foreign, but out of love for what is proper. Democracy cannot exist without freedom of expression. It is not a matter of left or right, or of agreeing or disagreeing; that is a fundamental right that saves us all from tyranny. Censorship on social media should therefore be punished. We must break up the Silicon Valley oligarchy to protect the fundamental rights and freedoms of our citizens and our democracy.'\n",
    "tokens1_22 = word_tokenize(raw1_22)\n",
    "for word in tokens1_22:\n",
    "    print(word, end=' ')"
   ]
  },
  {
   "cell_type": "code",
   "execution_count": 121,
   "metadata": {},
   "outputs": [
    {
     "name": "stdout",
     "output_type": "stream",
     "text": [
      "Gwendoline Delbos-Corfield ( Verts/ALE ) . – Madam President , the NGO AlgorithmWatch reports that existing transparency tools have failed . Our laws are not yet fit for purpose in the digital world . Our democracies are not ready for the challenges to our liberties and fundamental rights We often debate these issues , but we still do not have adequate rules at the European level . What we need most here is transparency of algorithm , to hold platforms accountable for the impact on democratic processes and to scrutinise their actions We need transparency of algorithm to share the data with researchers , for example , at the new European Digital Media Observatory . We need transparency of algorithm to fight disinformation , and we need transparency to help us understand how online spaces have become hotbeds of systemic inequality and discrimination . Women and minorities are deserting the online space more and more often , after extremely violent experiences . We are not just talking about a few isolated cases , but about a problem that is becoming more and more mainstream , and we do not have this transparency of algorithm . "
     ]
    }
   ],
   "source": [
    "raw1_23 = 'Gwendoline Delbos-Corfield (Verts/ALE). – Madam President, the NGO AlgorithmWatch reports that existing transparency tools have failed. Our laws are not yet fit for purpose in the digital world. Our democracies are not ready for the challenges to our liberties and fundamental rights We often debate these issues, but we still do not have adequate rules at the European level. What we need most here is transparency of algorithm, to hold platforms accountable for the impact on democratic processes and to scrutinise their actions We need transparency of algorithm to share the data with researchers, for example, at the new European Digital Media Observatory. We need transparency of algorithm to fight disinformation, and we need transparency to help us understand how online spaces have become hotbeds of systemic inequality and discrimination. Women and minorities are deserting the online space more and more often, after extremely violent experiences. We are not just talking about a few isolated cases, but about a problem that is becoming more and more mainstream, and we do not have this transparency of algorithm.'\n",
    "tokens1_23 = word_tokenize(raw1_23)\n",
    "for word in tokens1_23:\n",
    "    print(word, end=' ')"
   ]
  },
  {
   "cell_type": "code",
   "execution_count": 122,
   "metadata": {},
   "outputs": [
    {
     "name": "stdout",
     "output_type": "stream",
     "text": [
      "Nicola Procaccini ( ECR ) . - Madam President , ladies and gentlemen , Commissioner , as ECR we have asked for this debate because the majority of our relations in the social , educational , economic and political spheres now take place on digital platforms , and it is not possible to deny their regulation to private multinationals , especially if this affects our democracies . You may or may not like what a simple European citizen or the President of the United States of America says at a given historical moment , but their freedom of expression can be limited or suppressed only if it is established by a public authority , against the which one to appeal if you believe you have been wronged . What is illegal offline must also be illegal online , it was said earlier . Right . It is in fact the so-called reserve of law which is the basis of the rule of law . "
     ]
    }
   ],
   "source": [
    "raw1_24 = 'Nicola Procaccini (ECR). - Madam President, ladies and gentlemen, Commissioner, as ECR we have asked for this debate because the majority of our relations in the social, educational, economic and political spheres now take place on digital platforms, and it is not possible to deny their regulation to private multinationals , especially if this affects our democracies. You may or may not like what a simple European citizen or the President of the United States of America says at a given historical moment, but their freedom of expression can be limited or suppressed only if it is established by a public authority, against the which one to appeal if you believe you have been wronged. What is illegal offline must also be illegal online, it was said earlier. Right. It is in fact the so-called reserve of law which is the basis of the rule of law.'\n",
    "tokens1_24 = word_tokenize(raw1_24)\n",
    "for word in tokens1_24:\n",
    "    print(word, end=' ')"
   ]
  },
  {
   "cell_type": "code",
   "execution_count": 123,
   "metadata": {},
   "outputs": [
    {
     "name": "stdout",
     "output_type": "stream",
     "text": [
      "Niyazi Kizilyürek ( The Left ) . – Madam President , dear colleagues ! Social media must not become a platform for hate , racism , disinformation and hate speech . Free internet , information and communication access must be guaranteed for all and access to the internet must be a public good . A free internet with democratically controlled platforms is the order of the day . That means : common EU rules , in particular strict anti-monopoly and anti-trust controls ; active participation of Internet companies ; involvement of civil society . In addition , the various platforms must commit to clearly expressed general terms and conditions . Users must also have the right to portability of data and relationships from one social network to another . Finally , it is high time for a fair taxation and distribution of the enormous profits of the internet giants . The rich finally checkout ! "
     ]
    }
   ],
   "source": [
    "raw1_25 = 'Niyazi Kizilyürek (The Left). – Madam President, dear colleagues! Social media must not become a platform for hate, racism, disinformation and hate speech. Free internet, information and communication access must be guaranteed for all and access to the internet must be a public good. A free internet with democratically controlled platforms is the order of the day. That means: common EU rules, in particular strict anti-monopoly and anti-trust controls; active participation of Internet companies; involvement of civil society. In addition, the various platforms must commit to clearly expressed general terms and conditions. Users must also have the right to portability of data and relationships from one social network to another. Finally, it is high time for a fair taxation and distribution of the enormous profits of the internet giants. The rich finally checkout!'\n",
    "tokens1_25 = word_tokenize(raw1_25)\n",
    "for word in tokens1_25:\n",
    "    print(word, end=' ')"
   ]
  },
  {
   "cell_type": "code",
   "execution_count": 124,
   "metadata": {},
   "outputs": [
    {
     "name": "stdout",
     "output_type": "stream",
     "text": [
      "Costas Papadakis ( NI ) . - Madam President , mutual accusations and vague moral crowns ; it is all a trade war over who will take the lead in the digital economy . The United States , China or the European Union ? Equipped with relevant digital agreements that serve the interests of groups and under the guise of personal data protection , the European Union and the United States compete for the control of the mass recording , dossier , marketing and exploitation of data by government and other services and groups , with criterion their astronomical gains , which - in fact - are multiple in the midst of a pandemic . At the same time , they cooperate by extracting and transmitting personal data and information to the backs of the peoples , intensifying secrecy and repression to the detriment of the movement of the working people . As long as the data , their collection and processing are owned and controlled by the monopolies of the bourgeois states that serve the capitalist exploitation , there is no way to protect them . The popular struggle of workers and the struggle for the protection of popular rights and freedoms are inextricably linked to the struggle to overthrow this barbarism that is turning enormous scientific and technological potential into new bonds to the detriment of peoples . "
     ]
    }
   ],
   "source": [
    "raw1_26 = 'Costas Papadakis (NI). - Madam President, mutual accusations and vague moral crowns; it is all a trade war over who will take the lead in the digital economy. The United States, China or the European Union? Equipped with relevant digital agreements that serve the interests of groups and under the guise of personal data protection, the European Union and the United States compete for the control of the mass recording, dossier, marketing and exploitation of data by government and other services and groups, with criterion their astronomical gains, which - in fact - are multiple in the midst of a pandemic. At the same time, they cooperate by extracting and transmitting personal data and information to the backs of the peoples, intensifying secrecy and repression to the detriment of the movement of the working people. As long as the data, their collection and processing are owned and controlled by the monopolies of the bourgeois states that serve the capitalist exploitation, there is no way to protect them. The popular struggle of workers and the struggle for the protection of popular rights and freedoms are inextricably linked to the struggle to overthrow this barbarism that is turning enormous scientific and technological potential into new bonds to the detriment of peoples.'\n",
    "tokens1_26 = word_tokenize(raw1_26)\n",
    "for word in tokens1_26:\n",
    "    print(word, end=' ')"
   ]
  },
  {
   "cell_type": "code",
   "execution_count": 125,
   "metadata": {},
   "outputs": [
    {
     "name": "stdout",
     "output_type": "stream",
     "text": [
      "Balázs Hidvéghi ( PPE ) . - Madam President . Dear colleagues ! It is now commonplace for internet giants to delete opinions that they don ’ t like ideologically at the touch of a button . The blocking of a US president , regardless of his or her identity and judgment , is completely unacceptable and violates democratic principles . Large social platforms are no longer simply social networks that make it easy to stay in touch with our acquaintances , but online interfaces that affect all areas of life : business , public services , art , culture , public discourse and thus politics . Developments in recent months clearly show that the leaders of technology giants have become political actors restricting freedom of expression where appropriate . In the absence of rules , they abuse their position : they delete , moderate , censor as they please . Much of the political expression now takes place on the World Wide Web , so freedom of expression on the Internet must be ensured at all times . Technology giants can not be the arbiters of the public . Freedom of expression is a cornerstone of democracy and can only be restricted in exceptional cases and by law . If we have laws that regulate the written and electronic press , the same is needed for the internet . There is a need for rules that force Internet giants to operate legally , transparently and verifiably , and do not allow them to arbitrarily restrict the freedom of all of us . "
     ]
    }
   ],
   "source": [
    "raw1_27 = 'Balázs Hidvéghi (PPE). - Madam President. Dear colleagues! It is now commonplace for internet giants to delete opinions that they don’t like ideologically at the touch of a button. The blocking of a US president, regardless of his or her identity and judgment, is completely unacceptable and violates democratic principles. Large social platforms are no longer simply social networks that make it easy to stay in touch with our acquaintances, but online interfaces that affect all areas of life: business, public services, art, culture, public discourse and thus politics. Developments in recent months clearly show that the leaders of technology giants have become political actors restricting freedom of expression where appropriate. In the absence of rules, they abuse their position: they delete, moderate, censor as they please. Much of the political expression now takes place on the World Wide Web, so freedom of expression on the Internet must be ensured at all times. Technology giants cannot be the arbiters of the public. Freedom of expression is a cornerstone of democracy and can only be restricted in exceptional cases and by law. If we have laws that regulate the written and electronic press, the same is needed for the internet. There is a need for rules that force Internet giants to operate legally, transparently and verifiably, and do not allow them to arbitrarily restrict the freedom of all of us.'\n",
    "tokens1_27 = word_tokenize(raw1_27)\n",
    "for word in tokens1_27:\n",
    "    print(word, end=' ')"
   ]
  },
  {
   "cell_type": "code",
   "execution_count": 126,
   "metadata": {},
   "outputs": [
    {
     "name": "stdout",
     "output_type": "stream",
     "text": [
      "Christel Schaldemose ( S & D ) . - Madam President ! Social media today is far more than just virtual yearbooks or isolated chat services . Their distribution and use have made them public spaces . Social media ads turn into news on TV , newspapers and radio , and the news media share their stories on the social platforms , where young people in particular get the majority of their news . Here , the citizens influence the politicians , and the politicians influence the citizens . There is no doubt that social media plays a major role in the democratic conversation , and therefore we must insist on democratic rules of the game . It is a complicated task to regulate the virtual public space . I believe we must have 3 principles for further work , legality , transparency and redress . What is legal offline must also be legal online . That must be our first principle . It must not be the taste judgment of social media that restricts freedom of expression . Next , there must be transparency in the decisions of the platforms . As a legislator , we must be able to gain insight into the algorithms that promote or inhibit notices , and into the decisions that form the basis for removing notices . And finally , there must be appeal options so that users on social media can have their case tried if their content is removed . We must ensure the best conditions for democratic dialogue , even when it takes place virtually . That is why it is a very important debate we have today . "
     ]
    }
   ],
   "source": [
    "raw1_28 = 'Christel Schaldemose (S&D). - Madam President! Social media today is far more than just virtual yearbooks or isolated chat services. Their distribution and use have made them public spaces. Social media ads turn into news on TV, newspapers and radio, and the news media share their stories on the social platforms, where young people in particular get the majority of their news. Here, the citizens influence the politicians, and the politicians influence the citizens. There is no doubt that social media plays a major role in the democratic conversation, and therefore we must insist on democratic rules of the game. It is a complicated task to regulate the virtual public space. I believe we must have 3 principles for further work, legality, transparency and redress. What is legal offline must also be legal online. That must be our first principle. It must not be the taste judgment of social media that restricts freedom of expression. Next, there must be transparency in the decisions of the platforms. As a legislator, we must be able to gain insight into the algorithms that promote or inhibit notices, and into the decisions that form the basis for removing notices. And finally, there must be appeal options so that users on social media can have their case tried if their content is removed. We must ensure the best conditions for democratic dialogue, even when it takes place virtually. That is why it is a very important debate we have today.'\n",
    "tokens1_28 = word_tokenize(raw1_28)\n",
    "for word in tokens1_28:\n",
    "    print(word, end=' ')"
   ]
  },
  {
   "cell_type": "code",
   "execution_count": 127,
   "metadata": {},
   "outputs": [
    {
     "name": "stdout",
     "output_type": "stream",
     "text": [
      "Maite Pagazaurtundúa ( Renew ) . – Madam President , Madam Commissioner , Madam Zacarias , right now there are anti-democratic viruses circulating on social networks that nullify the democratic immune system of many people . Forming tribes around dogmas of ideological hostility is simple and has consequences in our real lives . All totalitarianisms begin by disqualifying the adversaries , by dehumanizing them . We talk about democratic control of social networks , but the first space is that of those of us who hold public office , and very especially of people with government responsibilities . Encouraging ideological hostility from governments is the most serious game : we have seen it in the United States , in Russia , in Hungary , in the Catalan region ; We know it with the second vice president of my country , Pablo Iglesias . Commissioner Jourová , it would be interesting to have a European code of ethics for the use of social networks by public authorities and public officials , as a way of clarifying and establishing the standards of behavior required of public and government officials . This code would be a basis for the Member States to incorporate this type of criteria into their national regulations on good governance . "
     ]
    }
   ],
   "source": [
    "raw1_29 = 'Maite Pagazaurtundúa (Renew). – Madam President, Madam Commissioner, Madam Zacarias, right now there are anti-democratic viruses circulating on social networks that nullify the democratic immune system of many people. Forming tribes around dogmas of ideological hostility is simple and has consequences in our real lives. All totalitarianisms begin by disqualifying the adversaries, by dehumanizing them. We talk about democratic control of social networks, but the first space is that of those of us who hold public office, and very especially of people with government responsibilities. Encouraging ideological hostility from governments is the most serious game: we have seen it in the United States, in Russia, in Hungary, in the Catalan region; We know it with the second vice president of my country, Pablo Iglesias. Commissioner Jourová, it would be interesting to have a European code of ethics for the use of social networks by public authorities and public officials, as a way of clarifying and establishing the standards of behavior required of public and government officials. This code would be a basis for the Member States to incorporate this type of criteria into their national regulations on good governance.'\n",
    "tokens1_29 = word_tokenize(raw1_29)\n",
    "for word in tokens1_29:\n",
    "    print(word, end=' ')"
   ]
  },
  {
   "cell_type": "code",
   "execution_count": 128,
   "metadata": {},
   "outputs": [
    {
     "name": "stdout",
     "output_type": "stream",
     "text": [
      "Philippe Olivier ( ID ) . – Madam President , ladies and gentlemen , what is freedom of expression if you are forbidden paper and ink ? Yet this is what is happening today around the world for citizens , activists , personalities and elected officials who see themselves arbitrarily censored by social networks , without prior conviction and without the possibility of appeal . Thus , in France , is this the case , for example , of senator LR Sébastien Meurant , ex-LREM deputy Joaquim Son-Forget or even deputy Emmanuelle Ménard , all three censored by Twitter for having thought otherwise . To put forward a different idea is not a crime , it is a right . Our European Parliament would grow to defend freedom of expression against the new censors that are the giants of the Net . It is an uphill battle , but freedom of expression only makes sense if it protects ideas , all ideas , even those that may go against the grain . The others , the official truths , as we know , are accepted even in the worst dictatorships . "
     ]
    }
   ],
   "source": [
    "raw1_30 = 'Philippe Olivier (ID). – Madam President, ladies and gentlemen, what is freedom of expression if you are forbidden paper and ink? Yet this is what is happening today around the world for citizens, activists, personalities and elected officials who see themselves arbitrarily censored by social networks, without prior conviction and without the possibility of appeal. Thus, in France, is this the case, for example, of senator LR Sébastien Meurant, ex-LREM deputy Joaquim Son-Forget or even deputy Emmanuelle Ménard, all three censored by Twitter for having thought otherwise. To put forward a different idea is not a crime, it is a right. Our European Parliament would grow to defend freedom of expression against the new censors that are the giants of the Net. It is an uphill battle, but freedom of expression only makes sense if it protects ideas, all ideas, even those that may go against the grain. The others, the official truths, as we know, are accepted even in the worst dictatorships.'\n",
    "tokens1_30 = word_tokenize(raw1_30)\n",
    "for word in tokens1_30:\n",
    "    print(word, end=' ')"
   ]
  },
  {
   "cell_type": "code",
   "execution_count": 129,
   "metadata": {},
   "outputs": [
    {
     "name": "stdout",
     "output_type": "stream",
     "text": [
      "Patrick Breyer ( Verts/ALE ) . – Madam President , if the dominant internet platforms were states , they would be dictatorships that use an army of robots to spy on their citizens and manipulate them , that dictate the news headlines , that arbitrarily censor what their citizens may say , that cut off communication channels with citizens of other countries , that expel them at will from their country . The EU must stop putting these tech despots and their error—prone machines in charge of curing society and of preventing violence and crime , lies and hate because this only fuels the despot ’ s powers , and despots will use despotic means . The weapons of a democracy are humans , the rule of law and independent courts to take decisions . Let ’ s start setting up our own federated platforms and make corporate platforms interconnect . Let democracy reign in the digital age , not corporations and their machines . "
     ]
    }
   ],
   "source": [
    "raw1_31 = 'Patrick Breyer (Verts/ALE). – Madam President, if the dominant internet platforms were states, they would be dictatorships that use an army of robots to spy on their citizens and manipulate them, that dictate the news headlines, that arbitrarily censor what their citizens may say, that cut off communication channels with citizens of other countries, that expel them at will from their country. The EU must stop putting these tech despots and their error—prone machines in charge of curing society and of preventing violence and crime, lies and hate because this only fuels the despot’s powers, and despots will use despotic means. The weapons of a democracy are humans, the rule of law and independent courts to take decisions. Let’s start setting up our own federated platforms and make corporate platforms interconnect. Let democracy reign in the digital age, not corporations and their machines.'\n",
    "tokens1_31 = word_tokenize(raw1_31)\n",
    "for word in tokens1_31:\n",
    "    print(word, end=' ')"
   ]
  },
  {
   "cell_type": "code",
   "execution_count": 130,
   "metadata": {},
   "outputs": [
    {
     "name": "stdout",
     "output_type": "stream",
     "text": [
      "Robert Roos ( ECR ) . – ( NL ) Mr President , big tech is too powerful and its power must be broken . Citizens who intervene in the public debate are digitally steered in a certain direction or even silenced through selective algorithms and moderation . That is unacceptable . Social media platforms are the soapboxes of the twenty-first century : a platform where everyone can express their opinion , however controversial , unwelcome or contrary . The debate must therefore be able to be conducted in complete freedom , both online and offline , without interference from any public authority and without respect for borders . This is stated in Article 11 of the Charter of Fundamental Rights of the European Union and is a fundamental principle that must always be respected in this House . We must fight illegal content , child pornography and incitement to violence , but protect freedom of expression . The sole filtering function in the immeasurable spectrum of opinion should not be defined by the EU or big tech oligarchs with a political agenda , but by the power of public debate itself . "
     ]
    }
   ],
   "source": [
    "raw1_32 = 'Robert Roos (ECR). – (NL) Mr President, big tech is too powerful and its power must be broken. Citizens who intervene in the public debate are digitally steered in a certain direction or even silenced through selective algorithms and moderation. That is unacceptable. Social media platforms are the soapboxes of the twenty-first century: a platform where everyone can express their opinion, however controversial, unwelcome or contrary. The debate must therefore be able to be conducted in complete freedom, both online and offline, without interference from any public authority and without respect for borders. This is stated in Article 11 of the Charter of Fundamental Rights of the European Union and is a fundamental principle that must always be respected in this House. We must fight illegal content, child pornography and incitement to violence, but protect freedom of expression. The sole filtering function in the immeasurable spectrum of opinion should not be defined by the EU or big tech oligarchs with a political agenda, but by the power of public debate itself.'\n",
    "tokens1_32 = word_tokenize(raw1_32)\n",
    "for word in tokens1_32:\n",
    "    print(word, end=' ')"
   ]
  },
  {
   "cell_type": "code",
   "execution_count": 131,
   "metadata": {},
   "outputs": [
    {
     "name": "stdout",
     "output_type": "stream",
     "text": [
      "Márton Gyöngyösi ( NI ) . – Madam President , while the internet widened the scope of social dialogue and freedom of speech , the past decade revealed the unfortunate truth that the internet also grants unlimited space for extremist ideologies . It also showed that dangerous groups and echo chambers can be formed not only in the Third World with deep social divisions , but also in the United States and elsewhere in the developed world . Populists are quick to exploit the advantages offered by social media , and where they have a grip on power they already started speaking about regulating it themselves . In my native Hungary , the Orbán government is already drafting national legislation to regulate social media and the internet . We have no doubt about their real intentions : provide legal protection for the next smear campaign and sabotage the work of the opposition . Self-regulation is no longer sufficient . It requires action internationally and simultaneously in fighting fake news and shaping public democratic discourse . It is high time to create a European public media service . "
     ]
    }
   ],
   "source": [
    "raw1_33 = 'Márton Gyöngyösi (NI). – Madam President, while the internet widened the scope of social dialogue and freedom of speech, the past decade revealed the unfortunate truth that the internet also grants unlimited space for extremist ideologies. It also showed that dangerous groups and echo chambers can be formed not only in the Third World with deep social divisions, but also in the United States and elsewhere in the developed world. Populists are quick to exploit the advantages offered by social media, and where they have a grip on power they already started speaking about regulating it themselves. In my native Hungary, the Orbán government is already drafting national legislation to regulate social media and the internet. We have no doubt about their real intentions: provide legal protection for the next smear campaign and sabotage the work of the opposition. Self-regulation is no longer sufficient. It requires action internationally and simultaneously in fighting fake news and shaping public democratic discourse. It is high time to create a European public media service.'\n",
    "tokens1_33 = word_tokenize(raw1_33)\n",
    "for word in tokens1_33:\n",
    "    print(word, end=' ')"
   ]
  },
  {
   "cell_type": "code",
   "execution_count": 132,
   "metadata": {},
   "outputs": [
    {
     "name": "stdout",
     "output_type": "stream",
     "text": [
      "Sven Simon ( EPP ) . – Madam President ! Ladies and gentlemen ! Social media are both an opportunity and a threat to democracy . When we talk about democratic control of social media and the protection of fundamental rights , it goes to the heart of our liberal democracy . Democracy , the rule of law , but above all fundamental rights that can be enforced individually – that is our European identity . The fundamental right to freedom of expression is of fundamental importance . If we want to protect it and at the same time fight fake news , then we must first of all start with ourselves , and when we communicate ourselves , not spread false facts in the political space . For example , when we talk about the Mercosur agreement in international trade agreements , we have to stick to the facts . When we talk about vaccination policy in Europe and what is in the contract with AstraZeneca , for example , the institutions of the European Union have to stick to the truth and the facts . Only then will we gain trust and credibility . I am pleased that we are in agreement in this debate that the restriction of and interference with freedom of expression may only take place in accordance with the law and that we must not leave this to private individuals in Europe and around the world . "
     ]
    }
   ],
   "source": [
    "raw1_34 = 'Sven Simon (EPP). – Madam President! Ladies and gentlemen! Social media are both an opportunity and a threat to democracy. When we talk about democratic control of social media and the protection of fundamental rights, it goes to the heart of our liberal democracy. Democracy, the rule of law, but above all fundamental rights that can be enforced individually – that is our European identity. The fundamental right to freedom of expression is of fundamental importance. If we want to protect it and at the same time fight fake news, then we must first of all start with ourselves, and when we communicate ourselves, not spread false facts in the political space. For example, when we talk about the Mercosur agreement in international trade agreements, we have to stick to the facts. When we talk about vaccination policy in Europe and what is in the contract with AstraZeneca, for example, the institutions of the European Union have to stick to the truth and the facts. Only then will we gain trust and credibility. I am pleased that we are in agreement in this debate that the restriction of and interference with freedom of expression may only take place in accordance with the law and that we must not leave this to private individuals in Europe and around the world.'\n",
    "tokens1_34 = word_tokenize(raw1_34)\n",
    "for word in tokens1_34:\n",
    "    print(word, end=' ')"
   ]
  },
  {
   "cell_type": "code",
   "execution_count": 133,
   "metadata": {},
   "outputs": [
    {
     "name": "stdout",
     "output_type": "stream",
     "text": [
      "Paul Tang ( S & D ) . – Madam President , one minute , for one point . Our societies are too dependent on a few big social media platforms , most notably Facebook , Twitter , YouTube . They determine what we see and when , not based on journalistic standards , but on popularity , anything that keeps our attention . In traditional media we have nurtured editorial independence and diversity , leading to a variety of newspapers and broadcast companies . Indeed , this is essential for an informed , balanced , free public debate , and social media should be no exception . So we need to strengthen the digital service sector in the Digital Markets Act , break with the deliberate business model of personalised ads , through which Facebook and Google cornered the market much to the detriment of ordinary publishers and assure access entry . We don ’ t need less Facebook , we need more Facebooks , we need a variety of Facebooks , we need diversity . "
     ]
    }
   ],
   "source": [
    "raw1_35 = 'Paul Tang (S&D). – Madam President, one minute, for one point. Our societies are too dependent on a few big social media platforms, most notably Facebook, Twitter, YouTube. They determine what we see and when, not based on journalistic standards, but on popularity, anything that keeps our attention. In traditional media we have nurtured editorial independence and diversity, leading to a variety of newspapers and broadcast companies. Indeed, this is essential for an informed, balanced, free public debate, and social media should be no exception. So we need to strengthen the digital service sector in the Digital Markets Act, break with the deliberate business model of personalised ads, through which Facebook and Google cornered the market much to the detriment of ordinary publishers and assure access entry. We don’t need less Facebook, we need more Facebooks, we need a variety of Facebooks, we need diversity.'\n",
    "tokens1_35 = word_tokenize(raw1_35)\n",
    "for word in tokens1_35:\n",
    "    print(word, end=' ')"
   ]
  },
  {
   "cell_type": "code",
   "execution_count": 134,
   "metadata": {},
   "outputs": [
    {
     "name": "stdout",
     "output_type": "stream",
     "text": [
      "Moritz Körner ( Renew ) . – Madam President , dear colleagues ! We were all startled by the pictures of the Capitol . But we all also remember this young senator who also used social media to become the first black president . Both Trump and Obama were elected with the help of social media . It is not social media that is good or bad . It is what we do with it , what rules we give it . Instead of restricting freedom of expression with upload filters , we should have more transparency about algorithms and give users more options . Instead of letting private companies decide what is illegal , courts must continue to decide and we need better cooperation with authorities . We will continue to see people writing nonsense on the internet . But we should better protect our democracies against external disinformation campaigns . More freedom of expression is what we must deal with - with smart rules - not by restricting it . That must be the European way for the future . "
     ]
    }
   ],
   "source": [
    "raw1_36 = 'Moritz Körner (Renew). – Madam President, dear colleagues! We were all startled by the pictures of the Capitol. But we all also remember this young senator who also used social media to become the first black president. Both Trump and Obama were elected with the help of social media. It is not social media that is good or bad. It is what we do with it, what rules we give it. Instead of restricting freedom of expression with upload filters, we should have more transparency about algorithms and give users more options. Instead of letting private companies decide what is illegal, courts must continue to decide and we need better cooperation with authorities. We will continue to see people writing nonsense on the internet. But we should better protect our democracies against external disinformation campaigns. More freedom of expression is what we must deal with - with smart rules - not by restricting it. That must be the European way for the future.'\n",
    "tokens1_36 = word_tokenize(raw1_36)\n",
    "for word in tokens1_36:\n",
    "    print(word, end=' ')"
   ]
  },
  {
   "cell_type": "code",
   "execution_count": 135,
   "metadata": {},
   "outputs": [
    {
     "name": "stdout",
     "output_type": "stream",
     "text": [
      "Roman Haider ( ID ) . – Madam President ! Yes , I am always reminded of George Orwell when it comes to freedom of expression and the new media in the EU . You say “ disinformation ” , but what you really mean is politically unwelcome opinions . You say “ media pluralism ” but you mean pro-government media . And when you speak of “ civil society ” , you are only talking about groups that are politically opportune to you . And citizen involvement is only desired as long as it does not deviate from the specified course . And right now , when the failure of the EU is obvious to all citizens , right now , of course , you really want to take action against so-called disinformation . Otherwise the citizens could ask themselves uncomfortable questions , for example why trillions of euros are being redistributed but there is no money at all for effective vaccines . Or why the EU wants to destroy its own industry through the Green Deal in the middle of the economic crisis . Or why the EU wants to open the floodgates for migrants . Of course you have to keep the lid on . That is why we have this action plan ! Your policies are not only endangering the health of the citizens , your policies are not only endangering the jobs of the citizens , your policies are endangering above all the freedom of the citizens ! "
     ]
    }
   ],
   "source": [
    "raw1_37 = 'Roman Haider (ID). – Madam President! Yes, I am always reminded of George Orwell when it comes to freedom of expression and the new media in the EU. You say “disinformation”, but what you really mean is politically unwelcome opinions. You say “media pluralism” but you mean pro-government media. And when you speak of “civil society”, you are only talking about groups that are politically opportune to you. And citizen involvement is only desired as long as it does not deviate from the specified course. And right now, when the failure of the EU is obvious to all citizens, right now, of course, you really want to take action against so-called disinformation. Otherwise the citizens could ask themselves uncomfortable questions, for example why trillions of euros are being redistributed but there is no money at all for effective vaccines. Or why the EU wants to destroy its own industry through the Green Deal in the middle of the economic crisis. Or why the EU wants to open the floodgates for migrants. Of course you have to keep the lid on. That is why we have this action plan! Your policies are not only endangering the health of the citizens, your policies are not only endangering the jobs of the citizens, your policies are endangering above all the freedom of the citizens!'\n",
    "tokens1_37 = word_tokenize(raw1_37)\n",
    "for word in tokens1_37:\n",
    "    print(word, end=' ')"
   ]
  },
  {
   "cell_type": "code",
   "execution_count": 136,
   "metadata": {},
   "outputs": [
    {
     "name": "stdout",
     "output_type": "stream",
     "text": [
      "Sergey Lagodinsky ( Verts/ALE ) . – Madam President ! What we have been experiencing for years is a change in our public discourse space . These changes are manifold – we have heard it . There are opportunities and there are risks . We are in the middle of a conflict of objectives over the issue of order in the digital age . This is a conflict between freedom that empowers and freedom that insults , incapacitates and demeans . We are looking for solutions . But the worst possible solution is if we let private providers make decisions about this . We may rejoice that the hate of Trump and hate speech has now died down . But I can not be happy that this decision was made by a private company . Today freedom of expression on - tomorrow freedom of expression off . Therefore we have to make at least three decisions . Firstly , online monopolies must be broken up . Second : Decisions to resolve this conflict between freedom and liberty must remain democratically legitimized . And : Such events must not be automated . Neither AI nor big money should decide about our fundamental rights . "
     ]
    }
   ],
   "source": [
    "raw1_38 = 'Sergey Lagodinsky (Verts/ALE). – Madam President! What we have been experiencing for years is a change in our public discourse space. These changes are manifold – we have heard it. There are opportunities and there are risks. We are in the middle of a conflict of objectives over the issue of order in the digital age. This is a conflict between freedom that empowers and freedom that insults, incapacitates and demeans. We are looking for solutions. But the worst possible solution is if we let private providers make decisions about this. We may rejoice that the hate of Trump and hate speech has now died down. But I cannot be happy that this decision was made by a private company. Today freedom of expression on - tomorrow freedom of expression off. Therefore we have to make at least three decisions. Firstly, online monopolies must be broken up. Second: Decisions to resolve this conflict between freedom and liberty must remain democratically legitimized. And: Such events must not be automated. Neither AI nor big money should decide about our fundamental rights.'\n",
    "tokens1_38 = word_tokenize(raw1_38)\n",
    "for word in tokens1_38:\n",
    "    print(word, end=' ')"
   ]
  },
  {
   "cell_type": "code",
   "execution_count": 137,
   "metadata": {},
   "outputs": [
    {
     "name": "stdout",
     "output_type": "stream",
     "text": [
      "Herman Tertsch ( ECR ) . – Madam President , now it is alarming how similarities between liberal democracies and totalitarian states are increasing . To the restrictions of rights and freedoms with the pandemic are added the attacks on freedom of expression on networks . The supposed moderation and verification is already shameless censorship . The victim of everything is the one who dissents from the social-democratic consensus of the establishment . It has happened to President Trump and it has happened to my party , whose Twitter account was ignominiously closed one day before the Catalan election campaign began . Internet service providers must choose : either they are neutral and not responsible for the content , or they are media outlets with a political line and are criminally liable for what they publish , like all media outlets . It is unacceptable that Europeans unreservedly receive lying propaganda from the criminal Maduro , from the Iranian dictatorship , but accounts are closed to Vox , its followers or journalists for ideological reasons . These attacks on freedom and democracy by foreign private companies can not be tolerated . And the nations must have jurisdiction to defend their fundamental freedoms . "
     ]
    }
   ],
   "source": [
    "raw1_39 = 'Herman Tertsch (ECR). – Madam President, now it is alarming how similarities between liberal democracies and totalitarian states are increasing. To the restrictions of rights and freedoms with the pandemic are added the attacks on freedom of expression on networks. The supposed moderation and verification is already shameless censorship. The victim of everything is the one who dissents from the social-democratic consensus of the establishment. It has happened to President Trump and it has happened to my party, whose Twitter account was ignominiously closed one day before the Catalan election campaign began. Internet service providers must choose: either they are neutral and not responsible for the content, or they are media outlets with a political line and are criminally liable for what they publish, like all media outlets. It is unacceptable that Europeans unreservedly receive lying propaganda from the criminal Maduro, from the Iranian dictatorship, but accounts are closed to Vox, its followers or journalists for ideological reasons. These attacks on freedom and democracy by foreign private companies cannot be tolerated. And the nations must have jurisdiction to defend their fundamental freedoms.'\n",
    "tokens1_39 = word_tokenize(raw1_39)\n",
    "for word in tokens1_39:\n",
    "    print(word, end=' ')"
   ]
  },
  {
   "cell_type": "code",
   "execution_count": 138,
   "metadata": {},
   "outputs": [
    {
     "name": "stdout",
     "output_type": "stream",
     "text": [
      "Carles Puigdemont i Casamajó ( NI ) . – Madam President , it has become fashionable to say that social media must be controlled . However , one wonders who will surveil the surveiller . Censorship in social media is a slippery slope and , except in very exceptional cases , it is not justified . But let me be clear : opinion must be free , but fascism is not an opinion . It is a crime . But who can assure us that the rules created today will not be used against minorities tomorrow ? Social media has been an area for debate and free speech that a lot of the time has called into question the official narratives that big economic and political powers have tried to impose on us . That is real progress for all of our citizens , who can express themselves without constraints . With social media the flow of ideas runs freer than ever . Free speech is a human right and we must defend it as such . "
     ]
    }
   ],
   "source": [
    "raw1_40 = 'Carles Puigdemont i Casamajó (NI). – Madam President, it has become fashionable to say that social media must be controlled. However, one wonders who will surveil the surveiller. Censorship in social media is a slippery slope and, except in very exceptional cases, it is not justified. But let me be clear: opinion must be free, but fascism is not an opinion. It is a crime. But who can assure us that the rules created today will not be used against minorities tomorrow? Social media has been an area for debate and free speech that a lot of the time has called into question the official narratives that big economic and political powers have tried to impose on us. That is real progress for all of our citizens, who can express themselves without constraints. With social media the flow of ideas runs freer than ever. Free speech is a human right and we must defend it as such.'\n",
    "tokens1_40 = word_tokenize(raw1_40)\n",
    "for word in tokens1_40:\n",
    "    print(word, end=' ')"
   ]
  },
  {
   "cell_type": "code",
   "execution_count": 139,
   "metadata": {},
   "outputs": [
    {
     "name": "stdout",
     "output_type": "stream",
     "text": [
      "Milan Zver ( PPE ) . - Madam President , social or social networks have become a platform where not only private but also public speech takes place . The recent decision by a private online platform to remove the profile of a democratically elected president is a dangerous precedent . No one , not even the private owners of online platforms , should deprive anyone of the right to express themselves . This can only happen in exceptional circumstances on the basis of a democratically passed law . From a formal point of view , Twitter can be private property , and by its function it is a deeply social entity . Therefore , freedom of expression in a democratic society based on the rule of law has an essential and irreplaceable value . Freedom of political speech is a litmus test for the state of democracy in society . About 2400 years ago , Diogenes was asked what is the most beautiful thing in life . He replied that freedom of speech . Because of the word , a huge number of free-thinking people died and suffered behind him . Let the new ICT technologies not shrink our space of freedom , but on the contrary , let them expand it . If we are to regulate this matter in the EU , we must , above all , provide equal access to universal means of communication , services , and , above all , clear responsibility for the private digital giants who run social networks . "
     ]
    }
   ],
   "source": [
    "raw1_41 = 'Milan Zver (PPE). - Madam President, social or social networks have become a platform where not only private but also public speech takes place. The recent decision by a private online platform to remove the profile of a democratically elected president is a dangerous precedent. No one, not even the private owners of online platforms, should deprive anyone of the right to express themselves. This can only happen in exceptional circumstances on the basis of a democratically passed law. From a formal point of view, Twitter can be private property, and by its function it is a deeply social entity. Therefore, freedom of expression in a democratic society based on the rule of law has an essential and irreplaceable value. Freedom of political speech is a litmus test for the state of democracy in society. About 2400 years ago, Diogenes was asked what is the most beautiful thing in life. He replied that freedom of speech. Because of the word, a huge number of free-thinking people died and suffered behind him. Let the new ICT technologies not shrink our space of freedom, but on the contrary, let them expand it. If we are to regulate this matter in the EU, we must, above all, provide equal access to universal means of communication, services, and, above all, clear responsibility for the private digital giants who run social networks.'\n",
    "tokens1_41 = word_tokenize(raw1_41)\n",
    "for word in tokens1_41:\n",
    "    print(word, end=' ')"
   ]
  },
  {
   "cell_type": "code",
   "execution_count": 140,
   "metadata": {},
   "outputs": [
    {
     "name": "stdout",
     "output_type": "stream",
     "text": [
      "Łukasz Kohut ( S & D ) . - Madam President ! Today we are debating the democratic control of social media . What if democracy is no more ? If government authoritarian propaganda seizes new channels of communication and cuts off new areas of freedom with the tactic of salami ? In Poland , the protest of independent media has been going on since the morning . The PiS government , under the guise of a pandemic , wants to impose another tax on them , at the same time adding two billion zlotys to the state media annually . The authoritarian system is closing down . Polish tango continues with civil society and international institutions . Poland is becoming an undemocratic state in front of Europe . Exactly like Hungary . First they came for the judges , then they came for the women , and now they came for the independent journalists . So , from this place , from the heart of European democracy , I say decisively : we can not allow the autocrats to destroy the beautiful history of European integration . You just have to act - and do it as quickly as possible . It is necessary to suspend the voice of the autocratic governments of Poland and Hungary in the European Council , to take that voice away from them . There is nothing to wait for anymore . "
     ]
    }
   ],
   "source": [
    "raw1_42 = 'Łukasz Kohut (S&D). - Madam President! Today we are debating the democratic control of social media. What if democracy is no more? If government authoritarian propaganda seizes new channels of communication and cuts off new areas of freedom with the tactic of salami? In Poland, the protest of independent media has been going on since the morning. The PiS government, under the guise of a pandemic, wants to impose another tax on them, at the same time adding two billion zlotys to the state media annually. The authoritarian system is closing down. Polish tango continues with civil society and international institutions. Poland is becoming an undemocratic state in front of Europe. Exactly like Hungary. First they came for the judges, then they came for the women, and now they came for the independent journalists. So, from this place, from the heart of European democracy, I say decisively: we cannot allow the autocrats to destroy the beautiful history of European integration. You just have to act - and do it as quickly as possible. It is necessary to suspend the voice of the autocratic governments of Poland and Hungary in the European Council, to take that voice away from them. There is nothing to wait for anymore.'\n",
    "tokens1_42 = word_tokenize(raw1_42)\n",
    "for word in tokens1_42:\n",
    "    print(word, end=' ')"
   ]
  },
  {
   "cell_type": "code",
   "execution_count": 141,
   "metadata": {},
   "outputs": [
    {
     "name": "stdout",
     "output_type": "stream",
     "text": [
      "Ramona Strugariu ( Renew ) . – Madam President , increasing responsibility and transparency on social media platforms must be at the core of our strategy for protecting fundamental rights and democracy in the digital sphere . Self-regulation has proved not enough , obviously . However , over-regulating is also not a solution . Just as rules apply for the democratic debate offline , they need to be adapted for the digital age . The balance lies in refraining from censorship and in establishing clear and predictable lines so that we do not suppress democracy in our attempt to protect it . Transparency is fundamental . As users , we need to be aware of who pays for what , why we see a certain content , whether that content was altered , who and what is behind what we see online . We need to follow the money , especially when it comes to political advertising . Last but not least , education is fundamental . We must not and can not build ministries of truth , but we can educate people so that they understand that such ministries actually do not exist . "
     ]
    }
   ],
   "source": [
    "raw1_43 = 'Ramona Strugariu (Renew). – Madam President, increasing responsibility and transparency on social media platforms must be at the core of our strategy for protecting fundamental rights and democracy in the digital sphere. Self-regulation has proved not enough, obviously. However, over-regulating is also not a solution. Just as rules apply for the democratic debate offline, they need to be adapted for the digital age. The balance lies in refraining from censorship and in establishing clear and predictable lines so that we do not suppress democracy in our attempt to protect it. Transparency is fundamental. As users, we need to be aware of who pays for what, why we see a certain content, whether that content was altered, who and what is behind what we see online. We need to follow the money, especially when it comes to political advertising. Last but not least, education is fundamental. We must not and cannot build ministries of truth, but we can educate people so that they understand that such ministries actually do not exist.'\n",
    "tokens1_43 = word_tokenize(raw1_43)\n",
    "for word in tokens1_43:\n",
    "    print(word, end=' ')"
   ]
  },
  {
   "cell_type": "code",
   "execution_count": 142,
   "metadata": {},
   "outputs": [
    {
     "name": "stdout",
     "output_type": "stream",
     "text": [
      "Gilles Lebreton ( ID ) . – Madam President , Madam Minister , Madam Commissioner , social media platforms like Facebook or Twitter have arrogated to themselves exorbitant power to regulate freedom of expression on the Internet . They take advantage of this to impose the law of conformism by ruthlessly censoring all ideas that offend , shock or worry , in violation of the Handyside judgment of the European Court of Human Rights , which expressly protects them . Their domination has become such that they have even cut off the accounts of the American president , yet reputed to be the most powerful man in the world . This oppression and censorship has lasted far too long . The European States and the European Union , which is nothing other than their delegate , must regain control of the situation . In accordance with the resolution of October 20 , 2020 of the European Parliament , I call for the strengthening of public control over these platforms in order to guarantee freedom of expression . I further request that any decision to remove illegal content should ultimately only be made by an independent national judiciary and not by a commercial entity . "
     ]
    }
   ],
   "source": [
    "raw1_44 = 'Gilles Lebreton (ID). – Madam President, Madam Minister, Madam Commissioner, social media platforms like Facebook or Twitter have arrogated to themselves exorbitant power to regulate freedom of expression on the Internet. They take advantage of this to impose the law of conformism by ruthlessly censoring all ideas that offend, shock or worry, in violation of the Handyside judgment of the European Court of Human Rights, which expressly protects them. Their domination has become such that they have even cut off the accounts of the American president, yet reputed to be the most powerful man in the world. This oppression and censorship has lasted far too long. The European States and the European Union, which is nothing other than their delegate, must regain control of the situation. In accordance with the resolution of October 20, 2020 of the European Parliament, I call for the strengthening of public control over these platforms in order to guarantee freedom of expression. I further request that any decision to remove illegal content should ultimately only be made by an independent national judiciary and not by a commercial entity.'\n",
    "tokens1_44= word_tokenize(raw1_44)\n",
    "for word in tokens1_44:\n",
    "    print(word, end=' ')"
   ]
  },
  {
   "cell_type": "code",
   "execution_count": 143,
   "metadata": {},
   "outputs": [
    {
     "name": "stdout",
     "output_type": "stream",
     "text": [
      "Kim Van Sparrentak ( Verts/ALE ) . – Madam President , whether you are a political activist , drag queen or the President of the United States , if we let private companies like Twitter and Facebook decide if you can speak freely , we are endangering our democratic society . These same big corporations who have profited for years from the large—scale spread of misinformation are now acting as referees of our public debates . Let me be clear : incentivising platforms to delete even more is not the solution . This only reinforces their current power over our free speech . We have to tackle the root causes . A small number of very large and powerful platforms are controlling our public debate and amplifying fake news and hate on a large scale , specifically targeting certain people for profit . Let ’ s be ambitious in tackling this in the DSA and DMA . Who can say what , where and when should not be up to CEOs and shareholders . Not private companies but our democratic laws should determine the boundaries of our freedoms . Not big tech but judges should decide what is illegal or not . We need to take the power over our freedom of expression out of the hands of private companies and place it firmly back in the hands of the people and our democratic institutions . "
     ]
    }
   ],
   "source": [
    "raw1_45 = 'Kim Van Sparrentak (Verts/ALE). – Madam President, whether you are a political activist, drag queen or the President of the United States, if we let private companies like Twitter and Facebook decide if you can speak freely, we are endangering our democratic society. These same big corporations who have profited for years from the large—scale spread of misinformation are now acting as referees of our public debates. Let me be clear: incentivising platforms to delete even more is not the solution. This only reinforces their current power over our free speech. We have to tackle the root causes. A small number of very large and powerful platforms are controlling our public debate and amplifying fake news and hate on a large scale, specifically targeting certain people for profit. Let’s be ambitious in tackling this in the DSA and DMA. Who can say what, where and when should not be up to CEOs and shareholders. Not private companies but our democratic laws should determine the boundaries of our freedoms. Not big tech but judges should decide what is illegal or not. We need to take the power over our freedom of expression out of the hands of private companies and place it firmly back in the hands of the people and our democratic institutions.'\n",
    "tokens1_45 = word_tokenize(raw1_45)\n",
    "for word in tokens1_45:\n",
    "    print(word, end=' ')"
   ]
  },
  {
   "cell_type": "code",
   "execution_count": 144,
   "metadata": {},
   "outputs": [
    {
     "name": "stdout",
     "output_type": "stream",
     "text": [
      "Angel Dzhambazki ( ECR ) . – Madam President , please show some mercy . Please save us some hypocrisy . Please spare us some crocodile tears on the freedom of speech . To most Europeans with a little common sense , one thing is crystal clear : this House does not care about free speech . We did not see a reaction from the European Parliament when tech giants removed President Trump from their networks in January . We did not see a reaction when Parler was removed from all major app stores . We did not see a reaction when Vox activists were brutally attacked in Barcelona last weekend . Yes , there is pure censorship now in Europe : in Spain , against the only right-wing , traditional , national , conservative political party – Vox . This is provided by Twitter , for example . We didn ’ t see a reaction when this House promoted fake news about so-called ‘ LGBTI—free zones ’ in Poland . On the contrary , this European Parliament promoted such false information . The fact of the matter is that this House does not permit opposing views which attack the liberal consensus . The new politburo will not tolerate diverging opinions which don ’ t accept the agenda of the day . The liberal establishment does not accept views against illegal migration , against NGOs helping human trafficking in the Mediterranean Sea , against the LGBTI ideology and propaganda , or against federalism . The USSR had a one-party system . This European Parliament has a multi-party system , where political parties don ’ t really matter . Nothing . The majority of this House takes the same stance on the issues I mentioned . But do not worry , please . Freedom will always find a way , and liberty will always win . You can not shut us down and we will not be silenced . "
     ]
    }
   ],
   "source": [
    "raw1_46 = 'Angel Dzhambazki (ECR). – Madam President, please show some mercy. Please save us some hypocrisy. Please spare us some crocodile tears on the freedom of speech. To most Europeans with a little common sense, one thing is crystal clear: this House does not care about free speech. We did not see a reaction from the European Parliament when tech giants removed President Trump from their networks in January. We did not see a reaction when Parler was removed from all major app stores. We did not see a reaction when Vox activists were brutally attacked in Barcelona last weekend. Yes, there is pure censorship now in Europe: in Spain, against the only right-wing, traditional, national, conservative political party – Vox. This is provided by Twitter, for example. We didn’t see a reaction when this House promoted fake news about so-called ‘LGBTI—free zones’ in Poland. On the contrary, this European Parliament promoted such false information. The fact of the matter is that this House does not permit opposing views which attack the liberal consensus. The new politburo will not tolerate diverging opinions which don’t accept the agenda of the day. The liberal establishment does not accept views against illegal migration, against NGOs helping human trafficking in the Mediterranean Sea, against the LGBTI ideology and propaganda, or against federalism. The USSR had a one-party system. This European Parliament has a multi-party system, where political parties don’t really matter. Nothing. The majority of this House takes the same stance on the issues I mentioned. But do not worry, please. Freedom will always find a way, and liberty will always win. You cannot shut us down and we will not be silenced.'\n",
    "tokens1_46 = word_tokenize(raw1_46)\n",
    "for word in tokens1_46:\n",
    "    print(word, end=' ')"
   ]
  },
  {
   "cell_type": "code",
   "execution_count": 145,
   "metadata": {},
   "outputs": [
    {
     "name": "stdout",
     "output_type": "stream",
     "text": [
      "Ioannis Lagos ( NI ) . - Madam President , I am an MEP elected like all of you here . We have each received thousands of votes in our homeland to represent what we believe and what the people have sent us here for . How democratic , then , is it that a person we do not even know — an employee of a private company — can deprive us of the right to speak ? That what we have been voted for and for which we are here can deprive us of — that is , the representation of our ideas ? How democratic it is that I personally - and there is evidence of what I am telling you - have been punished so many times by Facebook , YouTube , Twitter and everywhere else for speeches I have made in the European Parliament , in which I express these which I have voted for ? How democratic is it and why is democracy afraid of the opposite view , when I have come here to declare that I am a proud Greek , a Christian , who fights for the rights of all those who voted for me ? Where is the democracy in all this ? If democracy has begun and is so afraid of the opposite view , then I am very afraid that it is not democracy but it is very close to tyranny . "
     ]
    }
   ],
   "source": [
    "raw1_47 ='Ioannis Lagos (NI). - Madam President, I am an MEP elected like all of you here. We have each received thousands of votes in our homeland to represent what we believe and what the people have sent us here for. How democratic, then, is it that a person we do not even know — an employee of a private company — can deprive us of the right to speak? That what we have been voted for and for which we are here can deprive us of — that is, the representation of our ideas? How democratic it is that I personally - and there is evidence of what I am telling you - have been punished so many times by Facebook, YouTube, Twitter and everywhere else for speeches I have made in the European Parliament, in which I express these which I have voted for? How democratic is it and why is democracy afraid of the opposite view, when I have come here to declare that I am a proud Greek, a Christian, who fights for the rights of all those who voted for me? Where is the democracy in all this? If democracy has begun and is so afraid of the opposite view, then I am very afraid that it is not democracy but it is very close to tyranny.'\n",
    "tokens1_47 = word_tokenize(raw1_47)\n",
    "for word in tokens1_47:\n",
    "    print(word, end=' ')"
   ]
  },
  {
   "cell_type": "code",
   "execution_count": 146,
   "metadata": {},
   "outputs": [
    {
     "name": "stdout",
     "output_type": "stream",
     "text": [
      "Vladimír Bilčík ( PPE ) . – Madam President , online media platforms have become some of the most powerful private social actors in history . The situation is unprecedented . In the past , their lack of action has repeatedly led to real world violence and recently they ’ ve suddenly silenced a democratically—elected president . The bottom line is that the freedom of speech of democratically—elected representatives , just like the uncontrolled spread of manipulative disinformation , can not be just a private matter for global companies . Decisions on these issues need democratic scrutiny and regulatory oversight . It is therefore one of the key regulatory challenges of our era to draft a new set of public rules to respond to the power and potential dangers of social media . We need more ambition than is currently envisaged in the recently proposed Digital Services Act , especially when it comes to the responsibility and transparency of online platforms in the fight against hoaxes . The DSA is a much—needed step in the right direction , but we must do more to slow down the pervasive spread of manipulative and harmful content online . We will never be able to put an end to all deceiving lies , but we are surely able to give truth , facts , credible science and democracy a fighting chance in a digital space . I am convinced that Europe and this House must lead these efforts on behalf of all European citizens , who deserve equal protection online across all Member States . "
     ]
    }
   ],
   "source": [
    "raw1_48 = 'Vladimír Bilčík (PPE). – Madam President, online media platforms have become some of the most powerful private social actors in history. The situation is unprecedented. In the past, their lack of action has repeatedly led to real world violence and recently they’ve suddenly silenced a democratically—elected president. The bottom line is that the freedom of speech of democratically—elected representatives, just like the uncontrolled spread of manipulative disinformation, cannot be just a private matter for global companies. Decisions on these issues need democratic scrutiny and regulatory oversight. It is therefore one of the key regulatory challenges of our era to draft a new set of public rules to respond to the power and potential dangers of social media. We need more ambition than is currently envisaged in the recently proposed Digital Services Act, especially when it comes to the responsibility and transparency of online platforms in the fight against hoaxes. The DSA is a much—needed step in the right direction, but we must do more to slow down the pervasive spread of manipulative and harmful content online. We will never be able to put an end to all deceiving lies, but we are surely able to give truth, facts, credible science and democracy a fighting chance in a digital space. I am convinced that Europe and this House must lead these efforts on behalf of all European citizens, who deserve equal protection online across all Member States.'\n",
    "tokens1_48 = word_tokenize(raw1_48)\n",
    "for word in tokens1_48:\n",
    "    print(word, end=' ')"
   ]
  },
  {
   "cell_type": "code",
   "execution_count": 147,
   "metadata": {},
   "outputs": [
    {
     "name": "stdout",
     "output_type": "stream",
     "text": [
      "Brando Benifei ( S & D ) . - Madam President , ladies and gentlemen , what has happened in the United States in recent months shows once again how all-encompassing the power of social media has become , to the extent that it is possible to obscure the President . A power that calls into question the founding values ​​of our societies : democracy , pluralism , freedom of expression and privacy . All this is the consequence of years of practices that have favored manipulation of users for profit reasons , highlighting content based on views , and reinforcing the prejudices of each thanks to an extreme proliferation through data . The right to have your own expression expanded through the payment to have more visibility of your own contents is a false right . And we have seen scandals like Cambridge Analytica . And then it can no longer be postponed . By respecting net neutrality and freedom of expression , we must take absolute power away from social networks . We need to put a stop to harmful practices and therefore we need a new constitution in the digital field which finds in the proposals of the regulation on digital services and markets a fundamental piece on which to build . "
     ]
    }
   ],
   "source": [
    "raw1_49 = 'Brando Benifei (S&D). - Madam President, ladies and gentlemen, what has happened in the United States in recent months shows once again how all-encompassing the power of social media has become, to the extent that it is possible to obscure the President. A power that calls into question the founding values ​​of our societies: democracy, pluralism, freedom of expression and privacy. All this is the consequence of years of practices that have favored manipulation of users for profit reasons, highlighting content based on views, and reinforcing the prejudices of each thanks to an extreme proliferation through data. The right to have your own expression expanded through the payment to have more visibility of your own contents is a false right. And we have seen scandals like Cambridge Analytica. And then it can no longer be postponed. By respecting net neutrality and freedom of expression, we must take absolute power away from social networks. We need to put a stop to harmful practices and therefore we need a new constitution in the digital field which finds in the proposals of the regulation on digital services and markets a fundamental piece on which to build.'\n",
    "tokens1_49 = word_tokenize(raw1_49)\n",
    "for word in tokens1_49:\n",
    "    print(word, end=' ')"
   ]
  },
  {
   "cell_type": "code",
   "execution_count": 148,
   "metadata": {},
   "outputs": [
    {
     "name": "stdout",
     "output_type": "stream",
     "text": [
      "Nicola Beer ( Renew ) . – Madam President , ladies and gentlemen ! Freedom of expression is the basis of our democracy . Exercising freedom of expression is essential for political decision-making and fair and free elections . We live in a media world in which political decision-making takes place digitally . As long as the expression of opinions on the basis of freedom rights is guaranteed in this digital world , we as politicians should not get involved any further . But the reality is now different : freedom of expression on social media platforms is under attack . Some oligopolies of social media platforms set the rules for how decision-making is organized in their terms and conditions . I am not just thinking about the Trump account ; I think of the many accounts that have been blocked accordingly by users who are made almost impossible to understand in any way and to defend themselves against these practices . In the forthcoming Digital Markets Act and the Digital Services Act , we in the European Parliament must set the rules on how freedom of expression on social media platforms is guaranteed for our citizens , because it is a question of restricting civil liberties . And the decision as to which freedoms are to be restricted , this decision belongs in Parliament ! "
     ]
    }
   ],
   "source": [
    "raw1_50 = 'Nicola Beer (Renew). – Madam President, ladies and gentlemen! Freedom of expression is the basis of our democracy. Exercising freedom of expression is essential for political decision-making and fair and free elections. We live in a media world in which political decision-making takes place digitally. As long as the expression of opinions on the basis of freedom rights is guaranteed in this digital world, we as politicians should not get involved any further. But the reality is now different: freedom of expression on social media platforms is under attack. Some oligopolies of social media platforms set the rules for how decision-making is organized in their terms and conditions. I am not just thinking about the Trump account; I think of the many accounts that have been blocked accordingly by users who are made almost impossible to understand in any way and to defend themselves against these practices. In the forthcoming Digital Markets Act and the Digital Services Act, we in the European Parliament must set the rules on how freedom of expression on social media platforms is guaranteed for our citizens, because it is a question of restricting civil liberties. And the decision as to which freedoms are to be restricted, this decision belongs in Parliament!'\n",
    "tokens1_50 = word_tokenize(raw1_50)\n",
    "for word in tokens1_50:\n",
    "    print(word, end=' ')"
   ]
  },
  {
   "cell_type": "code",
   "execution_count": 149,
   "metadata": {},
   "outputs": [
    {
     "name": "stdout",
     "output_type": "stream",
     "text": [
      "Susanna Ceccardi ( ID ) . - Madam President , ladies and gentlemen , in recent years citizens of the whole world have given voice to their thoughts and reflections through social media , fantastic vehicles of freedom , often censored and made inaccessible by the liberticidal dictatorships of the world . But , in recent times , there is a very worrying trend on the part of these communications multinationals . Millions of citizens are censored every day by officials who decide what is right or wrong to think behind a desk . Is it right that de facto monopoly companies have this enormous power ? What is a free man but his word and the thought of him ? Who is it that has the right to judge what is right or wrong ? The judges in the courts or the Facebook and Twitter gentlemen who invented successful applications ? The most disturbing element is that digital oligopolies are appropriating a real public function , namely that of deciding what is tolerable or not in the debate . In the rule of law it is the law that decides what is right or wrong , what is punishable or subject to censorship . These multinationals not only see themselves above the law , but also above European and national taxation . Small business owners and VAT numbers at this moment are harassed by the crisis and by the tax authorities , and perhaps even censored for their ideas on social media . Free citizens who want to have the opportunity to express themselves ask to be able to exercise this inviolable right freely , even on the Internet . Transparency and freedom are first and foremost two European values : let us prove it , also through a correct digital democracy . "
     ]
    }
   ],
   "source": [
    "raw1_51 = 'Susanna Ceccardi (ID). - Madam President, ladies and gentlemen, in recent years citizens of the whole world have given voice to their thoughts and reflections through social media, fantastic vehicles of freedom, often censored and made inaccessible by the liberticidal dictatorships of the world. But, in recent times, there is a very worrying trend on the part of these communications multinationals. Millions of citizens are censored every day by officials who decide what is right or wrong to think behind a desk. Is it right that de facto monopoly companies have this enormous power? What is a free man but his word and the thought of him? Who is it that has the right to judge what is right or wrong? The judges in the courts or the Facebook and Twitter gentlemen who invented successful applications? The most disturbing element is that digital oligopolies are appropriating a real public function, namely that of deciding what is tolerable or not in the debate. In the rule of law it is the law that decides what is right or wrong, what is punishable or subject to censorship. These multinationals not only see themselves above the law, but also above European and national taxation. Small business owners and VAT numbers at this moment are harassed by the crisis and by the tax authorities, and perhaps even censored for their ideas on social media. Free citizens who want to have the opportunity to express themselves ask to be able to exercise this inviolable right freely, even on the Internet. Transparency and freedom are first and foremost two European values: let us prove it, also through a correct digital democracy.'\n",
    "tokens1_51 = word_tokenize(raw1_51)\n",
    "for word in tokens1_51:\n",
    "    print(word, end=' ')"
   ]
  },
  {
   "cell_type": "code",
   "execution_count": 150,
   "metadata": {},
   "outputs": [
    {
     "name": "stdout",
     "output_type": "stream",
     "text": [
      "Rasmus Andresen ( Verts/ALE ) . – Madam President ! `` I thought I was going to die . '' With these words , US Congresswoman Alexandria Ocasio-Cortez describes her fears during the terrorist attack on the US Capitol . It would now be too easy to claim that social media platforms bear sole responsibility for dividing our societies . But the truth is that the business models of big tech companies like Facebook lay the breeding ground for hatred and violence . We have lost control of Big Tech and it is high time we took it back . In a democracy , parliaments have to make the rules , not big digital corporations . Google has a market share of over 90 % in the EU . Our democracy and our economic system are broken when a few corporations dominate our communication and the markets . Consumer rights are being weakened and small businesses are dying . We must democratize the business models of Big Tech and we must not shy away from splitting up large corporations . Let us get started now . "
     ]
    }
   ],
   "source": [
    "raw1_52 = 'Rasmus Andresen (Verts/ALE). – Madam President! \"I thought I was going to die.\" With these words, US Congresswoman Alexandria Ocasio-Cortez describes her fears during the terrorist attack on the US Capitol. It would now be too easy to claim that social media platforms bear sole responsibility for dividing our societies. But the truth is that the business models of big tech companies like Facebook lay the breeding ground for hatred and violence. We have lost control of Big Tech and it is high time we took it back. In a democracy, parliaments have to make the rules, not big digital corporations. Google has a market share of over 90% in the EU. Our democracy and our economic system are broken when a few corporations dominate our communication and the markets. Consumer rights are being weakened and small businesses are dying. We must democratize the business models of Big Tech and we must not shy away from splitting up large corporations. Let us get started now.'\n",
    "tokens1_52 = word_tokenize(raw1_52)\n",
    "for word in tokens1_52:\n",
    "    print(word, end=' ')"
   ]
  },
  {
   "cell_type": "code",
   "execution_count": 151,
   "metadata": {},
   "outputs": [
    {
     "name": "stdout",
     "output_type": "stream",
     "text": [
      "Dace Melbārde ( ECR ) . - Madam President . Colleagues ! I believe that a mechanism must be created at European Union level that does not allow global platforms , authoritarian states or third-country influencers to manipulate the content of our news and thus political decisions and public actions , but restrictions are not enough here . Firstly , favorable conditions must be created for the development of reliable media in the digital environment , so that high-quality media content is primarily available to users , and here the European Union must invest more in independent media and their digitization . Secondly , platforms must be subject to strict and legally binding obligations to deal with abusive and targeted conduct . The Kremlin trolls must not have a place in a democratic information space . And thirdly , global platforms must guarantee equal security for users in the languages ​​of all the Member States of the European Union , not just the major languages . Exactly smaller information spaces , such as the Baltic states , have been defined by the Kremlin as an area of ​​special interest . "
     ]
    }
   ],
   "source": [
    "raw1_53 = 'Dace Melbārde (ECR). - Madam President. Colleagues! I believe that a mechanism must be created at European Union level that does not allow global platforms, authoritarian states or third-country influencers to manipulate the content of our news and thus political decisions and public actions, but restrictions are not enough here. Firstly, favorable conditions must be created for the development of reliable media in the digital environment, so that high-quality media content is primarily available to users, and here the European Union must invest more in independent media and their digitization. Secondly, platforms must be subject to strict and legally binding obligations to deal with abusive and targeted conduct. The Kremlin trolls must not have a place in a democratic information space. And thirdly, global platforms must guarantee equal security for users in the languages ​​of all the Member States of the European Union, not just the major languages. Exactly smaller information spaces, such as the Baltic states, have been defined by the Kremlin as an area of ​​special interest.'\n",
    "tokens1_53 = word_tokenize(raw1_53)\n",
    "for word in tokens1_53:\n",
    "    print(word, end=' ')"
   ]
  },
  {
   "cell_type": "code",
   "execution_count": 152,
   "metadata": {},
   "outputs": [
    {
     "name": "stdout",
     "output_type": "stream",
     "text": [
      "Isabel Wiseler-Lima ( EPP ) . – Madam President , balance is what should characterize a democratic society . Finding the balance between maintaining freedom and combating abuse is the challenge when it comes to social media . Social media has been a tremendous asset for civil society – and therefore for democracy . They have made it possible to divulge the truth , they have allowed gatherings of committed citizens , they allow everyone to freely express their thoughts and to have an audience if necessary . Unfortunately , the dangers of social media ( not to mention criminal activity ) are just as great , and the damage to democracy is catastrophic . Indeed , social media is also a platform for hatred of all kinds , for the most total disinformation and for conspiracy theories , and all this most often with complete impunity . The need for legislation is imperative . However , our public authorities are too slow . One can criticize the closing of the Twitter account of Donald Trump by the platform , but was the solution to leave it open ? We must take into account the dangers to democracy . Too often , under the guise of `` democracy '' , democracy proves weak . I believe it is the duty of democracy to defend itself . My freedom ends where the freedom of the other begins . Freedoms in democracy stop where democracy is in danger . The vacuum left by political power – democratically elected – is unacceptable . The responsibility can not be left to the platforms . It is up to us to set the limits , to legislate , and quickly ! "
     ]
    }
   ],
   "source": [
    "raw1_54 = 'Isabel Wiseler-Lima (EPP). – Madam President, balance is what should characterize a democratic society. Finding the balance between maintaining freedom and combating abuse is the challenge when it comes to social media. Social media has been a tremendous asset for civil society – and therefore for democracy. They have made it possible to divulge the truth, they have allowed gatherings of committed citizens, they allow everyone to freely express their thoughts and to have an audience if necessary. Unfortunately, the dangers of social media (not to mention criminal activity) are just as great, and the damage to democracy is catastrophic. Indeed, social media is also a platform for hatred of all kinds, for the most total disinformation and for conspiracy theories, and all this most often with complete impunity. The need for legislation is imperative. However, our public authorities are too slow. One can criticize the closing of the Twitter account of Donald Trump by the platform, but was the solution to leave it open? We must take into account the dangers to democracy. Too often, under the guise of \"democracy\", democracy proves weak. I believe it is the duty of democracy to defend itself. My freedom ends where the freedom of the other begins. Freedoms in democracy stop where democracy is in danger. The vacuum left by political power – democratically elected – is unacceptable. The responsibility cannot be left to the platforms. It is up to us to set the limits, to legislate, and quickly!'\n",
    "tokens1_54 = word_tokenize(raw1_54)\n",
    "for word in tokens1_54:\n",
    "    print(word, end=' ')"
   ]
  },
  {
   "cell_type": "code",
   "execution_count": 153,
   "metadata": {},
   "outputs": [
    {
     "name": "stdout",
     "output_type": "stream",
     "text": [
      "Miapetra Kumpula-Natri ( S & D ) . - ( FI ) Mr President , ladies and gentlemen , the initial , open Internet has ended up in the hands of a few companies . Algorithms that run social media can affect election results and exacerbate violent confrontations . False news can destabilize societies . Until the next Case Capitol takes place , we don ’ t want to have to wonder who is responsible for deleting false news or closing an account . The answer can not be , no one is responsible . It is the responsibility of democratically elected decision-makers to keep legislation , including platforms , up to date . The EU must protect the fundamental rights of its citizens , including the security of social media . Transparency and the possibility of auditing must be required . We can not trust or intervene if we do not know how the design of the algorithms is done . As data moves globally , we need to work with countries that share our values ​​at the UN and the OECD , and the EU and the US can work together . We must act boldly and quickly , because democracy and the rule of law can be lost . "
     ]
    }
   ],
   "source": [
    "raw1_55 = 'Miapetra Kumpula-Natri (S&D). - (FI) Mr President, ladies and gentlemen, the initial, open Internet has ended up in the hands of a few companies. Algorithms that run social media can affect election results and exacerbate violent confrontations. False news can destabilize societies. Until the next Case Capitol takes place, we don’t want to have to wonder who is responsible for deleting false news or closing an account. The answer cannot be, no one is responsible. It is the responsibility of democratically elected decision-makers to keep legislation, including platforms, up to date. The EU must protect the fundamental rights of its citizens, including the security of social media. Transparency and the possibility of auditing must be required. We cannot trust or intervene if we do not know how the design of the algorithms is done. As data moves globally, we need to work with countries that share our values ​​at the UN and the OECD, and the EU and the US can work together. We must act boldly and quickly, because democracy and the rule of law can be lost.'\n",
    "tokens1_55 = word_tokenize(raw1_55)\n",
    "for word in tokens1_55:\n",
    "    print(word, end=' ')"
   ]
  },
  {
   "cell_type": "code",
   "execution_count": 154,
   "metadata": {},
   "outputs": [
    {
     "name": "stdout",
     "output_type": "stream",
     "text": [
      "Anna Júlia Donáth ( Renew ) . - Madam President . Fellow Members ! I am glad that the European Union has also recognized the need to regulate large tech companies . The only problem is that it has come to mind for autocratic leaders who do not want to do the same for the sake of consolidating their own power . After Poland , the Hungarian government also announced that it wanted to bring Facebook under its own control . Would we really let a Fidesz authority appointed by Viktor Orbán tell us what and what Hungarians can post on Facebook ? Would we really leave it , knowing Viktor Orbán and his attitude to free publicity ? Because we have no doubt that the only goal of the Hungarian government is to subjugate the last slice of the Hungarian public , the social media . Fellow Members ! That is why European regulation is needed to prevent this and to speak out for the people of everyday people instead of those in power against the giant platforms of technology . It is time to bring about a fair Facebook law and it is time to prevent the emergence of new censorship laws in Europe . "
     ]
    }
   ],
   "source": [
    "raw1_56 = 'Anna Júlia Donáth (Renew). - Madam President. Fellow Members! I am glad that the European Union has also recognized the need to regulate large tech companies. The only problem is that it has come to mind for autocratic leaders who do not want to do the same for the sake of consolidating their own power. After Poland, the Hungarian government also announced that it wanted to bring Facebook under its own control. Would we really let a Fidesz authority appointed by Viktor Orbán tell us what and what Hungarians can post on Facebook? Would we really leave it, knowing Viktor Orbán and his attitude to free publicity? Because we have no doubt that the only goal of the Hungarian government is to subjugate the last slice of the Hungarian public, the social media. Fellow Members! That is why European regulation is needed to prevent this and to speak out for the people of everyday people instead of those in power against the giant platforms of technology. It is time to bring about a fair Facebook law and it is time to prevent the emergence of new censorship laws in Europe.'\n",
    "tokens1_56 = word_tokenize(raw1_56)\n",
    "for word in tokens1_56:\n",
    "    print(word, end=' ')"
   ]
  },
  {
   "cell_type": "code",
   "execution_count": 155,
   "metadata": {},
   "outputs": [
    {
     "name": "stdout",
     "output_type": "stream",
     "text": [
      "Beata Mazurek ( ECR ) . - Madam President ! Facebook blocked the English-language account of the Polish Institute of National Remembrance , because it posted historical materials on the Germanization of Polish children during World War II on its profile . The second example from recent days : Facebook blocked the advertisement of the Lublin Hospice for Children post only because it dared to promote palliative care for terminally ill children . These are examples of unjustified and unlawful blocking of profiles and content posted on social media in Poland . Is this how the understanding of freedom of expression and freedom of expression by foreign corporate giants operating on the European digital market should look like ? These actions contradict the foundations of democracy , which is always raised on the banners in this House . Were the examples that I mentioned to some extent unlawful or bore the hallmarks of a prohibited act ? Absolutely not . We do not accept this type of behavior . We will firmly defend the fundamental right of freedom of expression . European institutions must be strong against the strong and effectively protect their citizens where they can not defend themselves . "
     ]
    }
   ],
   "source": [
    "raw1_57 = 'Beata Mazurek (ECR). - Madam President! Facebook blocked the English-language account of the Polish Institute of National Remembrance, because it posted historical materials on the Germanization of Polish children during World War II on its profile. The second example from recent days: Facebook blocked the advertisement of the Lublin Hospice for Children post only because it dared to promote palliative care for terminally ill children. These are examples of unjustified and unlawful blocking of profiles and content posted on social media in Poland. Is this how the understanding of freedom of expression and freedom of expression by foreign corporate giants operating on the European digital market should look like? These actions contradict the foundations of democracy, which is always raised on the banners in this House. Were the examples that I mentioned to some extent unlawful or bore the hallmarks of a prohibited act? Absolutely not. We do not accept this type of behavior. We will firmly defend the fundamental right of freedom of expression. European institutions must be strong against the strong and effectively protect their citizens where they cannot defend themselves.'\n",
    "tokens1_57 = word_tokenize(raw1_57)\n",
    "for word in tokens1_57:\n",
    "    print(word, end=' ')"
   ]
  },
  {
   "cell_type": "code",
   "execution_count": 156,
   "metadata": {},
   "outputs": [
    {
     "name": "stdout",
     "output_type": "stream",
     "text": [
      "Arba Kokalari ( PPE ) . - Madam President ! After the heinous storming of the American Congress , the light has now been directed towards the role of social media in our society . I think we can all agree . Social media has become a central channel for our democratic conversation and freedom of expression online . The lack of clear rules of the game and laws means that the platforms today remove content on arbitrary grounds . Many are now wondering : Why is Facebook deleting my posts and my account without explanation , and I have no one to call ? Why do platforms allow threats , child pornography and illegal products to flow freely online ? As my party group negotiator for the new Internet law Digital Services Act , I will work to create order in this digital wild west that prevails today . Then it needs to be clear that what is illegal offline must also be illegal online , and that it must then be removed from social media . We need to ensure fair competition that promotes innovation and entrepreneurship , and promotes the right to express your own opinion online as well . It must be guaranteed . Because , to be completely honest , increased censorship of legal content does not benefit democracy but rather increases what we are trying to counteract here : conspiracy theories and increased polarization . "
     ]
    }
   ],
   "source": [
    "raw1_58 = 'Arba Kokalari (PPE). - Madam President! After the heinous storming of the American Congress, the light has now been directed towards the role of social media in our society. I think we can all agree. Social media has become a central channel for our democratic conversation and freedom of expression online. The lack of clear rules of the game and laws means that the platforms today remove content on arbitrary grounds. Many are now wondering: Why is Facebook deleting my posts and my account without explanation, and I have no one to call? Why do platforms allow threats, child pornography and illegal products to flow freely online? As my party group negotiator for the new Internet law Digital Services Act, I will work to create order in this digital wild west that prevails today. Then it needs to be clear that what is illegal offline must also be illegal online, and that it must then be removed from social media. We need to ensure fair competition that promotes innovation and entrepreneurship, and promotes the right to express your own opinion online as well. It must be guaranteed. Because, to be completely honest, increased censorship of legal content does not benefit democracy but rather increases what we are trying to counteract here: conspiracy theories and increased polarization.'\n",
    "tokens1_58 = word_tokenize(raw1_58)\n",
    "for word in tokens1_58:\n",
    "    print(word, end=' ')"
   ]
  },
  {
   "cell_type": "code",
   "execution_count": 157,
   "metadata": {},
   "outputs": [
    {
     "name": "stdout",
     "output_type": "stream",
     "text": [
      "Alex Agius Saliba ( S & D ) . - Madam President , the media has become indispensable today . Companies like Facebook , today , have become unparalleled utilities in the modern world . Utilities through which our citizens are obtaining information , working as well as making their purchases . But also one of the aspects that came out clearly during the pandemic was the central role that social media plays in our lives . But at the same time , social media is also putting new dangers in front of us . This is because today it is playing a crucial role in the way information is reaching our citizens and is therefore affecting the behavior , decisions and actions that each and every one of them takes around the world . . Political pressure is on the rise . People are wondering about the role , extreme powers and control of censorship that these companies have . It is disturbing that before our eyes we are seeing daily dishonest practices , intrusions into our private lives and abuse in the use of our personal data , which are being used for the benefit of a few companies . Dangers are being posed to society when they act irresponsibly , both ethically and socially . It is alarming that they are deciding on every aspect of our lives . It is unacceptable that they end up dictating themselves the regulatory framework in which they want to work . The current legal framework is inadequate . It is not adequate to respond to the challenges that these companies are creating on a daily basis . Democratic scrutiny of social media and the protection of our fundamental rights is an important necessity . We therefore need a fair and transparent regulatory framework in order to strengthen democracy and the rule of law , safeguard the public interest and protect our fundamental rights and freedoms . DSA and DMA are golden opportunities for us to do just that . "
     ]
    }
   ],
   "source": [
    "raw1_59 = 'Alex Agius Saliba (S&D). - Madam President, the media has become indispensable today. Companies like Facebook, today, have become unparalleled utilities in the modern world. Utilities through which our citizens are obtaining information, working as well as making their purchases. But also one of the aspects that came out clearly during the pandemic was the central role that social media plays in our lives. But at the same time, social media is also putting new dangers in front of us. This is because today it is playing a crucial role in the way information is reaching our citizens and is therefore affecting the behavior, decisions and actions that each and every one of them takes around the world. . Political pressure is on the rise. People are wondering about the role, extreme powers and control of censorship that these companies have. It is disturbing that before our eyes we are seeing daily dishonest practices, intrusions into our private lives and abuse in the use of our personal data, which are being used for the benefit of a few companies. Dangers are being posed to society when they act irresponsibly, both ethically and socially. It is alarming that they are deciding on every aspect of our lives. It is unacceptable that they end up dictating themselves the regulatory framework in which they want to work. The current legal framework is inadequate. It is not adequate to respond to the challenges that these companies are creating on a daily basis. Democratic scrutiny of social media and the protection of our fundamental rights is an important necessity. We therefore need a fair and transparent regulatory framework in order to strengthen democracy and the rule of law, safeguard the public interest and protect our fundamental rights and freedoms. DSA and DMA are golden opportunities for us to do just that.'\n",
    "tokens1_59 = word_tokenize(raw1_59)\n",
    "for word in tokens1_59:\n",
    "    print(word, end=' ')"
   ]
  },
  {
   "cell_type": "code",
   "execution_count": 158,
   "metadata": {},
   "outputs": [
    {
     "name": "stdout",
     "output_type": "stream",
     "text": [
      "Sandro Gozi ( Renew ) . – Madam President , social media offer enormous opportunities , and at the same time they pose great challenges to our democracies . For a long time , the platforms hid behind the phrase “ We are not publishers , we do not filter content , we are free spaces for the public to access ” . Recent decisions to ban leaders Khamenei and Trump have dismantled this alibi . They have also demonstrated the dangers that platforms could represent if they are not regulated . The Internet offers open forums allowing freedom of expression , but these forums must be secure . Unfortunately , platforms are often used to promote violence : physical , verbal , political . Net neutrality does not mean that we must remain neutral in the face of illegality , violence and foreign interference in our democracies . It is the democratic authorities who must decide the rules of our civil dialogue and this is a challenge that Europe must rise to . "
     ]
    }
   ],
   "source": [
    "raw1_60 = 'Sandro Gozi (Renew). – Madam President, social media offer enormous opportunities, and at the same time they pose great challenges to our democracies. For a long time, the platforms hid behind the phrase “We are not publishers, we do not filter content, we are free spaces for the public to access”. Recent decisions to ban leaders Khamenei and Trump have dismantled this alibi. They have also demonstrated the dangers that platforms could represent if they are not regulated. The Internet offers open forums allowing freedom of expression, but these forums must be secure. Unfortunately, platforms are often used to promote violence: physical, verbal, political. Net neutrality does not mean that we must remain neutral in the face of illegality, violence and foreign interference in our democracies. It is the democratic authorities who must decide the rules of our civil dialogue and this is a challenge that Europe must rise to.'\n",
    "tokens1_60 = word_tokenize(raw1_60)\n",
    "for word in tokens1_60:\n",
    "    print(word, end=' ')"
   ]
  },
  {
   "cell_type": "code",
   "execution_count": 159,
   "metadata": {},
   "outputs": [
    {
     "name": "stdout",
     "output_type": "stream",
     "text": [
      "Stelios Kympouropoulos ( PPE ) . – Madam President , social media have transformed our lives and revolutionised the way we conduct politics . But they have also created challenges related to disinformation , the integrity of our elections and several fundamental rights , to name just a few . As proven over the last year , platforms – and in particular the so-called ‘ gatekeepers ’ – can do much more to facilitate a healthy democratic debate through content moderation . Proactive measures such as labelling misleading or unfounded posts online proved to be very helpful . But at the same time we should be mindful of striking a balance between safeguarding the civic debate and protecting fundamental rights such as the freedom of expression . We need to preserve the prohibition of imposing a general monitoring obligation and reconsider the liability exemptions for active platforms while providing for safeguards such as adequate oversight and judicial redress mechanisms . Finally , transparency over algorithmic decision-making will be key . As a society , we need to have a better understanding of the functioning of social media algorithms . In this regard , platforms should provide researchers with further access to data , in order to examine potential systemic risks and the socio-economic harm they may cause . "
     ]
    }
   ],
   "source": [
    "raw1_61 = 'Stelios Kympouropoulos (PPE). – Madam President, social media have transformed our lives and revolutionised the way we conduct politics. But they have also created challenges related to disinformation, the integrity of our elections and several fundamental rights, to name just a few. As proven over the last year, platforms – and in particular the so-called ‘gatekeepers’ – can do much more to facilitate a healthy democratic debate through content moderation. Proactive measures such as labelling misleading or unfounded posts online proved to be very helpful. But at the same time we should be mindful of striking a balance between safeguarding the civic debate and protecting fundamental rights such as the freedom of expression. We need to preserve the prohibition of imposing a general monitoring obligation and reconsider the liability exemptions for active platforms while providing for safeguards such as adequate oversight and judicial redress mechanisms. Finally, transparency over algorithmic decision-making will be key. As a society, we need to have a better understanding of the functioning of social media algorithms. In this regard, platforms should provide researchers with further access to data, in order to examine potential systemic risks and the socio-economic harm they may cause.'\n",
    "tokens1_61 = word_tokenize(raw1_61)\n",
    "for word in tokens1_61:\n",
    "    print(word, end=' ')"
   ]
  },
  {
   "cell_type": "code",
   "execution_count": 160,
   "metadata": {},
   "outputs": [
    {
     "name": "stdout",
     "output_type": "stream",
     "text": [
      "Morten Løkkegaard ( Renew ) . - Madam President ! After all , social media is basically a blessing for our democracies , but unfortunately it is also clear today that they have become a huge challenge . Every day we see examples of illegal goods being sold to children on these social platforms without intervention and Europeans being attacked by disinformation , a deliberate attempt to distort the democratic debate . It creates a destructive polarization that destroys our democracy and creates unnecessary enemy images . The last time we saw it was when the storm on Capital scared us all , but at the same time we also saw several platforms excluding the then American president . So is that the solution ? No , of course not . We must be extremely careful not to attack the right to speak , the right to freedom of the press , the right to speak for ourselves and others on these social platforms . It is a matter of priority for us liberals to have freedom of expression , and therefore we have a special obligation as liberals to find this balance between freedom of expression and the creation of order online . Of course , we must live up to that special obligation . "
     ]
    }
   ],
   "source": [
    "raw1_62 = 'Morten Løkkegaard (Renew). - Madam President! After all, social media is basically a blessing for our democracies, but unfortunately it is also clear today that they have become a huge challenge. Every day we see examples of illegal goods being sold to children on these social platforms without intervention and Europeans being attacked by disinformation, a deliberate attempt to distort the democratic debate. It creates a destructive polarization that destroys our democracy and creates unnecessary enemy images. The last time we saw it was when the storm on Capital scared us all, but at the same time we also saw several platforms excluding the then American president. So is that the solution? No, of course not. We must be extremely careful not to attack the right to speak, the right to freedom of the press, the right to speak for ourselves and others on these social platforms. It is a matter of priority for us liberals to have freedom of expression, and therefore we have a special obligation as liberals to find this balance between freedom of expression and the creation of order online. Of course, we must live up to that special obligation.'\n",
    "tokens1_62 = word_tokenize(raw1_62)\n",
    "for word in tokens1_62:\n",
    "    print(word, end=' ')"
   ]
  },
  {
   "cell_type": "code",
   "execution_count": 161,
   "metadata": {},
   "outputs": [
    {
     "name": "stdout",
     "output_type": "stream",
     "text": [
      "Lukas Mandl ( EPP ) . – Madam President , dear colleagues ! We are ultimately talking about nothing less than our civilization and what holds our civilization together . We have seen a culture of human dignity and civil liberties growing in and out of Europe . We have seen the Enlightenment . The Enlightenment has led to an understanding that these values ​​apply to every human being and also lead to freedom of opinion , to freedom of speech . But we must not overlook the fact that we have also seen in history that these great ideals can be trampled on , even erased . Nowhere has this happened like in Europe . So we have to be very , very careful - careful - with these questions . Social media platforms have brought a lot of good , but also a lot of dangers . They mean that it has become easier to divide our societies . Attempts at division made from outside , that is what we deal with in the disinformation special committee to fight against disinformation . We are working on that in the European Parliament , and there are also attempts at division from within . What happened on Capitol Hill in the United States in Washington DC is just the tip of the iceberg of what is possible . What we have to ensure , because parliamentarism is also one of the values ​​of our civilization , is that it is parliaments that set the rules with laws and not private companies that can do the censorship . "
     ]
    }
   ],
   "source": [
    "raw1_63 = 'Lukas Mandl (EPP). – Madam President, dear colleagues! We are ultimately talking about nothing less than our civilization and what holds our civilization together. We have seen a culture of human dignity and civil liberties growing in and out of Europe. We have seen the Enlightenment. The Enlightenment has led to an understanding that these values ​​apply to every human being and also lead to freedom of opinion, to freedom of speech. But we must not overlook the fact that we have also seen in history that these great ideals can be trampled on, even erased. Nowhere has this happened like in Europe. So we have to be very, very careful - careful - with these questions. Social media platforms have brought a lot of good, but also a lot of dangers. They mean that it has become easier to divide our societies. Attempts at division made from outside, that is what we deal with in the disinformation special committee to fight against disinformation. We are working on that in the European Parliament, and there are also attempts at division from within. What happened on Capitol Hill in the United States in Washington DC is just the tip of the iceberg of what is possible. What we have to ensure, because parliamentarism is also one of the values ​​of our civilization, is that it is parliaments that set the rules with laws and not private companies that can do the censorship.'\n",
    "tokens1_63 = word_tokenize(raw1_63)\n",
    "for word in tokens1_63:\n",
    "    print(word, end=' ')"
   ]
  },
  {
   "cell_type": "code",
   "execution_count": 162,
   "metadata": {},
   "outputs": [
    {
     "name": "stdout",
     "output_type": "stream",
     "text": [
      "Vlad-Marius Botos ( Renew ) . - Madam President , Commissioner , Madam Secretary of State , ladies and gentlemen , social media platforms have been a plus worldwide . Interpersonal communication is easier , distances disappear , and globalization has reached the human level , individually . Without denying all the positive aspects for society and for individuals , we must recognize that the lack of regulations has sometimes created , from these platforms , a danger to democracy and even to the development of society . We can no longer accept that communication rules are set only by companies , we can no longer accept that ethical rules are set at the platform level , and we certainly can no longer accept algorithms based on which certain posts and information are recommended to the detriment of others . We understand that it is a new market , that it is a new economy , but the rules and algorithms must be approved differently : depending on ethical criteria , legislation ; otherwise we risk that these social platforms will be a danger to our democracy , as we know it , and an extremely valuable tool in the hands of those who want to destabilize it . "
     ]
    }
   ],
   "source": [
    "raw1_64 = 'Vlad-Marius Botos (Renew). - Madam President, Commissioner, Madam Secretary of State, ladies and gentlemen, social media platforms have been a plus worldwide. Interpersonal communication is easier, distances disappear, and globalization has reached the human level, individually. Without denying all the positive aspects for society and for individuals, we must recognize that the lack of regulations has sometimes created, from these platforms, a danger to democracy and even to the development of society. We can no longer accept that communication rules are set only by companies, we can no longer accept that ethical rules are set at the platform level, and we certainly can no longer accept algorithms based on which certain posts and information are recommended to the detriment of others. We understand that it is a new market, that it is a new economy, but the rules and algorithms must be approved differently: depending on ethical criteria, legislation; otherwise we risk that these social platforms will be a danger to our democracy, as we know it, and an extremely valuable tool in the hands of those who want to destabilize it.'\n",
    "tokens1_64 = word_tokenize(raw1_64)\n",
    "for word in tokens1_64:\n",
    "    print(word, end=' ')"
   ]
  },
  {
   "cell_type": "code",
   "execution_count": 163,
   "metadata": {},
   "outputs": [
    {
     "name": "stdout",
     "output_type": "stream",
     "text": [
      "Sunčana Glavak ( PPE ) . - Honorable Chair , exposing citizens to disinformation , including deception or false information , is a major challenge for Europe . The fight against misinformation in the age of social media and online platforms must be a coordinated effort involving all relevant actors from institutions to social platforms , from newspaper media to individual users . Figures in the latest reports of the European Commission on the removal of digital platform content show that since January 2020 , Google has removed or blocked more than 90 million coronavirus-related ads in the EU for violating advertising rules , including drug misinformation . 12,390 Google ads blocked in Croatia , 10 million in Germany and 9 million in Austria . During November , the Facebook and Instagram platforms in the EU : removed 35 thousand posts due to misinformation that could lead to immediate physical harm , content related to bogus preventive measures or drugs . There is a fine line between the freedom of speech that we stand for and support and the spread of harmful content that can have far-reaching consequences for our health , security , stability of our societies , but also for disrupting democratic processes . We have made a big step forward by passing a package on digital services . Social interaction has also digitized the space of politics , but it also strengthens those so-called ordinary users to be the media , and we must find a balance there . Media literacy , think about strengthening it , and the question is the anonymity of the profile . It is clear that what is punishable in the real world must be sanctioned in the digital world as well . "
     ]
    }
   ],
   "source": [
    "raw1_65 = 'Sunčana Glavak (PPE). - Honorable Chair, exposing citizens to disinformation, including deception or false information, is a major challenge for Europe. The fight against misinformation in the age of social media and online platforms must be a coordinated effort involving all relevant actors from institutions to social platforms, from newspaper media to individual users. Figures in the latest reports of the European Commission on the removal of digital platform content show that since January 2020, Google has removed or blocked more than 90 million coronavirus-related ads in the EU for violating advertising rules, including drug misinformation. 12,390 Google ads blocked in Croatia, 10 million in Germany and 9 million in Austria. During November, the Facebook and Instagram platforms in the EU: removed 35 thousand posts due to misinformation that could lead to immediate physical harm, content related to bogus preventive measures or drugs. There is a fine line between the freedom of speech that we stand for and support and the spread of harmful content that can have far-reaching consequences for our health, security, stability of our societies, but also for disrupting democratic processes. We have made a big step forward by passing a package on digital services. Social interaction has also digitized the space of politics, but it also strengthens those so-called ordinary users to be the media, and we must find a balance there. Media literacy, think about strengthening it, and the question is the anonymity of the profile. It is clear that what is punishable in the real world must be sanctioned in the digital world as well.'\n",
    "tokens1_65 = word_tokenize(raw1_65)\n",
    "for word in tokens1_65:\n",
    "    print(word, end=' ')"
   ]
  },
  {
   "cell_type": "code",
   "execution_count": 164,
   "metadata": {},
   "outputs": [
    {
     "name": "stdout",
     "output_type": "stream",
     "text": [
      "Svenja Hahn ( Renew ) . – Madam President ! Authoritarian governments block or censor social media . Platforms delete content after unclear house rules or demands from governments . Regardless of whether it is due to politics or general terms and conditions : blocks need algorithms and artificial intelligence to recognize content . When we talk about the democratic regulation of social media , we also have to talk about it : Which tools do we allow and who is allowed to hold them ? The decision about what is legal and what is illegal should not be left to companies . Upload filters and excessive deletion incentives endanger freedom of expression through overblocking . Artificial intelligence must give people opportunities instead of taking away their freedom . For this , a legal framework must look at the application , not at the technology itself . The planned regulation of artificial intelligence must protect our fundamental rights . Restricting freedom through technological progress would be the greatest step backwards for our society and a dangerous weapon in the hands of authoritarian regimes . "
     ]
    }
   ],
   "source": [
    "raw1_66 = 'Svenja Hahn (Renew). – Madam President! Authoritarian governments block or censor social media. Platforms delete content after unclear house rules or demands from governments. Regardless of whether it is due to politics or general terms and conditions: blocks need algorithms and artificial intelligence to recognize content. When we talk about the democratic regulation of social media, we also have to talk about it: Which tools do we allow and who is allowed to hold them? The decision about what is legal and what is illegal should not be left to companies. Upload filters and excessive deletion incentives endanger freedom of expression through overblocking. Artificial intelligence must give people opportunities instead of taking away their freedom. For this, a legal framework must look at the application, not at the technology itself. The planned regulation of artificial intelligence must protect our fundamental rights. Restricting freedom through technological progress would be the greatest step backwards for our society and a dangerous weapon in the hands of authoritarian regimes.'\n",
    "tokens1_66 = word_tokenize(raw1_66)\n",
    "for word in tokens1_66:\n",
    "    print(word, end=' ')"
   ]
  },
  {
   "cell_type": "code",
   "execution_count": 165,
   "metadata": {},
   "outputs": [
    {
     "name": "stdout",
     "output_type": "stream",
     "text": [
      "Javier Zarzalejos ( PPE ) . – Madam President , Madam Secretary of State , Madam Commissioner , this debate is welcome because yes , we are concerned and very concerned that undue censorship may be exercised by the platforms and we are concerned about the impact of their power on the exercise of freedom of expression , which we well know is the basis of democracy and is the basis of a political system of freedoms . Whether they like it or not , the platforms are acknowledging their responsibility for the content , also when they make mistakes and when they exceed it , and this is a good starting point for their regulation , including redress . We have to provide the platforms with legal instruments so that they can carry out what we ask of them : collaboration and compliance with obligations to detect , notify and eliminate illegal content , from terrorism and sexual abuse of minors to disinformation and hate speech . But freedom of expression has to be respected and defended as a whole , and I think it is timely to remember this so that the demand for freedom of expression is not hijacked by the extremisms that are also present in this House , because these extremisms , while demanding respect for them , they harass uncomfortable journalists , single them out , prevent their access to press conferences , organize discrediting campaigns against the media or directly promote boycotts to harm their dissemination . You can put names to these true violations of freedom of expression ; what is clear is that this double yardstick is useless for a debate like this . "
     ]
    }
   ],
   "source": [
    "raw1_67 = 'Javier Zarzalejos (PPE). – Madam President, Madam Secretary of State, Madam Commissioner, this debate is welcome because yes, we are concerned and very concerned that undue censorship may be exercised by the platforms and we are concerned about the impact of their power on the exercise of freedom of expression , which we well know is the basis of democracy and is the basis of a political system of freedoms. Whether they like it or not, the platforms are acknowledging their responsibility for the content, also when they make mistakes and when they exceed it, and this is a good starting point for their regulation, including redress. We have to provide the platforms with legal instruments so that they can carry out what we ask of them: collaboration and compliance with obligations to detect, notify and eliminate illegal content, from terrorism and sexual abuse of minors to disinformation and hate speech. But freedom of expression has to be respected and defended as a whole, and I think it is timely to remember this so that the demand for freedom of expression is not hijacked by the extremisms that are also present in this House, because these extremisms, while demanding respect for them, they harass uncomfortable journalists, single them out, prevent their access to press conferences, organize discrediting campaigns against the media or directly promote boycotts to harm their dissemination. You can put names to these true violations of freedom of expression; what is clear is that this double yardstick is useless for a debate like this.'\n",
    "tokens1_67 = word_tokenize(raw1_67)\n",
    "for word in tokens1_67:\n",
    "    print(word, end=' ')"
   ]
  },
  {
   "cell_type": "code",
   "execution_count": 166,
   "metadata": {},
   "outputs": [
    {
     "name": "stdout",
     "output_type": "stream",
     "text": [
      "Klemen Grošelj ( Renew ) . - Madam President , social networks are an opportunity in a democracy , but also a risk . Opportunity for active citizens , to express views and operate within a democratic public space , the risk of abuse , to spread false news , misinformation , conspiracy theories , hate speech and extreme political views that , as we have seen in the US , can lead to violent attempts overthrowing the democratic order . In other words , as examples in some Member States , such as Poland , Hungary , and unfortunately also Slovenia , are a means of weakening democracy , its institutions and establishing illiberal democracies . Therefore , it is obvious that social networks also need a certain level of regulation . This does not mean the introduction of censorship and the general restriction of freedom of speech , nor does it mean that the decision on what is appropriate to use and what is not is left to the subjective judgment of the individual . Let alone to decide the interests of network owners . We need clearly defined regulation , designed in the context of established democratic processes , so as not to interfere with the elements of networks that strengthen democracy and its development , but at the same time prevent their abuse for the purposes of political manipulation and weakening democracy . "
     ]
    }
   ],
   "source": [
    "raw1_68 = 'Klemen Grošelj (Renew). - Madam President, social networks are an opportunity in a democracy, but also a risk. Opportunity for active citizens, to express views and operate within a democratic public space, the risk of abuse, to spread false news, misinformation, conspiracy theories, hate speech and extreme political views that, as we have seen in the US, can lead to violent attempts overthrowing the democratic order. In other words, as examples in some Member States, such as Poland, Hungary, and unfortunately also Slovenia, are a means of weakening democracy, its institutions and establishing illiberal democracies. Therefore, it is obvious that social networks also need a certain level of regulation. This does not mean the introduction of censorship and the general restriction of freedom of speech, nor does it mean that the decision on what is appropriate to use and what is not is left to the subjective judgment of the individual. Let alone to decide the interests of network owners. We need clearly defined regulation, designed in the context of established democratic processes, so as not to interfere with the elements of networks that strengthen democracy and its development, but at the same time prevent their abuse for the purposes of political manipulation and weakening democracy.'\n",
    "tokens1_68 = word_tokenize(raw1_68)\n",
    "for word in tokens1_68:\n",
    "    print(word, end=' ')"
   ]
  },
  {
   "cell_type": "code",
   "execution_count": 167,
   "metadata": {},
   "outputs": [
    {
     "name": "stdout",
     "output_type": "stream",
     "text": [
      "Peter Pollák ( EPP ) . - Madam President , the spread of hoaxes during the coronary crisis has had real consequences for the health and lives of people across Europe . Many believed the lies on social networks that Covid-19 was a common flu . Many of them , unfortunately , also died . The coronation crisis has shown how weak we are in the fight against lies and misinformation , as well as in the fight against hatred , extremism , aggression , finger-pointing and attacks . A few weeks ago , we witnessed the American ex-president mobilize fanatics through social media . It is a good thing they finally blocked his account . Although we agree with this , we can not leave such decisions in the hands of media owners , whose main goal is to make money . Let us face it , the content of social media is completely out of our control . Although it does not listen well , I am convinced that the lies and hoaxes about Covide-19 have caused the deaths of many people in Europe . By no means am I in favor of regulating social media freedom . However , we must prevent the spread of lies , hatred , extremism and misinformation . "
     ]
    }
   ],
   "source": [
    "raw1_69 = 'Peter Pollák (EPP). - Madam President, the spread of hoaxes during the coronary crisis has had real consequences for the health and lives of people across Europe. Many believed the lies on social networks that Covid-19 was a common flu. Many of them, unfortunately, also died. The coronation crisis has shown how weak we are in the fight against lies and misinformation, as well as in the fight against hatred, extremism, aggression, finger-pointing and attacks. A few weeks ago, we witnessed the American ex-president mobilize fanatics through social media. It is a good thing they finally blocked his account. Although we agree with this, we cannot leave such decisions in the hands of media owners, whose main goal is to make money. Let us face it, the content of social media is completely out of our control. Although it does not listen well, I am convinced that the lies and hoaxes about Covide-19 have caused the deaths of many people in Europe. By no means am I in favor of regulating social media freedom. However, we must prevent the spread of lies, hatred, extremism and misinformation.'\n",
    "tokens1_69 = word_tokenize(raw1_69)\n",
    "for word in tokens1_69:\n",
    "    print(word, end=' ')"
   ]
  },
  {
   "cell_type": "code",
   "execution_count": 168,
   "metadata": {},
   "outputs": [
    {
     "name": "stdout",
     "output_type": "stream",
     "text": [
      "Bart Groothuis ( Renew ) . – Madam President , whether you think it is good or bad that Donald Trump has been banned from social media is not the right political question . The right question is whether the ban of Donald Trump should have been decided by Silicon Valley , or by transparent democratic policies . We govern ourselves here . We govern our own political sphere , and that means that liberal democracy should set standards for social media companies . Companies should make policies out of those standards , and they should be upheld , not by us , not by companies , and certainly not by governments , but by independent oversight . They should ensure that what is illegal offline is also illegal online . But we have clear evidence that our democratic security is also at stake . The issues of voting integrity , health crises or national security emergencies can be intentionally undermined both by foreign and domestic actors , and I would like to remind the House that such malicious intent is also illegal offline , and should be online . "
     ]
    }
   ],
   "source": [
    "raw1_70 = 'Bart Groothuis (Renew). – Madam President, whether you think it is good or bad that Donald Trump has been banned from social media is not the right political question. The right question is whether the ban of Donald Trump should have been decided by Silicon Valley, or by transparent democratic policies. We govern ourselves here. We govern our own political sphere, and that means that liberal democracy should set standards for social media companies. Companies should make policies out of those standards, and they should be upheld, not by us, not by companies, and certainly not by governments, but by independent oversight. They should ensure that what is illegal offline is also illegal online. But we have clear evidence that our democratic security is also at stake. The issues of voting integrity, health crises or national security emergencies can be intentionally undermined both by foreign and domestic actors, and I would like to remind the House that such malicious intent is also illegal offline, and should be online.'\n",
    "tokens1_70 = word_tokenize(raw1_70)\n",
    "for word in tokens1_70:\n",
    "    print(word, end=' ')"
   ]
  },
  {
   "cell_type": "code",
   "execution_count": 169,
   "metadata": {},
   "outputs": [
    {
     "name": "stdout",
     "output_type": "stream",
     "text": [
      "Henna Virkkunen ( PPE ) . - ( FI ) Mr President , social media platforms such as Twitter , Facebook and Instagram have provided wildly new opportunities for people to interact and interact . What are the rules that have been followed on these platforms ? They have been based on the commercial interests of these platforms . Now their economic and social power in the world has grown so great that it can no longer continue . It is important for us in Europe to ensure that the laws that we have in place in society are equally valid on social media and on the internet . It is important that European values , democracy , freedom of expression and human rights , are realized online , as they are in the real world . It is also important to translate these into legislation more closely , and this work is currently being done . At the same time , it is important to remember that when we want to combat rampant disinformation , propaganda , false news , the most important way is still to invest in the skills of people . Good literacy , good digital skills , high-quality and free media are also the best and most effective ways to combat false news , propaganda and disinformation . That is , while we are clearly making the Internet rules that what is illegal in other societies in Europe is also illegal on the Internet , we must also support the knowledge and digital skills people have . "
     ]
    }
   ],
   "source": [
    "raw1_71 = 'Henna Virkkunen (PPE). - (FI) Mr President, social media platforms such as Twitter, Facebook and Instagram have provided wildly new opportunities for people to interact and interact. What are the rules that have been followed on these platforms? They have been based on the commercial interests of these platforms. Now their economic and social power in the world has grown so great that it can no longer continue. It is important for us in Europe to ensure that the laws that we have in place in society are equally valid on social media and on the internet. It is important that European values, democracy, freedom of expression and human rights, are realized online, as they are in the real world. It is also important to translate these into legislation more closely, and this work is currently being done. At the same time, it is important to remember that when we want to combat rampant disinformation, propaganda, false news, the most important way is still to invest in the skills of people. Good literacy, good digital skills, high-quality and free media are also the best and most effective ways to combat false news, propaganda and disinformation. That is, while we are clearly making the Internet rules that what is illegal in other societies in Europe is also illegal on the Internet, we must also support the knowledge and digital skills people have.'\n",
    "tokens1_71 = word_tokenize(raw1_71)\n",
    "for word in tokens1_71:\n",
    "    print(word, end=' ')"
   ]
  },
  {
   "cell_type": "code",
   "execution_count": 170,
   "metadata": {},
   "outputs": [
    {
     "name": "stdout",
     "output_type": "stream",
     "text": [
      "Eugen Tomac ( PPE ) . - Madam President , Commissioner , Madam Secretary of State , ladies and gentlemen , this debate is extremely useful because it brings to our attention an extremely sensitive issue for our democratic societies . Clearly , technology has given us great communication tools that have fundamentally changed our lives . Social networks today influence the political life , the financial markets and , as clearly as possible , the daily life of all our citizens . The problem is how far this freedom of these extremely useful tools goes , because it has been shown that self-regulation has not worked , and I am extremely sorry that we are unable to find the tools to meet the challenges we face . European Union . We have seen , in the midst of a pandemic , entire disinformation campaigns to which our citizens have been subjected by states that have stood behind such instruments . The Commission tried to react , but it was not enough and I think that freedom of expression must be defended , but at the same time we must take care of our citizens , because we have seen many voices in Parliament saying that they are glad that Donald Trump was account closed . I wonder why we were nott happy when Putin announced on Twitter that he had annexed Crimea . "
     ]
    }
   ],
   "source": [
    "raw1_72 = 'Eugen Tomac (PPE). - Madam President, Commissioner, Madam Secretary of State, ladies and gentlemen, this debate is extremely useful because it brings to our attention an extremely sensitive issue for our democratic societies. Clearly, technology has given us great communication tools that have fundamentally changed our lives. Social networks today influence the political life, the financial markets and, as clearly as possible, the daily life of all our citizens. The problem is how far this freedom of these extremely useful tools goes, because it has been shown that self-regulation has not worked, and I am extremely sorry that we are unable to find the tools to meet the challenges we face. European Union. We have seen, in the midst of a pandemic, entire disinformation campaigns to which our citizens have been subjected by states that have stood behind such instruments. The Commission tried to react, but it was not enough and I think that freedom of expression must be defended, but at the same time we must take care of our citizens, because we have seen many voices in Parliament saying that they are glad that Donald Trump was account closed. I wonder why we were nott happy when Putin announced on Twitter that he had annexed Crimea.'\n",
    "tokens1_72 = word_tokenize(raw1_72)\n",
    "for word in tokens1_72:\n",
    "    print(word, end=' ')"
   ]
  },
  {
   "cell_type": "code",
   "execution_count": 171,
   "metadata": {},
   "outputs": [
    {
     "name": "stdout",
     "output_type": "stream",
     "text": [
      "Věra Jourová , Vice-President of the Commission . – Madam President , I want to thank the honourable Members for this debate and for all your opinions and views . For me it is extremely important to hear the opinions of this House because this is the first broad debate about if , and how , to regulate the Internet if I may simplify that . And I take several main messages . First , what I heard from the vast majority of you is : it ’ s time to get to work . If we are not ambitious to become the rule-makers we will continue to be the rule-takers , the rules which have been created in Silicon Valley and which are imposed on our territory in the EU . So it ’ s time to get to work with a sense of urgency and I very much count on the European Parliament and your approach to adopt the legislation which the Commission proposed soon enough . Also because we see a lot of impatience on the side of some Member States who want to go their own way . They want to have their own rules for the Internet and I think that it was quite clear also from this debate that we want to have a pan-European smart solution without any fragmentation by Member States . The second main message which I got is that we are searching and working on the ideologically-neutral solution that the rules we are going to adopt should not be left or right , and that we will seek the solution which will protect the freedom of speech as the primary principle . So these are the main messages I took from this very important debate . Coming back to the rule-makers , what we are doing is the continuation of the effort of the EU to be the rule-maker with global effect . We already managed to do that with the GDPR where we said that individual people must have the right to have their identity , their privacy , under control . And now we are coming with a set of , I hope , consistent rules which are also consistent with the GDPR and its philosophy . We are coming with the Digital Services Act , the Digital Markets Act , the European Democracy Action Plan , and by all that we want to prove that the EU has a very healthy instinct when it comes to the risks which we see on the Internet and which can cause big harm to our societies . What I heard from many of you was that the digital big tech grabbed too much power and too little responsibility . I would add I agree with that . The platforms captured a lot of public space . I sometimes say that they privatised the public space , and this is a public space without any public scrutiny whatsoever . So this is also our task : to demand more transparency and more accountability , because what ’ s happening online is heavily influencing real life . I think it was Mr Tudorache who said that there is no difference between online and offline , that it ’ s one world . I tend to agree with that . On the other hand , it ’ s quite easy to blame the Internet and platforms for all our troubles . I think that we should really take a lesson from what happened in the US at the beginning of January . The platforms for the transmitters of the messages of the former President Trump who was inciting violence , whipping up the crowd who then invaded the Capitol , and there were victims , there were dead people . So I think this is also a very strong goal on all of us who have influence on public opinion and on the reaction of our society to be more responsible and to be aware that social media can be a weapon , a dangerous weapon in our hands . I am not calling for self-censoring for politicians . I am calling for more responsibility and awareness of the consequences when we use these social platforms and social media . I would like to recommend that you read Madeleine Albright ’ s book Fascism : A Warning . She speaks about social media as a weapon when it is used by bad people , when it appears in bad hands . Let me react to several comments regarding disinformation in the time of COVID . I ’ m sure you know that the Commission has an agreement with big tech to do more against disinformation . So it ’ s not true that they have just started now , and I appreciate the recent announcement of Facebook that they want to do more against disinformation relating to vaccination . The agreement is simple . I wanted them to enable more space for information from authorities , from health authorities , from those who are responsible for communication and for providing the people with trustworthy and evidence-based information . For the health sector I think that is a very clear message : if you do not occupy the space it will be occupied by disinformation . The Ministers of Health are aware of that and they do their best . I have to praise them for everything they are doing in this very difficult moment and crisis , and they are doing their best to occupy the space with reliable information . The thing is that the people have to trust the information provided by the health authorities . The fight against disinformation also contains what we offer or what we propose . It contains fact-checking . Honourable Members , let me do this now . I have to react to Mr Haider who said that the EU has not invested anything into the development and production of vaccination . This is fake news , and I think that if something like that is said , it ’ s also our obligation to come with the facts and deny that . I also want to react because we speak here about the freedom of speech . I want to react to those who were mentioning the situation in Poland . I think we all have seen the black screens . The black screens are quite telling . I think they are screaming . Today it ’ s a question of protest of the media in Poland , expressed in a black screen . Tomorrow black screens might become a sad everyday reality . We also need to protect the freedom of speech by supporting independent media , not by suppressing them with additional financial burdens . This doesn ’ t apply only to Poland . We have recommended many times to the Member States that they should support also financially media who are also the frontrunners in the COVID crisis , media which were already before the COVID crisis under big financial distress because the business model has changed brutally . The money from advertisers is being shifted to the online sphere which we keep speaking about today , and so we need to guarantee that the media can do their job because they have a very important role in our democratic societies . So coming back to the law which we are now analysing . I have to say that we always advise the Member States to support media , as I said , but coming to the law , we are aware of the draft law and we need to look into it in more detail . We expect Member States to ensure that their fiscal or other policies will not affect the commitment to ensuring a free independent and diverse media ecosystem . I have to add that about the legislative process , which is ongoing in Poland , that it is important to consult such legislation also with the media sector , and I understand from the recent information from Poland that this is foreseen . I am sorry , I probably was longer than I wanted to be , but I really wanted to react to many of your very important opinions , which I had to take . "
     ]
    }
   ],
   "source": [
    "raw1_73 = 'Věra Jourová, Vice-President of the Commission. – Madam President, I want to thank the honourable Members for this debate and for all your opinions and views. For me it is extremely important to hear the opinions of this House because this is the first broad debate about if, and how, to regulate the Internet if I may simplify that. And I take several main messages. First, what I heard from the vast majority of you is: it’s time to get to work. If we are not ambitious to become the rule-makers we will continue to be the rule-takers, the rules which have been created in Silicon Valley and which are imposed on our territory in the EU. So it’s time to get to work with a sense of urgency and I very much count on the European Parliament and your approach to adopt the legislation which the Commission proposed soon enough. Also because we see a lot of impatience on the side of some Member States who want to go their own way. They want to have their own rules for the Internet and I think that it was quite clear also from this debate that we want to have a pan-European smart solution without any fragmentation by Member States. The second main message which I got is that we are searching and working on the ideologically-neutral solution that the rules we are going to adopt should not be left or right, and that we will seek the solution which will protect the freedom of speech as the primary principle. So these are the main messages I took from this very important debate. Coming back to the rule-makers, what we are doing is the continuation of the effort of the EU to be the rule-maker with global effect. We already managed to do that with the GDPR where we said that individual people must have the right to have their identity, their privacy, under control. And now we are coming with a set of, I hope, consistent rules which are also consistent with the GDPR and its philosophy. We are coming with the Digital Services Act, the Digital Markets Act, the European Democracy Action Plan, and by all that we want to prove that the EU has a very healthy instinct when it comes to the risks which we see on the Internet and which can cause big harm to our societies. What I heard from many of you was that the digital big tech grabbed too much power and too little responsibility. I would add I agree with that. The platforms captured a lot of public space. I sometimes say that they privatised the public space, and this is a public space without any public scrutiny whatsoever. So this is also our task: to demand more transparency and more accountability, because what’s happening online is heavily influencing real life. I think it was Mr Tudorache who said that there is no difference between online and offline, that it’s one world. I tend to agree with that. On the other hand, it’s quite easy to blame the Internet and platforms for all our troubles. I think that we should really take a lesson from what happened in the US at the beginning of January. The platforms for the transmitters of the messages of the former President Trump who was inciting violence, whipping up the crowd who then invaded the Capitol, and there were victims, there were dead people. So I think this is also a very strong goal on all of us who have influence on public opinion and on the reaction of our society to be more responsible and to be aware that social media can be a weapon, a dangerous weapon in our hands. I am not calling for self-censoring for politicians. I am calling for more responsibility and awareness of the consequences when we use these social platforms and social media. I would like to recommend that you read Madeleine Albright’s book Fascism: A Warning. She speaks about social media as a weapon when it is used by bad people, when it appears in bad hands. Let me react to several comments regarding disinformation in the time of COVID. I’m sure you know that the Commission has an agreement with big tech to do more against disinformation. So it’s not true that they have just started now, and I appreciate the recent announcement of Facebook that they want to do more against disinformation relating to vaccination. The agreement is simple. I wanted them to enable more space for information from authorities, from health authorities, from those who are responsible for communication and for providing the people with trustworthy and evidence-based information. For the health sector I think that is a very clear message: if you do not occupy the space it will be occupied by disinformation. The Ministers of Health are aware of that and they do their best. I have to praise them for everything they are doing in this very difficult moment and crisis, and they are doing their best to occupy the space with reliable information. The thing is that the people have to trust the information provided by the health authorities. The fight against disinformation also contains what we offer or what we propose. It contains fact-checking. Honourable Members, let me do this now. I have to react to Mr Haider who said that the EU has not invested anything into the development and production of vaccination. This is fake news, and I think that if something like that is said, it’s also our obligation to come with the facts and deny that. I also want to react because we speak here about the freedom of speech. I want to react to those who were mentioning the situation in Poland. I think we all have seen the black screens. The black screens are quite telling. I think they are screaming. Today it’s a question of protest of the media in Poland, expressed in a black screen. Tomorrow black screens might become a sad everyday reality. We also need to protect the freedom of speech by supporting independent media, not by suppressing them with additional financial burdens. This doesn’t apply only to Poland. We have recommended many times to the Member States that they should support also financially media who are also the frontrunners in the COVID crisis, media which were already before the COVID crisis under big financial distress because the business model has changed brutally. The money from advertisers is being shifted to the online sphere which we keep speaking about today, and so we need to guarantee that the media can do their job because they have a very important role in our democratic societies. So coming back to the law which we are now analysing. I have to say that we always advise the Member States to support media, as I said, but coming to the law, we are aware of the draft law and we need to look into it in more detail. We expect Member States to ensure that their fiscal or other policies will not affect the commitment to ensuring a free independent and diverse media ecosystem. I have to add that about the legislative process, which is ongoing in Poland, that it is important to consult such legislation also with the media sector, and I understand from the recent information from Poland that this is foreseen. I am sorry, I probably was longer than I wanted to be, but I really wanted to react to many of your very important opinions, which I had to take.'\n",
    "tokens1_73 = word_tokenize(raw1_73)\n",
    "for word in tokens1_73:\n",
    "    print(word, end=' ')"
   ]
  },
  {
   "cell_type": "code",
   "execution_count": 172,
   "metadata": {},
   "outputs": [
    {
     "name": "stdout",
     "output_type": "stream",
     "text": [
      "President . – It ’ s an important topic so we are very happy that you really discussed it with us . "
     ]
    }
   ],
   "source": [
    "raw1_74 = 'President. – It’s an important topic so we are very happy that you really discussed it with us.'\n",
    "tokens1_74 = word_tokenize(raw1_74)\n",
    "for word in tokens1_74:\n",
    "    print(word, end=' ')"
   ]
  },
  {
   "cell_type": "code",
   "execution_count": 173,
   "metadata": {},
   "outputs": [
    {
     "name": "stdout",
     "output_type": "stream",
     "text": [
      "Ana Paula Zacarias , President-in-Office of the Board . – Madam President , Commissioner , ladies and gentlemen , I would like to thank Parliament for this valuable contribution to this debate and I would also like to thank the Commissioner for her responses and , at the same time , ensure that the Council remains committed to ongoing work to protect and promote fundamental rights of our citizens . This matter must be the subject of a constructive and transparent dialogue between the co-legislators and the different stakeholders . We have to talk with platforms , with civil society , with experts , for the good of our citizens . The Council firmly believes that digital technologies can make a significant contribution to the protection of fundamental rights and democracy , provided that democratic processes , the necessary checks and appropriate balances are safeguarded . How to adapt our legal instruments to the speed and immediacy of the online world ? How to achieve and guarantee the right balance between freedom of expression , media pluralism and the protection of the rights of our citizens against online hatred and disinformation ? How to improve the digital education of our citizens ? It is for these answers that we need to work with the European Parliament , seeking legality , transparency , diversity and freedom of expression . The variety of information and the plurality of voices are an integral part of our democratic systems , but let us not forget that safeguarding them also means ensuring protection against violence and hatred , the protection of minors , the protection of consumers . The digital space needs to be safe for all of us . This is also part of the rules of democracy . "
     ]
    }
   ],
   "source": [
    "raw1_75 = 'Ana Paula Zacarias, President-in-Office of the Board. – Madam President, Commissioner, ladies and gentlemen, I would like to thank Parliament for this valuable contribution to this debate and I would also like to thank the Commissioner for her responses and, at the same time, ensure that the Council remains committed to ongoing work to protect and promote fundamental rights of our citizens. This matter must be the subject of a constructive and transparent dialogue between the co-legislators and the different stakeholders. We have to talk with platforms, with civil society, with experts, for the good of our citizens. The Council firmly believes that digital technologies can make a significant contribution to the protection of fundamental rights and democracy, provided that democratic processes, the necessary checks and appropriate balances are safeguarded. How to adapt our legal instruments to the speed and immediacy of the online world? How to achieve and guarantee the right balance between freedom of expression, media pluralism and the protection of the rights of our citizens against online hatred and disinformation? How to improve the digital education of our citizens? It is for these answers that we need to work with the European Parliament, seeking legality, transparency, diversity and freedom of expression. The variety of information and the plurality of voices are an integral part of our democratic systems, but let us not forget that safeguarding them also means ensuring protection against violence and hatred, the protection of minors, the protection of consumers. The digital space needs to be safe for all of us. This is also part of the rules of democracy.'\n",
    "tokens1_75 = word_tokenize(raw1_75)\n",
    "for word in tokens1_75:\n",
    "    print(word, end=' ')"
   ]
  },
  {
   "cell_type": "markdown",
   "metadata": {},
   "source": [
    "---\n",
    "### Combine all parts"
   ]
  },
  {
   "cell_type": "code",
   "execution_count": 174,
   "metadata": {},
   "outputs": [],
   "source": [
    "tokens = tokens1_1 + tokens1_2 + tokens1_3 + tokens1_4 + tokens1_5 + tokens1_6 + tokens1_7 + tokens1_8 + tokens1_9 + tokens1_10 + tokens1_11 + tokens1_12 + tokens1_13 + tokens1_14 + tokens1_15 + tokens1_16 + tokens1_17 + tokens1_18 + tokens1_19 + tokens1_20 + tokens1_21 + tokens1_22 + tokens1_23 + tokens1_24 + tokens1_25 + tokens1_26 + tokens1_27 + tokens1_28 + tokens1_29 + tokens1_30 + tokens1_31 + tokens1_32 + tokens1_33 + tokens1_34 + tokens1_35 + tokens1_36 + tokens1_37 + tokens1_38 + tokens1_39 + tokens1_40 + tokens1_41 + tokens1_42 + tokens1_43 + tokens1_44 + tokens1_45 + tokens1_46 + tokens1_47 + tokens1_48 + tokens1_49 + tokens1_50 + tokens1_51 + tokens1_52 + tokens1_53 + tokens1_54 + tokens1_55 + tokens1_56 + tokens1_57 + tokens1_58 + tokens1_59 + tokens1_60 + tokens1_61 + tokens1_62 + tokens1_63 + tokens1_64 + tokens1_65 + tokens1_66 + tokens1_67 + tokens1_68 + tokens1_69 + tokens1_70 + tokens1_71 + tokens1_72 + tokens1_73 + tokens1_74 + tokens1_75"
   ]
  },
  {
   "cell_type": "markdown",
   "metadata": {},
   "source": [
    "---\n",
    "### Normalize the words "
   ]
  },
  {
   "cell_type": "code",
   "execution_count": 175,
   "metadata": {},
   "outputs": [],
   "source": [
    "type(tokens)\n",
    "eutext02 = [w.lower() for w in tokens]"
   ]
  },
  {
   "cell_type": "markdown",
   "metadata": {},
   "source": [
    "---\n",
    "**Save Output**"
   ]
  },
  {
   "cell_type": "code",
   "execution_count": 176,
   "metadata": {},
   "outputs": [],
   "source": [
    "save_path = '/Users/charlottekaiser/Documents/uni/Hertie/master_thesis/00_data/20_intermediate_files'\n",
    "file_name = \"EU02_Democratic scrutiny of social media and the protection of fundamental rights.txt\"\n",
    "completeName = os.path.join(save_path, file_name)\n",
    "output = open(completeName, 'w')\n",
    "print(eutext02, file=output)"
   ]
  }
 ],
 "metadata": {
  "interpreter": {
   "hash": "a9869976cf380d12cb70e759e57434a8e82bae01a9f74e734956416b40621c64"
  },
  "kernelspec": {
   "display_name": "Python 3.9.7 ('base')",
   "language": "python",
   "name": "python3"
  },
  "language_info": {
   "codemirror_mode": {
    "name": "ipython",
    "version": 3
   },
   "file_extension": ".py",
   "mimetype": "text/x-python",
   "name": "python",
   "nbconvert_exporter": "python",
   "pygments_lexer": "ipython3",
   "version": "3.9.7"
  },
  "orig_nbformat": 4
 },
 "nbformat": 4,
 "nbformat_minor": 2
}
