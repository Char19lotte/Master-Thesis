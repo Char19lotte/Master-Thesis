{
 "cells": [
  {
   "cell_type": "markdown",
   "metadata": {},
   "source": [
    "### *Data Collection - European Parliament*\n",
    "## Preparing Raw Data\n",
    "---\n",
    "**Sample Text 16**\n",
    "Title: Preparation of the G7 summit of 11-13 June and the EU-US Summit <br>\n",
    "Date: June 09, 2021 - Brussels"
   ]
  },
  {
   "cell_type": "code",
   "execution_count": 33,
   "metadata": {},
   "outputs": [],
   "source": [
    "# import necessary libraries\n",
    "import requests\n",
    "from requests_html import HTMLSession\n",
    "import urllib.request\n",
    "import time\n",
    "from bs4 import BeautifulSoup\n",
    "import urllib\n",
    "from urllib import request\n",
    "from __future__ import division\n",
    "import nltk, re, pprint\n",
    "from nltk import word_tokenize\n",
    "from nltk import FreqDist\n",
    "import os.path \n",
    "import pandas as pd"
   ]
  },
  {
   "cell_type": "markdown",
   "metadata": {},
   "source": [
    "---\n",
    "### Process: Trimming debate by inserting the original English or translated English files and tokenizing them.\n",
    "*Note*: Due to time constraint, the process has been optimized.\n",
    "\n",
    "- English parts of the debate will be added manually as a string and then tokenized. \n",
    "\n",
    "- A consistent method of translating and then adding will be applied to all EU Parliament debates:  Non-English parts are copied from the original web pages, inserted in the consistent choice of translation tool, Google Translate (https://translate.google.com/?hl=de&tab=TT), translated to English and pasted in as a string. \n",
    "\n",
    "- Afterwards, the same steps are applied as per usual (tokenizing, standardizing).\n",
    "\n",
    "Because of the changed process, the URL and step of webscraping are technically no longer necessary, will however be included for the purpose of completeness. "
   ]
  },
  {
   "cell_type": "code",
   "execution_count": 34,
   "metadata": {},
   "outputs": [],
   "source": [
    "# url = \"https://www.europarl.europa.eu/doceo/document/CRE-9-2021-06-09-ITM-005_EN.html\"\n",
    "# html = requests.get(url)\n",
    "# raw = BeautifulSoup(html.content, 'html.parser').get_text()"
   ]
  },
  {
   "cell_type": "code",
   "execution_count": 35,
   "metadata": {},
   "outputs": [
    {
     "name": "stdout",
     "output_type": "stream",
     "text": [
      "Ana Paula Zacarias , President-in-Office of the Council . – Madam President , thank you for this opportunity to discuss in a bit more detail these two important upcoming summits , to which President Michel and President von der Leyen have already referred . First , on the G7 summit , which the UK will host in Cornwall this weekend , as President Charles Michel has just underlined , the overall mission of the EU for the meeting is clear : to support an agenda for global action built on a strong commitment to international cooperation , multilateralism and an open , resilient , rules-based international order . Here there are a couple of elements . First , the COVID—19 pandemic needs global cooperation in order to be overcome . We need solidarity . We need to ensure early access to vaccines and treatments everywhere . While vaccination campaigns are making progress around the world , more needs to be done . President von der Leyen explained clearly what we are doing in terms of exports , donating vaccines , and supporting the production of vaccines , but more needs to be done . We need a stronger multilateral response . We call for closing the financial gap for access to the COVID—19 Tools Accelerator , and we have been the main supporters of COVAX , but we can not be multilateralists alone . All the advanced G7 economies should share doses through COVAX . Secondly , solidarity also remains key in dealing with the economic effects of the pandemic , as we expect uneven recoveries and deepening of inequalities . We need to work together to fight hunger and poverty around the world . In this respect , a new general allocation of special drawing rights , unprecedented in terms of size , is under preparation by the IMF . EU Member States have supported this initiative and are discussing how best to channel these resources to the most vulnerable countries . Thirdly , we also need to better prepare the world for the next pandemic . A number of initiatives are ongoing with the recent Rome Declaration of Principles released by the Global Health Summit and discussed at WHO , including on an international treaty on pandemics . This should not be a missed opportunity . Furthermore , the UK G7 Presidency has put forward a very ambitious agenda on climate and biodiversity against the background of the two important events of this year , the COP26 on climate and the COP15 on biodiversity . Success at the COP26 will depend on the level of ambition of all parties . The EU has already submitted its ambitious nationally determined contribution ( NDC ) . It will be important that the G7 shows an equally strong level of ambition and leadership , with clear commitments . The EU is also committed to working with the G7 partners to adopt new , ambitious global targets on biodiversity for the COP15 . Our own EU 2030 biodiversity strategy is a testimony to that . Finally , another very important topic regards international taxation . We are at a crucial juncture on the OECD—led negotiation for a broader overhaul of the rules on international taxation of the largest multinational enterprises . We welcome the fact that the G7 has reached a consensus on the framework for an overall agreement , and we hope that this agreement at G7 level will indeed form a good basis for further work , both within the G20 and at the level of the OECD . Turning now to the upcoming summit with the United States , I would like to stress the symbolic importance of this event . It will take place as a part of President Biden ’ s first foreign trip , seven years after the previous summit , upon an invitation by President Charles Michel . The United States and the EU represent 780 million people who share democratic values . It is also the largest economic relationship in the world . We have a chance and a responsibility to help people make a living , keep them safe , fight climate change and stand up for democracy and human rights . We would like to see this summit agree with the US on an ambitious cooperation agenda in four key areas : fighting the COVID pandemic and driving forward a sustainable global recovery ; second , protecting our planet and fostering green growth ; third , strengthening trade , investment and technological cooperation ; and fourth , building a more democratic , peaceful and secure world . We expect that leaders will agree on a very concrete and ambitious set of deliverables in all these four areas and we believe that this event has the potential to be a key milestone in renewing and re—energising our partnership . A strong transatlantic partnership is vital to ensure , and to contribute to , our common security , stability and prosperity . A renewed transatlantic agenda is necessary to find joint answers to global challenges and make it deliver for our citizens . We hope that the summit will not be a one—off event and that regular exchanges between the EU and the United States will resume at different levels . Discussions in preparation for the summit are under way , both with EU Member States and on the US side , and I am sure that today ’ s exchange will provide a timely and important input into the summit preparations . I ’ m very keen to listen to your views . Thank you very much for your attention . "
     ]
    }
   ],
   "source": [
    "raw1_1 = 'Ana Paula Zacarias, President-in-Office of the Council. – Madam President, thank you for this opportunity to discuss in a bit more detail these two important upcoming summits, to which President Michel and President von der Leyen have already referred. First, on the G7 summit, which the UK will host in Cornwall this weekend, as President Charles Michel has just underlined, the overall mission of the EU for the meeting is clear: to support an agenda for global action built on a strong commitment to international cooperation, multilateralism and an open, resilient, rules-based international order. Here there are a couple of elements. First, the COVID—19 pandemic needs global cooperation in order to be overcome. We need solidarity. We need to ensure early access to vaccines and treatments everywhere. While vaccination campaigns are making progress around the world, more needs to be done. President von der Leyen explained clearly what we are doing in terms of exports, donating vaccines, and supporting the production of vaccines, but more needs to be done. We need a stronger multilateral response. We call for closing the financial gap for access to the COVID—19 Tools Accelerator, and we have been the main supporters of COVAX, but we cannot be multilateralists alone. All the advanced G7 economies should share doses through COVAX. Secondly, solidarity also remains key in dealing with the economic effects of the pandemic, as we expect uneven recoveries and deepening of inequalities. We need to work together to fight hunger and poverty around the world. In this respect, a new general allocation of special drawing rights, unprecedented in terms of size, is under preparation by the IMF. EU Member States have supported this initiative and are discussing how best to channel these resources to the most vulnerable countries. Thirdly, we also need to better prepare the world for the next pandemic. A number of initiatives are ongoing with the recent Rome Declaration of Principles released by the Global Health Summit and discussed at WHO, including on an international treaty on pandemics. This should not be a missed opportunity. Furthermore, the UK G7 Presidency has put forward a very ambitious agenda on climate and biodiversity against the background of the two important events of this year, the COP26 on climate and the COP15 on biodiversity. Success at the COP26 will depend on the level of ambition of all parties. The EU has already submitted its ambitious nationally determined contribution (NDC). It will be important that the G7 shows an equally strong level of ambition and leadership, with clear commitments. The EU is also committed to working with the G7 partners to adopt new, ambitious global targets on biodiversity for the COP15. Our own EU 2030 biodiversity strategy is a testimony to that. Finally, another very important topic regards international taxation. We are at a crucial juncture on the OECD—led negotiation for a broader overhaul of the rules on international taxation of the largest multinational enterprises. We welcome the fact that the G7 has reached a consensus on the framework for an overall agreement, and we hope that this agreement at G7 level will indeed form a good basis for further work, both within the G20 and at the level of the OECD. Turning now to the upcoming summit with the United States, I would like to stress the symbolic importance of this event. It will take place as a part of President Biden’s first foreign trip, seven years after the previous summit, upon an invitation by President Charles Michel. The United States and the EU represent 780 million people who share democratic values. It is also the largest economic relationship in the world. We have a chance and a responsibility to help people make a living, keep them safe, fight climate change and stand up for democracy and human rights. We would like to see this summit agree with the US on an ambitious cooperation agenda in four key areas: fighting the COVID pandemic and driving forward a sustainable global recovery; second, protecting our planet and fostering green growth; third, strengthening trade, investment and technological cooperation; and fourth, building a more democratic, peaceful and secure world. We expect that leaders will agree on a very concrete and ambitious set of deliverables in all these four areas and we believe that this event has the potential to be a key milestone in renewing and re—energising our partnership. A strong transatlantic partnership is vital to ensure, and to contribute to, our common security, stability and prosperity. A renewed transatlantic agenda is necessary to find joint answers to global challenges and make it deliver for our citizens. We hope that the summit will not be a one—off event and that regular exchanges between the EU and the United States will resume at different levels. Discussions in preparation for the summit are under way, both with EU Member States and on the US side, and I am sure that today’s exchange will provide a timely and important input into the summit preparations. I’m very keen to listen to your views. Thank you very much for your attention.'\n",
    "tokens1_1 = word_tokenize(raw1_1)\n",
    "for word in tokens1_1:\n",
    "    print(word, end=' ')"
   ]
  },
  {
   "cell_type": "code",
   "execution_count": 36,
   "metadata": {},
   "outputs": [
    {
     "name": "stdout",
     "output_type": "stream",
     "text": [
      "Valdis Dombrovskis , Executive Vice-President of the Commission . – Madam President , the transatlantic relationship is a beacon of democracy and prosperity . We share deep historical ties , as well as the biggest trade and investment relationship in the world . Our trade flows reached a value of almost EUR one trillion . But our partnership goes beyond economics . We have shared values , and we are committed to supporting democracy across the world . We share a fundamental belief in strong global rules and institutions that give every country a fair chance to flourish . When the EU and US speak with one voice , we can get things done . Today , after some years of turbulence , the atmosphere has changed for the better . We are looking for new avenues for joint leadership : ending the COVID-19 pandemic and driving the economic recovery ; building a more democratic , peaceful and secure world ; World Trade Organization reform ; climate and green growth ; trade and technology ; levelling the global level playing field . Back last December , the EU reached out to the incoming Biden administration with a proposal for a renewed transatlantic agenda . The Commission welcomes the European Parliament ’ s support for this approach . We are engaging intensively with our American counterparts to translate our intentions into action . I have had very constructive conversations with US Trade Representative Ambassador Tai and Secretary of Commerce Raimondo in this regard . We now have two important opportunities to advance our strategy : a G7 summit in the UK next week and the EU-US summit on 15 June . Let me start with the G7 summit . The participation of President Biden and the new US administration , together with the parallel Italian G20 Presidency , offers an excellent opportunity to reinvigorate the G7 . The EU will be calling for stronger multilateral cooperation , in particular on health , climate , the economic recovery , and bolstering our common values as open societies and democracies . Our key priorities for this year ’ s G7 summit focus on beating the pandemic , recovering from the crisis while building a better future , strengthening the multilateral trading system , working for a successful COP 26 , and joining forces for a human-centric digital transformation . Let me briefly address each of our priorities . On health , while overcoming the COVID pandemic is our immediate priority , we should also enhance our preparedness for possible future pandemics . Good progress was made at the G20 Global Health Summit co-hosted by Italy and the European Commission in May . The EU demonstrated its full commitment to global solidarity . We want to build on this progress and agree on a G7 Health Declaration . The EU will push for more ambitious commitments to share vaccines with developing countries , and financing the Access to COVID-19 Tools Accelerator . We are also fully committed to supporting the development of vaccine manufacturing capacity in developing countries , and we are driving this work forward via forums like the WTO . On the economic recovery , we have provided unprecedented support to citizens and businesses to mitigate the impact of the pandemic . Given the magnitude of the COVID-19 crisis ’ s economic impact , this support has proven very successful . At the G7 summit , we will insist that economic support should not be abandoned too early , but should still be maintained to allow the recovery to gain proper ground . But we will equally insist that in order to build a better future , we should shift from crisis response to promoting strong , resilient , sustainable , balanced and inclusive growth . Trade will play a major role . We all agree that the multilateral trading system needs to be reformed , and I thank the honourable Members for their consistent leadership in this respect . The G7 has a responsibility to lead the reform effort , and the EU will be proactively calling for this strong approach . When it comes to the digital arena , our aim at the G7 summit will be to show unity between like-minded partners . We want to send a clear message that we are ready to cooperate and shape a digital future based on our shared democratic values . G7 trade ministers have already expressed strong support for open digital markets and opposition to digital protectionism – in line with the EU ’ s own approach . We strongly support the creation of new rules for digital trade at the World Trade Organization . We are committed to advancing the joint statement initiative on e-commerce . Leading on environment and climate action is the EU ’ s first priority . At the G7 , we will continue pushing for ambitious COP 26 commitments on climate change and for ambitious COP 15 commitments on biodiversity . At the summit , the G7 will show strong leadership by signing up for an unprecedented joint commitment concerning net-zero emissions by 2050 at the latest . Finally , the G7 summit will provide an opportunity to promote our democratic values and open society around the world , notably by endorsing a joint declaration with like-minded democracies : the Republic of Korea , India , Australia and South Africa . We want to engage with our international partners on geopolitical challenges , including the latest developments in Russia and Belarus . We will continue to call for the immediate and unconditional release of Belarusian journalist Raman Pratasevich . Now moving on to next Tuesday ’ s EU-US summit . We very much welcome the Biden administration ’ s re-engagement on the global stage and its commitment to reinvigorating the traditional alliance with Europe . The summit will be an opportunity to show the world that we are serious about tackling global challenges together . We will commit to upholding democracy and human rights , to ending the pandemic and addressing global health in general . We will also commit to protecting our planet and supporting an economic recovery that benefits everyone . We also hope that the summit can deliver a more positive trade agenda . We will commit to collectively addressing the challenges stemming from non-market economies . And , as a trust and confidence-building measure , we have to de-escalate and solve EU-US trade disputes . We want to make decisive progress in resolving our bilateral disputes on aircraft and the US Section 232 measures on steel and aluminium . On the latter , we sent a clear signal to the US of our willingness to solve this issue in a fair and balanced way , by suspending the automatic doubling of our legitimate countermeasures . It is now for the US to walk the talk . Beyond immediate priorities , the EU and US should move closer when it comes to defining technologies , green and digital economies and societies of the future . To that end , the EU has proposed establishing a Trade and Technology Council to deliver transatlantic leadership in the area of trade and digital , based on our shared values . Of course , this cooperation should also be open to like-minded partners . Last but not least , we also hope to forge an alliance with the US to cooperate on World Trade Organization reform . We need to bring the global trade rulebook up to date , helping us to address the many challenges we face . Finally , we will engage with the US on critical geopolitical challenges , including Russia and China , but also in supporting the EU ’ s eastern partners such as Ukraine , Georgia and Moldova , strengthening our joint engagement in the Western Balkans , and ensuring stability in the Middle East and Africa . To conclude , the Commission is looking forward to these important summits and we will inform you of their outcome . "
     ]
    }
   ],
   "source": [
    "raw1_2 = 'Valdis Dombrovskis, Executive Vice-President of the Commission. – Madam President, the transatlantic relationship is a beacon of democracy and prosperity. We share deep historical ties, as well as the biggest trade and investment relationship in the world. Our trade flows reached a value of almost EUR one trillion. But our partnership goes beyond economics. We have shared values, and we are committed to supporting democracy across the world. We share a fundamental belief in strong global rules and institutions that give every country a fair chance to flourish. When the EU and US speak with one voice, we can get things done. Today, after some years of turbulence, the atmosphere has changed for the better. We are looking for new avenues for joint leadership: ending the COVID-19 pandemic and driving the economic recovery; building a more democratic, peaceful and secure world; World Trade Organization reform; climate and green growth; trade and technology; levelling the global level playing field. Back last December, the EU reached out to the incoming Biden administration with a proposal for a renewed transatlantic agenda. The Commission welcomes the European Parliament’s support for this approach. We are engaging intensively with our American counterparts to translate our intentions into action. I have had very constructive conversations with US Trade Representative Ambassador Tai and Secretary of Commerce Raimondo in this regard. We now have two important opportunities to advance our strategy: a G7 summit in the UK next week and the EU-US summit on 15 June. Let me start with the G7 summit. The participation of President Biden and the new US administration, together with the parallel Italian G20 Presidency, offers an excellent opportunity to reinvigorate the G7. The EU will be calling for stronger multilateral cooperation, in particular on health, climate, the economic recovery, and bolstering our common values as open societies and democracies. Our key priorities for this year’s G7 summit focus on beating the pandemic, recovering from the crisis while building a better future, strengthening the multilateral trading system, working for a successful COP 26, and joining forces for a human-centric digital transformation. Let me briefly address each of our priorities. On health, while overcoming the COVID pandemic is our immediate priority, we should also enhance our preparedness for possible future pandemics. Good progress was made at the G20 Global Health Summit co-hosted by Italy and the European Commission in May. The EU demonstrated its full commitment to global solidarity. We want to build on this progress and agree on a G7 Health Declaration. The EU will push for more ambitious commitments to share vaccines with developing countries, and financing the Access to COVID-19 Tools Accelerator. We are also fully committed to supporting the development of vaccine manufacturing capacity in developing countries, and we are driving this work forward via forums like the WTO. On the economic recovery, we have provided unprecedented support to citizens and businesses to mitigate the impact of the pandemic. Given the magnitude of the COVID-19 crisis’s economic impact, this support has proven very successful. At the G7 summit, we will insist that economic support should not be abandoned too early, but should still be maintained to allow the recovery to gain proper ground. But we will equally insist that in order to build a better future, we should shift from crisis response to promoting strong, resilient, sustainable, balanced and inclusive growth. Trade will play a major role. We all agree that the multilateral trading system needs to be reformed, and I thank the honourable Members for their consistent leadership in this respect. The G7 has a responsibility to lead the reform effort, and the EU will be proactively calling for this strong approach. When it comes to the digital arena, our aim at the G7 summit will be to show unity between like-minded partners. We want to send a clear message that we are ready to cooperate and shape a digital future based on our shared democratic values. G7 trade ministers have already expressed strong support for open digital markets and   opposition to digital protectionism – in line with the EU’s own approach. We strongly support the creation of new rules for digital trade at the World Trade Organization. We are committed to advancing the joint statement initiative on e-commerce. Leading on environment and climate action is the EU’s first priority. At the G7, we will continue pushing for ambitious COP 26 commitments on climate change and for ambitious COP 15 commitments on biodiversity. At the summit, the G7 will show strong leadership by signing up for an unprecedented joint commitment concerning net-zero emissions by 2050 at the latest. Finally, the G7 summit will provide an opportunity to promote our democratic values and open society around the world, notably by endorsing a joint declaration with like-minded democracies: the Republic of Korea, India, Australia and South Africa. We want to engage with our international partners on geopolitical challenges, including the latest developments in Russia and Belarus. We will continue to call for the immediate and unconditional release of Belarusian journalist Raman Pratasevich. Now moving on to next Tuesday’s EU-US summit. We very much welcome the Biden administration’s re-engagement on the global stage and its commitment to reinvigorating the traditional alliance with Europe. The summit will be an opportunity to show the world that we are serious about tackling global challenges together. We will commit to upholding democracy and human rights, to ending the pandemic and addressing global health in general. We will also commit to protecting our planet and supporting an economic recovery that benefits everyone. We also hope that the summit can deliver a more positive trade agenda. We will commit to collectively addressing the challenges stemming from non-market economies. And, as a trust and confidence-building measure, we have to de-escalate and solve EU-US trade disputes. We want to make decisive progress in resolving our bilateral disputes on aircraft and the US Section 232 measures on steel and aluminium. On the latter, we sent a clear signal to the US of our willingness to solve this issue in a fair and balanced way, by suspending the automatic doubling of our legitimate countermeasures. It is now for the US to walk the talk. Beyond immediate priorities, the EU and US should move closer when it comes to defining technologies, green and digital economies and societies of the future. To that end, the EU has proposed establishing a Trade and Technology Council to deliver transatlantic leadership in the area of trade and digital, based on our shared values. Of course, this cooperation should also be open to like-minded partners. Last but not least, we also hope to forge an alliance with the US to cooperate on World Trade Organization reform. We need to bring the global trade rulebook up to date, helping us to address the many challenges we face. Finally, we will engage with the US on critical geopolitical challenges, including Russia and China, but also in supporting the EU’s eastern partners such as Ukraine, Georgia and Moldova, strengthening our joint engagement in the Western Balkans, and ensuring stability in the Middle East and Africa. To conclude, the Commission is looking forward to these important summits and we will inform you of their outcome.'\n",
    "tokens1_2 = word_tokenize(raw1_2)\n",
    "for word in tokens1_2:\n",
    "    print(word, end=' ')"
   ]
  },
  {
   "cell_type": "code",
   "execution_count": 37,
   "metadata": {},
   "outputs": [
    {
     "name": "stdout",
     "output_type": "stream",
     "text": [
      "Radosław Sikorski , on behalf of the PPE Group . – Madam President , let us give a warm welcome to President Joe Biden , who is an honourable gentleman and a reliable ally . It doesn ’ t mean that we have to agree on everything . I personally believe that decisions on Nord Stream and on Afghanistan are mistakes , but it means that we can do things together . What I ’ d like us to do is to strengthen our democracies , including through sensible regulation of social media , and to complete the deal on taxes and tax havens as we need the money to revive our economies . And , as the Commissioner has just mentioned , to develop common positions on China , on security standards , investments and regulation . President Biden , you ’ ll be seeing Vladimir Putin . Please tell him from us that if he blackmails countries with gas , Nord Stream sanctions will return . If he attacks a neighbour again , we will respond with deeds , not just words . Lastly , that every time he or Mr Lukashenko murders or kidnaps an opponent in the West , we will double our assistance to Russian and Belarusian democrats . Amen . "
     ]
    }
   ],
   "source": [
    "raw1_3 = 'Radosław Sikorski, on behalf of the PPE Group. – Madam President, let us give a warm welcome to President Joe Biden, who is an honourable gentleman and a reliable ally. It doesn’t mean that we have to agree on everything. I personally believe that decisions on Nord Stream and on Afghanistan are mistakes, but it means that we can do things together. What I’d like us to do is to strengthen our democracies, including through sensible regulation of social media, and to complete the deal on taxes and tax havens as we need the money to revive our economies. And, as the Commissioner has just mentioned, to develop common positions on China, on security standards, investments and regulation. President Biden, you’ll be seeing Vladimir Putin. Please tell him from us that if he blackmails countries with gas, Nord Stream sanctions will return. If he attacks a neighbour again, we will respond with deeds, not just words. Lastly, that every time he or Mr Lukashenko murders or kidnaps an opponent in the West, we will double our assistance to Russian and Belarusian democrats. Amen.'\n",
    "tokens1_3 = word_tokenize(raw1_3)\n",
    "for word in tokens1_3:\n",
    "    print(word, end=' ')"
   ]
  },
  {
   "cell_type": "code",
   "execution_count": 38,
   "metadata": {},
   "outputs": [
    {
     "name": "stdout",
     "output_type": "stream",
     "text": [
      "Dacian Cioloş , on behalf of the Renew group . – Madam President , Madam Minister , Mr Vice-President of the Commission , I am glad to see that life is getting back to normal and that multilateralism , in order to prosper , also needs summits and physical meetings . So this G7 in physical meeting is a very good opportunity . I would like to focus on three main messages . First , I would like to highlight the need for a commitment to the mandatory publication of climate-related financial data . It would be a strong signal that we can no longer hide our heads in the sand when it comes to climate change . Corporate climate transparency is an essential first step . The European Union has always taken the initiative in the fight against climate change , and I am addressing the Commission here to remind you that we are committed to creating sustainable employment and that citizens will soon be asking us accounts on the balance sheet of this commitment . This is a topic that should be on the agenda when talking about climate change . Secondly , I want to welcome the historic decision of the G7 finance ministers this weekend on the principle of a minimum tax rate of 15 % on the profits of multinationals . The current international tax rules , which date back more than a century , are an unfair system that we can not defend in front of our citizens . So , it is time to make it evolve and to take this decision on a global level . And it would also be good for the OECD to follow in the footsteps of the G7 , following such a decision . Third , I would like to make an appeal : G7 Heads of State and Government must step up their support for COVAX . We talked today about the European COVAX initiative . It is currently the main instrument of solidarity to fight the COVID-19 pandemic all over the world and it is important to support COVAX not only with declarations , not only with the wish to act better at the international level , even populist declarations . , but also to contribute concretely to support COVAX . Finally , it is refreshing to see that the United States is back on the international scene with a constructive approach . We must remain united between democracies at the international level . More and more authoritarian leaders are openly challenging the democratic system and we must respond to them with courage and firmness . "
     ]
    }
   ],
   "source": [
    "raw1_4 = 'Dacian Cioloş, on behalf of the Renew group. – Madam President, Madam Minister, Mr Vice-President of the Commission, I am glad to see that life is getting back to normal and that multilateralism, in order to prosper, also needs summits and physical meetings. So this G7 in physical meeting is a very good opportunity. I would like to focus on three main messages. First, I would like to highlight the need for a commitment to the mandatory publication of climate-related financial data. It would be a strong signal that we can no longer hide our heads in the sand when it comes to climate change. Corporate climate transparency is an essential first step. The European Union has always taken the initiative in the fight against climate change, and I am addressing the Commission here to remind you that we are committed to creating sustainable employment and that citizens will soon be asking us accounts on the balance sheet of this commitment. This is a topic that should be on the agenda when talking about climate change. Secondly, I want to welcome the historic decision of the G7 finance ministers this weekend on the principle of a minimum tax rate of 15% on the profits of multinationals. The current international tax rules, which date back more than a century, are an unfair system that we cannot defend in front of our citizens. So, it is time to make it evolve and to take this decision on a global level. And it would also be good for the OECD to follow in the footsteps of the G7, following such a decision. Third, I would like to make an appeal: G7 Heads of State and Government must step up their support for COVAX. We talked today about the European COVAX initiative. It is currently the main instrument of solidarity to fight the COVID-19 pandemic all over the world and it is important to support COVAX not only with declarations, not only with the wish to act better at the international level, even populist declarations. , but also to contribute concretely to support COVAX. Finally, it is refreshing to see that the United States is back on the international scene with a constructive approach. We must remain united between democracies at the international level. More and more authoritarian leaders are openly challenging the democratic system and we must respond to them with courage and firmness.'\n",
    "tokens1_4 = word_tokenize(raw1_4)\n",
    "for word in tokens1_4:\n",
    "    print(word, end=' ')"
   ]
  },
  {
   "cell_type": "code",
   "execution_count": 39,
   "metadata": {},
   "outputs": [
    {
     "name": "stdout",
     "output_type": "stream",
     "text": [
      "Philippe Lamberts , on behalf of the Verts/ALE Group . – Madam President Metsola , ladies and gentlemen , every second , day and night , the equivalent of the annual salary of a nurse goes to a tax haven . This tax evasion , for the benefit of multinationals and the super-rich , is a cancer for our democracies . It is fundamentally unfair for the baker , the hairdresser , the small entrepreneur , the teacher , the nurse who themselves pay their fair share – and more – to the community . It undermines our public services , increases inequalities and undermines the confidence of citizens in their institutions . Finally , it wastes precious resources , which we sorely need to face global challenges such as economic recovery and above all the ecological and solidarity transition . The agreement in principle obtained this weekend by the finance ministers of the G7 therefore potentially marks a major turning point for tax justice , because by deciding to introduce a global minimum tax on companies , it is the totem of competition tax which is shattered and the `` business model '' of tax havens which loses all reason to exist . But , as was the case in the past for the lifting of banking secrecy , the initiative is American , and it is on the European side that ambition is lacking . While the Biden administration is proposing an ambitious perspective with a minimum rate of 21 % , European states are pushing , France in the lead , for a 15 % compromise . Let ’ s take the figures : a rate of 15 % would bring in 50 billion annually to the European Union , a rate of 21 % , twice that . Double that , dear colleagues ! Even today , too many European governments cling to the toxic and false trickle-down myth that the profits of big business and the super-rich benefit everyone . It is high time that they remember that their mission is to serve the general interest and not that of the “ happy few ” . I am therefore happy that multilateralism is making a new start , but we must go from intentions to action . On the climate , the impetus is European and it is high time for the American administration to make a concrete commitment . On taxation , on the other hand , the roles are reversed . Let each other show ambition , rather than timidity . "
     ]
    }
   ],
   "source": [
    "raw1_5 = 'Philippe Lamberts, on behalf of the Verts/ALE Group. – Madam President Metsola, ladies and gentlemen, every second, day and night, the equivalent of the annual salary of a nurse goes to a tax haven. This tax evasion, for the benefit of multinationals and the super-rich, is a cancer for our democracies. It is fundamentally unfair for the baker, the hairdresser, the small entrepreneur, the teacher, the nurse who themselves pay their fair share – and more – to the community. It undermines our public services, increases inequalities and undermines the confidence of citizens in their institutions. Finally, it wastes precious resources, which we sorely need to face global challenges such as economic recovery and above all the ecological and solidarity transition. The agreement in principle obtained this weekend by the finance ministers of the G7 therefore potentially marks a major turning point for tax justice, because by deciding to introduce a global minimum tax on companies, it is the totem of competition tax which is shattered and the \"business model\" of tax havens which loses all reason to exist. But, as was the case in the past for the lifting of banking secrecy, the initiative is American, and it is on the European side that ambition is lacking. While the Biden administration is proposing an ambitious perspective with a minimum rate of 21%, European states are pushing, France in the lead, for a 15% compromise. Let’s take the figures: a rate of 15% would bring in 50 billion annually to the European Union, a rate of 21%, twice that. Double that, dear colleagues! Even today, too many European governments cling to the toxic and false trickle-down myth that the profits of big business and the super-rich benefit everyone. It is high time that they remember that their mission is to serve the general interest and not that of the “happy few”. I am therefore happy that multilateralism is making a new start, but we must go from intentions to action. On the climate, the impetus is European and it is high time for the American administration to make a concrete commitment. On taxation, on the other hand, the roles are reversed. Let each other show ambition, rather than timidity.'\n",
    "tokens1_5 = word_tokenize(raw1_5)\n",
    "for word in tokens1_5:\n",
    "    print(word, end=' ')"
   ]
  },
  {
   "cell_type": "code",
   "execution_count": 40,
   "metadata": {},
   "outputs": [
    {
     "name": "stdout",
     "output_type": "stream",
     "text": [
      "Marco Zanni , on behalf of the ID Group . - Madam President , ladies and gentlemen , I thank Commissioner Dombrovskis and the Portuguese Presidency . In my opinion , the next G7 is a fundamental opportunity for the European Union . An opportunity to listen , an opportunity to learn and an opportunity to analyze some strategic errors that unfortunately the Union has committed on very important issues that it will be good to correct in the future . The first issue is our relationship with the UK , with a country which , despite what has happened , has yet to be a country from which we have a lot to learn . The UK , which will host this forum , is a country that will emerge stronger and healthier than the European Union from this pandemic . The economy will run faster and the vaccination campaign , contrary to what happened here , was a success . I believe this is an excellent opportunity to bury the hatchet with the United Kingdom , to accept what has been a choice of the British citizens and to renew a new cooperation with a country that is strategic and very important to us . There is the theme of our relationship with the United States and here too we have a lot to learn from this Administration . Especially the so-called progressives have a lot to learn , and I would like to know what they have to say about the phrases about the origin of the Chinese virus , about which this American administration is still wondering , or the phrases of Vice President Harris about migrants . The United States , once again , teaches us a lesson , that whatever administration is in charge , the national interest comes first . And then , finally , the issue of taxes , a very important issue . A step forward has been made , but it is still not enough . And Europe , which is the home of tax havens and which has had the head of this system as President of the Commission , still has a lot to do in this area . If we can understand these errors , if we can take these countries as an example to correct these errors , then this meeting can really be useful to the European Union . "
     ]
    }
   ],
   "source": [
    "raw1_6 = 'Marco Zanni, on behalf of the ID Group. - Madam President, ladies and gentlemen, I thank Commissioner Dombrovskis and the Portuguese Presidency. In my opinion, the next G7 is a fundamental opportunity for the European Union. An opportunity to listen, an opportunity to learn and an opportunity to analyze some strategic errors that unfortunately the Union has committed on very important issues that it will be good to correct in the future. The first issue is our relationship with the UK, with a country which, despite what has happened, has yet to be a country from which we have a lot to learn. The UK, which will host this forum, is a country that will emerge stronger and healthier than the European Union from this pandemic. The economy will run faster and the vaccination campaign, contrary to what happened here, was a success. I believe this is an excellent opportunity to bury the hatchet with the United Kingdom, to accept what has been a choice of the British citizens and to renew a new cooperation with a country that is strategic and very important to us. There is the theme of our relationship with the United States and here too we have a lot to learn from this Administration. Especially the so-called progressives have a lot to learn, and I would like to know what they have to say about the phrases about the origin of the Chinese virus, about which this American administration is still wondering, or the phrases of Vice President Harris about migrants. The United States, once again, teaches us a lesson, that whatever administration is in charge, the national interest comes first. And then, finally, the issue of taxes, a very important issue. A step forward has been made, but it is still not enough. And Europe, which is the home of tax havens and which has had the head of this system as President of the Commission, still has a lot to do in this area. If we can understand these errors, if we can take these countries as an example to correct these errors, then this meeting can really be useful to the European Union.'\n",
    "tokens1_6 = word_tokenize(raw1_6)\n",
    "for word in tokens1_6:\n",
    "    print(word, end=' ')"
   ]
  },
  {
   "cell_type": "code",
   "execution_count": 41,
   "metadata": {},
   "outputs": [
    {
     "name": "stdout",
     "output_type": "stream",
     "text": [
      "Iratxe García Pérez , on behalf of the S & D Group . – Madam President , eighty years ago , Altiero Spinelli anticipated in the Ventotene Manifesto the loss of weight of governments in the face of gigantic industrial complexes and defended more humane living conditions for the working class . In the face of a pandemic , his words remind us that governments are never the problem , but rather the solution . And in times of crisis , governments with more resources are needed to finance basic public services , in addition to ensuring social cohesion and the survival of democracy itself . The historic agreement to establish a global minimum corporate tax rate of 15 % and for large multinationals to pay taxes where they generate profits ushers in a new era of tax justice historically claimed by social democracy . President Biden affirmed that it was the middle class and not Wall Street that built the United States and also in Europe it was always the humblest class that revived this continent from its ashes . And now , on both sides of the Atlantic , we can not abandon them to their fate . The time has come to lead a global agreement with the United States this summer at the G20 Summit and at the OECD . For the expression of `` historic agreement '' to be an effective reality , it is essential that international cooperation extends to other areas , such as the challenge of vaccination . We in the European Union can be proud of having exported as many vaccines as we have used for our own continent . But not all the G7 powers have done the same . The temporary suspension of intellectual property rights on vaccines can not wait any longer . It is immoral that while rich countries debate the third dose , most people in developing countries do not even have the first . The Summit with the United States should serve not only to revitalize the transatlantic agenda , but also to reverse the decisions of the Trump Administration that have convulsed our neighborhood . In the Middle East , we need the United States to be firmly committed to the two-state solution under international law . The commemoration of the 30th anniversary of the Madrid Peace Conference of this year , which led to the Oslo Accords , is the opportunity to relaunch the Arab-Israeli peace process . Isaac Rabin has already pointed out the path : `` negotiate peace as if there were no terrorism , and fight terrorism as if there were no peace talks . '' We are at a true turning point in history . The post-pandemic multilateral framework will depend on the true determination of the great powers to intensify their cooperation . As the European Union , let us use the strength of our unity and our democratic values ​​to change the global balance in favor of democracy , freedom and equality . "
     ]
    }
   ],
   "source": [
    "raw1_7 = 'Iratxe García Pérez, on behalf of the S&D Group. – Madam President, eighty years ago, Altiero Spinelli anticipated in the Ventotene Manifesto the loss of weight of governments in the face of gigantic industrial complexes and defended more humane living conditions for the working class. In the face of a pandemic, his words remind us that governments are never the problem, but rather the solution. And in times of crisis, governments with more resources are needed to finance basic public services, in addition to ensuring social cohesion and the survival of democracy itself. The historic agreement to establish a global minimum corporate tax rate of 15% and for large multinationals to pay taxes where they generate profits ushers in a new era of tax justice historically claimed by social democracy. President Biden affirmed that it was the middle class and not Wall Street that built the United States and also in Europe it was always the humblest class that revived this continent from its ashes. And now, on both sides of the Atlantic, we cannot abandon them to their fate. The time has come to lead a global agreement with the United States this summer at the G20 Summit and at the OECD. For the expression of \"historic agreement\" to be an effective reality, it is essential that international cooperation extends to other areas, such as the challenge of vaccination. We in the European Union can be proud of having exported as many vaccines as we have used for our own continent. But not all the G7 powers have done the same. The temporary suspension of intellectual property rights on vaccines cannot wait any longer. It is immoral that while rich countries debate the third dose, most people in developing countries do not even have the first. The Summit with the United States should serve not only to revitalize the transatlantic agenda, but also to reverse the decisions of the Trump Administration that have convulsed our neighborhood. In the Middle East, we need the United States to be firmly committed to the two-state solution under international law. The commemoration of the 30th anniversary of the Madrid Peace Conference of this year, which led to the Oslo Accords, is the opportunity to relaunch the Arab-Israeli peace process. Isaac Rabin has already pointed out the path: \"negotiate peace as if there were no terrorism, and fight terrorism as if there were no peace talks.\" We are at a true turning point in history. The post-pandemic multilateral framework will depend on the true determination of the great powers to intensify their cooperation. As the European Union, let us use the strength of our unity and our democratic values ​​to change the global balance in favor of democracy, freedom and equality.'\n",
    "tokens1_7 = word_tokenize(raw1_7)\n",
    "for word in tokens1_7:\n",
    "    print(word, end=' ')"
   ]
  },
  {
   "cell_type": "code",
   "execution_count": 42,
   "metadata": {},
   "outputs": [
    {
     "name": "stdout",
     "output_type": "stream",
     "text": [
      "Geert Bourgeois , on behalf of the ECR Group . – ( NL ) Mr President , after years of transatlantic tensions , expectations for the EU-US summit are very high . Good things have happened with the Biden administration in a short time . I am thinking of the ceasefire in the tariff war . Hopefully there will also be an agreement , Commissioner . But I am also thinking of the agreement in principle within the G7 for a global minimum tax for companies , which I welcome , but the modalities will be extremely important . Let us use this period to develop a new dynamic as like-minded and equals . To start by restoring multilateralism with the rescue and reform of the World Trade Organization . Second , our economies , collectively the largest in the world , must use it to set global standards . But there is also work to be done bilaterally . To begin with , the establishment of the Trade and Technology Council for joint agreements . Second , develop a China strategy with the US . And thirdly , working at the top of the democratic countries . Finally , I express the hope that this Parliament will establish institutional cooperation with Congress . "
     ]
    }
   ],
   "source": [
    "raw1_8 = 'Geert Bourgeois, on behalf of the ECR Group. – (NL) Mr President, after years of transatlantic tensions, expectations for the EU-US summit are very high. Good things have happened with the Biden administration in a short time. I am thinking of the ceasefire in the tariff war. Hopefully there will also be an agreement, Commissioner. But I am also thinking of the agreement in principle within the G7 for a global minimum tax for companies, which I welcome, but the modalities will be extremely important. Let us use this period to develop a new dynamic as like-minded and equals. To start by restoring multilateralism with the rescue and reform of the World Trade Organization. Second, our economies, collectively the largest in the world, must use it to set global standards. But there is also work to be done bilaterally. To begin with, the establishment of the Trade and Technology Council for joint agreements. Second, develop a China strategy with the US. And thirdly, working at the top of the democratic countries. Finally, I express the hope that this Parliament will establish institutional cooperation with Congress.'\n",
    "tokens1_8 = word_tokenize(raw1_8)\n",
    "for word in tokens1_8:\n",
    "    print(word, end=' ')"
   ]
  },
  {
   "cell_type": "code",
   "execution_count": 43,
   "metadata": {},
   "outputs": [
    {
     "name": "stdout",
     "output_type": "stream",
     "text": [
      "Martin Schirdewan , on behalf of The Left Group . – Madam President ! After the G7 industrialized nations finally agreed on a minimum corporate tax rate , there was a lot of praise , including a lot of self-praise . The German Finance Minister even spoke of a tax revolution . And I would like to take a closer look at what that means when Olaf Scholz talks about a revolution . As late as the 1970s , the average OECD corporate tax rate was 45 percent . Five decades later and after a ruinous international dumping competition for the lowest tax rates , it is still 25 percent today . In addition , multinational corporations shift more than a trillion euros in profits to tax havens every year . And so the G7 are now proposing a minimum tax for multinationals of just 15 percent . This roughly corresponds to the rates that are also required in tax havens such as Ireland , Switzerland or Singapore . We must end tax dumping and put a stop to tax avoidance . And that is why the left in the EP is calling for an effective minimum taxation of multinationals and big tech corporations of 25 percent , so that multinationals and big tech finally have to pay their fair share of the tax revenue . And the upcoming EU-US summit must send a clear message to companies like Amazon : If you want to play here on the European digital market , then by our rules ! Jeff Bezos , start paying your taxes like any other decent person ! Starvation wages are unacceptable , union busting is unacceptable , worker surveillance is unacceptable ! European workers have a right to unionization and good working conditions . And the USA - like over 100 other countries - is demanding the suspension of patent protection for the corona vaccines in order to be able to successfully combat the pandemic worldwide . Only the EU member states and the Commission still stand in the way of this concern , because global health protection seems to be worth less here than the profit interests of the pharmaceutical industry . I really hope that Joe Biden will teach you some sanity and that you will give up this wrong policy . And please tell the US President that many Europeans are concerned about the increasing tensions in the relationship between China and the USA and that you do not want any further dangerous escalation in relations with Russia . Peace in Europe also means not starting a new Cold War . The EU should not fall back into blind vassalage to the USA , but strive for a peacekeeping role in world politics , with independent relationships with China , Russia and also the USA , based on multilateralism in which possible international conflicts are solved by international law will . "
     ]
    }
   ],
   "source": [
    "raw1_9 = 'Martin Schirdewan, on behalf of The Left Group. – Madam President! After the G7 industrialized nations finally agreed on a minimum corporate tax rate, there was a lot of praise, including a lot of self-praise. The German Finance Minister even spoke of a tax revolution. And I would like to take a closer look at what that means when Olaf Scholz talks about a revolution. As late as the 1970s, the average OECD corporate tax rate was 45 percent. Five decades later and after a ruinous international dumping competition for the lowest tax rates, it is still 25 percent today. In addition, multinational corporations shift more than a trillion euros in profits to tax havens every year. And so the G7 are now proposing a minimum tax for multinationals of just 15 percent. This roughly corresponds to the rates that are also required in tax havens such as Ireland, Switzerland or Singapore. We must end tax dumping and put a stop to tax avoidance. And that is why the left in the EP is calling for an effective minimum taxation of multinationals and big tech corporations of 25 percent, so that multinationals and big tech finally have to pay their fair share of the tax revenue. And the upcoming EU-US summit must send a clear message to companies like Amazon: If you want to play here on the European digital market, then by our rules! Jeff Bezos, start paying your taxes like any other decent person! Starvation wages are unacceptable, union busting is unacceptable, worker surveillance is unacceptable! European workers have a right to unionization and good working conditions. And the USA - like over 100 other countries - is demanding the suspension of patent protection for the corona vaccines in order to be able to successfully combat the pandemic worldwide. Only the EU member states and the Commission still stand in the way of this concern, because global health protection seems to be worth less here than the profit interests of the pharmaceutical industry. I really hope that Joe Biden will teach you some sanity and that you will give up this wrong policy. And please tell the US President that many Europeans are concerned about the increasing tensions in the relationship between China and the USA and that you do not want any further dangerous escalation in relations with Russia. Peace in Europe also means not starting a new Cold War. The EU should not fall back into blind vassalage to the USA, but strive for a peacekeeping role in world politics, with independent relationships with China, Russia and also the USA, based on multilateralism in which possible international conflicts are solved by international law will.'\n",
    "tokens1_9 = word_tokenize(raw1_9)\n",
    "for word in tokens1_9:\n",
    "    print(word, end=' ')"
   ]
  },
  {
   "cell_type": "code",
   "execution_count": 44,
   "metadata": {},
   "outputs": [
    {
     "name": "stdout",
     "output_type": "stream",
     "text": [
      "Costas Papadakis ( NI ) . Madam President , the depth of the capitalist crisis belies the bourgeois expectation of the EU and the US that recovery funds or government subsidies would ensure a speedy recovery and dominance of international competition with China and its interests . The June meetings of the EU , NATO , the G7 as well as the one between the EU and the US are marked by the search for new , more effective formats against China and Russia . But these imperialist alliances have nothing to do with the interests of the peoples . The digital and green transition evangelized by the EU and Biden is neither philanthropic nor environmentally friendly nor peaceful . The minimal sham taxes on monopolies are a drop in the ocean of tax havens , tax breaks and the myriad tools they have to pass on any new tax burdens to peoples , including more expensive goods and services . In their independent struggle , the people must chart a course based on their own interests and needs , in conflict with their monopolies , unions and governments . "
     ]
    }
   ],
   "source": [
    "raw1_10 = 'Costas Papadakis (NI). Madam President, the depth of the capitalist crisis belies the bourgeois expectation of the EU and the US that recovery funds or government subsidies would ensure a speedy recovery and dominance of international competition with China and its interests. The June meetings of the EU, NATO, the G7 as well as the one between the EU and the US are marked by the search for new, more effective formats against China and Russia. But these imperialist alliances have nothing to do with the interests of the peoples. The digital and green transition evangelized by the EU and Biden is neither philanthropic nor environmentally friendly nor peaceful. The minimal sham taxes on monopolies are a drop in the ocean of tax havens, tax breaks and the myriad tools they have to pass on any new tax burdens to peoples, including more expensive goods and services. In their independent struggle, the people must chart a course based on their own interests and needs, in conflict with their monopolies, unions and governments.'\n",
    "tokens1_10 = word_tokenize(raw1_10)\n",
    "for word in tokens1_10:\n",
    "    print(word, end=' ')"
   ]
  },
  {
   "cell_type": "code",
   "execution_count": 45,
   "metadata": {},
   "outputs": [
    {
     "name": "stdout",
     "output_type": "stream",
     "text": [
      "Esteban González Pons ( EPP ) . – Madam President , ladies and gentlemen , everything is globalized except politics . The economy , culture , social relations , even illnesses , crises are globalized . Lies are globalized . Everything is global , but politics is not . The democratic principle no , the principle of equality no , freedom no . Paradoxically , the greater the scope of our coexistence , the smaller the space of our politics . Economic globalization produces political nationalism . Today it is easier to open a current account in any bank in the world than to vote in the legislative elections of our country from abroad . There are many global companies that have budgets and revenues higher than the GDPs of many industrialized countries . I am not talking about others . Industrialized . For example , the North American Walmart has more income than the GDP of Belgium . To continue thinking that globalization governs itself is to remain as Europeans at the mercy of the Chinese development model . For this reason , the agreement reached by the G7 to establish a global minimum corporate tax rate is a step forward , because taxes must be paid where the profits are produced and because tax havens are the cancer of global politics . Let us take advantage of the talks with the United States to relaunch the free trade agreement because , if we are not in globalization , globalization will marginalize us and we will cease to be politically influential . "
     ]
    }
   ],
   "source": [
    "raw1_11 = 'Esteban González Pons (EPP). – Madam President, ladies and gentlemen, everything is globalized except politics. The economy, culture, social relations, even illnesses, crises are globalized. Lies are globalized. Everything is global, but politics is not. The democratic principle no, the principle of equality no, freedom no. Paradoxically, the greater the scope of our coexistence, the smaller the space of our politics. Economic globalization produces political nationalism. Today it is easier to open a current account in any bank in the world than to vote in the legislative elections of our country from abroad. There are many global companies that have budgets and revenues higher than the GDPs of many industrialized countries. I am not talking about others. Industrialized. For example, the North American Walmart has more income than the GDP of Belgium. To continue thinking that globalization governs itself is to remain as Europeans at the mercy of the Chinese development model. For this reason, the agreement reached by the G7 to establish a global minimum corporate tax rate is a step forward, because taxes must be paid where the profits are produced and because tax havens are the cancer of global politics. Let us take advantage of the talks with the United States to relaunch the free trade agreement because, if we are not in globalization, globalization will marginalize us and we will cease to be politically influential.'\n",
    "tokens1_11 = word_tokenize(raw1_11)\n",
    "for word in tokens1_11:\n",
    "    print(word, end=' ')"
   ]
  },
  {
   "cell_type": "code",
   "execution_count": 46,
   "metadata": {},
   "outputs": [
    {
     "name": "stdout",
     "output_type": "stream",
     "text": [
      "Marek Belka ( S & D ) . – Madam President , the pandemic has hit our economies hard . The upcoming G7 summit will also discuss a global recovery response . Everybody should play their part , and yet there are some that are not paying their fair share in the struggle . Last week ’ s agreement of G7 finance ministers shows that citizens ’ disapproval of tax bailouts for corporations has been heard . I welcome the deal . However , I hope that the G7 summit will bring us even more ambitious solutions . Still , we are far from a done deal . Are we sure that all EU countries will adopt this deal when their competitive advantage is a tax rate lower than the one proposed ? How many and which companies would be covered ? This House gives the Commission a clear mandate to act tough on tax fairness and transparency at the G7 summit . We are not ready to play nice with crooks and tax havens , especially not now . "
     ]
    }
   ],
   "source": [
    "raw1_12 = 'Marek Belka (S&D). – Madam President, the pandemic has hit our economies hard. The upcoming G7 summit will also discuss a global recovery response. Everybody should play their part, and yet there are some that are not paying their fair share in the struggle. Last week’s agreement of G7 finance ministers shows that citizens’ disapproval of tax bailouts for corporations has been heard. I welcome the deal. However, I hope that the G7 summit will bring us even more ambitious solutions. Still, we are far from a done deal. Are we sure that all EU countries will adopt this deal when their competitive advantage is a tax rate lower than the one proposed? How many and which companies would be covered? This House gives the Commission a clear mandate to act tough on tax fairness and transparency at the G7 summit. We are not ready to play nice with crooks and tax havens, especially not now.'\n",
    "tokens1_12 = word_tokenize(raw1_12)\n",
    "for word in tokens1_12:\n",
    "    print(word, end=' ')"
   ]
  },
  {
   "cell_type": "code",
   "execution_count": 47,
   "metadata": {},
   "outputs": [
    {
     "name": "stdout",
     "output_type": "stream",
     "text": [
      "Hilde Vautmans ( Renew ) . – Madam President , until recently , G7 meetings were boring administrative meetings at which the big Western leaders discussed the economic and financial health of their economies . Today , the G7 has to change course drastically as we no longer live in a world in which liberal democracy is evident . Instead of being a loose club of wealthy nations , the G7 urgently needs to become an active alliance of genuine democracies – a solid alliance ready to fight authoritarian crooks like Lukashenko with a worldwide sanctions regime , to cease doing business with countries or in products produced by slave labour or on the back of our planet , and to radically rethink our military alliances and strategies . Even for the new Biden administration , a European army and a UN defence unit are no longer taboo . Let us show courage , ambition and vision in this G7 . Let ’ s go forward with a new concept for a G7 in defence of our values and our freedoms – a G7 willing to fight for it . "
     ]
    }
   ],
   "source": [
    "raw1_13 = 'Hilde Vautmans (Renew). – Madam President, until recently, G7 meetings were boring administrative meetings at which the big Western leaders discussed the economic and financial health of their economies. Today, the G7 has to change course drastically as we no longer live in a world in which liberal democracy is evident. Instead of being a loose club of wealthy nations, the G7 urgently needs to become an active alliance of genuine democracies – a solid alliance ready to fight authoritarian crooks like Lukashenko with a worldwide sanctions regime, to cease doing business with countries or in products produced by slave labour or on the back of our planet, and to radically rethink our military alliances and strategies. Even for the new Biden administration, a European army and a UN defence unit are no longer taboo. Let us show courage, ambition and vision in this G7. Let’s go forward with a new concept for a G7 in defence of our values and our freedoms – a G7 willing to fight for it.'\n",
    "tokens1_13 = word_tokenize(raw1_13)\n",
    "for word in tokens1_13:\n",
    "    print(word, end=' ')"
   ]
  },
  {
   "cell_type": "code",
   "execution_count": 48,
   "metadata": {},
   "outputs": [
    {
     "name": "stdout",
     "output_type": "stream",
     "text": [
      "Reinhard Bütikofer ( Verts/ALE ) . – Madam President , Vice—President Dombrovskis has justifiably heaped high praise on the return of the US administration to the tradition of working with allies . Mr Dombrovskis , you have sung well the gospel of transatlantic allegiance . You have emphasised that we have to translate intentions into action and you have promised joint leadership . But alas , as I listened attentively to what you said , I missed one very important topic for showing leadership . If we want to create , as Biden says , a 3B world – a ‘ built back better ’ world – we have to emphasise the need for an international infrastructure investment initiative , or call it a connectivity strategy , or call it a European Global Partner Europe Initiative . Whatever the name , this House has shown the way . When we discussed the topic in January , the Commission pledged full support for the agenda . But I get the impression that the Commission still hasn ’ t got it . Not a single word from you on the topic , even though President Biden has emphasised it . We have lost too much time already . We have moved forward only little by little , against internal opposition . Now there ’ s a chance for a breakthrough . If the Commission fails Europe on this , it is also failing Member States and Parliament at the same time . Now is the time to go big , Vice—President . Go big or go out of the way ! "
     ]
    }
   ],
   "source": [
    "raw1_14 = 'Reinhard Bütikofer (Verts/ALE). – Madam President, Vice—President Dombrovskis has justifiably heaped high praise on the return of the US administration to the tradition of working with allies. Mr Dombrovskis, you have sung well the gospel of transatlantic allegiance. You have emphasised that we have to translate intentions into action and you have promised joint leadership. But alas, as I listened attentively to what you said, I missed one very important topic for showing leadership. If we want to create, as Biden says, a 3B world – a ‘built back better’ world – we have to emphasise the need for an international infrastructure investment initiative, or call it a connectivity strategy, or call it a European Global Partner Europe Initiative. Whatever the name, this House has shown the way. When we discussed the topic in January, the Commission pledged full support for the agenda. But I get the impression that the Commission still hasn’t got it. Not a single word from you on the topic, even though President Biden has emphasised it. We have lost too much time already. We have moved forward only little by little, against internal opposition. Now there’s a chance for a breakthrough. If the Commission fails Europe on this, it is also failing Member States and Parliament at the same time. Now is the time to go big, Vice—President. Go big or go out of the way!'\n",
    "tokens1_14 = word_tokenize(raw1_14)\n",
    "for word in tokens1_14:\n",
    "    print(word, end=' ')"
   ]
  },
  {
   "cell_type": "code",
   "execution_count": 49,
   "metadata": {},
   "outputs": [
    {
     "name": "stdout",
     "output_type": "stream",
     "text": [
      "Jerome Riviere ( ID ) . – Madam President , ladies and gentlemen , with the approach of the G7 , followed by the United States-European Union summit , never in its history has Europe weighed so little on the international scene . This worldview , guided by the notion that European nations are merely an American protectorate , is not suited to the challenges of our time , even though the United States is and will remain our allies and friends . This posture of submission makes us embrace the anti-Russian obsession of our American friends , while the geographical , economic and demographic realities should push us to the realism of a renewed partnership . Moreover , trying to portray the European Union as an international interlocutor when the own interests of the Member States are so divergent is at best a utopia , at worst a historical tragedy . Diplomacy is the prerogative of nations . The European Union is only an institution . France , with its overseas territories , nuclear weapons and its place on the United Nations Security Council , can have – must have – a world policy . The cooperation of European nations should not be synonymous with their disappearance , especially in a domain as sovereign as that of diplomacy . "
     ]
    }
   ],
   "source": [
    "raw1_15 = 'Jerome Riviere (ID). – Madam President, ladies and gentlemen, with the approach of the G7, followed by the United States-European Union summit, never in its history has Europe weighed so little on the international scene. This worldview, guided by the notion that European nations are merely an American protectorate, is not suited to the challenges of our time, even though the United States is and will remain our allies and friends. This posture of submission makes us embrace the anti-Russian obsession of our American friends, while the geographical, economic and demographic realities should push us to the realism of a renewed partnership. Moreover, trying to portray the European Union as an international interlocutor when the own interests of the Member States are so divergent is at best a utopia, at worst a historical tragedy. Diplomacy is the prerogative of nations. The European Union is only an institution. France, with its overseas territories, nuclear weapons and its place on the United Nations Security Council, can have – must have – a world policy. The cooperation of European nations should not be synonymous with their disappearance, especially in a domain as sovereign as that of diplomacy.'\n",
    "tokens1_15 = word_tokenize(raw1_15)\n",
    "for word in tokens1_15:\n",
    "    print(word, end=' ')"
   ]
  },
  {
   "cell_type": "code",
   "execution_count": 50,
   "metadata": {},
   "outputs": [
    {
     "name": "stdout",
     "output_type": "stream",
     "text": [
      "Chiara Gemma ( NI ) . - Madam President , ladies and gentlemen , the two major G7 themes scheduled for this week have one element in common . Both on the patents of vaccines and on the taxes to be made to pay to multinationals , the great of the Earth will have to decide whether to take sides with millions of citizens or defend the interests and profits of a very few . We are worried . Biden proposes a tax of 21 % for multinationals and Europe answers no , which is better at 15 % , because it fears the reaction of its internal tax havens . Biden proposes to remove intellectual property from vaccine patents . And Europe answers no , that it is better to do something else , because it fears the reaction of Big Pharma . We are concerned that Europe can become the guardian of the house of the powerful rather than the beacon of democracy of rights and social justice in the world . Let European countries join the G7 and think about the common good . The world is watching you . "
     ]
    }
   ],
   "source": [
    "raw1_16 = 'Chiara Gemma (NI). - Madam President, ladies and gentlemen, the two major G7 themes scheduled for this week have one element in common. Both on the patents of vaccines and on the taxes to be made to pay to multinationals, the great of the Earth will have to decide whether to take sides with millions of citizens or defend the interests and profits of a very few. We are worried. Biden proposes a tax of 21% for multinationals and Europe answers no, which is better at 15%, because it fears the reaction of its internal tax havens. Biden proposes to remove intellectual property from vaccine patents. And Europe answers no, that it is better to do something else, because it fears the reaction of Big Pharma. We are concerned that Europe can become the guardian of the house of the powerful rather than the beacon of democracy of rights and social justice in the world. Let European countries join the G7 and think about the common good. The world is watching you.'\n",
    "tokens1_16 = word_tokenize(raw1_16)\n",
    "for word in tokens1_16:\n",
    "    print(word, end=' ')"
   ]
  },
  {
   "cell_type": "code",
   "execution_count": 51,
   "metadata": {},
   "outputs": [
    {
     "name": "stdout",
     "output_type": "stream",
     "text": [
      "Andrius Kubilius ( PPE ) . – Madam President , the G7 is an important summit of global biggest democracies . Globally for the time being democracy as a value is challenged by autocracies and by internal erosion . The G7 Summit is a good opportunity for the EU to put democracy on the same level of global priorities as climate change . Since here will be not only G7 , but also the EU-US Summit , and at the end the Biden-Putin Summit , so G7 will be a proper opportunity to agree on much more clear Western policy towards Russia , which became the biggest challenge towards democracy on the European continent . The G7 will be a good opportunity to agree on clear common messages to President Putin , with the hope that President Biden will deliver those messages directly to President Putin . The message of G7 towards President Putin should be very simple and clear : hands off Belarus ! Hands off Ukraine ! And hands off Navalny and democracy activists in Russia itself ! President Putin needs to get a clear message that the price for him and for Russia will increase very heavily if he tries to continue his policy of external and internal aggressive war against democracy and if he continues his support to the Lukashenko autocracy . That is what people in Russia , Ukraine and Belarus are expecting from G7 . We can win the battle against climate change , but also we can not lose the battle for the global future of democracy , because that would be a global disaster . "
     ]
    }
   ],
   "source": [
    "raw1_17 = 'Andrius Kubilius (PPE). – Madam President, the G7 is an important summit of global biggest democracies. Globally for the time being democracy as a value is challenged by autocracies and by internal erosion. The G7 Summit is a good opportunity for the EU to put democracy on the same level of global priorities as climate change. Since here will be not only G7, but also the EU-US Summit, and at the end the Biden-Putin Summit, so G7 will be a proper opportunity to agree on much more clear Western policy towards Russia, which became the biggest challenge towards democracy on the European continent. The G7 will be a good opportunity to agree on clear common messages to President Putin, with the hope that President Biden will deliver those messages directly to President Putin. The message of G7 towards President Putin should be very simple and clear: hands off Belarus! Hands off Ukraine! And hands off Navalny and democracy activists in Russia itself! President Putin needs to get a clear message that the price for him and for Russia will increase very heavily if he tries to continue his policy of external and internal aggressive war against democracy and if he continues his support to the Lukashenko autocracy. That is what people in Russia, Ukraine and Belarus are expecting from G7. We can win the battle against climate change, but also we cannot lose the battle for the global future of democracy, because that would be a global disaster.'\n",
    "tokens1_17 = word_tokenize(raw1_17)\n",
    "for word in tokens1_17:\n",
    "    print(word, end=' ')"
   ]
  },
  {
   "cell_type": "code",
   "execution_count": 52,
   "metadata": {},
   "outputs": [
    {
     "name": "stdout",
     "output_type": "stream",
     "text": [
      "Tonino Picula ( S & D ) . – Madam President , it ’ s highly significant that President Biden has chosen Europe as the destination for his first overseas trip . It ’ s a clear sign of the renewed commitment to multilateralism and the transatlantic relationship . The transatlantic link is a bedrock of the international rules-based system that ushered the world into an era of peace and prosperity after World War II . Challenges remain in trade approaches to Russia , China and other areas , agriculture and data protection – especially after recent revelations . We have to seek to redefine our relationship on an equal footing and take greater responsibility . Nevertheless , we are encouraged by the political will from Washington to tackle our differences in a constructive manner . The G7 ministerial agreement on the minimum tax rate on multinational companies comes as the best introduction for the events next week and a great step forward towards tax justice . SMEs have carried an unfair burden for too long . It ’ s high time for the multinational companies that often profited from the pandemic to contribute fairly to the global recovery . "
     ]
    }
   ],
   "source": [
    "raw1_18 = 'Tonino Picula (S&D). – Madam President, it’s highly significant that President Biden has chosen Europe as the destination for his first overseas trip. It’s a clear sign of the renewed commitment to multilateralism and the transatlantic relationship. The transatlantic link is a bedrock of the international rules-based system that ushered the world into an era of peace and prosperity after World War II. Challenges remain in trade approaches to Russia, China and other areas, agriculture and data protection – especially after recent revelations. We have to seek to redefine our relationship on an equal footing and take greater responsibility. Nevertheless, we are encouraged by the political will from Washington to tackle our differences in a constructive manner. The G7 ministerial agreement on the minimum tax rate on multinational companies comes as the best introduction for the events next week and a great step forward towards tax justice. SMEs have carried an unfair burden for too long. It’s high time for the multinational companies that often profited from the pandemic to contribute fairly to the global recovery.'\n",
    "tokens1_18 = word_tokenize(raw1_18)\n",
    "for word in tokens1_18:\n",
    "    print(word, end=' ')"
   ]
  },
  {
   "cell_type": "code",
   "execution_count": 53,
   "metadata": {},
   "outputs": [
    {
     "name": "stdout",
     "output_type": "stream",
     "text": [
      "Nicolae Ştefănuță ( Renew ) . – Madam President , Secretary Blinken recently said the more that countries with complementary strengths unite to achieve shared goals , the better for us all . If the power that lies in us is the sum of multiple forces , we need to learn to aim in the same direction . To deliver freedom worldwide , let ’ s fully engage in the global summit for democracy . Let ’ s remember what democracy learning means . Let ’ s remember 6 January . But let ’ s also think of 8 June here in France . How will that help us to win this fight ? To guarantee our fight for Euro-Atlantic security , let ’ s strengthen the European flanks by investing in defence research and military mobility . To respond to future health threats , let ’ s not compete when the next epidemic strikes us , but let ’ s join forces with the US . I welcome President Biden ’ s visit to Europe . I think he is welcome here . And through unity of purpose , I believe that there is no limit to what we can achieve together . "
     ]
    }
   ],
   "source": [
    "raw1_19 = 'Nicolae Ştefănuță (Renew). – Madam President, Secretary Blinken recently said the more that countries with complementary strengths unite to achieve shared goals, the better for us all. If the power that lies in us is the sum of multiple forces, we need to learn to aim in the same direction. To deliver freedom worldwide, let’s fully engage in the global summit for democracy. Let’s remember what democracy learning means. Let’s remember 6 January. But let’s also think of 8 June here in France. How will that help us to win this fight? To guarantee our fight for Euro-Atlantic security, let’s strengthen the European flanks by investing in defence research and military mobility. To respond to future health threats, let’s not compete when the next epidemic strikes us, but let’s join forces with the US. I welcome President Biden’s visit to Europe. I think he is welcome here. And through unity of purpose, I believe that there is no limit to what we can achieve together.'\n",
    "tokens1_19 = word_tokenize(raw1_19)\n",
    "for word in tokens1_19:\n",
    "    print(word, end=' ')"
   ]
  },
  {
   "cell_type": "code",
   "execution_count": 54,
   "metadata": {},
   "outputs": [
    {
     "name": "stdout",
     "output_type": "stream",
     "text": [
      "Heidi Hautala ( Verts/ALE ) . – Madam President , beating COVID—19 and building back better is now the priority for international cooperation . To build back better , global business must be made more transparent , sustainable and accountable . The pandemic has shed a lot of light on the fragility of global value chains . Now , the EU has a unique chance to ensure that the value chains of companies are also free of human rights violations , such as child and forced labour , and that lands of multinational companies are not destroying the livelihoods of indigenous peoples . The EU has just agreed on the important first step on public country—by—country reporting on income taxes of companies , and we are also moving towards corporate sustainability reporting and towards mandatory human rights and environmental due diligence . The EU is indeed a global leader on corporate accountability . We need to act fast and ambitiously and our best allies are among the G7 . Let us grasp this opportunity . "
     ]
    }
   ],
   "source": [
    "raw1_20 = 'Heidi Hautala (Verts/ALE). – Madam President, beating COVID—19 and building back better is now the priority for international cooperation. To build back better, global business must be made more transparent, sustainable and accountable. The pandemic has shed a lot of light on the fragility of global value chains. Now, the EU has a unique chance to ensure that the value chains of companies are also free of human rights violations, such as child and forced labour, and that lands of multinational companies are not destroying the livelihoods of indigenous peoples. The EU has just agreed on the important first step on public country—by—country reporting on income taxes of companies, and we are also moving towards corporate sustainability reporting and towards mandatory human rights and environmental due diligence. The EU is indeed a global leader on corporate accountability. We need to act fast and ambitiously and our best allies are among the G7. Let us grasp this opportunity.'\n",
    "tokens1_20 = word_tokenize(raw1_20)\n",
    "for word in tokens1_20:\n",
    "    print(word, end=' ')"
   ]
  },
  {
   "cell_type": "code",
   "execution_count": 55,
   "metadata": {},
   "outputs": [
    {
     "name": "stdout",
     "output_type": "stream",
     "text": [
      "Jaak Madison ( ID ) . - Mr President , Mrs Zacarias and Mr Dombrovskis ! I , too , am very pleased that the United States and the European Union are trying to develop cooperation , but it is , of course , a bit funny or even strange to see such a joyous celebration , the constant glorification that relations between the United States and Europe are now being restored when the right man is in the White House . But at the same time , I have not heard much criticism of the fact that , for example , the US President of today has decided to give a gift to Russia regarding Nord Stream 2 and the lifting of sanctions . No one dares to criticize , because this is the right man in the White House . When another man imposed sanctions to prevent Russia from increasing its influence on the European economy in its energy sector , no one even praised it , it simply said , `` Well , okay , it is great . '' Secondly , if last spring it was quite clear that there is a high probability that in the current situation we are probably in crisis because a virus escaped from one laboratory , and when that was said , everyone was swearing and complaining that this should not be said , this is an insult to China . If Joe Biden orders 90 days to report to the intelligence services whether the virus could have really come from a laboratory and not accidentally jump over a bat to a person in a city with several virus laboratories , that is perfectly normal . Maybe then my call is for us to develop relations , but let us not be ambiguous and let us not talk about rhetoric like values ​​and democracy , which is just one big bubble . "
     ]
    }
   ],
   "source": [
    "raw1_21 = 'Jaak Madison (ID). - Mr President, Mrs Zacarias and Mr Dombrovskis! I, too, am very pleased that the United States and the European Union are trying to develop cooperation, but it is, of course, a bit funny or even strange to see such a joyous celebration, the constant glorification that relations between the United States and Europe are now being restored when the right man is in the White House. But at the same time, I have not heard much criticism of the fact that, for example, the US President of today has decided to give a gift to Russia regarding Nord Stream 2 and the lifting of sanctions. No one dares to criticize, because this is the right man in the White House. When another man imposed sanctions to prevent Russia from increasing its influence on the European economy in its energy sector, no one even praised it, it simply said, \"Well, okay, it is great.\" Secondly, if last spring it was quite clear that there is a high probability that in the current situation we are probably in crisis because a virus escaped from one laboratory, and when that was said, everyone was swearing and complaining that this should not be said, this is an insult to China. If Joe Biden orders 90 days to report to the intelligence services whether the virus could have really come from a laboratory and not accidentally jump over a bat to a person in a city with several virus laboratories, that is perfectly normal. Maybe then my call is for us to develop relations, but let us not be ambiguous and let us not talk about rhetoric like values ​​and democracy, which is just one big bubble.'\n",
    "tokens1_21 = word_tokenize(raw1_21)\n",
    "for word in tokens1_21:\n",
    "    print(word, end=' ')"
   ]
  },
  {
   "cell_type": "code",
   "execution_count": 56,
   "metadata": {},
   "outputs": [
    {
     "name": "stdout",
     "output_type": "stream",
     "text": [
      "Seán Kelly ( PPE ) . – Madam President , the decision of the finance ministers of the G7 countries to back a major package of global corporate tax reform is significant , making agreement at the OECD on this issue look very likely . The interests of small , as well as large , countries need to be taken into account in any deal , including legitimate tax competition . However , this topic has been discussed many times in this House and will be again . So I welcome instead the upcoming EU—US summit and particularly welcome the comments made by President Joe Biden in relation to the Protocol on Ireland and Northern Ireland . Boris Johnson needs to realise that not implementing the commitments that he took in December has ramifications beyond our borders . I agree with President Biden that the Northern Ireland Protocol is a key apparatus in maintaining peace upheld by the Good Friday Agreement , and applaud his statement that a significant trade deal between the US and the UK will be impaired if commitments on the protocol are not honoured . Boris would do well to remember that Joe Biden is fiercely proud of his Irish heritage . Now the chickens have come home to roost . Mr Johnson and Lord Frost seek to blame anyone and everyone in order to avoid the responsibility of their decisions . Not on , not acceptable , now or ever . Honour your commitments , Boris . "
     ]
    }
   ],
   "source": [
    "raw1_22 = 'Seán Kelly (PPE). – Madam President, the decision of the finance ministers of the G7 countries to back a major package of global corporate tax reform is significant, making agreement at the OECD on this issue look very likely. The interests of small, as well as large, countries need to be taken into account in any deal, including legitimate tax competition. However, this topic has been discussed many times in this House and will be again. So I welcome instead the upcoming EU—US summit and particularly welcome the comments made by President Joe Biden in relation to the Protocol on Ireland and Northern Ireland. Boris Johnson needs to realise that not implementing the commitments that he took in December has ramifications beyond our borders. I agree with President Biden that the Northern Ireland Protocol is a key apparatus in maintaining peace upheld by the Good Friday Agreement, and applaud his statement that a significant trade deal between the US and the UK will be impaired if commitments on the protocol are not honoured. Boris would do well to remember that Joe Biden is fiercely proud of his Irish heritage. Now the chickens have come home to roost. Mr Johnson and Lord Frost seek to blame anyone and everyone in order to avoid the responsibility of their decisions. Not on, not acceptable, now or ever. Honour your commitments, Boris.'\n",
    "tokens1_22 = word_tokenize(raw1_22)\n",
    "for word in tokens1_22:\n",
    "    print(word, end=' ')"
   ]
  },
  {
   "cell_type": "code",
   "execution_count": 57,
   "metadata": {},
   "outputs": [
    {
     "name": "stdout",
     "output_type": "stream",
     "text": [
      "Aurore Lalucq ( S & D ) . – Madam President , ladies and gentlemen , as Gabriel Zucman , Director of the European Observatory of Taxation , summed it up perfectly , the latest G7 agreement is historic , unsatisfactory and promising . Historic , because for the first time , states have agreed on a minimum tax rate ; because for the first time , there is potentially a roadblock against all these forces of incivility and tax delinquency . Insufficient , because 15 % can not be enough . Faced with the race for the lowest tax bidder in recent decades , it will be necessary to go further , at least to 21 % , and it would be dangerous even to keep this rate at 15 % . Promising , because nothing , if not national selfishness or the lack of political will , can prevent us from increasing this rate . Promising , above all , because the United States is finally back at the negotiating table , and not just anyhow : with democratic , ecological , economic , social and fiscal ambition . Let us use this favorable balance of power that we have been waiting for so much to be able to move towards more progressivism . The same goes beyond the European Union and the United States . This is potentially a paradigm shift . "
     ]
    }
   ],
   "source": [
    "raw1_23 = 'Aurore Lalucq (S&D). – Madam President, ladies and gentlemen, as Gabriel Zucman, Director of the European Observatory of Taxation, summed it up perfectly, the latest G7 agreement is historic, unsatisfactory and promising. Historic, because for the first time, states have agreed on a minimum tax rate; because for the first time, there is potentially a roadblock against all these forces of incivility and tax delinquency. Insufficient, because 15% cannot be enough. Faced with the race for the lowest tax bidder in recent decades, it will be necessary to go further, at least to 21%, and it would be dangerous even to keep this rate at 15%. Promising, because nothing, if not national selfishness or the lack of political will, can prevent us from increasing this rate. Promising, above all, because the United States is finally back at the negotiating table, and not just anyhow: with democratic, ecological, economic, social and fiscal ambition. Let us use this favorable balance of power that we have been waiting for so much to be able to move towards more progressivism. The same goes beyond the European Union and the United States. This is potentially a paradigm shift.'\n",
    "tokens1_23 = word_tokenize(raw1_23)\n",
    "for word in tokens1_23:\n",
    "    print(word, end=' ')"
   ]
  },
  {
   "cell_type": "code",
   "execution_count": 58,
   "metadata": {},
   "outputs": [
    {
     "name": "stdout",
     "output_type": "stream",
     "text": [
      "Sven Giegold ( Verts/ALE ) . – Madam President ! What we are currently experiencing in America is downright breathtaking . It is a complete shift in policy direction , and that is an opportunity for us in Europe . In America , investments are being made in green and digital change , in social cohesion - financed by a new dawn for tax justice . We have to react to that in Europe and see it as an opportunity . That is why it is so crucial that the large member states and also the European Commission support this direction of politics in America . So I am embarrassed that it is Joe Biden promoting a 21 % minimum tax rate globally and cautionary signals coming from Europe . America deserves full transatlantic partnership here . And when this global tax deal is implemented , Europe must not fall back on the 15 % , but must support America with 21 % . America said : 21 % tax rate . We should not undercut America , we should shake hands here . "
     ]
    }
   ],
   "source": [
    "raw1_24 = 'Sven Giegold (Verts/ALE). – Madam President! What we are currently experiencing in America is downright breathtaking. It is a complete shift in policy direction, and that is an opportunity for us in Europe. In America, investments are being made in green and digital change, in social cohesion - financed by a new dawn for tax justice. We have to react to that in Europe and see it as an opportunity. That is why it is so crucial that the large member states and also the European Commission support this direction of politics in America. So I am embarrassed that it is Joe Biden promoting a 21% minimum tax rate globally and cautionary signals coming from Europe. America deserves full transatlantic partnership here. And when this global tax deal is implemented, Europe must not fall back on the 15%, but must support America with 21%. America said: 21% tax rate. We should not undercut America, we should shake hands here.'\n",
    "tokens1_24 = word_tokenize(raw1_24)\n",
    "for word in tokens1_24:\n",
    "    print(word, end=' ')"
   ]
  },
  {
   "cell_type": "code",
   "execution_count": 59,
   "metadata": {},
   "outputs": [
    {
     "name": "stdout",
     "output_type": "stream",
     "text": [
      "Anna-Michelle Asimakopoulou ( PPE ) . – Madam President , the global pandemic provides a challenging backdrop for both the G7 and the EU—US summits . COVID—19 has created a common need , our need to heal . The summit is a unique opportunity for the EU to show leadership in healing the world . To achieve this , though , we need more than feel-good media lines and carefully drafted , intentionally vapid conclusions . We need to produce tangible results . We also need to heal the transatlantic relationship , which has been wounded in recent years . It ’ s time to move past the blame game . It ’ s time to bury the hatchet . We need to resolve long-standing differences over planes , steel and data . We need to work together to combat unfair trade-distortive practices . We need to agree on a common framework for artificial intelligence and emerging technologies . The pandemic has taught us that we can no longer take anything for granted and that we must fight to preserve what we consider to be most dear to us . So we need to focus now on what brings us together , not on what could tear us apart . Looking ahead , we need to safeguard our democratic principles and our common values . We need to make clear that the world ’ s democracies intend to stand united against autocrats , populists and demagogues . The summits are our chance to prove to the world that the EU can be a leader in the post—COVID world . The world is watching . Let us show them that we are ready , willing and able . "
     ]
    }
   ],
   "source": [
    "raw1_25 = 'Anna-Michelle Asimakopoulou (PPE). – Madam President, the global pandemic provides a challenging backdrop for both the G7 and the EU—US summits. COVID—19 has created a common need, our need to heal. The summit is a unique opportunity for the EU to show leadership in healing the world. To achieve this, though, we need more than feel-good media lines and carefully drafted, intentionally vapid conclusions. We need to produce tangible results. We also need to heal the transatlantic relationship, which has been wounded in recent years. It’s time to move past the blame game. It’s time to bury the hatchet. We need to resolve long-standing differences over planes, steel and data. We need to work together to combat unfair trade-distortive practices. We need to agree on a common framework for artificial intelligence and emerging technologies. The pandemic has taught us that we can no longer take anything for granted and that we must fight to preserve what we consider to be most dear to us. So we need to focus now on what brings us together, not on what could tear us apart. Looking ahead, we need to safeguard our democratic principles and our common values. We need to make clear that the world’s democracies intend to stand united against autocrats, populists and demagogues. The summits are our chance to prove to the world that the EU can be a leader in the post—COVID world. The world is watching. Let us show them that we are ready, willing and able.'\n",
    "tokens1_25 = word_tokenize(raw1_25)\n",
    "for word in tokens1_25:\n",
    "    print(word, end=' ')"
   ]
  },
  {
   "cell_type": "code",
   "execution_count": 60,
   "metadata": {},
   "outputs": [
    {
     "name": "stdout",
     "output_type": "stream",
     "text": [
      "Udo Bullmann ( S & D ) . – Madam President , ladies and gentlemen ! We can no longer ignore it : In the post-Corona world , the poor will have become poorer and the rich will have become significantly richer . The differences grow significantly . In the world after COVID-19 , there is a lack of doctors , nurses and teachers , especially in the Global South . Millions of young people will have remained without school education . If this world is not to fall apart forever , we must act urgently . That is why we call out to the heads of government of the major industrial nations , the EU and the USA , before their joint summit : the momentum is now ! Show courage ! Show courage ! Now is the moment in history when we must make a breakthrough . Global minimum taxes : The large digital corporations must finally make their contribution to the common good . Only if we overcome the outrageous inequalities on this planet will we succeed in building a more just , a more sustainable world tomorrow in our best interest . "
     ]
    }
   ],
   "source": [
    "raw1_26 = 'Udo Bullmann (S&D). – Madam President, ladies and gentlemen! We can no longer ignore it: In the post-Corona world, the poor will have become poorer and the rich will have become significantly richer. The differences grow significantly. In the world after COVID-19, there is a lack of doctors, nurses and teachers, especially in the Global South. Millions of young people will have remained without school education. If this world is not to fall apart forever, we must act urgently. That is why we call out to the heads of government of the major industrial nations, the EU and the USA, before their joint summit: the momentum is now! Show courage! Show courage! Now is the moment in history when we must make a breakthrough. Global minimum taxes: The large digital corporations must finally make their contribution to the common good. Only if we overcome the outrageous inequalities on this planet will we succeed in building a more just, a more sustainable world tomorrow in our best interest.'\n",
    "tokens1_26 = word_tokenize(raw1_26)\n",
    "for word in tokens1_26:\n",
    "    print(word, end=' ')"
   ]
  },
  {
   "cell_type": "code",
   "execution_count": 61,
   "metadata": {},
   "outputs": [
    {
     "name": "stdout",
     "output_type": "stream",
     "text": [
      "Valdis Dombrovskis , Executive Vice-President of the Commission . – Madam President , allow me to offer some final thoughts ahead of the important upcoming summits . The pandemic has put our resilience to the test , not just in Europe but around the world . This has been an unprecedented global health crisis , which has caused economic recession and increased geopolitical rivalry . As we plan our recoveries , it is more important than ever that like-minded democracies work together , in a spirit of solidarity and strategic thinking . There is no stronger partnership than the transatlantic bond . This is the single largest trade and investment relationship in the world . Our daily exchange of goods and services amounts to EUR 2.7 billion and even in 2020 , the year of the pandemic , transatlantic trade flows reached a total value of almost EUR 1 trillion . But our partnership goes beyond this : we also share key democratic and economic values . The European Parliament plays a critical role in maintaining the political relationships that underpin this bond . The Biden administration has contributed to a marked improvement in the tone and working methods of transatlantic relations . Now , at the G7 Summit and EU-US Summit , we need to see this improved spirit translated into meaningful policy proposals . It is often said that the G7 shows its real usefulness in times of crisis . So we can therefore safely say that this year ’ s summit , which starts tomorrow , is very welcome . Likewise , the EU-US Summit on 15 June will give a clear picture of where we stand . On sustainable and inclusive recovery programmes , on climate action , on the digital transformation , on multilateral reform : in these areas and others , we must show that we are ready to once again lead from the front . We are glad to have G7 and US support for the EU ’ s fight for democracy – ranging from Aleksei Navalny and his supporters in Russia ; to the free media around the world – and I would like once again to highlight Raman Pratasevich in Belarus – to the territorial integrity of Ukraine . I thank you , honourable Members , for your strong engagement , and the Commission looks forward to discussing the outcomes of these summits with you . "
     ]
    }
   ],
   "source": [
    "raw1_27 = 'Valdis Dombrovskis, Executive Vice-President of the Commission. – Madam President, allow me to offer some final thoughts ahead of the important upcoming summits. The pandemic has put our resilience to the test, not just in Europe but around the world. This has been an unprecedented global health crisis, which has caused economic recession and increased geopolitical rivalry. As we plan our recoveries, it is more important than ever that like-minded democracies work together, in a spirit of solidarity and strategic thinking. There is no stronger partnership than the transatlantic bond. This is the single largest trade and investment relationship in the world. Our daily exchange of goods and services amounts to EUR 2.7 billion and even in 2020, the year of the pandemic, transatlantic trade flows reached a total value of almost EUR 1 trillion. But our partnership goes beyond this: we also share key democratic and economic values. The European Parliament plays a critical role in maintaining the political relationships that underpin this bond. The Biden administration has contributed to a marked improvement in the tone and working methods of transatlantic relations. Now, at the G7 Summit and EU-US Summit, we need to see this improved spirit translated into meaningful policy proposals. It is often said that the G7 shows its real usefulness in times of crisis. So we can therefore safely say that this year’s summit, which starts tomorrow, is very welcome. Likewise, the EU-US Summit on 15 June will give a clear picture of where we stand. On sustainable and inclusive recovery programmes, on climate action, on the digital transformation, on multilateral reform: in these areas and others, we must show that we are ready to once again lead from the front. We are glad to have G7 and US support for the EU’s fight for democracy – ranging from Aleksei Navalny and his supporters in Russia; to the free media around the world – and I would like once again to highlight Raman Pratasevich in Belarus – to the territorial integrity of Ukraine. I thank you, honourable Members, for your strong engagement, and the Commission looks forward to discussing the outcomes of these summits with you.'\n",
    "tokens1_27 = word_tokenize(raw1_27)\n",
    "for word in tokens1_27:\n",
    "    print(word, end=' ')"
   ]
  },
  {
   "cell_type": "code",
   "execution_count": 62,
   "metadata": {},
   "outputs": [
    {
     "name": "stdout",
     "output_type": "stream",
     "text": [
      "Ana Paula Zacarias , President-in-Office of the Board . – Madam President , Commissioner , ladies and gentlemen , thank you for all your comments . We live in unprecedented times and much has already been done in terms of global cooperation . But we are still not sure , we must continue efforts to collectively overcome the pandemic as a global community , something that will be beneficial to all . We need concrete results from this G7 summit in relation to efforts to support COVAX and in relation to effective international cooperation to ensure global economic and social recovery . We also need to pursue our ambitious agenda on the long-term challenges we face , namely defending our common values ​​and fighting climate change , making our societies more sustainable , innovative , cohesive and prosperous . We need to preserve the spirit of cooperation in the G7 , come up with innovative solutions and continue to provide multilateral responses to all these challenges , thus sending an important signal to the rest of the world . We also need to work bilaterally with partners who share our ideas and values . We believe that President Biden and his Administration are ready and willing to cooperate with us , as the Commissioner said , in the area of ​​climate and digital technologies , but also in the area of ​​taxation , in the area of ​​commerce and in a strategic vision based on our common values . The upcoming summit with the United States will be a unique opportunity to reinvigorate our strategic partnership . We believe that together we will be more effective in facing the challenges and giving confidence and hope to citizens on both sides of the Atlantic in democracy , peace and prosperity . "
     ]
    }
   ],
   "source": [
    "raw1_28 = 'Ana Paula Zacarias, President-in-Office of the Board. – Madam President, Commissioner, ladies and gentlemen, thank you for all your comments. We live in unprecedented times and much has already been done in terms of global cooperation. But we are still not sure, we must continue efforts to collectively overcome the pandemic as a global community, something that will be beneficial to all. We need concrete results from this G7 summit in relation to efforts to support COVAX and in relation to effective international cooperation to ensure global economic and social recovery. We also need to pursue our ambitious agenda on the long-term challenges we face, namely defending our common values ​​and fighting climate change, making our societies more sustainable, innovative, cohesive and prosperous. We need to preserve the spirit of cooperation in the G7, come up with innovative solutions and continue to provide multilateral responses to all these challenges, thus sending an important signal to the rest of the world. We also need to work bilaterally with partners who share our ideas and values. We believe that President Biden and his Administration are ready and willing to cooperate with us, as the Commissioner said, in the area of ​​climate and digital technologies, but also in the area of ​​taxation, in the area of ​​commerce and in a strategic vision based on our common values. The upcoming summit with the United States will be a unique opportunity to reinvigorate our strategic partnership. We believe that together we will be more effective in facing the challenges and giving confidence and hope to citizens on both sides of the Atlantic in democracy, peace and prosperity.'\n",
    "tokens1_28 = word_tokenize(raw1_28)\n",
    "for word in tokens1_28:\n",
    "    print(word, end=' ')"
   ]
  },
  {
   "cell_type": "markdown",
   "metadata": {},
   "source": [
    "---\n",
    "### Combine all parts"
   ]
  },
  {
   "cell_type": "code",
   "execution_count": 63,
   "metadata": {},
   "outputs": [],
   "source": [
    "tokens = tokens1_1 + tokens1_2 + tokens1_3 + tokens1_4 + tokens1_5 + tokens1_6 + tokens1_7 + tokens1_8 + tokens1_9 + tokens1_10 + tokens1_11 + tokens1_12 + tokens1_13 + tokens1_14 + tokens1_15 + tokens1_16 + tokens1_17 + tokens1_18 + tokens1_19 + tokens1_20 + tokens1_21 + tokens1_22 + tokens1_23 + tokens1_24 + tokens1_25 + tokens1_26 + tokens1_27 + tokens1_28 "
   ]
  },
  {
   "cell_type": "markdown",
   "metadata": {},
   "source": [
    "---\n",
    "### Normalize the words "
   ]
  },
  {
   "cell_type": "code",
   "execution_count": 64,
   "metadata": {},
   "outputs": [],
   "source": [
    "type(tokens)\n",
    "eutext16 = [w.lower() for w in tokens]"
   ]
  },
  {
   "cell_type": "markdown",
   "metadata": {},
   "source": [
    "---\n",
    "**Save Output**"
   ]
  },
  {
   "cell_type": "code",
   "execution_count": 65,
   "metadata": {},
   "outputs": [],
   "source": [
    "save_path = '/Users/charlottekaiser/Documents/uni/Hertie/master_thesis/00_data/20_intermediate_files'\n",
    "file_name = \"EU16_Preparation of the G7 summit of 11-13 June and the EU-US Summit.txt\"\n",
    "completeName = os.path.join(save_path, file_name)\n",
    "output = open(completeName, 'w')\n",
    "print(eutext16, file=output)"
   ]
  }
 ],
 "metadata": {
  "interpreter": {
   "hash": "a9869976cf380d12cb70e759e57434a8e82bae01a9f74e734956416b40621c64"
  },
  "kernelspec": {
   "display_name": "Python 3.9.7 ('base')",
   "language": "python",
   "name": "python3"
  },
  "language_info": {
   "codemirror_mode": {
    "name": "ipython",
    "version": 3
   },
   "file_extension": ".py",
   "mimetype": "text/x-python",
   "name": "python",
   "nbconvert_exporter": "python",
   "pygments_lexer": "ipython3",
   "version": "3.9.7"
  },
  "orig_nbformat": 4
 },
 "nbformat": 4,
 "nbformat_minor": 2
}
