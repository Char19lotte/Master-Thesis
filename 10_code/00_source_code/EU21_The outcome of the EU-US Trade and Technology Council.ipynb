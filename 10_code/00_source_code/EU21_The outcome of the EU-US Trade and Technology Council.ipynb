{
 "cells": [
  {
   "cell_type": "markdown",
   "metadata": {},
   "source": [
    "### *Data Collection - European Parliament*\n",
    "## Preparing Raw Data\n",
    "---\n",
    "**Sample Text 21**\n",
    "Title: The outcome of the EU-US Trade and Technology Council <br>\n",
    "Date: November 11, 2021 - Brussels"
   ]
  },
  {
   "cell_type": "code",
   "execution_count": 86,
   "metadata": {},
   "outputs": [],
   "source": [
    "# import necessary libraries\n",
    "import requests\n",
    "from requests_html import HTMLSession\n",
    "import urllib.request\n",
    "import time\n",
    "from bs4 import BeautifulSoup\n",
    "import urllib\n",
    "from urllib import request\n",
    "from __future__ import division\n",
    "import nltk, re, pprint\n",
    "from nltk import word_tokenize\n",
    "from nltk import FreqDist\n",
    "import os.path \n",
    "import pandas as pd"
   ]
  },
  {
   "cell_type": "markdown",
   "metadata": {},
   "source": [
    "---\n",
    "### Process: Trimming debate by inserting the original English or translated English files and tokenizing them.\n",
    "*Note*: Due to time constraint, the process has been optimized.\n",
    "\n",
    "- English parts of the debate will be added manually as a string and then tokenized. \n",
    "\n",
    "- A consistent method of translating and then adding will be applied to all EU Parliament debates:  Non-English parts are copied from the original web pages, inserted in the consistent choice of translation tool, Google Translate (https://translate.google.com/?hl=de&tab=TT), translated to English and pasted in as a string. \n",
    "\n",
    "- Afterwards, the same steps are applied as per usual (tokenizing, standardizing).\n",
    "\n",
    "Because of the changed process, the URL and step of webscraping are technically no longer necessary, will however be included for the purpose of completeness. "
   ]
  },
  {
   "cell_type": "code",
   "execution_count": 87,
   "metadata": {},
   "outputs": [],
   "source": [
    "# url = \"https://www.europarl.europa.eu/doceo/document/CRE-9-2021-11-11-ITM-003_EN.html\"\n",
    "# html = requests.get(url)\n",
    "# raw = BeautifulSoup(html.content, 'html.parser').get_text()"
   ]
  },
  {
   "cell_type": "code",
   "execution_count": 88,
   "metadata": {},
   "outputs": [
    {
     "name": "stdout",
     "output_type": "stream",
     "text": [
      "Valdis Dombrovskis , Executive Vice-President of the European Commission . – Mr President , honourable Members , before going to the Trade and Technology Council itself , let me first zoom out and outline why the year 2021 has been a landmark year for transatlantic relations . We have successfully pressed the reset button with the Biden administration . After the grounding of the Airbus—Boeing dispute at the EU—US summit in June , we also agreed to hit the pause button on the steel and aluminium trade dispute . Our agreement includes starting discussions on the new global arrangement on sustainable steel and aluminium . Of course , we remain attentive and active on a number of US policy developments that may affect EU interests . Those could be the increase of the US domestic content via the reinforcement of ‘ Buy American ’ or the use of tax incentives , for example for the purchase of electrical vehicles . But overall , it is clear that our trade and investment partnership remains a global engine of prosperity . Beyond resolving our trade disputes , we must create space to find new avenues of cooperation and deal with the challenges and opportunities of the future . In this respect , the first meeting of the Trade and Technology Council ( TTC ) at the end of September represented an important step in the right direction , as well as an important political signal . We are ready to lead the way in setting the standards and rules for the technologies of the 21st century , putting our core values at the centre . We are addressing environmental challenges and market opportunities for clean technology , and we are ensuring more resilient and secure supply chains , in particular in semiconductors , pharmaceuticals and critical materials for our economies . The trade component of the TTC is of particular importance , and we have determined shared principles and areas for export control cooperation , especially on dual—use technologies . We also agreed to cooperate on best practices in investment screening , for example , on risk analysis and risk mitigation , in relation to sensitive technologies . There will be a special focus on SMEs and on policies that can accelerate their uptake of digital technologies . We will work together on global trade challenges like non—market economic policies and practices , the protection of labour rights such as combating forced and child labour , and addressing trade—related aspects of climate and environmental action will also be part of our work . Finally , we aim at avoiding unnecessary barriers to trade in new technologies while respecting our regulatory autonomy . We have thus set in motion a whole range of work strands that we will now pursue with vigour . To ensure concrete progress , we will meet regularly at principals ’ level . The next meeting is scheduled for spring 2022 in the EU . There is strong willingness on both sides of the Atlantic to make our cooperation in the TTC a success . We are counting on your support for this . Members of the European Parliament , but also national governments , are essential in raising awareness around the fact that the benefits we gain from transatlantic cooperation will also require some compromises . We are committed to providing the European Parliament with information on the work of the TTC and we are committed to a transparent and inclusive engagement with key stakeholders and civil society at large . Stakeholder engagement also figured prominently in the first TTC meeting . Last month , the Commission also opened a One—Stop Shop to collect continuous stakeholder input on the platform called Futurium . I strongly encourage you to promote this point of contact among your constituencies and stakeholders . We also encourage stakeholders on both sides of the Atlantic to join forces and , wherever possible , work together to shape joint transatlantic positions . Executive Vice-President Vestager will now provide you with more input on the technology side of the Trade and Technology Council . "
     ]
    }
   ],
   "source": [
    "raw1_1 = 'Valdis Dombrovskis, Executive Vice-President of the European Commission. – Mr President, honourable Members, before going to the Trade and Technology Council itself, let me first zoom out and outline why the year 2021 has been a landmark year for transatlantic relations. We have successfully pressed the reset button with the Biden administration. After the grounding of the Airbus—Boeing dispute at the EU—US summit in June, we also agreed to hit the pause button on the steel and aluminium trade dispute. Our agreement includes starting discussions on the new global arrangement on sustainable steel and aluminium. Of course, we remain attentive and active on a number of US policy developments that may affect EU interests. Those could be the increase of the US domestic content via the reinforcement of ‘Buy American’ or the use of tax incentives, for example for the purchase of electrical vehicles. But overall, it is clear that our trade and investment partnership remains a global engine of prosperity. Beyond resolving our trade disputes, we must create space to find new avenues of cooperation and deal with the challenges and opportunities of the future. In this respect, the first meeting of the Trade and Technology Council (TTC) at the end of September represented an important step in the right direction, as well as an important political signal. We are ready to lead the way in setting the standards and rules for the technologies of the 21st century, putting our core values at the centre. We are addressing environmental challenges and market opportunities for clean technology, and we are ensuring more resilient and secure supply chains, in particular in semiconductors, pharmaceuticals and critical materials for our economies. The trade component of the TTC is of particular importance, and we have determined shared principles and areas for export control cooperation, especially on dual—use technologies. We also agreed to cooperate on best practices in investment screening, for example, on risk analysis and risk mitigation, in relation to sensitive technologies. There will be a special focus on SMEs and on policies that can accelerate their uptake of digital technologies. We will work together on global trade challenges like non—market economic policies and practices, the protection of labour rights such as combating forced and child labour, and addressing trade—related aspects of climate and environmental action will also be part of our work. Finally, we aim at avoiding unnecessary barriers to trade in new technologies while respecting our regulatory autonomy. We have thus set in motion a whole range of work strands that we will now pursue with vigour. To ensure concrete progress, we will meet regularly at principals’ level. The next meeting is scheduled for spring 2022 in the EU. There is strong willingness on both sides of the Atlantic to make our cooperation in the TTC a success. We are counting on your support for this. Members of the European Parliament, but also national governments, are essential in raising awareness around the fact that the benefits we gain from transatlantic cooperation will also require some compromises. We are committed to providing the European Parliament with information on the work of the TTC and we are committed to a transparent and inclusive engagement with key stakeholders and civil society at large. Stakeholder engagement also figured prominently in the first TTC meeting. Last month, the Commission also opened a One—Stop Shop to collect continuous stakeholder input on the platform called Futurium. I strongly encourage you to promote this point of contact among your constituencies and stakeholders. We also encourage stakeholders on both sides of the Atlantic to join forces and, wherever possible, work together to shape joint transatlantic positions. Executive Vice-President Vestager will now provide you with more input on the technology side of the Trade and Technology Council.'\n",
    "tokens1_1 = word_tokenize(raw1_1)\n",
    "for word in tokens1_1:\n",
    "    print(word, end=' ')"
   ]
  },
  {
   "cell_type": "code",
   "execution_count": 89,
   "metadata": {},
   "outputs": [
    {
     "name": "stdout",
     "output_type": "stream",
     "text": [
      "Margrethe Vestager , Executive Vice-President of the Commission . – Mr President , honourable Members , thank you very much for the invitation to come here with Valdis to have this exchange and to debrief you on the first meeting of the Trade and Technology Council ( TTC ) . Our digital partnership with the US plays an important role in enabling us to deliver on what we have set up for this digital decade . We have an opportunity to set a vision for a democratic and human-centred digital transformation , both at home and obviously also around the world . And following the successful first meeting in Pittsburgh on 29 September , I think it is clear that the TTC has a huge potential . We spent one and a half days together with US Secretary of State Antony Blinken , US Secretary of Commerce Gina Raimondo and US Trade Representative Katherine Tai . We had positive , frank , direct discussions . We do not always agree on every topic , but I think that shows that we are not just a talking shop : we aim for concrete deliverables for making progress on the issues at stake . Now the TTC will focus on the actions identified in the joint statements , where the 10 working groups have been given specific tasks . Valdis has taken you through a number of these very important points . So let me just briefly touch upon three areas of particular importance when it comes to the technology side of the Trade and Technology Council . First , on artificial intelligence , we agreed in Pittsburgh to develop trustworthy AI to oppose the use of AI that violates fundamental rights . To achieve this , we will develop mutual principles , concrete implementation tools and also value-based innovation projects . And I think this outcome shows that there is no transatlantic contradiction between promoting innovation and protecting our fundamental values . Second , on semiconductors , we will work on rebalancing global supply chains with a view to enhancing security of supply , both for the US and , of course , the European Union . We will , as a first step , jointly identify gaps and vulnerabilities behind the current chip shortage , sharing our assessment of information collected from industry . As the next step , we will discuss how to cooperate in our respective investment strategies . We both want to strengthen our domestic capacities while sharing the aim of avoiding a harmful and expensive subsidy race . We need to diversify our sources of supply to avoid single points of failure , ensuring that we can rely on them also in times of crisis . I think that is a very important lesson that we all learned from the pandemic . Last , on platforms , the Pittsburgh statement shows that we have built consensus on a set of common challenges , but also shared concerns . These concerns have even been , I think , more relevant after the testimony of Frances Haugen in this House earlier this week . As a first step , we will work with the US on urgent topics such as algorithmic amplification , transparency and data access to platforms by researchers . Both sides have committed to robust and continuous engagement with a broad range of stakeholders , including civil society , to ensure that there is sufficient buy-in , ownership , so the outcomes of the cooperation will have real effects on ground . For this to be successful , it requires the close involvement of the European Parliament , and as Valdis just said , we really welcome the strong support for the TTC , also shown by the visit of several committees to Washington DC last week . As Valdis said , next spring in Europe , the venue and the date have not been set yet , but it will be here within the Union . And of course we hope to keep our engagement with this House ahead of this meeting . "
     ]
    }
   ],
   "source": [
    "raw1_2 = 'Margrethe Vestager, Executive Vice-President of the Commission. – Mr President, honourable Members, thank you very much for the invitation to come here with Valdis to have this exchange and to debrief you on the first meeting of the Trade and Technology Council (TTC). Our digital partnership with the US plays an important role in enabling us to deliver on what we have set up for this digital decade. We have an opportunity to set a vision for a democratic and human-centred digital transformation, both at home and obviously also around the world. And following the successful first meeting in Pittsburgh on 29 September, I think it is clear that the TTC has a huge potential. We spent one and a half days together with US Secretary of State Antony Blinken, US Secretary of Commerce Gina Raimondo and US Trade Representative Katherine Tai. We had positive, frank, direct discussions. We do not always agree on every topic, but I think that shows that we are not just a talking shop: we aim for concrete deliverables for making progress on the issues at stake. Now the TTC will focus on the actions identified in the joint statements, where the 10 working groups have been given specific tasks. Valdis has taken you through a number of these very important points. So let me just briefly touch upon three areas of particular importance when it comes to the technology side of the Trade and Technology Council. First, on artificial intelligence, we agreed in Pittsburgh to develop trustworthy AI to oppose the use of AI that violates fundamental rights. To achieve this, we will develop mutual principles, concrete implementation tools and also value-based innovation projects. And I think this outcome shows that there is no transatlantic contradiction between promoting innovation and protecting our fundamental values. Second, on semiconductors, we will work on rebalancing global supply chains with a view to enhancing security of supply, both for the US and, of course, the European Union. We will, as a first step, jointly identify gaps and vulnerabilities behind the current chip shortage, sharing our assessment of information collected from industry. As the next step, we will discuss how to cooperate in our respective investment strategies. We both want to strengthen our domestic capacities while sharing the aim of avoiding a harmful and expensive subsidy race. We need to diversify our sources of supply to avoid single points of failure, ensuring that we can rely on them also in times of crisis. I think that is a very important lesson that we all learned from the pandemic. Last, on platforms, the Pittsburgh statement shows that we have built consensus on a set of common challenges, but also shared concerns. These concerns have even been, I think, more relevant after the testimony of Frances Haugen in this House earlier this week. As a first step, we will work with the US on urgent topics such as algorithmic amplification, transparency and data access to platforms by researchers. Both sides have committed to robust and continuous engagement with a broad range of stakeholders, including civil society, to ensure that there is sufficient buy-in, ownership, so the outcomes of the cooperation will have real effects on ground. For this to be successful, it requires the close involvement of the European Parliament, and as Valdis just said, we really welcome the strong support for the TTC, also shown by the visit of several committees to Washington DC last week. As Valdis said, next spring in Europe, the venue and the date have not been set yet, but it will be here within the Union. And of course we hope to keep our engagement with this House ahead of this meeting.'\n",
    "tokens1_2 = word_tokenize(raw1_2)\n",
    "for word in tokens1_2:\n",
    "    print(word, end=' ')"
   ]
  },
  {
   "cell_type": "code",
   "execution_count": 90,
   "metadata": {},
   "outputs": [
    {
     "name": "stdout",
     "output_type": "stream",
     "text": [
      "Radosław Sikorski , on behalf of the PPE Group . – Mr President , as Chair of the delegation for relations between the European Union and the United States I ’ d like to congratulate the Commission on the setting—up and launch of the Trade and Technology Council . I believe it builds on the history of the successful Coordinating Committee from back in the 1980s and earlier , which stemmed the flow of modern technologies to what was then the Communist bloc . In the 1990s , we were hoping that China and Russia would join the world of free research , free enquiry and freedom in general , and that they would at least abide by the rules of the World Trade Organization . This has not happened . Therefore , unfortunately , we have to stick together with our democratic allies to set minimum standards and to start stemming the abuses . So well done . I pledge the full support of my delegation to your work . "
     ]
    }
   ],
   "source": [
    "raw1_3 = 'Radosław Sikorski, on behalf of the PPE Group. – Mr President, as Chair of the delegation for relations between the European Union and the United States I’d like to congratulate the Commission on the setting—up and launch of the Trade and Technology Council. I believe it builds on the history of the successful Coordinating Committee from back in the 1980s and earlier, which stemmed the flow of modern technologies to what was then the Communist bloc. In the 1990s, we were hoping that China and Russia would join the world of free research, free enquiry and freedom in general, and that they would at least abide by the rules of the World Trade Organization. This has not happened. Therefore, unfortunately, we have to stick together with our democratic allies to set minimum standards and to start stemming the abuses. So well done. I pledge the full support of my delegation to your work.'\n",
    "tokens1_3 = word_tokenize(raw1_3)\n",
    "for word in tokens1_3:\n",
    "    print(word, end=' ')"
   ]
  },
  {
   "cell_type": "code",
   "execution_count": 91,
   "metadata": {},
   "outputs": [
    {
     "name": "stdout",
     "output_type": "stream",
     "text": [
      "Bernd Lange , on behalf of the S & D Group . – Mr President , I would say to the Executive Vice—Presidents that we indeed support the Trade and Technology Council . Let me make three remarks . One , this is a discussion forum , as Executive Vice—President Vestager said , to have an open and frank discussion . It is not a T—TIP reloaded . It ’ s a totally different child , and this is really important to have in mind and also to make public . Second , it ’ s really important to set the impact for the challenges of the future specific to the field of trade – so standards on artificial intelligence , the question of subsidies , the question of export controls . All this has to be discussed , to give also some input to global trade , to the World Trade Organization . Thirdly , we will scrutinise this process as a parliament in the Committee on International Trade and in Parliament in general , because transparency and the involvement of stakeholders is really important in this process . That ’ s also a lesson learned from the T—TIP exercise . "
     ]
    }
   ],
   "source": [
    "raw1_4 = 'Bernd Lange, on behalf of the S&D Group. – Mr President, I would say to the Executive Vice—Presidents that we indeed support the Trade and Technology Council. Let me make three remarks. One, this is a discussion forum, as Executive Vice—President Vestager said, to have an open and frank discussion. It is not a T—TIP reloaded. It’s a totally different child, and this is really important to have in mind and also to make public. Second, it’s really important to set the impact for the challenges of the future specific to the field of trade – so standards on artificial intelligence, the question of subsidies, the question of export controls. All this has to be discussed, to give also some input to global trade, to the World Trade Organization. Thirdly, we will scrutinise this process as a parliament in the Committee on International Trade and in Parliament in general, because transparency and the involvement of stakeholders is really important in this process. That’s also a lesson learned from the T—TIP exercise.'\n",
    "tokens1_4 = word_tokenize(raw1_4)\n",
    "for word in tokens1_4:\n",
    "    print(word, end=' ')"
   ]
  },
  {
   "cell_type": "code",
   "execution_count": 92,
   "metadata": {},
   "outputs": [
    {
     "name": "stdout",
     "output_type": "stream",
     "text": [
      "Liesje Schreinemacher , on behalf of the Renew Group . – Mr President , last week we visited the US , where we met with our counterparts in the US Congress , with high officials in executive branches and with European as well as American businesses . It was great to see the Trade and Technology Council ( TTC ) being embraced in such a great way , in a bipartisan way . If I didn ’ t know any better , I would have thought that it was an American idea to begin with , which is great . A new transatlantic initiative that will allow us to work on the challenges we are faced with today . I look forward to strong cooperation on setting new digital standards on foreign direct investment ( FDI ) screening , on fighting unfair competition coming from non—market economies , to name a few . But let ’ s not forget that the same people who are shaking hands over the TTC now are also the ones in charge of negotiating the trade irritants and challenges that are still hanging over our heads , even if they may be suspended for two or five years . Of course , we know our interests will never fully coincide , but let ’ s use this momentum of the TTC and stop fighting each other with unnecessary or illegal tariffs and join forces on working together on global trade challenges . So now we have to get beyond words and actually come to concrete and tangible deliverables . This would be my most important question to the Commissioners here this morning : what do you see as a concrete deliverable in the very near future ? I look forward to your answer . "
     ]
    }
   ],
   "source": [
    "raw1_5 = ' Liesje Schreinemacher, on behalf of the Renew Group. – Mr President, last week we visited the US, where we met with our counterparts in the US Congress, with high officials in executive branches and with European as well as American businesses. It was great to see the Trade and Technology Council (TTC) being embraced in such a great way, in a bipartisan way. If I didn’t know any better, I would have thought that it was an American idea to begin with, which is great. A new transatlantic initiative that will allow us to work on the challenges we are faced with today. I look forward to strong cooperation on setting new digital standards on foreign direct investment (FDI) screening, on fighting unfair competition coming from non—market economies, to name a few. But let’s not forget that the same people who are shaking hands over the TTC now are also the ones in charge of negotiating the trade irritants and challenges that are still hanging over our heads, even if they may be suspended for two or five years. Of course, we know our interests will never fully coincide, but let’s use this momentum of the TTC and stop fighting each other with unnecessary or illegal tariffs and join forces on working together on global trade challenges. So now we have to get beyond words and actually come to concrete and tangible deliverables. This would be my most important question to the Commissioners here this morning: what do you see as a concrete deliverable in the very near future? I look forward to your answer.'\n",
    "tokens1_5 = word_tokenize(raw1_5)\n",
    "for word in tokens1_5:\n",
    "    print(word, end=' ')"
   ]
  },
  {
   "cell_type": "code",
   "execution_count": 93,
   "metadata": {},
   "outputs": [
    {
     "name": "stdout",
     "output_type": "stream",
     "text": [
      "Reinhard Bütikofer , on behalf of the Verts/ALE Group . – Mr President , Executive Vice—Presidents , it is good that the Trade and Technology Council ( TTC ) had a successful start . The first TTC meeting in Pittsburgh , however , does not mark the end of our trade controversies with the US . It doesn ’ t even mark the beginning of the end , but hopefully it marks the end of a new beginning in sorting out some of the issues . This assessment is borne out by what we see as a result of the recent trade and aluminium deal that you negotiated , Executive Vice—President . This is a welcome result , even though it is weaker than we had hoped and issues do remain . Even more important strategically , I believe , is the standard—setting dimension going forward . Shaping the future , not just sorting out legacy issues . And there we have to work very diligently with the US because this is of geopolitical relevancy . And if you allow me to say that , in the spirit of geopolitical responsibility , wouldn ’ t it make sense if there would not just be the American Secretary of State , but also our foreign minister ? "
     ]
    }
   ],
   "source": [
    "raw1_6 = 'Reinhard Bütikofer, on behalf of the Verts/ALE Group. – Mr President, Executive Vice—Presidents, it is good that the Trade and Technology Council (TTC) had a successful start. The first TTC meeting in Pittsburgh, however, does not mark the end of our trade controversies with the US. It doesn’t even mark the beginning of the end, but hopefully it marks the end of a new beginning in sorting out some of the issues. This assessment is borne out by what we see as a result of the recent trade and aluminium deal that you negotiated, Executive Vice—President. This is a welcome result, even though it is weaker than we had hoped and issues do remain. Even more important strategically, I believe, is the standard—setting dimension going forward. Shaping the future, not just sorting out legacy issues. And there we have to work very diligently with the US because this is of geopolitical relevancy. And if you allow me to say that, in the spirit of geopolitical responsibility, wouldn’t it make sense if there would not just be the American Secretary of State, but also our foreign minister?'\n",
    "tokens1_6 = word_tokenize(raw1_6)\n",
    "for word in tokens1_6:\n",
    "    print(word, end=' ')"
   ]
  },
  {
   "cell_type": "code",
   "execution_count": 94,
   "metadata": {},
   "outputs": [
    {
     "name": "stdout",
     "output_type": "stream",
     "text": [
      "Marco Campomenosi , on behalf of the ID Group . - ( IT ) Mr President , Vice-Presidents , ladies and gentlemen , I too welcome the new dialogue with the United States : cybersecurity , digital , data management , the great global challenges are just some of the important elements to be discussed . And it is also positive that we are not talking about a free trade agreement , which on issues such as agriculture would take us far and lead us into conflicts that are difficult to resolve , but we have issues on which it is right to reflect . For example , of course , like everyone else , I welcome the American openings on the issue of tariffs on steel and aluminum , but at the moment they only serve some exporters but they will only increase the shortage of steel that exists in this moment for our producers in Europe , on which I think we will need to intervene further . And then there are issues concerning the geopolitical credibility of us as institutions because , on the one hand , it seems to me - I have said it before - we must always be Atlanticists , even when the Republicans rule , not only when the Democrats rule . And then some cases , such as the one that emerged from a journalistic investigation in recent days that speaks of German engines sold to Chinese warships , when here , even in this Chamber , there are deputies who have been sanctioned for their positions on the China or others who went to Taiwan a few days ago . Well , I would not like anyone to confuse autonomy with irrelevance , because here credibility is at stake in a transatlantic relationship which must be consistent in all the actions that the European Union and the Member States take . "
     ]
    }
   ],
   "source": [
    "raw1_7 = 'Marco Campomenosi, on behalf of the ID Group. - (IT) Mr President, Vice-Presidents, ladies and gentlemen, I too welcome the new dialogue with the United States: cybersecurity, digital, data management, the great global challenges are just some of the important elements to be discussed. And it is also positive that we are not talking about a free trade agreement, which on issues such as agriculture would take us far and lead us into conflicts that are difficult to resolve, but we have issues on which it is right to reflect. For example, of course, like everyone else, I welcome the American openings on the issue of tariffs on steel and aluminum, but at the moment they only serve some exporters but they will only increase the shortage of steel that exists in this moment for our producers in Europe, on which I think we will need to intervene further. And then there are issues concerning the geopolitical credibility of us as institutions because, on the one hand, it seems to me - I have said it before - we must always be Atlanticists, even when the Republicans rule, not only when the Democrats rule. And then some cases, such as the one that emerged from a journalistic investigation in recent days that speaks of German engines sold to Chinese warships, when here, even in this Chamber, there are deputies who have been sanctioned for their positions on the China or others who went to Taiwan a few days ago. Well, I would not like anyone to confuse autonomy with irrelevance, because here credibility is at stake in a transatlantic relationship which must be consistent in all the actions that the European Union and the Member States take.'\n",
    "tokens1_7 = word_tokenize(raw1_7)\n",
    "for word in tokens1_7:\n",
    "    print(word, end=' ')"
   ]
  },
  {
   "cell_type": "code",
   "execution_count": 95,
   "metadata": {},
   "outputs": [
    {
     "name": "stdout",
     "output_type": "stream",
     "text": [
      "Geert Bourgeois , on behalf of the ECR Group . – ( NL ) Mr President , I am very pleased with the results of the first meeting of the EU-US Trade and Technology Council and would like to expressly congratulate the Commission on this . I am a staunch supporter of the Trade and Technology Council : we must strive as the EU and US to set global standards together . This is a big challenge . Chinese standardization is currently on the rise . If we do not set the tone , other powers will . Mr Dombrovskis , this must indeed be done on the basis of our shared values ​​and it will not always be easy . After all , on the one hand , we have the US , which has a huge lead in data and , moreover , has a single capital market , where there is hardly any regulation and much room for experimentation , and on the other the EU , which not only has to contend with a large arrears , but also has a tendency to want to arrange too much . The Commission should therefore adopt incentive regulations without undue barriers . I also agree with the commitment of Mr Dombrovskis to a more intense partnership . We need to put all the issues on the table : the protectionist “ Buy American Act ” , the “ Jones Act ” and also the impending tariffs on electric vehicles . A sustainable partnership must be based on openness and equality . Finally , I would like to call for going beyond the legislative dialogue and pursuing the establishment of a genuine transatlantic parliamentary cooperative . "
     ]
    }
   ],
   "source": [
    "raw1_8 = 'Geert Bourgeois, on behalf of the ECR Group. – (NL) Mr President, I am very pleased with the results of the first meeting of the EU-US Trade and Technology Council and would like to expressly congratulate the Commission on this. I am a staunch supporter of the Trade and Technology Council: we must strive as the EU and US to set global standards together. This is a big challenge. Chinese standardization is currently on the rise. If we do not set the tone, other powers will. Mr Dombrovskis, this must indeed be done on the basis of our shared values ​​and it will not always be easy. After all, on the one hand, we have the US, which has a huge lead in data and, moreover, has a single capital market, where there is hardly any regulation and much room for experimentation, and on the other the EU, which not only has to contend with a large arrears, but also has a tendency to want to arrange too much. The Commission should therefore adopt incentive regulations without undue barriers. I also agree with the commitment of Mr Dombrovskis to a more intense partnership. We need to put all the issues on the table: the protectionist “Buy American Act”, the “Jones Act” and also the impending tariffs on electric vehicles. A sustainable partnership must be based on openness and equality. Finally, I would like to call for going beyond the legislative dialogue and pursuing the establishment of a genuine transatlantic parliamentary cooperative.'\n",
    "tokens1_8 = word_tokenize(raw1_8)\n",
    "for word in tokens1_8:\n",
    "    print(word, end=' ')"
   ]
  },
  {
   "cell_type": "code",
   "execution_count": 96,
   "metadata": {},
   "outputs": [
    {
     "name": "stdout",
     "output_type": "stream",
     "text": [
      "Helmut Scholz , on behalf of The Left parliamentary group . – Mr President , dear Vice-Presidents ! The talks of the delegation from the Trade Committee of our House last week in Washington made it clear that the TTC is probably the most important mutual attempt that can be seen at present to rediscover US-EU cooperation . At the same time it became clear : The most important topic for the USA is the USA – Buy American . The second most important issue for the US is China – strategic and systemic rival . The importance of the partnership with the EU is measured by whether the EU , as an economic competitor , is prepared to follow American interests , and also by how prepared the EU is to side with the USA in the conflict with China . It is in this framework that the TTC is now being placed and given planetary interests - looking towards Glasgow - we must make intensive use of the remaining time to stake out common interests . The TTC will only be fruitful if it does not mutate into a body for securing global dominance in technology and industry , but rather , with its working groups , with the planned broad stakeholders , consultations and exchanges of opinion , serves as a real dialogue forum for sustainability and overcoming poverty . Why should we not take up American ideas for a trade policy that puts its workers at the center ? We just have to transform it to serve workers in every country in the world . However , many fear that the TTC format will be hijacked by traditional power and corporate interests . In TTIP , the planned regulatory cooperation was a focus of public criticism . With TTC , the idea is back , just without a trade deal . "
     ]
    }
   ],
   "source": [
    "raw1_9 = 'Helmut Scholz, on behalf of The Left parliamentary group. – Mr President, dear Vice-Presidents! The talks of the delegation from the Trade Committee of our House last week in Washington made it clear that the TTC is probably the most important mutual attempt that can be seen at present to rediscover US-EU cooperation. At the same time it became clear: The most important topic for the USA is the USA – Buy American. The second most important issue for the US is China – strategic and systemic rival. The importance of the partnership with the EU is measured by whether the EU, as an economic competitor, is prepared to follow American interests, and also by how prepared the EU is to side with the USA in the conflict with China. It is in this framework that the TTC is now being placed and given planetary interests - looking towards Glasgow - we must make intensive use of the remaining time to stake out common interests. The TTC will only be fruitful if it does not mutate into a body for securing global dominance in technology and industry, but rather, with its working groups, with the planned broad stakeholders, consultations and exchanges of opinion, serves as a real dialogue forum for sustainability and overcoming poverty. Why should we not take up American ideas for a trade policy that puts its workers at the center? We just have to transform it to serve workers in every country in the world. However, many fear that the TTC format will be hijacked by traditional power and corporate interests. In TTIP, the planned regulatory cooperation was a focus of public criticism. With TTC, the idea is back, just without a trade deal.'\n",
    "tokens1_9 = word_tokenize(raw1_9)\n",
    "for word in tokens1_9:\n",
    "    print(word, end=' ')"
   ]
  },
  {
   "cell_type": "code",
   "execution_count": 97,
   "metadata": {},
   "outputs": [
    {
     "name": "stdout",
     "output_type": "stream",
     "text": [
      "Tiziana Beghin ( NI ) . - ( IT ) Mr President , Vice-Presidents , ladies and gentlemen , having an open forum to confront the United States after years of closures and misunderstandings is a great step forward , one which I congratulate the Commission . However , I have some questions on which I hope the Vice Presidents will want to express themselves , because almost a month after the first meeting I continue to wonder about the true nature of this Trade and Technology Council . Is it a forum to mediate on thorny legislative issues , or a place to simply discuss ? Is it a tool for exchanging ideas or do you want a basis for a future transatlantic agreement ? In short , if the commitments made are not binding , as has been repeated many times , what is the level of commitment and commitment of the partners , especially vis-à-vis some collective challenges such as measures to limit emissions or artificial intelligence ? And finally , what role does the Commission see for Parliament in all of this ? As we have not been particularly involved in this forum so far . "
     ]
    }
   ],
   "source": [
    "raw1_10 = 'Tiziana Beghin (NI). - (IT) Mr President, Vice-Presidents, ladies and gentlemen, having an open forum to confront the United States after years of closures and misunderstandings is a great step forward, one which I congratulate the Commission. However, I have some questions on which I hope the Vice Presidents will want to express themselves, because almost a month after the first meeting I continue to wonder about the true nature of this Trade and Technology Council. Is it a forum to mediate on thorny legislative issues, or a place to simply discuss? Is it a tool for exchanging ideas or do you want a basis for a future transatlantic agreement? In short, if the commitments made are not binding, as has been repeated many times, what is the level of commitment and commitment of the partners, especially vis-à-vis some collective challenges such as measures to limit emissions or artificial intelligence? And finally, what role does the Commission see for Parliament in all of this? As we have not been particularly involved in this forum so far.'\n",
    "tokens1_10 = word_tokenize(raw1_10)\n",
    "for word in tokens1_10:\n",
    "    print(word, end=' ')"
   ]
  },
  {
   "cell_type": "code",
   "execution_count": 98,
   "metadata": {},
   "outputs": [
    {
     "name": "stdout",
     "output_type": "stream",
     "text": [
      "Eva Maydell ( PPE ) . – Mr President , I would like to be clear , I think that only together will the EU and the US influence global rules in the decades to come . I think that we currently see that our combined share of economic output is shrinking . Our democratic allies are fewer and fewer . And even after the election of President Biden , both of us engage in avoidable mistakes . I think we need each other , and this is why the Trade and Technology Council is too important to fail . Now it is up to us to use windows of opportunities . And I think one such window , as Executive Vice-President Vestager mentioned , is now open on artificial intelligence . Many experts agree that on AI , guidelines and the public also demand more oversight . So let ’ s make AI and other digital matters our early successes , hopefully opening the door for other topics with more complicated pasts . We , in the European Parliament , are ready to engage with Congress and citizens to make these issues a success . "
     ]
    }
   ],
   "source": [
    "raw1_11 = 'Eva Maydell (PPE). – Mr President, I would like to be clear, I think that only together will the EU and the US influence global rules in the decades to come. I think that we currently see that our combined share of economic output is shrinking. Our democratic allies are fewer and fewer. And even after the election of President Biden, both of us engage in avoidable mistakes. I think we need each other, and this is why the Trade and Technology Council is too important to fail. Now it is up to us to use windows of opportunities. And I think one such window, as Executive Vice-President Vestager mentioned, is now open on artificial intelligence. Many experts agree that on AI, guidelines and the public also demand more oversight. So let’s make AI and other digital matters our early successes, hopefully opening the door for other topics with more complicated pasts. We, in the European Parliament, are ready to engage with Congress and citizens to make these issues a success.'\n",
    "tokens1_11 = word_tokenize(raw1_11)\n",
    "for word in tokens1_11:\n",
    "    print(word, end=' ')"
   ]
  },
  {
   "cell_type": "code",
   "execution_count": 99,
   "metadata": {},
   "outputs": [
    {
     "name": "stdout",
     "output_type": "stream",
     "text": [
      "Miapetra Kumpula-Natri ( S & D ) . – Mr President , Commissioner , establishment of the Trade and Technology Council ( TTC ) between the EU and United States is highly welcomed . It provides a valuable platform to cooperate on the topical matters of today in tech and trade issues , as well as to strengthen transatlantic relations . We are living in the interconnected world , which underlines the importance of cooperation . To give an example , the world is changing due to the emergence of AI . It is important that we discuss advantages of AI and ensure that it is utilised in a responsible , transparent way in accordance with universal human rights : AI that helps to protect democracy and not counteract it ; human—centred AI that improves health and does not cause mental sicknesses . Another example to show that the world can ’ t afford trade barriers that hinder green tech to help the climate crisis . Because the work of the TTC encompasses topics that are political and dealt with also in the European Parliament , it is crucial that Parliament be informed about progress and the work of the TTC . Let me finish here , as the Vice—Chair for the US Delegation and Transatlantic Legislators ’ Dialogue , that committees involved have agreed to establish a subcommittee to follow the work on the TTC to complement the scrutiny work of the committees . "
     ]
    }
   ],
   "source": [
    "raw1_12 = 'Miapetra Kumpula-Natri (S&D). – Mr President, Commissioner, establishment of the Trade and Technology Council (TTC) between the EU and United States is highly welcomed. It provides a valuable platform to cooperate on the topical matters of today in tech and trade issues, as well as to strengthen transatlantic relations. We are living in the interconnected world, which underlines the importance of cooperation. To give an example, the world is changing due to the emergence of AI. It is important that we discuss advantages of AI and ensure that it is utilised in a responsible, transparent way in accordance with universal human rights: AI that helps to protect democracy and not counteract it; human—centred AI that improves health and does not cause mental sicknesses. Another example to show that the world can’t afford trade barriers that hinder green tech to help the climate crisis. Because the work of the TTC encompasses topics that are political and dealt with also in the European Parliament, it is crucial that Parliament be informed about progress and the work of the TTC. Let me finish here, as the Vice—Chair for the US Delegation and Transatlantic Legislators’ Dialogue, that committees involved have agreed to establish a subcommittee to follow the work on the TTC to complement the scrutiny work of the committees.'\n",
    "tokens1_12 = word_tokenize(raw1_12)\n",
    "for word in tokens1_12:\n",
    "    print(word, end=' ')"
   ]
  },
  {
   "cell_type": "code",
   "execution_count": 100,
   "metadata": {},
   "outputs": [
    {
     "name": "stdout",
     "output_type": "stream",
     "text": [
      "Dragoş Tudorache ( Renew ) . – Mr President , I was also in Washington last week as Chair of the Special Committee on Artificial Intelligence in a Digital Age ( AIDA ) and with colleagues from across this aisle – an outreach mission , which we had wanted to do since the inception of the AIDA mandate . Our aim was to set the basis of a dialogue with the US Congress on artificial intelligence in the impact of frontier tech on the world of tomorrow . But the launch of the Trade and Technology Council ( TTC ) just weeks before opened up a broader perspective of transatlantic leadership on technology , on a shared realisation that the future of our relationship will be more and more dominated by tech cooperation , by what we will accomplish in converging standards , research , data governance and on developing mutually beneficial projects . And I congratulate the Commission for the launch and for how the TTC was organised . There are many commonalities at the heart TTC : common values , same challenges and opportunities , and most importantly , we see the geopolitics of technology in the same way . But there are also differences , which we need to acknowledge and learn to work with . We see the urgency in the form of regulating and digital platforms differently . We also have a different approach to how to prepare standards . We are more top-down while they work more bottom-up , co-creating together with the industry . We must accept these different regulatory cultures and in fact take the best from each other . I think we can and should work more with the business sector like the Americans do , while we can share with them the very good work that you the Commission has done in preparing the legislative landscape on digital issues . And most importantly , and we have made this point very forcefully , we must build a parliamentary dimension of the TTC , one where we can come together as legislators and exercise oversight and political guidance on the evolution of the council . "
     ]
    }
   ],
   "source": [
    "raw1_13 = 'Dragoş Tudorache (Renew). – Mr President, I was also in Washington last week as Chair of the Special Committee on Artificial Intelligence in a Digital Age (AIDA) and with colleagues from across this aisle – an outreach mission, which we had wanted to do since the inception of the AIDA mandate. Our aim was to set the basis of a dialogue with the US Congress on artificial intelligence in the impact of frontier tech on the world of tomorrow. But the launch of the Trade and Technology Council (TTC) just weeks before opened up a broader perspective of transatlantic leadership on technology, on a shared realisation that the future of our relationship will be more and more dominated by tech cooperation, by what we will accomplish in converging standards, research, data governance and on developing mutually beneficial projects. And I congratulate the Commission for the launch and for how the TTC was organised. There are many commonalities at the heart TTC: common values, same challenges and opportunities, and most importantly, we see the geopolitics of technology in the same way. But there are also differences, which we need to acknowledge and learn to work with. We see the urgency in the form of regulating and digital platforms differently. We also have a different approach to how to prepare standards. We are more top-down while they work more bottom-up, co-creating together with the industry. We must accept these different regulatory cultures and in fact take the best from each other. I think we can and should work more with the business sector like the Americans do, while we can share with them the very good work that you the Commission has done in preparing the legislative landscape on digital issues. And most importantly, and we have made this point very forcefully, we must build a parliamentary dimension of the TTC, one where we can come together as legislators and exercise oversight and political guidance on the evolution of the council.'\n",
    "tokens1_13 = word_tokenize(raw1_13)\n",
    "for word in tokens1_13:\n",
    "    print(word, end=' ')"
   ]
  },
  {
   "cell_type": "code",
   "execution_count": 101,
   "metadata": {},
   "outputs": [
    {
     "name": "stdout",
     "output_type": "stream",
     "text": [
      "Anna Cavazzini ( Verts/ALE ) . – Mr President , I think it is really good that we are debating today the Trade and Technology Council because this important body needs parliamentary oversight – a lot of colleagues have mentioned this already . As the whistleblower Frances Haugen told us this week in the European Parliament , we can not face the huge power of Facebook , Google and co. on our own , so cooperation with the US is crucial . I think the EU is really on the right track in fighting the harmful business models of big platforms that always choose profit over safety of effects . And of course , I think some things still need to be strengthened , for example , in the USA , when it comes to transparency of algorithms and tackling problems caused by targeted advertisement or strengthening the consumer angle – some of the things Frances Haugen also mentioned , and I hope this Parliament will do so . But we are going in the right direction and this is good . And I want this positive tech agenda based on privacy , fundamental rights , consumer protections and values , to be the guiding principles when discussing and dialoguing with the US while keeping our regulatory autonomy . "
     ]
    }
   ],
   "source": [
    "raw1_14 = 'Anna Cavazzini (Verts/ALE). – Mr President, I think it is really good that we are debating today the Trade and Technology Council because this important body needs parliamentary oversight – a lot of colleagues have mentioned this already. As the whistleblower Frances Haugen told us this week in the European Parliament, we cannot face the huge power of Facebook, Google and co. on our own, so cooperation with the US is crucial. I think the EU is really on the right track in fighting the harmful business models of big platforms that always choose profit over safety of effects. And of course, I think some things still need to be strengthened, for example, in the USA, when it comes to transparency of algorithms and tackling problems caused by targeted advertisement or strengthening the consumer angle – some of the things Frances Haugen also mentioned, and I hope this Parliament will do so. But we are going in the right direction and this is good. And I want this positive tech agenda based on privacy, fundamental rights, consumer protections and values, to be the guiding principles when discussing and dialoguing with the US while keeping our regulatory autonomy.'\n",
    "tokens1_14 = word_tokenize(raw1_14)\n",
    "for word in tokens1_14:\n",
    "    print(word, end=' ')"
   ]
  },
  {
   "cell_type": "code",
   "execution_count": 102,
   "metadata": {},
   "outputs": [
    {
     "name": "stdout",
     "output_type": "stream",
     "text": [
      "Roman Haider ( ID ) . - Mister President ! First of all , I am pleased that we are finally once again dealing with one of the core issues of the EU , namely international trade - which is not always the case here . It is about strengthening the transatlantic partnership between the USA and the European Union in very broad areas - technology exchange and trade . And that is to be welcomed in principle , especially in view of the increasing threat from China , and such a cooperation makes sense especially because of the distortion of competition by China that does not conform to the market . I only refer to Chinese dumping prices , dumping wages , forced technology transfer in joint ventures , product piracy and , and , and . Overall , however , such agreements will unfortunately be of little use if the EU Commission continues with its plans to break up European industry under the cloak of climate protection . This irresponsible policy makes Europe dependent on all other powers and thus makes an independent European policy impossible . "
     ]
    }
   ],
   "source": [
    "raw1_15 = 'Roman Haider (ID). - Mister President! First of all, I am pleased that we are finally once again dealing with one of the core issues of the EU, namely international trade - which is not always the case here. It is about strengthening the transatlantic partnership between the USA and the European Union in very broad areas - technology exchange and trade. And that is to be welcomed in principle, especially in view of the increasing threat from China, and such a cooperation makes sense especially because of the distortion of competition by China that does not conform to the market. I only refer to Chinese dumping prices, dumping wages, forced technology transfer in joint ventures, product piracy and, and, and. Overall, however, such agreements will unfortunately be of little use if the EU Commission continues with its plans to break up European industry under the cloak of climate protection. This irresponsible policy makes Europe dependent on all other powers and thus makes an independent European policy impossible.'\n",
    "tokens1_15 = word_tokenize(raw1_15)\n",
    "for word in tokens1_15:\n",
    "    print(word, end=' ')"
   ]
  },
  {
   "cell_type": "code",
   "execution_count": 103,
   "metadata": {},
   "outputs": [
    {
     "name": "stdout",
     "output_type": "stream",
     "text": [
      "Dominik Tarczyński ( ECR ) . – Mr President , I ’ d like to focus on the challenges , and not only on income , money and shaking hands . The main challenge is China . So the question to the Commission is very simple : how can we combat China , I mean the lack of standards from China ? Because when we had this conversation in Washington last week , everyone was happy to do it , and the Trade and Technology Council ( TTC ) is a beautiful thing . But what about China ? We can still see people who are basically hypocrites . They are making the money , making the business as usual , they are talking about the TTC , about cooperation , they are talking about fighting for the people and combating the lack of standards , but that ’ s still money coming from China . So , what can we do and when can we do it ? What concrete steps can be taken to protect our European economy ? Because this is the most important part of the TTC as a future . If we want to be successful and safe , we have to make decisions – not just talking , talking and shaking hands . "
     ]
    }
   ],
   "source": [
    "raw1_16 = 'Dominik Tarczyński (ECR). – Mr President, I’d like to focus on the challenges, and not only on income, money and shaking hands. The main challenge is China. So the question to the Commission is very simple: how can we combat China, I mean the lack of standards from China? Because when we had this conversation in Washington last week, everyone was happy to do it, and the Trade and Technology Council (TTC) is a beautiful thing. But what about China? We can still see people who are basically hypocrites. They are making the money, making the business as usual, they are talking about the TTC, about cooperation, they are talking about fighting for the people and combating the lack of standards, but that’s still money coming from China. So, what can we do and when can we do it? What concrete steps can be taken to protect our European economy? Because this is the most important part of the TTC as a future. If we want to be successful and safe, we have to make decisions – not just talking, talking and shaking hands.'\n",
    "tokens1_16 = word_tokenize(raw1_16)\n",
    "for word in tokens1_16:\n",
    "    print(word, end=' ')"
   ]
  },
  {
   "cell_type": "code",
   "execution_count": 104,
   "metadata": {},
   "outputs": [
    {
     "name": "stdout",
     "output_type": "stream",
     "text": [
      "Manuel Bompard ( The Left ) . – Mr President , the Trade and Technology Council has been sold to us with the usual praise for the transatlantic relationship that the Union forms with the United States . It therefore seems that the unfair practices and humiliations of recent years have not served as a lesson to you . Here are two of a long list . In 2014 , after unacceptable blackmail by American justice , General Electric took over the energy branch of Alstom . He plunders the patents , reneges on his commitments and leaves thousands of employees on the floor . What a wonderful partnership ! A few weeks ago , a military alliance with Australia was forged behind the back of the European Union at the cost of breaking a very big contract with France . What great cooperation ! Be serious ! Until when do we have to accept being the turkeys of the stuffing ? It is time to understand that the United States is not our friend , but a power with its own interests . Let us stop being naive and protect our jobs , our industries and our know-how . Have the courage of independence . "
     ]
    }
   ],
   "source": [
    "raw1_17 = 'Manuel Bompard (The Left). – Mr President, the Trade and Technology Council has been sold to us with the usual praise for the transatlantic relationship that the Union forms with the United States. It therefore seems that the unfair practices and humiliations of recent years have not served as a lesson to you. Here are two of a long list. In 2014, after unacceptable blackmail by American justice, General Electric took over the energy branch of Alstom. He plunders the patents, reneges on his commitments and leaves thousands of employees on the floor. What a wonderful partnership! A few weeks ago, a military alliance with Australia was forged behind the back of the European Union at the cost of breaking a very big contract with France. What great cooperation! Be serious! Until when do we have to accept being the turkeys of the stuffing? It is time to understand that the United States is not our friend, but a power with its own interests. Let us stop being naive and protect our jobs, our industries and our know-how. Have the courage of independence.'\n",
    "tokens1_17 = word_tokenize(raw1_17)\n",
    "for word in tokens1_17:\n",
    "    print(word, end=' ')"
   ]
  },
  {
   "cell_type": "code",
   "execution_count": 105,
   "metadata": {},
   "outputs": [
    {
     "name": "stdout",
     "output_type": "stream",
     "text": [
      "Edina Tóth ( NI ) . - Mr President , Commissioner . I consider it important for the EU and the United States to establish regular cooperation , and I therefore welcome the fact that tackling the chip deficit in the two regions has been one of the priorities of the EU-US Trade and Technology Council . One of the unforeseen consequences of the coronavirus epidemic is the global shortage of the semiconductor market , the impact of which will be felt most by the automotive industry . The shortage of raw materials needed to produce the chip will significantly increase the cost of automotive manufacturing , which is expected to cause severe damage to industry players in the coming years . As a result , the price of cars could rise drastically . And the additional losers in the crisis will be the buyers . Their wallets will be the most strained . I hope that the European Commission will also act as soon as possible and draw up its new action plan in the interests of consumers . "
     ]
    }
   ],
   "source": [
    "raw1_18 = 'Edina Tóth (NI). - Mr President, Commissioner. I consider it important for the EU and the United States to establish regular cooperation, and I therefore welcome the fact that tackling the chip deficit in the two regions has been one of the priorities of the EU-US Trade and Technology Council. One of the unforeseen consequences of the coronavirus epidemic is the global shortage of the semiconductor market, the impact of which will be felt most by the automotive industry. The shortage of raw materials needed to produce the chip will significantly increase the cost of automotive manufacturing, which is expected to cause severe damage to industry players in the coming years. As a result, the price of cars could rise drastically. And the additional losers in the crisis will be the buyers. Their wallets will be the most strained. I hope that the European Commission will also act as soon as possible and draw up its new action plan in the interests of consumers.'\n",
    "tokens1_18 = word_tokenize(raw1_18)\n",
    "for word in tokens1_18:\n",
    "    print(word, end=' ')"
   ]
  },
  {
   "cell_type": "code",
   "execution_count": 106,
   "metadata": {},
   "outputs": [
    {
     "name": "stdout",
     "output_type": "stream",
     "text": [
      "Juan Ignacio Zoido Álvarez ( EPP ) . – Mr President , with 780 million inhabitants and 40 % of world GDP , Europe and the United States have developed the most important economic relationship in the world . But our relationship goes far beyond the purely commercial aspect : Europe and the United States are the two great pillars that support the liberal democratic order and the Law ; a democratic order increasingly threatened by dictatorial regimes that have greater technological capabilities and greater economic weight . If Europeans and Americans intend to preserve this liberal order , cooperation is no longer an option but an obligation . We must shore up the shared institutions that regulate trade and international order , but we must also look to the future . We must design the necessary rules to protect our privacy , preserve our cybersecurity and regulate artificial intelligence . The Brussels effect is no longer enough for us . If we want to continue leading the 21st century , democracies need the Brussels-Washington effect . "
     ]
    }
   ],
   "source": [
    "raw1_19 = 'Juan Ignacio Zoido Álvarez (EPP). – Mr President, with 780 million inhabitants and 40% of world GDP, Europe and the United States have developed the most important economic relationship in the world. But our relationship goes far beyond the purely commercial aspect: Europe and the United States are the two great pillars that support the liberal democratic order and the Law; a democratic order increasingly threatened by dictatorial regimes that have greater technological capabilities and greater economic weight. If Europeans and Americans intend to preserve this liberal order, cooperation is no longer an option but an obligation. We must shore up the shared institutions that regulate trade and international order, but we must also look to the future. We must design the necessary rules to protect our privacy, preserve our cybersecurity and regulate artificial intelligence. The Brussels effect is no longer enough for us. If we want to continue leading the 21st century, democracies need the Brussels-Washington effect.'\n",
    "tokens1_19 = word_tokenize(raw1_19)\n",
    "for word in tokens1_19:\n",
    "    print(word, end=' ')"
   ]
  },
  {
   "cell_type": "code",
   "execution_count": 107,
   "metadata": {},
   "outputs": [
    {
     "name": "stdout",
     "output_type": "stream",
     "text": [
      "Kathleen Van Brempt ( S & D ) . – ( NL ) Mr President , I think we can all agree that after Trump , we need to work with the current Biden administration on a positive agenda for the future . This means not only solving problems , for example in the area of ​​steel and aluminum , but also setting a positive agenda with issues that are important for our future . The EU-US Trade and Technology Council is therefore very important . We all know that technology such as artificial intelligence can be used for the success of our future and the well-being of our people . However , this technology can also be used for many other purposes . It is therefore essential that democratic societies such as the United States and Europe work together in this area and not leave it to societies that use the relevant technology for espionage or large-scale surveillance of their populations . This democratic control must also be able to take place from within the European Parliament . This is very important to further strengthen support . "
     ]
    }
   ],
   "source": [
    "raw1_20 = 'Kathleen Van Brempt (S&D). – (NL) Mr President, I think we can all agree that after Trump, we need to work with the current Biden administration on a positive agenda for the future. This means not only solving problems, for example in the area of ​​steel and aluminum, but also setting a positive agenda with issues that are important for our future. The EU-US Trade and Technology Council is therefore very important. We all know that technology such as artificial intelligence can be used for the success of our future and the well-being of our people. However, this technology can also be used for many other purposes. It is therefore essential that democratic societies such as the United States and Europe work together in this area and not leave it to societies that use the relevant technology for espionage or large-scale surveillance of their populations. This democratic control must also be able to take place from within the European Parliament. This is very important to further strengthen support.'\n",
    "tokens1_20 = word_tokenize(raw1_20)\n",
    "for word in tokens1_20:\n",
    "    print(word, end=' ')"
   ]
  },
  {
   "cell_type": "code",
   "execution_count": 108,
   "metadata": {},
   "outputs": [
    {
     "name": "stdout",
     "output_type": "stream",
     "text": [
      "Nicolae Ştefănuță ( Renew ) . – Mr President , today is 11 November , it ’ s Remembrance Day , the day that weapons stood still in Europe . I think it is time to remember that , because working together on trade and technology is also about peace , not only about the economy . It will help us win an international competition with China and neutralise its ever-expanding power on the world stage . It is time we fought together unfair trade practices such as theft of intellectual property . It is time we established clear and strategic standards for the use of artificial intelligence so that we have to fight human rights violations through mass surveillance . The COVID-19 pandemic has shown us how fragile the global production systems are , and we need to build resilient and sustainable supply chains for tomorrow . I ’ d like to paraphrase the 1992 US elections by saying ‘ it ’ s not only the economy , stupid , it ’ s also peace ’ . "
     ]
    }
   ],
   "source": [
    "raw1_21 = 'Nicolae Ştefănuță (Renew). – Mr President, today is 11 November, it’s Remembrance Day, the day that weapons stood still in Europe. I think it is time to remember that, because working together on trade and technology is also about peace, not only about the economy. It will help us win an international competition with China and neutralise its ever-expanding power on the world stage. It is time we fought together unfair trade practices such as theft of intellectual property. It is time we established clear and strategic standards for the use of artificial intelligence so that we have to fight human rights violations through mass surveillance. The COVID-19 pandemic has shown us how fragile the global production systems are, and we need to build resilient and sustainable supply chains for tomorrow. I’d like to paraphrase the 1992 US elections by saying ‘it’s not only the economy, stupid, it’s also peace’.'\n",
    "tokens1_21 = word_tokenize(raw1_21)\n",
    "for word in tokens1_21:\n",
    "    print(word, end=' ')"
   ]
  },
  {
   "cell_type": "code",
   "execution_count": 109,
   "metadata": {},
   "outputs": [
    {
     "name": "stdout",
     "output_type": "stream",
     "text": [
      "Henrike Hahn ( Verts/ALE ) . - Mister President ! TTC - the Trade and Technology Council - is a building block in a transatlantic alliance for climate neutrality . When it comes to climate protection , the USA and the EU are looking in the same direction . We were able to do that with the Industry Committee in Washington , D.C. discussed and seen in detail last week , but we need much more concrete targets for decarbonization on both sides . We also need to think globally and work well together on energy justice , just transition and engaging the people affected by the transition . And the TTC should serve as a forum for the supply of raw materials , for sustainable and resilient supply chains , for the creation of markets , for secondary raw materials and the exchange of know-how on green technology . Semiconductors are important for digitization and for climate protection . We want to build up European capacities for this as a partner and fair competition , in which we have to take competencies and markets into account . And for global data flows in accordance with fundamental rights , we need trustworthy partners - including the USA . There is much to do . It is best together . "
     ]
    }
   ],
   "source": [
    "raw1_22 = 'Henrike Hahn (Verts/ALE). - Mister President! TTC - the Trade and Technology Council - is a building block in a transatlantic alliance for climate neutrality. When it comes to climate protection, the USA and the EU are looking in the same direction. We were able to do that with the Industry Committee in Washington, D.C. discussed and seen in detail last week, but we need much more concrete targets for decarbonization on both sides. We also need to think globally and work well together on energy justice, just transition and engaging the people affected by the transition. And the TTC should serve as a forum for the supply of raw materials, for sustainable and resilient supply chains, for the creation of markets, for secondary raw materials and the exchange of know-how on green technology. Semiconductors are important for digitization and for climate protection. We want to build up European capacities for this as a partner and fair competition, in which we have to take competencies and markets into account. And for global data flows in accordance with fundamental rights, we need trustworthy partners - including the USA. There is much to do. It is best together.'\n",
    "tokens1_22 = word_tokenize(raw1_22)\n",
    "for word in tokens1_22:\n",
    "    print(word, end=' ')"
   ]
  },
  {
   "cell_type": "code",
   "execution_count": 110,
   "metadata": {},
   "outputs": [
    {
     "name": "stdout",
     "output_type": "stream",
     "text": [
      "Virginie Joron ( ID ) . – Mr President , ladies and gentlemen , Commissioner , 500 billion euros in 2030 : the global cloud computing market is a major challenge for France and for Europe . But this market only goes one way : to the United States . Only 5 % of European data is stored in Europe . Even the French government favors Google and Microsoft . Military data and health data are managed by these companies , while French players such as OVH and Scaleway offer sovereign solutions . The negotiations on the DMA ( the future legislation on the digital markets ) should allow Europe to regain control vis-à-vis certain practices of Google , Amazon and Facebook . But how will the European Commission be able to check and inspect these companies outside Europe ? The Americans , on the other hand , require service providers to disclose any information to the authorities , whether it is inside the United States or on the other side of the world . In this transatlantic forum , you must carry the voice of the truly European companies which employ engineers in Europe . Do not listen only to the Digitaleurope lobby , because the Korean Samsung , the Chinese Huawei , Facebook , Google and Amazon finance this lobby . Mr. Chao-Muller , director of the Digitaleurope lobby does not represent our interests . "
     ]
    }
   ],
   "source": [
    "raw1_23 = 'Virginie Joron (ID). – Mr President, ladies and gentlemen, Commissioner, 500 billion euros in 2030: the global cloud computing market is a major challenge for France and for Europe. But this market only goes one way: to the United States. Only 5% of European data is stored in Europe. Even the French government favors Google and Microsoft. Military data and health data are managed by these companies, while French players such as OVH and Scaleway offer sovereign solutions. The negotiations on the DMA (the future legislation on the digital markets) should allow Europe to regain control vis-à-vis certain practices of Google, Amazon and Facebook. But how will the European Commission be able to check and inspect these companies outside Europe? The Americans, on the other hand, require service providers to disclose any information to the authorities, whether it is inside the United States or on the other side of the world. In this transatlantic forum, you must carry the voice of the truly European companies which employ engineers in Europe. Do not listen only to the Digitaleurope lobby, because the Korean Samsung, the Chinese Huawei, Facebook, Google and Amazon finance this lobby. Mr. Chao-Muller, director of the Digitaleurope lobby does not represent our interests.'\n",
    "tokens1_23 = word_tokenize(raw1_23)\n",
    "for word in tokens1_23:\n",
    "    print(word, end=' ')"
   ]
  },
  {
   "cell_type": "code",
   "execution_count": 111,
   "metadata": {},
   "outputs": [
    {
     "name": "stdout",
     "output_type": "stream",
     "text": [
      "Michiel Hoogeveen ( ECR ) . – ( NL ) Mr President , when the Peoples Republic of China joined the World Trade Organization in 2001 , it was intended that trade would increase and China would gradually become a liberal market democracy . However , this turned out differently than expected . China chooses its own course and combines state capitalism with a very assertive trade policy . The recent meeting of the EU-US Trade and Technology Council in Pittsburgh , where the EU and the United States demonstrated that they can meet the technological challenges of the 21st century and that they can best tackle them at the transatlantic level , was therefore of great importance . To protect our prosperity and way of life , the technological lead of the west must be preserved . For example , the Netherlands tops the global semiconductor market , which is a geopolitical advantage . The current problems in the supply chain must therefore be solved . Strategic transatlantic cooperation also means that our companies can not simply share such technologies with countries pursuing other political interests . Let Pittsburgh therefore be the starting signal for a closer transatlantic cooperation , in which other like-minded countries can also join . "
     ]
    }
   ],
   "source": [
    "raw1_24 = 'Michiel Hoogeveen (ECR). – (NL) Mr President, when the Peoples Republic of China joined the World Trade Organization in 2001, it was intended that trade would increase and China would gradually become a liberal market democracy. However, this turned out differently than expected. China chooses its own course and combines state capitalism with a very assertive trade policy. The recent meeting of the EU-US Trade and Technology Council in Pittsburgh, where the EU and the United States demonstrated that they can meet the technological challenges of the 21st century and that they can best tackle them at the transatlantic level , was therefore of great importance. To protect our prosperity and way of life, the technological lead of the west must be preserved. For example, the Netherlands tops the global semiconductor market, which is a geopolitical advantage. The current problems in the supply chain must therefore be solved. Strategic transatlantic cooperation also means that our companies cannot simply share such technologies with countries pursuing other political interests. Let Pittsburgh therefore be the starting signal for a closer transatlantic cooperation, in which other like-minded countries can also join.'\n",
    "tokens1_24 = word_tokenize(raw1_24)\n",
    "for word in tokens1_24:\n",
    "    print(word, end=' ')"
   ]
  },
  {
   "cell_type": "code",
   "execution_count": 112,
   "metadata": {},
   "outputs": [
    {
     "name": "stdout",
     "output_type": "stream",
     "text": [
      "Massimiliano Salini ( PPE ) . - ( IT ) Mr President , Commissioner , ladies and gentlemen , we have an enthusiastic , legitimately enthusiastic narrative in the comment we make in the light of the agreement underlying the establishment of this Trade and Technology Council between the United States and Europe . The enthusiasm is legitimate , the political subjectivity of the European Union consists in belonging to the Atlantic axis with the United States , but this agreement also documents the existence of a wound . The wound that for some time , politically , has seen this axis in difficulty : on Afghanistan ; on the match linked to the battle against climate change ; on defense , with the AUKUS agreement . So the point is , on the one hand , the technological defense - transparency in algorithms and so on - and commercial , but on the other , who will take on the political responsibility of leading this huge game . Politically , by whom will Europe be guided in exploiting the content of this new agreement with the United States ? "
     ]
    }
   ],
   "source": [
    "raw1_25 = 'Massimiliano Salini (PPE). - (IT) Mr President, Commissioner, ladies and gentlemen, we have an enthusiastic, legitimately enthusiastic narrative in the comment we make in the light of the agreement underlying the establishment of this Trade and Technology Council between the United States and Europe. The enthusiasm is legitimate, the political subjectivity of the European Union consists in belonging to the Atlantic axis with the United States, but this agreement also documents the existence of a wound. The wound that for some time, politically, has seen this axis in difficulty: on Afghanistan; on the match linked to the battle against climate change; on defense, with the AUKUS agreement. So the point is, on the one hand, the technological defense - transparency in algorithms and so on - and commercial, but on the other, who will take on the political responsibility of leading this huge game. Politically, by whom will Europe be guided in exploiting the content of this new agreement with the United States?'\n",
    "tokens1_25 = word_tokenize(raw1_25)\n",
    "for word in tokens1_25:\n",
    "    print(word, end=' ')"
   ]
  },
  {
   "cell_type": "code",
   "execution_count": 113,
   "metadata": {},
   "outputs": [
    {
     "name": "stdout",
     "output_type": "stream",
     "text": [
      "Tonino Picula ( S & D ) . – Mr President , it has been an exciting couple of weeks for transatlantic relations . After a turbulent summer we are picking up on the positive momentum – from lifting the travel ban , joint environment commitments in Glasgow , meetings on the highest level , suspension of the aluminium and steel trade dispute , the Pittsburgh meeting – to name a few . In my capacity as a standing rapporteur for relations with the US , I fully recognise the importance of the TTC for our overall relations . It ’ s one of the key pillars . We want to see sustainable , ethical and inclusive digital and green transitions that benefit our citizens . I would like to underline the issue of transparency and parliamentary cooperation . Even though the TTC is not negotiating a new comprehensive trade agreement , we learned our lesson from the Transatlantic Trade and Investment Partnership . This is why I join calls to involve parliamentarians from both sides in your work . We are ready to contribute to this positive agenda . "
     ]
    }
   ],
   "source": [
    "raw1_26 = 'Tonino Picula (S&D). – Mr President, it has been an exciting couple of weeks for transatlantic relations. After a turbulent summer we are picking up on the positive momentum – from lifting the travel ban, joint environment commitments in Glasgow, meetings on the highest level, suspension of the aluminium and steel trade dispute, the Pittsburgh meeting – to name a few. In my capacity as a standing rapporteur for relations with the US, I fully recognise the importance of the TTC for our overall relations. It’s one of the key pillars. We want to see sustainable, ethical and inclusive digital and green transitions that benefit our citizens. I would like to underline the issue of transparency and parliamentary cooperation. Even though the TTC is not negotiating a new comprehensive trade agreement, we learned our lesson from the Transatlantic Trade and Investment Partnership. This is why I join calls to involve parliamentarians from both sides in your work. We are ready to contribute to this positive agenda.'\n",
    "tokens1_26 = word_tokenize(raw1_26)\n",
    "for word in tokens1_26:\n",
    "    print(word, end=' ')"
   ]
  },
  {
   "cell_type": "code",
   "execution_count": 114,
   "metadata": {},
   "outputs": [
    {
     "name": "stdout",
     "output_type": "stream",
     "text": [
      "Dita Charanzová ( Renew ) . – Mr President , while this Council is a major opportunity , there is no doubt that the European Union and the United States have a lot of potential for common action and cooperation . And our agenda is finally on the right track . But we must ensure that this doesn ’ t become just a talking shop . We need to prioritise . We need to make tangible suggestions . The goal of each meeting should be a concrete result and concrete action . The procedure to implement any decision will , however , take time , so we need to move quickly , or it may be too late . Some have pointed out that the TTC should not turn into just a China-bashing exercise . They are right , but we can not ignore the geopolitical reality and who our main competitor is . "
     ]
    }
   ],
   "source": [
    "raw1_27 = 'Dita Charanzová (Renew). – Mr President, while this Council is a major opportunity, there is no doubt that the European Union and the United States have a lot of potential for common action and cooperation. And our agenda is finally on the right track. But we must ensure that this doesn’t become just a talking shop. We need to prioritise. We need to make tangible suggestions. The goal of each meeting should be a concrete result and concrete action. The procedure to implement any decision will, however, take time, so we need to move quickly, or it may be too late. Some have pointed out that the TTC should not turn into just a China-bashing exercise. They are right, but we cannot ignore the geopolitical reality and who our main competitor is.'\n",
    "tokens1_27 = word_tokenize(raw1_27)\n",
    "for word in tokens1_27:\n",
    "    print(word, end=' ')"
   ]
  },
  {
   "cell_type": "code",
   "execution_count": 115,
   "metadata": {},
   "outputs": [
    {
     "name": "stdout",
     "output_type": "stream",
     "text": [
      "Anna-Michelle Asimakopoulou ( PPE ) . – Mr President , as Vice-Chair of the Committee on International Trade ( INTA ) , I support the Trade and Technology Council as a positive development in transatlantic relations , and Pittsburgh was a good starting point . The question is now what can we expect from the TTC ? We know it will deal with trade and technology , so that takes care of the two Ts . But the essence of what we can expect can be described best by using words starting with the letter C , so we can expect that the TTC will be a forum where we can converse and collaborate , where we can minimise conflict , where we can compare and converge approaches , where we can reach compromises and aim for consensus – where we can find a way to deal with China , even though we avoid using the name . But if I were to choose one word starting with the letter C to describe what a successful overall outcome would be of the TTC for the transatlantic relationship , I would choose the word ‘ compatibility ’ . After all , in trade and tech , as in life , compatibility is the essence of solid and long-lasting relationships . "
     ]
    }
   ],
   "source": [
    "raw1_28 = 'Anna-Michelle Asimakopoulou (PPE). – Mr President, as Vice-Chair of the Committee on International Trade (INTA), I support the Trade and Technology Council as a positive development in transatlantic relations, and Pittsburgh was a good starting point. The question is now what can we expect from the TTC? We know it will deal with trade and technology, so that takes care of the two Ts. But the essence of what we can expect can be described best by using words starting with the letter C, so we can expect that the TTC will be a forum where we can converse and collaborate, where we can minimise conflict, where we can compare and converge approaches, where we can reach compromises and aim for consensus – where we can find a way to deal with China, even though we avoid using the name. But if I were to choose one word starting with the letter C to describe what a successful overall outcome would be of the TTC for the transatlantic relationship, I would choose the word ‘compatibility’. After all, in trade and tech, as in life, compatibility is the essence of solid and long-lasting relationships.'\n",
    "tokens1_28 = word_tokenize(raw1_28)\n",
    "for word in tokens1_28:\n",
    "    print(word, end=' ')"
   ]
  },
  {
   "cell_type": "code",
   "execution_count": 116,
   "metadata": {},
   "outputs": [
    {
     "name": "stdout",
     "output_type": "stream",
     "text": [
      "Karin Karlsbro ( Renew ) . - Mr President ! Trade is a prerequisite for growth , prosperity , development and innovation , but it is also a tool for securing peace and security . `` Trade needs democracy , '' said the US Secretary of Commerce when she visited us this summer . But democracy also needs trade . When we look at the world with trade policy glasses , it becomes clear that democracies must work together , just as the EU and the US are now doing in areas such as digitalisation and technology . We must have high expectations of this collaboration , that it will increase competitiveness , deliver less hassle and less bureaucracy - which benefits both companies and consumers - and stimulate green technology development that helps us reduce emissions . We expect new common rules to be based on democratic values ​​with respect for human rights and integrity . Every new bond that is forged between the EU and the US is important . The leading democracies of the world are strong . We stand even stronger together . "
     ]
    }
   ],
   "source": [
    "raw1_29 = 'Karin Karlsbro (Renew). - Mr President! Trade is a prerequisite for growth, prosperity, development and innovation, but it is also a tool for securing peace and security. \"Trade needs democracy,\" said the US Secretary of Commerce when she visited us this summer. But democracy also needs trade. When we look at the world with trade policy glasses, it becomes clear that democracies must work together, just as the EU and the US are now doing in areas such as digitalisation and technology. We must have high expectations of this collaboration, that it will increase competitiveness, deliver less hassle and less bureaucracy - which benefits both companies and consumers - and stimulate green technology development that helps us reduce emissions. We expect new common rules to be based on democratic values ​​with respect for human rights and integrity. Every new bond that is forged between the EU and the US is important. The leading democracies of the world are strong. We stand even stronger together.'\n",
    "tokens1_29 = word_tokenize(raw1_29)\n",
    "for word in tokens1_29:\n",
    "    print(word, end=' ')"
   ]
  },
  {
   "cell_type": "code",
   "execution_count": 117,
   "metadata": {},
   "outputs": [
    {
     "name": "stdout",
     "output_type": "stream",
     "text": [
      "Pillar of Vera Castle ( PPE ) . – Mr President , Madam Vice President , the United States , due to its history and values , is a natural ally of Europe . Our economies are already very intertwined , but the need to strengthen that relationship has become greater as the world has become more global ; The Trade and Technology Council has opened new expectations to strengthen this alliance , especially in an area as decisive as digitization . I want to focus on five areas in which it is urgent to develop a common effort : seek solutions to the crisis in semiconductor supplies ; promote the development of an artificial intelligence that generates trust ; develop policies and coordinated actions on cybersecurity ; work in an area as crucial , as decisive , as standards , and move towards a transatlantic data space that allows our researchers and our companies to take advantage of their full potential . A few days ago , a delegation from the Committee on Industry , Research and Energy was in Washington DC , and the renewed interest there was evident : you can not lose this momentum , Madam Vice President , and the Trade and Technology Council has to start give results . "
     ]
    }
   ],
   "source": [
    "raw1_30 = 'Pillar of Vera Castle (PPE). – Mr President, Madam Vice President, the United States, due to its history and values, is a natural ally of Europe. Our economies are already very intertwined, but the need to strengthen that relationship has become greater as the world has become more global; The Trade and Technology Council has opened new expectations to strengthen this alliance, especially in an area as decisive as digitization. I want to focus on five areas in which it is urgent to develop a common effort: seek solutions to the crisis in semiconductor supplies; promote the development of an artificial intelligence that generates trust; develop policies and coordinated actions on cybersecurity; work in an area as crucial, as decisive, as standards, and move towards a transatlantic data space that allows our researchers and our companies to take advantage of their full potential. A few days ago, a delegation from the Committee on Industry, Research and Energy was in Washington DC, and the renewed interest there was evident: you cannot lose this momentum, Madam Vice President, and the Trade and Technology Council has to start give results.'\n",
    "tokens1_30 = word_tokenize(raw1_30)\n",
    "for word in tokens1_30:\n",
    "    print(word, end=' ')"
   ]
  },
  {
   "cell_type": "code",
   "execution_count": 118,
   "metadata": {},
   "outputs": [
    {
     "name": "stdout",
     "output_type": "stream",
     "text": [
      "Jörgen Warborn ( PPE ) . - Mr President ! Commissioner ! Global trade is now increasingly disrupted by protectionist winds , and we must change that immediately . Global trade is the solution to tackle many of our challenges . People , jobs and our prosperity depend on trade . I welcome TTC as a fresh start to chart our common values and to deepen the EU-US alliance . We will work with all allies who want to maintain free , fair and rule-based trade . Therefore , it is important that we now weave together our ambitions , that we maintain secure and resilient supply chains for digital products and services and that we fully support globalization . Of the ten working groups , I would like to focus on the one about small business owners today . My question to the Commission is : What is the objective of the Commission in the work of The Trade and Tech Council for European small businesses ? "
     ]
    }
   ],
   "source": [
    "raw1_31 = 'Jörgen Warborn (PPE). - Mr President! Commissioner! Global trade is now increasingly disrupted by protectionist winds, and we must change that immediately. Global trade is the solution to tackle many of our challenges. People, jobs and our prosperity depend on trade. I welcome TTC as a fresh start to chart our common values and to deepen the EU-US alliance. We will work with all allies who want to maintain free, fair and rule-based trade. Therefore, it is important that we now weave together our ambitions, that we maintain secure and resilient supply chains for digital products and services and that we fully support globalization. Of the ten working groups, I would like to focus on the one about small business owners today. My question to the Commission is: What is the objective of the Commission in the work of The Trade and Tech Council for European small businesses?'\n",
    "tokens1_31 = word_tokenize(raw1_31)\n",
    "for word in tokens1_31:\n",
    "    print(word, end=' ')"
   ]
  },
  {
   "cell_type": "code",
   "execution_count": 119,
   "metadata": {},
   "outputs": [
    {
     "name": "stdout",
     "output_type": "stream",
     "text": [
      "Christophe Hansen ( PPE ) . – Mr President , EU-US relations are back on track and that ’ s exactly where they belong . With the grounding of the Airbus-Boeing dispute and the suspension of the Section 232 , the tariff conflict , we can once again focus on building rather than on repairing . It is the mark of good policy not to let the perfect be the enemy of the better . You have taken your responsibility in doing so and created the basis between punch-all effects from Trump ’ s divisive trade policies for good . We look forward to seeing tangible results coming out of the TTC , in particular in the fight against distortive trade practices and subsidies . And we hope this can give impetus as well to the multilateral process on this . I have said it before : when the EU and the US quarrel , Beijing and the Kremlin rejoice . But when the EU and the US work together on setting the standards for the 21st century , the world finally pays attention , and that is exactly the way forward . "
     ]
    }
   ],
   "source": [
    "raw1_32 = 'Christophe Hansen (PPE). – Mr President, EU-US relations are back on track and that’s exactly where they belong. With the grounding of the Airbus-Boeing dispute and the suspension of the Section 232, the tariff conflict, we can once again focus on building rather than on repairing. It is the mark of good policy not to let the perfect be the enemy of the better. You have taken your responsibility in doing so and created the basis between punch-all effects from Trump’s divisive trade policies for good. We look forward to seeing tangible results coming out of the TTC, in particular in the fight against distortive trade practices and subsidies. And we hope this can give impetus as well to the multilateral process on this. I have said it before: when the EU and the US quarrel, Beijing and the Kremlin rejoice. But when the EU and the US work together on setting the standards for the 21st century, the world finally pays attention, and that is exactly the way forward.'\n",
    "tokens1_32 = word_tokenize(raw1_32)\n",
    "for word in tokens1_32:\n",
    "    print(word, end=' ')"
   ]
  },
  {
   "cell_type": "code",
   "execution_count": 120,
   "metadata": {},
   "outputs": [
    {
     "name": "stdout",
     "output_type": "stream",
     "text": [
      "Maria-Manuel Leitão-Marques ( S & D ) . – Madam President , Commissioner , last week I was part of a delegation from Parliament to the Special Committee on Artificial Intelligence and we had the opportunity to discuss technological cooperation in depth with Members of Parliament , the Presidency services , the Department of State and Commerce , stakeholders and various think tanks . We converge on the purpose of accelerating innovation . We even converge on the values ​​we need to protect , in the name of a democratic model for the digital . But there is still a great distance in the regulatory instruments that we must use for this purpose , so that the data is protected in an equivalent way , or in the approach to risk of Artificial Intelligence . Therefore , on both sides of the Atlantic , we need to be open to building bridges and common solutions , which do not have to be exactly the same , but which , in the end , allow us , as Mrs. Vice President , a trusted digital space . "
     ]
    }
   ],
   "source": [
    "raw1_33 = 'Maria-Manuel Leitão-Marques (S&D). – Madam President, Commissioner, last week I was part of a delegation from Parliament to the Special Committee on Artificial Intelligence and we had the opportunity to discuss technological cooperation in depth with Members of Parliament, the Presidency services, the Department of State and Commerce, stakeholders and various think tanks. We converge on the purpose of accelerating innovation. We even converge on the values ​​we need to protect, in the name of a democratic model for the digital. But there is still a great distance in the regulatory instruments that we must use for this purpose, so that the data is protected in an equivalent way, or in the approach to risk of Artificial Intelligence. Therefore, on both sides of the Atlantic, we need to be open to building bridges and common solutions, which do not have to be exactly the same, but which, in the end, allow us, as Mrs. Vice President, a trusted digital space.'\n",
    "tokens1_33 = word_tokenize(raw1_33)\n",
    "for word in tokens1_33:\n",
    "    print(word, end=' ')"
   ]
  },
  {
   "cell_type": "code",
   "execution_count": 121,
   "metadata": {},
   "outputs": [
    {
     "name": "stdout",
     "output_type": "stream",
     "text": [
      "Barry Andrews ( Renew ) . – Madam President , I very much welcome the first meeting of the Trade and Technology Council , which took place in September – something that would have been inconceivable under the previous American administration . I certainly welcome the first statement of the Council , which emphasised the importance of workers on both sides of the Atlantic , on shared values and also on SMEs and the working groups that have been set up under the Council . It is striking that some elements of open strategic autonomy are clearly there in the statement – for example , balancing the encouragement of foreign direct investment on the one hand , but also investment screening . But advancing any trade agenda requires a high level of scrutiny and particularly parliamentary scrutiny . So I wish to add my voice to those who ’ ve already asked what the role of the European Parliament is in scrutinising the work of the Council and the working groups set up thereunder . Finally , I would like to welcome the statement made by President von der Leyen yesterday reaffirming steadfast American support for the Good Friday Agreement and against the triggering of Article 16 . "
     ]
    }
   ],
   "source": [
    "raw1_34 = 'Barry Andrews (Renew). – Madam President, I very much welcome the first meeting of the Trade and Technology Council, which took place in September – something that would have been inconceivable under the previous American administration. I certainly welcome the first statement of the Council, which emphasised the importance of workers on both sides of the Atlantic, on shared values and also on SMEs and the working groups that have been set up under the Council. It is striking that some elements of open strategic autonomy are clearly there in the statement – for example, balancing the encouragement of foreign direct investment on the one hand, but also investment screening. But advancing any trade agenda requires a high level of scrutiny and particularly parliamentary scrutiny. So I wish to add my voice to those who’ve already asked what the role of the European Parliament is in scrutinising the work of the Council and the working groups set up thereunder. Finally, I would like to welcome the statement made by President von der Leyen yesterday reaffirming steadfast American support for the Good Friday Agreement and against the triggering of Article 16.'\n",
    "tokens1_34 = word_tokenize(raw1_34)\n",
    "for word in tokens1_34:\n",
    "    print(word, end=' ')"
   ]
  },
  {
   "cell_type": "code",
   "execution_count": 122,
   "metadata": {},
   "outputs": [
    {
     "name": "stdout",
     "output_type": "stream",
     "text": [
      "Bogdan Rzońca ( ECR ) . - Madam President ! Commissioner ! A lot of good information is coming in from the debate of today on cooperation between the United States and Europe . It would be good if the standards for the use of new technologies and the use of trade as an instrument of economic development were imposed precisely by the cooperation of the United States with the European Union - here we have a really great opportunity . Therefore , I wanted to ask about a possible aspect of this cooperation . I ask the Commissioner : what place do you think will be in the future of cooperation between the European Union and the United States in the field of space ? This is a place where we can really offer a lot to the world , make good use of this part of the world - space - in relation to economic challenges and international cooperation . "
     ]
    }
   ],
   "source": [
    "raw1_35 = 'Bogdan Rzońca (ECR). - Madam President! Commissioner! A lot of good information is coming in from the debate of today on cooperation between the United States and Europe. It would be good if the standards for the use of new technologies and the use of trade as an instrument of economic development were imposed precisely by the cooperation of the United States with the European Union - here we have a really great opportunity. Therefore, I wanted to ask about a possible aspect of this cooperation. I ask the Commissioner: what place do you think will be in the future of cooperation between the European Union and the United States in the field of space? This is a place where we can really offer a lot to the world, make good use of this part of the world - space - in relation to economic challenges and international cooperation.'\n",
    "tokens1_35 = word_tokenize(raw1_35)\n",
    "for word in tokens1_35:\n",
    "    print(word, end=' ')"
   ]
  },
  {
   "cell_type": "code",
   "execution_count": 123,
   "metadata": {},
   "outputs": [
    {
     "name": "stdout",
     "output_type": "stream",
     "text": [
      "Maria Grapini ( S & D ) . - Madam President , Commissioner , I do not think anyone questions the need for an agreement between the European Union and the United States . I had a failure , from my point of view , with TTIP , I hope we do not get to the same point and I hope we learn from what happened in the TTIP negotiation . In fact , the thing that I still see unclear is the harmonization of standards , the abandonment of the principle that the United States is very fond of , `` Buy America . '' Basically , we , the European Union market , as vice-president of the internal market , say that we need an agreement with the United States . At the same time , we need equity , we need similarity , we need the support of SMEs and I am glad that it has been said here that you will take it into account . But I want to know what the next steps are and how you see it with the European Parliament , because I think we can not just rely on what you are discussing there without making decisions and when , what the deadline is and what steps we are taking to reach such an agreement . "
     ]
    }
   ],
   "source": [
    "raw1_36 = 'Maria Grapini (S&D). - Madam President, Commissioner, I do not think anyone questions the need for an agreement between the European Union and the United States. I had a failure, from my point of view, with TTIP, I hope we do not get to the same point and I hope we learn from what happened in the TTIP negotiation. In fact, the thing that I still see unclear is the harmonization of standards, the abandonment of the principle that the United States is very fond of, \"Buy America.\" Basically, we, the European Union market, as vice-president of the internal market, say that we need an agreement with the United States. At the same time, we need equity, we need similarity, we need the support of SMEs and I am glad that it has been said here that you will take it into account. But I want to know what the next steps are and how you see it with the European Parliament, because I think we cannot just rely on what you are discussing there without making decisions and when, what the deadline is and what steps we are taking to reach such an agreement.'\n",
    "tokens1_36 = word_tokenize(raw1_36)\n",
    "for word in tokens1_36:\n",
    "    print(word, end=' ')"
   ]
  },
  {
   "cell_type": "code",
   "execution_count": 124,
   "metadata": {},
   "outputs": [
    {
     "name": "stdout",
     "output_type": "stream",
     "text": [
      "Dragoş Pîslaru ( Renew ) . – Madam President , the TTC is a great achievement and EU—US relations are critical for the common future of both the US and the EU at global level . Last week I was in Washington with the mission from the Committee on Industry , Research and Energy and there was openness and a warm welcome on the part of our American counterparts . But I also felt a certain level of uncertainty or non—clarity relating to the immediate objectives in several of the ten Working Groups that have been set up . For instance , in Working Group 3 on Secure Supply Chains we are right now at the phase that we are doing mapping and the exchange of information . We are talking about the US and the EU Chips Act , but it ’ s more like mirroring things rather than having an integrated approach . So what I am kindly asking you is , how do you perceive the kind of cooperation that we had , for instance with Pfizer—BioNTech , when the subsidies played together ? Is that the future that we can see in terms of objectives ? "
     ]
    }
   ],
   "source": [
    "raw1_37 = 'Dragoş Pîslaru (Renew). – Madam President, the TTC is a great achievement and EU—US relations are critical for the common future of both the US and the EU at global level. Last week I was in Washington with the mission from the Committee on Industry, Research and Energy and there was openness and a warm welcome on the part of our American counterparts. But I also felt a certain level of uncertainty or non—clarity relating to the immediate objectives in several of the ten Working Groups that have been set up. For instance, in Working Group 3 on Secure Supply Chains we are right now at the phase that we are doing mapping and the exchange of information. We are talking about the US and the EU Chips Act, but it’s more like mirroring things rather than having an integrated approach. So what I am kindly asking you is, how do you perceive the kind of cooperation that we had, for instance with Pfizer—BioNTech, when the subsidies played together? Is that the future that we can see in terms of objectives?'\n",
    "tokens1_37 = word_tokenize(raw1_37)\n",
    "for word in tokens1_37:\n",
    "    print(word, end=' ')"
   ]
  },
  {
   "cell_type": "code",
   "execution_count": 125,
   "metadata": {},
   "outputs": [
    {
     "name": "stdout",
     "output_type": "stream",
     "text": [
      "Margrethe Vestager , Executive Vice-President of the Commission . – Madam President , dear Members , I ’ m really encouraged by this debate – with the warm support , but also with the level of detail and specificity . I think , in answering some of the questions , you have actually given part of the answers yourself . One of the main questions , of course , is what actually is the Trade and Technology Council ? Because it can not be a place where we sort of prejudge what will be the opinions of this House . I think that must be absolutely clear . But that doesn ’ t mean that it can be without effect . Just as a side remark , I ’ d say that actually I ’ m quite happy that we can shake hands again because I think that shows that we have moved quite some lines , both in terms of the pandemic , but also in getting to a better relationship with colleagues in the US . I think what was said by Anna—Michelle Asimakopoulou was very precise as a description of what the TTC is . Because what we can do is we can exchange information , we can discuss things that we disagree on . We can align points of view and – I think very importantly – we can be specific . Let me take the question of semiconductors . Here what we have agreed is to collect information on both sides and then to establish a common analysis as to what are the reasons for the chip shortage that we are faced with right now . Obviously , it ’ s really , really difficult to do something about it on short—term notice , but we can make our future , mid— and long—term actions , be informed by the causes for the short—term shortage that we are faced with right now . I think that those important insights will make our work also for the European Chips Act and for a European Chips Strategy so much more solid . The ten working groups are indeed different because they have a different focus . Working groups , for instance , on standards , will not only be focusing on setting EU—US standards , but also on working together in multilateral standard—setting forums . I think it is not to be underestimated how important it is to have such early warning cooperation to know what is being brought up , what is at stake . Because we know that there are others who want to set their standards also in multilateral standards—setting organisations . So , we can coordinate our approaches to key global technology , to economic issues , to trade issues , and because of that we can deepen transatlantic trade and economic relations , basing this on politics where our shared values get a specific concrete expression in real life . I think the second example of that is the work that we are doing on artificial intelligence . The first result was to align our point of view that the critical thing here is to have a risk—based approach , so that when AI is used in cases where fundamental values might be at stake , this is where we should focus . In order to make sure that we have an innovation—prone approach to artificial intelligence so that we can use it as much as possible . So the first step is to align our way of thinking . The next step is to see if we can develop common tools in order actually to see if common principles are being upheld . Because there are thousands and thousands of producers , of coders , of programmers , of future users of AI , who would want to know how to make sure that they are on the right side of our principles . Here , of course , we have an obligation to develop tools that will allow that to happen . As you ’ ll also see , we have a working group as to how to enable small and medium—sized businesses to be part of the technological development . I think that is really important , because the work we do here is actually to open the market so that small and medium—sized businesses will have a much bigger chance based on their merits , on their talent , on their ideas , on their work ethics , actually to get to their customers – which also , of course , chips into the question of platforms that I mentioned in my introduction . One of the things that I will mention to bridge into how the European Parliament can be involved is the One—Stop Shop that Valdis Dombrovskis mentioned in his introduction , because outreach to stakeholders and the scrutiny of the European Parliament is part of what can make the TTC a success . So , we have this website where one can both interact with us , but where also papers become available as soon as possible so that it is open as to what it is that we ’ re doing . I think that is very important . I hope that you will promote this in your constituencies for the different stakeholders for whom it is important . The meeting that we had under the leadership of a Member of this Parliament , Bernd Lange , with a number of other committee chairs being invited , is part of the answer to the question as to how the European Parliament can be involved . I think this debate is also part of how the European Parliament can be involved . And , of course , for us to prepare the next meeting , we will discuss in the set—up chosen by Parliament as to how Parliament can be involved in the preparation of the next meeting . Last but not least , I share some of the remarks made about China . If you look at our AI proposal , you will see that there are use cases where we find it really crucial to say these uses are forbidden in the European Union , because this is not a place of surveillance . This is a place where data belongs to people and not to the state . But I think the key to success of the TTC is that we want something with the Americans and they want something with us , because we have something really strong in common : old democracies , strong fundamental values , the respect of the individual with the integrity of their dignity as the starting point . I think the only way to excel in this world is not to try to answer what other people are doing . It is to find our own way to excel , to over go , to show what we really are about . I think the TTC is part of that puzzle , next to all the many other things that this House is initiating , that this House is pushing the Commission to do , that this House enables Member States to do . Only in that respect can we deliver to European voters what has been promised . Thank you very much for the strong support and for this important debate . "
     ]
    }
   ],
   "source": [
    "raw1_38 = 'Margrethe Vestager, Executive Vice-President of the Commission. – Madam President, dear Members, I’m really encouraged by this debate – with the warm support, but also with the level of detail and specificity. I think, in answering some of the questions, you have actually given part of the answers yourself. One of the main questions, of course, is what actually is the Trade and Technology Council? Because it cannot be a place where we sort of prejudge what will be the opinions of this House. I think that must be absolutely clear. But that doesn’t mean that it can be without effect. Just as a side remark, I’d say that actually I’m quite happy that we can shake hands again because I think that shows that we have moved quite some lines, both in terms of the pandemic, but also in getting to a better relationship with colleagues in the US. I think what was said by Anna—Michelle Asimakopoulou was very precise as a description of what the TTC is. Because what we can do is we can exchange information, we can discuss things that we disagree on. We can align points of view and – I think very importantly – we can be specific. Let me take the question of semiconductors. Here what we have agreed is to collect information on both sides and then to establish a common analysis as to what are the reasons for the chip shortage that we are faced with right now. Obviously, it’s really, really difficult to do something about it on short—term notice, but we can make our future, mid— and long—term actions, be informed by the causes for the short—term shortage that we are faced with right now. I think that those important insights will make our work also for the European Chips Act and for a European Chips Strategy so much more solid. The ten working groups are indeed different because they have a different focus. Working groups, for instance, on standards, will not only be focusing on setting EU—US standards, but also on working together in multilateral standard—setting forums. I think it is not to be underestimated how important it is to have such early warning cooperation to know what is being brought up, what is at stake. Because we know that there are others who want to set their standards also in multilateral standards—setting organisations. So, we can coordinate our approaches to key global technology, to economic issues, to trade issues, and because of that we can deepen transatlantic trade and economic relations, basing this on politics where our shared values get a specific concrete expression in real life. I think the second example of that is the work that we are doing on artificial intelligence. The first result was to align our point of view that the critical thing here is to have a risk—based approach, so that when AI is used in cases where fundamental values might be at stake, this is where we should focus. In order to make sure that we have an innovation—prone approach to artificial intelligence so that we can use it as much as possible. So the first step is to align our way of thinking. The next step is to see if we can develop common tools in order actually to see if common principles are being upheld. Because there are thousands and thousands of producers, of coders, of programmers, of future users of AI, who would want to know how to make sure that they are on the right side of our principles. Here, of course, we have an obligation to develop tools that will allow that to happen. As you’ll also see, we have a working group as to how to enable small and medium—sized businesses to be part of the technological development. I think that is really important, because the work we do here is actually to open the market so that small and medium—sized businesses will have a much bigger chance based on their merits, on their talent, on their ideas, on their work ethics, actually to get to their customers – which also, of course, chips into the question of platforms that I mentioned in my introduction. One of the things that I will mention to bridge into how the European Parliament can be involved is the One—Stop Shop that Valdis Dombrovskis mentioned in his introduction, because outreach to stakeholders and the scrutiny of the European Parliament is part of what can make the TTC a success. So, we have this website where one can both interact with us, but where also papers become available as soon as possible so that it is open as to what it is that we’re doing. I think that is very important. I hope that you will promote this in your constituencies for the different stakeholders for whom it is important. The meeting that we had under the leadership of a Member of this Parliament, Bernd Lange, with a number of other committee chairs being invited, is part of the answer to the question as to how the European Parliament can be involved. I think this debate is also part of how the European Parliament can be involved. And, of course, for us to prepare the next meeting, we will discuss in the set—up chosen by Parliament as to how Parliament can be involved in the preparation of the next meeting. Last but not least, I share some of the remarks made about China. If you look at our AI proposal, you will see that there are use cases where we find it really crucial to say these uses are forbidden in the European Union, because this is not a place of surveillance. This is a place where data belongs to people and not to the state. But I think the key to success of the TTC is that we want something with the Americans and they want something with us, because we have something really strong in common: old democracies, strong fundamental values, the respect of the individual with the integrity of their dignity as the starting point. I think the only way to excel in this world is not to try to answer what other people are doing. It is to find our own way to excel, to over go, to show what we really are about. I think the TTC is part of that puzzle, next to all the many other things that this House is initiating, that this House is pushing the Commission to do, that this House enables Member States to do. Only in that respect can we deliver to European voters what has been promised. Thank you very much for the strong support and for this important debate.'\n",
    "tokens1_38 = word_tokenize(raw1_38)\n",
    "for word in tokens1_38:\n",
    "    print(word, end=' ')"
   ]
  },
  {
   "cell_type": "markdown",
   "metadata": {},
   "source": [
    "---\n",
    "### Combine all parts"
   ]
  },
  {
   "cell_type": "code",
   "execution_count": 126,
   "metadata": {},
   "outputs": [],
   "source": [
    "tokens = tokens1_1 + tokens1_2 + tokens1_3 + tokens1_4 + tokens1_5 + tokens1_6 + tokens1_7 + tokens1_8 + tokens1_9 + tokens1_10 + tokens1_11 + tokens1_12 + tokens1_13 + tokens1_14 + tokens1_15 + tokens1_16 + tokens1_17 + tokens1_18 + tokens1_19 + tokens1_20 + tokens1_21 + tokens1_22 + tokens1_23 + tokens1_24 + tokens1_25 + tokens1_26 + tokens1_27 + tokens1_28 + tokens1_29 + tokens1_30 + tokens1_31 + tokens1_32 + tokens1_33 + tokens1_34 + tokens1_35 + tokens1_36 + tokens1_37 + tokens1_38"
   ]
  },
  {
   "cell_type": "markdown",
   "metadata": {},
   "source": [
    "---\n",
    "### Normalize the words "
   ]
  },
  {
   "cell_type": "code",
   "execution_count": 127,
   "metadata": {},
   "outputs": [],
   "source": [
    "type(tokens)\n",
    "eutext21 = [w.lower() for w in tokens]"
   ]
  },
  {
   "cell_type": "markdown",
   "metadata": {},
   "source": [
    "---\n",
    "**Save Output**"
   ]
  },
  {
   "cell_type": "code",
   "execution_count": 128,
   "metadata": {},
   "outputs": [],
   "source": [
    "save_path = '/Users/charlottekaiser/Documents/uni/Hertie/master_thesis/00_data/20_intermediate_files'\n",
    "file_name = \"EU21_The outcome of the EU-US Trade and Technology Council.txt\"\n",
    "completeName = os.path.join(save_path, file_name)\n",
    "output = open(completeName, 'w')\n",
    "print(eutext21, file=output)"
   ]
  }
 ],
 "metadata": {
  "interpreter": {
   "hash": "a9869976cf380d12cb70e759e57434a8e82bae01a9f74e734956416b40621c64"
  },
  "kernelspec": {
   "display_name": "Python 3.9.7 ('base')",
   "language": "python",
   "name": "python3"
  },
  "language_info": {
   "codemirror_mode": {
    "name": "ipython",
    "version": 3
   },
   "file_extension": ".py",
   "mimetype": "text/x-python",
   "name": "python",
   "nbconvert_exporter": "python",
   "pygments_lexer": "ipython3",
   "version": "3.9.7"
  },
  "orig_nbformat": 4
 },
 "nbformat": 4,
 "nbformat_minor": 2
}
