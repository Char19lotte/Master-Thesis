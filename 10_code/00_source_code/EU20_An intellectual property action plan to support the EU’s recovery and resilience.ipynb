{
 "cells": [
  {
   "cell_type": "markdown",
   "metadata": {},
   "source": [
    "### *Data Collection - European Parliament*\n",
    "## Preparing Raw Data\n",
    "---\n",
    "**Sample Text 20**\n",
    "Title: An intellectual property action plan to support the EU’s recovery and resilience (short presentation) <br>\n",
    "Date: November 10, 2021 - Brussels"
   ]
  },
  {
   "cell_type": "code",
   "execution_count": 9,
   "metadata": {},
   "outputs": [],
   "source": [
    "# import necessary libraries\n",
    "import requests\n",
    "from requests_html import HTMLSession\n",
    "import urllib.request\n",
    "import time\n",
    "from bs4 import BeautifulSoup\n",
    "import urllib\n",
    "from urllib import request\n",
    "from __future__ import division\n",
    "import nltk, re, pprint\n",
    "from nltk import word_tokenize\n",
    "from nltk import FreqDist\n",
    "import os.path \n",
    "import pandas as pd"
   ]
  },
  {
   "cell_type": "markdown",
   "metadata": {},
   "source": [
    "---\n",
    "### Process: Trimming debate by inserting the original English or translated English files and tokenizing them.\n",
    "*Note*: Due to time constraint, the process has been optimized.\n",
    "\n",
    "- English parts of the debate will be added manually as a string and then tokenized. \n",
    "\n",
    "- A consistent method of translating and then adding will be applied to all EU Parliament debates:  Non-English parts are copied from the original web pages, inserted in the consistent choice of translation tool, Google Translate (https://translate.google.com/?hl=de&tab=TT), translated to English and pasted in as a string. \n",
    "\n",
    "- Afterwards, the same steps are applied as per usual (tokenizing, standardizing).\n",
    "\n",
    "Because of the changed process, the URL and step of webscraping are technically no longer necessary, will however be included for the purpose of completeness. "
   ]
  },
  {
   "cell_type": "code",
   "execution_count": 10,
   "metadata": {},
   "outputs": [],
   "source": [
    "# url = \"https://www.europarl.europa.eu/doceo/document/CRE-9-2021-11-10-ITM-018_EN.html\"\n",
    "# html = requests.get(url)\n",
    "# raw = BeautifulSoup(html.content, 'html.parser').get_text()"
   ]
  },
  {
   "cell_type": "code",
   "execution_count": 11,
   "metadata": {},
   "outputs": [
    {
     "name": "stdout",
     "output_type": "stream",
     "text": [
      "Marion Walsmann , rapporteur . – Dear Mr. President , dear colleagues ! Without innovative solutions , we can not meet our upcoming goals of the Green Deal , digitization and Industry 4.0 . It is therefore important to strengthen intellectual property rights such as patents , designs and trademarks and to improve their enforcement . This report identifies existing problem situations and proposes solutions . For example , the efficient use of intellectual property rights can help corona-stricken companies get back on their feet , making them more competitive and resilient . But only nine percent of SMEs use such rights across Europe . We must therefore support SMEs with advice , financial resources and user-friendly application procedures to better protect their intellectual property . The uniform patent will result in immense administrative simplification and also cost savings . This makes it possible to obtain patent protection in 25 member states with one application . Expensive , parallel lawsuits are prevented by the unified patent court and at the same time legal certainty is increased . For these reasons , all member states involved should make increased efforts to ratify the Convention on the Unified Patent Jurisdiction so that the unitary patent package can finally enter into force . Furthermore , the enforcement of intellectual property rights needs to be significantly improved . Counterfeit goods result in around 416,000 direct job losses every year . Counterfeit products can not only significantly affect the health of citizens - for example in the case of counterfeit masks . They are also often linked to organized crime . It is all the worse that brand and product piracy is rarely uncovered . Therefore , on the one hand , increased cooperation between the national enforcement authorities with EUIPO , Europol , Eurojust and OLAF is necessary so that detection and punishment are made more efficient . On the other hand , Member States should provide for effective and dissuasive penalties for the production and distribution of counterfeits . And last but not least , technologies such as artificial intelligence or blockchain can be used much more for detection . Another important point is the protection of geographical indications . The product with its regional characteristics , the production and the know-how are protected . There is already a European protection system for agricultural products , with which – if you will forgive me and allow the regional connection – the Thuringian bratwurst , for example , is protected . Not only do consumers benefit from this protection system , as they recognize authentic products across Europe , but it also contributes to the preservation of cultural and regional heritage . We call for the existing protection system for agricultural products to become more precise and effective , with less red tape . We also think that such a sui generis protection system should also be created for non-agricultural products , so that regional SMEs that produce handicrafts and the like should also benefit from such protection across Europe . Finally , a heartfelt thank you goes to all the shadow rapporteurs and their staff . We worked together on what I think is an excellent text . "
     ]
    }
   ],
   "source": [
    "raw1_1 = 'Marion Walsmann, rapporteur. – Dear Mr. President, dear colleagues! Without innovative solutions, we cannot meet our upcoming goals of the Green Deal, digitization and Industry 4.0. It is therefore important to strengthen intellectual property rights such as patents, designs and trademarks and to improve their enforcement. This report identifies existing problem situations and proposes solutions. For example, the efficient use of intellectual property rights can help corona-stricken companies get back on their feet, making them more competitive and resilient. But only nine percent of SMEs use such rights across Europe. We must therefore support SMEs with advice, financial resources and user-friendly application procedures to better protect their intellectual property. The uniform patent will result in immense administrative simplification and also cost savings. This makes it possible to obtain patent protection in 25 member states with one application. Expensive, parallel lawsuits are prevented by the unified patent court and at the same time legal certainty is increased. For these reasons, all member states involved should make increased efforts to ratify the Convention on the Unified Patent Jurisdiction so that the unitary patent package can finally enter into force. Furthermore, the enforcement of intellectual property rights needs to be significantly improved. Counterfeit goods result in around 416,000 direct job losses every year. Counterfeit products can not only significantly affect the health of citizens - for example in the case of counterfeit masks. They are also often linked to organized crime. It is all the worse that brand and product piracy is rarely uncovered. Therefore, on the one hand, increased cooperation between the national enforcement authorities with EUIPO, Europol, Eurojust and OLAF is necessary so that detection and punishment are made more efficient. On the other hand, Member States should provide for effective and dissuasive penalties for the production and distribution of counterfeits. And last but not least, technologies such as artificial intelligence or blockchain can be used much more for detection. Another important point is the protection of geographical indications. The product with its regional characteristics, the production and the know-how are protected. There is already a European protection system for agricultural products, with which – if you will forgive me and allow the regional connection – the Thuringian bratwurst, for example, is protected. Not only do consumers benefit from this protection system, as they recognize authentic products across Europe, but it also contributes to the preservation of cultural and regional heritage. We call for the existing protection system for agricultural products to become more precise and effective, with less red tape. We also think that such a sui generis protection system should also be created for non-agricultural products, so that regional SMEs that produce handicrafts and the like should also benefit from such protection across Europe. Finally, a heartfelt thank you goes to all the shadow rapporteurs and their staff. We worked together on what I think is an excellent text.'\n",
    "tokens1_1 = word_tokenize(raw1_1)\n",
    "for word in tokens1_1:\n",
    "    print(word, end=' ')"
   ]
  },
  {
   "cell_type": "code",
   "execution_count": 12,
   "metadata": {},
   "outputs": [
    {
     "name": "stdout",
     "output_type": "stream",
     "text": [
      "Billy Kelleher ( Renew ) . – Mr President , the protection of intellectual property rights is of fundamental importance in ensuring that there ’ s creativity and innovation and investment in the whole area of research . Of course , the collaboration across the European Union is significant and what we need to do is when you are protecting intellectual property rights that that percolates down into the universities , and that there is a strong collaboration between industry and universities in creativity , in innovation and research . So from that perspective , I do very much welcome this report . Of course , we also have to be equally conscious of the fact that when intellectual property rights are stolen , very often they percolate into the criminal aspects of the world . So you will see that quite significant intellectual property rights , in terms of theft , on a regular basis and that very often funds criminal organisations and criminal entities . Of course , as we become more dynamic and digital-centred , we have to also accept that intellectual property rights can be stolen very , very easily through cyber-crime as well . So from that perspective , we also have to ensure that we have strong resilience in our digital space to protect intellectual property rights in general and ensure that creativity , research and innovation isn ’ t stolen by cyber-crime . "
     ]
    }
   ],
   "source": [
    "raw1_2 = 'Billy Kelleher (Renew). – Mr President, the protection of intellectual property rights is of fundamental importance in ensuring that there’s creativity and innovation and investment in the whole area of research. Of course, the collaboration across the European Union is significant and what we need to do is when you are protecting intellectual property rights that that percolates down into the universities, and that there is a strong collaboration between industry and universities in creativity, in innovation and research. So from that perspective, I do very much welcome this report. Of course, we also have to be equally conscious of the fact that when intellectual property rights are stolen, very often they percolate into the criminal aspects of the world. So you will see that quite significant intellectual property rights, in terms of theft, on a regular basis and that very often funds criminal organisations and criminal entities. Of course, as we become more dynamic and digital-centred, we have to also accept that intellectual property rights can be stolen very, very easily through cyber-crime as well. So from that perspective, we also have to ensure that we have strong resilience in our digital space to protect intellectual property rights in general and ensure that creativity, research and innovation isn’t stolen by cyber-crime.'\n",
    "tokens1_2 = word_tokenize(raw1_2)\n",
    "for word in tokens1_2:\n",
    "    print(word, end=' ')"
   ]
  },
  {
   "cell_type": "code",
   "execution_count": 13,
   "metadata": {},
   "outputs": [
    {
     "name": "stdout",
     "output_type": "stream",
     "text": [
      "Angel Djambazki ( ECR ) . - Mr President , colleagues , it is rare for me to say two good words in a row about the initiatives of the Commission , colleagues , but that is the case . Miracles are happening tonight . Congratulations to the rapporteur . The report is timely , especially in view of the need to protect small and medium-sized enterprises at a time when every job matters . I am even more glad that this report lacked the usual ideologies and progressive utopias . So congratulations to the colleague and good luck . "
     ]
    }
   ],
   "source": [
    "raw1_3 = 'Angel Djambazki (ECR). - Mr President, colleagues, it is rare for me to say two good words in a row about the initiatives of the Commission, colleagues, but that is the case. Miracles are happening tonight. Congratulations to the rapporteur. The report is timely, especially in view of the need to protect small and medium-sized enterprises at a time when every job matters. I am even more glad that this report lacked the usual ideologies and progressive utopias. So congratulations to the colleague and good luck.'\n",
    "tokens1_3 = word_tokenize(raw1_3)\n",
    "for word in tokens1_3:\n",
    "    print(word, end=' ')"
   ]
  },
  {
   "cell_type": "code",
   "execution_count": 14,
   "metadata": {},
   "outputs": [
    {
     "name": "stdout",
     "output_type": "stream",
     "text": [
      "Mick Wallace ( The Left ) . – Mr President , I was struck by a piece in the report which says that Parliament “ stresses that a more equitable distribution of vaccines around the globe is essential for effectively combating the spread of COVID—19 and its mutations , and the need to support global access to COVID—19 vaccines ; notes that the lack of access to affordable vaccines is still a major challenge in developing countries ; supports , therefore , the Commission and the Member States in their efforts to push non—EU countries to lift current export bans and to step up the donation of vaccines ” . Listen , this is the pot calling the kettle black . Twenty—seven Member States of the EU had a meeting as to whether they would lift intellectual property rights to allow developing countries who couldn ’ t afford to pay Big Pharma for the vaccine , and 27 Member States voted against allowing them to get access to the intellectual rights and the knowledge to make them themselves . Unfortunately , the EU has made the vaccine a racist issue . It has made it an apartheid issue . Lately , only a couple of weeks ago , a Malaysian badminton team went to Ireland and some of the players were told they couldn ’ t play because they ’ d had the Sinovac vaccine , even though the WHO recognises it . What is going on ? "
     ]
    }
   ],
   "source": [
    "raw1_4 = 'Mick Wallace (The Left). – Mr President, I was struck by a piece in the report which says that Parliament “stresses that a more equitable distribution of vaccines around the globe is essential for effectively combating the spread of COVID—19 and its mutations, and the need to support global access to COVID—19 vaccines; notes that the lack of access to affordable vaccines is still a major challenge in developing countries; supports, therefore, the Commission and the Member States in their efforts to push non—EU countries to lift current export bans and to step up the donation of vaccines”. Listen, this is the pot calling the kettle black. Twenty—seven Member States of the EU had a meeting as to whether they would lift intellectual property rights to allow developing countries who couldn’t afford to pay Big Pharma for the vaccine, and 27 Member States voted against allowing them to get access to the intellectual rights and the knowledge to make them themselves. Unfortunately, the EU has made the vaccine a racist issue. It has made it an apartheid issue. Lately, only a couple of weeks ago, a Malaysian badminton team went to Ireland and some of the players were told they couldn’t play because they’d had the Sinovac vaccine, even though the WHO recognises it. What is going on?'\n",
    "tokens1_4 = word_tokenize(raw1_4)\n",
    "for word in tokens1_4:\n",
    "    print(word, end=' ')"
   ]
  },
  {
   "cell_type": "code",
   "execution_count": 15,
   "metadata": {},
   "outputs": [
    {
     "name": "stdout",
     "output_type": "stream",
     "text": [
      "Stanislav Polčák ( EPP ) . - Mr President , I would like to thank the rapporteur for this report , because it really supports the recovery and resilience of the European Union . I can hardly highlight all the positives of this report in one minute , but I would like to emphasize that , in the European Union , intellectual property is a historically proven value , it promotes progress , it promotes research , creativity and employment . Only two figures : SMEs that support intellectual property have 60 % higher earnings per employee and pay 20 % more wages . So we should really support intellectual property and intangible assets - I feel we support less than we could . I am therefore in favor of the creation of a European Intellectual Property Information Center , and we should focus in particular at this time on promoting innovation , especially in the post-Ecovide period . I think it is important to ratify the unitary patent package , because , of course , it provides more effective protection , dispute resolution and also establishes the Unified Patent Court . Let us protect intellectual property , because that is really our historically proven value . "
     ]
    }
   ],
   "source": [
    "raw1_5 = 'Stanislav Polčák (EPP). - Mr President, I would like to thank the rapporteur for this report, because it really supports the recovery and resilience of the European Union. I can hardly highlight all the positives of this report in one minute, but I would like to emphasize that, in the European Union, intellectual property is a historically proven value, it promotes progress, it promotes research, creativity and employment. Only two figures: SMEs that support intellectual property have 60% higher earnings per employee and pay 20% more wages. So we should really support intellectual property and intangible assets - I feel we support less than we could. I am therefore in favor of the creation of a European Intellectual Property Information Center, and we should focus in particular at this time on promoting innovation, especially in the post-Ecovide period. I think it is important to ratify the unitary patent package, because, of course, it provides more effective protection, dispute resolution and also establishes the Unified Patent Court. Let us protect intellectual property, because that is really our historically proven value.'\n",
    "tokens1_5 = word_tokenize(raw1_5)\n",
    "for word in tokens1_5:\n",
    "    print(word, end=' ')"
   ]
  },
  {
   "cell_type": "code",
   "execution_count": 16,
   "metadata": {},
   "outputs": [
    {
     "name": "stdout",
     "output_type": "stream",
     "text": [
      "Mariya Gabriel , Member of the Commission . – Mr President , first , we would like to thank Parliament for its report on an intellectual property action plan to support the EU ’ s recovery and resilience . The report has well captured the importance of a balanced protection of intellectual property rights for the EU ’ s recovery and resilience , but also for the European economy and in particular SMEs . As requested by Parliament , the Commission will step up efforts in the areas of SMEs and IP management . The Commission and the European Union Intellectual Property Office will launch a new European SME fund for the next three years – 2022 to 2024 – and this fund will offer more services such as the reimbursement of international trademark and national registration fees for patents . On patents , the Commission is pleased with the strong support expressed by Parliament on the rolling—out of the Unitary Patent system , which is expected to start operating by the end of next year , 2022 . The Commission will continue working on improving the European Patent framework . First , the Commission agrees that the equitable distribution of vaccines around the globe is essential for effectively combating the spread of COVID—19 and that , to address supply chains , the way forward is to facilitate cross—border trade and support technology transfer based on the voluntary licensing of IP rights . The Commission also stands ready to take the necessary steps to ensure access to critical IP in times of crisis , including by facilitating the use of compulsory licensing in the absence of voluntary licenses . Second , to correct the fragmentation issues identified by the European Parliament report as regards the need for a Unitary Supplementary Protection Certificate to be on par with the Unitary Patent , the Commission has announced a legislative initiative for next year . The Commission will analyse the most adequate institutional actors for the examination and granting . Finally , as regards standard essential patents , the Commission welcomes the European Parliament ’ s call for enhancing transparency and fostering good faith licensing negotiations . The reform announced by the Commission will aim at addressing those issues . In the field of geographical indications , we take note of the call for simplification and not to overburden farmers with administration . In this regard , we aim to make the scheme more attractive and accessible to farmers across the Union and boost protection of geographical indications on the internet , in particular . For non—agricultural products or so—called craft and industrial products , the Commission welcomes Parliament ’ s support for the establishment of efficient and transparent European sui generis protection of geographical indications at European level for craft and industrial products . Let me reassure you that the Commission is working at full steam on finalising a thorough impact assessment , which is a prerequisite to a proposal in this field . Next year , we will also present proposals on designs to modernise design protection systems , to support the digital and green transitions and become more accessible and efficient , in particular for SMEs . One of our main objectives is to complete the single market for repair spare parts to the benefit of competition and lower prices for consumers . Let me also reassure you that the fight against counterfeit goods , such as pharmaceutical and medical devices and toys , remains very high on the Commission ’ s agenda . Counterfeit goods not only have negative economic impacts on European economic growth , they also mislead consumers and puts their health and safety at risk and could be detrimental to the environment . Organised crime groups are also heavily involved in counterfeiting . The EU Toolbox against Counterfeiting is a unique opportunity for the EU to single out an overarching , effective policy for all relevant stakeholders and public authorities , to curb counterfeiting both online and offline . The toolbox will build on the existing and future horizontal European initiatives , in particular the Digital Services Act , the EU Strategy to tackle organised crime and the European customs action plan . It will also build on existing industry—led initiatives . The European Parliament report highlights new challenges for IP policymaking , such as the use of artificial intelligence technologies in supporting the creation of new designs , medicines or vaccines . While we believe that the overall system is fit for these challenges , the Commission will continue to assess the issues presented by Parliament . The Commission welcomes Parliament ’ s call for the transposition of the Directive on Copyright in the Digital Single Market without delay . The swift implementation of the new directive will benefit creative industries and citizens and ensure more fairness and clarity when copyrighted content is used online . So far , only a few Member States have communicated national transposition measures , and the Commission has opened infringement procedures . The Commission also welcomes Parliament ’ s support for the review of the Database Directive . The Commission has announced a review alongside the upcoming Data Act . Through a targeted review of the Database Directive , the Commission wants to make sure that the directive will not pose an obstacle to data use and sharing , primarily by clarifying the status of machine—generated data . So I ’ d like to thank you again for the thorough assessment of our IP action plan and the valuable and supportive comments you provided . We are looking forward to continuing our excellent collaboration with you on this ambitious agenda that we have set for the European IP framework . "
     ]
    }
   ],
   "source": [
    "raw1_6 = 'Mariya Gabriel, Member of the Commission. – Mr President, first, we would like to thank Parliament for its report on an intellectual property action plan to support the EU’s recovery and resilience. The report has well captured the importance of a balanced protection of intellectual property rights for the EU’s recovery and resilience, but also for the European economy and in particular SMEs. As requested by Parliament, the Commission will step up efforts in the areas of SMEs and IP management. The Commission and the European Union Intellectual Property Office will launch a new European SME fund for the next three years – 2022 to 2024 – and this fund will offer more services such as the reimbursement of international trademark and national registration fees for patents. On patents, the Commission is pleased with the strong support expressed by Parliament on the rolling—out of the Unitary Patent system, which is expected to start operating by the end of next year, 2022. The Commission will continue working on improving the European Patent framework. First, the Commission agrees that the equitable distribution of vaccines around the globe is essential for effectively combating the spread of COVID—19 and that, to address supply chains, the way forward is to facilitate cross—border trade and support technology transfer based on the voluntary licensing of IP rights. The Commission also stands ready to take the necessary steps to ensure access to critical IP in times of crisis, including by facilitating the use of compulsory licensing in the absence of voluntary licenses. Second, to correct the fragmentation issues identified by the European Parliament report as regards the need for a Unitary Supplementary Protection Certificate to be on par with the Unitary Patent, the Commission has announced a legislative initiative for next year. The Commission will analyse the most adequate institutional actors for the examination and granting. Finally, as regards standard essential patents, the Commission welcomes the European Parliament’s call for enhancing transparency and fostering good faith licensing negotiations. The reform announced by the Commission will aim at addressing those issues. In the field of geographical indications, we take note of the call for simplification and not to overburden farmers with administration. In this regard, we aim to make the scheme more attractive and accessible to farmers across the Union and boost protection of geographical indications on the internet, in particular. For non—agricultural products or so—called craft and industrial products, the Commission welcomes Parliament’s support for the establishment of efficient and transparent European sui generis protection of geographical indications at European level for craft and industrial products. Let me reassure you that the Commission is working at full steam on finalising a thorough impact assessment, which is a prerequisite to a proposal in this field. Next year, we will also present proposals on designs to modernise design protection systems, to support the digital and green transitions and become more accessible and efficient, in particular for SMEs. One of our main objectives is to complete the single market for repair spare parts to the benefit of competition and lower prices for consumers. Let me also reassure you that the fight against counterfeit goods, such as pharmaceutical and medical devices and toys, remains very high on the Commission’s agenda. Counterfeit goods not only have negative economic impacts on European economic growth, they also mislead consumers and puts their health and safety at risk and could be detrimental to the environment. Organised crime groups are also heavily involved in counterfeiting. The EU Toolbox against Counterfeiting is a unique opportunity for the EU to single out an overarching, effective policy for all relevant stakeholders and public authorities, to curb counterfeiting both online and offline. The toolbox will build on the existing and future horizontal European initiatives, in particular the Digital Services Act, the EU Strategy to tackle organised crime and the European customs action plan. It will also build on existing industry—led initiatives. The European Parliament report highlights new challenges for IP policymaking, such as the use of artificial intelligence technologies in supporting the creation of new designs, medicines or vaccines. While we believe that the overall system is fit for these challenges, the Commission will continue to assess the issues presented by Parliament. The Commission welcomes Parliament’s call for the transposition of the Directive on Copyright in the Digital Single Market without delay. The swift implementation of the new directive will benefit creative industries and citizens and ensure more fairness and clarity when copyrighted content is used online. So far, only a few Member States have communicated national transposition measures, and the Commission has opened infringement procedures. The Commission also welcomes Parliament’s support for the review of the Database Directive. The Commission has announced a review alongside the upcoming Data Act. Through a targeted review of the Database Directive, the Commission wants to make sure that the directive will not pose an obstacle to data use and sharing, primarily by clarifying the status of machine—generated data. So I’d like to thank you again for the thorough assessment of our IP action plan and the valuable and supportive comments you provided. We are looking forward to continuing our excellent collaboration with you on this ambitious agenda that we have set for the European IP framework.'\n",
    "tokens1_6 = word_tokenize(raw1_6)\n",
    "for word in tokens1_6:\n",
    "    print(word, end=' ')"
   ]
  },
  {
   "cell_type": "markdown",
   "metadata": {},
   "source": [
    "---\n",
    "### Combine all parts"
   ]
  },
  {
   "cell_type": "code",
   "execution_count": 17,
   "metadata": {},
   "outputs": [],
   "source": [
    "tokens = tokens1_1 + tokens1_2 + tokens1_3 + tokens1_4 + tokens1_5 + tokens1_6 "
   ]
  },
  {
   "cell_type": "markdown",
   "metadata": {},
   "source": [
    "---\n",
    "### Normalize the words "
   ]
  },
  {
   "cell_type": "code",
   "execution_count": 18,
   "metadata": {},
   "outputs": [],
   "source": [
    "type(tokens)\n",
    "eutext20 = [w.lower() for w in tokens]"
   ]
  },
  {
   "cell_type": "markdown",
   "metadata": {},
   "source": [
    "---\n",
    "**Save Output**"
   ]
  },
  {
   "cell_type": "code",
   "execution_count": 19,
   "metadata": {},
   "outputs": [],
   "source": [
    "save_path = '/Users/charlottekaiser/Documents/uni/Hertie/master_thesis/00_data/20_intermediate_files'\n",
    "file_name = \"EU20_An intellectual property action plan to support the EU’s recovery and resilience.txt\"\n",
    "completeName = os.path.join(save_path, file_name)\n",
    "output = open(completeName, 'w')\n",
    "print(eutext20, file=output)"
   ]
  }
 ],
 "metadata": {
  "interpreter": {
   "hash": "a9869976cf380d12cb70e759e57434a8e82bae01a9f74e734956416b40621c64"
  },
  "kernelspec": {
   "display_name": "Python 3.9.7 ('base')",
   "language": "python",
   "name": "python3"
  },
  "language_info": {
   "codemirror_mode": {
    "name": "ipython",
    "version": 3
   },
   "file_extension": ".py",
   "mimetype": "text/x-python",
   "name": "python",
   "nbconvert_exporter": "python",
   "pygments_lexer": "ipython3",
   "version": "3.9.7"
  },
  "orig_nbformat": 4
 },
 "nbformat": 4,
 "nbformat_minor": 2
}
