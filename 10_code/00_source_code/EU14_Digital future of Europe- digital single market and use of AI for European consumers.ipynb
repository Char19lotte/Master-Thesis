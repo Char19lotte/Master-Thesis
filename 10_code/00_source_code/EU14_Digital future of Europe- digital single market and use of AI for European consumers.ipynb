{
 "cells": [
  {
   "cell_type": "markdown",
   "metadata": {},
   "source": [
    "### *Data Collection - European Parliament*\n",
    "## Preparing Raw Data\n",
    "---\n",
    "**Sample Text 14**\n",
    "Title: Digital future of Europe: digital single market and use of AI for European consumers  <br>\n",
    "Date: May 19, 2021 - Brussels"
   ]
  },
  {
   "cell_type": "code",
   "execution_count": 159,
   "metadata": {},
   "outputs": [],
   "source": [
    "# import necessary libraries\n",
    "import requests\n",
    "from requests_html import HTMLSession\n",
    "import urllib.request\n",
    "import time\n",
    "from bs4 import BeautifulSoup\n",
    "import urllib\n",
    "from urllib import request\n",
    "from __future__ import division\n",
    "import nltk, re, pprint\n",
    "from nltk import word_tokenize\n",
    "from nltk import FreqDist\n",
    "import os.path \n",
    "import pandas as pd"
   ]
  },
  {
   "cell_type": "markdown",
   "metadata": {},
   "source": [
    "---\n",
    "### Process: Trimming debate by inserting the original English or translated English files and tokenizing them.\n",
    "*Note*: Due to time constraint, the process has been optimized.\n",
    "\n",
    "- English parts of the debate will be added manually as a string and then tokenized. \n",
    "\n",
    "- A consistent method of translating and then adding will be applied to all EU Parliament debates:  Non-English parts are copied from the original web pages, inserted in the consistent choice of translation tool, Google Translate (https://translate.google.com/?hl=de&tab=TT), translated to English and pasted in as a string. \n",
    "\n",
    "- Afterwards, the same steps are applied as per usual (tokenizing, standardizing).\n",
    "\n",
    "Because of the changed process, the URL and step of webscraping are technically no longer necessary, will however be included for the purpose of completeness. "
   ]
  },
  {
   "cell_type": "code",
   "execution_count": 160,
   "metadata": {},
   "outputs": [],
   "source": [
    "# url = \"https://www.europarl.europa.eu/doceo/document/CRE-9-2021-05-19-ITM-010_EN.html\"\n",
    "# html = requests.get(url)\n",
    "# raw = BeautifulSoup(html.content, 'html.parser').get_text()"
   ]
  },
  {
   "cell_type": "code",
   "execution_count": 161,
   "metadata": {},
   "outputs": [
    {
     "name": "stdout",
     "output_type": "stream",
     "text": [
      "Deirdre Clune , rapporteur . – Madam President , shaping the digital future , removing barriers to the functioning of the single market and improving the use of artificial intelligence for consumers – that ’ s what we ’ ve been working on for a number of months now and I want to thank my fellow shadows and their offices , and those committees who have contributed opinions to this report . We ’ ve had strong cooperation , resulting in a balanced report that clearly identifies areas we believe can and should be acted on to improve the functioning of our single market in the digital area . The last 12 months and more have demonstrated to us the value of digitalisation and how it can contribute to bringing people together , to connecting businesses to consumers and connecting business to business . But we can do more to make our single market work better for citizens and businesses , make European SMEs , micro-businesses and larger companies more competitive , and improve their potential to compete globally . As always , we need to remove unnecessary and unjustified barriers that occur at national level and emphasise the need for a strong European approach that gives certainty to enterprise . European companies should engage with an EU approach to regulation and not have to engage with 27 Member State approaches . This certainty will encourage entrepreneurs and others who want to expand and establish themselves in the European Union , as they will know that the EU is a place where they can do this . They know for sure what ’ s expected of them . There will be no barriers , no borders , just a market of 450 million citizens and the support of European regulation that provides legal clarity . European regulation that is trustworthy , fully compliant with fundamental rights , consumer protection rules , data protection rules and is non-discriminatory . These are the traits Europe has established for itself and as a leader worldwide , and the traits we also want to embed in our digital rules . Of course , this approach is always essential for our public services that support our citizens , regardless of where they reside . As we continue to deal with COVID and the fallout from the pandemic , as we face our ambition of implementing the EU Green Deal , and as we reorganise our healthcare services , digitalisation and emerging technologies such as AI can and will contribute to reaching these objectives . It is really encouraging to see that 25 % of the EU rescue fund is going to be earmarked for digital and we must not waiver from that . Funding for SMEs , innovation and tech entrepreneurs is vital if we are to facilitate the development of the EU tech space that we so badly need . If we look at our global competitors in the AI sector , like the United States or China , we can see that more private sector investment is encouraged there than it is here in the European Union . Yes , we have our InvestEU , our Horizon EU and other programmes , and these are enormously successful , but we must also introduce policies that leverage private sector investment in terms of venture capital or seed capital . We need that private sector investment to ensure that we don ’ t have scale-ups for sale here in Europe , and we don ’ t have start-ups that will scale up in third countries . We want EU successes . I really welcome the Commissioner ’ s recent proposals to support artificial intelligence through regulation , proposals designed to encourage its use and , importantly , to encourage consumer confidence . AI has enormous potential to address many of the challenges that we face today in the healthcare sector , agriculture and transport , and in developing our smart cities . The list is endless and it does go on , but AI is not without its drawbacks or its risks , such as lack of transparency or traceability , or lack of human oversight , bias decision-making , etc . These need to be addressed through regulation . We already have our data protection rules , privacy rules , non-discrimination rules , but we need to protect consumers as we do with product safety and liability . We need the same protection online as offline , but there are gaps and these need to be addressed . We need to inform consumers on the use of artificial intelligence , where it is being used and when they are engaging with it . Consumers have a right to be adequately informed in a timely and easily accessible manner where AI exists and the possible outcomes , how the system is established , is checked , how it can be contested and how it can be corrected . This is a very important position that we have reflected in our report today , because we believe that these criteria are essential if we want to encourage consumer confidence , and they will in turn feed into an ecosystem that allows AI products and technologies to develop . There are risks with artificial intelligence ; I don ’ t deny that . In some areas of operation , the risks will be higher than in others . And we want to see a risk-based regulatory approach that would regulate the highest risk and , as consequence , for lower risks we would have less regulation . There must be the possibility to also prohibit harmful or discriminatory practice . We don ’ t want to see a binary approach to risk evaluation that could become quickly obsolete , but rather a forward-looking approach that is not application-specific but that gives certainty to developers , certainty to investors and indeed confidence to consumers . So artificial intelligence and the future regulation that we are going to be dealing with in this House are important . It will send out a message that Europe can be a leader in this area , as we were with the General Data Protection Regulation . There are gaps . I think it ’ s another ideal opportunity to lead internally but also to lead on a global basis in terms of how we can deal with AI and boost confidence , both for consumers and for business . "
     ]
    }
   ],
   "source": [
    "raw1_1 = 'Deirdre Clune, rapporteur. – Madam President, shaping the digital future, removing barriers to the functioning of the single market and improving the use of artificial intelligence for consumers – that’s what we’ve been working on for a number of months now and I want to thank my fellow shadows and their offices, and those committees who have contributed opinions to this report. We’ve had strong cooperation, resulting in a balanced report that clearly identifies areas we believe can and should be acted on to improve the functioning of our single market in the digital area. The last 12 months and more have demonstrated to us the value of digitalisation and how it can contribute to bringing people together, to connecting businesses to consumers and connecting business to business. But we can do more to make our single market work better for citizens and businesses, make European SMEs, micro-businesses and larger companies more competitive, and improve their potential to compete globally. As always, we need to remove unnecessary and unjustified barriers that occur at national level and emphasise the need for a strong European approach that gives certainty to enterprise. European companies should engage with an EU approach to regulation and not have to engage with 27 Member State approaches. This certainty will encourage entrepreneurs and others who want to expand and establish themselves in the European Union, as they will know that the EU is a place where they can do this. They know for sure what’s expected of them. There will be no barriers, no borders, just a market of 450 million citizens and the support of European regulation that provides legal clarity. European regulation that is trustworthy, fully compliant with fundamental rights, consumer protection rules, data protection rules and is non-discriminatory. These are the traits Europe has established for itself and as a leader worldwide, and the traits we also want to embed in our digital rules. Of course, this approach is always essential for our public services that support our citizens, regardless of where they reside. As we continue to deal with COVID and the fallout from the pandemic, as we face our ambition of implementing the EU Green Deal, and as we reorganise our healthcare services, digitalisation and emerging technologies such as AI can and will contribute to reaching these objectives. It is really encouraging to see that 25% of the EU rescue fund is going to be earmarked for digital and we must not waiver from that. Funding for SMEs, innovation and tech entrepreneurs is vital if we are to facilitate the development of the EU tech space that we so badly need. If we look at our global competitors in the AI sector, like the United States or China, we can see that more private sector investment is encouraged there than it is here in the European Union. Yes, we have our InvestEU, our Horizon EU and other programmes, and these are enormously successful, but we must also introduce policies that leverage private sector investment in terms of venture capital or seed capital. We need that private sector investment to ensure that we don’t have scale-ups for sale here in Europe, and we don’t have start-ups that will scale up in third countries. We want EU successes. I really welcome the Commissioner’s recent proposals to support artificial intelligence through regulation, proposals designed to encourage its use and, importantly, to encourage consumer confidence. AI has enormous potential to address many of the challenges that we face today in the healthcare sector, agriculture and transport, and in developing our smart cities. The list is endless and it does go on, but AI is not without its drawbacks or its risks, such as lack of transparency or traceability, or lack of human oversight, bias decision-making, etc. These need to be addressed through regulation. We already have our data protection rules, privacy rules, non-discrimination rules, but we need to protect consumers as we do with product safety and liability. We need the same protection online as offline, but there are gaps and these need to be addressed. We need to inform consumers on the use of artificial intelligence, where it is being used and when they are engaging with it. Consumers have a right to be adequately informed in a timely and easily accessible manner where AI exists and the possible outcomes, how the system is established, is checked, how it can be contested and how it can be corrected. This is a very important position that we have reflected in our report today, because we believe that these criteria are essential if we want to encourage consumer confidence, and they will in turn feed into an ecosystem that allows AI products and technologies to develop. There are risks with artificial intelligence; I don’t deny that. In some areas of operation, the risks will be higher than in others. And we want to see a risk-based regulatory approach that would regulate the highest risk and, as consequence, for lower risks we would have less regulation. There must be the possibility to also prohibit harmful or discriminatory practice. We don’t want to see a binary approach to risk evaluation that could become quickly obsolete, but rather a forward-looking approach that is not application-specific but that gives certainty to developers, certainty to investors and indeed confidence to consumers. So artificial intelligence and the future regulation that we are going to be dealing with in this House are important. It will send out a message that Europe can be a leader in this area, as we were with the General Data Protection Regulation. There are gaps. I think it’s another ideal opportunity to lead internally but also to lead on a global basis in terms of how we can deal with AI and boost confidence, both for consumers and for business.'\n",
    "tokens1_1 = word_tokenize(raw1_1)\n",
    "for word in tokens1_1:\n",
    "    print(word, end=' ')"
   ]
  },
  {
   "cell_type": "code",
   "execution_count": 162,
   "metadata": {},
   "outputs": [
    {
     "name": "stdout",
     "output_type": "stream",
     "text": [
      "Nicola Beer , rapporteur of the opinion of the Committee on Industry , Research and Energy . – Madam President , Commissioner ! Our goal is a strong European sector in artificial intelligence . This requires legal certainty and development prospects at the same time . The solution is a risk-based control approach that focuses on high-risk applications . Let us define them now without harming European competitiveness . Let us inspire , not hinder ! We create user trust with transparency rules . Everyone should know when they are dealing with AI , for example on the phone . And we also invest : from Digital Europe and Horizon Europe , one billion euros a year in artificial intelligence , hopefully to trigger up to 20 billion euros in additional investment from private individuals and the member states . A further 134 billion euros will come from the RRF of the reconstruction fund for digitization - this will be a turning point in our quest for technology leadership . Now we have to develop the applications of tomorrow for this . This also requires playgrounds for experimenting , such as the sandbox environments . Legal certainty and trust , investments and innovation - this is how we are fit for the challenges of tomorrow and the day after tomorrow . Finally , thanks to all colleagues for the constructive cooperation . I think we got a good result . "
     ]
    }
   ],
   "source": [
    "raw1_2 = 'Nicola Beer, rapporteur of the opinion of the Committee on Industry, Research and Energy. – Madam President, Commissioner! Our goal is a strong European sector in artificial intelligence. This requires legal certainty and development prospects at the same time. The solution is a risk-based control approach that focuses on high-risk applications. Let us define them now without harming European competitiveness. Let us inspire, not hinder! We create user trust with transparency rules. Everyone should know when they are dealing with AI, for example on the phone. And we also invest: from Digital Europe and Horizon Europe, one billion euros a year in artificial intelligence, hopefully to trigger up to 20 billion euros in additional investment from private individuals and the member states. A further 134 billion euros will come from the RRF of the reconstruction fund for digitization - this will be a turning point in our quest for technology leadership. Now we have to develop the applications of tomorrow for this. This also requires playgrounds for experimenting, such as the sandbox environments. Legal certainty and trust, investments and innovation - this is how we are fit for the challenges of tomorrow and the day after tomorrow. Finally, thanks to all colleagues for the constructive cooperation. I think we got a good result.'\n",
    "tokens1_2 = word_tokenize(raw1_2)\n",
    "for word in tokens1_2:\n",
    "    print(word, end=' ')"
   ]
  },
  {
   "cell_type": "code",
   "execution_count": 163,
   "metadata": {},
   "outputs": [
    {
     "name": "stdout",
     "output_type": "stream",
     "text": [
      "Kosma Złotowski , rapporteur of the opinion of the Committee on Transport and Tourism . - Mrs . Marshal ! Commissioner ! Solutions based on advanced algorithms and using the possibilities of artificial intelligence will play a key role in the modernization of the European transport system . This applies not only to transport automation , but also to the creation of intelligent traffic management systems in cities and solutions improving the safety of vehicles and drivers . Without harnessing the potential of the digital revolution , it will be virtually impossible to meet the Vision Zero goals . One of the key barriers to the practical implementation of AI technologies in the transport sector is the lack of clear and consistent rules for determining the division of responsibility in the event of a breakdown or accident , as well as ensuring the appropriate level of cybersecurity for the vehicles and infrastructure communicating with each other . We must place particular emphasis on this issue in the work on the regulation on artificial intelligence . To create innovative products and services in the transport and tourism sectors , European companies need huge amounts of digital data . We should create a system of incentives for Member States to freely and free of charge make public data available , including data falling within the scope of the spatial information infrastructure , such as geodetic and cartographic data . Only in this way will our potential in the field of artificial intelligence bring real economic benefits . "
     ]
    }
   ],
   "source": [
    "raw1_3 = 'Kosma Złotowski, rapporteur of the opinion of the Committee on Transport and Tourism. - Mrs. Marshal! Commissioner! Solutions based on advanced algorithms and using the possibilities of artificial intelligence will play a key role in the modernization of the European transport system. This applies not only to transport automation, but also to the creation of intelligent traffic management systems in cities and solutions improving the safety of vehicles and drivers. Without harnessing the potential of the digital revolution, it will be virtually impossible to meet the Vision Zero goals. One of the key barriers to the practical implementation of AI technologies in the transport sector is the lack of clear and consistent rules for determining the division of responsibility in the event of a breakdown or accident, as well as ensuring the appropriate level of cybersecurity for the vehicles and infrastructure communicating with each other. We must place particular emphasis on this issue in the work on the regulation on artificial intelligence. To create innovative products and services in the transport and tourism sectors, European companies need huge amounts of digital data. We should create a system of incentives for Member States to freely and free of charge make public data available, including data falling within the scope of the spatial information infrastructure, such as geodetic and cartographic data. Only in this way will our potential in the field of artificial intelligence bring real economic benefits.'\n",
    "tokens1_3 = word_tokenize(raw1_3)\n",
    "for word in tokens1_3:\n",
    "    print(word, end=' ')"
   ]
  },
  {
   "cell_type": "code",
   "execution_count": 164,
   "metadata": {},
   "outputs": [
    {
     "name": "stdout",
     "output_type": "stream",
     "text": [
      "Sabine Verheyen , rapporteur of the opinion of the Committee on Culture and Education . – Madam President , Commissioner , ladies and gentlemen ! On behalf of the Culture Committee , I would like to thank the rapporteur for the good cooperation and for including many aspects of the Culture Committee in the report . Nonetheless , I very much regret that the report seems to have managed to include a reference to the elimination of geo-blocking , which is not only inappropriate , given that much of the report was supposed to relate to artificial intelligence , but is also obviously based on false assumptions . The review of the geo-blocking regulation as well as surveys in the Eurobarometer study see no increased need and no increased demand in this area for the audiovisual sector to remove geo-blocking . The evaluation of the Commission of the geo-blocking regulation also came to the conclusion that the available findings do not justify a change in the scope . The licensing and legitimate geo-blocking practices that underpin the digital single market in audiovisual in Europe remain fully justified . I would also like to remind colleagues that the portability regulation has already shown a good way of creating accessibility to audiovisual content . I therefore ask that the competence of the culture committee in the area of ​​ ... "
     ]
    }
   ],
   "source": [
    "raw1_4 = 'Sabine Verheyen, rapporteur of the opinion of the Committee on Culture and Education. – Madam President, Commissioner, ladies and gentlemen! On behalf of the Culture Committee, I would like to thank the rapporteur for the good cooperation and for including many aspects of the Culture Committee in the report. Nonetheless, I very much regret that the report seems to have managed to include a reference to the elimination of geo-blocking, which is not only inappropriate, given that much of the report was supposed to relate to artificial intelligence, but is also obviously based on false assumptions . The review of the geo-blocking regulation as well as surveys in the Eurobarometer study see no increased need and no increased demand in this area for the audiovisual sector to remove geo-blocking. The evaluation of the Commission of the geo-blocking regulation also came to the conclusion that the available findings do not justify a change in the scope. The licensing and legitimate geo-blocking practices that underpin the digital single market in audiovisual in Europe remain fully justified. I would also like to remind colleagues that the portability regulation has already shown a good way of creating accessibility to audiovisual content. I therefore ask that the competence of the culture committee in the area of ​​...'\n",
    "tokens1_4 = word_tokenize(raw1_4)\n",
    "for word in tokens1_4:\n",
    "    print(word, end=' ')"
   ]
  },
  {
   "cell_type": "code",
   "execution_count": 165,
   "metadata": {},
   "outputs": [
    {
     "name": "stdout",
     "output_type": "stream",
     "text": [
      "Marion Walsmann , rapporteur of the opinion of the Legal Affairs Committee . – Mr President , Commissioner , dear colleagues ! How can our digital future be designed in a way that enhances the use of AI for consumers ? I think : first of all , create legal clarity . For me , that means closing legal loopholes , but not reinventing the wheel . The existing sector-specific regulations must not be undermined in the process . Second : Producers and users need a reliable , clear and future-proof legal framework for AI that enables innovation and protects against discriminatory applications . Third , AI-based robotics and the Internet of Things must be secure . The authorization of products on the internal market should therefore depend on the risk associated with their use . And – last , but not least – SMEs and start-ups need support in using AI and in manufacturing products that contain AI . If we consider these four points , we will be able to take an important step towards AI made in Europe . "
     ]
    }
   ],
   "source": [
    "raw1_5 = 'Marion Walsmann, rapporteur of the opinion of the Legal Affairs Committee. – Mr President, Commissioner, dear colleagues! How can our digital future be designed in a way that enhances the use of AI for consumers? I think: first of all, create legal clarity. For me, that means closing legal loopholes, but not reinventing the wheel. The existing sector-specific regulations must not be undermined in the process. Second: Producers and users need a reliable, clear and future-proof legal framework for AI that enables innovation and protects against discriminatory applications. Third, AI-based robotics and the Internet of Things must be secure. The authorization of products on the internal market should therefore depend on the risk associated with their use. And – last, but not least – SMEs and start-ups need support in using AI and in manufacturing products that contain AI. If we consider these four points, we will be able to take an important step towards AI made in Europe.'\n",
    "tokens1_5 = word_tokenize(raw1_5)\n",
    "for word in tokens1_5:\n",
    "    print(word, end=' ')"
   ]
  },
  {
   "cell_type": "code",
   "execution_count": 166,
   "metadata": {},
   "outputs": [
    {
     "name": "stdout",
     "output_type": "stream",
     "text": [
      "Annalisa Tardino , rapporteur of the opinion of the Committee on Civil Liberties , Justice and Home Affairs . - ( IT ) Mr President , Commissioner , ladies and gentlemen , artificial intelligence is one of the most important challenges of our day . The development of European digital technologies and infrastructures must allow Europe to be competitive and reduce dependence on supply from non-EU countries , such as China . But at the same time we must equip ourselves with a reliable and safe legislative framework that regulates the impact that artificial intelligence can have on the rights of all , from the protection of personal data to security : protection of privacy , civil liability , the eventual recognition of personality legal to intelligent systems are just some of the issues . In the LIBE committee we have opted for an anthropocentric approach , making sure that reference is always made to a traditional subject , be it physical or legal . Artificial intelligence will be the protagonist of a future closer than we can imagine , in part already present in our society . It is up to us to decide what role to reserve for them . "
     ]
    }
   ],
   "source": [
    "raw1_6 = 'Annalisa Tardino, rapporteur of the opinion of the Committee on Civil Liberties, Justice and Home Affairs. - (IT) Mr President, Commissioner, ladies and gentlemen, artificial intelligence is one of the most important challenges of our day. The development of European digital technologies and infrastructures must allow Europe to be competitive and reduce dependence on supply from non-EU countries, such as China. But at the same time we must equip ourselves with a reliable and safe legislative framework that regulates the impact that artificial intelligence can have on the rights of all, from the protection of personal data to security: protection of privacy, civil liability, the eventual recognition of personality legal to intelligent systems are just some of the issues. In the LIBE committee we have opted for an anthropocentric approach, making sure that reference is always made to a traditional subject, be it physical or legal. Artificial intelligence will be the protagonist of a future closer than we can imagine, in part already present in our society. It is up to us to decide what role to reserve for them.'\n",
    "tokens1_6 = word_tokenize(raw1_6)\n",
    "for word in tokens1_6:\n",
    "    print(word, end=' ')"
   ]
  },
  {
   "cell_type": "code",
   "execution_count": 167,
   "metadata": {},
   "outputs": [
    {
     "name": "stdout",
     "output_type": "stream",
     "text": [
      "Margaritis Schinas , Vice-President of the Commission . – Mr President , Madam Rapporteur , ladies and gentlemen , I would like to thank you for this impressive work and for this timely report . The pandemic has only confirmed the importance of working on digital priority , including artificial intelligence ; but the pandemic is not over and I am confident that the momentum towards digitization will continue . Europe is in a unique position to develop and use advanced digital technologies , such as artificial intelligence , big data and the Internet of Things , in an ambitious , innovative and sustainable way . The widespread integration of these digital technologies is essential for European economic recovery . Our duty as European policymakers is to facilitate and help accelerate this process . This means removing barriers to the digital single market , empowering people to use a new generation of technologies to serve them , and addressing strategic weaknesses in our digital infrastructures . We in the Commission are determined to make the 2020s digital decade of Europe . We want to drive digital policies that empower people and businesses and lead to a sustainable and prosperous digital future . This European digital decade must be based on four cardinal points : talent , infrastructure , business transformation and the digitization of public administrations . For each of these four areas , we also propose clear quantified objectives to be achieved by 2030 , as well as concrete actions , including for SMEs and start-ups . After listening to stakeholders , the Commission will propose a digital policy program and a solemn declaration of digital principles . We are of course counting on the support and commitment of this house to achieve this ambition . To foster digital transformation , the Commission has already proposed important legislative initiatives which are on your table , such as the digital services legislation , the digital market legislation , a new European cybersecurity strategy and the act on data governance . She also noted that artificial intelligence can strategically and crucially contribute to these goals . The key to unlocking the benefits of all this data will be processing it through artificial intelligence systems that we will be proposing in a new legislative initiative , the Data Act , later this year . Here again , I observe that we essentially share the same concerns . Your report also underlines that we must find a way to protect European values , security , fundamental rights and our European way of life , but without jeopardizing our potential for innovation . You also stress on several occasions the importance of taking into account the needs of SMEs . The deployment of AI by large companies alone would effectively deprive us in Europe of most of the advantages linked to these technologies . The artificial intelligence package that we just proposed on April 21 reflects exactly this dual approach , which consists of developing the potential of artificial intelligence while tackling the problems that these technologies can cause . The proposed AI regulation is built so that all Europeans can have confidence in the anthropocentric management of artificial intelligence . Proportional and flexible rules are proposed to address the specific risks posed by AI systems in certain contexts . We also foresee a technologically neutral and evolutionary definition of the notion of AI , insofar as it can also cover techniques and approaches that are not yet known or developed . It also prohibits the use of particularly risky artificial intelligence technologies , such as social rating . For the rest , it is based on a risk-related approach , since it focuses on so-called high-risk AI use cases . Only these cases must meet a set of requirements specifically designed to enhance transparency and minimize risks to security and our fundamental rights . The coordinated plan published together with the proposal for a regulation describes the policies and investments needed at European level to establish European pre-eminence in this area . We aim to encourage investment from Member States and stimulate private investment , to gradually increase all public and private investment in the field of artificial intelligence to 20 billion euros per year from here at the end of the decade . The Commission will invest around EUR 1 billion per year in this area , in the context of the Horizon Europe and Digital Europe programs for the budgetary period of the next seven years , but without counting the investments on the cohesion policy program , which will be added to this sum . These investments aim to support research , innovation , testing , experimentation , skills development and the use of AI for SMEs . Europe has research excellence , a vibrant robotics community and successful industrial sectors . Together , they contribute to European excellence in artificial intelligence and help us to take advantage of the advantages these technologies offer us . Finally , we have included measures on artificial intelligence in the field of health and on the development of green intelligence . Ladies and gentlemen , allow me to conclude by emphasizing the constructive role that this Parliament has played , and will continue to play , in advancing this ambitious European programme . Allow me also to conclude by thanking you once again for your impressive work and by further emphasizing how convergent and compatible our approaches are . "
     ]
    }
   ],
   "source": [
    "raw1_7 = 'Margaritis Schinas, Vice-President of the Commission. – Mr President, Madam Rapporteur, ladies and gentlemen, I would like to thank you for this impressive work and for this timely report. The pandemic has only confirmed the importance of working on digital priority, including artificial intelligence; but the pandemic is not over and I am confident that the momentum towards digitization will continue. Europe is in a unique position to develop and use advanced digital technologies, such as artificial intelligence, big data and the Internet of Things, in an ambitious, innovative and sustainable way. The widespread integration of these digital technologies is essential for European economic recovery. Our duty as European policymakers is to facilitate and help accelerate this process. This means removing barriers to the digital single market, empowering people to use a new generation of technologies to serve them, and addressing strategic weaknesses in our digital infrastructures. We in the Commission are determined to make the 2020s digital decade of Europe. We want to drive digital policies that empower people and businesses and lead to a sustainable and prosperous digital future. This European digital decade must be based on four cardinal points: talent, infrastructure, business transformation and the digitization of public administrations. For each of these four areas, we also propose clear quantified objectives to be achieved by 2030, as well as concrete actions, including for SMEs and start-ups. After listening to stakeholders, the Commission will propose a digital policy program and a solemn declaration of digital principles. We are of course counting on the support and commitment of this house to achieve this ambition. To foster digital transformation, the Commission has already proposed important legislative initiatives which are on your table, such as the digital services legislation, the digital market legislation, a new European cybersecurity strategy and the act on data governance. She also noted that artificial intelligence can strategically and crucially contribute to these goals. The key to unlocking the benefits of all this data will be processing it through artificial intelligence systems that we will be proposing in a new legislative initiative, the Data Act, later this year. Here again, I observe that we essentially share the same concerns. Your report also underlines that we must find a way to protect European values, security, fundamental rights and our European way of life, but without jeopardizing our potential for innovation. You also stress on several occasions the importance of taking into account the needs of SMEs. The deployment of AI by large companies alone would effectively deprive us in Europe of most of the advantages linked to these technologies. The artificial intelligence package that we just proposed on April 21 reflects exactly this dual approach, which consists of developing the potential of artificial intelligence while tackling the problems that these technologies can cause. The proposed AI regulation is built so that all Europeans can have confidence in the anthropocentric management of artificial intelligence. Proportional and flexible rules are proposed to address the specific risks posed by AI systems in certain contexts. We also foresee a technologically neutral and evolutionary definition of the notion of AI, insofar as it can also cover techniques and approaches that are not yet known or developed. It also prohibits the use of particularly risky artificial intelligence technologies, such as social rating. For the rest, it is based on a risk-related approach, since it focuses on so-called high-risk AI use cases. Only these cases must meet a set of requirements specifically designed to enhance transparency and minimize risks to security and our fundamental rights. The coordinated plan published together with the proposal for a regulation describes the policies and investments needed at European level to establish European pre-eminence in this area. We aim to encourage investment from Member States and stimulate private investment, to gradually increase all public and private investment in the field of artificial intelligence to 20 billion euros per year from here at the end of the decade. The Commission will invest around EUR 1 billion per year in this area, in the context of the Horizon Europe and Digital Europe programs for the budgetary period of the next seven years, but without counting the investments on the cohesion policy program , which will be added to this sum. These investments aim to support research, innovation, testing, experimentation, skills development and the use of AI for SMEs. Europe has research excellence, a vibrant robotics community and successful industrial sectors. Together, they contribute to European excellence in artificial intelligence and help us to take advantage of the advantages these technologies offer us. Finally, we have included measures on artificial intelligence in the field of health and on the development of green intelligence. Ladies and gentlemen, allow me to conclude by emphasizing the constructive role that this Parliament has played, and will continue to play, in advancing this ambitious European programme. Allow me also to conclude by thanking you once again for your impressive work and by further emphasizing how convergent and compatible our approaches are.'\n",
    "tokens1_7 = word_tokenize(raw1_7)\n",
    "for word in tokens1_7:\n",
    "    print(word, end=' ')"
   ]
  },
  {
   "cell_type": "code",
   "execution_count": 168,
   "metadata": {},
   "outputs": [
    {
     "name": "stdout",
     "output_type": "stream",
     "text": [
      "Konstantinos Arvanitis , Rapporteur of the opinion of the Committee on Employment and Social Affairs . - Mr President , Commissioner , ladies and gentlemen , we are very pleased with the common finding that digital switchover is not only not the future , but the present . If we do not deal with it with the tools at our disposal , then we will have made a very big mistake . It is the natural consequence of the information economy and as such must be accompanied by rights . To improve working conditions and , above all , to ensure wage upgrades , that is , a fair distribution of the surplus value produced and the costs saved by human-machine synergies , which must remain , as my colleagues and especially LIBE have said , in which I am also a member , anthropocentric , that is , a tool in the hands of man and not the nightmarish opposite . The protection of personal data , trade union presence and action in the new digital environment , that is to say , democracy , platform taxation and the elimination of discrimination in the choice of employees , must be ensured . The algorithm is a goal in the service of man , not the nightmarish opposite . We can build the foundations for a new reality . These are great tools created by man , and man must taste them . "
     ]
    }
   ],
   "source": [
    "raw1_8 = 'Konstantinos Arvanitis, Rapporteur of the opinion of the Committee on Employment and Social Affairs. - Mr President, Commissioner, ladies and gentlemen, we are very pleased with the common finding that digital switchover is not only not the future, but the present. If we do not deal with it with the tools at our disposal, then we will have made a very big mistake. It is the natural consequence of the information economy and as such must be accompanied by rights. To improve working conditions and, above all, to ensure wage upgrades, that is, a fair distribution of the surplus value produced and the costs saved by human-machine synergies, which must remain, as my colleagues and especially LIBE have said, in which I am also a member, anthropocentric, that is, a tool in the hands of man and not the nightmarish opposite. The protection of personal data, trade union presence and action in the new digital environment, that is to say, democracy, platform taxation and the elimination of discrimination in the choice of employees, must be ensured. The algorithm is a goal in the service of man, not the nightmarish opposite. We can build the foundations for a new reality. These are great tools created by man, and man must taste them.'\n",
    "tokens1_8 = word_tokenize(raw1_8)\n",
    "for word in tokens1_8:\n",
    "    print(word, end=' ')"
   ]
  },
  {
   "cell_type": "code",
   "execution_count": 169,
   "metadata": {},
   "outputs": [
    {
     "name": "stdout",
     "output_type": "stream",
     "text": [
      "Ivo Hristov , rapporteur for the opinion of the Committee on Agriculture and Rural Development . - Mr President , the introduction of artificial intelligence has obvious benefits , but also a number of challenges . Artificial intelligence is not another technological revolution , but a Mephistophelean temptation - a hostage to which in the future will be our very existence as a species and human society . Therefore , economic prospects and competitive pressures are not a sufficient argument for the rapid introduction of new technologies . The huge gap between our human awareness , on the one hand , and the great technological opportunities we already have , on the other , carries risks . They require real thinking not only in the interests of business and consumers , not only from economists and scientists with a technical profile , but also from the humanities . Automation will lead to the loss of a large number of jobs . Digitization creates a new type of discrimination . The success of artificial intelligence presupposes adequate education , guaranteed protection of personal data and , above all , a set of strict ethical principles that protect man and the biosphere . "
     ]
    }
   ],
   "source": [
    "raw1_9 = 'Ivo Hristov, rapporteur for the opinion of the Committee on Agriculture and Rural Development. - Mr President, the introduction of artificial intelligence has obvious benefits, but also a number of challenges. Artificial intelligence is not another technological revolution, but a Mephistophelean temptation - a hostage to which in the future will be our very existence as a species and human society. Therefore, economic prospects and competitive pressures are not a sufficient argument for the rapid introduction of new technologies. The huge gap between our human awareness, on the one hand, and the great technological opportunities we already have, on the other, carries risks. They require real thinking not only in the interests of business and consumers, not only from economists and scientists with a technical profile, but also from the humanities. Automation will lead to the loss of a large number of jobs. Digitization creates a new type of discrimination. The success of artificial intelligence presupposes adequate education, guaranteed protection of personal data and, above all, a set of strict ethical principles that protect man and the biosphere.'\n",
    "tokens1_9 = word_tokenize(raw1_9)\n",
    "for word in tokens1_9:\n",
    "    print(word, end=' ')"
   ]
  },
  {
   "cell_type": "code",
   "execution_count": 170,
   "metadata": {},
   "outputs": [
    {
     "name": "stdout",
     "output_type": "stream",
     "text": [
      "Maria da Graça Carvalho , rapporteur of the opinion of the Committee on Womens Rights and Gender Equality . – Mr President , Commissioner , I would like first of all to congratulate the rapporteur on her excellent work . I believe in a digital Europe that promotes the internal market , with less bureaucracy , followed by high ethical standards centered on the human person . As rapporteur for the opinion of the FEMM Committee , I believe that the digital future of Europe depends on the involvement of everyone , without exception . This implies strengthening the role of women as users , researchers , engineers , technicians and entrepreneurs . Currently , there is still a gap in access to the digital economy , which not only harms women , but the whole of Europe . We are wasting human capital and this affects European competitiveness vis-à-vis other economies . It is important to adopt measures that go against this reality , both in terms of education , employment , financing and the awareness of society in general . "
     ]
    }
   ],
   "source": [
    "raw1_10 = 'Maria da Graça Carvalho, rapporteur of the opinion of the Committee on Womens Rights and Gender Equality. – Mr President, Commissioner, I would like first of all to congratulate the rapporteur on her excellent work. I believe in a digital Europe that promotes the internal market, with less bureaucracy, followed by high ethical standards centered on the human person. As rapporteur for the opinion of the FEMM Committee, I believe that the digital future of Europe depends on the involvement of everyone, without exception. This implies strengthening the role of women as users, researchers, engineers, technicians and entrepreneurs. Currently, there is still a gap in access to the digital economy, which not only harms women, but the whole of Europe. We are wasting human capital and this affects European competitiveness vis-à-vis other economies. It is important to adopt measures that go against this reality, both in terms of education, employment, financing and the awareness of society in general.'\n",
    "tokens1_10 = word_tokenize(raw1_10)\n",
    "for word in tokens1_10:\n",
    "    print(word, end=' ')"
   ]
  },
  {
   "cell_type": "code",
   "execution_count": 171,
   "metadata": {},
   "outputs": [
    {
     "name": "stdout",
     "output_type": "stream",
     "text": [
      "Andreas Schwab , on behalf of the PPE Group . – Mr President , Mr Vice-President , ladies and gentlemen ! The report by colleague Deirdre Clune is a successful contribution that shows how the European Parliament should make innovations possible through the new ideas of artificial intelligence . We want to promote artificial intelligence in the European Union , and this promotion , ladies and gentlemen , can only succeed if we create the right and uniform foundations for it in the internal market . More specifically , this means that we must remove unjustified national barriers . Especially new ideas from small and medium-sized companies must not be nipped in the bud with over-regulation . We must therefore be very careful with blanket bans on individual technologies , and this is where the report of the European Parliament differs very positively from the most recent proposals that we have seen from the European Commission . Secondly , ladies and gentlemen , we need to create legal clarity for consumers and for companies - we need regulation for the entire internal market . To ensure that robot-assisted operations or software that sorts CVs in a hiring process do not have a discriminatory effect , we need clear and uniform rules that stand up to European standards . And finally , it is also important to create trust in order to ensure that artificial intelligence and its applications work according to our European standards and bring added value in the interest of users and consumers . "
     ]
    }
   ],
   "source": [
    "raw1_11 = 'Andreas Schwab, on behalf of the PPE Group. – Mr President, Mr Vice-President, ladies and gentlemen! The report by colleague Deirdre Clune is a successful contribution that shows how the European Parliament should make innovations possible through the new ideas of artificial intelligence. We want to promote artificial intelligence in the European Union, and this promotion, ladies and gentlemen, can only succeed if we create the right and uniform foundations for it in the internal market. More specifically, this means that we must remove unjustified national barriers. Especially new ideas from small and medium-sized companies must not be nipped in the bud with over-regulation. We must therefore be very careful with blanket bans on individual technologies, and this is where the report of the European Parliament differs very positively from the most recent proposals that we have seen from the European Commission. Secondly, ladies and gentlemen, we need to create legal clarity for consumers and for companies - we need regulation for the entire internal market. To ensure that robot-assisted operations or software that sorts CVs in a hiring process do not have a discriminatory effect, we need clear and uniform rules that stand up to European standards. And finally, it is also important to create trust in order to ensure that artificial intelligence and its applications work according to our European standards and bring added value in the interest of users and consumers.'\n",
    "tokens1_11 = word_tokenize(raw1_11)\n",
    "for word in tokens1_11:\n",
    "    print(word, end=' ')"
   ]
  },
  {
   "cell_type": "code",
   "execution_count": 172,
   "metadata": {},
   "outputs": [
    {
     "name": "stdout",
     "output_type": "stream",
     "text": [
      "Evelyne Gebhardt , on behalf of the S & D Group . – Mr President , ladies and gentlemen , dear Commissioner ! Artificial intelligence conquers the whole of society . Artificial intelligence offers great potential for society , the internal market , the environment , can be found in all areas of our world . And that of course gives us a great deal of responsibility for what we want to shape here in this area . Algorithms control intelligent vacuum cleaners – we are of course very happy about that – but they also lure consumers to buy online , make decisions in a human resources department or about creditworthiness , yes , they can even be used for automatic mass surveillance . These are then the problems that we have to tackle in order to make it clear that we want to make a policy for the people , in the interest of the people , so that the positive potential of this artificial intelligence can be used , but at the same time also the damage that it causes can also actually be limited and prevented . This means that we have to support and protect consumers in particular , because if an algorithm is faulty : How is a normal person - including me - even supposed to recognize where the problems are coming from , what the reason for this problem is ? If the application of artificial intelligence can result in fundamental rights , human rights and civil liberties being infringed upon , then we must also resort to prohibition , because we can not accept such technologies being used . Yes , we should use all potential , but yes , we have to ensure that the protection of citizens comes first . "
     ]
    }
   ],
   "source": [
    "raw1_12 = 'Evelyne Gebhardt, on behalf of the S&D Group. – Mr President, ladies and gentlemen, dear Commissioner! Artificial intelligence conquers the whole of society. Artificial intelligence offers great potential for society, the internal market, the environment, can be found in all areas of our world. And that of course gives us a great deal of responsibility for what we want to shape here in this area. Algorithms control intelligent vacuum cleaners – we are of course very happy about that – but they also lure consumers to buy online, make decisions in a human resources department or about creditworthiness, yes, they can even be used for automatic mass surveillance. These are then the problems that we have to tackle in order to make it clear that we want to make a policy for the people, in the interest of the people, so that the positive potential of this artificial intelligence can be used, but at the same time also the damage that it causes can also actually be limited and prevented. This means that we have to support and protect consumers in particular, because if an algorithm is faulty: How is a normal person - including me - even supposed to recognize where the problems are coming from, what the reason for this problem is? If the application of artificial intelligence can result in fundamental rights, human rights and civil liberties being infringed upon, then we must also resort to prohibition, because we cannot accept such technologies being used. Yes, we should use all potential, but yes, we have to ensure that the protection of citizens comes first.'\n",
    "tokens1_12 = word_tokenize(raw1_12)\n",
    "for word in tokens1_12:\n",
    "    print(word, end=' ')"
   ]
  },
  {
   "cell_type": "code",
   "execution_count": 173,
   "metadata": {},
   "outputs": [
    {
     "name": "stdout",
     "output_type": "stream",
     "text": [
      "Svenja Hahn , on behalf of the Renew Group . - Mister President ! European economic future depends crucially on whether we lead the digital transformation or continue to lag behind . I want us to put the EU at the forefront of innovation in the world . Above all , this means that we enable the potential of artificial intelligence to develop . First of all , we need fair competition between small and big players , between small and medium-sized companies and tech giants . This works with clear rules that make it easy for the start-up to expand and the requirements are based on size . We must encourage innovation instead of holding it back . This is possible if we remain open to technology and pursue a risk-based approach . Because the application and the corresponding risk belong in the focus . With face recognition as an example , we can see that quite nicely , it is handy for unlocking our phone , but biometric surveillance in public spaces is a threat to our civil liberties . As Europeans , we must shape digitization with self-confidence , but not alone . Independence must not become synonymous with protectionism . On the contrary : If we want to set value-based standards for the digital space , we have to do it together with democratic partners . Therefore : Let us start an AI alliance with the USA ! I work for a digital space in Europe where the credo is a desire for progress , where start-ups can become global corporations and where there is fair competition . We now have it in our hands to create a political framework for artificial intelligence in which future wishes can become reality . Dear Commissioner , dear colleagues , that is our task . This report is a start - but it is only a start , the real work is only beginning . "
     ]
    }
   ],
   "source": [
    "raw1_13 = 'Svenja Hahn, on behalf of the Renew Group. - Mister President! European economic future depends crucially on whether we lead the digital transformation or continue to lag behind. I want us to put the EU at the forefront of innovation in the world. Above all, this means that we enable the potential of artificial intelligence to develop. First of all, we need fair competition between small and big players, between small and medium-sized companies and tech giants. This works with clear rules that make it easy for the start-up to expand and the requirements are based on size. We must encourage innovation instead of holding it back. This is possible if we remain open to technology and pursue a risk-based approach. Because the application and the corresponding risk belong in the focus. With face recognition as an example, we can see that quite nicely, it is handy for unlocking our phone, but biometric surveillance in public spaces is a threat to our civil liberties. As Europeans, we must shape digitization with self-confidence, but not alone. Independence must not become synonymous with protectionism. On the contrary: If we want to set value-based standards for the digital space, we have to do it together with democratic partners. Therefore: Let us start an AI alliance with the USA! I work for a digital space in Europe where the credo is a desire for progress, where start-ups can become global corporations and where there is fair competition. We now have it in our hands to create a political framework for artificial intelligence in which future wishes can become reality. Dear Commissioner, dear colleagues, that is our task. This report is a start - but it is only a start, the real work is only beginning.'\n",
    "tokens1_13 = word_tokenize(raw1_13)\n",
    "for word in tokens1_13:\n",
    "    print(word, end=' ')"
   ]
  },
  {
   "cell_type": "code",
   "execution_count": 174,
   "metadata": {},
   "outputs": [
    {
     "name": "stdout",
     "output_type": "stream",
     "text": [
      "Alessandra Basso , on behalf of the ID Group . - ( IT ) Mr President , Commissioner , ladies and gentlemen , we are happy with the final result . The text goes , with pragmatism , in the right direction in creating a digital market in the Union , also including a trace of regulation in the use of artificial intelligence . The realization of the digital internal market is one of the elements that will best guarantee the full realization of the potential of the new technologies . A functioning digital internal market is key to supporting SMEs in their digital transformation . The text is a good balance between the needs of SMEs , which will be able to expand their business thanks to the quantity and good quality of the data that will be available to them , and the rights of consumers . Fundamental is the obligation to inform the consumer that he is interacting with an artificial intelligence system ; this will promote consumer protection and lead them to feel more protected , increasing trust in these systems . Trust increases if you feel you are being protected . The attention dedicated to people with disabilities is also good , with the call to implement the European act on accessibility without delay to ensure effective inclusion . One fundamental point remains : guaranteeing effective human control over the decision-making process , because we can not be dominated by machines . Now it is a question of translating these guidelines into acts consistent with the principles of the inclusion of the disabled , the protection of personal data and privacy , without stopping progress but placing it at the service of the human being . "
     ]
    }
   ],
   "source": [
    "raw1_14 = 'Alessandra Basso, on behalf of the ID Group. - (IT) Mr President, Commissioner, ladies and gentlemen, we are happy with the final result. The text goes, with pragmatism, in the right direction in creating a digital market in the Union, also including a trace of regulation in the use of artificial intelligence. The realization of the digital internal market is one of the elements that will best guarantee the full realization of the potential of the new technologies. A functioning digital internal market is key to supporting SMEs in their digital transformation. The text is a good balance between the needs of SMEs, which will be able to expand their business thanks to the quantity and good quality of the data that will be available to them, and the rights of consumers. Fundamental is the obligation to inform the consumer that he is interacting with an artificial intelligence system; this will promote consumer protection and lead them to feel more protected, increasing trust in these systems. Trust increases if you feel you are being protected. The attention dedicated to people with disabilities is also good, with the call to implement the European act on accessibility without delay to ensure effective inclusion. One fundamental point remains: guaranteeing effective human control over the decision-making process, because we cannot be dominated by machines. Now it is a question of translating these guidelines into acts consistent with the principles of the inclusion of the disabled, the protection of personal data and privacy, without stopping progress but placing it at the service of the human being.'\n",
    "tokens1_14 = word_tokenize(raw1_14)\n",
    "for word in tokens1_14:\n",
    "    print(word, end=' ')"
   ]
  },
  {
   "cell_type": "code",
   "execution_count": 175,
   "metadata": {},
   "outputs": [
    {
     "name": "stdout",
     "output_type": "stream",
     "text": [
      "Marcel Kolaja , on behalf of the Verts/ALE Group . – Mr President , Europe ’ s digital future is in our hands . The Commission had a vision about a European society powered by digital solutions that are strongly rooted in our common values and that enrich the lives of all of us . A fair and competitive economy . A frictionless single market , where companies of all sizes and in any sector can compete on equal terms . The Parliament had the opportunity to suggest improvements to this digital strategy . However , we missed the opportunity to make a meaningful change . Innovation can ’ t be a goal in itself . Public services should remain truly public services without artificial competitive pressure . Data protection must not be undermined by trade agreements . SMEs and other economic actors should benefit from cooperative business models such as free and open source software . And finally , European citizens should be able to enjoy content in their language without being discriminated . For these reasons my group filed split votes and I ask you to consider them . "
     ]
    }
   ],
   "source": [
    "raw1_15 = 'Marcel Kolaja, on behalf of the Verts/ALE Group. – Mr President, Europe’s digital future is in our hands. The Commission had a vision about a European society powered by digital solutions that are strongly rooted in our common values and that enrich the lives of all of us. A fair and competitive economy. A frictionless single market, where companies of all sizes and in any sector can compete on equal terms. The Parliament had the opportunity to suggest improvements to this digital strategy. However, we missed the opportunity to make a meaningful change. Innovation can’t be a goal in itself. Public services should remain truly public services without artificial competitive pressure. Data protection must not be undermined by trade agreements. SMEs and other economic actors should benefit from cooperative business models such as free and open source software. And finally, European citizens should be able to enjoy content in their language without being discriminated. For these reasons my group filed split votes and I ask you to consider them.'\n",
    "tokens1_15 = word_tokenize(raw1_15)\n",
    "for word in tokens1_15:\n",
    "    print(word, end=' ')"
   ]
  },
  {
   "cell_type": "code",
   "execution_count": 176,
   "metadata": {},
   "outputs": [
    {
     "name": "stdout",
     "output_type": "stream",
     "text": [
      "Carlo Fidanza , on behalf of the ECR Group . - ( IT ) Mr President , ladies and gentlemen , the digitization of the European Union is a crucial step if we are to continue to thrive and remain economically competitive globally . In order to achieve this goal , we are called upon to ensure the presence of adequate technological infrastructures and telecommunications networks throughout Europe : investments in broadband and new fiber and 5G networks are a priority . Since the health emergency we have also understood that it is necessary to build a regulatory environment conducive to innovation and consumers , to avoid the fragmentation of the digital single market and to eliminate any unjustified obstacles that still exist in the promotion of artificial intelligence . It will also be crucial for the European Union to protect and strengthen its sovereignty and digital leadership in digital , international and strategic value chains , while promoting consumer protection , data protection , support for our businesses , improvement of cybersecurity , always taking into due consideration the primary role of man , which can not be removed . "
     ]
    }
   ],
   "source": [
    "raw1_16 = 'Carlo Fidanza, on behalf of the ECR Group. - (IT) Mr President, ladies and gentlemen, the digitization of the European Union is a crucial step if we are to continue to thrive and remain economically competitive globally. In order to achieve this goal, we are called upon to ensure the presence of adequate technological infrastructures and telecommunications networks throughout Europe: investments in broadband and new fiber and 5G networks are a priority. Since the health emergency we have also understood that it is necessary to build a regulatory environment conducive to innovation and consumers, to avoid the fragmentation of the digital single market and to eliminate any unjustified obstacles that still exist in the promotion of artificial intelligence. It will also be crucial for the European Union to protect and strengthen its sovereignty and digital leadership in digital, international and strategic value chains, while promoting consumer protection, data protection, support for our businesses, improvement of cybersecurity, always taking into due consideration the primary role of man, which cannot be removed.'\n",
    "tokens1_16 = word_tokenize(raw1_16)\n",
    "for word in tokens1_16:\n",
    "    print(word, end=' ')"
   ]
  },
  {
   "cell_type": "code",
   "execution_count": 177,
   "metadata": {},
   "outputs": [
    {
     "name": "stdout",
     "output_type": "stream",
     "text": [
      "Kateřina Konečná , on behalf of The Left . - Mr President , Commissioner , I believe that the European Union should become a world leader in credible and secure human-centered innovation and quality of life . However , credible AI will not exist in the EU unless restrictions are placed on the use of artificial intelligence and non-acceptance of the use of artificial intelligence , which inherently undermines fundamental rights . I believe that artificial intelligence systems need to be developed , implemented and used in the European Union only if they adhere to ethical principles relating to respect for human autonomy , damage prevention , justice and clarity . I thank the rapporteur for the inclusive way in which a large number of these principles have been incorporated into the report . However , I believe that we should have taken a stronger stand against mass biometric surveillance , which is why I proposed in the amendment to mention the initiative Reclaim Your Face by European citizens , which has the same goal . I hope he has your support . "
     ]
    }
   ],
   "source": [
    "raw1_17 = 'Kateřina Konečná, on behalf of The Left. - Mr President, Commissioner, I believe that the European Union should become a world leader in credible and secure human-centered innovation and quality of life. However, credible AI will not exist in the EU unless restrictions are placed on the use of artificial intelligence and non-acceptance of the use of artificial intelligence, which inherently undermines fundamental rights. I believe that artificial intelligence systems need to be developed, implemented and used in the European Union only if they adhere to ethical principles relating to respect for human autonomy, damage prevention, justice and clarity. I thank the rapporteur for the inclusive way in which a large number of these principles have been incorporated into the report. However, I believe that we should have taken a stronger stand against mass biometric surveillance, which is why I proposed in the amendment to mention the initiative Reclaim Your Face by European citizens, which has the same goal. I hope he has your support.'\n",
    "tokens1_17 = word_tokenize(raw1_17)\n",
    "for word in tokens1_17:\n",
    "    print(word, end=' ')"
   ]
  },
  {
   "cell_type": "code",
   "execution_count": 178,
   "metadata": {},
   "outputs": [
    {
     "name": "stdout",
     "output_type": "stream",
     "text": [
      "Lefteris Nikolaou-Alavanos ( NI ) . - Mr President , artificial intelligence and digital technologies are for European business groups a field of high profitability and at the same time fierce competition with their rivals , mainly from the United States and China . To support them , the European Union and governments are earning a fortune from the Recovery Fund and other employee money programs . Potection and rights of citizens , supposedly risk management , aim at more favorable profitability for European entrepreneurs . These are fake declarations . There are many examples : teleworking that takes intensification , digital platforms , automation and content control with or without algorithms mean mass dossier and systematic censorship of any radical voice that resists anti-popular politics . Ethical use of technology , the motivation of which is the profitability of capital , does not exist . On the contrary , it intensifies the exploitation of workers , while stifling labor and social rights and popular freedoms . The defense of popular rights , therefore , is inextricably linked to the struggle to overthrow the exploitative system , which focuses on the interests of groups . "
     ]
    }
   ],
   "source": [
    "raw1_18 = 'Lefteris Nikolaou-Alavanos (NI). - Mr President, artificial intelligence and digital technologies are for European business groups a field of high profitability and at the same time fierce competition with their rivals, mainly from the United States and China. To support them, the European Union and governments are earning a fortune from the Recovery Fund and other employee money programs. Potection and rights of citizens, supposedly risk management, aim at more favorable profitability for European entrepreneurs. These are fake declarations. There are many examples: teleworking that takes intensification, digital platforms, automation and content control with or without algorithms mean mass dossier and systematic censorship of any radical voice that resists anti-popular politics. Ethical use of technology, the motivation of which is the profitability of capital, does not exist. On the contrary, it intensifies the exploitation of workers, while stifling labor and social rights and popular freedoms. The defense of popular rights, therefore, is inextricably linked to the struggle to overthrow the exploitative system, which focuses on the interests of groups.'\n",
    "tokens1_18 = word_tokenize(raw1_18)\n",
    "for word in tokens1_18:\n",
    "    print(word, end=' ')"
   ]
  },
  {
   "cell_type": "code",
   "execution_count": 179,
   "metadata": {},
   "outputs": [
    {
     "name": "stdout",
     "output_type": "stream",
     "text": [
      "Pablo Arias Echeverria ( EPP ) . – Mr President , Mr Vice President Schinas , thank you very much for your presence in this important debate . First of all , I would like to congratulate the rapporteur , Mrs Clune , on this important report , which undoubtedly lays the groundwork for how we should deal with artificial intelligence and the technologies to come . Artificial intelligence is one of the technologies that will drive the development of our industry , of our SMEs , but it is not the only one . It is clear . This will give way to more developed technologies , such as quantum computing , with a potential for multiplied computing capacity . That is why it is important that the legislation we adopt now is prepared for the technologies to come and does not become obsolete in a few years . The arrival of technologies such as quantum computing will make it possible to address more complex problems , in a more agile way than current ones . In addition , it will reduce energy consumption , thus helping to meet the objectives set by the Green Deal . These technologies have great potential , but they also carry great risks , since they feed on data . That is why it is very important to ensure the protection and quality of these data , both personal and non-personal . There is a fine line between the use of personal and non-personal data once it enters the artificial intelligence system . That is why we have to be very rigorous and comply with clear transparency rules that establish red lines , if necessary . For example , we must avoid abusive or discriminatory practices towards consumers and companies caused by the biased use of data in the machine learning process . Otherwise , the consumer or SMEs will not trust these technologies and will hamper their development . As Vice President Vestager has said , in AI , trust is a must , not a luxury . "
     ]
    }
   ],
   "source": [
    "raw1_19 = 'Pablo Arias Echeverria (EPP). – Mr President, Mr Vice President Schinas, thank you very much for your presence in this important debate. First of all, I would like to congratulate the rapporteur, Mrs Clune, on this important report, which undoubtedly lays the groundwork for how we should deal with artificial intelligence and the technologies to come. Artificial intelligence is one of the technologies that will drive the development of our industry, of our SMEs, but it is not the only one. It is clear. This will give way to more developed technologies, such as quantum computing, with a potential for multiplied computing capacity. That is why it is important that the legislation we adopt now is prepared for the technologies to come and does not become obsolete in a few years. The arrival of technologies such as quantum computing will make it possible to address more complex problems, in a more agile way than current ones. In addition, it will reduce energy consumption, thus helping to meet the objectives set by the Green Deal. These technologies have great potential, but they also carry great risks, since they feed on data. That is why it is very important to ensure the protection and quality of these data, both personal and non-personal. There is a fine line between the use of personal and non-personal data once it enters the artificial intelligence system. That is why we have to be very rigorous and comply with clear transparency rules that establish red lines, if necessary. For example, we must avoid abusive or discriminatory practices towards consumers and companies caused by the biased use of data in the machine learning process. Otherwise, the consumer or SMEs will not trust these technologies and will hamper their development. As Vice President Vestager has said, in AI, trust is a must, not a luxury.'\n",
    "tokens1_19 = word_tokenize(raw1_19)\n",
    "for word in tokens1_19:\n",
    "    print(word, end=' ')"
   ]
  },
  {
   "cell_type": "code",
   "execution_count": 180,
   "metadata": {},
   "outputs": [
    {
     "name": "stdout",
     "output_type": "stream",
     "text": [
      "Christel Schaldemose ( S & D ) . - Sir . Chairman ! Artificial intelligence has enormous potential . It can make our everyday lives better if we make demands - and we do ! We demand that artificial intelligence always have man at the center , because we must be able to rely on technology . That is the core message of our report on artificial intelligence . Firstly , we ensure consumer protection . You need to know that when you ingest with a system based on artificial intelligence . Secondly , we ensure a good balance between innovation and common sense . There must be room for innovation without compromising safety . And thirdly , we call for the reversal of the burden of proof when new technology causes harm . All this should be taken into account by the Commission when revising the Product Liability Directive and the Product Safety Directive in general . Of course , what is illegal offline must also be illegal online , whether it is based on artificial intelligence or not . Of course ! "
     ]
    }
   ],
   "source": [
    "raw1_20 = 'Christel Schaldemose (S&D). - Sir. Chairman! Artificial intelligence has enormous potential. It can make our everyday lives better if we make demands - and we do! We demand that artificial intelligence always have man at the center, because we must be able to rely on technology. That is the core message of our report on artificial intelligence. Firstly, we ensure consumer protection. You need to know that when you ingest with a system based on artificial intelligence. Secondly, we ensure a good balance between innovation and common sense. There must be room for innovation without compromising safety. And thirdly, we call for the reversal of the burden of proof when new technology causes harm. All this should be taken into account by the Commission when revising the Product Liability Directive and the Product Safety Directive in general. Of course, what is illegal offline must also be illegal online, whether it is based on artificial intelligence or not. Of course!'\n",
    "tokens1_20 = word_tokenize(raw1_20)\n",
    "for word in tokens1_20:\n",
    "    print(word, end=' ')"
   ]
  },
  {
   "cell_type": "code",
   "execution_count": 181,
   "metadata": {},
   "outputs": [
    {
     "name": "stdout",
     "output_type": "stream",
     "text": [
      "Sandro Gozi ( Renew ) . – Mr President , artificial intelligence is now an integral part of our single market . It offers many possibilities , but also presents many risks . Two challenges face us . On the one hand , artificial intelligence must push us to overcome the weaknesses of our market : fragmentation , unjustified barriers , insufficient integration ; on the other hand , it must encourage us to develop a new industrial autonomy . A real market for non-personal data in Europe is possible , but above all necessary ; it is up to us to build it . We must establish norms and benchmarks , which will radiate all over the world . Above all , we must do so while respecting our fundamental values , ensuring a permanent human presence to control the algorithms . For new technologies and innovation to be adopted , they need investment and trust . To be trustworthy , they must above all comply with fundamental rights and reflect our European values . "
     ]
    }
   ],
   "source": [
    "raw1_21 = 'Sandro Gozi (Renew). – Mr President, artificial intelligence is now an integral part of our single market. It offers many possibilities, but also presents many risks. Two challenges face us. On the one hand, artificial intelligence must push us to overcome the weaknesses of our market: fragmentation, unjustified barriers, insufficient integration; on the other hand, it must encourage us to develop a new industrial autonomy. A real market for non-personal data in Europe is possible, but above all necessary; it is up to us to build it. We must establish norms and benchmarks, which will radiate all over the world. Above all, we must do so while respecting our fundamental values, ensuring a permanent human presence to control the algorithms. For new technologies and innovation to be adopted, they need investment and trust. To be trustworthy, they must above all comply with fundamental rights and reflect our European values.'\n",
    "tokens1_21 = word_tokenize(raw1_21)\n",
    "for word in tokens1_21:\n",
    "    print(word, end=' ')"
   ]
  },
  {
   "cell_type": "code",
   "execution_count": 182,
   "metadata": {},
   "outputs": [
    {
     "name": "stdout",
     "output_type": "stream",
     "text": [
      "Elena Lizzi ( ID ) . - ( IT ) Mr President , Commissioner , ladies and gentlemen , for the concrete achievement of an active data market , as indicated in the first part of the report , we must ensure a high level of control over them with clear and balanced rules . As shadow rapporteur in the ITRE committee on the data governance act , I explored the issue of data accessibility by micro , small and medium-sized enterprises , which find it difficult to have the same opportunities as large ones , a concept reiterated here earlier by the Commissioner . We need to make small businesses more competitive and prevent European start-ups , created perhaps thanks to the support of the framework programs for research and innovation , from turning to markets in third countries . Lack of high quality or non-use of data would make it impossible for micro and small businesses to expand and slow down the digital transition , with obvious damage across the entire supply chain in Europe . We reiterate prudence and progressiveness in the choices of application of artificial intelligences and to allow only the safest ones . "
     ]
    }
   ],
   "source": [
    "raw1_22 = 'Elena Lizzi (ID). - (IT) Mr President, Commissioner, ladies and gentlemen, for the concrete achievement of an active data market, as indicated in the first part of the report, we must ensure a high level of control over them with clear and balanced rules. As shadow rapporteur in the ITRE committee on the data governance act, I explored the issue of data accessibility by micro, small and medium-sized enterprises, which find it difficult to have the same opportunities as large ones, a concept reiterated here earlier by the Commissioner. We need to make small businesses more competitive and prevent European start-ups, created perhaps thanks to the support of the framework programs for research and innovation, from turning to markets in third countries. Lack of high quality or non-use of data would make it impossible for micro and small businesses to expand and slow down the digital transition, with obvious damage across the entire supply chain in Europe. We reiterate prudence and progressiveness in the choices of application of artificial intelligences and to allow only the safest ones.'\n",
    "tokens1_22 = word_tokenize(raw1_22)\n",
    "for word in tokens1_22:\n",
    "    print(word, end=' ')"
   ]
  },
  {
   "cell_type": "code",
   "execution_count": 183,
   "metadata": {},
   "outputs": [
    {
     "name": "stdout",
     "output_type": "stream",
     "text": [
      "Kim Van Sparrentak ( Verts/ALE ) . – Mr President , this report was supposed to address how we shape our digital future and improve the use of AI for consumers , but unfortunately it fails to truly address some of the core issues we see with the use of AI . Internet users are manipulated on a daily basis . Algorithms decide what we get to see online based on clicks , manipulation and micro—targeting . ‘ Likes ’ , notifications and ‘ nudges ’ manipulate users into certain behaviour like staying on a platform for longer , watching extreme content or buying items they don ’ t need . It can even lead to addiction . This report does not even mention the manipulation of consumers we witness online today , and even though the ample opinion clearly pointed out the health and safety dangers of being constantly monitored and tracked real—time at work , the report lacks any reference to surveillance of workers or exploitation by algorithmic management . It simply fails to protect the rights of workers . We can not ignore these crucial issues when we shape our digital future . And then , this report only contains weak texts on transparency and human oversight and vague texts on avoiding prohibited discrimination . We , as legislators , have the responsibility not just to avoid , but to ensure , that everyone is protected against discrimination by AI and that fundamental rights are protected at all times . Looking at previous parliamentary positions , this text is an unnecessary step back . We , as the European Parliament , need to step up our game , because empty promises will not actually protect European consumers , workers or citizens . Clear rules and rights will . "
     ]
    }
   ],
   "source": [
    "raw1_23 = 'Kim Van Sparrentak (Verts/ALE). – Mr President, this report was supposed to address how we shape our digital future and improve the use of AI for consumers, but unfortunately it fails to truly address some of the core issues we see with the use of AI. Internet users are manipulated on a daily basis. Algorithms decide what we get to see online based on clicks, manipulation and micro—targeting. ‘Likes’, notifications and ‘nudges’ manipulate users into certain behaviour like staying on a platform for longer, watching extreme content or buying items they don’t need. It can even lead to addiction. This report does not even mention the manipulation of consumers we witness online today, and even though the ample opinion clearly pointed out the health and safety dangers of being constantly monitored and tracked real—time at work, the report lacks any reference to surveillance of workers or exploitation by algorithmic management. It simply fails to protect the rights of workers. We cannot ignore these crucial issues when we shape our digital future. And then, this report only contains weak texts on transparency and human oversight and vague texts on avoiding prohibited discrimination. We, as legislators, have the responsibility not just to avoid, but to ensure, that everyone is protected against discrimination by AI and that fundamental rights are protected at all times. Looking at previous parliamentary positions, this text is an unnecessary step back. We, as the European Parliament, need to step up our game, because empty promises will not actually protect European consumers, workers or citizens. Clear rules and rights will.'\n",
    "tokens1_23 = word_tokenize(raw1_23)\n",
    "for word in tokens1_23:\n",
    "    print(word, end=' ')"
   ]
  },
  {
   "cell_type": "code",
   "execution_count": 184,
   "metadata": {},
   "outputs": [
    {
     "name": "stdout",
     "output_type": "stream",
     "text": [
      "Beata Mazurek ( ECR ) . - Mr Chairman ! From year to year , we observe a large increase in interest in trade and services in the common digital market . Artificial Intelligence is an essential technology that can benefit consumers and businesses , provided that their fundamental rights and values are respected . Clear regulations should ensure consumer protection , including others in addressing unfair trade practices . The use of artificial intelligence in the e-commerce market can help in monitoring products online , which should protect customers from buying unknown goods , mostly from third countries . In order to efficiently implement artificial intelligence , it is important to build trust in this system among consumers and entrepreneurs . It must be remembered that the supreme value over innovative solutions should always be a human being . "
     ]
    }
   ],
   "source": [
    "raw1_24 = 'Beata Mazurek (ECR). - Mr Chairman! From year to year, we observe a large increase in interest in trade and services in the common digital market. Artificial Intelligence is an essential technology that can benefit consumers and businesses, provided that their fundamental rights and values are respected. Clear regulations should ensure consumer protection, including others in addressing unfair trade practices. The use of artificial intelligence in the e-commerce market can help in monitoring products online, which should protect customers from buying unknown goods, mostly from third countries. In order to efficiently implement artificial intelligence, it is important to build trust in this system among consumers and entrepreneurs. It must be remembered that the supreme value over innovative solutions should always be a human being.'\n",
    "tokens1_24 = word_tokenize(raw1_24)\n",
    "for word in tokens1_24:\n",
    "    print(word, end=' ')"
   ]
  },
  {
   "cell_type": "code",
   "execution_count": 185,
   "metadata": {},
   "outputs": [
    {
     "name": "stdout",
     "output_type": "stream",
     "text": [
      "Anne-Sophie Pelletier ( The Left ) . – Mr President , digital technology is our daily companion . With or without consent , our personal data is the matrix of artificial intelligence . Under the great precept of the progress of medicine , our personal health data are absorbed . Under the great precept of progress , artificial intelligence is needed in personal assistance services . Under the great precept of progress , there should be cameras with facial recognition in the subways . Even if this text tends to move towards common sense , by placing the human being at the heart of the decision , this existential principle must not suffer from any exception or regulatory privilege . Let us ask ourselves these questions : does this headlong rush that imposes artificial intelligence serve humans or the managerial logics that enslave them ? Where the human being is the quintessence of a profession , will artificial intelligence be able to replace soft skills ? Finally , making our personal data the substance of artificial intelligence is to dematerialize us . Our emotions , our desires and our private lives will no longer belong to us . Lessons must be learned from the pandemic : even if digital enabled some to keep social connections , what did people do when exit restrictions were relaxed ? They met , because our singularity is that of being social beings above all . "
     ]
    }
   ],
   "source": [
    "raw1_25 = 'Anne-Sophie Pelletier (The Left). – Mr President, digital technology is our daily companion. With or without consent, our personal data is the matrix of artificial intelligence. Under the great precept of the progress of medicine, our personal health data are absorbed. Under the great precept of progress, artificial intelligence is needed in personal assistance services. Under the great precept of progress, there should be cameras with facial recognition in the subways. Even if this text tends to move towards common sense, by placing the human being at the heart of the decision, this existential principle must not suffer from any exception or regulatory privilege. Let us ask ourselves these questions: does this headlong rush that imposes artificial intelligence serve humans or the managerial logics that enslave them? Where the human being is the quintessence of a profession, will artificial intelligence be able to replace soft skills? Finally, making our personal data the substance of artificial intelligence is to dematerialize us. Our emotions, our desires and our private lives will no longer belong to us. Lessons must be learned from the pandemic: even if digital enabled some to keep social connections, what did people do when exit restrictions were relaxed? They met, because our singularity is that of being social beings above all.'\n",
    "tokens1_25 = word_tokenize(raw1_25)\n",
    "for word in tokens1_25:\n",
    "    print(word, end=' ')"
   ]
  },
  {
   "cell_type": "code",
   "execution_count": 186,
   "metadata": {},
   "outputs": [
    {
     "name": "stdout",
     "output_type": "stream",
     "text": [
      "Edina Tóth ( NI ) . - President ! Over the past year , the role of applications based on artificial intelligence has increased . I welcome the EP report that has been tabled , but I would like to point out that Europe is at a serious competitive disadvantage vis-à-vis China and the United States . The Union can only take the lead if it promotes innovation and invests in small and medium-sized enterprises with adequate financial resources . I also consider it important that new technologies contribute to the achievement of climate goals and the digital transformation . In addition , our citizens must not be forgotten either . The goal of technology must be to serve people , so in the field of artificial intelligence , it ’ s not just lucky to have the trust , it ’ s downright essential . And it is up to us MEPs to ensure that for our citizens . "
     ]
    }
   ],
   "source": [
    "raw1_26 = 'Edina Tóth (NI). - President! Over the past year, the role of applications based on artificial intelligence has increased. I welcome the EP report that has been tabled, but I would like to point out that Europe is at a serious competitive disadvantage vis-à-vis China and the United States. The Union can only take the lead if it promotes innovation and invests in small and medium-sized enterprises with adequate financial resources. I also consider it important that new technologies contribute to the achievement of climate goals and the digital transformation. In addition, our citizens must not be forgotten either. The goal of technology must be to serve people, so in the field of artificial intelligence, it’s not just lucky to have the trust, it’s downright essential. And it is up to us MEPs to ensure that for our citizens.'\n",
    "tokens1_26 = word_tokenize(raw1_26)\n",
    "for word in tokens1_26:\n",
    "    print(word, end=' ')"
   ]
  },
  {
   "cell_type": "code",
   "execution_count": 187,
   "metadata": {},
   "outputs": [
    {
     "name": "stdout",
     "output_type": "stream",
     "text": [
      "Ivan Štefanec ( EPP ) . - Mr President , our single European market is one of our greatest assets , as it contributes to millions of jobs and economic growth , but the pandemic has also shown us that we need to reform it to make it more resilient . We need to complete it , especially in the area of ​​services , and we need to build a common digital market , because it was the pandemic that showed the importance of digitalisation . It permeates every area of ​​our lives . In Europe , we need to create the conditions to maintain a healthy business environment while protecting consumers from new threats . Support for the development of innovation and research , also through the Recovery Fund or the Horizon program , will certainly play a key role in future success . Innovative small and medium-sized enterprises must have sufficient access to free capital and we must not burden them with additional bureaucracy . We need to strengthen the protection of intellectual property and patents against unfair practices . On the other hand , we need to keep in mind rights and consumer protection . It is consumer protection that is our next important privilege , and in this regard I also welcome the new program for consumers from the European Commission . It is consumers who must be the driving force behind the transformation to a digital sustainable environment . The use of artificial intelligence also has great potential in consumer protection , for example in the still current topic of dual product quality . Any such use must be human-centered and life-enhancing . I would also like to thank my colleague , Deirdre Clune , for very good news . "
     ]
    }
   ],
   "source": [
    "raw1_27 = 'Ivan Štefanec (EPP). - Mr President, our single European market is one of our greatest assets, as it contributes to millions of jobs and economic growth, but the pandemic has also shown us that we need to reform it to make it more resilient. We need to complete it, especially in the area of ​​services, and we need to build a common digital market, because it was the pandemic that showed the importance of digitalisation. It permeates every area of ​​our lives. In Europe, we need to create the conditions to maintain a healthy business environment while protecting consumers from new threats. Support for the development of innovation and research, also through the Recovery Fund or the Horizon program, will certainly play a key role in future success. Innovative small and medium-sized enterprises must have sufficient access to free capital and we must not burden them with additional bureaucracy. We need to strengthen the protection of intellectual property and patents against unfair practices. On the other hand, we need to keep in mind rights and consumer protection. It is consumer protection that is our next important privilege, and in this regard I also welcome the new program for consumers from the European Commission. It is consumers who must be the driving force behind the transformation to a digital sustainable environment. The use of artificial intelligence also has great potential in consumer protection, for example in the still current topic of dual product quality. Any such use must be human-centered and life-enhancing. I would also like to thank my colleague, Deirdre Clune, for very good news.'\n",
    "tokens1_27 = word_tokenize(raw1_27)\n",
    "for word in tokens1_27:\n",
    "    print(word, end=' ')"
   ]
  },
  {
   "cell_type": "code",
   "execution_count": 188,
   "metadata": {},
   "outputs": [
    {
     "name": "stdout",
     "output_type": "stream",
     "text": [
      "Josianne Cutajar ( S & D ) . - Mr President , we are on the brink of a new digital age . It is up to all actors involved , from citizens and businesses to legislators , to ensure that the values ​​and principles of the European Union are not only upheld but also strengthened in the new Digital Single Market . . Consumer protection , data privacy , non-discrimination and the transparent use of technology are non-negotiable . We and we apply artificial intelligence in various sectors we have to do it in a way that keeps man at the center . In the transport sector we are witnessing a technological revolution , led by IA , which could benefit society , leading to lower emissions , cost-efficient operations and safer roads . More importantly , technology can help us for an inclusive mobility market , including for people with disabilities . I close by calling for strong programs that help our SMEs enjoy and reap the benefits of change . "
     ]
    }
   ],
   "source": [
    "raw1_28 = 'Josianne Cutajar (S&D). - Mr President, we are on the brink of a new digital age. It is up to all actors involved, from citizens and businesses to legislators, to ensure that the values ​​and principles of the European Union are not only upheld but also strengthened in the new Digital Single Market. . Consumer protection, data privacy, non-discrimination and the transparent use of technology are non-negotiable. We and we apply artificial intelligence in various sectors we have to do it in a way that keeps man at the center. In the transport sector we are witnessing a technological revolution, led by IA, which could benefit society, leading to lower emissions, cost-efficient operations and safer roads. More importantly, technology can help us for an inclusive mobility market, including for people with disabilities. I close by calling for strong programs that help our SMEs enjoy and reap the benefits of change.'\n",
    "tokens1_28 = word_tokenize(raw1_28)\n",
    "for word in tokens1_28:\n",
    "    print(word, end=' ')"
   ]
  },
  {
   "cell_type": "code",
   "execution_count": 189,
   "metadata": {},
   "outputs": [
    {
     "name": "stdout",
     "output_type": "stream",
     "text": [
      "Dragoş Tudorache ( Renew ) . – Mr President , in this Parliament we called for legislation on AI anchored in European values able to strengthen our digital single market . We now have a proposal on the table , the first of its kind in the world , and I thank and congratulate the Commission for it . We now need to work to ensure its success , and our mission is this : we need to secure the rights of all citizens and ensure AI does not lead to biases and discrimination . AI should be a force for good . We need to remove regulatory burdens to support innovation in our companies , big and small . AI should be a tool for prosperity and global competitiveness . We need to educate our citizens and train our specialists on AI . AI is as much about today as it is about the future . We need to ensure that Member States will implement this AI regulation in a manner that strengthens the digital single market and doesn ’ t fragment it . AI should bring the Union closer together . And we need to work with the US and other democracies to ensure AI is developed according to democratic values worldwide . AI is a geopolitical subject and the EU is a geopolitical actor . We have a historic opportunity to show global leadership . Let ’ s use it wisely . "
     ]
    }
   ],
   "source": [
    "raw1_29 = 'Dragoş Tudorache (Renew). – Mr President, in this Parliament we called for legislation on AI anchored in European values able to strengthen our digital single market. We now have a proposal on the table, the first of its kind in the world, and I thank and congratulate the Commission for it. We now need to work to ensure its success, and our mission is this: we need to secure the rights of all citizens and ensure AI does not lead to biases and discrimination. AI should be a force for good. We need to remove regulatory burdens to support innovation in our companies, big and small. AI should be a tool for prosperity and global competitiveness. We need to educate our citizens and train our specialists on AI. AI is as much about today as it is about the future. We need to ensure that Member States will implement this AI regulation in a manner that strengthens the digital single market and doesn’t fragment it. AI should bring the Union closer together. And we need to work with the US and other democracies to ensure AI is developed according to democratic values worldwide. AI is a geopolitical subject and the EU is a geopolitical actor. We have a historic opportunity to show global leadership. Let’s use it wisely.'\n",
    "tokens1_29 = word_tokenize(raw1_29)\n",
    "for word in tokens1_29:\n",
    "    print(word, end=' ')"
   ]
  },
  {
   "cell_type": "code",
   "execution_count": 190,
   "metadata": {},
   "outputs": [
    {
     "name": "stdout",
     "output_type": "stream",
     "text": [
      "Alexandra Geese ( Verts/ALE ) . – Mr President , ladies and gentlemen ! At first glance , digital technologies appear clean , chic and immaterial . Very different from the more honest coal mines in my home country . But the first impression is deceptive , because the resource and energy consumption of digital technology is enormous and growing rapidly . We see a contradiction , especially with artificial intelligence : It will be part of the solution to saving the climate with technology for smart grids and resource-efficient manufacturing , but on the other hand , the energy consumption of machine learning is so high that we have to make clear decisions about which AI applications we want . A single training cycle for a language processing model generates as much CO2 as 125 flights from New York to San Francisco . In order to make informed decisions like this and make the Green Deal a success , we need a standard to measure the environmental impact of digital technologies . The EU Commission urgently needs to come up with a proposal to ensure that digital technologies do not turn into coal , but into the sun of the future . "
     ]
    }
   ],
   "source": [
    "raw1_30 = 'Alexandra Geese (Verts/ALE). – Mr President, ladies and gentlemen! At first glance, digital technologies appear clean, chic and immaterial. Very different from the more honest coal mines in my home country. But the first impression is deceptive, because the resource and energy consumption of digital technology is enormous and growing rapidly. We see a contradiction, especially with artificial intelligence: It will be part of the solution to saving the climate with technology for smart grids and resource-efficient manufacturing, but on the other hand, the energy consumption of machine learning is so high that we have to make clear decisions about which AI applications we want. A single training cycle for a language processing model generates as much CO2 as 125 flights from New York to San Francisco. In order to make informed decisions like this and make the Green Deal a success, we need a standard to measure the environmental impact of digital technologies. The EU Commission urgently needs to come up with a proposal to ensure that digital technologies do not turn into coal, but into the sun of the future.'\n",
    "tokens1_30 = word_tokenize(raw1_30)\n",
    "for word in tokens1_30:\n",
    "    print(word, end=' ')"
   ]
  },
  {
   "cell_type": "code",
   "execution_count": 191,
   "metadata": {},
   "outputs": [
    {
     "name": "stdout",
     "output_type": "stream",
     "text": [
      "Krzysztof Jurgiel ( ECR ) . - Mr Chairman ! The digital revolution is often compared to the industrial revolution when it comes to the civilization leap it has brought about . In agriculture , artificial intelligence is not yet widely used , and its potential could significantly affect the efficiency of the sector . By 2050 , the population is to exceed 9 billion : on the one hand , a huge population will have to be fed , and on the other hand , the actions of the Union resulting from environmental policies promote non-extensive , ecological agriculture with less production capacity . Therefore , it is necessary to implement innovative solutions in agriculture that will improve production practices and reduce the consumption of resources . In particular , it is necessary , in accordance with the resolution , to first ensure that adequate funds for the zonal transformation of small and medium-sized farms are ensured , reduce the risk of losing jobs in rural areas related to the use of new technologies and ensure that funds from the Horizon Europe program allocated to agriculture are fairly distributed between the countries of Western and Eastern Europe . "
     ]
    }
   ],
   "source": [
    "raw1_31 = 'Krzysztof Jurgiel (ECR). - Mr Chairman! The digital revolution is often compared to the industrial revolution when it comes to the civilization leap it has brought about. In agriculture, artificial intelligence is not yet widely used, and its potential could significantly affect the efficiency of the sector. By 2050, the population is to exceed 9 billion: on the one hand, a huge population will have to be fed, and on the other hand, the actions of the Union resulting from environmental policies promote non-extensive, ecological agriculture with less production capacity. Therefore, it is necessary to implement innovative solutions in agriculture that will improve production practices and reduce the consumption of resources. In particular, it is necessary, in accordance with the resolution, to first ensure that adequate funds for the zonal transformation of small and medium-sized farms are ensured, reduce the risk of losing jobs in rural areas related to the use of new technologies and ensure that funds from the Horizon Europe program allocated to agriculture are fairly distributed between the countries of Western and Eastern Europe.'\n",
    "tokens1_31 = word_tokenize(raw1_31)\n",
    "for word in tokens1_31:\n",
    "    print(word, end=' ')"
   ]
  },
  {
   "cell_type": "code",
   "execution_count": 192,
   "metadata": {},
   "outputs": [
    {
     "name": "stdout",
     "output_type": "stream",
     "text": [
      "Ádám Kósa ( NI ) . - President ! The digital transformation is also affecting the field of education , which is facing the most significant change to date since the introduction of compulsory education . It is estimated that 65 percent of today ’ s schoolchildren may end up working in a new job that doesn ’ t exist yet , and digital literacy will be vital for that . During the coronavirus epidemic , both teachers and students acquired new skills in education . While this has not been easy many times , I am confident that our children will be able to use this knowledge in the future , even while working . Thus , the so-called Covid generation may not be a loser but a winner in the long run . I believe , and I can prove with my own life , that challenges encourage creative solutions and thus ultimately benefit us . "
     ]
    }
   ],
   "source": [
    "raw1_32 = 'Ádám Kósa (NI). - President! The digital transformation is also affecting the field of education, which is facing the most significant change to date since the introduction of compulsory education. It is estimated that 65 percent of today’s schoolchildren may end up working in a new job that doesn’t exist yet, and digital literacy will be vital for that. During the coronavirus epidemic, both teachers and students acquired new skills in education. While this has not been easy many times, I am confident that our children will be able to use this knowledge in the future, even while working. Thus, the so-called Covid generation may not be a loser but a winner in the long run. I believe, and I can prove with my own life, that challenges encourage creative solutions and thus ultimately benefit us.'\n",
    "tokens1_32 = word_tokenize(raw1_32)\n",
    "for word in tokens1_32:\n",
    "    print(word, end=' ')"
   ]
  },
  {
   "cell_type": "code",
   "execution_count": 193,
   "metadata": {},
   "outputs": [
    {
     "name": "stdout",
     "output_type": "stream",
     "text": [
      "Antonius Manders ( PPE ) . – ( NL ) Mr President , Commissioner , I would like to thank my colleague Deirdre Clune for this great result . Artificial intelligence is extremely important for the future of Europe and of all Europeans and will bring countless opportunities . For example , we can give our aging society the emotion and identity to feel more European with the help of artificial intelligence . As a European Union , we now have the opportunity to set the standard worldwide and thereby protect European industry and implement our standards and values , if we set the bar high enough . It is therefore important that future legislation is even better packaged in regulations so as to achieve fully harmonized legislation from which Member States can not deviate in order to undermine the leverage of the internal market . The internal market is the most important weapon worldwide of Europe , and we must use it . We must not fall into the problems often used by Member States . We also need to ensure that start-ups and small and medium-sized enterprises have easy access to finance so that they can fully exploit the opportunities offered by artificial intelligence . In addition , we must ensure that we keep our data within Europe so that we do not become dependent on Google , Facebook and Alibaba . This is an important step into the future , which I hope my children and grandchildren will take advantage of . "
     ]
    }
   ],
   "source": [
    "raw1_33 = 'Antonius Manders (PPE). – (NL) Mr President, Commissioner, I would like to thank my colleague Deirdre Clune for this great result. Artificial intelligence is extremely important for the future of Europe and of all Europeans and will bring countless opportunities. For example, we can give our aging society the emotion and identity to feel more European with the help of artificial intelligence. As a European Union, we now have the opportunity to set the standard worldwide and thereby protect European industry and implement our standards and values, if we set the bar high enough. It is therefore important that future legislation is even better packaged in regulations so as to achieve fully harmonized legislation from which Member States cannot deviate in order to undermine the leverage of the internal market. The internal market is the most important weapon worldwide of Europe, and we must use it. We must not fall into the problems often used by Member States. We also need to ensure that start-ups and small and medium-sized enterprises have easy access to finance so that they can fully exploit the opportunities offered by artificial intelligence. In addition, we must ensure that we keep our data within Europe so that we do not become dependent on Google, Facebook and Alibaba. This is an important step into the future, which I hope my children and grandchildren will take advantage of.'\n",
    "tokens1_33 = word_tokenize(raw1_33)\n",
    "for word in tokens1_33:\n",
    "    print(word, end=' ')"
   ]
  },
  {
   "cell_type": "code",
   "execution_count": 194,
   "metadata": {},
   "outputs": [
    {
     "name": "stdout",
     "output_type": "stream",
     "text": [
      "Miapetra Kumpula-Natri ( S & D ) . – Mr President , three key principles should guide the EU ’ s digital transition : innovation , values and security . To foster innovation , we need fair rules and fair competition in open markets ; unjustified barriers to digital trade must be dismantled both within the EU and with respect to third countries . Reliable data governance is the key . Regulation is needed to guide the digital market based on our values . The digital proposal on AI includes banning authoritarian Big Brother AI practices and sets rules to protect citizens . It shows that the EU leads the world on digital regulation . In the Committee on International Trade opinion , we see that the EU has to work for global rules on the digital economy – with the OECD , WTO , United Nations and standardisation bodies – in order to set a common understanding and global standards for AI . Digital rules should support democratic principles , human rights and sustainable development . We also support the proposal to establish an EU-US trade and technology council . As digital technology becomes the new normal , security of course needs to be doubled , in both digital networks and the cybersecurity space . "
     ]
    }
   ],
   "source": [
    "raw1_34 = 'Miapetra Kumpula-Natri (S&D). – Mr President, three key principles should guide the EU’s digital transition: innovation, values and security. To foster innovation, we need fair rules and fair competition in open markets; unjustified barriers to digital trade must be dismantled both within the EU and with respect to third countries. Reliable data governance is the key. Regulation is needed to guide the digital market based on our values. The digital proposal on AI includes banning authoritarian Big Brother AI practices and sets rules to protect citizens. It shows that the EU leads the world on digital regulation. In the Committee on International Trade opinion, we see that the EU has to work for global rules on the digital economy – with the OECD, WTO, United Nations and standardisation bodies – in order to set a common understanding and global standards for AI. Digital rules should support democratic principles, human rights and sustainable development. We also support the proposal to establish an EU-US trade and technology council. As digital technology becomes the new normal, security of course needs to be doubled, in both digital networks and the cybersecurity space.'\n",
    "tokens1_34 = word_tokenize(raw1_34)\n",
    "for word in tokens1_34:\n",
    "    print(word, end=' ')"
   ]
  },
  {
   "cell_type": "code",
   "execution_count": 195,
   "metadata": {},
   "outputs": [
    {
     "name": "stdout",
     "output_type": "stream",
     "text": [
      "Vlad-Marius Botoş ( Renew ) . – Mr President , dear colleagues , Commissioner ! Digitization is more than just an abstract concept . It is a way to make our lives easier , a new way to communicate by ignoring physical distances . In the last year we have felt this to the fullest . Digitization offers us new tools to analyze all areas and create development models and scenarios that can be put into practice . We all know the immense benefits that digitization can bring to our society and economy . Precisely for this reason , it is important that the rules are clear and , in particular , that they are the rules of a genuine European single market . Another important point that we must take into account is that both digitization and artificial intelligence are human-centric , respect human rights and freedoms and consumer rights protection at European Union level . "
     ]
    }
   ],
   "source": [
    "raw1_35 = 'Vlad-Marius Botoş (Renew). – Mr President, dear colleagues, Commissioner! Digitization is more than just an abstract concept. It is a way to make our lives easier, a new way to communicate by ignoring physical distances. In the last year we have felt this to the fullest. Digitization offers us new tools to analyze all areas and create development models and scenarios that can be put into practice. We all know the immense benefits that digitization can bring to our society and economy. Precisely for this reason, it is important that the rules are clear and, in particular, that they are the rules of a genuine European single market. Another important point that we must take into account is that both digitization and artificial intelligence are human-centric, respect human rights and freedoms and consumer rights protection at European Union level.'\n",
    "tokens1_35 = word_tokenize(raw1_35)\n",
    "for word in tokens1_35:\n",
    "    print(word, end=' ')"
   ]
  },
  {
   "cell_type": "code",
   "execution_count": 196,
   "metadata": {},
   "outputs": [
    {
     "name": "stdout",
     "output_type": "stream",
     "text": [
      "Markéta Gregorová ( Verts/ALE ) . – Mr President , the European Union is trailing on cutting-edge AI developments . We are behind in semiconductor production and investment and we trail in the application of useful AI products behind our friends in the US , Japan and Korea , as well as we are behind our systemic rival , China . Most of the global companies that develop and employ modern artificial intelligence are not European . It is our common task and my generation ’ s duty to change that and to bring the European Union and its Member States to the forefront of the most important technological race of our time . To achieve this task , we must guard and protect the fundamental rights and freedoms of our citizens . My group has made amendments to this effect and I hope you can support them . "
     ]
    }
   ],
   "source": [
    "raw1_36 = 'Markéta Gregorová (Verts/ALE). – Mr President, the European Union is trailing on cutting-edge AI developments. We are behind in semiconductor production and investment and we trail in the application of useful AI products behind our friends in the US, Japan and Korea, as well as we are behind our systemic rival, China. Most of the global companies that develop and employ modern artificial intelligence are not European. It is our common task and my generation’s duty to change that and to bring the European Union and its Member States to the forefront of the most important technological race of our time. To achieve this task, we must guard and protect the fundamental rights and freedoms of our citizens. My group has made amendments to this effect and I hope you can support them.'\n",
    "tokens1_36 = word_tokenize(raw1_36)\n",
    "for word in tokens1_36:\n",
    "    print(word, end=' ')"
   ]
  },
  {
   "cell_type": "code",
   "execution_count": 197,
   "metadata": {},
   "outputs": [
    {
     "name": "stdout",
     "output_type": "stream",
     "text": [
      "Joanna Kopcińska ( ECR ) . - Mr Chairman ! We are witnessing a global competition for leadership in digital technologies . Therefore , it is necessary to take coordinated , horizontal actions that will dynamize the safe development of trustworthy , human-friendly artificial intelligence in Europe . Due to the economic scale of the challenge , which is the necessity to compete with non-EU economies , it is extremely important to properly arrange the regulatory and investment framework so that national institutions and enterprises can profitably work for the entire European ecosystem and national economies . I agree that the European Union should strengthen its position in ecosystems and along AI value chains , ranging from certain sectors of hardware production through software to services . For this reason , future regulations in this area should build a clear and easy-to-apply framework . One of the key tasks is to provide regulations that inspire the trust of citizens and encourage them to take advantage of the benefits offered by AI . "
     ]
    }
   ],
   "source": [
    "raw1_37 = 'Joanna Kopcińska (ECR). - Mr Chairman! We are witnessing a global competition for leadership in digital technologies. Therefore, it is necessary to take coordinated, horizontal actions that will dynamize the safe development of trustworthy, human-friendly artificial intelligence in Europe. Due to the economic scale of the challenge, which is the necessity to compete with non-EU economies, it is extremely important to properly arrange the regulatory and investment framework so that national institutions and enterprises can profitably work for the entire European ecosystem and national economies. I agree that the European Union should strengthen its position in ecosystems and along AI value chains, ranging from certain sectors of hardware production through software to services. For this reason, future regulations in this area should build a clear and easy-to-apply framework. One of the key tasks is to provide regulations that inspire the trust of citizens and encourage them to take advantage of the benefits offered by AI.'\n",
    "tokens1_37 = word_tokenize(raw1_37)\n",
    "for word in tokens1_37:\n",
    "    print(word, end=' ')"
   ]
  },
  {
   "cell_type": "code",
   "execution_count": 198,
   "metadata": {},
   "outputs": [
    {
     "name": "stdout",
     "output_type": "stream",
     "text": [
      "Tomislav Sokol ( PPE ) . - Honorable Chairman , Commissioner , colleagues , artificial intelligence is increasingly being used in the European way of life . 61 percent of Europeans view it positively . Still , 88 percent say it needs to be managed carefully . While we are discussing this important topic in Croatia , not far from Zagreb , the construction of one of the most advanced technological campuses is beginning , in which , among other things , the technology of autonomous vehicles based on artificial intelligence will be developed . Such examples show that the use of artificial intelligence represents the future of the European economy and that it will become a common , integral part of technologically advanced production in the coming decades . That is why I emphasize that comprehensive European rules on artificial intelligence are needed in order to encourage growth and development and remove obstacles to business , and on the other hand to maximally protect the interests of consumers , especially their security and privacy . Also , let me point out in particular the potential that artificial intelligence has in the field of healthcare . As many as half of our citizens believe that the health sector is the one in which artificial intelligence can realize its greatest potential . That this is indeed the case is evidenced by recent research showing that artificial intelligence algorithms identify breast cancer with approximately 90 percent accuracy in combination with the analysis of radiologists . In the circumstances in which we have made the fight against cancer our priority , I call on the European institutions to continue to strongly support the development of artificial intelligence , as it provides an early diagnosis of malignant diseases and thus gives patients hope for successful cure . "
     ]
    }
   ],
   "source": [
    "raw1_38 = 'Tomislav Sokol (PPE). - Honorable Chairman, Commissioner, colleagues, artificial intelligence is increasingly being used in the European way of life. 61 percent of Europeans view it positively. Still, 88 percent say it needs to be managed carefully. While we are discussing this important topic in Croatia, not far from Zagreb, the construction of one of the most advanced technological campuses is beginning, in which, among other things, the technology of autonomous vehicles based on artificial intelligence will be developed. Such examples show that the use of artificial intelligence represents the future of the European economy and that it will become a common, integral part of technologically advanced production in the coming decades. That is why I emphasize that comprehensive European rules on artificial intelligence are needed in order to encourage growth and development and remove obstacles to business, and on the other hand to maximally protect the interests of consumers, especially their security and privacy. Also, let me point out in particular the potential that artificial intelligence has in the field of healthcare. As many as half of our citizens believe that the health sector is the one in which artificial intelligence can realize its greatest potential. That this is indeed the case is evidenced by recent research showing that artificial intelligence algorithms identify breast cancer with approximately 90 percent accuracy in combination with the analysis of radiologists. In the circumstances in which we have made the fight against cancer our priority, I call on the European institutions to continue to strongly support the development of artificial intelligence, as it provides an early diagnosis of malignant diseases and thus gives patients hope for successful cure.'\n",
    "tokens1_38 = word_tokenize(raw1_38)\n",
    "for word in tokens1_38:\n",
    "    print(word, end=' ')"
   ]
  },
  {
   "cell_type": "code",
   "execution_count": 199,
   "metadata": {},
   "outputs": [
    {
     "name": "stdout",
     "output_type": "stream",
     "text": [
      "Brando Benifei ( S & D ) . - ( IT ) Mr President , ladies and gentlemen , the title of this debate says it : with the work we have been carrying out in recent months , we are shaping the model for the European approach to digital and artificial intelligence , ready for the challenges of the future . Model focused on the person , rights , consumer protection , especially the most vulnerable , but without forgetting the support for innovation and small and medium-sized enterprises , which today are seeing a glimmer of light , after the pandemic , and need to both legislative and resource support . We need to give legal certainty and a level playing field for everyone , making it clear that what is illegal offline must also be illegal online , and ensuring fair conditions for taxation in the digital economy . We appreciate that the Commission has taken into account many of the requests by the Parliament in the proposal on artificial intelligence , including the prohibition of some uses and the tight regulation of others . We are now ready to improve some aspects of it , in particular with regard to fundamental rights and freedoms , to guarantee artificial intelligence systems at the service of the person , so that citizens and consumers can use it with confidence to improve their lives . "
     ]
    }
   ],
   "source": [
    "raw1_39 = 'Brando Benifei (S&D). - (IT) Mr President, ladies and gentlemen, the title of this debate says it: with the work we have been carrying out in recent months, we are shaping the model for the European approach to digital and artificial intelligence, ready for the challenges of the future. Model focused on the person, rights, consumer protection, especially the most vulnerable, but without forgetting the support for innovation and small and medium-sized enterprises, which today are seeing a glimmer of light, after the pandemic, and need to both legislative and resource support. We need to give legal certainty and a level playing field for everyone, making it clear that what is illegal offline must also be illegal online, and ensuring fair conditions for taxation in the digital economy. We appreciate that the Commission has taken into account many of the requests by the Parliament in the proposal on artificial intelligence, including the prohibition of some uses and the tight regulation of others. We are now ready to improve some aspects of it, in particular with regard to fundamental rights and freedoms, to guarantee artificial intelligence systems at the service of the person, so that citizens and consumers can use it with confidence to improve their lives.'\n",
    "tokens1_39 = word_tokenize(raw1_39)\n",
    "for word in tokens1_39:\n",
    "    print(word, end=' ')"
   ]
  },
  {
   "cell_type": "code",
   "execution_count": 200,
   "metadata": {},
   "outputs": [
    {
     "name": "stdout",
     "output_type": "stream",
     "text": [
      "Lisje Schreinemacher ( Renew ) . – ( NL ) Mr President , Europe must be a place where everyone can move freely and safely , both offline and online . I am mainly referring to the youngest users among us : one in three internet users is a child . However , in the digital world , are our children really that well protected ? Do we think it is normal for the data of children to be sold to the highest bidder , for advertisers to target children specifically , and for children to be served alcohol ads ? I do not think so . Children should be able to move freely and safely without carrying around with them for the rest of their lives a digital footprint that is many times larger than their own shoe size . Everything stands or falls with a good age verification . However , this also means that when drawing up new rules , whether it concerns rules on artificial intelligence in educational tools or the requirements we place on computer games , we must look specifically at what a child can and can not understand and oversee , and in doing so should not take current self-regulation , but scientific findings as a starting point . After all , learned young is done old . "
     ]
    }
   ],
   "source": [
    "raw1_40 = 'Lisje Schreinemacher (Renew). – (NL) Mr President, Europe must be a place where everyone can move freely and safely, both offline and online. I am mainly referring to the youngest users among us: one in three internet users is a child. However, in the digital world, are our children really that well protected? Do we think it is normal for the data of children to be sold to the highest bidder, for advertisers to target children specifically, and for children to be served alcohol ads? I do not think so. Children should be able to move freely and safely without carrying around with them for the rest of their lives a digital footprint that is many times larger than their own shoe size. Everything stands or falls with a good age verification. However, this also means that when drawing up new rules, whether it concerns rules on artificial intelligence in educational tools or the requirements we place on computer games, we must look specifically at what a child can and cannot understand and oversee, and in doing so should not take current self-regulation, but scientific findings as a starting point. After all, learned young is done old.'\n",
    "tokens1_40 = word_tokenize(raw1_40)\n",
    "for word in tokens1_40:\n",
    "    print(word, end=' ')"
   ]
  },
  {
   "cell_type": "code",
   "execution_count": 201,
   "metadata": {},
   "outputs": [
    {
     "name": "stdout",
     "output_type": "stream",
     "text": [
      "Salvatore De Meo ( PPE ) . - ( IT ) Mr President , ladies and gentlemen , I would like to thank the rapporteur for the excellent work she has done , because she has been able to combine the ambitious challenges of the future , which have now become present , the rights of consumers and the needs of small and medium-sized enterprises . Technological innovation has changed our life and the future holds still other innovations : certainly artificial intelligence constitutes the new frontier of this technological progress and , if regularized and used appropriately , it will guarantee the development of all areas of our economy , including agriculture in which there is a lot of interest on the part of young people and in difficult areas , where thanks to intelligence it will be possible to produce better and more easily . Indeed , in the Commission White Paper on agriculture and in the new Common Agricultural Policy , artificial intelligence is an essential component for the future of the sector . The new technologies developed by artificial intelligence will also be fundamental for achieving the objectives of the `` From producer to consumer '' and biodiversity strategies , in the interest of producers and consumers , promoting better production quality , optimizing natural resources , guaranteeing animal welfare , reducing pesticides and fertilizers , improving the traceability of products . The single market has always been a founding element of the Union and in this way , with artificial intelligence , it will be able to further strengthen the integration process and determine favorable conditions for development and the economy . "
     ]
    }
   ],
   "source": [
    "raw1_41 = 'Salvatore De Meo (PPE). - (IT) Mr President, ladies and gentlemen, I would like to thank the rapporteur for the excellent work she has done, because she has been able to combine the ambitious challenges of the future, which have now become present, the rights of consumers and the needs of small and medium-sized enterprises. Technological innovation has changed our life and the future holds still other innovations: certainly artificial intelligence constitutes the new frontier of this technological progress and, if regularized and used appropriately, it will guarantee the development of all areas of our economy, including agriculture in which there is a lot of interest on the part of young people and in difficult areas, where thanks to intelligence it will be possible to produce better and more easily. Indeed, in the Commission White Paper on agriculture and in the new Common Agricultural Policy, artificial intelligence is an essential component for the future of the sector. The new technologies developed by artificial intelligence will also be fundamental for achieving the objectives of the \"From producer to consumer\" and biodiversity strategies, in the interest of producers and consumers, promoting better production quality, optimizing natural resources, guaranteeing animal welfare, reducing pesticides and fertilizers, improving the traceability of products. The single market has always been a founding element of the Union and in this way, with artificial intelligence, it will be able to further strengthen the integration process and determine favorable conditions for development and the economy.'\n",
    "tokens1_41 = word_tokenize(raw1_41)\n",
    "for word in tokens1_41:\n",
    "    print(word, end=' ')"
   ]
  },
  {
   "cell_type": "code",
   "execution_count": 202,
   "metadata": {},
   "outputs": [
    {
     "name": "stdout",
     "output_type": "stream",
     "text": [
      "Alex Agius Saliba ( S & D ) . - Mr President , manipulation and discriminatory practices aimed at people because of their age , sex , religion , sexual orientation , skin color or simply because they have been identified , by algorithms , as insecure , as vulnerable , without values , should never be allowed . Big companies like Facebook and YouTube have been attacked on such practices more than once . To this end , a Europe-wide , risk-based and future-oriented ethical regulatory framework is needed in Europe and fully respects the fundamental rights of our citizens . And this framework should ensure three things : consumer protection , human control over the algorithmic decisions they make , appropriate and effective redress mechanisms , systems of non-discriminatory artificial intelligence algorithms , and transparent , and appropriate information to people when interacting with artificial intelligence . Protecting European people and companies from harmful online business models ... "
     ]
    }
   ],
   "source": [
    "raw1_42 = 'Alex Agius Saliba (S&D). - Mr President, manipulation and discriminatory practices aimed at people because of their age, sex, religion, sexual orientation, skin color or simply because they have been identified, by algorithms, as insecure, as vulnerable, without values, should never be allowed. Big companies like Facebook and YouTube have been attacked on such practices more than once. To this end, a Europe-wide, risk-based and future-oriented ethical regulatory framework is needed in Europe and fully respects the fundamental rights of our citizens. And this framework should ensure three things: consumer protection, human control over the algorithmic decisions they make, appropriate and effective redress mechanisms, systems of non-discriminatory artificial intelligence algorithms, and transparent, and appropriate information to people when interacting with artificial intelligence. Protecting European people and companies from harmful online business models ...'\n",
    "tokens1_42 = word_tokenize(raw1_42)\n",
    "for word in tokens1_42:\n",
    "    print(word, end=' ')"
   ]
  },
  {
   "cell_type": "code",
   "execution_count": 203,
   "metadata": {},
   "outputs": [
    {
     "name": "stdout",
     "output_type": "stream",
     "text": [
      "Claudia Gamon ( Renew ) . - Mister President ! The EU is finally getting started and putting new rules for the digital world on track , and we really have no time to lose . While technologies have evolved at a really rapid pace in recent years , digital services and marketplaces have to work with European rules dating back to 2000 . And if we think back a bit , back then the hot shit online was uboot.com – only the older millennials will know that – and Myspace did not even exist back then . We need regulations that enable innovation and also have answers to issues such as hate on the internet , geo-blocking or the supremacy of Google , Amazon , Facebook and Co. And for artificial intelligence , for example , we still lack any guidelines and regulations at all . Something must finally happen , and one thing is clear : the future is not waiting for us . "
     ]
    }
   ],
   "source": [
    "raw1_43 = 'Claudia Gamon (Renew). - Mister President! The EU is finally getting started and putting new rules for the digital world on track, and we really have no time to lose. While technologies have evolved at a really rapid pace in recent years, digital services and marketplaces have to work with European rules dating back to 2000. And if we think back a bit, back then the hot shit online was uboot.com – only the older millennials will know that – and Myspace did not even exist back then. We need regulations that enable innovation and also have answers to issues such as hate on the internet, geo-blocking or the supremacy of Google, Amazon, Facebook and Co. And for artificial intelligence, for example, we still lack any guidelines and regulations at all. Something must finally happen, and one thing is clear: the future is not waiting for us.'\n",
    "tokens1_43 = word_tokenize(raw1_43)\n",
    "for word in tokens1_43:\n",
    "    print(word, end=' ')"
   ]
  },
  {
   "cell_type": "code",
   "execution_count": 204,
   "metadata": {},
   "outputs": [
    {
     "name": "stdout",
     "output_type": "stream",
     "text": [
      "Henna Virkkunen ( PPE ) . - ( FI ) Mr President , there is now a great deal going on in the European Union with regard to digitalisation , and it must be so , as the corona pandemic has accelerated digitalisation around the world . If we want to be competitive in the future , Europe must now invest specifically in three themes : firstly , research and development . As the report states , Member States should invest at least 3 % of their GDP in research and development . This is far behind . In the recovery package , I expect the Member States to invest in this now . Secondly , we need a fast , modern digital infrastructure . We aim to have gigabit data and 5G across Europe . There is still a lot to do here . The third very important theme is the skills of people . As many as a third of the European workforce has digital skills shortages , and 70 % of companies see it as a barrier to investment in Europe . This is a very serious situation . So we need to invest heavily in these three themes now to stay competitive . And , of course , we must ensure in all legislation that it encourages new innovation and investment in Europe . Especially when it comes to artificial intelligence , it is important to ensure that the rules that are otherwise valid in society also apply in the digital world , whether it is artificial intelligence or e-commerce . Different systems should not be regulated differently . "
     ]
    }
   ],
   "source": [
    "raw1_44 = 'Henna Virkkunen (PPE). - (FI) Mr President, there is now a great deal going on in the European Union with regard to digitalisation, and it must be so, as the corona pandemic has accelerated digitalisation around the world. If we want to be competitive in the future, Europe must now invest specifically in three themes: firstly, research and development. As the report states, Member States should invest at least 3% of their GDP in research and development. This is far behind. In the recovery package, I expect the Member States to invest in this now. Secondly, we need a fast, modern digital infrastructure. We aim to have gigabit data and 5G across Europe. There is still a lot to do here. The third very important theme is the skills of people. As many as a third of the European workforce has digital skills shortages, and 70% of companies see it as a barrier to investment in Europe. This is a very serious situation. So we need to invest heavily in these three themes now to stay competitive. And, of course, we must ensure in all legislation that it encourages new innovation and investment in Europe. Especially when it comes to artificial intelligence, it is important to ensure that the rules that are otherwise valid in society also apply in the digital world, whether it is artificial intelligence or e-commerce. Different systems should not be regulated differently.'\n",
    "tokens1_44 = word_tokenize(raw1_44)\n",
    "for word in tokens1_44:\n",
    "    print(word, end=' ')"
   ]
  },
  {
   "cell_type": "code",
   "execution_count": 205,
   "metadata": {},
   "outputs": [
    {
     "name": "stdout",
     "output_type": "stream",
     "text": [
      "Tsvetelina Penkova ( S & D ) . – Mr President , AI has the potential of transforming how the consumer market in the economy operates . The benefits for both consumer and business are numerous , but the concerns still remain . In Europe , if we manage to succeed in developing and integrating AI into the workflow , we could increase productivity by 20 % and add EUR 2.7 trillion to the European economy by 2030 . However , transparency , data security and reliability still raise concerns . It is critical that the consumers have clear rights that protect them and enable them to benefit from the social digital transformation . The use of AI should not be focused only on reaching competitiveness but it should be focused also at improving European citizens ’ welfare , reaching the objectives of the Green Deal and sharing technological advancement and ensuring green economic development that grants the goals of social inclusion . Europe needs a consumer-driven AI that guarantees that no one is left behind . "
     ]
    }
   ],
   "source": [
    "raw1_45 = ' Tsvetelina Penkova (S&D). – Mr President, AI has the potential of transforming how the consumer market in the economy operates. The benefits for both consumer and business are numerous, but the concerns still remain. In Europe, if we manage to succeed in developing and integrating AI into the workflow, we could increase productivity by 20% and add EUR 2.7 trillion to the European economy by 2030. However, transparency, data security and reliability still raise concerns. It is critical that the consumers have clear rights that protect them and enable them to benefit from the social digital transformation. The use of AI should not be focused only on reaching competitiveness but it should be focused also at improving European citizens’ welfare, reaching the objectives of the Green Deal and sharing technological advancement and ensuring green economic development that grants the goals of social inclusion. Europe needs a consumer-driven AI that guarantees that no one is left behind.'\n",
    "tokens1_45 = word_tokenize(raw1_45)\n",
    "for word in tokens1_45:\n",
    "    print(word, end=' ')"
   ]
  },
  {
   "cell_type": "code",
   "execution_count": 206,
   "metadata": {},
   "outputs": [
    {
     "name": "stdout",
     "output_type": "stream",
     "text": [
      "Anna-Michelle Asimakopoulou ( PPE ) . - Mr President , Mr Vice-President , the European Parliament has long prioritized the development of the artificial intelligence sector , with a view to promoting innovation and competitiveness while at the same time establishing a climate of consumer confidence , ensuring the protection of human rights . but also of European values . The field of artificial intelligence will change the world as we know it and will affect the daily lives of all of us . With the recent European Commission proposal for a legal framework for artificial intelligence , Europe is taking the lead in setting digital standards , putting democratic values ​​at the heart of our regulatory framework . This proposal can promote cooperation with like-minded partners , such as the United States , on the basis of common democratic principles and values . The United States is the strongest ally of the European Union , and the transatlantic relationship in the field of artificial intelligence is crucial and crucial . Europe has taken an important step towards achieving its digital autonomy by proposing laws on artificial intelligence within a framework of democracy , as opposed to authoritarian models claiming the geopolitical reins of the digital age . Ladies and gentlemen , the digital future of Europe is based on two words and they are both Greek : autonomy and democracy , concepts that have been relevant and militant for time , for artificial intelligence , for Europe for the world . "
     ]
    }
   ],
   "source": [
    "raw1_46 = 'Anna-Michelle Asimakopoulou (PPE). - Mr President, Mr Vice-President, the European Parliament has long prioritized the development of the artificial intelligence sector, with a view to promoting innovation and competitiveness while at the same time establishing a climate of consumer confidence, ensuring the protection of human rights. but also of European values. The field of artificial intelligence will change the world as we know it and will affect the daily lives of all of us. With the recent European Commission proposal for a legal framework for artificial intelligence, Europe is taking the lead in setting digital standards, putting democratic values ​​at the heart of our regulatory framework. This proposal can promote cooperation with like-minded partners, such as the United States, on the basis of common democratic principles and values. The United States is the strongest ally of the European Union, and the transatlantic relationship in the field of artificial intelligence is crucial and crucial. Europe has taken an important step towards achieving its digital autonomy by proposing laws on artificial intelligence within a framework of democracy, as opposed to authoritarian models claiming the geopolitical reins of the digital age. Ladies and gentlemen, the digital future of Europe is based on two words and they are both Greek: autonomy and democracy, concepts that have been relevant and militant for time, for artificial intelligence, for Europe for the world.'\n",
    "tokens1_46 = word_tokenize(raw1_46)\n",
    "for word in tokens1_46:\n",
    "    print(word, end=' ')"
   ]
  },
  {
   "cell_type": "code",
   "execution_count": 207,
   "metadata": {},
   "outputs": [
    {
     "name": "stdout",
     "output_type": "stream",
     "text": [
      "Pernille Weiss ( PPE ) . - Sir . Chairman ! As you know , the devil is in the details . It applies in politics , and it applies in art and in politics that affect art and culture . There has been great concern around the world of culture as to whether we in the European Parliament could now abolish territorial exclusivity and geoblocking completely . So it sounds both old-fashioned and protectionist . Luckily we do not , but it was close . European film and television production is flourishing only because the economic foundation can use territorial exclusivity and geoblocking . Does this mean that not everyone can see everything at the same time ? Yes , it does . But it is worth it too ! We are currently talking a lot about `` the European way of life '' and what it means to be European in all its national nuances and cultural expressions . This is important at a time when the EU must be much more on its own two feet in an unpredictable world . Here , the EU must ensure that the Europe we know and have inherited from centuries of history of Christianity and democracy - royal houses and wars - is nurtured and carried on by virtue of a vibrant cultural landscape . A landscape from which we can continue to reap high quality art . In this world there are both evil devils and good devils . Territorial exclusivity and geoblocking are the latter . We must never forget this if European culture is to be remembered in the future . "
     ]
    }
   ],
   "source": [
    "raw1_47 = 'Pernille Weiss (PPE). - Sir. Chairman! As you know, the devil is in the details. It applies in politics, and it applies in art and in politics that affect art and culture. There has been great concern around the world of culture as to whether we in the European Parliament could now abolish territorial exclusivity and geoblocking completely. So it sounds both old-fashioned and protectionist. Luckily we do not, but it was close. European film and television production is flourishing only because the economic foundation can use territorial exclusivity and geoblocking. Does this mean that not everyone can see everything at the same time? Yes, it does. But it is worth it too! We are currently talking a lot about \"the European way of life\" and what it means to be European in all its national nuances and cultural expressions. This is important at a time when the EU must be much more on its own two feet in an unpredictable world. Here, the EU must ensure that the Europe we know and have inherited from centuries of history of Christianity and democracy - royal houses and wars - is nurtured and carried on by virtue of a vibrant cultural landscape. A landscape from which we can continue to reap high quality art. In this world there are both evil devils and good devils. Territorial exclusivity and geoblocking are the latter. We must never forget this if European culture is to be remembered in the future.'\n",
    "tokens1_47 = word_tokenize(raw1_47)\n",
    "for word in tokens1_47:\n",
    "    print(word, end=' ')"
   ]
  },
  {
   "cell_type": "code",
   "execution_count": 208,
   "metadata": {},
   "outputs": [
    {
     "name": "stdout",
     "output_type": "stream",
     "text": [
      "Miriam Lexmann ( EPP ) . - Mr President , as shadow rapporteur for the EMPL opinion , I would like to appreciate that my proposals on ethical artificial intelligence , the protection of human dignity and rights , but also the overall focus of artificial intelligence on human service and well-being have received unequivocal support . We are increasingly using artificial intelligence technology in our day-to-day activities . We usually perceive them positively as our daily helper . However , there are also areas where wider use also encounters initial mistrust , such as when exploiting its impact on the labor market . It is undeniable that many jobs will disappear due to the use of AI . Well , this has always been the case with technological revolutions . Our task is to create the conditions for the use of the potential of AI for job creation and to ensure retraining and lifelong learning so that people do not lose their jobs . I therefore call for clear and sufficient communication between the Commission and the Member States towards society , not only by shaping the public debate , but above all by using effective measures in education systems and the labor market . Only in this way can we make full use of the potential of this technology without citizens feeling fear or mistrust . Many are relieved of work activities that are dangerous or strenuous for humans . "
     ]
    }
   ],
   "source": [
    "raw1_48 = 'Miriam Lexmann (EPP). - Mr President, as shadow rapporteur for the EMPL opinion, I would like to appreciate that my proposals on ethical artificial intelligence, the protection of human dignity and rights, but also the overall focus of artificial intelligence on human service and well-being have received unequivocal support. We are increasingly using artificial intelligence technology in our day-to-day activities. We usually perceive them positively as our daily helper. However, there are also areas where wider use also encounters initial mistrust, such as when exploiting its impact on the labor market. It is undeniable that many jobs will disappear due to the use of AI. Well, this has always been the case with technological revolutions. Our task is to create the conditions for the use of the potential of AI for job creation and to ensure retraining and lifelong learning so that people do not lose their jobs. I therefore call for clear and sufficient communication between the Commission and the Member States towards society, not only by shaping the public debate, but above all by using effective measures in education systems and the labor market. Only in this way can we make full use of the potential of this technology without citizens feeling fear or mistrust. Many are relieved of work activities that are dangerous or strenuous for humans.'\n",
    "tokens1_48 = word_tokenize(raw1_48)\n",
    "for word in tokens1_48:\n",
    "    print(word, end=' ')"
   ]
  },
  {
   "cell_type": "code",
   "execution_count": 209,
   "metadata": {},
   "outputs": [
    {
     "name": "stdout",
     "output_type": "stream",
     "text": [
      "Margaritis Schinas , Vice-President of the Commission . – Mr President , thank you for this in enriching debate , for your numerous and thought—provoking interventions . Artificial intelligence is very versatile and addresses lots of sectors . It presents big benefits , but it may also have drawbacks , and some of those you have mentioned , like fundamental rights , impact on safety and certain black-box artificial intelligence applications are complex and opaque , which can be a challenge . Our proposals will have to ensure that high-risk AI systems are designed in a way that is compliant with fundamental rights and safety standards . In Europe , algorithms will not be in the hands of software engineers . Algorithms will be in the hands of society . Compliance with the requirements that have been proposed will minimise the risk of harm and ensure that any possible breaches can be investigated and addressed . Let me recall that we are not regulating the technology but its use in certain contexts , and this is a proportionate approach and one that creates a level playing field for European and non-European companies alike . The Commission will also come forward with a proposal on liability towards the end of the year . Let me conclude by saying once again that I don ’ t think that there has to be a trade-off in Europe between fundamental rights and supporting innovation when we discuss artificial intelligence . The two are compatible and together we can make sure that the balance is right . I will be counting on this House to bring these proposals and reinforce this balance further . "
     ]
    }
   ],
   "source": [
    "raw1_49 = 'Margaritis Schinas, Vice-President of the Commission. – Mr President, thank you for this in enriching debate, for your numerous and thought—provoking interventions. Artificial intelligence is very versatile and addresses lots of sectors. It presents big benefits, but it may also have drawbacks, and some of those you have mentioned, like fundamental rights, impact on safety and certain black-box artificial intelligence applications are complex and opaque, which can be a challenge. Our proposals will have to ensure that high-risk AI systems are designed in a way that is compliant with fundamental rights and safety standards. In Europe, algorithms will not be in the hands of software engineers. Algorithms will be in the hands of society. Compliance with the requirements that have been proposed will minimise the risk of harm and ensure that any possible breaches can be investigated and addressed. Let me recall that we are not regulating the technology but its use in certain contexts, and this is a proportionate approach and one that creates a level playing field for European and non-European companies alike. The Commission will also come forward with a proposal on liability towards the end of the year. Let me conclude by saying once again that I don’t think that there has to be a trade-off in Europe between fundamental rights and supporting innovation when we discuss artificial intelligence. The two are compatible and together we can make sure that the balance is right. I will be counting on this House to bring these proposals and reinforce this balance further.'\n",
    "tokens1_49 = word_tokenize(raw1_49)\n",
    "for word in tokens1_49:\n",
    "    print(word, end=' ')"
   ]
  },
  {
   "cell_type": "markdown",
   "metadata": {},
   "source": [
    "---\n",
    "### Combine all parts"
   ]
  },
  {
   "cell_type": "code",
   "execution_count": 210,
   "metadata": {},
   "outputs": [],
   "source": [
    "tokens = tokens1_1 + tokens1_2 + tokens1_3 + tokens1_4 + tokens1_5 + tokens1_6 + tokens1_7 + tokens1_8 + tokens1_9 + tokens1_10 + tokens1_11 + tokens1_12 + tokens1_13 + tokens1_14 + tokens1_15 + tokens1_16 + tokens1_17 + tokens1_18 + tokens1_19 + tokens1_20 + tokens1_21 + tokens1_22 + tokens1_23 + tokens1_24 + tokens1_25 + tokens1_26 + tokens1_27 + tokens1_28 + tokens1_29 + tokens1_30 + tokens1_31 + tokens1_32 + tokens1_33 + tokens1_34 + tokens1_35 + tokens1_36 + tokens1_37 + tokens1_38 + tokens1_39 + tokens1_40 + tokens1_41 + tokens1_42 + tokens1_43 + tokens1_44 + tokens1_45 + tokens1_46 + tokens1_47 + tokens1_48 + tokens1_49 "
   ]
  },
  {
   "cell_type": "markdown",
   "metadata": {},
   "source": [
    "---\n",
    "### Normalize the words "
   ]
  },
  {
   "cell_type": "code",
   "execution_count": 211,
   "metadata": {},
   "outputs": [],
   "source": [
    "type(tokens)\n",
    "eutext14 = [w.lower() for w in tokens]"
   ]
  },
  {
   "cell_type": "markdown",
   "metadata": {},
   "source": [
    "---\n",
    "**Save Output**"
   ]
  },
  {
   "cell_type": "code",
   "execution_count": 212,
   "metadata": {},
   "outputs": [],
   "source": [
    "save_path = '/Users/charlottekaiser/Documents/uni/Hertie/master_thesis/00_data/20_intermediate_files'\n",
    "file_name = \"EU14_Digital future of Europe- digital single market and use of AI for European consumers.txt\"\n",
    "completeName = os.path.join(save_path, file_name)\n",
    "output = open(completeName, 'w')\n",
    "print(eutext14, file=output)"
   ]
  }
 ],
 "metadata": {
  "interpreter": {
   "hash": "a9869976cf380d12cb70e759e57434a8e82bae01a9f74e734956416b40621c64"
  },
  "kernelspec": {
   "display_name": "Python 3.9.7 ('base')",
   "language": "python",
   "name": "python3"
  },
  "language_info": {
   "codemirror_mode": {
    "name": "ipython",
    "version": 3
   },
   "file_extension": ".py",
   "mimetype": "text/x-python",
   "name": "python",
   "nbconvert_exporter": "python",
   "pygments_lexer": "ipython3",
   "version": "3.9.7"
  },
  "orig_nbformat": 4
 },
 "nbformat": 4,
 "nbformat_minor": 2
}
