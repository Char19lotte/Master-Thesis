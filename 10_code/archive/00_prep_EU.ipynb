{
 "cells": [
  {
   "cell_type": "code",
   "execution_count": 43,
   "metadata": {},
   "outputs": [],
   "source": [
    "# import necessary libraries\n",
    "import requests\n",
    "from requests_html import HTMLSession\n",
    "import urllib.request\n",
    "import time\n",
    "from bs4 import BeautifulSoup\n"
   ]
  },
  {
   "cell_type": "code",
   "execution_count": 44,
   "metadata": {},
   "outputs": [],
   "source": [
    "session = HTMLSession()\n",
    "r = session.get('https://www.europarl.europa.eu/plenary/en/minutes.html#sidesForm')"
   ]
  },
  {
   "cell_type": "code",
   "execution_count": 45,
   "metadata": {},
   "outputs": [
    {
     "data": {
      "text/plain": [
       "{'/at-your-service/en/work-with-us/', '/about-parliament/en/in-the-past/', 'https://www.europarl.europa.eu/doceo/document/PV-9-2021-10-05-ATT_EN.xml', '/committees/en/supporting-analyses.html', '/plenary/de/minutes.html', 'https://www.europarl.europa.eu/doceo/document/PV-9-2021-10-21-ATT_EN.html', '/plenary/sk/minutes.html', '/about-parliament/en/powers-and-procedures/', 'https://www.europarl.europa.eu/doceo/document/PV-9-2021-09-13-ATT_EN.xml', 'https://www.europarl.europa.eu/doceo/document/PV-9-2021-09-15_EN.xml', 'https://www.europarl.europa.eu/doceo/document/PV-9-2021-12-16-RCV_FR.xml', 'https://www.europarl.europa.eu/doceo/document/PV-9-2021-12-14-ATT_EN.html', 'https://www.europarl.europa.eu/doceo/document/PV-9-2021-11-25-ATT_EN.html', 'https://www.europarl.europa.eu/doceo/document/PV-9-2021-10-04-TOC_EN.html', 'https://www.europarl.europa.eu/portal/en/sitemap', 'https://www.europarl.europa.eu/doceo/document/PV-9-2021-10-19-VOT_EN.pdf', 'https://www.europarl.europa.eu/doceo/document/PV-9-2021-10-20_EN.xml', '/plenary/en/plenary-sitting.html', 'https://www.europarl.europa.eu/doceo/document/PV-9-2021-12-13-RCV_FR.pdf', 'https://www.europarl.europa.eu/doceo/document/PV-9-2021-10-18-TOC_EN.html', 'https://www.europarl.europa.eu/doceo/document/PV-9-2021-10-06-TOC_EN.html', '/about-parliament/en/', 'https://www.europarl.europa.eu/doceo/document/PV-9-2021-10-21-RCV_EN.pdf', 'https://www.europarl.europa.eu/doceo/document/lastrules/RULE-202_EN.html', '/oeil/', 'https://www.europarl.europa.eu/doceo/document/PV-9-2021-10-04-ATT_EN.html', '/plenary/lv/minutes.html', 'https://www.europarl.europa.eu/doceo/document/PV-9-2021-12-14-RCV_FR.xml', 'https://www.europarl.europa.eu/doceo/document/PV-9-2021-09-16-TOC_EN.html', '/plenary/fr/minutes.html', 'https://www.europarl.europa.eu/doceo/document/PV-9-2021-12-13_EN.xml', 'https://www.europarl.europa.eu/doceo/document/PV-9-2021-12-14-ATT_EN.xml', 'https://www.europarl.europa.eu/doceo/document/PV-9-2021-09-14-TOC_EN.html', '/plenary/en/around-plenary.html', '/ordinary-legislative-procedure', 'https://www.europarl.europa.eu/doceo/document/PV-9-2021-10-20-VOT_EN.pdf', 'https://www.europarl.europa.eu/doceo/document/PV-9-2021-10-21-ATT_EN.xml', 'https://www.europarl.europa.eu/doceo/document/PV-9-2021-10-18_EN.xml', '/news/en/contacts-and-services/', 'https://www.europarl.europa.eu/doceo/document/PV-9-2021-12-16_EN.xml', 'https://www.europarl.europa.eu/doceo/document/PV-9-2021-10-19-VOT_EN.xml', 'https://www.europarl.europa.eu/doceo/document/PV-9-2021-09-15-RCV_EN.pdf', 'https://www.europarl.europa.eu/doceo/document/PV-9-2021-09-13_EN.xml', 'https://www.europarl.europa.eu/doceo/document/PV-9-2021-09-16-VOT_EN.xml', 'https://www.europarl.europa.eu/doceo/document/PV-9-2021-10-19-ATT_EN.xml', 'https://www.europarl.europa.eu/doceo/document/PV-9-2021-10-05-VOT_EN.pdf', 'https://www.europarl.europa.eu/doceo/document/PV-9-2021-12-13-VOT_EN.pdf', 'https://www.europarl.europa.eu/doceo/document/PV-9-2021-10-21_EN.xml', '/meps/en/directory', 'https://www.europarl.europa.eu/doceo/document/PV-9-2021-09-16_EN.xml', 'https://www.europarl.europa.eu/doceo/document/PV-9-2021-09-14-VOT_EN.pdf', 'https://www.europarl.europa.eu/doceo/document/PV-9-2021-11-25-VOT_EN.pdf', '/at-your-service/en/transparency/', '/plenary/ro/minutes.html', '/plenary/el/minutes.html', 'https://www.europarl.europa.eu/doceo/document/PV-9-2021-09-14-RCV_EN.pdf', 'https://www.europarl.europa.eu/doceo/document/PV-9-2021-12-15-RCV_FR.pdf', '/plenary/en/questions-and-declarations.html', '/rss/doc/minutes-plenary/en.xml', 'https://www.europarl.europa.eu/doceo/document/PV-9-2021-11-24-RCV_FR.pdf', '/meps/en/incoming-outgoing/incoming', 'https://www.europarl.europa.eu/doceo/document/PV-9-2021-12-13-ATT_EN.html', '/at-your-service/en/be-heard/', 'https://www.europarl.europa.eu/doceo/document/PV-9-2021-09-14-VOT_EN.xml', '/plenary/pl/minutes.html', 'https://www.europarl.europa.eu/doceo/document/PV-9-2021-12-14-TOC_EN.html', 'https://www.europarl.europa.eu/doceo/document/PV-9-2021-11-25-RCV_FR.xml', 'https://www.europarl.europa.eu/doceo/document/PV-9-2021-10-06-ATT_EN.html', 'https://www.europarl.europa.eu/doceo/document/PV-9-2021-11-24-ATT_EN.html', 'https://www.europarl.europa.eu/doceo/document/PV-9-2021-10-07_EN.xml', 'https://www.europarl.europa.eu/doceo/document/PV-9-2021-09-15-VOT_EN.xml', 'https://www.europarl.europa.eu/doceo/document/PV-9-2021-12-15-ATT_EN.html', 'https://www.europarl.europa.eu/doceo/document/PV-9-2021-10-19-RCV_FR.xml', 'https://www.europarl.europa.eu/doceo/document/PV-9-2021-09-15-VOT_EN.pdf', 'https://www.europarl.europa.eu/subscription/en', '/plenary/sl/minutes.html', 'http://www.europarl.europa.eu/portal/en/accessibility', '/meps/en/full-list', 'https://www.europarl.europa.eu/doceo/document/PV-9-2021-09-13-VOT_EN.xml', 'https://www.europarl.europa.eu/doceo/document/PV-9-2021-11-11-RCV_FR.xml', 'https://www.europarl.europa.eu/doceo/document/PV-9-2021-10-20-RCV_EN.pdf', 'https://www.europarl.europa.eu/doceo/document/PV-9-2021-10-07-RCV_FR.xml', '/plenary/en/texts-adopted.html', 'https://www.europarl.europa.eu/doceo/document/PV-9-2021-11-23-ATT_EN.xml', '/parlArchives/delArch/delConfPres.do?language=EN', 'https://www.europarl.europa.eu/doceo/document/PV-9-2021-12-16-VOT_EN.pdf', '/plenary/en/debates-video.html', 'https://www.europarl.europa.eu/doceo/document/PV-9-2021-09-16-VOT_EN.pdf', 'https://www.europarl.europa.eu/doceo/document/PV-9-2021-09-15-TOC_EN.html', 'https://www.europarl.europa.eu/doceo/document/PV-9-2021-11-11-RCV_EN.pdf', 'https://www.europarl.europa.eu/doceo/document/PV-9-2021-09-15-RCV_FR.xml', 'https://www.europarl.europa.eu/doceo/document/PV-9-2021-11-24-RCV_FR.xml', '/plenary/fi/minutes.html', 'https://www.europarl.europa.eu/doceo/document/PV-9-2021-12-15-VOT_EN.xml', 'https://www.europarl.europa.eu/doceo/document/PV-9-2021-11-11-TOC_EN.html', 'https://www.europarl.europa.eu/doceo/document/PV-9-2021-10-07-VOT_EN.xml', 'https://www.europarl.europa.eu/doceo/document/PV-9-2021-10-18-ATT_EN.xml', 'https://www.europarl.europa.eu/doceo/document/PV-9-2021-09-14-ATT_EN.html', 'https://www.europarl.europa.eu/doceo/document/PV-9-2021-11-23_EN.xml', 'https://www.europarl.europa.eu/doceo/document/PV-9-2021-11-23-VOT_EN.xml', '/committees/en/draft-agendas.html', 'https://www.europarl.europa.eu/doceo/document/PV-9-2021-10-06-VOT_EN.xml', '/plenary/bg/minutes.html', '/plenary/cs/minutes.html', 'https://www.europarl.europa.eu/doceo/document/PV-9-2021-10-04_EN.xml', 'https://www.europarl.europa.eu/doceo/document/PV-9-2021-09-16-RCV_FR.xml', 'https://www.europarl.europa.eu/legal-notice/en/', 'https://www.europarl.europa.eu/doceo/document/PV-9-2021-12-15-VOT_EN.pdf', 'https://www.europarl.europa.eu/doceo/document/PV-9-2021-11-11-VOT_EN.pdf', 'https://www.europarl.europa.eu/doceo/document/PV-9-2021-11-11_EN.xml', 'https://www.europarl.europa.eu/doceo/document/PV-9-2021-09-13-RCV_EN.pdf', 'https://www.europarl.europa.eu/doceo/document/PV-9-2021-09-14-RCV_FR.xml', 'https://www.europarl.europa.eu/doceo/document/PV-9-2021-12-15-RCV_FR.xml', '/plenary/en/agendas.html', '/delegations/en.html', 'https://www.europarl.europa.eu/doceo/document/PV-9-2021-11-24_EN.xml', 'https://www.europarl.europa.eu/doceo/document/PV-9-2021-10-19-TOC_EN.html', '/plenary/et/minutes.html', '/plenary/hu/minutes.html', 'https://www.europarl.europa.eu/doceo/document/PV-9-2021-12-16-ATT_EN.html', 'https://www.europarl.europa.eu/doceo/document/PV-9-2021-11-22-ATT_EN.html', 'https://www.europarl.europa.eu/doceo/document/PV-9-2021-10-19_EN.xml', '/meps/en.html', 'https://www.europarl.europa.eu/doceo/document/PV-9-2021-09-13-ATT_EN.html', '/committees/en/', 'https://www.europarl.europa.eu/doceo/document/PV-9-2021-11-22-TOC_EN.html', 'https://www.europarl.europa.eu/doceo/document/PV-9-2021-11-11-VOT_EN.xml', 'https://www.europarl.europa.eu/doceo/document/PV-9-2021-12-15_EN.xml', 'https://www.europarl.europa.eu/doceo/document/PV-9-2021-10-19-ATT_EN.html', '/meps/en/assistants', '/delegations/en/calendar', 'https://www.europarl.europa.eu/doceo/document/PV-9-2021-10-06-RCV_EN.pdf', 'https://www.europarl.europa.eu/doceo/document/PV-9-2021-10-07-ATT_EN.xml', 'https://www.europarl.europa.eu/doceo/document/PV-9-2021-12-14-VOT_EN.xml', 'https://www.europarl.europa.eu/doceo/document/PV-9-2021-09-16-RCV_EN.pdf', 'http://www.facebook.com/share.php?u=https://www.europarl.europa.eu/plenary/en/minutes.html', 'https://www.europarl.europa.eu/doceo/document/PV-9-2021-10-05-TOC_EN.html', '/plenary/en/parliamentary-questions.html', 'https://www.europarl.europa.eu/doceo/document/PV-9-2021-11-23-ATT_EN.html', 'https://twitter.com/intent/tweet?text=Minutes&url=https://www.europarl.europa.eu/plenary/en/minutes.html&via=Europarl_EN', '/committees/en/search-in-documents.html', '/plenary/en/guide-plenary.html', 'https://www.europarl.europa.eu/doceo/document/PV-9-2021-09-14-ATT_EN.xml', '/delegations/en/', '/plenary/en/texts-submitted.html', 'https://www.europarl.europa.eu/doceo/document/PV-9-2021-10-07-VOT_EN.pdf', 'https://www.europarl.europa.eu/doceo/document/PV-9-2021-11-10-TOC_EN.html', 'https://www.europarl.europa.eu/doceo/document/PV-9-2021-11-25-TOC_EN.html', 'https://www.europarl.europa.eu/doceo/document/PV-9-2021-10-21-VOT_EN.pdf', 'https://www.europarl.europa.eu/doceo/document/PV-9-2021-10-07-ATT_EN.html', '/about-parliament/en/powers-and-procedures/national-parliaments', 'http://www.europarl.europa.eu/portal/en/contact', 'https://www.europarl.europa.eu/doceo/document/PV-9-2021-12-16-RCV_FR.pdf', 'https://www.europarl.europa.eu/doceo/document/PV-9-2021-11-10-ATT_EN.xml', 'http://www.europarl.europa.eu/portal/en', '/plenary/pt/minutes.html', 'http://eur-lex.europa.eu/en/index.htm', 'https://www.europarl.europa.eu/doceo/document/PV-9-2021-10-20-ATT_EN.xml', 'https://www.europarl.europa.eu/doceo/document/PV-9-2021-10-06-VOT_EN.pdf', '/plenary/en/calendar.html', 'https://www.europarl.europa.eu/doceo/document/PV-9-2021-11-25_EN.xml', 'https://www.europarl.europa.eu/doceo/document/PV-9-2021-11-22_EN.xml', '/about-parliament/en/democracy-and-human-rights/', '/plenary/lt/minutes.html', 'https://www.europarl.europa.eu/doceo/document/PV-9-2021-09-15-ATT_EN.html', '/plenary/en/minutes.html', 'https://www.europarl.europa.eu/doceo/document/PV-9-2021-11-25-RCV_FR.pdf', '/committees/en/events.html', '/about-parliament/en/organisation-and-rules/', 'https://www.europarl.europa.eu/doceo/document/PV-9-2021-10-04-ATT_EN.xml', '/plenary/hr/minutes.html', 'https://www.europarl.europa.eu/doceo/document/PV-9-2021-09-16-ATT_EN.xml', '/RegistreWeb/home/welcome.htm?language=EN', 'https://www.europarl.europa.eu/doceo/document/PV-9-2021-10-05-VOT_EN.xml', '/at-your-service/en/stay-informed/', 'https://www.europarl.europa.eu/privacy-policy/en/', 'https://www.europarl.europa.eu/doceo/document/PV-9-2021-12-13-TOC_EN.html', '/plenary/en/minutes.html?tabActif=tabLast#sidesForm', 'https://www.europarl.europa.eu/doceo/document/PV-9-2021-11-25-ATT_EN.xml', 'https://www.europarl.europa.eu/doceo/document/PV-9-2021-10-06-ATT_EN.xml', 'https://www.europarl.europa.eu/doceo/document/PV-9-2021-10-07-RCV_EN.pdf', 'https://www.europarl.europa.eu/doceo/document/PV-9-2021-11-23-TOC_EN.html', 'all-top-info-doc.html?type=priorityInfo', 'https://www.europarl.europa.eu/doceo/document/PV-9-2021-11-25-VOT_EN.xml', 'https://multimedia.europarl.europa.eu/en/home', '/plenary/mt/minutes.html', 'https://www.europarl.europa.eu/doceo/document/PV-9-2021-09-13-VOT_EN.pdf', 'http://www.facebook.com/europeanparliament', 'https://www.europarl.europa.eu/doceo/document/PV-9-2021-11-23-RCV_FR.xml', 'https://www.europarl.europa.eu/doceo/document/PV-9-2021-11-10-ATT_EN.html', 'https://www.europarl.europa.eu/doceo/document/PV-9-2021-10-20-TOC_EN.html', '/meps/en/search/advanced', '/plenary/en/home.html', '/plenary/sv/minutes.html', 'https://www.europarl.europa.eu/doceo/document/PV-9-2021-09-15-ATT_EN.xml', '/plenary/nl/minutes.html', 'https://www.europarl.europa.eu/doceo/document/PV-9-2021-09-14_EN.xml', 'https://www.europarl.europa.eu/doceo/document/PV-9-2021-10-06-RCV_FR.xml', 'https://www.europarl.europa.eu/doceo/document/PV-9-2021-09-13-TOC_EN.html', '/plenary/en/ordinary-legislative-procedure.html', 'https://www.europarl.europa.eu/doceo/document/PV-9-2021-11-11-ATT_EN.html', 'https://www.europarl.europa.eu/doceo/document/PV-9-2021-10-20-ATT_EN.html', 'https://www.europarl.europa.eu/doceo/document/PV-9-2021-10-06_EN.xml', '/plenary/en/votes.html', '/plenary/es/minutes.html', 'https://www.europarl.europa.eu/forms/en/plenary-contact', 'https://www.europarl.europa.eu/doceo/document/PV-9-2021-11-24-TOC_EN.html', 'https://www.europarl.europa.eu/doceo/document/PV-9-2021-11-24-VOT_EN.pdf', '/committees/en.html', 'https://www.europarl.europa.eu/doceo/document/PV-9-2021-11-23-RCV_FR.pdf', '/plenary/en.html', 'https://www.europarl.europa.eu/doceo/document/PV-9-2021-11-11-ATT_EN.xml', 'https://www.europarl.europa.eu/doceo/document/PV-9-2021-10-18-ATT_EN.html', 'https://www.europarl.europa.eu/doceo/document/PV-9-2021-10-05_EN.xml', 'https://www.europarl.europa.eu/doceo/document/PV-9-2021-12-16-VOT_EN.xml', '/news/en/top-stories/', 'https://www.europarl.europa.eu/doceo/document/PV-9-2021-09-13-RCV_FR.xml', 'https://www.europarl.europa.eu/doceo/document/PV-9-2021-12-15-TOC_EN.html', 'https://www.europarl.europa.eu/doceo/document/PV-9-2021-10-19-RCV_EN.pdf', 'https://www.europarl.europa.eu/doceo/document/PV-9-2021-10-21-VOT_EN.xml', 'https://www.europarl.europa.eu/doceo/document/PV-9-2021-12-14_EN.xml', 'https://www.europarl.europa.eu/doceo/document/PV-9-2021-12-14-VOT_EN.pdf', 'https://www.europarl.europa.eu/doceo/document/PV-9-2021-12-16-TOC_EN.html', 'https://www.europarl.europa.eu/doceo/document/PV-9-2021-09-16-ATT_EN.html', 'https://www.europarl.europa.eu/doceo/document/PV-9-2021-11-22-ATT_EN.xml', 'https://www.europarl.europa.eu/doceo/document/PV-9-2021-11-10_EN.xml', '/plenary/ga/minutes.html', 'https://www.europarl.europa.eu/doceo/document/PV-9-2021-12-16-ATT_EN.xml', 'https://www.europarl.europa.eu/doceo/document/PV-9-2021-12-13-RCV_FR.xml', 'https://www.europarl.europa.eu/doceo/document/PV-9-2021-11-23-VOT_EN.pdf', 'https://www.europarl.europa.eu/doceo/document/PV-9-2021-10-20-RCV_FR.xml', 'https://www.europarl.europa.eu/doceo/document/PV-9-2021-10-21-TOC_EN.html', 'https://www.europarl.europa.eu/doceo/document/PV-9-2021-10-05-RCV_EN.pdf', '/delegations/en/about/introduction', '/parlArchives/delArch/delConfPres7.do?language=EN', 'https://www.europarl.europa.eu/doceo/document/PV-9-2021-12-15-ATT_EN.xml', '/plenary/da/minutes.html', 'https://www.europarl.europa.eu/doceo/document/PV-9-2021-12-13-ATT_EN.xml', '/at-your-service/en/', '/news/en/', 'https://www.europarl.europa.eu/doceo/document/PV-9-2021-10-05-ATT_EN.html', '/plenary/it/minutes.html', 'https://www.europarl.europa.eu/doceo/document/PV-9-2021-12-13-VOT_EN.xml', 'https://www.europarl.europa.eu/doceo/document/PV-9-2021-11-24-ATT_EN.xml', 'https://www.europarl.europa.eu/doceo/document/PV-9-2021-10-21-RCV_FR.xml', 'https://www.europarl.europa.eu/doceo/document/PV-9-2021-10-20-VOT_EN.xml', 'https://www.europarl.europa.eu/doceo/document/PV-9-2021-10-07-TOC_EN.html', 'https://www.europarl.europa.eu/doceo/document/PV-9-2021-12-14-RCV_FR.pdf', 'https://www.europarl.europa.eu/doceo/document/PV-9-2021-11-24-VOT_EN.xml', 'https://www.europarl.europa.eu/doceo/document/PV-9-2021-10-05-RCV_FR.xml'}"
      ]
     },
     "execution_count": 45,
     "metadata": {},
     "output_type": "execute_result"
    }
   ],
   "source": [
    "r.html.links"
   ]
  },
  {
   "cell_type": "code",
   "execution_count": 42,
   "metadata": {},
   "outputs": [],
   "source": [
    "URL = 'https://www.europarl.europa.eu/plenary/en/minutes.html#sidesForm' \n",
    "response = requests.get(URL)\n",
    "results = BeautifulSoup(response.content, 'html.parser')"
   ]
  },
  {
   "cell_type": "code",
   "execution_count": 54,
   "metadata": {},
   "outputs": [],
   "source": [
    "r = session.get('https://www.europarl.europa.eu/plenary/en/minutes.html#sidesForm')\n",
    "sel = 'body > div.content_global > div.jumbotron.jumbotron-codelines  > p'"
   ]
  },
  {
   "cell_type": "code",
   "execution_count": 59,
   "metadata": {},
   "outputs": [
    {
     "name": "stdout",
     "output_type": "stream",
     "text": [
      "[]\n"
     ]
    }
   ],
   "source": [
    "r.html.find('a', containing='intelligence')\n"
   ]
  }
 ],
 "metadata": {
  "interpreter": {
   "hash": "7c4cdd0cbdbacc0895fbdb09485c3bbafaa10b5920da9b5fcbe4469de2d1063c"
  },
  "kernelspec": {
   "display_name": "Python 3.9.7 64-bit ('geo': conda)",
   "language": "python",
   "name": "python3"
  },
  "language_info": {
   "codemirror_mode": {
    "name": "ipython",
    "version": 3
   },
   "file_extension": ".py",
   "mimetype": "text/x-python",
   "name": "python",
   "nbconvert_exporter": "python",
   "pygments_lexer": "ipython3",
   "version": "3.9.7"
  },
  "orig_nbformat": 4
 },
 "nbformat": 4,
 "nbformat_minor": 2
}
