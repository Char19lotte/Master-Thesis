{
 "cells": [
  {
   "cell_type": "markdown",
   "metadata": {},
   "source": [
    "### *Data Collection - European Parliament*\n",
    "## Preparing Raw Data\n",
    "---\n",
    "**Sample Text 6**\n",
    "Title: European Semester: annual sustainable growth strategy 2021 – European Semester: employment and social aspects in the annual sustainable growth strategy 2021 <br>\n",
    "Date: March 10, 2021 - Brussels"
   ]
  },
  {
   "cell_type": "code",
   "execution_count": 1,
   "metadata": {},
   "outputs": [],
   "source": [
    "# import necessary libraries\n",
    "import requests\n",
    "from requests_html import HTMLSession\n",
    "import urllib.request\n",
    "import time\n",
    "from bs4 import BeautifulSoup\n",
    "import urllib\n",
    "from urllib import request\n",
    "from __future__ import division\n",
    "import nltk, re, pprint\n",
    "from nltk import word_tokenize\n",
    "from nltk import FreqDist\n",
    "import os.path \n",
    "import pandas as pd"
   ]
  },
  {
   "cell_type": "markdown",
   "metadata": {},
   "source": [
    "---\n",
    "### Process: Trimming debate by inserting the original English or translated English files and tokenizing them.\n",
    "*Note*: Due to time constraint, the process has been optimized.\n",
    "\n",
    "- English parts of the debate will be added manually as a string and then tokenized. \n",
    "\n",
    "- A consistent method of translating and then adding will be applied to all EU Parliament debates:  Non-English parts are copied from the original web pages, inserted in the consistent choice of translation tool, Google Translate (https://translate.google.com/?hl=de&tab=TT), translated to English and pasted in as a string. \n",
    "\n",
    "- Afterwards, the same steps are applied as per usual (tokenizing, standardizing).\n",
    "\n",
    "Because of the changed process, the URL and step of webscraping are technically no longer necessary, will however be included for the purpose of completeness. "
   ]
  },
  {
   "cell_type": "code",
   "execution_count": 2,
   "metadata": {},
   "outputs": [],
   "source": [
    "# url = \"https://www.europarl.europa.eu/doceo/document/CRE-9-2021-03-10-ITM-003_EN.html\"\n",
    "# html = requests.get(url)\n",
    "# raw = BeautifulSoup(html.content, 'html.parser').get_text()"
   ]
  },
  {
   "cell_type": "code",
   "execution_count": 3,
   "metadata": {},
   "outputs": [
    {
     "name": "stdout",
     "output_type": "stream",
     "text": [
      "Markus Ferber , reporter . – Madam President ! Mr. Executive Vice President , dear Valdis ! Commissioner , dear Nicolas ! Madam President-in-Office ! Dear colleagues ! I was very pleased that , after lengthy negotiations , we had found a compromise in the Economic and Monetary Affairs Committee , for which the three largest groups here in the European Parliament were actually promised to agree . I very much regretted that it did not work out in the committee vote , because it would have been progress compared to the experiences we have had in recent years . I am all the more pleased that we have now succeeded in proposing a compromise with the other parliamentary groups in intensive negotiations over the weekend - after all , we only had the vote in ECON on Thursday - which will hopefully also win the majority of the European Parliament finds . Because I would find it very appropriate that the opinion of the Economic and Monetary Affairs Committee for the spring summit is also available , Madam President-in-Office of the Council , and not just the report by the Employment Committee , which is certainly also very important . The compromise that we have found is solid and , I think , workable for all parties . We have made a few small changes to the details and , as I said , I hope that this time we will be able to get this report approved in plenary . Having said that , please let me now come to the essential content . I would like to highlight two key points . The first to the crucial question of what the European Semester actually is . Because sometimes I have the feeling that every six months we do a reflection on what we would like the semester to be like . And that would actually have meant missing the point at school . We will do an own-initiative report , at least on the ECON side , about what we would like to see in the half-year report - but that is not the subject of this report . The semester report is the central instrument for coordinating economic policy . In other words , the European Semester is about setting the right course for stable budgetary policy , for a competitive economy , it is about fiscal policy , it is about economic policy in general . This is precisely why the European Semester in this cycle is of course also closely linked to the recovery and resilience facility . The European Semester is not a tool for coordinating environmental policies or climate action or the implementation of any other consideration . We have other instruments and other formats to deal with it . We should be clear about one thing : If we restructure the semester in such a way that it should be able to do everything , then in the end it will not be able to do anything . After all , it is already the case today that the member states are cherry-picking when it comes to the reform proposals , the so-called country-specific recommendations . If we continue to increase the range of measures that Member States can choose from , we will also continue to increase the problem of cherry picking . We should avoid that . The second point I would like to raise concerns about is the recent communication by the European Commission on fiscal policy coordination , which some colleagues in this House are already hailing as the beginning of the end of the Stability and Growth Pact . In recent months , the already high national debt in the member states has literally exploded . For those who are not concerned , I just want to remind you of the Greek sovereign debt crisis . After all , it led the common currency into a real crisis not too long ago . The memory should still be fresh enough to serve as a warning to us . Many are resting on the current low interest rate level and imagine themselves in a new phase of stability in which even huge mountains of debt would not be a cause for concern . After all , the central bank will ensure low interest rates with its purchase programs . And again , this time we have an amendment that also says that this debt , which the ECB has , should be set to zero . I am just warning - the last country to do this was Argentina . I do not have the impression that people in Argentina were doing particularly well afterwards . We should really refrain from such considerations . It is by no means a godsend that interest rates will remain as low as they are at the moment . In the USA , we are already seeing that the economic recovery is accompanied by rising inflation expectations and the interest rate curve becoming steeper again . If that also happens in Europe , a debt level of more than 100 percent can , related to economic output , very quickly becomes a massive problem . So we have to be very careful that the COVID crisis does not become the next sovereign debt crisis . Just as we need an exit strategy from the lockdown , we also need a credible exit strategy from national debt . What the European Commission presented last week – which we will discuss again at a suitable point – may be helpful as a benchmark for the coming months , but certainly not for a longer-term perspective . However , such a long-term strategy for dealing with the enormous public debt in the EU is urgently needed and should also enjoy top priority at the European Commission . "
     ]
    }
   ],
   "source": [
    "raw1_1 = 'Markus Ferber, reporter. – Madam President! Mr. Executive Vice President, dear Valdis! Commissioner, dear Nicolas! Madam President-in-Office! Dear colleagues! I was very pleased that, after lengthy negotiations, we had found a compromise in the Economic and Monetary Affairs Committee, for which the three largest groups here in the European Parliament were actually promised to agree. I very much regretted that it did not work out in the committee vote, because it would have been progress compared to the experiences we have had in recent years. I am all the more pleased that we have now succeeded in proposing a compromise with the other parliamentary groups in intensive negotiations over the weekend - after all, we only had the vote in ECON on Thursday - which will hopefully also win the majority of the European Parliament finds. Because I would find it very appropriate that the opinion of the Economic and Monetary Affairs Committee for the spring summit is also available, Madam President-in-Office of the Council, and not just the report by the Employment Committee, which is certainly also very important. The compromise that we have found is solid and, I think, workable for all parties. We have made a few small changes to the details and, as I said, I hope that this time we will be able to get this report approved in plenary. Having said that, please let me now come to the essential content. I would like to highlight two key points. The first to the crucial question of what the European Semester actually is. Because sometimes I have the feeling that every six months we do a reflection on what we would like the semester to be like. And that would actually have meant missing the point at school. We will do an own-initiative report, at least on the ECON side, about what we would like to see in the half-year report - but that is not the subject of this report. The semester report is the central instrument for coordinating economic policy. In other words, the European Semester is about setting the right course for stable budgetary policy, for a competitive economy, it is about fiscal policy, it is about economic policy in general. This is precisely why the European Semester in this cycle is of course also closely linked to the recovery and resilience facility. The European Semester is not a tool for coordinating environmental policies or climate action or the implementation of any other consideration. We have other instruments and other formats to deal with it. We should be clear about one thing: If we restructure the semester in such a way that it should be able to do everything, then in the end it will not be able to do anything. After all, it is already the case today that the member states are cherry-picking when it comes to the reform proposals, the so-called country-specific recommendations. If we continue to increase the range of measures that Member States can choose from, we will also continue to increase the problem of cherry picking. We should avoid that. The second point I would like to raise concerns about is the recent communication by the European Commission on fiscal policy coordination, which some colleagues in this House are already hailing as the beginning of the end of the Stability and Growth Pact. In recent months, the already high national debt in the member states has literally exploded. For those who are not concerned, I just want to remind you of the Greek sovereign debt crisis. After all, it led the common currency into a real crisis not too long ago. The memory should still be fresh enough to serve as a warning to us. Many are resting on the current low interest rate level and imagine themselves in a new phase of stability in which even huge mountains of debt would not be a cause for concern. After all, the central bank will ensure low interest rates with its purchase programs. And again, this time we have an amendment that also says that this debt, which the ECB has, should be set to zero. I am just warning - the last country to do this was Argentina. I do not have the impression that people in Argentina were doing particularly well afterwards. We should really refrain from such considerations. It is by no means a godsend that interest rates will remain as low as they are at the moment. In the USA, we are already seeing that the economic recovery is accompanied by rising inflation expectations and the interest rate curve becoming steeper again. If that also happens in Europe, a debt level of more than 100 percent can, related to economic output, very quickly becomes a massive problem. So we have to be very careful that the COVID crisis does not become the next sovereign debt crisis. Just as we need an exit strategy from the lockdown, we also need a credible exit strategy from national debt. What the European Commission presented last week – which we will discuss again at a suitable point – may be helpful as a benchmark for the coming months, but certainly not for a longer-term perspective. However, such a long-term strategy for dealing with the enormous public debt in the EU is urgently needed and should also enjoy top priority at the European Commission.'\n",
    "tokens1_1 = word_tokenize(raw1_1)\n",
    "for word in tokens1_1:\n",
    "    print(word, end=' ')"
   ]
  },
  {
   "cell_type": "code",
   "execution_count": 4,
   "metadata": {},
   "outputs": [
    {
     "name": "stdout",
     "output_type": "stream",
     "text": [
      "Lina Gálvez Muñoz , speaker . – Madam President , first of all , I would like to thank the MEPs , the political groups and the technical teams for their contribution to the agreement and consensus on the final result of this report . Thank you , because for the most part we have made an effort to set aside differences and we have known how to put the common good and the interests of the people who have voted for us first . This dossier must help lay the foundations for a post-COVID-19 Europe , for that new economic and social framework that we urgently need to build in order to be able to offer solutions that mitigate the suffering and discouragement suffered by a large part of the population . European . We have to be able to design a roadmap in which social rights and objectives and equity are a central part of our governance and economic policy , as are environmental objectives . If this was necessary before COVID-19 , it is even more so now . We have no excuse : COVID-19 has put us in front of the mirror , and we must face the profound socioeconomic consequences that the pandemic is showing us , offering political solutions that leave no one behind , wherever they live . We know that millions of jobs and working hours have been lost ; that 10 % of European workers were already in poverty before the pandemic ; that the youth unemployment rate is at 17 % and will surely go higher ; that , furthermore , we are in the middle of a technological revolution that will bring profound changes and a complicated situation . We know that women are especially suffering the consequences of this pandemic , because we continue to be assigned the social mandate of care , and our integration into labor markets has been segregated and , in many cases , precarious . We know that , on any given night , 700,000 people in the European Union sleep rough or in a shelter - 70 % more than in the last ten years - and that the crisis has worsened physical and mental health , especially of most vulnerable groups . And , ladies and gentlemen , this is not a story , they are not empty words from a speech . This is a reality that we would all see if it were not for blinders , for a political and economic discourse that has shown us that it is not worth it , that it is no longer worth it to us . The panorama that the pandemic is leaving us reminds us in many places of the consequences of other wars that we have waged in Europe . We can not and must not return to austerity policies . We can not repeat the same mistakes as in the previous crisis . We are risking our future , our well-being and the consolidation of the European project , including the very essence of the values ​​that led us to draw up our Charter of Fundamental Rights and that have created an area of ​​freedom , security and justice . For this reason - and this is a priority for my Group of the Progressive Alliance of Socialists and Democrats - , as we will defend at the Porto Social Summit , we must not accept a governance that limits the quantity and quality of the jobs we generate or the redistribution of wealth in a framework of growing inequality , all of these aspects that are also negative for the operation of our companies and the resilience of our economies . The OECD yesterday improved its growth estimates , but that is not enough if growth is not distributed well . For this reason , in this report we insist that equity and social rights must have the same importance as macroeconomic or environmental objectives . We need economic indicators that are capable of perceiving the social problems posed by the economy . This requires an ex ante evaluation of the social consequences of measures and policies . The European Semester must allow all Member States to make the most of the potential offered by the escape clause , to , first , support companies in difficulty and lack of liquidity , safeguarding the jobs , wages and working conditions of European workers ; and , second , to invest in people and in the basic systems of social welfare , health , care or education . This flexibility must be transferred to our near future , in such a way that the negative social consequences of the deactivation of the general safeguard clause are foreseen . For the same reason , we propose that the emergency measures put in place be maintained for as long as necessary . The foreseeable national reforms must be based on solidarity , integration and social justice , with the aim of creating quality employment in all territories , to guarantee sustainable growth as far as possible , advancing towards a new social organization of care in a that these do not fall mainly on the unpaid and unrecognized work of women . I firmly believe that defending the centrality of the social aspect in economic policies and governance is perfectly compatible with the competitiveness of the European economy , which will thus be more sustainable and resilient . The European Parliament must review the transparency of this entire process , from the definition of these indicators to the supervision of the recommendations made to the Member States . Ladies and gentlemen , if we want to be that prosperous and social Europe that drags citizens into its political project , we must not and can not leave anyone behind . And we have to act quickly , but also clearly and firmly . The European Union is a reality built on a pacifist , social and economic proposal that endures to this day , a magnificent human creation built from the understanding of States and economic agreements . But let us never lose sight of the fact that this equation must result in the social well-being of people and the unwavering commitment to democracy . I am convinced that this Parliament wants to be up to the task in its response to the historical needs of an era . And this report is just one more contribution to move towards those institutions and policies that we undoubtedly need in the Europe of the future and in this post-COVID-19 Europe . "
     ]
    }
   ],
   "source": [
    "raw1_2 = 'Lina Gálvez Muñoz, speaker. – Madam President, first of all, I would like to thank the MEPs, the political groups and the technical teams for their contribution to the agreement and consensus on the final result of this report. Thank you, because for the most part we have made an effort to set aside differences and we have known how to put the common good and the interests of the people who have voted for us first. This dossier must help lay the foundations for a post-COVID-19 Europe, for that new economic and social framework that we urgently need to build in order to be able to offer solutions that mitigate the suffering and discouragement suffered by a large part of the population. European. We have to be able to design a roadmap in which social rights and objectives and equity are a central part of our governance and economic policy, as are environmental objectives. If this was necessary before COVID-19, it is even more so now. We have no excuse: COVID-19 has put us in front of the mirror, and we must face the profound socioeconomic consequences that the pandemic is showing us, offering political solutions that leave no one behind, wherever they live. We know that millions of jobs and working hours have been lost; that 10% of European workers were already in poverty before the pandemic; that the youth unemployment rate is at 17% and will surely go higher; that, furthermore, we are in the middle of a technological revolution that will bring profound changes and a complicated situation. We know that women are especially suffering the consequences of this pandemic, because we continue to be assigned the social mandate of care, and our integration into labor markets has been segregated and, in many cases, precarious. We know that, on any given night, 700,000 people in the European Union sleep rough or in a shelter - 70% more than in the last ten years - and that the crisis has worsened physical and mental health, especially of most vulnerable groups. And, ladies and gentlemen, this is not a story, they are not empty words from a speech. This is a reality that we would all see if it were not for blinders, for a political and economic discourse that has shown us that it is not worth it, that it is no longer worth it to us. The panorama that the pandemic is leaving us reminds us in many places of the consequences of other wars that we have waged in Europe. We cannot and must not return to austerity policies. We cannot repeat the same mistakes as in the previous crisis. We are risking our future, our well-being and the consolidation of the European project, including the very essence of the values ​​that led us to draw up our Charter of Fundamental Rights and that have created an area of ​​freedom, security and justice. For this reason - and this is a priority for my Group of the Progressive Alliance of Socialists and Democrats -, as we will defend at the Porto Social Summit, we must not accept a governance that limits the quantity and quality of the jobs we generate or the redistribution of wealth in a framework of growing inequality, all of these aspects that are also negative for the operation of our companies and the resilience of our economies. The OECD yesterday improved its growth estimates, but that is not enough if growth is not distributed well. For this reason, in this report we insist that equity and social rights must have the same importance as macroeconomic or environmental objectives. We need economic indicators that are capable of perceiving the social problems posed by the economy. This requires an ex ante evaluation of the social consequences of measures and policies. The European Semester must allow all Member States to make the most of the potential offered by the escape clause, to, first, support companies in difficulty and lack of liquidity, safeguarding the jobs, wages and working conditions of European workers; and, second, to invest in people and in the basic systems of social welfare, health, care or education. This flexibility must be transferred to our near future, in such a way that the negative social consequences of the deactivation of the general safeguard clause are foreseen. For the same reason, we propose that the emergency measures put in place be maintained for as long as necessary. The foreseeable national reforms must be based on solidarity, integration and social justice, with the aim of creating quality employment in all territories, to guarantee sustainable growth as far as possible, advancing towards a new social organization of care in a that these do not fall mainly on the unpaid and unrecognized work of women. I firmly believe that defending the centrality of the social aspect in economic policies and governance is perfectly compatible with the competitiveness of the European economy, which will thus be more sustainable and resilient. The European Parliament must review the transparency of this entire process, from the definition of these indicators to the supervision of the recommendations made to the Member States. Ladies and gentlemen, if we want to be that prosperous and social Europe that drags citizens into its political project, we must not and cannot leave anyone behind. And we have to act quickly, but also clearly and firmly. The European Union is a reality built on a pacifist, social and economic proposal that endures to this day, a magnificent human creation built from the understanding of States and economic agreements. But let us never lose sight of the fact that this equation must result in the social well-being of people and the unwavering commitment to democracy. I am convinced that this Parliament wants to be up to the task in its response to the historical needs of an era. And this report is just one more contribution to move towards those institutions and policies that we undoubtedly need in the Europe of the future and in this post-COVID-19 Europe.'\n",
    "tokens1_2 = word_tokenize(raw1_2)\n",
    "for word in tokens1_2:\n",
    "    print(word, end=' ')"
   ]
  },
  {
   "cell_type": "code",
   "execution_count": 5,
   "metadata": {},
   "outputs": [
    {
     "name": "stdout",
     "output_type": "stream",
     "text": [
      "Margarida Marques , rapporteur of the opinion of the Committee on Budgets . – Madam President , the European Semester has been seen as a bureaucratic exercise , lacking transparency and ignoring the new realities and challenges of the Union . The latest crisis response instruments and the outcome of the agreements with Parliament are a first step towards , firstly , to reinvigorate the European Semester and , secondly , to reform it into a real instrument of economic governance . The Recovery and Resilience Mechanism has shown the importance of coordinating economic and social policies . The European Parliament , with responsibility for defining the EU general principles and objectives , leaves the political choices to be made to the Member States to achieve these objectives , with an open and inclusive dialogue between European institutions and national institutions . Finally , Parliament gives the Semester more transparency and democratic legitimacy . It makes it possible to ensure supervision of the fulfillment of priorities of the Union and political objectives , but also to control the use of the funds of the Mechanism guaranteed by the budget of the Union . "
     ]
    }
   ],
   "source": [
    "raw1_3 = 'Margarida Marques, rapporteur of the opinion of the Committee on Budgets. – Madam President, the European Semester has been seen as a bureaucratic exercise, lacking transparency and ignoring the new realities and challenges of the Union. The latest crisis response instruments and the outcome of the agreements with Parliament are a first step towards, firstly, to reinvigorate the European Semester and, secondly, to reform it into a real instrument of economic governance. The Recovery and Resilience Mechanism has shown the importance of coordinating economic and social policies. The European Parliament, with responsibility for defining the EU general principles and objectives, leaves the political choices to be made to the Member States to achieve these objectives, with an open and inclusive dialogue between European institutions and national institutions. Finally, Parliament gives the Semester more transparency and democratic legitimacy. It makes it possible to ensure supervision of the fulfillment of priorities of the Union and political objectives, but also to control the use of the funds of the Mechanism guaranteed by the budget of the Union.'\n",
    "tokens1_3 = word_tokenize(raw1_3)\n",
    "for word in tokens1_3:\n",
    "    print(word, end=' ')"
   ]
  },
  {
   "cell_type": "code",
   "execution_count": 6,
   "metadata": {},
   "outputs": [
    {
     "name": "stdout",
     "output_type": "stream",
     "text": [
      "Nils Ušakovs , rapporteur for the opinion of the Committee on Budgets . – Madam President , the success or failure of the recovery and resilience facility ( RRF ) can not be measured in the square kilometres of roads repaired , cubic metres of buildings renovated , or the number of projects packed with the words ‘ digital ’ or ‘ environmental ’ , as is already done by a number of Member State governments . It is the ultimate priority of the whole continent that the RRF is used to create the new green , circular , digital economy , targeting , in parallel , poverty reduction , gender equality , social justice , social cohesion and upward convergence . That ’ s why the European Semester has become more important than ever before , bringing together Next Generation EU ( NGEU ) with the RRF and the long—term goals of the European continent . And that ’ s why the European Parliament itself should be fully involved in the European Semester process , including the country—specific recommendations . It ’ s not about shaping the European Semester ; it ’ s about shaping the future of our continent . "
     ]
    }
   ],
   "source": [
    "raw1_4 = 'Nils Ušakovs, rapporteur for the opinion of the Committee on Budgets. – Madam President, the success or failure of the recovery and resilience facility (RRF) cannot be measured in the square kilometres of roads repaired, cubic metres of buildings renovated, or the number of projects packed with the words ‘digital’ or ‘environmental’, as is already done by a number of Member State governments. It is the ultimate priority of the whole continent that the RRF is used to create the new green, circular, digital economy, targeting, in parallel, poverty reduction, gender equality, social justice, social cohesion and upward convergence. That’s why the European Semester has become more important than ever before, bringing together Next Generation EU (NGEU) with the RRF and the long—term goals of the European continent. And that’s why the European Parliament itself should be fully involved in the European Semester process, including the country—specific recommendations. It’s not about shaping the European Semester; it’s about shaping the future of our continent.'\n",
    "tokens1_4 = word_tokenize(raw1_4)\n",
    "for word in tokens1_4:\n",
    "    print(word, end=' ')"
   ]
  },
  {
   "cell_type": "code",
   "execution_count": 7,
   "metadata": {},
   "outputs": [
    {
     "name": "stdout",
     "output_type": "stream",
     "text": [
      "Ana Paula Zacarias , President-in-Office of the Council . – Madam President , honourable Members , rapporteurs , Vice-President Dombrovskis , Commissioner Schmit , thank you for this opportunity to discuss the European Semester today , a topic to which the Council attaches a great deal of importance . As the pandemic continues to pose major challenges across Member States , protecting our citizens , their health , their jobs , is essential . In this uncertain environment , policies must remain supportive of the economy . And we have a unique opportunity to work together to rebuild a better European economy , a greener , more innovative , sustainable and inclusive economy . The European Semester remains a very useful framework to address these challenges . The Council has recognised the need to temporarily adapt the semester to the recovery and resilience facility . But we want to build up on the established semester ’ s governance and processes as much as possible . To obtain financing under the facility Member States are currently working on their recovery and resilience plans , which will include their reform and investment agenda , in line with the four dimensions of environmental sustainability , productivity , fairness and macroeconomic stability . And with the flagships identified in the annual sustainable growth survey . They should also centre on the green and digital transitions and also consistent with the country specific recommendations for 2019-2020 . The Portuguese Presidency is fully committed to this process . We hope to arrive at the end of our semester with the national plans duly approved , as well as with the own resources decision ratified by Member States . We would like very much to organise in Lisbon on 21 June , a recovery summit , a conference shaping Europe ’ s growth to discuss the outlook of the current economic and financial situation and what is the economy post-COVID . Now it ’ s time to deliver . It ’ s time to deliver on sustainable growth , on job creation , on high quality education , social protection and inclusion and environmental sustainability . And we hope that the social summit in Porto in May will provide an opportunity to confirm at the highest level the commitment and ambition to put people first in Europe ’ s recovery and beyond . There are many challenges and you have identified a number of them in this important report today . You have also done so recently in the discussions with the national parliaments , persistent and increasing inequalities remain between and within Member States and regions . In fact , they have been exacerbated by the impact of the pandemic . These widening inequalities increased poverty and social exclusion . Therefore , robust labour market and social protection measures need to be taken to mitigate the social and economic impact of the crisis . And this requires coordinated efforts . We also need a proper balance between boosting investment and implementing sustainable structural reforms to support the recovery . Strengthening the single market is also key . Supporting growth with smart fiscal policies while paying close attention to the long-term stability of our budgets and tax is also essential . And therefore we welcome the European Commission communication adopted on 3 March , providing Member States with broad guidance on the conduct of fiscal policy in the period ahead . It is important , as suggested in the communication , to relaunch the public debate on the whole economic governance framework once the recovery takes hold . Madam President , honourable Members , promoting recovery , cohesion and European values is a priority for the Portuguese Presidency . The cohesion policy as the EU main investment policy in social and economic and territorial development has demonstrated its effectiveness over the years , and in reducing all the inequalities and different regional differences . The recovery , combined with the digital and green transitions , need to take place in a societal , just and fair manner . And the European pillar of social rights and the action plan that has just been presented should continue to serve as a compass towards better working and living conditions in Europe , steering the coordination of employment and social policies at Union level . And to achieve this , it is also essential to ensure a meaningful dialogue . The involvement of local and regional authorities , civil partners , civil society , social partners , youth organisations and other relevant stakeholders in the semester in designing and examining the recovery and resiliency plans and the national reform programmes . Only by working closely together to consistently push for an inclusive recovery will we be successful in creating tangible benefits for all citizens of Europe . "
     ]
    }
   ],
   "source": [
    "raw1_5 = 'Ana Paula Zacarias, President-in-Office of the Council. – Madam President, honourable Members, rapporteurs, Vice-President Dombrovskis, Commissioner Schmit, thank you for this opportunity to discuss the European Semester today, a topic to which the Council attaches a great deal of importance. As the pandemic continues to pose major challenges across Member States, protecting our citizens, their health, their jobs, is essential. In this uncertain environment, policies must remain supportive of the economy. And we have a unique opportunity to work together to rebuild a better European economy, a greener, more innovative, sustainable and inclusive economy. The European Semester remains a very useful framework to address these challenges. The Council has recognised the need to temporarily adapt the semester to the recovery and resilience facility. But we want to build up on the established semester’s governance and processes as much as possible. To obtain financing under the facility Member States are currently working on their recovery and resilience plans, which will include their reform and investment agenda, in line with the four dimensions of environmental sustainability, productivity, fairness and macroeconomic stability. And with the flagships identified in the annual sustainable growth survey. They should also centre on the green and digital transitions and also consistent with the country specific recommendations for 2019-2020. The Portuguese Presidency is fully committed to this process. We hope to arrive at the end of our semester with the national plans duly approved, as well as with the own resources decision ratified by Member States. We would like very much to organise in Lisbon on 21 June, a recovery summit, a conference shaping Europe’s growth to discuss the outlook of the current economic and financial situation and what is the economy post-COVID. Now it’s time to deliver. It’s time to deliver on sustainable growth, on job creation, on high quality education, social protection and inclusion and environmental sustainability. And we hope that the social summit in Porto in May will provide an opportunity to confirm at the highest level the commitment and ambition to put people first in Europe’s recovery and beyond. There are many challenges and you have identified a number of them in this important report today. You have also done so recently in the discussions with the national parliaments, persistent and increasing inequalities remain between and within Member States and regions. In fact, they have been exacerbated by the impact of the pandemic. These widening inequalities increased poverty and social exclusion. Therefore, robust labour market and social protection measures need to be taken to mitigate the social and economic impact of the crisis. And this requires coordinated efforts. We also need a proper balance between boosting investment and implementing sustainable structural reforms to support the recovery. Strengthening the single market is also key. Supporting growth with smart fiscal policies while paying close attention to the long-term stability of our budgets and tax is also essential. And therefore we welcome the European Commission communication adopted on 3 March, providing Member States with broad guidance on the conduct of fiscal policy in the period ahead. It is important, as suggested in the communication, to relaunch the public debate on the whole economic governance framework once the recovery takes hold. Madam President, honourable Members, promoting recovery, cohesion and European values is a priority for the Portuguese Presidency. The cohesion policy as the EU main investment policy in social and economic and territorial development has demonstrated its effectiveness over the years, and in reducing all the inequalities and different regional differences. The recovery, combined with the digital and green transitions, need to take place in a societal, just and fair manner. And the European pillar of social rights and the action plan that has just been presented should continue to serve as a compass towards better working and living conditions in Europe, steering the coordination of employment and social policies at Union level. And to achieve this, it is also essential to ensure a meaningful dialogue. The involvement of local and regional authorities, civil partners, civil society, social partners, youth organisations and other relevant stakeholders in the semester in designing and examining the recovery and resiliency plans and the national reform programmes. Only by working closely together to consistently push for an inclusive recovery will we be successful in creating tangible benefits for all citizens of Europe.'\n",
    "tokens1_5 = word_tokenize(raw1_5)\n",
    "for word in tokens1_5:\n",
    "    print(word, end=' ')"
   ]
  },
  {
   "cell_type": "code",
   "execution_count": 8,
   "metadata": {},
   "outputs": [
    {
     "name": "stdout",
     "output_type": "stream",
     "text": [
      "Valdis Dombrovskis , Executive Vice-President of the Commission . – Madam President , it is a pleasure to be here at today ’ s debate on the European Semester . It comes at a timely moment as we are working hard to prepare for Europe ’ s recovery , so I would like to congratulate the rapporteurs on their reports on the annual sustainable growth strategy and the social and employment aspects thereof . It demonstrates the broad alignment of positive views for our coordinated policy response to the pandemic . These have been exceptional measures to deal with an exceptional situation . We acted with great speed so that Member States could do everything possible to mitigate the socio—economic impact of the pandemic . The unprecedented circumstances required us to adjust normal procedures – and temporarily adjust the European Semester too . It remains our primary tool for coordinating economic , fiscal and employment policies . Our joint policy response has been successful . We estimate that fiscal and liquidity measures cushioned the GDP contraction in 2020 by around 4.5 percentage points . This was facilitated by the activation of the general escape clause early on in the crisis , as well as by applying the full flexibility of state aid rules . As we prepare for the post—crisis phase , the EU ’ s massive recovery package , Next Generation EU , and its principal funding instrument , the recovery and resilience facility ( RRF ) , will take centre stage . It is thanks in no small part to the European Parliament that these were put in place in record time . With the RRF , the watchword for the coming months will be ‘ implementation ’ . What is important now is to get high—quality national recovery and resilience plans prepared and rolled out quickly . These must be ambitious and contain an appropriate balance of reforms and investments . They need to address all , or a significant subset of , the challenges identified in the country—specific recommendations , and they should have a strong focus on the green and digital transitions . As the report says , the 2021 Semester exercise offers a good opportunity to improve national ownership , since Member States are developing tailor—made plans to respond to their different needs . Here , the European Parliament will play a major role and I will be addressing the House on this issue tomorrow . We know that we still have difficult months ahead , but there are grounds for cautious optimism . It ’ s still , of course , subject to high uncertainty , but growth should resume in the spring and gather pace in the second half of the year . But we should also look further ahead still in terms of our coordinated fiscal policy response . This was the aim of the updated fiscal approach that the Commission presented last week . What is paramount is that fiscal support measures remain in place as long as needed . For this year and next , the overall fiscal stance should remain positive . Here , we can expect a substantial impulse from RRF funding – and this without adding to national debts and deficits . Regarding the general escape clause , the decision on whether to continue or deactivate it should depend on an overall assessment of the economy . The key criterion should be whether economic output has reached its pre—crisis level of 2019 . According to our current forecast , GDP should reach its 2019 level towards the middle of 2022 . Based on this , the general escape clause would remain active in 2022 , and no longer in 2023 . Then , at the appropriate moment , Member States should resume fiscal policies aimed at achieving prudent medium—term fiscal positions . They will find it easier to do this if their current support measures are temporary and targeted , thereby avoiding a permanent burden on public finances . Since the crisis has widened divergences and increased inequalities , we also need to improve convergence , resilience and ensure inclusive growth . Our labour market and social policies will play an important role in this respect , and Commissioner Schmit will now address these points . "
     ]
    }
   ],
   "source": [
    "raw1_6 = 'Valdis Dombrovskis, Executive Vice-President of the Commission. – Madam President, it is a pleasure to be here at today’s debate on the European Semester. It comes at a timely moment as we are working hard to prepare for Europe’s recovery, so I would like to congratulate the rapporteurs on their reports on the annual sustainable growth strategy and the social and employment aspects thereof. It demonstrates the broad alignment of positive views for our coordinated policy response to the pandemic. These have been exceptional measures to deal with an exceptional situation. We acted with great speed so that Member States could do everything possible to mitigate the socio—economic impact of the pandemic. The unprecedented circumstances required us to adjust normal procedures – and temporarily adjust the European Semester too. It remains our primary tool for coordinating economic, fiscal and employment policies. Our joint policy response has been successful. We estimate that fiscal and liquidity measures cushioned the GDP contraction in 2020 by around 4.5 percentage points. This was facilitated by the activation of the general escape clause early on in the crisis, as well as by applying the full flexibility of state aid rules. As we prepare for the post—crisis phase, the EU’s massive recovery package, Next Generation EU, and its principal funding instrument, the recovery and resilience facility (RRF), will take centre stage. It is thanks in no small part to the European Parliament that these were put in place in record time. With the RRF, the watchword for the coming months will be ‘implementation’. What is important now is to get high—quality national recovery and resilience plans prepared and rolled out quickly. These must be ambitious and contain an appropriate balance of reforms and investments. They need to address all, or a significant subset of, the challenges identified in the country—specific recommendations, and they should have a strong focus on the green and digital transitions. As the report says, the 2021 Semester exercise offers a good opportunity to improve national ownership, since Member States are developing tailor—made plans to respond to their different needs. Here, the European Parliament will play a major role and I will be addressing the House on this issue tomorrow. We know that we still have difficult months ahead, but there are grounds for cautious optimism. It’s still, of course, subject to high uncertainty, but growth should resume in the spring and gather pace in the second half of the year. But we should also look further ahead still in terms of our coordinated fiscal policy response. This was the aim of the updated fiscal approach that the Commission presented last week. What is paramount is that fiscal support measures remain in place as long as needed. For this year and next, the overall fiscal stance should remain positive. Here, we can expect a substantial impulse from RRF funding – and this without adding to national debts and deficits. Regarding the general escape clause, the decision on whether to continue or deactivate it should depend on an overall assessment of the economy. The key criterion should be whether economic output has reached its pre—crisis level of 2019. According to our current forecast, GDP should reach its 2019 level towards the middle of 2022. Based on this, the general escape clause would remain active in 2022, and no longer in 2023. Then, at the appropriate moment, Member States should resume fiscal policies aimed at achieving prudent medium—term fiscal positions. They will find it easier to do this if their current support measures are temporary and targeted, thereby avoiding a permanent burden on public finances. Since the crisis has widened divergences and increased inequalities, we also need to improve convergence, resilience and ensure inclusive growth. Our labour market and social policies will play an important role in this respect, and Commissioner Schmit will now address these points.'\n",
    "tokens1_6 = word_tokenize(raw1_6)\n",
    "for word in tokens1_6:\n",
    "    print(word, end=' ')"
   ]
  },
  {
   "cell_type": "code",
   "execution_count": 9,
   "metadata": {},
   "outputs": [
    {
     "name": "stdout",
     "output_type": "stream",
     "text": [
      "Nicolas Schmit , Member of the Commission . – Madam President , this year ’ s joint debate on the European Semester comes at a very crucial moment . I would like to thank the Committee on Employment and Social Affairs and in particular the rapporteur , Lina Gálvez Muñoz , for the very comprehensive report and her presentation . Parliament has underlined the importance of employment and social aspects in overcoming the crisis and putting us on the path towards renewed inclusive growth . It calls to give fairness and social rights the same importance as macroeconomic objectives and the social and economic model that improves the well—being of people in the EU . The COVID—19 crisis has significantly increased the vulnerability of our economies and societies . Its socio—economic consequences could leave deep and long—lasting scars , in particular on our young generations . It is imperative to swiftly implement policies and measures leading to a fair , inclusive and sustainable recovery . Social Europe must be at the heart of the recovery , and without a strong social dimension , there will be no lasting and sustainable recovery . We dispose of powerful tools – the renewed multiannual financial framework , Next Generation EU and the Recovery and Resilience Facility ( RRF ) – to put the European economy back on track and boost reforms and investments , while fully exploiting the potential of the green and digital transitions . The European pillar of social rights action plan , adopted last week , embeds social progress in our recovery strategy and strengthens the social dimension across all policies of the Union . Our efforts towards a sustainable and solid recovery need to encompass all dimensions . Social aspects must be on an equal footing with the economic , environmental and digital dimensions . The implementation of the Recovery and Resilience Facility is embedded in the Semester , and the latter will continue to play its role as the main framework to coordinate and monitor the Member States ’ economic , employment and social policies , based on the national recovery and resilience plans . The level of ambition of reforms and investments covered by the national plans should fully match the employment , skills , education and social challenges highlighted in the country—specific recommendations . The European pillar of social rights should guide the national recovery and resilience plans of all Member States , thereby enhancing economic , social and territorial cohesion and supporting upward convergence within the Union . The joint employment report , which has been adopted by the Council , helps Member States identify priority areas for reforms and investment to be included in their recovery and resilience plans . It is key to invest in active labour market policies and employment services , to adapt working environments and ensure adequate working conditions , to tackle labour market segmentation and atypical contracts , to ensure quality and inclusive education , to promote skilling , upskilling and reskilling , to boost employability and guarantee gender equality through equal wages and opportunities . The employment guidelines have been aligned to reflect the COVID—19 crisis and take into account the green and digital transitions . They remain fully relevant under the current circumstances . We need to avert an unemployment crisis and further exacerbation of poverty and inequalities . The Commission wants to put a strong focus on quality job creation , especially for young people and women . Well—designed and coherent active labour market policies and effective and inclusive skills policies are key – not only to tackling the consequences of the COVID—19 crisis , but also in accompanying the green and digital transitions to ease job-to-job transitions . I would like to highlight an important initiative adopted last week by the Commission , together with the pillar of social rights action plan : the Commission recommendation on effective active support to employment following the COVID—19 crisis , called EASE . This recommendation provides guidance to Member States with a view to accompanying the labour market transition from declining to expanding sectors . It is based on the policy package and covers hiring and transition incentives , upskilling and reskilling , and enhanced support by employment services . It indicates how Member States could use EU funds , including those available under the RRF , to support EASE policies . We encourage Member States to design EASE policies and include them in their national recovery and resilience plans . We need to combine our efforts now to turn our recovery strategy into a unique opportunity to bounce back better and prepare a better future for our young generations . "
     ]
    }
   ],
   "source": [
    "raw1_7 = 'Nicolas Schmit, Member of the Commission. – Madam President, this year’s joint debate on the European Semester comes at a very crucial moment. I would like to thank the Committee on Employment and Social Affairs and in particular the rapporteur, Lina Gálvez Muñoz, for the very comprehensive report and her presentation. Parliament has underlined the importance of employment and social aspects in overcoming the crisis and putting us on the path towards renewed inclusive growth. It calls to give fairness and social rights the same importance as macroeconomic objectives and the social and economic model that improves the well—being of people in the EU. The COVID—19 crisis has significantly increased the vulnerability of our economies and societies. Its socio—economic consequences could leave deep and long—lasting scars, in particular on our young generations. It is imperative to swiftly implement policies and measures leading to a fair, inclusive and sustainable recovery. Social Europe must be at the heart of the recovery, and without a strong social dimension, there will be no lasting and sustainable recovery. We dispose of powerful tools – the renewed multiannual financial framework, Next Generation EU and the Recovery and Resilience Facility (RRF) – to put the European economy back on track and boost reforms and investments, while fully exploiting the potential of the green and digital transitions. The European pillar of social rights action plan, adopted last week, embeds social progress in our recovery strategy and strengthens the social dimension across all policies of the Union. Our efforts towards a sustainable and solid recovery need to encompass all dimensions. Social aspects must be on an equal footing with the economic, environmental and digital dimensions. The implementation of the Recovery and Resilience Facility is embedded in the Semester, and the latter will continue to play its role as the main framework to coordinate and monitor the Member States’ economic, employment and social policies, based on the national recovery and resilience plans. The level of ambition of reforms and investments covered by the national plans should fully match the employment, skills, education and social challenges highlighted in the country—specific recommendations. The European pillar of social rights should guide the national recovery and resilience plans of all Member States, thereby enhancing economic, social and territorial cohesion and supporting upward convergence within the Union. The joint employment report, which has been adopted by the Council, helps Member States identify priority areas for reforms and investment to be included in their recovery and resilience plans. It is key to invest in active labour market policies and employment services, to adapt working environments and ensure adequate working conditions, to tackle labour market segmentation and atypical contracts, to ensure quality and inclusive education, to promote skilling, upskilling and reskilling, to boost employability and guarantee gender equality through equal wages and opportunities. The employment guidelines have been aligned to reflect the COVID—19 crisis and take into account the green and digital transitions. They remain fully relevant under the current circumstances. We need to avert an unemployment crisis and further exacerbation of poverty and inequalities. The Commission wants to put a strong focus on quality job creation, especially for young people and women. Well—designed and coherent active labour market policies and effective and inclusive skills policies are key – not only to tackling the consequences of the COVID—19 crisis, but also in accompanying the green and digital transitions to ease job-to-job transitions. I would like to highlight an important initiative adopted last week by the Commission, together with the pillar of social rights action plan: the Commission recommendation on effective active support to employment following the COVID—19 crisis, called EASE. This recommendation provides guidance to Member States with a view to accompanying the labour market transition from declining to expanding sectors. It is based on the policy package and covers hiring and transition incentives, upskilling and reskilling, and enhanced support by employment services. It indicates how Member States could use EU funds, including those available under the RRF, to support EASE policies. We encourage Member States to design EASE policies and include them in their national recovery and resilience plans. We need to combine our efforts now to turn our recovery strategy into a unique opportunity to bounce back better and prepare a better future for our young generations.'\n",
    "tokens1_7 = word_tokenize(raw1_7)\n",
    "for word in tokens1_7:\n",
    "    print(word, end=' ')"
   ]
  },
  {
   "cell_type": "code",
   "execution_count": 10,
   "metadata": {},
   "outputs": [
    {
     "name": "stdout",
     "output_type": "stream",
     "text": [
      "Pascal Canfin , rapporteur of the opinion of the Committee on the Environment , Public Health and Food Safety . – Madam President , Commissioners , Madam Minister , ladies and gentlemen , on behalf of the Committee on the Environment , Public Health and Food Safety of the European Parliament , I would like to welcome the work on the European Semester that we are doing and hopefully adopting today and tomorrow . On the one hand , last summer and this winter , we validated the European recovery plan which is judged by the United Nations as the second greenest in the world . And now we are creating a new consensus to further connect the fight against climate change and macroeconomic policies . For the first time , in the report that we are , I hope , going to adopt tomorrow , we are connecting a climate indicator in the European Semester to ensure that the monitoring of economic policies which is absolutely necessary , that the return later to a budgetary seriousness that is necessary , are not made against the seriousness of the climate , but on the contrary , allow the European Commission to follow in detail the progress of the European green pact , the progress of massive investment in green technologies , in low-carbon solutions in the Member States . It is new and it allows us not to make the mistakes of the past , like in 2009 , and we are not reproducing them . It is a big difference and it is the new Brussels consensus that we are creating : not closing the budgetary floodgates too soon and connecting the budgetary issue with the climate issue : it is a great achievement we can rejoice . "
     ]
    }
   ],
   "source": [
    "raw1_8 = ' Pascal Canfin, rapporteur of the opinion of the Committee on the Environment, Public Health and Food Safety. – Madam President, Commissioners, Madam Minister, ladies and gentlemen, on behalf of the Committee on the Environment, Public Health and Food Safety of the European Parliament, I would like to welcome the work on the European Semester that we are doing and hopefully adopting today and tomorrow. On the one hand, last summer and this winter, we validated the European recovery plan which is judged by the United Nations as the second greenest in the world. And now we are creating a new consensus to further connect the fight against climate change and macroeconomic policies. For the first time, in the report that we are, I hope, going to adopt tomorrow, we are connecting a climate indicator in the European Semester to ensure that the monitoring of economic policies which is absolutely necessary, that the return later to a budgetary seriousness that is necessary, are not made against the seriousness of the climate, but on the contrary, allow the European Commission to follow in detail the progress of the European green pact, the progress of massive investment in green technologies, in low-carbon solutions in the Member States. It is new and it allows us not to make the mistakes of the past, like in 2009, and we are not reproducing them. It is a big difference and it is the new Brussels consensus that we are creating: not closing the budgetary floodgates too soon and connecting the budgetary issue with the climate issue: it is a great achievement we can rejoice.'\n",
    "tokens1_8 = word_tokenize(raw1_8)\n",
    "for word in tokens1_8:\n",
    "    print(word, end=' ')"
   ]
  },
  {
   "cell_type": "code",
   "execution_count": 11,
   "metadata": {},
   "outputs": [
    {
     "name": "stdout",
     "output_type": "stream",
     "text": [
      "Victor Negrescu , rapporteur for the opinion of the Committee on Culture and Education . – Madam President , the European Semester process should be seen as a key EU policy tool and should be expanded to integrate better education , youth , culture and digital policies . Therefore , the Committee on Culture and Education ( CULT ) urges the Commission and Member States to deliver on the European pillar of social rights by offering inclusive , accessible and high quality education and comprehensive lifelong learning and training for all . In this context , the CULT Committee called for a 10 % ear marking for education in the recovery and resilience plans . We believe that the European Semester format should also integrate digital education as severe discrepancies still exist across Europe . Macroeconomic efforts should also address the risk of poverty , especially for young people and Member States should dedicate at least 2 % of the recovery funds to the cultural and creative sectors , 25 % for social investment and 20 % for digital transformation . We also ask the Commission to closely monitor the Member States ’ progress report on the implementation of the recovery plans within the European Semester exercise to make sure they respect all these objectives . "
     ]
    }
   ],
   "source": [
    "raw1_9 = ' Victor Negrescu, rapporteur for the opinion of the Committee on Culture and Education. – Madam President, the European Semester process should be seen as a key EU policy tool and should be expanded to integrate better education, youth, culture and digital policies. Therefore, the Committee on Culture and Education (CULT) urges the Commission and Member States to deliver on the European pillar of social rights by offering inclusive, accessible and high quality education and comprehensive lifelong learning and training for all. In this context, the CULT Committee called for a 10% ear marking for education in the recovery and resilience plans. We believe that the European Semester format should also integrate digital education as severe discrepancies still exist across Europe. Macroeconomic efforts should also address the risk of poverty, especially for young people and Member States should dedicate at least 2% of the recovery funds to the cultural and creative sectors, 25% for social investment and 20% for digital transformation. We also ask the Commission to closely monitor the Member States’ progress report on the implementation of the recovery plans within the European Semester exercise to make sure they respect all these objectives.'\n",
    "tokens1_9 = word_tokenize(raw1_9)\n",
    "for word in tokens1_9:\n",
    "    print(word, end=' ')"
   ]
  },
  {
   "cell_type": "code",
   "execution_count": 12,
   "metadata": {},
   "outputs": [
    {
     "name": "stdout",
     "output_type": "stream",
     "text": [
      "Gheorghe Falcă , on behalf of the PPE Group . - Madam President , I am honored to have worked on this report - the European Semester - and I thank the rapporteurs for their coordination and collaboration . The COVID-19 crisis has put an end to the upward trend in the labor market , creating economic challenges and social effects around the world . That is why I would like to welcome the economic and social response of the European Union , which , through the SURE instrument , helps Member States to support technically unemployed workers and , through the recovery and resilience mechanism , gives hope to the European economy in a recovery . fast . We can therefore say that the European Union has learned its lesson after the 2008 economic crisis and acted in a timely and concrete manner , so that the European Semester of this year is of particular importance for linking the reform agendas of the Member States in order to contribute effective in the dual ecological and digital transition with effects on employment , lifelong learning and improved access to social security services . With this report , we called on the Member States to maximize their efforts to invest in education , increase the quality of health services and prepare workers for the new challenges . Member States must also , through internal reforms , ensure a favorable investment climate , support SMEs in this transition and ensure that SMEs have access to public and private financing . Through a joint effort of the European institutions and the Member States , we bring hope to European citizens . "
     ]
    }
   ],
   "source": [
    "raw1_10 = 'Gheorghe Falcă, on behalf of the PPE Group. - Madam President, I am honored to have worked on this report - the European Semester - and I thank the rapporteurs for their coordination and collaboration. The COVID-19 crisis has put an end to the upward trend in the labor market, creating economic challenges and social effects around the world. That is why I would like to welcome the economic and social response of the European Union, which, through the SURE instrument, helps Member States to support technically unemployed workers and, through the recovery and resilience mechanism, gives hope to the European economy in a recovery. fast. We can therefore say that the European Union has learned its lesson after the 2008 economic crisis and acted in a timely and concrete manner, so that the European Semester of this year is of particular importance for linking the reform agendas of the Member States in order to contribute effective in the dual ecological and digital transition with effects on employment, lifelong learning and improved access to social security services. With this report, we called on the Member States to maximize their efforts to invest in education, increase the quality of health services and prepare workers for the new challenges. Member States must also, through internal reforms, ensure a favorable investment climate, support SMEs in this transition and ensure that SMEs have access to public and private financing. Through a joint effort of the European institutions and the Member States, we bring hope to European citizens.'\n",
    "tokens1_10 = word_tokenize(raw1_10)\n",
    "for word in tokens1_10:\n",
    "    print(word, end=' ')"
   ]
  },
  {
   "cell_type": "code",
   "execution_count": 13,
   "metadata": {},
   "outputs": [
    {
     "name": "stdout",
     "output_type": "stream",
     "text": [
      "Joachim Schuster , on behalf of the S & D Group . – Madam President , dear colleagues ! The negotiations on the report of the Economic Committee were quite tough . This is not a wonder . The political parties are pursuing different or contradictory concepts of economic policy . Nevertheless , we managed to present a joint report . That is important because we need a voice from Parliament in the debates about the future direction of economic and financial policy . These issues are far too important to be left to the Commission and the Council alone . I want to highlight three common points in particular . Firstly , we agree that the Stability and Growth Pact needs to be reviewed . And depending on the outcome of the review , we are ready to adjust the rulebook . This will be urgently needed as post-pandemic we will have a new debt reality and the previous tolerable debt target of 60 % of GDP will no longer be achievable . But an adjustment can of course only take place within the framework of a sustainable financial policy that ensures that government debt remains sustainable . Secondly , we agree that public and private investments must be increased , especially in order to successfully shape the climate-neutral and digital transformation . In order to make this possible , we may also have to change our fiscal policy framework . And thirdly , together we are making it clear that economic policy must of course contribute to achieving our social and ecological goals . And it must not under any circumstances stand in the way of these goals . The list of common agreements could be extended . Overall , I am convinced that the report provides a good basis for further discussions about future EU economic policy . "
     ]
    }
   ],
   "source": [
    "raw1_11 = 'Joachim Schuster, on behalf of the S&D Group. – Madam President, dear colleagues! The negotiations on the report of the Economic Committee were quite tough. This is not a wonder. The political parties are pursuing different or contradictory concepts of economic policy. Nevertheless, we managed to present a joint report. That is important because we need a voice from Parliament in the debates about the future direction of economic and financial policy. These issues are far too important to be left to the Commission and the Council alone. I want to highlight three common points in particular. Firstly, we agree that the Stability and Growth Pact needs to be reviewed. And depending on the outcome of the review, we are ready to adjust the rulebook. This will be urgently needed as post-pandemic we will have a new debt reality and the previous tolerable debt target of 60% of GDP will no longer be achievable. But an adjustment can of course only take place within the framework of a sustainable financial policy that ensures that government debt remains sustainable. Secondly, we agree that public and private investments must be increased, especially in order to successfully shape the climate-neutral and digital transformation. In order to make this possible, we may also have to change our fiscal policy framework. And thirdly, together we are making it clear that economic policy must of course contribute to achieving our social and ecological goals. And it must not under any circumstances stand in the way of these goals. The list of common agreements could be extended. Overall, I am convinced that the report provides a good basis for further discussions about future EU economic policy.'\n",
    "tokens1_11 = word_tokenize(raw1_11)\n",
    "for word in tokens1_11:\n",
    "    print(word, end=' ')"
   ]
  },
  {
   "cell_type": "code",
   "execution_count": 14,
   "metadata": {},
   "outputs": [
    {
     "name": "stdout",
     "output_type": "stream",
     "text": [
      "Ivars Ijabs , on behalf of the Renew Group . – Madam President , the European Semester is the most important coordination mechanism of the European economic policies , born out of necessity in 2011 . It must now be developed and fine-tuned to meet the challenges of the future . The COVID crisis has clearly shown that there is an increased demand for such coordination , particularly in moments that clearly go beyond business as usual . Therefore , the Semester has to be adapted . It has to keep its macroeconomic core , fiscal discipline , macroeconomic stability and healthy public debt levels , but also address other challenges - social , environmental and technological . Our work in the European Parliament must be part of that development to make the Semester move forwards and not backwards . Therefore , our priorities in this year ’ s report were , first of all , to make the European economy more resilient . That is why we emphasised the link between the recovery and resilience facility and this year ’ s European Semester cycle . Socially and environmentally balanced reforms , facilitated by the RRF , in all Member States have to make European economies fit for dealing with future challenges . Second , this is to enable the green transition as our new growth strategy . Climate policy and economic policies have to be integrated in order to achieve the goals of the European Green Deal . Third , is a promotion of research and innovation to boost European competitiveness in the global world . Macroeconomic policies in all Member States must be designed in order to facilitate both private and public investment in future technologies , digital , artificial intelligence , quantum computing and so forth . The current report is , of course , the result of a broad compromise so some issues have been covered more and some less . For some , it might seem too much to the left , and for some too much to the right . However , it is necessary for the European Parliament to be capable of speaking with one voice on such important issues as macroeconomic governance and reforms in the Member State . Our citizens in all the European countries clearly expect that from us and we can ’ t let them down . "
     ]
    }
   ],
   "source": [
    "raw1_12 = 'Ivars Ijabs, on behalf of the Renew Group. – Madam President, the European Semester is the most important coordination mechanism of the European economic policies, born out of necessity in 2011. It must now be developed and fine-tuned to meet the challenges of the future. The COVID crisis has clearly shown that there is an increased demand for such coordination, particularly in moments that clearly go beyond business as usual. Therefore, the Semester has to be adapted. It has to keep its macroeconomic core, fiscal discipline, macroeconomic stability and healthy public debt levels, but also address other challenges - social, environmental and technological. Our work in the European Parliament must be part of that development to make the Semester move forwards and not backwards. Therefore, our priorities in this year’s report were, first of all, to make the European economy more resilient. That is why we emphasised the link between the recovery and resilience facility and this year’s European Semester cycle. Socially and environmentally balanced reforms, facilitated by the RRF, in all Member States have to make European economies fit for dealing with future challenges. Second, this is to enable the green transition as our new growth strategy. Climate policy and economic policies have to be integrated in order to achieve the goals of the European Green Deal. Third, is a promotion of research and innovation to boost European competitiveness in the global world. Macroeconomic policies in all Member States must be designed in order to facilitate both private and public investment in future technologies, digital, artificial intelligence, quantum computing and so forth. The current report is, of course, the result of a broad compromise so some issues have been covered more and some less. For some, it might seem too much to the left, and for some too much to the right. However, it is necessary for the European Parliament to be capable of speaking with one voice on such important issues as macroeconomic governance and reforms in the Member State. Our citizens in all the European countries clearly expect that from us and we can’t let them down.'\n",
    "tokens1_12 = word_tokenize(raw1_12)\n",
    "for word in tokens1_12:\n",
    "    print(word, end=' ')"
   ]
  },
  {
   "cell_type": "code",
   "execution_count": 15,
   "metadata": {},
   "outputs": [
    {
     "name": "stdout",
     "output_type": "stream",
     "text": [
      "Antonio Maria Rinaldi , on behalf of the ID group . - Madam President , ladies and gentlemen , Mr Vice-President Dombrovskis , Commissioner Schmit , I am amazed but also pleased that the European institutions have finally admitted the need to review the economic governance of the Union and in particular the Stability and Growth Pact . These issues have always been at the basis of the political action of my party , the Lega , attracting us fierce criticism on the verge of ghettoisation , with a specious and undemocratic health cordon from those who today , without consistency , share our same requests for review . Our economists , Senator Alberto Bagnai , the Honorable Claudio Borghi Aquilini and the independents , Professor Paolo Savona and President Luciano Barra Caracciolo , have always worked hard to support the revision of these obsolete and counterproductive rules . A pandemic was needed to reach these conclusions , given that the same rules of the Stability Pact , the Six Pack , the Two Pack and the Fiscal Compact have , in a Rossinian crescendo , negatively affected the recovery of the eurozone states even more . after the 2008 crisis ? What would have happened if there had not been the monetary stimuli undertaken by the ECB , such as QE and the subsequent PEPP , which attracted initial criticism of Draghi , but which at least partially compensated for bad economic governance ? Lastly , the dossier we are about to vote on would agree on the introduction of a climate indicator only if green investments were separated from the calculation of the deficit . "
     ]
    }
   ],
   "source": [
    "raw1_13 = 'Antonio Maria Rinaldi, on behalf of the ID group. - Madam President, ladies and gentlemen, Mr Vice-President Dombrovskis, Commissioner Schmit, I am amazed but also pleased that the European institutions have finally admitted the need to review the economic governance of the Union and in particular the Stability and Growth Pact. These issues have always been at the basis of the political action of my party, the Lega, attracting us fierce criticism on the verge of ghettoisation, with a specious and undemocratic health cordon from those who today, without consistency, share our same requests for review. Our economists, Senator Alberto Bagnai, the Honorable Claudio Borghi Aquilini and the independents, Professor Paolo Savona and President Luciano Barra Caracciolo, have always worked hard to support the revision of these obsolete and counterproductive rules. A pandemic was needed to reach these conclusions, given that the same rules of the Stability Pact, the Six Pack, the Two Pack and the Fiscal Compact have, in a Rossinian crescendo, negatively affected the recovery of the eurozone states even more. after the 2008 crisis? What would have happened if there had not been the monetary stimuli undertaken by the ECB, such as QE and the subsequent PEPP, which attracted initial criticism of Draghi, but which at least partially compensated for bad economic governance? Lastly, the dossier we are about to vote on would agree on the introduction of a climate indicator only if green investments were separated from the calculation of the deficit.'\n",
    "tokens1_13 = word_tokenize(raw1_13)\n",
    "for word in tokens1_13:\n",
    "    print(word, end=' ')"
   ]
  },
  {
   "cell_type": "code",
   "execution_count": 16,
   "metadata": {},
   "outputs": [
    {
     "name": "stdout",
     "output_type": "stream",
     "text": [
      "Kira Marie Peter-Hansen , on behalf of the Verts/ALE Group . – Madam President , I ’ ve had the pleasure to work on both the Committee on Economic and Monetary Affairs ( ECON ) and the Committee on Employment and Social Affairs ( EMPL ) side of this file , and I would like to thank the rapporteurs and the different colleagues for the work that they ’ ve done on this file . As we see , the scale of social damage resulting from the corona crisis is unprecedented , and now more than ever we need to show Europeans the importance of strong cooperation and solidarity to face collective economic , social and environmental threats that we are facing . We need a just and a green restart and recovery after the corona crisis . And this green and just transition will be supported by the funds of the recovery facilities . But it can only happen if we have the right mechanisms to support it . And the semester process is one very important mechanism , an important focus in the report we are voting on today . The current crisis revealed once again the interdependence between human health , the well-being of our societies and of the natural systems on which they depend . For Europeans to live well within the limits of the planet , our modes of production and consumption need a radical change . A green energy transition should boost this radical change and prepare us for the world that is coming . And to make sure that future generations will have opportunities after this crisis , we need to be in line with the Green Deal . This means , and we ’ ve discussed it so much , that the economic support the recovery facilities would give to the Member States should do no harm on our planet . When we are adding resources to the Member States they should be green and we have to use the funds to prioritise green reforms and reforms supporting a just and green transition , and the national recovery plans are an important part of this . And it has to go hand-in-hand also with a just social recovery , contributing to not only tackling unemployment , but also making sure it leads to the creation of high quality and stable jobs for young people especially . We need to focus on the inclusion of integrating disadvantaged groups and to fight poverty . I am very much looking forward to the future work on this with the Commissioners and with you guys in Parliament . "
     ]
    }
   ],
   "source": [
    "raw1_14 = 'Kira Marie Peter-Hansen, on behalf of the Verts/ALE Group. – Madam President, I’ve had the pleasure to work on both the Committee on Economic and Monetary Affairs (ECON) and the Committee on Employment and Social Affairs (EMPL) side of this file, and I would like to thank the rapporteurs and the different colleagues for the work that they’ve done on this file. As we see, the scale of social damage resulting from the corona crisis is unprecedented, and now more than ever we need to show Europeans the importance of strong cooperation and solidarity to face collective economic, social and environmental threats that we are facing. We need a just and a green restart and recovery after the corona crisis. And this green and just transition will be supported by the funds of the recovery facilities. But it can only happen if we have the right mechanisms to support it. And the semester process is one very important mechanism, an important focus in the report we are voting on today. The current crisis revealed once again the interdependence between human health, the well-being of our societies and of the natural systems on which they depend. For Europeans to live well within the limits of the planet, our modes of production and consumption need a radical change. A green energy transition should boost this radical change and prepare us for the world that is coming. And to make sure that future generations will have opportunities after this crisis, we need to be in line with the Green Deal. This means, and we’ve discussed it so much, that the economic support the recovery facilities would give to the Member States should do no harm on our planet. When we are adding resources to the Member States they should be green and we have to use the funds to prioritise green reforms and reforms supporting a just and green transition, and the national recovery plans are an important part of this. And it has to go hand-in-hand also with a just social recovery, contributing to not only tackling unemployment, but also making sure it leads to the creation of high quality and stable jobs for young people especially. We need to focus on the inclusion of integrating disadvantaged groups and to fight poverty. I am very much looking forward to the future work on this with the Commissioners and with you guys in Parliament.'\n",
    "tokens1_14 = word_tokenize(raw1_14)\n",
    "for word in tokens1_14:\n",
    "    print(word, end=' ')"
   ]
  },
  {
   "cell_type": "code",
   "execution_count": 17,
   "metadata": {},
   "outputs": [
    {
     "name": "stdout",
     "output_type": "stream",
     "text": [
      "Beata Szydło , on behalf of the ECR Group . - Madam President ! Dear Commissioners , Dear Commissioners ! The European Semester of this year has a special dimension and importance , and there are very high expectations of it . Because there is nothing more important now , in a crisis , in a pandemic , than building lasting good jobs than giving people prospects for the future , prospects for rebuilding their businesses , and showing young people opportunities for good and sustainable employment . And it is certainly a very important challenge for all of us . In this regard , the European Semester addressing these issues should be appreciated , for example by referring to the issue of strongly emphasizing the role of digitization . And I can agree with that part of the report . However , of course , as always , the problems lie in the details and we did not prevent ourselves from including in this report also issues that are problematic for me , with which I disagree , which impose further indicators or measures on the Member States and thus violate the principles of subsidiarity and proportionality . Therefore , when we are talking about supporting social policies in the European Semester , we should first and foremost avoid provisions that disturb the order and fall within the competence of the Member States . "
     ]
    }
   ],
   "source": [
    "raw1_15 = 'Beata Szydło, on behalf of the ECR Group. - Madam President! Dear Commissioners, Dear Commissioners! The European Semester of this year has a special dimension and importance, and there are very high expectations of it. Because there is nothing more important now, in a crisis, in a pandemic, than building lasting good jobs than giving people prospects for the future, prospects for rebuilding their businesses, and showing young people opportunities for good and sustainable employment. And it is certainly a very important challenge for all of us. In this regard, the European Semester addressing these issues should be appreciated, for example by referring to the issue of strongly emphasizing the role of digitization. And I can agree with that part of the report. However, of course, as always, the problems lie in the details and we did not prevent ourselves from including in this report also issues that are problematic for me, with which I disagree, which impose further indicators or measures on the Member States and thus violate the principles of subsidiarity and proportionality . Therefore, when we are talking about supporting social policies in the European Semester, we should first and foremost avoid provisions that disturb the order and fall within the competence of the Member States.'\n",
    "tokens1_15 = word_tokenize(raw1_15)\n",
    "for word in tokens1_15:\n",
    "    print(word, end=' ')"
   ]
  },
  {
   "cell_type": "code",
   "execution_count": 18,
   "metadata": {},
   "outputs": [
    {
     "name": "stdout",
     "output_type": "stream",
     "text": [
      "Manon Aubry , on behalf of the group The Left . – Madam President , young people who struggle to eat , the first of exploited chores , dismissed employees , dried up public services , but no , the European Union has nothing to do with it . The priority for you is not to change anything in your old recipes . It must be said that they have worked so well in the face of the pandemic . Caregivers in overwhelmed public hospitals thank your recommendations to cut health care spending ever more . I have searched in vain : your text does not once mention the words health , public service or cohesion . On the other hand , I found 34 times the growth , 9 times the competitiveness and especially 9 times the “ structural reforms ” . Understand behind this jargon the classic European cocktail of liberal measures weakening the state to turn everything into a market . In short , you do not learn from past mistakes . Worse , the arsonists that you are continue to blow on the embers . By linking the European recovery plan and its reforms , you are digging the grave of the social state . The perfect pretext for European leaders to justify their unjust reforms . Emmanuel Macron also took the opportunity to bring his unemployment insurance and pension reforms out of the closet . While the richest hide their money with impunity in tax havens , the poorest clink glasses . If you run as quickly after tax evaders as behind the unemployed and retirees , tax lawyers would already point to Pôle Emploi . For you , the planet may well burn , people may well starve as long as the debt and the deficits do not increase , it is not your problem . But people will not forget . You who are obsessed with numbers , do not be surprised that one day people come to make you pay the bill . "
     ]
    }
   ],
   "source": [
    "raw1_16 = 'Manon Aubry, on behalf of the group The Left. – Madam President, young people who struggle to eat, the first of exploited chores, dismissed employees, dried up public services, but no, the European Union has nothing to do with it. The priority for you is not to change anything in your old recipes. It must be said that they have worked so well in the face of the pandemic. Caregivers in overwhelmed public hospitals thank your recommendations to cut health care spending ever more. I have searched in vain: your text does not once mention the words health, public service or cohesion. On the other hand, I found 34 times the growth, 9 times the competitiveness and especially 9 times the “structural reforms”. Understand behind this jargon the classic European cocktail of liberal measures weakening the state to turn everything into a market. In short, you do not learn from past mistakes. Worse, the arsonists that you are continue to blow on the embers. By linking the European recovery plan and its reforms, you are digging the grave of the social state. The perfect pretext for European leaders to justify their unjust reforms. Emmanuel Macron also took the opportunity to bring his unemployment insurance and pension reforms out of the closet. While the richest hide their money with impunity in tax havens, the poorest clink glasses. If you run as quickly after tax evaders as behind the unemployed and retirees, tax lawyers would already point to Pôle Emploi. For you, the planet may well burn, people may well starve as long as the debt and the deficits do not increase, it is not your problem. But people will not forget. You who are obsessed with numbers, do not be surprised that one day people come to make you pay the bill.'\n",
    "tokens1_16 = word_tokenize(raw1_16)\n",
    "for word in tokens1_16:\n",
    "    print(word, end=' ')"
   ]
  },
  {
   "cell_type": "code",
   "execution_count": 19,
   "metadata": {},
   "outputs": [
    {
     "name": "stdout",
     "output_type": "stream",
     "text": [
      "Enikő Győri ( NI ) . - Madam President . Ladies and gentlemen ! This House has been unable to reach an agreement on economic policy coordination for more than two years , which is a serious testament to poverty at a time of such a severe economic crisis . As head of the Economic Affairs Committee , I have tried to incorporate all meaningful thoughts , come from the left or the right , and I have blocked the efforts that , true to most EP documents , always want to talk about everything . I am convinced that the current text is acceptable , and I hope that everyone will keep their promise , even if this was not the case in the committee vote . Dear socialists , are you not ? It is important for the EP to say that in these extraordinary times , we will not abandon responsible budgetary management either , but will make use of it as long as we need looser rules . That job creation and growth require both public and private investment , but also structural reforms , because sustainability is also a dear left of the Greens , not only an environmental issue but also an economic one . That competitiveness and the single market must be strengthened , because these are not swear words , but guarantees for the survival of the European social model . I ask the Commission to recognize that there are 27 ways in which the crisis is deep and that no national recovery plans can be made . "
     ]
    }
   ],
   "source": [
    "raw1_17 = 'Enikő Győri (NI). - Madam President. Ladies and gentlemen! This House has been unable to reach an agreement on economic policy coordination for more than two years, which is a serious testament to poverty at a time of such a severe economic crisis. As head of the Economic Affairs Committee, I have tried to incorporate all meaningful thoughts, come from the left or the right, and I have blocked the efforts that, true to most EP documents, always want to talk about everything. I am convinced that the current text is acceptable, and I hope that everyone will keep their promise, even if this was not the case in the committee vote. Dear socialists, are you not? It is important for the EP to say that in these extraordinary times, we will not abandon responsible budgetary management either, but will make use of it as long as we need looser rules. That job creation and growth require both public and private investment, but also structural reforms, because sustainability is also a dear left of the Greens, not only an environmental issue but also an economic one. That competitiveness and the single market must be strengthened, because these are not swear words, but guarantees for the survival of the European social model. I ask the Commission to recognize that there are 27 ways in which the crisis is deep and that no national recovery plans can be made.'\n",
    "tokens1_17 = word_tokenize(raw1_17)\n",
    "for word in tokens1_17:\n",
    "    print(word, end=' ')"
   ]
  },
  {
   "cell_type": "code",
   "execution_count": 20,
   "metadata": {},
   "outputs": [
    {
     "name": "stdout",
     "output_type": "stream",
     "text": [
      "Dennis Radtke ( EPP ) . – Madam President , Commissioner , ladies and gentlemen ! You should always start with the positive . That is why I would first like to emphasize that I am very pleased that we , as the Social Affairs Committee , are able to present our reports on the European Semester in a stable manner . Anyone who looks at the political minefield in the ECON Committee will see that this can not be taken for granted , dear colleagues . Of course , one also has to critically note that we have to deal with the effectiveness of the semester process . There are some voices – applications have been made , but they can only be rejected – to break off the process completely , to delete the process altogether . I consider that a serious mistake . We should see how can we make the process more effective ? Are we setting the right indicators ? I am absolutely convinced that the conference on the future of Europe gives us a huge opportunity to see how we can also strengthen the semester process . How can we realign the semester process - and that in combination with what we will also discuss afterwards , the social summit in Gothenburg and the implementation of the European Pillar of Social Rights ? This really gives us a real chance to move Europe forward in terms of social policy . And a word to colleague Rinaldi . You are talking about a crescendo à la Rossini and bemoan the cordon sanitaire . I can only say that if you only contribute dissonant cat music to the political work here , you should not complain about it either . "
     ]
    }
   ],
   "source": [
    "raw1_18 = 'Dennis Radtke (EPP). – Madam President, Commissioner, ladies and gentlemen! You should always start with the positive. That is why I would first like to emphasize that I am very pleased that we, as the Social Affairs Committee, are able to present our reports on the European Semester in a stable manner. Anyone who looks at the political minefield in the ECON Committee will see that this cannot be taken for granted, dear colleagues. Of course, one also has to critically note that we have to deal with the effectiveness of the semester process. There are some voices – applications have been made, but they can only be rejected – to break off the process completely, to delete the process altogether. I consider that a serious mistake. We should see how can we make the process more effective? Are we setting the right indicators? I am absolutely convinced that the conference on the future of Europe gives us a huge opportunity to see how we can also strengthen the semester process. How can we realign the semester process - and that in combination with what we will also discuss afterwards, the social summit in Gothenburg and the implementation of the European Pillar of Social Rights? This really gives us a real chance to move Europe forward in terms of social policy. And a word to colleague Rinaldi. You are talking about a crescendo à la Rossini and bemoan the cordon sanitaire. I can only say that if you only contribute dissonant cat music to the political work here, you should not complain about it either.'\n",
    "tokens1_18 = word_tokenize(raw1_18)\n",
    "for word in tokens1_18:\n",
    "    print(word, end=' ')"
   ]
  },
  {
   "cell_type": "code",
   "execution_count": 21,
   "metadata": {},
   "outputs": [
    {
     "name": "stdout",
     "output_type": "stream",
     "text": [
      "Agnes Jongerius ( S & D ) . – ( NL ) Mr President , it is clear that not everyone has yet learned the lessons of the previous crisis . When I hear some Christian Democrats here in this House say that it is really just about budget rules , I think they have not quite got it yet . We must invest in the corona crisis , so that everyone can be sure of good work and good care in the future . After all , Europe is more than currency and market and the economy does not exist in a vacuum . It should not revolve around the interests of multinationals while people are forgotten . That is why the European semester , with the agreements that countries make with each other to coordinate their economies , should also contribute to more secure jobs , to combating poverty and to achieving the climate goals . This should certainly not be a sprint to cut back as quickly as possible and to break down the welfare state , because if we immediately fall back on the old budget targets after 2022 , the citizens of Europe will pay a very high price for this . That is why I am pleased with the reports that are on the table , that I am also pleased with the intention of the Portuguese Presidency to also discuss social objectives in Porto , because as far as I am concerned it is clear . Social objectives should be given as much weight as economic and climate objectives . "
     ]
    }
   ],
   "source": [
    "raw1_19 = 'Agnes Jongerius (S&D). – (NL) Mr President, it is clear that not everyone has yet learned the lessons of the previous crisis. When I hear some Christian Democrats here in this House say that it is really just about budget rules, I think they have not quite got it yet. We must invest in the corona crisis, so that everyone can be sure of good work and good care in the future. After all, Europe is more than currency and market and the economy does not exist in a vacuum. It should not revolve around the interests of multinationals while people are forgotten. That is why the European semester, with the agreements that countries make with each other to coordinate their economies, should also contribute to more secure jobs, to combating poverty and to achieving the climate goals. This should certainly not be a sprint to cut back as quickly as possible and to break down the welfare state, because if we immediately fall back on the old budget targets after 2022, the citizens of Europe will pay a very high price for this. That is why I am pleased with the reports that are on the table, that I am also pleased with the intention of the Portuguese Presidency to also discuss social objectives in Porto, because as far as I am concerned it is clear. Social objectives should be given as much weight as economic and climate objectives.'\n",
    "tokens1_19 = word_tokenize(raw1_19)\n",
    "for word in tokens1_19:\n",
    "    print(word, end=' ')"
   ]
  },
  {
   "cell_type": "code",
   "execution_count": 22,
   "metadata": {},
   "outputs": [
    {
     "name": "stdout",
     "output_type": "stream",
     "text": [
      "Dragoș Pîslaru ( Renew ) . – Madam President , as a direct contributor from both the Committee on Employment and Social Affairs and the Committee on Economic and Monetary Affairs , I can tell you there is a reason why the European Semester is now at the crossroads of our political beliefs here in the European Parliament . It is because we disregarded its honesty and dismantled its credibility . We have seen this instrument frequently becoming a source of discord , and even an object of ridicule for national politicians . The degree of implementation of the country-specific recommendations is low . The national and regional parliaments do not debate openly about country reports and CSRs . And look where all this has brought us : failing to create a European value added , lacking resilience and uncoordinated in our responses against the COVID-19 pandemic . The annual sustainable growth strategy 2021 points us in the right direction , relying on the key role of the recovery resilience facility for our recovery , and by reinforcing the commitment to implement the European pillar of social rights through a clear action plan . Dear colleagues , the time is upon us to restore the honesty and credibility of the European Semester . We need a renewed European Semester – one that is comprehensive , sustainable and innovative . Instead of trying to outlaw bad policies , the new Semester should nurture ownership of good policies within the Member States , and should be a visible voice of reason that supports an informed debate and gradually builds up popular support for sound policies . Fixing these deep-seated dysfunctionalities of the national political systems is not going to happen fast , but democracies mature and learn to control these tendencies . With time and perseverance , this Semester can be a valuable component in facilitating this process . Let ’ s start working together , from now , for a renewed European Semester . Yes , we can do it . "
     ]
    }
   ],
   "source": [
    "raw1_20 = 'Dragoș Pîslaru (Renew). – Madam President, as a direct contributor from both the Committee on Employment and Social Affairs and the Committee on Economic and Monetary Affairs, I can tell you there is a reason why the European Semester is now at the crossroads of our political beliefs here in the European Parliament. It is because we disregarded its honesty and dismantled its credibility. We have seen this instrument frequently becoming a source of discord, and even an object of ridicule for national politicians. The degree of implementation of the country-specific recommendations is low. The national and regional parliaments do not debate openly about country reports and CSRs. And look where all this has brought us: failing to create a European value added, lacking resilience and uncoordinated in our responses against the COVID-19 pandemic. The annual sustainable growth strategy 2021 points us in the right direction, relying on the key role of the recovery resilience facility for our recovery, and by reinforcing the commitment to implement the European pillar of social rights through a clear action plan. Dear colleagues, the time is upon us to restore the honesty and credibility of the European Semester. We need a renewed European Semester – one that is comprehensive, sustainable and innovative. Instead of trying to outlaw bad policies, the new Semester should nurture ownership of good policies within the Member States, and should be a visible voice of reason that supports an informed debate and gradually builds up popular support for sound policies. Fixing these deep-seated dysfunctionalities of the national political systems is not going to happen fast, but democracies mature and learn to control these tendencies. With time and perseverance, this Semester can be a valuable component in facilitating this process. Let’s start working together, from now, for a renewed European Semester. Yes, we can do it. '\n",
    "tokens1_20 = word_tokenize(raw1_20)\n",
    "for word in tokens1_20:\n",
    "    print(word, end=' ')"
   ]
  },
  {
   "cell_type": "code",
   "execution_count": 23,
   "metadata": {},
   "outputs": [
    {
     "name": "stdout",
     "output_type": "stream",
     "text": [
      "Peter Kofod ( ID ) . - Madam President ! When you read the report here , I am really worried , especially about the part that deals with employment and interference in social aspects . I simply fear that the European Union will go far , far too far . I would like to warn that greater EU intervention in this area will not necessarily solve the problems that Europe may have . Perhaps rather the opposite . Firstly , because in principle - I think - it is the wrong thing to do . Social and employment policy is a matter of the heart for our nation states . It is our own countries that have to take care of our own distinctive models . They simply deserve better than one model that one thinks can fit everyone . Because I do not believe it exists in a diverse Europe . I think we need to tailor the different models to our different countries , and the countries must do that themselves . Secondly , I do not believe it will work . A social union will undermine our national policies and , incidentally , be extremely intrusive in our different way of living our lives . And then I can understand the need for a common European unemployment scheme . To my ears , it sounds extremely negative . Do you really imagine that taxpayers - for example in Denmark - will have to pay for unemployment elsewhere in Europe ? In other countries that have refused to exercise economic restraint , reform their economies and take care of themselves ? It will not happen ! It will require a completely different collaboration that will miss any kind of common sense . "
     ]
    }
   ],
   "source": [
    "raw1_21 = 'Peter Kofod (ID). - Madam President! When you read the report here, I am really worried, especially about the part that deals with employment and interference in social aspects. I simply fear that the European Union will go far, far too far. I would like to warn that greater EU intervention in this area will not necessarily solve the problems that Europe may have. Perhaps rather the opposite. Firstly, because in principle - I think - it is the wrong thing to do. Social and employment policy is a matter of the heart for our nation states. It is our own countries that have to take care of our own distinctive models. They simply deserve better than one model that one thinks can fit everyone. Because I do not believe it exists in a diverse Europe. I think we need to tailor the different models to our different countries, and the countries must do that themselves. Secondly, I do not believe it will work. A social union will undermine our national policies and, incidentally, be extremely intrusive in our different way of living our lives. And then I can understand the need for a common European unemployment scheme. To my ears, it sounds extremely negative. Do you really imagine that taxpayers - for example in Denmark - will have to pay for unemployment elsewhere in Europe? In other countries that have refused to exercise economic restraint, reform their economies and take care of themselves? It will not happen! It will require a completely different collaboration that will miss any kind of common sense.'\n",
    "tokens1_21 = word_tokenize(raw1_21)\n",
    "for word in tokens1_21:\n",
    "    print(word, end=' ')"
   ]
  },
  {
   "cell_type": "code",
   "execution_count": 24,
   "metadata": {},
   "outputs": [
    {
     "name": "stdout",
     "output_type": "stream",
     "text": [
      "Ernest Urtasun ( Verts/ALE ) . – Madam President , Mr Executive Vice President , you have announced this week that you are extending the escape clause of the Stability and Growth Pact for another year : this is good news . To have started the year already with excessive deficit procedures in the midst of the European Recovery Fund would have been nonsense , and of course I think that the news —and the announcement they made— is to be celebrated . However , it is clear that the current rules that we have are not going to be able to be reintroduced as we have them ; everyone knows it and , therefore , today I dare to suggest , Mr. Executive Vice President , five lines of action in this debate on the reforms that we are going to have . Firstly , we must continue to deepen the European budgetary capacity , as we have done with the Recovery and Resilience Facility . Secondly , we need a golden rule for certain investments : there will be no ecological transition and fight against climate change without certain investments , and we need that golden rule . Thirdly , we should replace the deficit limits with a spending rule that in some way establishes how nominal spending grows in the Member States : it would be an observable variable , much more objective than the ones we use now , such as the output gap or the structural balance , which are somehow totally ineffective . Fourth , we need a different treatment of debt : the levels of debt that we have we can not treat with the rules that we have , and the current monetary conditions are very different from when we established these rules ; we need to change that . And fifthly , we need to strengthen the macroeconomic dialogue between countries , including their trade balances . I think there are five lines of action that would allow us to have much more serious and reasonable budget rules ; Of course , the flexibility that we have is not going to help us for the period that we are going to start after 2023 . "
     ]
    }
   ],
   "source": [
    "raw1_22 = 'Ernest Urtasun (Verts/ALE). – Madam President, Mr Executive Vice President, you have announced this week that you are extending the escape clause of the Stability and Growth Pact for another year: this is good news. To have started the year already with excessive deficit procedures in the midst of the European Recovery Fund would have been nonsense, and of course I think that the news —and the announcement they made— is to be celebrated. However, it is clear that the current rules that we have are not going to be able to be reintroduced as we have them; everyone knows it and, therefore, today I dare to suggest, Mr. Executive Vice President, five lines of action in this debate on the reforms that we are going to have. Firstly, we must continue to deepen the European budgetary capacity, as we have done with the Recovery and Resilience Facility. Secondly, we need a golden rule for certain investments: there will be no ecological transition and fight against climate change without certain investments, and we need that golden rule. Thirdly, we should replace the deficit limits with a spending rule that in some way establishes how nominal spending grows in the Member States: it would be an observable variable, much more objective than the ones we use now, such as the output gap or the structural balance, which are somehow totally ineffective. Fourth, we need a different treatment of debt: the levels of debt that we have we cannot treat with the rules that we have, and the current monetary conditions are very different from when we established these rules; we need to change that. And fifthly, we need to strengthen the macroeconomic dialogue between countries, including their trade balances. I think there are five lines of action that would allow us to have much more serious and reasonable budget rules; Of course, the flexibility that we have is not going to help us for the period that we are going to start after 2023.'\n",
    "tokens1_22 = word_tokenize(raw1_22)\n",
    "for word in tokens1_22:\n",
    "    print(word, end=' ')"
   ]
  },
  {
   "cell_type": "code",
   "execution_count": 25,
   "metadata": {},
   "outputs": [
    {
     "name": "stdout",
     "output_type": "stream",
     "text": [
      "Eugen Jurzyca ( ECR ) . - Madam President , the European Semester is an important mechanism for coordinating the budgetary and economic policies of the Member States . The general escape clause of the Stability and Growth Pact has been activated for one year and , according to the Commission , will be active at least until the end of next year . Some interpret this decision as a failure of fiscal rules to adapt to the realities of new high debts . However , in my opinion , the rules have not failed , especially the long-term non-compliance and non-enforcement of these rules . Member States that have done their homework in good times , made structural reforms and consolidated public finances now have reserves to help their economies . Without reforms and without sufficient consolidation , Member States have remained dependent on European rescue packages , even without fiscal reserves . If the reserves of the savings states were distributed evenly among all the states , it could happen that they would stop making them in good times - that is , those savings states and in the future crisis there would simply be nothing to redistribute . Let us remember that socialism also ended because there was no one to take it from . "
     ]
    }
   ],
   "source": [
    "raw1_23 = 'Eugen Jurzyca (ECR). - Madam President, the European Semester is an important mechanism for coordinating the budgetary and economic policies of the Member States. The general escape clause of the Stability and Growth Pact has been activated for one year and, according to the Commission, will be active at least until the end of next year. Some interpret this decision as a failure of fiscal rules to adapt to the realities of new high debts. However, in my opinion, the rules have not failed, especially the long-term non-compliance and non-enforcement of these rules. Member States that have done their homework in good times, made structural reforms and consolidated public finances now have reserves to help their economies. Without reforms and without sufficient consolidation, Member States have remained dependent on European rescue packages, even without fiscal reserves. If the reserves of the savings states were distributed evenly among all the states, it could happen that they would stop making them in good times - that is, those savings states and in the future crisis there would simply be nothing to redistribute. Let us remember that socialism also ended because there was no one to take it from.'\n",
    "tokens1_23 = word_tokenize(raw1_23)\n",
    "for word in tokens1_23:\n",
    "    print(word, end=' ')"
   ]
  },
  {
   "cell_type": "code",
   "execution_count": 26,
   "metadata": {},
   "outputs": [
    {
     "name": "stdout",
     "output_type": "stream",
     "text": [
      "José Gusmao ( The Left ) . – Madam President , until two years ago , the European Commission recommended that Member States like mine cut back on their public health systems , systems that are saving the lives of their citizens today . Congratulations to the governments that ignored this , as well as other recommendations . Today , the right does not want social and environmental indicators to be included in the European Semester . He says they will hurt growth and job creation . I regret to inform you that the European economic governance model has already failed in these objectives . It has failed in the eurozone since its inception . It failed in the adjustment programs that led to recessions , an increase in unemployment and an increase in public debt . Social and environmental objectives are economic policy objectives . If not , they are talk . The investment and employment necessary for these challenges are the best path to economic recovery and , if you want to take stock of the European Semester , let us take stock of how it has systematically failed the European Union .... ( The President cut off the speaker . ) "
     ]
    }
   ],
   "source": [
    "raw1_24 = 'José Gusmao (The Left). – Madam President, until two years ago, the European Commission recommended that Member States like mine cut back on their public health systems, systems that are saving the lives of their citizens today. Congratulations to the governments that ignored this, as well as other recommendations. Today, the right does not want social and environmental indicators to be included in the European Semester. He says they will hurt growth and job creation. I regret to inform you that the European economic governance model has already failed in these objectives. It has failed in the eurozone since its inception. It failed in the adjustment programs that led to recessions, an increase in unemployment and an increase in public debt. Social and environmental objectives are economic policy objectives. If not, they are talk. The investment and employment necessary for these challenges are the best path to economic recovery and, if you want to take stock of the European Semester, let us take stock of how it has systematically failed the European Union....(The President cut off the speaker.)'\n",
    "tokens1_24 = word_tokenize(raw1_24)\n",
    "for word in tokens1_24:\n",
    "    print(word, end=' ')"
   ]
  },
  {
   "cell_type": "code",
   "execution_count": 27,
   "metadata": {},
   "outputs": [
    {
     "name": "stdout",
     "output_type": "stream",
     "text": [
      "Daniela Rondinelli ( NI ) . - Madam President , ladies and gentlemen , it took a pandemic to affirm two principles dear to the 5Stelle Movement : `` no one is saved alone '' and `` leave no one behind '' . These led to the recovery fund and the freezing of the stability pact . We think that now we need a third principle , `` The Europe of everyone '' . To do this , one element is missing , that is to radically change the European semester and all the existing governance mechanisms , putting environmental and social objectives at the same level as the macroeconomic ones . We do not have to invent anything : it is all written down . The Sustainable Development Goals and the European Pillar of Social Rights have been known for years , with the difference that they will go from being mere statements of principle to objectives to be concretely pursued by the Member States . A different governance will follow , based on a golden rule according to which states will no longer be warned if they refuse to cut social spending and which instead provides for the separation of green and social investments from the calculation of the deficit . A gentle revolution is upon us and with it the future of Europe . "
     ]
    }
   ],
   "source": [
    "raw1_25 = 'Daniela Rondinelli (NI). - Madam President, ladies and gentlemen, it took a pandemic to affirm two principles dear to the 5Stelle Movement: \"no one is saved alone\" and \"leave no one behind\". These led to the recovery fund and the freezing of the stability pact. We think that now we need a third principle, \"The Europe of everyone\". To do this, one element is missing, that is to radically change the European semester and all the existing governance mechanisms, putting environmental and social objectives at the same level as the macroeconomic ones. We do not have to invent anything: it is all written down. The Sustainable Development Goals and the European Pillar of Social Rights have been known for years, with the difference that they will go from being mere statements of principle to objectives to be concretely pursued by the Member States. A different governance will follow, based on a golden rule according to which states will no longer be warned if they refuse to cut social spending and which instead provides for the separation of green and social investments from the calculation of the deficit. A gentle revolution is upon us and with it the future of Europe.'\n",
    "tokens1_25 = word_tokenize(raw1_25)\n",
    "for word in tokens1_25:\n",
    "    print(word, end=' ')"
   ]
  },
  {
   "cell_type": "code",
   "execution_count": 28,
   "metadata": {},
   "outputs": [
    {
     "name": "stdout",
     "output_type": "stream",
     "text": [
      "José Manuel Fernandes ( PPE ) . – Madam President , dear Commissioners , Madam Secretary of State , dear colleagues , employment , and particularly youth employment , which has been forgotten , must be the priority . It is necessary to recover lost jobs , maintain jobs , but at the same time create new jobs . This requires public and private investment , modernizing our economy , eliminating bureaucracy . That is what the Recovery and Resilience Mechanism is for . And Member States should use national recovery and resilience plans for these goals , to also promote territorial , economic and social cohesion . It is not just poverty , unfortunately , in large metropolitan areas and many Member States preach solidarity here well and then forget to practice that same solidarity internally . Member States can not use national recovery plans to finance the state , to do more of the same , to finance current expenditure . This opportunity can not be missed . We have a precedent here that we must use for the future . If necessary , the Recovery and Resilience Mechanism , the European Semester , has to be an asset . "
     ]
    }
   ],
   "source": [
    "raw1_26 = 'José Manuel Fernandes (PPE). – Madam President, dear Commissioners, Madam Secretary of State, dear colleagues, employment, and particularly youth employment, which has been forgotten, must be the priority. It is necessary to recover lost jobs, maintain jobs, but at the same time create new jobs. This requires public and private investment, modernizing our economy, eliminating bureaucracy. That is what the Recovery and Resilience Mechanism is for. And Member States should use national recovery and resilience plans for these goals, to also promote territorial, economic and social cohesion. It is not just poverty, unfortunately, in large metropolitan areas and many Member States preach solidarity here well and then forget to practice that same solidarity internally. Member States cannot use national recovery plans to finance the state, to do more of the same, to finance current expenditure. This opportunity cannot be missed. We have a precedent here that we must use for the future. If necessary, the Recovery and Resilience Mechanism, the European Semester, has to be an asset.'\n",
    "tokens1_26 = word_tokenize(raw1_26)\n",
    "for word in tokens1_26:\n",
    "    print(word, end=' ')"
   ]
  },
  {
   "cell_type": "code",
   "execution_count": 29,
   "metadata": {},
   "outputs": [
    {
     "name": "stdout",
     "output_type": "stream",
     "text": [
      "Pedro Marques ( S & D ) . – Madam President , allow me to be completely clear . The European Semester is old . Really old . In spite of the objectives of the Stability and Growth Pact , our experience from a decade ago shows that its rules are not fit for purpose . The extension of the general escape clause for one more year is , of course , good news , but it ’ s only a first step . The escape clause must not be withdrawn before the economy returns to its pre—crisis level . But before the Stability and Growth Pact is in place again , it must be deeply revised . The economic landscape has changed and Europe ’ s priorities have evolved . The European Semester must do the same . The pandemic has resulted in a dramatic increase in public debt for every country . However , as interest rates are estimated to continue to be low for several years , its impact will be watered down . As such , the pace of reduction of public debt can , and must , be reduced , not forcing Member States into a decade of austerity and economic depression . Furthermore , we must also implement the so long—discussed golden rule for sustainable investment , and we need a more inclusive Semester and macroeconomic rules , not just about numbers , but also about the people and the environment . We know what has to be done . Let ’ s just do it together . "
     ]
    }
   ],
   "source": [
    "raw1_27 = 'Pedro Marques (S&D). – Madam President, allow me to be completely clear. The European Semester is old. Really old. In spite of the objectives of the Stability and Growth Pact, our experience from a decade ago shows that its rules are not fit for purpose. The extension of the general escape clause for one more year is, of course, good news, but it’s only a first step. The escape clause must not be withdrawn before the economy returns to its pre—crisis level. But before the Stability and Growth Pact is in place again, it must be deeply revised. The economic landscape has changed and Europe’s priorities have evolved. The European Semester must do the same. The pandemic has resulted in a dramatic increase in public debt for every country. However, as interest rates are estimated to continue to be low for several years, its impact will be watered down. As such, the pace of reduction of public debt can, and must, be reduced, not forcing Member States into a decade of austerity and economic depression. Furthermore, we must also implement the so long—discussed golden rule for sustainable investment, and we need a more inclusive Semester and macroeconomic rules, not just about numbers, but also about the people and the environment. We know what has to be done. Let’s just do it together.'\n",
    "tokens1_27 = word_tokenize(raw1_27)\n",
    "for word in tokens1_27:\n",
    "    print(word, end=' ')"
   ]
  },
  {
   "cell_type": "code",
   "execution_count": 30,
   "metadata": {},
   "outputs": [
    {
     "name": "stdout",
     "output_type": "stream",
     "text": [
      "Luis Garicano ( Renew ) . – Madam President , Mr Dombrovskis , when we look at the economic situation we are facing , we see two problems . On the one hand , we have the pandemic , which is dragging on and creating a much longer economic crisis situation than we imagined when we approved the Recovery Plan and the proposals of Parliament this spring . On the other hand , we have a very significant increase in debt that makes many worry about how we are going to pay it . The answers to these two problems differ between the left and right sides of the camera . On the left side they say : “ Well , the important thing is the pandemic ; let us spend and spend and spend now , and then , if anything , we will ask the European Central Bank to forgive us our debt '' . On the right side of the chamber we are already beginning to hear “ fiscal consolidation ” , we are already beginning to hear talk of debt concerns and that the brakes must be applied . I think none of the answers is correct . When we see the European economies , what is needed are two things : today , spending ; today we have to spend much more . Let us look at what the United States is spending ; the fiscal stimulus that they are talking about , compared to ours , is truly much greater : we are talking about four trillion —with twelve zeros— , compared to what we approved here . But , at the same time , we must ensure the sustainability of finances in the medium term and we must make them sustainable . It seems obvious , but it is not . My government , the government of our country , is doing the opposite : it is spending in the long term , introducing structural programs , and it is withholding the help that the self-employed need right now . Let us do what we have to do to get out of this crisis . "
     ]
    }
   ],
   "source": [
    "raw1_28 = 'Luis Garicano (Renew). – Madam President, Mr Dombrovskis, when we look at the economic situation we are facing, we see two problems. On the one hand, we have the pandemic, which is dragging on and creating a much longer economic crisis situation than we imagined when we approved the Recovery Plan and the proposals of Parliament this spring. On the other hand, we have a very significant increase in debt that makes many worry about how we are going to pay it. The answers to these two problems differ between the left and right sides of the camera. On the left side they say: “Well, the important thing is the pandemic; let us spend and spend and spend now, and then, if anything, we will ask the European Central Bank to forgive us our debt\". On the right side of the chamber we are already beginning to hear “fiscal consolidation”, we are already beginning to hear talk of debt concerns and that the brakes must be applied. I think none of the answers is correct. When we see the European economies, what is needed are two things: today, spending; today we have to spend much more. Let us look at what the United States is spending; the fiscal stimulus that they are talking about, compared to ours, is truly much greater: we are talking about four trillion —with twelve zeros—, compared to what we approved here. But, at the same time, we must ensure the sustainability of finances in the medium term and we must make them sustainable. It seems obvious, but it is not. My government, the government of our country, is doing the opposite: it is spending in the long term, introducing structural programs, and it is withholding the help that the self-employed need right now. Let us do what we have to do to get out of this crisis.'\n",
    "tokens1_28 = word_tokenize(raw1_28)\n",
    "for word in tokens1_28:\n",
    "    print(word, end=' ')"
   ]
  },
  {
   "cell_type": "code",
   "execution_count": 31,
   "metadata": {},
   "outputs": [
    {
     "name": "stdout",
     "output_type": "stream",
     "text": [
      "Jordan Bardella ( ID ) . – Madam President , the European Semester will have been in place for a decade now , and it is time to take stock of it . Never have the differences between the economies of the European zone been so profound . On the other hand , this Semester will have fulfilled with great success its objective of tying the hands of States a little more , of confiscating their economic choices for the benefit of the European Commission . During this crisis , the European Union will have been European disunity . At this very moment , your vaccine Waterloo , the incompetence of the European Union in ordering vaccines and supplying them to the States , will have led more and more European countries to take matters into their own hands , to the image of Austria , Hungary or Poland . If you want more coordination within the European Union , then stop trying at all costs to force the hand of the States and instead devote your energy to demonstrating your effectiveness . The European Commission requires , in order to be able to benefit from the funds of the European recovery plan which will follow , that the States implement these structural reforms enacted within the framework of the European Semester . This blackmail for the Member States means in particular for my country , France , the reform of unemployment insurance , the liberalization of public services and , of course , the reform of the pension system , at a time when precariousness is about to explode . What will France get in exchange for meeting all these requirements ? In the best-case scenario , a handout of 4 billion euros by the summer , or a derisory 4 % that we need to finance an already undersized recovery plan . The European Union will have definitely missed an opportunity to reconcile with the peoples . "
     ]
    }
   ],
   "source": [
    "raw1_29 = 'Jordan Bardella (ID). – Madam President, the European Semester will have been in place for a decade now, and it is time to take stock of it. Never have the differences between the economies of the European zone been so profound. On the other hand, this Semester will have fulfilled with great success its objective of tying the hands of States a little more, of confiscating their economic choices for the benefit of the European Commission. During this crisis, the European Union will have been European disunity. At this very moment, your vaccine Waterloo, the incompetence of the European Union in ordering vaccines and supplying them to the States, will have led more and more European countries to take matters into their own hands, to the image of Austria, Hungary or Poland. If you want more coordination within the European Union, then stop trying at all costs to force the hand of the States and instead devote your energy to demonstrating your effectiveness. The European Commission requires, in order to be able to benefit from the funds of the European recovery plan which will follow, that the States implement these structural reforms enacted within the framework of the European Semester. This blackmail for the Member States means in particular for my country, France, the reform of unemployment insurance, the liberalization of public services and, of course, the reform of the pension system, at a time when precariousness is about to explode. What will France get in exchange for meeting all these requirements? In the best-case scenario, a handout of 4 billion euros by the summer, or a derisory 4% that we need to finance an already undersized recovery plan. The European Union will have definitely missed an opportunity to reconcile with the peoples.'\n",
    "tokens1_29 = word_tokenize(raw1_29)\n",
    "for word in tokens1_29:\n",
    "    print(word, end=' ')"
   ]
  },
  {
   "cell_type": "code",
   "execution_count": 32,
   "metadata": {},
   "outputs": [
    {
     "name": "stdout",
     "output_type": "stream",
     "text": [
      "Bas Eickhout ( Verts/ALE ) . – Madam President , first of all , I would like to thank and compliment the Commission . We don ’ t do that that often , I do realise , but I see that the Commission is learning from the previous crisis and seeing that the Semester needs an improvement and that we need to change the rules . I have to compliment the Commission because on the Right side of this Parliament , they don ’ t seem to have learned that yet , so I really wish the Commission to put that forward . I also hope that in the Council we will see a bit of a learning curve . Let ’ s see what Porto will bring . We are talking about economic governance here and economic governance is there to achieve targets . Economic governance is not a target in itself . We do that to deliver on the targets of social and environmental development within Europe . That ’ s why we have economic governance . That ’ s why we need to discuss how to change the rules to have more space for investments , how to be more countercyclical . These are the questions that need to be addressed , and that ’ s why we need a reform of the Semester . I ’ m happy that the Commission is going down that path , hopefully the Council too , and then in the end , who knows , maybe the EPP ? "
     ]
    }
   ],
   "source": [
    "raw1_30 = 'Bas Eickhout (Verts/ALE). – Madam President, first of all, I would like to thank and compliment the Commission. We don’t do that that often, I do realise, but I see that the Commission is learning from the previous crisis and seeing that the Semester needs an improvement and that we need to change the rules. I have to compliment the Commission because on the Right side of this Parliament, they don’t seem to have learned that yet, so I really wish the Commission to put that forward. I also hope that in the Council we will see a bit of a learning curve. Let’s see what Porto will bring. We are talking about economic governance here and economic governance is there to achieve targets. Economic governance is not a target in itself. We do that to deliver on the targets of social and environmental development within Europe. That’s why we have economic governance. That’s why we need to discuss how to change the rules to have more space for investments, how to be more countercyclical. These are the questions that need to be addressed, and that’s why we need a reform of the Semester. I’m happy that the Commission is going down that path, hopefully the Council too, and then in the end, who knows, maybe the EPP?'\n",
    "tokens1_30 = word_tokenize(raw1_30)\n",
    "for word in tokens1_30:\n",
    "    print(word, end=' ')"
   ]
  },
  {
   "cell_type": "code",
   "execution_count": 33,
   "metadata": {},
   "outputs": [
    {
     "name": "stdout",
     "output_type": "stream",
     "text": [
      "Raffaele Fitto ( ECR ) . - Madam President , ladies and gentlemen , two factors influence this discussion of ours . The first is the unforgivable delay of the vaccine plan and the second is the fact that the first resources will really arrive no earlier than the summer and this heavily affects the action , role and difficulties of citizens and businesses . It was very positive to suspend the Stability and Growth Pact until the end of 2022 , but this is not enough . Implementation of the recovery and resilience instrument needs to be accelerated : to date only a third of Member States have ratified the decision on own resources , with the risk that the implementation of the plans will postpone further and here it will also be necessary to understand how to transform the evil of the current expenditure on investment spending . Encourage more investments in particular for small and medium-sized enterprises ; avoid that the environmental transition process can penalize the competitiveness of our economic and productive system ; finally , to involve the regions and local authorities to create a synergy between the national recovery plans and those of the cohesion policy , especially in the territories that already suffered structural delays before the pandemic . We must not repeat the mistakes of the past and we must do everything that is useful to protect our economies , looking at a serious prospect of profound change that is badly needed . "
     ]
    }
   ],
   "source": [
    "raw1_31 = 'Raffaele Fitto (ECR). - Madam President, ladies and gentlemen, two factors influence this discussion of ours. The first is the unforgivable delay of the vaccine plan and the second is the fact that the first resources will really arrive no earlier than the summer and this heavily affects the action, role and difficulties of citizens and businesses. It was very positive to suspend the Stability and Growth Pact until the end of 2022, but this is not enough. Implementation of the recovery and resilience instrument needs to be accelerated: to date only a third of Member States have ratified the decision on own resources, with the risk that the implementation of the plans will postpone further and here it will also be necessary to understand how to transform the evil of the current expenditure on investment spending. Encourage more investments in particular for small and medium-sized enterprises; avoid that the environmental transition process can penalize the competitiveness of our economic and productive system; finally, to involve the regions and local authorities to create a synergy between the national recovery plans and those of the cohesion policy, especially in the territories that already suffered structural delays before the pandemic. We must not repeat the mistakes of the past and we must do everything that is useful to protect our economies, looking at a serious prospect of profound change that is badly needed.'\n",
    "tokens1_31 = word_tokenize(raw1_31)\n",
    "for word in tokens1_31:\n",
    "    print(word, end=' ')"
   ]
  },
  {
   "cell_type": "code",
   "execution_count": 34,
   "metadata": {},
   "outputs": [
    {
     "name": "stdout",
     "output_type": "stream",
     "text": [
      "Younous Omarjee ( The Left ) . – Madam President , now I think we have to raise the question of the final exit from the budgetary stability pact . These rules were absurd yesterday , they have become dangerous today with the crisis which will continue , the divergences between the economies will strengthen , cohesion will decline and before us this risk of the very explosion of the euro zone . In reality , this fiscal stability pact , which will curb the capacities of States for long-term recovery , is becoming one of social disorder and increasing inequalities and only ideological blindness could lead to its maintenance . It is therefore time to get out of it and invent a new form of economic governance based on cohesion criteria , on social and climatic criteria and it is a new time , an unexpected opportunity that can open up for a reform of the European Semester . "
     ]
    }
   ],
   "source": [
    "raw1_32 = 'Younous Omarjee (The Left). – Madam President, now I think we have to raise the question of the final exit from the budgetary stability pact. These rules were absurd yesterday, they have become dangerous today with the crisis which will continue, the divergences between the economies will strengthen, cohesion will decline and before us this risk of the very explosion of the euro zone. In reality, this fiscal stability pact, which will curb the capacities of States for long-term recovery, is becoming one of social disorder and increasing inequalities and only ideological blindness could lead to its maintenance. It is therefore time to get out of it and invent a new form of economic governance based on cohesion criteria, on social and climatic criteria and it is a new time, an unexpected opportunity that can open up for a reform of the European Semester.'\n",
    "tokens1_32 = word_tokenize(raw1_32)\n",
    "for word in tokens1_32:\n",
    "    print(word, end=' ')"
   ]
  },
  {
   "cell_type": "code",
   "execution_count": 35,
   "metadata": {},
   "outputs": [
    {
     "name": "stdout",
     "output_type": "stream",
     "text": [
      "Isabel Benjumea Benjumea ( EPP ) . – Madam President , the European Parliament has not ruled on the EU Annual Strategy for Sustainable Growth for two years , two years without agreeing on the important instrument for coordinating economic and budgetary policies that is the European Semester . For those citizens who are following us today , what the European Semester does is give recommendations to the Member States so that they adopt economic policies that help achieve financial stability and make us more competitive . In this sense , we have just approved a huge package , with a huge outlay , to deal with the terrible social and financial crisis that follows the pandemic , and European citizens have to understand that these recommendations can not be watered down , because today they are more important than ever : we need control over spending so that spending is done in the most efficient way . As a Spaniard I know very well what I am talking about : we have to avoid having more plans E on the table in this crisis , which serve to spend and spend , but they are not investments that make us come out stronger and more competitive and , if you want , resilient , which is what it is all about . That is why it is so important that the European Semester adheres to its objectives , to those recommendations , and that we do not intend to make , as other colleagues of mine from the European Peoples Party have said , a Christmas tree that includes too many topics that dilute that target . It is essential that spending control be established and it is essential to establish recommendations for reforms —labour reforms , structural reforms— that allow Europeans , generations to come , to have more opportunities . "
     ]
    }
   ],
   "source": [
    "raw1_33 = 'Isabel Benjumea Benjumea (EPP). – Madam President, the European Parliament has not ruled on the EU Annual Strategy for Sustainable Growth for two years, two years without agreeing on the important instrument for coordinating economic and budgetary policies that is the European Semester. For those citizens who are following us today, what the European Semester does is give recommendations to the Member States so that they adopt economic policies that help achieve financial stability and make us more competitive. In this sense, we have just approved a huge package, with a huge outlay, to deal with the terrible social and financial crisis that follows the pandemic, and European citizens have to understand that these recommendations cannot be watered down, because today they are more important than ever: we need control over spending so that spending is done in the most efficient way. As a Spaniard I know very well what I am talking about: we have to avoid having more plans E on the table in this crisis, which serve to spend and spend, but they are not investments that make us come out stronger and more competitive and, if you want , resilient, which is what it is all about. That is why it is so important that the European Semester adheres to its objectives, to those recommendations, and that we do not intend to make, as other colleagues of mine from the European Peoples Party have said, a Christmas tree that includes too many topics that dilute that target. It is essential that spending control be established and it is essential to establish recommendations for reforms —labour reforms, structural reforms— that allow Europeans, generations to come, to have more opportunities.'\n",
    "tokens1_33 = word_tokenize(raw1_33)\n",
    "for word in tokens1_33:\n",
    "    print(word, end=' ')"
   ]
  },
  {
   "cell_type": "code",
   "execution_count": 36,
   "metadata": {},
   "outputs": [
    {
     "name": "stdout",
     "output_type": "stream",
     "text": [
      "Helene Fritzon ( S & D ) . - Madam President ! Commission and Council ! In order for us to have a positive recovery after the ongoing crisis and when we have to face the green transition and digital development , both investments and reforms are required . The principles of the European Pillar of Social Rights and the objectives of sustainable development must be the compass that governs investment and reform . This is the only way we can create employment and sustainable growth where we ensure equal opportunities and social protection for all . The standard of living of all EU Member States and all EU citizens must be improved . Another at least equally important issue is gender equality . The differences between women and men are enormous when it comes to employment , wages and pensions . This is completely unacceptable , and therefore the recovery must also be guided by a gender perspective that is more consistently integrated into the annual growth strategy . We will build the new economy for Europe . The new economy must become a green economy where the fight for climate and gender equality goes hand in hand . "
     ]
    }
   ],
   "source": [
    "raw1_34 = 'Helene Fritzon (S&D). - Madam President! Commission and Council! In order for us to have a positive recovery after the ongoing crisis and when we have to face the green transition and digital development, both investments and reforms are required. The principles of the European Pillar of Social Rights and the objectives of sustainable development must be the compass that governs investment and reform. This is the only way we can create employment and sustainable growth where we ensure equal opportunities and social protection for all. The standard of living of all EU Member States and all EU citizens must be improved. Another at least equally important issue is gender equality. The differences between women and men are enormous when it comes to employment, wages and pensions. This is completely unacceptable, and therefore the recovery must also be guided by a gender perspective that is more consistently integrated into the annual growth strategy. We will build the new economy for Europe. The new economy must become a green economy where the fight for climate and gender equality goes hand in hand.'\n",
    "tokens1_34 = word_tokenize(raw1_34)\n",
    "for word in tokens1_34:\n",
    "    print(word, end=' ')"
   ]
  },
  {
   "cell_type": "code",
   "execution_count": 37,
   "metadata": {},
   "outputs": [
    {
     "name": "stdout",
     "output_type": "stream",
     "text": [
      "Marie-Pierre Vedrenne ( Renew ) . – Madam President , Commissioners , Madam Minister , 2021 will be the year of recovery and the European Semester the instrument for coordinating our recovery policies . The three priorities that I identified in October , during our previous debate on the social aspects of the European Semester remain topical : the urgency of support policies , maintaining the course of transitions , accelerating the European social . National recovery plans accompanied by European funds should contribute to ensuring social justice , the fight against poverty and upward convergence . Commissioner Schmitt , you have published your action plan for the implementation of the European Pillar of Social Rights . You propose the strengthening of the European Semester , in particular the social dimension as well as the revision of the monitoring indicators . These announcements are more than welcome . Because today , more than ever , a new budgetary pact at the service of social progress and the fight against climate change must see the light of day . Let us learn from this crisis , let us not repeat the mistakes of the 2008 financial crisis . Today , more than ever , the priority is not budgetary rigor , but rather investment and support for the most vulnerable , of our companies , of our workers , whatever the cost . Inclusion , convergence , social progress , these are the key words to guide the redesign of the European Semester at the service of Europeans and a Europe of social justice . "
     ]
    }
   ],
   "source": [
    "raw1_35 = 'Marie-Pierre Vedrenne (Renew). – Madam President, Commissioners, Madam Minister, 2021 will be the year of recovery and the European Semester the instrument for coordinating our recovery policies. The three priorities that I identified in October, during our previous debate on the social aspects of the European Semester remain topical: the urgency of support policies, maintaining the course of transitions, accelerating the European social. National recovery plans accompanied by European funds should contribute to ensuring social justice, the fight against poverty and upward convergence. Commissioner Schmitt, you have published your action plan for the implementation of the European Pillar of Social Rights. You propose the strengthening of the European Semester, in particular the social dimension as well as the revision of the monitoring indicators. These announcements are more than welcome. Because today, more than ever, a new budgetary pact at the service of social progress and the fight against climate change must see the light of day. Let us learn from this crisis, let us not repeat the mistakes of the 2008 financial crisis. Today, more than ever, the priority is not budgetary rigor, but rather investment and support for the most vulnerable , of our companies, of our workers, whatever the cost. Inclusion, convergence, social progress, these are the key words to guide the redesign of the European Semester at the service of Europeans and a Europe of social justice.'\n",
    "tokens1_35 = word_tokenize(raw1_35)\n",
    "for word in tokens1_35:\n",
    "    print(word, end=' ')"
   ]
  },
  {
   "cell_type": "code",
   "execution_count": 38,
   "metadata": {},
   "outputs": [
    {
     "name": "stdout",
     "output_type": "stream",
     "text": [
      "Guido Reil ( ID ) . – Madam President , dear colleagues ! Today we are talking about the European Semester for economic policy coordination . And there is only positive things to report . Because European unemployment reinsurance is actually off the table . The understanding has prevailed that we should not finance unemployment , but rather the creation of jobs . A new instrument is also to be created for this purpose , effective , active support for employment . That sounds good at first . Unfortunately , there is always a big difference between theory and practice in the EU . Creating jobs with money has worked very poorly in the past . For ten years we have been trying to fight youth unemployment - with a lot of money from the European Social Fund . But youth unemployment in Greece , Italy and Spain has gotten worse and worse . Spain is currently the leader with 40.2 % youth unemployment – ​​40.2 % . So creating jobs with money has not worked in the past . These are structural problems . These structural problems must be solved nationally . Even my own country , the supposedly strong Germany , has massive problems there . The recognized economic research institute , the Mannheim Economic Research Institute , only found out in February that the German job market had become very unattractive . When it comes to digitization and education , we are still at the level of a development aid country . At the same time , we treat ourselves to the highest tax burden , the highest duty burden and , on top of that , the highest energy prices in the world . That is not how labor market policy works . "
     ]
    }
   ],
   "source": [
    "raw1_36 = 'Guido Reil (ID). – Madam President, dear colleagues! Today we are talking about the European Semester for economic policy coordination. And there is only positive things to report. Because European unemployment reinsurance is actually off the table. The understanding has prevailed that we should not finance unemployment, but rather the creation of jobs. A new instrument is also to be created for this purpose, effective, active support for employment. That sounds good at first. Unfortunately, there is always a big difference between theory and practice in the EU. Creating jobs with money has worked very poorly in the past. For ten years we have been trying to fight youth unemployment - with a lot of money from the European Social Fund. But youth unemployment in Greece, Italy and Spain has gotten worse and worse. Spain is currently the leader with 40.2% youth unemployment – ​​40.2%. So creating jobs with money has not worked in the past. These are structural problems. These structural problems must be solved nationally. Even my own country, the supposedly strong Germany, has massive problems there. The recognized economic research institute, the Mannheim Economic Research Institute, only found out in February that the German job market had become very unattractive. When it comes to digitization and education, we are still at the level of a development aid country. At the same time, we treat ourselves to the highest tax burden, the highest duty burden and, on top of that, the highest energy prices in the world. That is not how labor market policy works.'\n",
    "tokens1_36 = word_tokenize(raw1_36)\n",
    "for word in tokens1_36:\n",
    "    print(word, end=' ')"
   ]
  },
  {
   "cell_type": "code",
   "execution_count": 39,
   "metadata": {},
   "outputs": [
    {
     "name": "stdout",
     "output_type": "stream",
     "text": [
      "Claude Gruffat ( Greens/EFA ) . – Madam President , Commissioners , Mr Dombrovskis , Mr Schmit , Madam Minister , ladies and gentlemen , mired in the health and economic crisis for a year , the Union must anticipate future challenges such as the climate . Preparing for this terrible future requires a lot of humility . This requires in particular to understand what we can continue as before or not . The budgetary rules , hitherto considered immutable , have been largely shaken up , whether we like it or not . After months without a clear position from Parliament , I obviously welcome the agreement and support in this report for extending the scope of the Semester to the EU climate , environmental and social objectives . But certain dogmas , such as the 3 % deficit , the reduction of the structural deficit by 0.5 % of GDP per year or even the 60 % debt no longer resonate today within the Union , being rendered ineffective in the context . These rules no longer make sense to citizens . Everyone after wants to rebuild themselves by leaving no one on the side of the road : we urgently need a profound revision of the rules for our planet and for social justice . "
     ]
    }
   ],
   "source": [
    "raw1_37 = 'Claude Gruffat (Greens/EFA). – Madam President, Commissioners, Mr Dombrovskis, Mr Schmit, Madam Minister, ladies and gentlemen, mired in the health and economic crisis for a year, the Union must anticipate future challenges such as the climate. Preparing for this terrible future requires a lot of humility. This requires in particular to understand what we can continue as before or not. The budgetary rules, hitherto considered immutable, have been largely shaken up, whether we like it or not. After months without a clear position from Parliament, I obviously welcome the agreement and support in this report for extending the scope of the Semester to the EU climate, environmental and social objectives. But certain dogmas, such as the 3% deficit, the reduction of the structural deficit by 0.5% of GDP per year or even the 60% debt no longer resonate today within the Union, being rendered ineffective in the context. These rules no longer make sense to citizens. Everyone after wants to rebuild themselves by leaving no one on the side of the road: we urgently need a profound revision of the rules for our planet and for social justice.'\n",
    "tokens1_37 = word_tokenize(raw1_37)\n",
    "for word in tokens1_37:\n",
    "    print(word, end=' ')"
   ]
  },
  {
   "cell_type": "code",
   "execution_count": 40,
   "metadata": {},
   "outputs": [
    {
     "name": "stdout",
     "output_type": "stream",
     "text": [
      "Elżbieta Rafalska ( ECR ) . - Madam President ! Dear Commissioners ! Mrs. Minister ! We operate in the conditions of an epidemic crisis , and yet I find the reference in the document to supporting the readiness and resilience of national health care systems insufficient , and this may be surprising . This area is of course highlighted in the challenges faced by Member States in the part relating to priorities , but not reflected in the part relating to boosting reforms and investment to support sustainable recovery . As for the social part , and mainly employment issues , I would like to mention the key importance of counteracting unemployment and accelerated digitization processes , which are important in the labor market . I would also like to draw attention to all the weaknesses of the care system and model as well as the challenges that face care services . "
     ]
    }
   ],
   "source": [
    "raw1_38 = 'Elżbieta Rafalska (ECR). - Madam President! Dear Commissioners! Mrs. Minister! We operate in the conditions of an epidemic crisis, and yet I find the reference in the document to supporting the readiness and resilience of national health care systems insufficient, and this may be surprising. This area is of course highlighted in the challenges faced by Member States in the part relating to priorities, but not reflected in the part relating to boosting reforms and investment to support sustainable recovery. As for the social part, and mainly employment issues, I would like to mention the key importance of counteracting unemployment and accelerated digitization processes, which are important in the labor market. I would also like to draw attention to all the weaknesses of the care system and model as well as the challenges that face care services.'\n",
    "tokens1_38 = word_tokenize(raw1_38)\n",
    "for word in tokens1_38:\n",
    "    print(word, end=' ')"
   ]
  },
  {
   "cell_type": "code",
   "execution_count": 41,
   "metadata": {},
   "outputs": [
    {
     "name": "stdout",
     "output_type": "stream",
     "text": [
      "Ivan Vilibor Sincic ( NI ) . - Honorable President , the documents leaked from the German government have clearly shown that the fear of the crown was deliberately generated , and it is similar with the European debt . It ’ s time to put people first . The peoples of Europe are in debt bondage , and the corona crisis has only further deepened that debt bondage . The monetary system we live in , which we have in Europe , is based on making money out of nothing , ex nihilo either by printing or electronically , so by pressing a button on a computer , often without cover . The only way for citizens to get that money is to enter into loans , which are expensive and long-lasting . It is time to break the shackles of debt bondage . It is time for the central banks to pay , therefore , a certain monthly amount directly to the account of the citizens , without debt , non-refundable , free , positive , non-credit money . We see this way as one of the ways to fund an unconditional , universal basic income program . Wealth , colleagues , can only come from freedom . Only freed from the fear of stress and debt can our fellow citizens realize their full life potential . Only then will we be able to talk about real development . "
     ]
    }
   ],
   "source": [
    "raw1_39 = 'Ivan Vilibor Sincic (NI). - Honorable President, the documents leaked from the German government have clearly shown that the fear of the crown was deliberately generated, and it is similar with the European debt. It’s time to put people first. The peoples of Europe are in debt bondage, and the corona crisis has only further deepened that debt bondage. The monetary system we live in, which we have in Europe, is based on making money out of nothing, ex nihilo either by printing or electronically, so by pressing a button on a computer, often without cover. The only way for citizens to get that money is to enter into loans, which are expensive and long-lasting. It is time to break the shackles of debt bondage. It is time for the central banks to pay, therefore, a certain monthly amount directly to the account of the citizens, without debt, non-refundable, free, positive, non-credit money. We see this way as one of the ways to fund an unconditional, universal basic income program. Wealth, colleagues, can only come from freedom. Only freed from the fear of stress and debt can our fellow citizens realize their full life potential. Only then will we be able to talk about real development.'\n",
    "tokens1_39 = word_tokenize(raw1_39)\n",
    "for word in tokens1_39:\n",
    "    print(word, end=' ')"
   ]
  },
  {
   "cell_type": "code",
   "execution_count": 42,
   "metadata": {},
   "outputs": [
    {
     "name": "stdout",
     "output_type": "stream",
     "text": [
      "Stelios Kimbouropoulos ( PPE ) . - Madam President , Commissioners , according to Eurostat , only 50.6 % of people with disabilities are employed . In 2019 , 28.4 % of our European citizens with mobility impairment faced the spectrum of poverty and social exclusion . These shocking facts bring us face to face with the need to focus the European Semesters more on the concept of social sustainability , but also the need to adopt social policies that help reduce poverty , inequality , access to services and the provision of equal opportunities for work , education and training , which in turn will allow us to seize the unique opportunities that the digital transformation of our economy entails but also to deal with possible short-term or long-term consequences of our society . This is the way to achieve European sustainable development , as enshrined in the Treaties of the European Union with a view to full employment and social progress . Because when I , as an MEP , can not speak from the central podium due to disability , you can imagine what obstacles and obstacles our other disabled fellow citizens face in the workplace , but also in their lives in general . "
     ]
    }
   ],
   "source": [
    "raw1_40 = 'Stelios Kimbouropoulos (PPE). - Madam President, Commissioners, according to Eurostat, only 50.6% of people with disabilities are employed. In 2019, 28.4% of our European citizens with mobility impairment faced the spectrum of poverty and social exclusion. These shocking facts bring us face to face with the need to focus the European Semesters more on the concept of social sustainability, but also the need to adopt social policies that help reduce poverty, inequality, access to services and the provision of equal opportunities for work, education and training, which in turn will allow us to seize the unique opportunities that the digital transformation of our economy entails but also to deal with possible short-term or long-term consequences of our society. This is the way to achieve European sustainable development, as enshrined in the Treaties of the European Union with a view to full employment and social progress. Because when I, as an MEP, can not speak from the central podium due to disability, you can imagine what obstacles and obstacles our other disabled fellow citizens face in the workplace, but also in their lives in general.'\n",
    "tokens1_40 = word_tokenize(raw1_40)\n",
    "for word in tokens1_40:\n",
    "    print(word, end=' ')"
   ]
  },
  {
   "cell_type": "code",
   "execution_count": 43,
   "metadata": {},
   "outputs": [
    {
     "name": "stdout",
     "output_type": "stream",
     "text": [
      "Jonas Fernandez ( S & D ) . – Madam President , Mr Executive Vice-President , Madam President-in-Office of the Council , this Parliament is debating – and I hope it will approve today – two important reports , key in these times of uncertainty , of doubts as well , on the economic evolution of the Union as a whole . And I want , first of all , to thank the work of my colleagues Lina Gálvez , in the Committee on Employment and Social Affairs , and Joachim Schuster , in the Committee on Economic and Monetary Affairs , who have done an excellent job in reaching a broad consensus that let this house have a clear voice in the debate that the Commission and the Council are having on the implementation of the European Semester and also on the budgetary rules . And I would also like to thank , of course , the effort of my colleague Markus Ferber to reach compromise amendments at the last minute to support the report on the European Semester . It comes at a key moment where the Union , in some way , has broken old conceptions . For the first time in history , the Union is going to issue community debt , common debt , to finance the recovery . For the first time too , the Commission has proposed not to apply the budgetary rules during these times of crisis . We welcome the maintenance of this rule for at least the next year and until the recovery is firm , and we believe that we must take advantage of these months to thoroughly review the budget rules , because no one believes that we can return to the figures marked in the previous regulations and we need to provide the Union as a whole with a counter-cyclical budgetary policy that is sustainable . "
     ]
    }
   ],
   "source": [
    "raw1_41 = 'Jonas Fernandez (S&D). – Madam President, Mr Executive Vice-President, Madam President-in-Office of the Council, this Parliament is debating – and I hope it will approve today – two important reports, key in these times of uncertainty, of doubts as well, on the economic evolution of the Union as a whole. And I want, first of all, to thank the work of my colleagues Lina Gálvez, in the Committee on Employment and Social Affairs, and Joachim Schuster, in the Committee on Economic and Monetary Affairs, who have done an excellent job in reaching a broad consensus that let this house have a clear voice in the debate that the Commission and the Council are having on the implementation of the European Semester and also on the budgetary rules. And I would also like to thank, of course, the effort of my colleague Markus Ferber to reach compromise amendments at the last minute to support the report on the European Semester. It comes at a key moment where the Union, in some way, has broken old conceptions. For the first time in history, the Union is going to issue community debt, common debt, to finance the recovery. For the first time too, the Commission has proposed not to apply the budgetary rules during these times of crisis. We welcome the maintenance of this rule for at least the next year and until the recovery is firm, and we believe that we must take advantage of these months to thoroughly review the budget rules, because no one believes that we can return to the figures marked in the previous regulations and we need to provide the Union as a whole with a counter-cyclical budgetary policy that is sustainable.'\n",
    "tokens1_41 = word_tokenize(raw1_41)\n",
    "for word in tokens1_41:\n",
    "    print(word, end=' ')"
   ]
  },
  {
   "cell_type": "code",
   "execution_count": 44,
   "metadata": {},
   "outputs": [
    {
     "name": "stdout",
     "output_type": "stream",
     "text": [
      "Caroline Nagtegaal ( Renew ) . – ( NL ) Mr President , there is currently plenty of vaccination against the corona virus in Europe . And as Prime Minister Rutte said this week : we are on our way to the finish line , to a more normal life in which everyone gets more breathing space again , the breathing space we crave so that our economy can recover . Today we are talking about the European Semester . As far as I am concerned , this is an important cycle of economic and fiscal policy coordination within the European Union . And it must remain so , especially now in these difficult and difficult economic times . The question is really : how can we get the European economy to recover as quickly as possible so that we can keep expenditure under control at the same time ? We have to find a good balance here . This means that we have to think about how and within what time frame and that we can then tighten the budget rules again . Because it is precisely these rules that ensure a sensible fiscal policy so that countries can absorb this independently in the event of new economic shocks . Over the past year , the European Union has , rightly as far as I am concerned , shown its solidarity towards countries that have been hit hard by the corona crisis . If the economy recovers sufficiently , we will also have to return to normal fiscal rules , simply to make countries more resilient . We need to vaccinate people , restore the economy . That is how we get to the finish line , that is how we get to a more normal life . "
     ]
    }
   ],
   "source": [
    "raw1_42 = 'Caroline Nagtegaal (Renew). – (NL) Mr President, there is currently plenty of vaccination against the corona virus in Europe. And as Prime Minister Rutte said this week: we are on our way to the finish line, to a more normal life in which everyone gets more breathing space again, the breathing space we crave so that our economy can recover. Today we are talking about the European Semester. As far as I am concerned, this is an important cycle of economic and fiscal policy coordination within the European Union. And it must remain so, especially now in these difficult and difficult economic times. The question is really: how can we get the European economy to recover as quickly as possible so that we can keep expenditure under control at the same time? We have to find a good balance here. This means that we have to think about how and within what time frame and that we can then tighten the budget rules again. Because it is precisely these rules that ensure a sensible fiscal policy so that countries can absorb this independently in the event of new economic shocks. Over the past year, the European Union has, rightly as far as I am concerned, shown its solidarity towards countries that have been hit hard by the corona crisis. If the economy recovers sufficiently, we will also have to return to normal fiscal rules, simply to make countries more resilient. We need to vaccinate people, restore the economy. That is how we get to the finish line, that is how we get to a more normal life.'\n",
    "tokens1_42 = word_tokenize(raw1_42)\n",
    "for word in tokens1_42:\n",
    "    print(word, end=' ')"
   ]
  },
  {
   "cell_type": "code",
   "execution_count": 45,
   "metadata": {},
   "outputs": [
    {
     "name": "stdout",
     "output_type": "stream",
     "text": [
      "Maximilian Krah ( ID ) . – Madam President , dear colleagues ! The opposite of good is good intentions . And nobody here denies that the Europe-wide coordination of budgetary policies is well intentioned . But the results we are seeing are that the European Union is the large global economic area with the lowest investment power and , for years , the lowest economic growth . And we will not solve the problem if we now also charge this coordination with the idea of ​​climate protection or gender equality , as is sometimes demanded here , but innovation and economic growth come from freedom and from less state coordination . And that is why the question arises as to whether the demand for more and more European centralization , regulation and cooperation is correct or whether we do not need competition between different nation-state approaches and more freedom for economic actors . In this way we are more likely to create full employment and economic growth than through more and more government , more and more conferences and more and more coordination . "
     ]
    }
   ],
   "source": [
    "raw1_43 = 'Maximilian Krah (ID). – Madam President, dear colleagues! The opposite of good is good intentions. And nobody here denies that the Europe-wide coordination of budgetary policies is well intentioned. But the results we are seeing are that the European Union is the large global economic area with the lowest investment power and, for years, the lowest economic growth. And we will not solve the problem if we now also charge this coordination with the idea of ​​climate protection or gender equality, as is sometimes demanded here, but innovation and economic growth come from freedom and from less state coordination. And that is why the question arises as to whether the demand for more and more European centralization, regulation and cooperation is correct or whether we do not need competition between different nation-state approaches and more freedom for economic actors. In this way we are more likely to create full employment and economic growth than through more and more government, more and more conferences and more and more coordination.'\n",
    "tokens1_43 = word_tokenize(raw1_43)\n",
    "for word in tokens1_43:\n",
    "    print(word, end=' ')"
   ]
  },
  {
   "cell_type": "code",
   "execution_count": 46,
   "metadata": {},
   "outputs": [
    {
     "name": "stdout",
     "output_type": "stream",
     "text": [
      "Beata Mazurek ( ECR ) . - Madam President ! Ladies and gentlemen ! Social and employment policy are matters that are mainly the competence of the Member States . However , during and after a pandemic , it will be necessary to establish common goals and actions focused on combating its negative effects . The main problem is high unemployment , especially affecting young people , whose activation will be necessary for economic recovery after COVID-19 . An important factor stimulating the economic recovery may be the accelerated digital transformation , which already supports the economy and generates new jobs . The European Union should guarantee that every citizen has equal access to training and digital tools . However , we can not forget about the elderly and the difficult situation in the social welfare system . Again , action is needed to ensure the sustainability of pension systems and to ensure long-term care , prevention and treatment . "
     ]
    }
   ],
   "source": [
    "raw1_44 = 'Beata Mazurek (ECR). - Madam President! Ladies and gentlemen! Social and employment policy are matters that are mainly the competence of the Member States. However, during and after a pandemic, it will be necessary to establish common goals and actions focused on combating its negative effects. The main problem is high unemployment, especially affecting young people, whose activation will be necessary for economic recovery after COVID-19. An important factor stimulating the economic recovery may be the accelerated digital transformation, which already supports the economy and generates new jobs. The European Union should guarantee that every citizen has equal access to training and digital tools. However, we cannot forget about the elderly and the difficult situation in the social welfare system. Again, action is needed to ensure the sustainability of pension systems and to ensure long-term care, prevention and treatment.'\n",
    "tokens1_44 = word_tokenize(raw1_44)\n",
    "for word in tokens1_44:\n",
    "    print(word, end=' ')"
   ]
  },
  {
   "cell_type": "code",
   "execution_count": 47,
   "metadata": {},
   "outputs": [
    {
     "name": "stdout",
     "output_type": "stream",
     "text": [
      "Radan Kanev ( PPE ) . - Madam President , first of all , I welcome this report and the idea of ​​coordinating and closer monitoring of economic and social policies in the Union , of tighter controls on the costs of the Green Pact , recovery plans and achieving the objectives of the European Social Pillar . . This monitoring is necessary , it is even mandatory . We can not achieve the social goals of higher incomes , overcoming poverty and a green economy if we pour the money of taxpayers into corruption schemes and unreformed sectors . On the contrary , if European funds are misused , if they are the object of political abuse , they can become a risk , a problem . They can feed the oligarchy and thus increase inequalities , they can be used for artificial respiration of bankrupt energy companies and thus , instead of supporting technological progress and reforms , stop them . They can be targeted for pre-election vote buying and thus deepen social marginalization and dependencies . The European Commission must ensure that every penny of the taxpayer is directed precisely to the modernization of economies and the adaptation of social systems to new demographic and technological realities . "
     ]
    }
   ],
   "source": [
    "raw1_45 = 'Radan Kanev (PPE). - Madam President, first of all, I welcome this report and the idea of ​​coordinating and closer monitoring of economic and social policies in the Union, of tighter controls on the costs of the Green Pact, recovery plans and achieving the objectives of the European Social Pillar. . This monitoring is necessary, it is even mandatory. We cannot achieve the social goals of higher incomes, overcoming poverty and a green economy if we pour the money of taxpayers into corruption schemes and unreformed sectors. On the contrary, if European funds are misused, if they are the object of political abuse, they can become a risk, a problem. They can feed the oligarchy and thus increase inequalities, they can be used for artificial respiration of bankrupt energy companies and thus, instead of supporting technological progress and reforms, stop them. They can be targeted for pre-election vote buying and thus deepen social marginalization and dependencies. The European Commission must ensure that every penny of the taxpayer is directed precisely to the modernization of economies and the adaptation of social systems to new demographic and technological realities.'\n",
    "tokens1_45 = word_tokenize(raw1_45)\n",
    "for word in tokens1_45:\n",
    "    print(word, end=' ')"
   ]
  },
  {
   "cell_type": "code",
   "execution_count": 48,
   "metadata": {},
   "outputs": [
    {
     "name": "stdout",
     "output_type": "stream",
     "text": [
      "Gabriele Bischoff ( S & D ) . – Madam President , dear Minister , dear Commissioners , dear colleagues ! The debate we are having here about the European Semester is very closely linked to how we can rebuild Europe after this pandemic and how we can make Europe more sustainable , more digital and more social . But in order to achieve that , we must also anchor these goals more firmly in the European Semester , and with our report here from the Employment Committee we are making it very clear that more upward convergence , stronger social security systems , a good , functioning social dialogue and good health care are essential , to get out of such a crisis . And the past economic and social crisis has shown that very clearly . Because countries that have these qualities have come through the crisis faster and better . It is therefore high time , it is long overdue , that we now strengthen social resilience in the national reform programs throughout the semester process . And I am very happy that the Commission has recognized this and is also taking it forward . Because it can not be the case that only those who are doing well anyway come out of the crisis lightly , or that they are actually supported . "
     ]
    }
   ],
   "source": [
    "raw1_46 = 'Gabriele Bischoff (S&D). – Madam President, dear Minister, dear Commissioners, dear colleagues! The debate we are having here about the European Semester is very closely linked to how we can rebuild Europe after this pandemic and how we can make Europe more sustainable, more digital and more social. But in order to achieve that, we must also anchor these goals more firmly in the European Semester, and with our report here from the Employment Committee we are making it very clear that more upward convergence, stronger social security systems, a good, functioning social dialogue and good health care are essential, to get out of such a crisis. And the past economic and social crisis has shown that very clearly. Because countries that have these qualities have come through the crisis faster and better. It is therefore high time, it is long overdue, that we now strengthen social resilience in the national reform programs throughout the semester process. And I am very happy that the Commission has recognized this and is also taking it forward. Because it cannot be the case that only those who are doing well anyway come out of the crisis lightly, or that they are actually supported.'\n",
    "tokens1_46 = word_tokenize(raw1_46)\n",
    "for word in tokens1_46:\n",
    "    print(word, end=' ')"
   ]
  },
  {
   "cell_type": "code",
   "execution_count": 49,
   "metadata": {},
   "outputs": [
    {
     "name": "stdout",
     "output_type": "stream",
     "text": [
      "Fabienne Keller ( Renew ) . – Madam President , Commissioner , our fellow European citizens have just gone through a year of health , social and economic crises . It is obvious that we can not conduct the European Semester and apply the stability rules as we did before . This position was defended and adopted by a very large majority in the opinion of the Committee on Budgets on the European Semester . This European Semester is of course essential to the convergence of the economic policies necessary for the functioning of the internal market , but since its creation , many challenges have emerged . This is why we are calling in the Committee on Budgets for better consideration of social issues in connection with the resumption of employment , environmental priority , greater fiscal coordination , the reduction of poverty and gender equality . In this regard , I would like to say with my colleague Sylvie Brunet that it is a priority to significantly reduce the gaps that exist in terms of employment between women and men , as well as to improve the situation of young people who are neither education or employment . It is also a priority to fight against poverty and social exclusion , to deal with the root causes . We must also pay attention to the working conditions of certain workers who have been put to the test and who have been essential to us during the crisis . This rebound , this new impetus , can be based on a multi-annual budget and an ambitious European recovery plan , offering Member States funding opportunities in favor of the environmental and social dimension of the European Union . "
     ]
    }
   ],
   "source": [
    "raw1_47 = 'Fabienne Keller (Renew). – Madam President, Commissioner, our fellow European citizens have just gone through a year of health, social and economic crises. It is obvious that we cannot conduct the European Semester and apply the stability rules as we did before. This position was defended and adopted by a very large majority in the opinion of the Committee on Budgets on the European Semester. This European Semester is of course essential to the convergence of the economic policies necessary for the functioning of the internal market, but since its creation, many challenges have emerged. This is why we are calling in the Committee on Budgets for better consideration of social issues in connection with the resumption of employment, environmental priority, greater fiscal coordination, the reduction of poverty and gender equality. In this regard, I would like to say with my colleague Sylvie Brunet that it is a priority to significantly reduce the gaps that exist in terms of employment between women and men, as well as to improve the situation of young people who are neither education or employment. It is also a priority to fight against poverty and social exclusion, to deal with the root causes. We must also pay attention to the working conditions of certain workers who have been put to the test and who have been essential to us during the crisis. This rebound, this new impetus, can be based on a multi-annual budget and an ambitious European recovery plan, offering Member States funding opportunities in favor of the environmental and social dimension of the European Union.'\n",
    "tokens1_47 = word_tokenize(raw1_47)\n",
    "for word in tokens1_47:\n",
    "    print(word, end=' ')"
   ]
  },
  {
   "cell_type": "code",
   "execution_count": 50,
   "metadata": {},
   "outputs": [
    {
     "name": "stdout",
     "output_type": "stream",
     "text": [
      "Nicholas Bay ( ID ) . – Madam President , if we want to regain growth , which we had moreover lost long before the health crisis , and if you want this growth to be sustainable : liberating and protecting , then , are the two conditions that must be met . We must liberate our economy and allow our businesses to reach their full potential without crushing them with taxation and overregulation . Recent decisions on the European budget have shown a real headlong rush : systematic increase in budgets , introduction of own resources , not to reduce the contribution of the States by as much , but to further increase the tax burden . Moreover , your escalation of ever more demanding constraints and standards , particularly environmental , with a green pact for Europe with unachievable objectives , obviously weighs like a ball and chain on our businesses , our industries and our farmers and producers . If you could still impose these standards on our competitors , and for that , we would have to agree to protect our economy , to free ourselves from globalized free trade which creates unfair competition and slows down our growth . Moreover , it would not be a question of overtaxing all incoming products , but simply of setting up customs barriers when necessary , as most countries in the world know how to do , to finally defend our local productions . The current Portuguese Presidency of the European Union , as well as some in this hemicycle , are still calling for the rapid conclusion of the trade agreement with the Mercosur countries . I obviously hope for our farmers that he will be buried for good . To persist in being the best students in the green class will only have the effect of making us impotent and weak at the mercy of the aggressive strategies of countries which have neither our complexes nor our modesty and to which you have opened wide our market . "
     ]
    }
   ],
   "source": [
    "raw1_48 = 'Nicholas Bay (ID). – Madam President, if we want to regain growth, which we had moreover lost long before the health crisis, and if you want this growth to be sustainable: liberating and protecting, then, are the two conditions that must be met. We must liberate our economy and allow our businesses to reach their full potential without crushing them with taxation and overregulation. Recent decisions on the European budget have shown a real headlong rush: systematic increase in budgets, introduction of own resources, not to reduce the contribution of the States by as much, but to further increase the tax burden. Moreover, your escalation of ever more demanding constraints and standards, particularly environmental, with a green pact for Europe with unachievable objectives, obviously weighs like a ball and chain on our businesses, our industries and our farmers and producers. If you could still impose these standards on our competitors, and for that, we would have to agree to protect our economy, to free ourselves from globalized free trade which creates unfair competition and slows down our growth. Moreover, it would not be a question of overtaxing all incoming products, but simply of setting up customs barriers when necessary, as most countries in the world know how to do, to finally defend our local productions. The current Portuguese Presidency of the European Union, as well as some in this hemicycle, are still calling for the rapid conclusion of the trade agreement with the Mercosur countries. I obviously hope for our farmers that he will be buried for good. To persist in being the best students in the green class will only have the effect of making us impotent and weak at the mercy of the aggressive strategies of countries which have neither our complexes nor our modesty and to which you have opened wide our market.'\n",
    "tokens1_48 = word_tokenize(raw1_48)\n",
    "for word in tokens1_48:\n",
    "    print(word, end=' ')"
   ]
  },
  {
   "cell_type": "code",
   "execution_count": 51,
   "metadata": {},
   "outputs": [
    {
     "name": "stdout",
     "output_type": "stream",
     "text": [
      "Andżelika Anna Możdżanowska ( ECR ) . - Madam President ! Mrs. Minister ! The workflow of the ECON report is a clinical example of a clash between two approaches : a healthy conservative approach that sees the European Semester in its original function as a process of fiscal and economic policy coordination , and a creative and essentially wishful approach that seeks to make the semester a tool for implementing a multitude of policies . goals and ideas . An approach which makes the righteous concern for the environment an absolute priority and subordinates it to economic goals such as concern for sustainable finance and economic development should , especially now in an unprecedented crisis , be treated as extremely irresponsible . Meanwhile , the dreamers are accusing the down-to-earth realists of an unambitious approach to the matter . After the crisis caused by the COVID-19 pandemic , what is most important is the Single Market . Only it can increase the productivity and competitiveness of the European economy . Building the strategic autonomy of the European Union is of key importance . What will be the result of this clash will be shown by voting . However , I am afraid that irresponsible dreamers will win . "
     ]
    }
   ],
   "source": [
    "raw1_49 = 'Andżelika Anna Możdżanowska (ECR). - Madam President! Mrs. Minister! The workflow of the ECON report is a clinical example of a clash between two approaches: a healthy conservative approach that sees the European Semester in its original function as a process of fiscal and economic policy coordination, and a creative and essentially wishful approach that seeks to make the semester a tool for implementing a multitude of policies. goals and ideas. An approach which makes the righteous concern for the environment an absolute priority and subordinates it to economic goals such as concern for sustainable finance and economic development should, especially now in an unprecedented crisis, be treated as extremely irresponsible. Meanwhile, the dreamers are accusing the down-to-earth realists of an unambitious approach to the matter. After the crisis caused by the COVID-19 pandemic, what is most important is the Single Market. Only it can increase the productivity and competitiveness of the European economy. Building the strategic autonomy of the European Union is of key importance. What will be the result of this clash will be shown by voting. However, I am afraid that irresponsible dreamers will win.'\n",
    "tokens1_49 = word_tokenize(raw1_49)\n",
    "for word in tokens1_49:\n",
    "    print(word, end=' ')"
   ]
  },
  {
   "cell_type": "code",
   "execution_count": 52,
   "metadata": {},
   "outputs": [
    {
     "name": "stdout",
     "output_type": "stream",
     "text": [
      "Maria Walsh ( PPE ) . – Madam President , one of the very first benefits of Ireland joining the European Union in 1973 was the abolishment of a law restricting the employment of married women . Forty—eight years later , we are still struggling to address the issue of gender gaps in our labour market . Today , the gender pay gap stands at 14 % and the gender pension gap at 30 % . Successive lockdowns have widened the existing gender divide in unpaid care work that was already keeping more women than men out of our labour market . Women in Ireland and all over Europe , I salute you on the week of International Women ’ s Day , with many of you having no choice but to step back from your paid work to care for and educate family members during this pandemic . There was never a more important time to use the European Semester process to focus on addressing the barriers to women ’ s full and equal participation in the workplace and to reduce the long—term impact COVID is having on women ’ s employment , women ’ s pay and women ’ s career development . "
     ]
    }
   ],
   "source": [
    "raw1_50 = 'Maria Walsh (PPE). – Madam President, one of the very first benefits of Ireland joining the European Union in 1973 was the abolishment of a law restricting the employment of married women. Forty—eight years later, we are still struggling to address the issue of gender gaps in our labour market. Today, the gender pay gap stands at 14% and the gender pension gap at 30%. Successive lockdowns have widened the existing gender divide in unpaid care work that was already keeping more women than men out of our labour market. Women in Ireland and all over Europe, I salute you on the week of International Women’s Day, with many of you having no choice but to step back from your paid work to care for and educate family members during this pandemic. There was never a more important time to use the European Semester process to focus on addressing the barriers to women’s full and equal participation in the workplace and to reduce the long—term impact COVID is having on women’s employment, women’s pay and women’s career development.'\n",
    "tokens1_50 = word_tokenize(raw1_50)\n",
    "for word in tokens1_50:\n",
    "    print(word, end=' ')"
   ]
  },
  {
   "cell_type": "code",
   "execution_count": 53,
   "metadata": {},
   "outputs": [
    {
     "name": "stdout",
     "output_type": "stream",
     "text": [
      "Alfred Sant ( S & D ) . – Madam President , during this legislature this House has not yet managed to pass a single resolution regarding the economic aspect of the European semester . The reason is simple . The rules binding the semester are not accepted by all as economically and socially effective . Regions , economic agents and political factions experience the process as an arbitrary system of governance . In the meantime , many believe that the draconian approach to semester rules has been the cause of increased poverty and dwindling public spending in crucial areas like health and education . The root of the problem has been a ‘ one size fits all ’ methodology supposedly designed to promote a level playing field . It suits major EU regions and economic models to the disadvantage of others . Even now , assistance programmes and allowed exceptions are favouring regions which economically are most resilient to crisis . So , for instance , the handicaps carried by insular peripheral regions of the EU are still being underestimated . We need a socially charged reform of the semester process , based on a tailor-made approach that reflects the separate needs of the different regions and communities of the Union . "
     ]
    }
   ],
   "source": [
    "raw1_51 = 'Alfred Sant (S&D). – Madam President, during this legislature this House has not yet managed to pass a single resolution regarding the economic aspect of the European semester. The reason is simple. The rules binding the semester are not accepted by all as economically and socially effective. Regions, economic agents and political factions experience the process as an arbitrary system of governance. In the meantime, many believe that the draconian approach to semester rules has been the cause of increased poverty and dwindling public spending in crucial areas like health and education. The root of the problem has been a ‘one size fits all’ methodology supposedly designed to promote a level playing field. It suits major EU regions and economic models to the disadvantage of others. Even now, assistance programmes and allowed exceptions are favouring regions which economically are most resilient to crisis. So, for instance, the handicaps carried by insular peripheral regions of the EU are still being underestimated. We need a socially charged reform of the semester process, based on a tailor-made approach that reflects the separate needs of the different regions and communities of the Union.'\n",
    "tokens1_51 = word_tokenize(raw1_51)\n",
    "for word in tokens1_51:\n",
    "    print(word, end=' ')"
   ]
  },
  {
   "cell_type": "code",
   "execution_count": 54,
   "metadata": {},
   "outputs": [
    {
     "name": "stdout",
     "output_type": "stream",
     "text": [
      "Bogdan Rzońca ( ECR ) . - Madam President ! Ladies and gentlemen ! We must thank the rapporteurs and Mrs Gálvez for building a good compromise and for preparing good material that we are debating . Later it got worse , unfortunately , while working on a meaningful report , very ideological content related to environmentalism , related to ecocentrism , was added . It costs a lot , it is impossible to count , and today we have other real problems right outside our window . That is why we believe that only good investments , well calculated , only good allocation of structural funds and all instruments available today to the economy , and more specifically - helping entrepreneurs , helping employers , helping employees , issues in the field of social policy , this is now a necessary challenge . when we talk about the preparation and implementation of the budget in the European Union in the years to come . So let us be wise , let us allocate the resources we have today to areas that require quick and good intervention . And then the European Union will be more competitive . Everything can be counted , and uncountable ideas are just a waste of time . "
     ]
    }
   ],
   "source": [
    "raw1_52 = 'Bogdan Rzońca (ECR). - Madam President! Ladies and gentlemen! We must thank the rapporteurs and Mrs Gálvez for building a good compromise and for preparing good material that we are debating. Later it got worse, unfortunately, while working on a meaningful report, very ideological content related to environmentalism, related to ecocentrism, was added. It costs a lot, it is impossible to count, and today we have other real problems right outside our window. That is why we believe that only good investments, well calculated, only good allocation of structural funds and all instruments available today to the economy, and more specifically - helping entrepreneurs, helping employers, helping employees, issues in the field of social policy, this is now a necessary challenge. when we talk about the preparation and implementation of the budget in the European Union in the years to come. So let us be wise, let us allocate the resources we have today to areas that require quick and good intervention. And then the European Union will be more competitive. Everything can be counted, and uncountable ideas are just a waste of time.'\n",
    "tokens1_52 = word_tokenize(raw1_52)\n",
    "for word in tokens1_52:\n",
    "    print(word, end=' ')"
   ]
  },
  {
   "cell_type": "code",
   "execution_count": 55,
   "metadata": {},
   "outputs": [
    {
     "name": "stdout",
     "output_type": "stream",
     "text": [
      "Miriam Lexmann ( EPP ) . - Madam President , we have long pointed out that , despite many strategies and initiatives , gender pay inequality still persists . In the European Union , this represents 14 percent . It is subsequently followed by inequality in pensions . Women are thus disadvantaged not only during active life , but later during retirement , the retirement period becoming at risk of poverty . Of course , this situation has complex causes , namely a greater representation of women in lower-paid sectors , as well as a greater amount of time spent on unpaid domestic work or caring responsibilities . For these reasons , women often accept lower paid and shorter work . Although we have been systematically drawing attention to this phenomenon for years , we have not yet taken measures to ensure that the care of children or dependent relatives is not reflected in the reduction of pension entitlements due to the missed years of careers . Investing in raising children or caring for a family member is a value in itself , but it also has a quantifiable value for our economy and the sustainability of the social system . Therefore , we need to think about how to fairly evaluate periods of care and convert them into fairer pensions . I would like to thank my colleagues for supporting my amendment in this regard , and to call on the Member States to follow this recommendation when adjusting their pension reforms . "
     ]
    }
   ],
   "source": [
    "raw1_53 = 'Miriam Lexmann (EPP). - Madam President, we have long pointed out that, despite many strategies and initiatives, gender pay inequality still persists. In the European Union, this represents 14 percent. It is subsequently followed by inequality in pensions. Women are thus disadvantaged not only during active life, but later during retirement, the retirement period becoming at risk of poverty. Of course, this situation has complex causes, namely a greater representation of women in lower-paid sectors, as well as a greater amount of time spent on unpaid domestic work or caring responsibilities. For these reasons, women often accept lower paid and shorter work. Although we have been systematically drawing attention to this phenomenon for years, we have not yet taken measures to ensure that the care of children or dependent relatives is not reflected in the reduction of pension entitlements due to the missed years of careers. Investing in raising children or caring for a family member is a value in itself, but it also has a quantifiable value for our economy and the sustainability of the social system. Therefore, we need to think about how to fairly evaluate periods of care and convert them into fairer pensions. I would like to thank my colleagues for supporting my amendment in this regard, and to call on the Member States to follow this recommendation when adjusting their pension reforms.'\n",
    "tokens1_53 = word_tokenize(raw1_53)\n",
    "for word in tokens1_53:\n",
    "    print(word, end=' ')"
   ]
  },
  {
   "cell_type": "code",
   "execution_count": 56,
   "metadata": {},
   "outputs": [
    {
     "name": "stdout",
     "output_type": "stream",
     "text": [
      "Lukas Mandl ( EPP ) . – Madam President , dear Commissioner , dear colleagues ! In our European societies we are experiencing a simultaneity of very different perceptions of this crisis . Those who are ill or have been ill , who have sick relatives or friends , are particularly aware of the health crisis and know how dangerous this disease is . Those who are concerned about their jobs , or who have actually lost their jobs , have real , serious , existential concerns . And then there are many who take the necessary measures and follow these necessary measures , but know : Yes , not everything is easy in everyday life . We are focused on managing the health crisis . Vaccinations and everything related to them come first . But then immediately the job market is on our work agenda . That is why it is so important that , as part of the debate on the European Semester , we talk about how each and every job can be saved and new jobs created . The fact that the subsidy regime is suspended for the duration of the health crisis was important and is also a success of Austria and other Member States , so that help can be provided directly , immediately , quickly and with full force as long as this health crisis lasts . And after that we need training , further training , opportunities for young people and more entrepreneurial freedom , more opportunities for employees so that Europe comes out of the crisis well . "
     ]
    }
   ],
   "source": [
    "raw1_54 = 'Lukas Mandl (EPP). – Madam President, dear Commissioner, dear colleagues! In our European societies we are experiencing a simultaneity of very different perceptions of this crisis. Those who are ill or have been ill, who have sick relatives or friends, are particularly aware of the health crisis and know how dangerous this disease is. Those who are concerned about their jobs, or who have actually lost their jobs, have real, serious, existential concerns. And then there are many who take the necessary measures and follow these necessary measures, but know: Yes, not everything is easy in everyday life. We are focused on managing the health crisis. Vaccinations and everything related to them come first. But then immediately the job market is on our work agenda. That is why it is so important that, as part of the debate on the European Semester, we talk about how each and every job can be saved and new jobs created. The fact that the subsidy regime is suspended for the duration of the health crisis was important and is also a success of Austria and other Member States, so that help can be provided directly, immediately, quickly and with full force as long as this health crisis lasts. And after that we need training, further training, opportunities for young people and more entrepreneurial freedom, more opportunities for employees so that Europe comes out of the crisis well.'\n",
    "tokens1_54 = word_tokenize(raw1_54)\n",
    "for word in tokens1_54:\n",
    "    print(word, end=' ')"
   ]
  },
  {
   "cell_type": "code",
   "execution_count": 57,
   "metadata": {},
   "outputs": [
    {
     "name": "stdout",
     "output_type": "stream",
     "text": [
      "Massimiliano Salini ( PPE ) . - Madam President , ladies and gentlemen , Commissioner , Europe at the time of Covid changed its watchwords and decided to put pillars such as growth and reforms and the combination of growth and reform at the center of its political agenda . , long last . It is a new paradigm , it is a paradigm that takes into account the fact that rigor is sometimes necessary , but favors only some , while growth favors everyone . We can not fail to consider that asking for reforms from individual countries can not be done by a European Union which at times instead seems to be hiding behind the illusion of its own infallibility . The reforms must be implemented by everyone , otherwise it would not be clear why normally on this semester , which we discuss every first semester , there is never an agreement , not even here in Parliament . What is the reason ? The reason is that too often what we call `` coordination of member countries '' is transformed into a claim of `` conditioning '' : this does not favor growth . The long period , to bother Keynes , is not the one in which we will all be dead , the long period is the one in which we raise our children and our grandchildren . Well , NextGenerationEU is the novelty that focuses on our passion for the future of citizens , let us bow to this novelty in the European political paradigm . "
     ]
    }
   ],
   "source": [
    "raw1_55 = 'Massimiliano Salini (PPE). - Madam President, ladies and gentlemen, Commissioner, Europe at the time of Covid changed its watchwords and decided to put pillars such as growth and reforms and the combination of growth and reform at the center of its political agenda. , long last. It is a new paradigm, it is a paradigm that takes into account the fact that rigor is sometimes necessary, but favors only some, while growth favors everyone. We cannot fail to consider that asking for reforms from individual countries cannot be done by a European Union which at times instead seems to be hiding behind the illusion of its own infallibility. The reforms must be implemented by everyone, otherwise it would not be clear why normally on this semester, which we discuss every first semester, there is never an agreement, not even here in Parliament. What is the reason? The reason is that too often what we call \"coordination of member countries\" is transformed into a claim of \"conditioning\": this does not favor growth. The long period, to bother Keynes, is not the one in which we will all be dead, the long period is the one in which we raise our children and our grandchildren. Well, NextGenerationEU is the novelty that focuses on our passion for the future of citizens, let us bow to this novelty in the European political paradigm.'\n",
    "tokens1_55 = word_tokenize(raw1_55)\n",
    "for word in tokens1_55:\n",
    "    print(word, end=' ')"
   ]
  },
  {
   "cell_type": "code",
   "execution_count": 58,
   "metadata": {},
   "outputs": [
    {
     "name": "stdout",
     "output_type": "stream",
     "text": [
      "Rosa Estaràs Ferragut ( PPE ) . – Madam President , ladies and gentlemen , there is no doubt that the pandemic , the lockdown and the disruption of supply chains have exacerbated inequalities . The labor market has the face of unemployment . The salary , pension and digital gaps reach unacceptable figures , just as the situation of access to education is unacceptable , especially for the most vulnerable groups . Digitization has also accelerated and a profound restructuring has taken place and is taking place . The Member States and the European Union are trying to fight the pandemic , rebuild the economy , speed up the recovery and prepare our societies for this digital and economic transition , but the response in this transition has to be a just response , a response that does not leave no one behind , that does not leave any territory , but also that does not compromise the heritage of future generations . We are in a moment of disaffection towards the European project and towards democracy . There is also a disaffection towards the consolidated political parties and , unfortunately , there are some citizens who are more open to authoritarian interpretations of democracy . Faced with this , we have to give a response that must be transparent : European funds , European response , has been historic , but now is the time for the Member States : that these funds go where they have to go , where they are most needed , with transparency and common sense , never for ideological projects . It is time for political leadership with a European vision ; it is time for a more social Europe , but also more transparent and with common sense . "
     ]
    }
   ],
   "source": [
    "raw1_56 = 'Rosa Estaràs Ferragut (PPE). – Madam President, ladies and gentlemen, there is no doubt that the pandemic, the lockdown and the disruption of supply chains have exacerbated inequalities. The labor market has the face of unemployment. The salary, pension and digital gaps reach unacceptable figures, just as the situation of access to education is unacceptable, especially for the most vulnerable groups. Digitization has also accelerated and a profound restructuring has taken place and is taking place. The Member States and the European Union are trying to fight the pandemic, rebuild the economy, speed up the recovery and prepare our societies for this digital and economic transition, but the response in this transition has to be a just response, a response that does not leave no one behind, that does not leave any territory, but also that does not compromise the heritage of future generations. We are in a moment of disaffection towards the European project and towards democracy. There is also a disaffection towards the consolidated political parties and, unfortunately, there are some citizens who are more open to authoritarian interpretations of democracy. Faced with this, we have to give a response that must be transparent: European funds, European response, has been historic, but now is the time for the Member States: that these funds go where they have to go, where they are most needed, with transparency and common sense, never for ideological projects. It is time for political leadership with a European vision; it is time for a more social Europe, but also more transparent and with common sense.'\n",
    "tokens1_56 = word_tokenize(raw1_56)\n",
    "for word in tokens1_56:\n",
    "    print(word, end=' ')"
   ]
  },
  {
   "cell_type": "code",
   "execution_count": 59,
   "metadata": {},
   "outputs": [
    {
     "name": "stdout",
     "output_type": "stream",
     "text": [
      "Eugen Tomac ( PPE ) . - Madam President , the pandemic caused by COVID-19 shook us hard , but it did not defeat us . But the numbers are worrying : 6.1 million Europeans lost their jobs in 2020 . Youth unemployment is increasingly alarming . 17 % of young Europeans are unemployed . But European instruments and mechanisms continue to fight the pandemic and recover our economies , and now is the time for profound structural change and mature and responsible public policies . What solutions are needed for a healthy , economically , democratic Europe and , first and foremost , to overcome this crisis ? First of all , we need stable and quality jobs , decent working conditions , low inequalities in the labor market , a guaranteed minimum income , active and involved young people , children who can reach their full potential . I strongly believe , Commissioners , that we need to do more because , unfortunately , this pandemic will bring a wave of discontent , and populism and extremism are hunting down all this discontent to undermine the European project . "
     ]
    }
   ],
   "source": [
    "raw1_57 = 'Eugen Tomac (PPE). - Madam President, the pandemic caused by COVID-19 shook us hard, but it did not defeat us. But the numbers are worrying: 6.1 million Europeans lost their jobs in 2020. Youth unemployment is increasingly alarming. 17% of young Europeans are unemployed. But European instruments and mechanisms continue to fight the pandemic and recover our economies, and now is the time for profound structural change and mature and responsible public policies. What solutions are needed for a healthy, economically, democratic Europe and, first and foremost, to overcome this crisis? First of all, we need stable and quality jobs, decent working conditions, low inequalities in the labor market, a guaranteed minimum income, active and involved young people, children who can reach their full potential. I strongly believe, Commissioners, that we need to do more because, unfortunately, this pandemic will bring a wave of discontent, and populism and extremism are hunting down all this discontent to undermine the European project.'\n",
    "tokens1_57 = word_tokenize(raw1_57)\n",
    "for word in tokens1_57:\n",
    "    print(word, end=' ')"
   ]
  },
  {
   "cell_type": "code",
   "execution_count": 60,
   "metadata": {},
   "outputs": [
    {
     "name": "stdout",
     "output_type": "stream",
     "text": [
      "Nicolas Schmit , Member of the Commission . – Madam President , this debate has shown once again that we are striving for the same goal : a sustainable and inclusive recovery today and economic and social upward convergence today and tomorrow . The legal framework is in place , we have the necessary tools at our disposal and it is important to proceed with further concrete measures without delay . Member States are submitting their recovery and resilience plans formally . And we need to move fast now and ensure quality in these plans and in their implementation . As I said at the beginning , and has been reinforced in the course of this debate , social Europe must be at the heart of a sustainable recovery . Through the action plan on the European pillar of social rights we are committing to further measures , to building a stronger social Europe for just transitions and the recovery . Yes , we need a new social rulebook , as expressed by President von der Leyen here in Parliament . An effective and coherent economic , budgetary and social governance has to lead us out of this crisis and prepare the path towards sustainable growth . That ’ s what we are working for , together with national parliaments . Both green and digital investments are crucial , as is combating inequalities and poverty . And this starts with fair wages that allow a decent standard of living and restore the value of work . I have listened carefully to many of the speakers asking for more equality and especially more gender equality on the labour market . For more equality at the level of wages , because it is women – a majority of women – who are at the lower end of the pay scale and who have very often been on the front line during this crisis . That ’ s why this Commission is very committed to changing this , and to changing it now . The directive proposal on a framework for adequate minimum wages , as well as the wage transparency directive , aim precisely at this . We also need concrete steps towards quality job creation , as has been underlined by many speakers : preventing unemployment ; bringing back the long—term unemployed in particular to work ; and offering strong and good prospects for young people . This is what European citizens expect now and what they also expect from our policies . "
     ]
    }
   ],
   "source": [
    "raw1_58 = 'Nicolas Schmit, Member of the Commission. – Madam President, this debate has shown once again that we are striving for the same goal: a sustainable and inclusive recovery today and economic and social upward convergence today and tomorrow. The legal framework is in place, we have the necessary tools at our disposal and it is important to proceed with further concrete measures without delay. Member States are submitting their recovery and resilience plans formally. And we need to move fast now and ensure quality in these plans and in their implementation. As I said at the beginning, and has been reinforced in the course of this debate, social Europe must be at the heart of a sustainable recovery. Through the action plan on the European pillar of social rights we are committing to further measures, to building a stronger social Europe for just transitions and the recovery. Yes, we need a new social rulebook, as expressed by President von der Leyen here in Parliament. An effective and coherent economic, budgetary and social governance has to lead us out of this crisis and prepare the path towards sustainable growth. That’s what we are working for, together with national parliaments. Both green and digital investments are crucial, as is combating inequalities and poverty. And this starts with fair wages that allow a decent standard of living and restore the value of work. I have listened carefully to many of the speakers asking for more equality and especially more gender equality on the labour market. For more equality at the level of wages, because it is women – a majority of women – who are at the lower end of the pay scale and who have very often been on the front line during this crisis. That’s why this Commission is very committed to changing this, and to changing it now. The directive proposal on a framework for adequate minimum wages, as well as the wage transparency directive, aim precisely at this. We also need concrete steps towards quality job creation, as has been underlined by many speakers: preventing unemployment; bringing back the long—term unemployed in particular to work; and offering strong and good prospects for young people. This is what European citizens expect now and what they also expect from our policies.'\n",
    "tokens1_58 = word_tokenize(raw1_58)\n",
    "for word in tokens1_58:\n",
    "    print(word, end=' ')"
   ]
  },
  {
   "cell_type": "code",
   "execution_count": 61,
   "metadata": {},
   "outputs": [
    {
     "name": "stdout",
     "output_type": "stream",
     "text": [
      "Valdis Dombrovskis , Executive Vice-President of the Commission . – Madam President , I would like to thank the European Parliament for holding this timely debate . In circumstances such as these , it ’ s perhaps useful to recall that the European Semester came into existence a decade ago and in the wake of the last crisis . One lesson that we learned at that time is that economic policy coordination and surveillance can only be effective if it takes an integrated approach and covers all relevant aspects , and takes into account how they interact . Over the years , the European Semester has evolved and adapted according to changing circumstances . It has assumed its central role for coordinating economic and employment policies . It has also inspired domestic policy debates . Its focus has expanded to include social and employment objectives , and it pays increasing attention to investment challenges . The European Semester now integrates the United Nations Sustainable Development Goals , adding environmental and climate aspects into this analysis . It has repeatedly proved its value by its flexibility alone . It remains our main tool for coordinating economic , fiscal and employment policies . In the wake of the COVID-19 crisis , we will need a functioning European Semester more than ever to coordinate these policies across the European Union . It will be vital for an inclusive and lasting recovery , especially from social and employment perspectives , and a recovery that is as uniform as we can make it across the Member States . By the same token , it is important to include all parties in this process , particularly within Member States . This means continuous , closed engagement with social partners , civil society , local and regional authorities , as well as with national parliaments , and of course with the European Parliament . I look forward to continued engagement and to update you on the European Semester implementation . "
     ]
    }
   ],
   "source": [
    "raw1_59 = 'Valdis Dombrovskis, Executive Vice-President of the Commission. – Madam President, I would like to thank the European Parliament for holding this timely debate. In circumstances such as these, it’s perhaps useful to recall that the European Semester came into existence a decade ago and in the wake of the last crisis. One lesson that we learned at that time is that economic policy coordination and surveillance can only be effective if it takes an integrated approach and covers all relevant aspects, and takes into account how they interact. Over the years, the European Semester has evolved and adapted according to changing circumstances. It has assumed its central role for coordinating economic and employment policies. It has also inspired domestic policy debates. Its focus has expanded to include social and employment objectives, and it pays increasing attention to investment challenges. The European Semester now integrates the United Nations Sustainable Development Goals, adding environmental and climate aspects into this analysis. It has repeatedly proved its value by its flexibility alone. It remains our main tool for coordinating economic, fiscal and employment policies. In the wake of the COVID-19 crisis, we will need a functioning European Semester more than ever to coordinate these policies across the European Union. It will be vital for an inclusive and lasting recovery, especially from social and employment perspectives, and a recovery that is as uniform as we can make it across the Member States. By the same token, it is important to include all parties in this process, particularly within Member States. This means continuous, closed engagement with social partners, civil society, local and regional authorities, as well as with national parliaments, and of course with the European Parliament. I look forward to continued engagement and to update you on the European Semester implementation.'\n",
    "tokens1_59 = word_tokenize(raw1_59)\n",
    "for word in tokens1_59:\n",
    "    print(word, end=' ')"
   ]
  },
  {
   "cell_type": "code",
   "execution_count": 62,
   "metadata": {},
   "outputs": [
    {
     "name": "stdout",
     "output_type": "stream",
     "text": [
      "Ana Paula Zacarias , President-in-Office of the Board . – Madam President , ladies and gentlemen , I would like first of all to thank you for the two reports that have been presented today and also to thank you for the comments that have been made , which constitute valuable contributions to the debates that are currently taking place in the Council , both in terms of recovery and resilience plans , economic recovery , social and employment policies , health policies , strengthening the single market , which is so important , and the dual digital and climate transition . We need to respond immediately to the crisis . But we must always do so with a vision of the future , ensuring a balance between investments and reforms , and for that , we must strengthen , as has already been said , dialogue in European capitals , consultation with interested parties , consultation with civil society and social partners , ensuring transparency in the management of the European Semester and recovery and resilience plans . The Semester has been able to adapt over the last 10 years . The Semester was able to adapt to the circumstances and the debates held in the parliamentary week , which took place a short time ago , illustrate this well . The preparation of plans is done in many countries in a participatory manner and Parliament will accompany the work of the Commission throughout the implementation of the plans . The Semester adapted to the exceptional circumstances we are experiencing . The budget rules were also being adjusted to the moment of crisis . The activation of the general scope waiver clause in 2021 is evidence of this . There is also a consensus that the clause must remain active until 2022 . Furthermore , we believe that appropriate measures to support people must be maintained as long as necessary , promoting cohesion and convergence , promoting social and equality policies . , alongside sustainability and digital innovation . The European Semester must therefore continue to adapt . I am sure that the European Parliament will play its part in stimulating the broader debate that we have to have on budgetary rules and their place in the reconstruction of a post-pandemic Europe . The debate of today has shown that , while there are many differences , there are also many commonalities that provide us with a basis for working together . I therefore trust in our continuous cooperation , looking at the challenges that lie ahead and identifying suitable solutions to face them . Thank you , once again , for your attention . "
     ]
    }
   ],
   "source": [
    "raw1_60 = 'Ana Paula Zacarias, President-in-Office of the Board. – Madam President, ladies and gentlemen, I would like first of all to thank you for the two reports that have been presented today and also to thank you for the comments that have been made, which constitute valuable contributions to the debates that are currently taking place in the Council, both in terms of recovery and resilience plans, economic recovery, social and employment policies, health policies, strengthening the single market, which is so important, and the dual digital and climate transition. We need to respond immediately to the crisis. But we must always do so with a vision of the future, ensuring a balance between investments and reforms, and for that, we must strengthen, as has already been said, dialogue in European capitals, consultation with interested parties, consultation with civil society and social partners, ensuring transparency in the management of the European Semester and recovery and resilience plans. The Semester has been able to adapt over the last 10 years. The Semester was able to adapt to the circumstances and the debates held in the parliamentary week, which took place a short time ago, illustrate this well. The preparation of plans is done in many countries in a participatory manner and Parliament will accompany the work of the Commission throughout the implementation of the plans. The Semester adapted to the exceptional circumstances we are experiencing. The budget rules were also being adjusted to the moment of crisis. The activation of the general scope waiver clause in 2021 is evidence of this. There is also a consensus that the clause must remain active until 2022. Furthermore, we believe that appropriate measures to support people must be maintained as long as necessary, promoting cohesion and convergence, promoting social and equality policies. , alongside sustainability and digital innovation. The European Semester must therefore continue to adapt. I am sure that the European Parliament will play its part in stimulating the broader debate that we have to have on budgetary rules and their place in the reconstruction of a post-pandemic Europe. The debate of today has shown that, while there are many differences, there are also many commonalities that provide us with a basis for working together. I therefore trust in our continuous cooperation, looking at the challenges that lie ahead and identifying suitable solutions to face them. Thank you, once again, for your attention.'\n",
    "tokens1_60 = word_tokenize(raw1_60)\n",
    "for word in tokens1_60:\n",
    "    print(word, end=' ')"
   ]
  },
  {
   "cell_type": "markdown",
   "metadata": {},
   "source": [
    "---\n",
    "### Combine all parts"
   ]
  },
  {
   "cell_type": "code",
   "execution_count": 63,
   "metadata": {},
   "outputs": [],
   "source": [
    "tokens = tokens1_1 + tokens1_2 + tokens1_3 + tokens1_4 + tokens1_5 + tokens1_6 + tokens1_7 + tokens1_8 + tokens1_9 + tokens1_10 + tokens1_11 + tokens1_12 + tokens1_13 + tokens1_14 + tokens1_15 + tokens1_16 + tokens1_17 + tokens1_18 + tokens1_19 + tokens1_20 + tokens1_21 + tokens1_22 + tokens1_23 + tokens1_24 + tokens1_25 + tokens1_26 + tokens1_27 + tokens1_28 + tokens1_29 + tokens1_30 + tokens1_31 + tokens1_32 + tokens1_33 + tokens1_34 + tokens1_35 + tokens1_36 + tokens1_37 + tokens1_38 + tokens1_39 + tokens1_40 + tokens1_41 + tokens1_42 + tokens1_43 + tokens1_44 + tokens1_45 + tokens1_46 + tokens1_47 + tokens1_48 + tokens1_49 + tokens1_50 + tokens1_51 + tokens1_52 + tokens1_53 + tokens1_54 + tokens1_55 + tokens1_56 + tokens1_57 + tokens1_58 + tokens1_59 + tokens1_60 "
   ]
  },
  {
   "cell_type": "markdown",
   "metadata": {},
   "source": [
    "---\n",
    "### Normalize the words "
   ]
  },
  {
   "cell_type": "code",
   "execution_count": 64,
   "metadata": {},
   "outputs": [],
   "source": [
    "type(tokens)\n",
    "eutext06 = [w.lower() for w in tokens]"
   ]
  },
  {
   "cell_type": "markdown",
   "metadata": {},
   "source": [
    "---\n",
    "**Save Output**"
   ]
  },
  {
   "cell_type": "code",
   "execution_count": 65,
   "metadata": {},
   "outputs": [],
   "source": [
    "save_path = '/Users/charlottekaiser/Documents/uni/Hertie/master_thesis/00_data/20_intermediate_files'\n",
    "file_name = \"EU06_European Semester - annual sustainable growth strategy 2021 – European Semester - employment and social aspects in the annual sustainable growth strategy 2021.txt\"\n",
    "completeName = os.path.join(save_path, file_name)\n",
    "output = open(completeName, 'w')\n",
    "print(eutext06, file=output)"
   ]
  }
 ],
 "metadata": {
  "interpreter": {
   "hash": "a9869976cf380d12cb70e759e57434a8e82bae01a9f74e734956416b40621c64"
  },
  "kernelspec": {
   "display_name": "Python 3.9.7 ('base')",
   "language": "python",
   "name": "python3"
  },
  "language_info": {
   "codemirror_mode": {
    "name": "ipython",
    "version": 3
   },
   "file_extension": ".py",
   "mimetype": "text/x-python",
   "name": "python",
   "nbconvert_exporter": "python",
   "pygments_lexer": "ipython3",
   "version": "3.9.7"
  },
  "orig_nbformat": 4
 },
 "nbformat": 4,
 "nbformat_minor": 2
}
